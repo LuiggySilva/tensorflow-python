{
  "nbformat": 4,
  "nbformat_minor": 0,
  "metadata": {
    "colab": {
      "name": "tensorflow2.1.0___redes_convolucionais.ipynb",
      "provenance": [],
      "machine_shape": "hm"
    },
    "kernelspec": {
      "name": "python3",
      "display_name": "Python 3"
    },
    "accelerator": "GPU"
  },
  "cells": [
    {
      "cell_type": "markdown",
      "metadata": {
        "id": "qeYK9dFJTiOM",
        "colab_type": "text"
      },
      "source": [
        "> # **TensorFlow  2.1.0** - ***02*** - *Redes Neurais Convolucionais*"
      ]
    },
    {
      "cell_type": "code",
      "metadata": {
        "id": "YzeZWSl0TNvx",
        "colab_type": "code",
        "colab": {
          "base_uri": "https://localhost:8080/",
          "height": 34
        },
        "outputId": "6c1670be-adb3-4d28-8d71-432ca4cbff3e"
      },
      "source": [
        "try:\n",
        "  # %tensorflow_version only exists in Colab.\n",
        "  %tensorflow_version 2.x\n",
        "except Exception:\n",
        "  pass\n",
        "import tensorflow.compat.v2.feature_column as fc\n",
        "\n",
        "import tensorflow as tf\n",
        "import matplotlib.pyplot as plt\n",
        "import numpy as np\n",
        "from random import randint\n",
        "from tensorflow.keras.datasets import cifar10 # https://www.cs.toronto.edu/~kriz/cifar.html"
      ],
      "execution_count": 1,
      "outputs": [
        {
          "output_type": "stream",
          "text": [
            "TensorFlow 2.x selected.\n"
          ],
          "name": "stdout"
        }
      ]
    },
    {
      "cell_type": "code",
      "metadata": {
        "id": "sNa_NBm1UrPm",
        "colab_type": "code",
        "colab": {
          "base_uri": "https://localhost:8080/",
          "height": 51
        },
        "outputId": "1a0396ab-ab01-4c1a-e63d-8b1d1d56e67d"
      },
      "source": [
        "# Separando base de dados\n",
        "(x_training, y_training), (x_test, y_test) = cifar10.load_data()"
      ],
      "execution_count": 2,
      "outputs": [
        {
          "output_type": "stream",
          "text": [
            "Downloading data from https://www.cs.toronto.edu/~kriz/cifar-10-python.tar.gz\n",
            "170500096/170498071 [==============================] - 11s 0us/step\n"
          ],
          "name": "stdout"
        }
      ]
    },
    {
      "cell_type": "code",
      "metadata": {
        "id": "0wQBVuTEUD7W",
        "colab_type": "code",
        "outputId": "444c8b4c-dc17-4969-8309-c6dc0c6c22de",
        "colab": {
          "base_uri": "https://localhost:8080/",
          "height": 1000
        }
      },
      "source": [
        "class_names = ['airplane', 'automobile', 'bird', 'cat', 'deer', 'dog', 'frog', 'horse', 'ship', 'truck']\n",
        "print(' - Shapes:')\n",
        "print(f'x_training.shape -> {x_training.shape}')\n",
        "print(f'x_test.shape -> {x_test.shape}')\n",
        "print(f'y_training.shape -> {y_training.shape}')\n",
        "print(f'y_test.shape -> {y_test.shape}', end='\\n'*2)\n",
        "print(f' - Dado:\\nx_training[0] ->\\n{x_training[0]}', end='\\n'*2)\n",
        "print(f' - Dado:\\nnp.unique(y_training) -> {np.unique(y_training)}', end='\\n'*2)\n",
        "print(f' - Nome das classes -> {class_names}')"
      ],
      "execution_count": 3,
      "outputs": [
        {
          "output_type": "stream",
          "text": [
            " - Shapes:\n",
            "x_training.shape -> (50000, 32, 32, 3)\n",
            "x_test.shape -> (10000, 32, 32, 3)\n",
            "y_training.shape -> (50000, 1)\n",
            "y_test.shape -> (10000, 1)\n",
            "\n",
            " - Dado:\n",
            "x_training[0] ->\n",
            "[[[ 59  62  63]\n",
            "  [ 43  46  45]\n",
            "  [ 50  48  43]\n",
            "  ...\n",
            "  [158 132 108]\n",
            "  [152 125 102]\n",
            "  [148 124 103]]\n",
            "\n",
            " [[ 16  20  20]\n",
            "  [  0   0   0]\n",
            "  [ 18   8   0]\n",
            "  ...\n",
            "  [123  88  55]\n",
            "  [119  83  50]\n",
            "  [122  87  57]]\n",
            "\n",
            " [[ 25  24  21]\n",
            "  [ 16   7   0]\n",
            "  [ 49  27   8]\n",
            "  ...\n",
            "  [118  84  50]\n",
            "  [120  84  50]\n",
            "  [109  73  42]]\n",
            "\n",
            " ...\n",
            "\n",
            " [[208 170  96]\n",
            "  [201 153  34]\n",
            "  [198 161  26]\n",
            "  ...\n",
            "  [160 133  70]\n",
            "  [ 56  31   7]\n",
            "  [ 53  34  20]]\n",
            "\n",
            " [[180 139  96]\n",
            "  [173 123  42]\n",
            "  [186 144  30]\n",
            "  ...\n",
            "  [184 148  94]\n",
            "  [ 97  62  34]\n",
            "  [ 83  53  34]]\n",
            "\n",
            " [[177 144 116]\n",
            "  [168 129  94]\n",
            "  [179 142  87]\n",
            "  ...\n",
            "  [216 184 140]\n",
            "  [151 118  84]\n",
            "  [123  92  72]]]\n",
            "\n",
            " - Dado:\n",
            "np.unique(y_training) -> [0 1 2 3 4 5 6 7 8 9]\n",
            "\n",
            " - Nome das classes -> ['airplane', 'automobile', 'bird', 'cat', 'deer', 'dog', 'frog', 'horse', 'ship', 'truck']\n"
          ],
          "name": "stdout"
        }
      ]
    },
    {
      "cell_type": "code",
      "metadata": {
        "id": "sLJQwerGUxLs",
        "colab_type": "code",
        "outputId": "077e0748-bb20-42e9-c1a5-8f25e06daad1",
        "colab": {
          "base_uri": "https://localhost:8080/",
          "height": 934
        }
      },
      "source": [
        "# Normalizando base de dados (Dividimos cada elemento(pixel) da base de dados por 255(maior valor de um pixel de uma imagem) para obter valores entre 0 e 1\n",
        "print(' - Normalizando base de dados\\n...')\n",
        "x_training = x_training / 255.0\n",
        "x_test = x_test / 255.0\n",
        "print(f' - Dado normalizado:\\nx_training[0] ->\\n{x_training[0]}')"
      ],
      "execution_count": 4,
      "outputs": [
        {
          "output_type": "stream",
          "text": [
            " - Normalizando base de dados\n",
            "...\n",
            " - Dado normalizado:\n",
            "x_training[0] ->\n",
            "[[[0.23137255 0.24313725 0.24705882]\n",
            "  [0.16862745 0.18039216 0.17647059]\n",
            "  [0.19607843 0.18823529 0.16862745]\n",
            "  ...\n",
            "  [0.61960784 0.51764706 0.42352941]\n",
            "  [0.59607843 0.49019608 0.4       ]\n",
            "  [0.58039216 0.48627451 0.40392157]]\n",
            "\n",
            " [[0.0627451  0.07843137 0.07843137]\n",
            "  [0.         0.         0.        ]\n",
            "  [0.07058824 0.03137255 0.        ]\n",
            "  ...\n",
            "  [0.48235294 0.34509804 0.21568627]\n",
            "  [0.46666667 0.3254902  0.19607843]\n",
            "  [0.47843137 0.34117647 0.22352941]]\n",
            "\n",
            " [[0.09803922 0.09411765 0.08235294]\n",
            "  [0.0627451  0.02745098 0.        ]\n",
            "  [0.19215686 0.10588235 0.03137255]\n",
            "  ...\n",
            "  [0.4627451  0.32941176 0.19607843]\n",
            "  [0.47058824 0.32941176 0.19607843]\n",
            "  [0.42745098 0.28627451 0.16470588]]\n",
            "\n",
            " ...\n",
            "\n",
            " [[0.81568627 0.66666667 0.37647059]\n",
            "  [0.78823529 0.6        0.13333333]\n",
            "  [0.77647059 0.63137255 0.10196078]\n",
            "  ...\n",
            "  [0.62745098 0.52156863 0.2745098 ]\n",
            "  [0.21960784 0.12156863 0.02745098]\n",
            "  [0.20784314 0.13333333 0.07843137]]\n",
            "\n",
            " [[0.70588235 0.54509804 0.37647059]\n",
            "  [0.67843137 0.48235294 0.16470588]\n",
            "  [0.72941176 0.56470588 0.11764706]\n",
            "  ...\n",
            "  [0.72156863 0.58039216 0.36862745]\n",
            "  [0.38039216 0.24313725 0.13333333]\n",
            "  [0.3254902  0.20784314 0.13333333]]\n",
            "\n",
            " [[0.69411765 0.56470588 0.45490196]\n",
            "  [0.65882353 0.50588235 0.36862745]\n",
            "  [0.70196078 0.55686275 0.34117647]\n",
            "  ...\n",
            "  [0.84705882 0.72156863 0.54901961]\n",
            "  [0.59215686 0.4627451  0.32941176]\n",
            "  [0.48235294 0.36078431 0.28235294]]]\n"
          ],
          "name": "stdout"
        }
      ]
    },
    {
      "cell_type": "code",
      "metadata": {
        "id": "5Z3ut3Q0VSv5",
        "colab_type": "code",
        "outputId": "ba0cf642-8c98-4342-9666-aeb47f269387",
        "colab": {
          "base_uri": "https://localhost:8080/",
          "height": 383
        }
      },
      "source": [
        "# Exemplo da base de dados\n",
        "fig, axs = plt.subplots(nrows=2, ncols=5, figsize=(15, 7))\n",
        "axs = list(axs)\n",
        "#    classes 0, 1, 2, 3, 4, 5, 6, 7, 8, 9\n",
        "img_indexs = [49,45,18,39,28,27,22,12,8,2] \n",
        "\n",
        "index = 0\n",
        "for line_axs in axs:\n",
        "  for i in range(len(line_axs)):\n",
        "    ax = line_axs[i]\n",
        "    ax.imshow(x_training[img_indexs[index]].reshape((32,32, 3)))\n",
        "    ax.axis('off')\n",
        "    index += 1"
      ],
      "execution_count": 5,
      "outputs": [
        {
          "output_type": "display_data",
          "data": {
            "image/png": "[encoded data removed]",
            "text/plain": [
              "<Figure size 1080x504 with 10 Axes>"
            ]
          },
          "metadata": {
            "tags": []
          }
        }
      ]
    },
    {
      "cell_type": "code",
      "metadata": {
        "colab_type": "code",
        "outputId": "8dcd1e02-40e6-4f9d-9193-d1312612ca1c",
        "id": "wSYf7MbscTQJ",
        "colab": {
          "base_uri": "https://localhost:8080/",
          "height": 553
        }
      },
      "source": [
        "# Construindo a rede neural\n",
        "neuronios_entrada = (32, 32, 3)\n",
        "neuronios_oculta = 128\n",
        "neuronios_saida = 10\n",
        "\n",
        "# Criando o modelo\n",
        "model = tf.keras.models.Sequential()\n",
        "# Camadas de Convolução e MaxPooling \n",
        "model.add(tf.keras.layers.Conv2D(filters= 32, kernel_size= 3, padding= 'same', activation= 'relu', input_shape= neuronios_entrada)) # Convoluçao 1\n",
        "model.add(tf.keras.layers.Conv2D(filters= 32, kernel_size= 3, padding= 'same', activation= 'relu')) # Convoluçao 2\n",
        "model.add(tf.keras.layers.MaxPooling2D(pool_size= 2, strides= 2, padding='valid')) # MaxPolling 1\n",
        "model.add(tf.keras.layers.Conv2D(filters= 64, kernel_size= 3, padding= 'same', activation= 'relu')) # Convoluçao 3\n",
        "model.add(tf.keras.layers.Conv2D(filters= 64, kernel_size= 3, padding= 'same', activation= 'relu')) # Convoluçao 4\n",
        "model.add(tf.keras.layers.MaxPooling2D(pool_size= 2, strides= 2, padding='valid')) # MaxPolling 2\n",
        "# Camada de Flatting\n",
        "model.add(tf.keras.layers.Flatten())\n",
        "# Camada de entrada\n",
        "model.add(tf.keras.layers.Dropout(0.1))\n",
        "model.add(tf.keras.layers.Dense(units= neuronios_oculta, activation= 'relu'))\n",
        "model.add(tf.keras.layers.Dense(units= neuronios_oculta, activation= 'relu'))\n",
        "# Camada de saida\n",
        "model.add(tf.keras.layers.Dense(units= neuronios_saida, activation= 'softmax'))\n",
        "\n",
        "print(' - Resumo do modelo')\n",
        "model.summary()"
      ],
      "execution_count": 6,
      "outputs": [
        {
          "output_type": "stream",
          "text": [
            " - Resumo do modelo\n",
            "Model: \"sequential\"\n",
            "_________________________________________________________________\n",
            "Layer (type)                 Output Shape              Param #   \n",
            "=================================================================\n",
            "conv2d (Conv2D)              (None, 32, 32, 32)        896       \n",
            "_________________________________________________________________\n",
            "conv2d_1 (Conv2D)            (None, 32, 32, 32)        9248      \n",
            "_________________________________________________________________\n",
            "max_pooling2d (MaxPooling2D) (None, 16, 16, 32)        0         \n",
            "_________________________________________________________________\n",
            "conv2d_2 (Conv2D)            (None, 16, 16, 64)        18496     \n",
            "_________________________________________________________________\n",
            "conv2d_3 (Conv2D)            (None, 16, 16, 64)        36928     \n",
            "_________________________________________________________________\n",
            "max_pooling2d_1 (MaxPooling2 (None, 8, 8, 64)          0         \n",
            "_________________________________________________________________\n",
            "flatten (Flatten)            (None, 4096)              0         \n",
            "_________________________________________________________________\n",
            "dropout (Dropout)            (None, 4096)              0         \n",
            "_________________________________________________________________\n",
            "dense (Dense)                (None, 128)               524416    \n",
            "_________________________________________________________________\n",
            "dense_1 (Dense)              (None, 128)               16512     \n",
            "_________________________________________________________________\n",
            "dense_2 (Dense)              (None, 10)                1290      \n",
            "=================================================================\n",
            "Total params: 607,786\n",
            "Trainable params: 607,786\n",
            "Non-trainable params: 0\n",
            "_________________________________________________________________\n"
          ],
          "name": "stdout"
        }
      ]
    },
    {
      "cell_type": "code",
      "metadata": {
        "id": "r5Rap4-0cyYH",
        "colab_type": "code",
        "outputId": "ea3f9325-8b96-4135-bf30-84b597509593",
        "colab": {
          "base_uri": "https://localhost:8080/",
          "height": 415
        }
      },
      "source": [
        "# Compilando modelo\n",
        "model.compile(optimizer= 'adam', loss= 'sparse_categorical_crossentropy', metrics= ['sparse_categorical_accuracy'])\n",
        "\n",
        "# Treinamento do modelo\n",
        "print(' - Treinamento do modelo')\n",
        "model.fit(x_training, y_training, epochs= 10)"
      ],
      "execution_count": 7,
      "outputs": [
        {
          "output_type": "stream",
          "text": [
            " - Treinamento do modelo\n",
            "Train on 50000 samples\n",
            "Epoch 1/10\n",
            "50000/50000 [==============================] - 13s 258us/sample - loss: 1.4327 - sparse_categorical_accuracy: 0.4725\n",
            "Epoch 2/10\n",
            "50000/50000 [==============================] - 6s 121us/sample - loss: 0.9574 - sparse_categorical_accuracy: 0.6590\n",
            "Epoch 3/10\n",
            "50000/50000 [==============================] - 6s 123us/sample - loss: 0.7823 - sparse_categorical_accuracy: 0.7222\n",
            "Epoch 4/10\n",
            "50000/50000 [==============================] - 6s 129us/sample - loss: 0.6682 - sparse_categorical_accuracy: 0.7629\n",
            "Epoch 5/10\n",
            "50000/50000 [==============================] - 6s 125us/sample - loss: 0.5813 - sparse_categorical_accuracy: 0.7947\n",
            "Epoch 6/10\n",
            "50000/50000 [==============================] - 6s 124us/sample - loss: 0.5020 - sparse_categorical_accuracy: 0.8224\n",
            "Epoch 7/10\n",
            "50000/50000 [==============================] - 6s 122us/sample - loss: 0.4417 - sparse_categorical_accuracy: 0.8439\n",
            "Epoch 8/10\n",
            "50000/50000 [==============================] - 6s 121us/sample - loss: 0.3815 - sparse_categorical_accuracy: 0.8658\n",
            "Epoch 9/10\n",
            "50000/50000 [==============================] - 6s 121us/sample - loss: 0.3352 - sparse_categorical_accuracy: 0.8821\n",
            "Epoch 10/10\n",
            "50000/50000 [==============================] - 6s 123us/sample - loss: 0.2934 - sparse_categorical_accuracy: 0.8954\n"
          ],
          "name": "stdout"
        },
        {
          "output_type": "execute_result",
          "data": {
            "text/plain": [
              "<tensorflow.python.keras.callbacks.History at 0x7f07de57ab00>"
            ]
          },
          "metadata": {
            "tags": []
          },
          "execution_count": 7
        }
      ]
    },
    {
      "cell_type": "code",
      "metadata": {
        "id": "w1CfXr4kc13D",
        "colab_type": "code",
        "outputId": "009e2520-f841-4498-95ae-b8947ef7774b",
        "colab": {
          "base_uri": "https://localhost:8080/",
          "height": 69
        }
      },
      "source": [
        "# Avaliando o modelo\n",
        "print(' - Avaliando o modelo')\n",
        "test_loss, test_accuracy = model.evaluate(x_test, y_test)\n",
        "print(f'Taxa de acerto -> {test_accuracy}')"
      ],
      "execution_count": 8,
      "outputs": [
        {
          "output_type": "stream",
          "text": [
            " - Avaliando o modelo\n",
            "10000/10000 [==============================] - 1s 105us/sample - loss: 0.9721 - sparse_categorical_accuracy: 0.7373\n",
            "Taxa de acerto -> 0.7372999787330627\n"
          ],
          "name": "stdout"
        }
      ]
    },
    {
      "cell_type": "code",
      "metadata": {
        "id": "GHZ6JER-c_nx",
        "colab_type": "code",
        "outputId": "0d84f99d-183d-421f-ea30-72bfdb8fbf81",
        "colab": {
          "base_uri": "https://localhost:8080/",
          "height": 86
        }
      },
      "source": [
        "# Salvando o modelo\n",
        "print(' - Salvando o modelo ...')\n",
        "model_json = model.to_json()\n",
        "with open('cifar10_model.json', 'w') as json_file:\n",
        "    json_file.write(model_json)\n",
        "    print('Modelo salvo!')\n",
        "\n",
        "# Salvando os pesos\n",
        "print(' - Salvando os pesos do modelo ...')\n",
        "model.save_weights('cifar10_model.h5')\n",
        "print('Pesos do modelos salvos!')"
      ],
      "execution_count": 9,
      "outputs": [
        {
          "output_type": "stream",
          "text": [
            " - Salvando o modelo ...\n",
            "Modelo salvo!\n",
            " - Salvando os pesos do modelo ...\n",
            "Pesos do modelos salvos!\n"
          ],
          "name": "stdout"
        }
      ]
    }
  ]
}