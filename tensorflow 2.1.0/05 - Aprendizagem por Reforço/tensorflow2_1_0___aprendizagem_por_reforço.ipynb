{
  "nbformat": 4,
  "nbformat_minor": 0,
  "metadata": {
    "colab": {
      "name": "tensorflow2.1.0___aprendizagem_por_reforço.ipynb",
      "provenance": []
    },
    "kernelspec": {
      "name": "python3",
      "display_name": "Python 3"
    },
    "accelerator": "GPU"
  },
  "cells": [
    {
      "cell_type": "markdown",
      "metadata": {
        "id": "y6cAgRZ6Bmzu",
        "colab_type": "text"
      },
      "source": [
        "> # **TensorFlow  2.1.0** - ***05*** - *Aprendizagem por Reforço*\n",
        "\n"
      ]
    },
    {
      "cell_type": "code",
      "metadata": {
        "id": "qp6v_eYCBaC-",
        "colab_type": "code",
        "outputId": "bb3a9332-5a60-4d5d-e71a-719f10db1195",
        "colab": {
          "base_uri": "https://localhost:8080/",
          "height": 262
        }
      },
      "source": [
        "!pip install pandas-datareader"
      ],
      "execution_count": 0,
      "outputs": [
        {
          "output_type": "stream",
          "text": [
            "Requirement already satisfied: pandas-datareader in /usr/local/lib/python3.6/dist-packages (0.7.4)\n",
            "Requirement already satisfied: lxml in /usr/local/lib/python3.6/dist-packages (from pandas-datareader) (4.2.6)\n",
            "Requirement already satisfied: pandas>=0.19.2 in /usr/local/lib/python3.6/dist-packages (from pandas-datareader) (0.25.3)\n",
            "Requirement already satisfied: wrapt in /usr/local/lib/python3.6/dist-packages (from pandas-datareader) (1.11.2)\n",
            "Requirement already satisfied: requests>=2.3.0 in /usr/local/lib/python3.6/dist-packages (from pandas-datareader) (2.21.0)\n",
            "Requirement already satisfied: pytz>=2017.2 in /usr/local/lib/python3.6/dist-packages (from pandas>=0.19.2->pandas-datareader) (2018.9)\n",
            "Requirement already satisfied: python-dateutil>=2.6.1 in /usr/local/lib/python3.6/dist-packages (from pandas>=0.19.2->pandas-datareader) (2.6.1)\n",
            "Requirement already satisfied: numpy>=1.13.3 in /usr/local/lib/python3.6/dist-packages (from pandas>=0.19.2->pandas-datareader) (1.17.5)\n",
            "Requirement already satisfied: chardet<3.1.0,>=3.0.2 in /usr/local/lib/python3.6/dist-packages (from requests>=2.3.0->pandas-datareader) (3.0.4)\n",
            "Requirement already satisfied: idna<2.9,>=2.5 in /usr/local/lib/python3.6/dist-packages (from requests>=2.3.0->pandas-datareader) (2.8)\n",
            "Requirement already satisfied: urllib3<1.25,>=1.21.1 in /usr/local/lib/python3.6/dist-packages (from requests>=2.3.0->pandas-datareader) (1.24.3)\n",
            "Requirement already satisfied: certifi>=2017.4.17 in /usr/local/lib/python3.6/dist-packages (from requests>=2.3.0->pandas-datareader) (2019.11.28)\n",
            "Requirement already satisfied: six>=1.5 in /usr/local/lib/python3.6/dist-packages (from python-dateutil>=2.6.1->pandas>=0.19.2->pandas-datareader) (1.12.0)\n"
          ],
          "name": "stdout"
        }
      ]
    },
    {
      "cell_type": "code",
      "metadata": {
        "id": "MVKkIY1zCQl2",
        "colab_type": "code",
        "outputId": "19f334d0-b325-4aa2-b4d0-693e6e783810",
        "colab": {
          "base_uri": "https://localhost:8080/",
          "height": 937
        }
      },
      "source": [
        "!pip install tensorflow-gpu==2.0.0.alpha0\n",
        "\n",
        "import math\n",
        "import random\n",
        "import numpy as np\n",
        "import pandas as pd\n",
        "import tensorflow as tf\n",
        "import matplotlib.pyplot as plt\n",
        "import pandas_datareader as data_reader\n",
        "\n",
        "from tqdm import tqdm_notebook, tqdm\n",
        "from collections import deque\n",
        "tf.__version__"
      ],
      "execution_count": 0,
      "outputs": [
        {
          "output_type": "stream",
          "text": [
            "Collecting tensorflow-gpu==2.0.0.alpha0\n",
            "\u001b[?25l  Downloading https://files.pythonhosted.org/packages/1a/66/32cffad095253219d53f6b6c2a436637bbe45ac4e7be0244557210dc3918/tensorflow_gpu-2.0.0a0-cp36-cp36m-manylinux1_x86_64.whl (332.1MB)\n",
            "\u001b[K     |████████████████████████████████| 332.1MB 46kB/s \n",
            "\u001b[?25hRequirement already satisfied: keras-preprocessing>=1.0.5 in /usr/local/lib/python3.6/dist-packages (from tensorflow-gpu==2.0.0.alpha0) (1.1.0)\n",
            "Requirement already satisfied: protobuf>=3.6.1 in /usr/local/lib/python3.6/dist-packages (from tensorflow-gpu==2.0.0.alpha0) (3.10.0)\n",
            "Requirement already satisfied: absl-py>=0.7.0 in /usr/local/lib/python3.6/dist-packages (from tensorflow-gpu==2.0.0.alpha0) (0.9.0)\n",
            "Requirement already satisfied: wheel>=0.26 in /usr/local/lib/python3.6/dist-packages (from tensorflow-gpu==2.0.0.alpha0) (0.34.2)\n",
            "Requirement already satisfied: google-pasta>=0.1.2 in /usr/local/lib/python3.6/dist-packages (from tensorflow-gpu==2.0.0.alpha0) (0.1.8)\n",
            "Requirement already satisfied: astor>=0.6.0 in /usr/local/lib/python3.6/dist-packages (from tensorflow-gpu==2.0.0.alpha0) (0.8.1)\n",
            "Requirement already satisfied: gast>=0.2.0 in /usr/local/lib/python3.6/dist-packages (from tensorflow-gpu==2.0.0.alpha0) (0.2.2)\n",
            "Collecting tb-nightly<1.14.0a20190302,>=1.14.0a20190301\n",
            "\u001b[?25l  Downloading https://files.pythonhosted.org/packages/a9/51/aa1d756644bf4624c03844115e4ac4058eff77acd786b26315f051a4b195/tb_nightly-1.14.0a20190301-py3-none-any.whl (3.0MB)\n",
            "\u001b[K     |████████████████████████████████| 3.0MB 49.3MB/s \n",
            "\u001b[?25hRequirement already satisfied: grpcio>=1.8.6 in /usr/local/lib/python3.6/dist-packages (from tensorflow-gpu==2.0.0.alpha0) (1.27.1)\n",
            "Requirement already satisfied: termcolor>=1.1.0 in /usr/local/lib/python3.6/dist-packages (from tensorflow-gpu==2.0.0.alpha0) (1.1.0)\n",
            "Collecting tf-estimator-nightly<1.14.0.dev2019030116,>=1.14.0.dev2019030115\n",
            "\u001b[?25l  Downloading https://files.pythonhosted.org/packages/13/82/f16063b4eed210dc2ab057930ac1da4fbe1e91b7b051a6c8370b401e6ae7/tf_estimator_nightly-1.14.0.dev2019030115-py2.py3-none-any.whl (411kB)\n",
            "\u001b[K     |████████████████████████████████| 419kB 60.8MB/s \n",
            "\u001b[?25hRequirement already satisfied: six>=1.10.0 in /usr/local/lib/python3.6/dist-packages (from tensorflow-gpu==2.0.0.alpha0) (1.12.0)\n",
            "Requirement already satisfied: numpy<2.0,>=1.14.5 in /usr/local/lib/python3.6/dist-packages (from tensorflow-gpu==2.0.0.alpha0) (1.17.5)\n",
            "Requirement already satisfied: keras-applications>=1.0.6 in /usr/local/lib/python3.6/dist-packages (from tensorflow-gpu==2.0.0.alpha0) (1.0.8)\n",
            "Requirement already satisfied: setuptools in /usr/local/lib/python3.6/dist-packages (from protobuf>=3.6.1->tensorflow-gpu==2.0.0.alpha0) (45.1.0)\n",
            "Requirement already satisfied: werkzeug>=0.11.15 in /usr/local/lib/python3.6/dist-packages (from tb-nightly<1.14.0a20190302,>=1.14.0a20190301->tensorflow-gpu==2.0.0.alpha0) (1.0.0)\n",
            "Requirement already satisfied: markdown>=2.6.8 in /usr/local/lib/python3.6/dist-packages (from tb-nightly<1.14.0a20190302,>=1.14.0a20190301->tensorflow-gpu==2.0.0.alpha0) (3.2.1)\n",
            "Requirement already satisfied: h5py in /usr/local/lib/python3.6/dist-packages (from keras-applications>=1.0.6->tensorflow-gpu==2.0.0.alpha0) (2.8.0)\n",
            "Installing collected packages: tb-nightly, tf-estimator-nightly, tensorflow-gpu\n",
            "Successfully installed tb-nightly-1.14.0a20190301 tensorflow-gpu-2.0.0a0 tf-estimator-nightly-1.14.0.dev2019030115\n"
          ],
          "name": "stdout"
        },
        {
          "output_type": "stream",
          "text": [
            "/usr/local/lib/python3.6/dist-packages/tensorflow/python/framework/dtypes.py:523: FutureWarning: Passing (type, 1) or '1type' as a synonym of type is deprecated; in a future version of numpy, it will be understood as (type, (1,)) / '(1,)type'.\n",
            "  _np_qint8 = np.dtype([(\"qint8\", np.int8, 1)])\n",
            "/usr/local/lib/python3.6/dist-packages/tensorflow/python/framework/dtypes.py:524: FutureWarning: Passing (type, 1) or '1type' as a synonym of type is deprecated; in a future version of numpy, it will be understood as (type, (1,)) / '(1,)type'.\n",
            "  _np_quint8 = np.dtype([(\"quint8\", np.uint8, 1)])\n",
            "/usr/local/lib/python3.6/dist-packages/tensorflow/python/framework/dtypes.py:525: FutureWarning: Passing (type, 1) or '1type' as a synonym of type is deprecated; in a future version of numpy, it will be understood as (type, (1,)) / '(1,)type'.\n",
            "  _np_qint16 = np.dtype([(\"qint16\", np.int16, 1)])\n",
            "/usr/local/lib/python3.6/dist-packages/tensorflow/python/framework/dtypes.py:526: FutureWarning: Passing (type, 1) or '1type' as a synonym of type is deprecated; in a future version of numpy, it will be understood as (type, (1,)) / '(1,)type'.\n",
            "  _np_quint16 = np.dtype([(\"quint16\", np.uint16, 1)])\n",
            "/usr/local/lib/python3.6/dist-packages/tensorflow/python/framework/dtypes.py:527: FutureWarning: Passing (type, 1) or '1type' as a synonym of type is deprecated; in a future version of numpy, it will be understood as (type, (1,)) / '(1,)type'.\n",
            "  _np_qint32 = np.dtype([(\"qint32\", np.int32, 1)])\n",
            "/usr/local/lib/python3.6/dist-packages/tensorflow/python/framework/dtypes.py:532: FutureWarning: Passing (type, 1) or '1type' as a synonym of type is deprecated; in a future version of numpy, it will be understood as (type, (1,)) / '(1,)type'.\n",
            "  np_resource = np.dtype([(\"resource\", np.ubyte, 1)])\n",
            "/usr/local/lib/python3.6/dist-packages/tensorboard/compat/tensorflow_stub/dtypes.py:541: FutureWarning: Passing (type, 1) or '1type' as a synonym of type is deprecated; in a future version of numpy, it will be understood as (type, (1,)) / '(1,)type'.\n",
            "  _np_qint8 = np.dtype([(\"qint8\", np.int8, 1)])\n",
            "/usr/local/lib/python3.6/dist-packages/tensorboard/compat/tensorflow_stub/dtypes.py:542: FutureWarning: Passing (type, 1) or '1type' as a synonym of type is deprecated; in a future version of numpy, it will be understood as (type, (1,)) / '(1,)type'.\n",
            "  _np_quint8 = np.dtype([(\"quint8\", np.uint8, 1)])\n",
            "/usr/local/lib/python3.6/dist-packages/tensorboard/compat/tensorflow_stub/dtypes.py:543: FutureWarning: Passing (type, 1) or '1type' as a synonym of type is deprecated; in a future version of numpy, it will be understood as (type, (1,)) / '(1,)type'.\n",
            "  _np_qint16 = np.dtype([(\"qint16\", np.int16, 1)])\n",
            "/usr/local/lib/python3.6/dist-packages/tensorboard/compat/tensorflow_stub/dtypes.py:544: FutureWarning: Passing (type, 1) or '1type' as a synonym of type is deprecated; in a future version of numpy, it will be understood as (type, (1,)) / '(1,)type'.\n",
            "  _np_quint16 = np.dtype([(\"quint16\", np.uint16, 1)])\n",
            "/usr/local/lib/python3.6/dist-packages/tensorboard/compat/tensorflow_stub/dtypes.py:545: FutureWarning: Passing (type, 1) or '1type' as a synonym of type is deprecated; in a future version of numpy, it will be understood as (type, (1,)) / '(1,)type'.\n",
            "  _np_qint32 = np.dtype([(\"qint32\", np.int32, 1)])\n",
            "/usr/local/lib/python3.6/dist-packages/tensorboard/compat/tensorflow_stub/dtypes.py:550: FutureWarning: Passing (type, 1) or '1type' as a synonym of type is deprecated; in a future version of numpy, it will be understood as (type, (1,)) / '(1,)type'.\n",
            "  np_resource = np.dtype([(\"resource\", np.ubyte, 1)])\n"
          ],
          "name": "stderr"
        },
        {
          "output_type": "execute_result",
          "data": {
            "text/plain": [
              "'2.0.0-alpha0'"
            ]
          },
          "metadata": {
            "tags": []
          },
          "execution_count": 2
        }
      ]
    },
    {
      "cell_type": "code",
      "metadata": {
        "id": "lhB0b4wACojE",
        "colab_type": "code",
        "colab": {}
      },
      "source": [
        "# Classe IA Trader para negociação no mercado de ações\n",
        "\n",
        "class AI_Trader():\n",
        "  def __init__(self, state_size, action_space= 3, model_name= 'AITrader'):\n",
        "    # Quantos estados existem no ambiente (Entrada)\n",
        "    self.state_size = state_size \n",
        "    # Quantidade de ações possiveis\n",
        "    self.action_space = action_space\n",
        "    # Experiência de Replay\n",
        "    self.memory = deque(maxlen= 2000)\n",
        "    self.model_name = model_name\n",
        "\n",
        "    # Fator de desconto da equação de Bellman\n",
        "    self.gamma = 0.95\n",
        "    # Indica se as ações sao tomadas randomicamente ou pela rede neural (inicialmete as ações são aleatorias)\n",
        "    self.epsilon = 1.0\n",
        "    self.epsilon_final = 0.01\n",
        "    self.epsilon_decay = 0.995\n",
        "    self.model = self.mode_builder()\n",
        "  \n",
        "  def mode_builder(self):\n",
        "    # Rede Neural\n",
        "    model = tf.keras.models.Sequential()\n",
        "    # Camada de entrada e camanda oculta 1\n",
        "    model.add(tf.keras.layers.Dense(units= 32,  activation= 'relu', input_dim= self.state_size))\n",
        "    model.add(tf.keras.layers.Dense(units= 64,  activation= 'relu')) # Camada oculta 2\n",
        "    model.add(tf.keras.layers.Dense(units= 128, activation= 'relu')) # Camada oculta 3\n",
        "    # Camada de saida\n",
        "    model.add(tf.keras.layers.Dense(units= self.action_space, activation= 'linear'))\n",
        "\n",
        "    model.compile(loss= 'mse', optimizer= tf.keras.optimizers.Adam(lr = 0.001))\n",
        "    return model\n",
        "  \n",
        "  def trade(self, state):\n",
        "    if(random.random() <= self.epsilon):\n",
        "      return random.randrange(self.action_space)\n",
        "    \n",
        "    actions = self.model.predict(state)\n",
        "    return np.argmax(actions[0])\n",
        "  \n",
        "  def batch_train(self, batch_size):\n",
        "    batch = []\n",
        "    for i in range(len(self.memory) - batch_size + 1, len(self.memory)): # Os ultimos registros da memória\n",
        "      batch.append(self.memory[i])\n",
        "    \n",
        "    for state, action, reward, next_state, done in batch:\n",
        "      if not done:\n",
        "        # Equação de Bellman\n",
        "        reward = reward + self.gamma * np.amax(self.model.predict(next_state)[0])\n",
        "\n",
        "      target = self.model.predict(state)\n",
        "      target[0][action] = reward\n",
        "\n",
        "      self.model.fit(state, target, epochs= 1, verbose= 0) # verbose = 0 -> sem log de treinamento\n",
        "    \n",
        "    if(self.epsilon > self.epsilon_final):\n",
        "      self.epsilon *= self.epsilon_decay"
      ],
      "execution_count": 0,
      "outputs": []
    },
    {
      "cell_type": "code",
      "metadata": {
        "id": "KuO6h3F3EnDX",
        "colab_type": "code",
        "outputId": "ccd3f332-ed4c-4960-ea97-0d42ced87b21",
        "colab": {
          "base_uri": "https://localhost:8080/",
          "height": 86
        }
      },
      "source": [
        "# função sigmoid\n",
        "def sigmoid(x):\n",
        "  return 1 / (1 + math.exp(-x))\n",
        "\n",
        "# função para formatação dos preços\n",
        "def stocks_price_format(n):\n",
        "  if (n < 0):\n",
        "    return \"- $ {0:2f}\".format(abs(n))\n",
        "  else:\n",
        "    return \"$ {0:2f}\".format(abs(n))\n",
        "\n",
        "print(sigmoid(0.5))\n",
        "print(sigmoid(-0.5))\n",
        "print(stocks_price_format(100))\n",
        "print(stocks_price_format(-100))"
      ],
      "execution_count": 0,
      "outputs": [
        {
          "output_type": "stream",
          "text": [
            "0.6224593312018546\n",
            "0.3775406687981454\n",
            "$ 100.000000\n",
            "- $ 100.000000\n"
          ],
          "name": "stdout"
        }
      ]
    },
    {
      "cell_type": "code",
      "metadata": {
        "id": "sz2nFP3LK7rl",
        "colab_type": "code",
        "outputId": "d0b1daa8-f4e5-4423-9174-d2f0bbe79c79",
        "colab": {
          "base_uri": "https://localhost:8080/",
          "height": 271
        }
      },
      "source": [
        "# pré-processamento da base de dados\n",
        "dataset = data_reader.DataReader('AAPL', data_source= 'yahoo')\n",
        "print(str(dataset.index[0]).split()[0])\n",
        "print(dataset.shape)\n",
        "dataset.head()"
      ],
      "execution_count": 0,
      "outputs": [
        {
          "output_type": "stream",
          "text": [
            "2010-01-04\n",
            "(2557, 6)\n"
          ],
          "name": "stdout"
        },
        {
          "output_type": "execute_result",
          "data": {
            "text/html": [
              "<div>\n",
              "<style scoped>\n",
              "    .dataframe tbody tr th:only-of-type {\n",
              "        vertical-align: middle;\n",
              "    }\n",
              "\n",
              "    .dataframe tbody tr th {\n",
              "        vertical-align: top;\n",
              "    }\n",
              "\n",
              "    .dataframe thead th {\n",
              "        text-align: right;\n",
              "    }\n",
              "</style>\n",
              "<table border=\"1\" class=\"dataframe\">\n",
              "  <thead>\n",
              "    <tr style=\"text-align: right;\">\n",
              "      <th></th>\n",
              "      <th>High</th>\n",
              "      <th>Low</th>\n",
              "      <th>Open</th>\n",
              "      <th>Close</th>\n",
              "      <th>Volume</th>\n",
              "      <th>Adj Close</th>\n",
              "    </tr>\n",
              "    <tr>\n",
              "      <th>Date</th>\n",
              "      <th></th>\n",
              "      <th></th>\n",
              "      <th></th>\n",
              "      <th></th>\n",
              "      <th></th>\n",
              "      <th></th>\n",
              "    </tr>\n",
              "  </thead>\n",
              "  <tbody>\n",
              "    <tr>\n",
              "      <th>2010-01-04</th>\n",
              "      <td>30.642857</td>\n",
              "      <td>30.340000</td>\n",
              "      <td>30.490000</td>\n",
              "      <td>30.572857</td>\n",
              "      <td>123432400.0</td>\n",
              "      <td>26.538483</td>\n",
              "    </tr>\n",
              "    <tr>\n",
              "      <th>2010-01-05</th>\n",
              "      <td>30.798571</td>\n",
              "      <td>30.464285</td>\n",
              "      <td>30.657143</td>\n",
              "      <td>30.625713</td>\n",
              "      <td>150476200.0</td>\n",
              "      <td>26.584366</td>\n",
              "    </tr>\n",
              "    <tr>\n",
              "      <th>2010-01-06</th>\n",
              "      <td>30.747143</td>\n",
              "      <td>30.107143</td>\n",
              "      <td>30.625713</td>\n",
              "      <td>30.138571</td>\n",
              "      <td>138040000.0</td>\n",
              "      <td>26.161509</td>\n",
              "    </tr>\n",
              "    <tr>\n",
              "      <th>2010-01-07</th>\n",
              "      <td>30.285715</td>\n",
              "      <td>29.864286</td>\n",
              "      <td>30.250000</td>\n",
              "      <td>30.082857</td>\n",
              "      <td>119282800.0</td>\n",
              "      <td>26.113146</td>\n",
              "    </tr>\n",
              "    <tr>\n",
              "      <th>2010-01-08</th>\n",
              "      <td>30.285715</td>\n",
              "      <td>29.865715</td>\n",
              "      <td>30.042856</td>\n",
              "      <td>30.282858</td>\n",
              "      <td>111902700.0</td>\n",
              "      <td>26.286753</td>\n",
              "    </tr>\n",
              "  </tbody>\n",
              "</table>\n",
              "</div>"
            ],
            "text/plain": [
              "                 High        Low       Open      Close       Volume  Adj Close\n",
              "Date                                                                          \n",
              "2010-01-04  30.642857  30.340000  30.490000  30.572857  123432400.0  26.538483\n",
              "2010-01-05  30.798571  30.464285  30.657143  30.625713  150476200.0  26.584366\n",
              "2010-01-06  30.747143  30.107143  30.625713  30.138571  138040000.0  26.161509\n",
              "2010-01-07  30.285715  29.864286  30.250000  30.082857  119282800.0  26.113146\n",
              "2010-01-08  30.285715  29.865715  30.042856  30.282858  111902700.0  26.286753"
            ]
          },
          "metadata": {
            "tags": []
          },
          "execution_count": 5
        }
      ]
    },
    {
      "cell_type": "code",
      "metadata": {
        "id": "H3njQ2DgP7XK",
        "colab_type": "code",
        "outputId": "83df29ff-05f5-4cca-d1d4-1ad06228b822",
        "colab": {
          "base_uri": "https://localhost:8080/",
          "height": 242
        }
      },
      "source": [
        "dataset['Close']"
      ],
      "execution_count": 0,
      "outputs": [
        {
          "output_type": "execute_result",
          "data": {
            "text/plain": [
              "Date\n",
              "2010-01-04     30.572857\n",
              "2010-01-05     30.625713\n",
              "2010-01-06     30.138571\n",
              "2010-01-07     30.082857\n",
              "2010-01-08     30.282858\n",
              "                 ...    \n",
              "2020-02-25    288.079987\n",
              "2020-02-26    292.649994\n",
              "2020-02-27    273.519989\n",
              "2020-02-28    273.359985\n",
              "2020-03-02    283.920013\n",
              "Name: Close, Length: 2557, dtype: float64"
            ]
          },
          "metadata": {
            "tags": []
          },
          "execution_count": 6
        }
      ]
    },
    {
      "cell_type": "code",
      "metadata": {
        "id": "pJJXpbLjL1FS",
        "colab_type": "code",
        "colab": {}
      },
      "source": [
        "def dataset_loader(stock_name):\n",
        "  dataset = data_reader.DataReader(stock_name, data_source= 'yahoo')\n",
        "  start_date = str(dataset.index[0]).split()[0]\n",
        "  end_date = str(dataset.index[-1]).split()[0]\n",
        "  close = dataset['Close']\n",
        "  return close"
      ],
      "execution_count": 0,
      "outputs": []
    },
    {
      "cell_type": "code",
      "metadata": {
        "id": "tRypN3cLNEtn",
        "colab_type": "code",
        "colab": {}
      },
      "source": [
        "def state_creator(data, timestep, window_size):\n",
        "  starting_id = timestep - window_size + 1\n",
        "  \n",
        "  if starting_id >= 0:\n",
        "    windowed_data = data[starting_id:timestep + 1]\n",
        "  else:\n",
        "    windowed_data = - starting_id * [data[0]] + list(data[0:timestep + 1])\n",
        "    \n",
        "  state = []\n",
        "  for i in range(window_size - 1):\n",
        "    state.append(sigmoid(windowed_data[i + 1] - windowed_data[i]))\n",
        "    \n",
        "  return np.array([state]), windowed_data"
      ],
      "execution_count": 0,
      "outputs": []
    },
    {
      "cell_type": "code",
      "metadata": {
        "id": "QyMcnZ2dSgqz",
        "colab_type": "code",
        "outputId": "903f83b3-e24d-47c7-e572-e573d0c183e2",
        "colab": {
          "base_uri": "https://localhost:8080/",
          "height": 138
        }
      },
      "source": [
        "# carregando base de dados\n",
        "stock_name = 'AAPL'\n",
        "data = dataset_loader(stock_name)\n",
        "data.head()"
      ],
      "execution_count": 0,
      "outputs": [
        {
          "output_type": "execute_result",
          "data": {
            "text/plain": [
              "Date\n",
              "2010-01-04    30.572857\n",
              "2010-01-05    30.625713\n",
              "2010-01-06    30.138571\n",
              "2010-01-07    30.082857\n",
              "2010-01-08    30.282858\n",
              "Name: Close, dtype: float64"
            ]
          },
          "metadata": {
            "tags": []
          },
          "execution_count": 9
        }
      ]
    },
    {
      "cell_type": "code",
      "metadata": {
        "id": "WxBAswbkTeYO",
        "colab_type": "code",
        "outputId": "317c89aa-f395-4e71-8967-00a96828e2bc",
        "colab": {
          "base_uri": "https://localhost:8080/",
          "height": 294
        }
      },
      "source": [
        "# hyper parametros\n",
        "window_size = 10\n",
        "episodes = 1\n",
        "batch_size = 32\n",
        "data_samples = len(data)-1\n",
        "# definição do modelo\n",
        "trader = AI_Trader(window_size)\n",
        "trader.model.summary()"
      ],
      "execution_count": 14,
      "outputs": [
        {
          "output_type": "stream",
          "text": [
            "Model: \"sequential_2\"\n",
            "_________________________________________________________________\n",
            "Layer (type)                 Output Shape              Param #   \n",
            "=================================================================\n",
            "dense_8 (Dense)              (None, 32)                352       \n",
            "_________________________________________________________________\n",
            "dense_9 (Dense)              (None, 64)                2112      \n",
            "_________________________________________________________________\n",
            "dense_10 (Dense)             (None, 128)               8320      \n",
            "_________________________________________________________________\n",
            "dense_11 (Dense)             (None, 3)                 387       \n",
            "=================================================================\n",
            "Total params: 11,171\n",
            "Trainable params: 11,171\n",
            "Non-trainable params: 0\n",
            "_________________________________________________________________\n"
          ],
          "name": "stdout"
        }
      ]
    },
    {
      "cell_type": "code",
      "metadata": {
        "id": "5OKlTK-WUnCh",
        "colab_type": "code",
        "outputId": "98e6eb78-d158-42ab-fb4c-cbadbf64fb74",
        "colab": {
          "base_uri": "https://localhost:8080/",
          "height": 1000
        }
      },
      "source": [
        "# treinamento\n",
        "for episode in range(1, episodes + 1):\n",
        "  print(\"Episode: {}/{}\".format(episode, episodes))\n",
        "  state = state_creator(data, 0, window_size + 1)\n",
        "  total_profit = 0\n",
        "  trader.inventory = []\n",
        "  for t in tqdm(range(data_samples)):\n",
        "    action = trader.trade(state)\n",
        "    next_state = state_creator(data, t + 1, window_size + 1)\n",
        "    reward = 0\n",
        "    \n",
        "    if action == 1: # Comprando uma ação\n",
        "      trader.inventory.append(data[t])\n",
        "      print(\"AI Trader bought: \", stocks_price_format(data[t]))\n",
        "    elif action == 2 and len(trader.inventory) > 0: # Vendendo uma ação  \n",
        "      buy_price = trader.inventory.pop(0)\n",
        "      \n",
        "      reward = max(data[t] - buy_price, 0)\n",
        "      total_profit += data[t] - buy_price\n",
        "      print(\"AI Trader sold: \", stocks_price_format(data[t]), \" Profit: \" + stocks_price_format(data[t] - buy_price))\n",
        "      \n",
        "    if t == data_samples - 1:\n",
        "      done = True\n",
        "    else:\n",
        "      done = False\n",
        "      \n",
        "    trader.memory.append((state, action, reward, next_state, done))\n",
        "    state = next_state\n",
        "    \n",
        "    if done:\n",
        "      print(\"#\" * 20)\n",
        "      print(\" - Total profit: {}\".format(total_profit))\n",
        "      print(\"#\" * 20)\n",
        "      \n",
        "    if len(trader.memory) > batch_size:\n",
        "      trader.batch_train(batch_size)\n",
        "     \n",
        "  if episode % 10 == 0:\n",
        "    trader.model.save(\"ai_trader_{}.h5\".format(episode))"
      ],
      "execution_count": 15,
      "outputs": [
        {
          "output_type": "stream",
          "text": [
            "\n",
            "\n",
            "  0%|          | 0/2556 [00:00<?, ?it/s]\u001b[A\u001b[A"
          ],
          "name": "stderr"
        },
        {
          "output_type": "stream",
          "text": [
            "Episode: 1/1\n",
            "AI Trader bought:  $ 30.282858\n",
            "AI Trader bought:  $ 30.015715\n",
            "AI Trader bought:  $ 29.674286\n",
            "AI Trader bought:  $ 30.092857\n",
            "AI Trader bought:  $ 29.418571\n",
            "AI Trader sold:  $ 30.719999  Profit: $ 0.437141\n",
            "AI Trader sold:  $ 29.724285  Profit: - $ 0.291430\n",
            "AI Trader bought:  $ 28.250000\n",
            "AI Trader bought:  $ 29.420000\n",
            "AI Trader bought:  $ 27.818571\n",
            "AI Trader sold:  $ 28.461428  Profit: - $ 1.212858\n",
            "AI Trader sold:  $ 27.435715  Profit: - $ 2.657143\n",
            "AI Trader sold:  $ 27.922857  Profit: - $ 1.495714\n",
            "AI Trader sold:  $ 27.731428  Profit: - $ 0.518572\n",
            "AI Trader bought:  $ 28.027143\n",
            "AI Trader sold:  $ 27.874287  Profit: - $ 1.545713\n",
            "AI Trader sold:  $ 28.381428  Profit: $ 0.562857\n",
            "AI Trader bought:  $ 28.625713\n",
            "AI Trader bought:  $ 29.057142\n",
            "AI Trader sold:  $ 28.990000  Profit: $ 0.962856\n",
            "AI Trader bought:  $ 28.809999\n"
          ],
          "name": "stdout"
        },
        {
          "output_type": "stream",
          "text": [
            "\n",
            "\n",
            "  1%|▏         | 33/2556 [00:00<00:52, 48.13it/s]\u001b[A\u001b[A\n",
            "\n",
            "  1%|▏         | 35/2556 [00:01<03:00, 13.99it/s]\u001b[A\u001b[A"
          ],
          "name": "stderr"
        },
        {
          "output_type": "stream",
          "text": [
            "AI Trader bought:  $ 28.665714\n",
            "AI Trader sold:  $ 28.857143  Profit: $ 0.231430\n"
          ],
          "name": "stdout"
        },
        {
          "output_type": "stream",
          "text": [
            "\n",
            "\n",
            "  1%|▏         | 37/2556 [00:01<04:27,  9.43it/s]\u001b[A\u001b[A"
          ],
          "name": "stderr"
        },
        {
          "output_type": "stream",
          "text": [
            "AI Trader bought:  $ 29.231428\n"
          ],
          "name": "stdout"
        },
        {
          "output_type": "stream",
          "text": [
            "\n",
            "\n",
            "  1%|▏         | 38/2556 [00:01<06:19,  6.63it/s]\u001b[A\u001b[A"
          ],
          "name": "stderr"
        },
        {
          "output_type": "stream",
          "text": [
            "AI Trader bought:  $ 29.855715\n"
          ],
          "name": "stdout"
        },
        {
          "output_type": "stream",
          "text": [
            "\n",
            "\n",
            "  2%|▏         | 39/2556 [00:01<07:44,  5.42it/s]\u001b[A\u001b[A\n",
            "\n",
            "  2%|▏         | 40/2556 [00:02<08:26,  4.96it/s]\u001b[A\u001b[A"
          ],
          "name": "stderr"
        },
        {
          "output_type": "stream",
          "text": [
            "AI Trader bought:  $ 29.904285\n"
          ],
          "name": "stdout"
        },
        {
          "output_type": "stream",
          "text": [
            "\n",
            "\n",
            "  2%|▏         | 41/2556 [00:02<08:48,  4.76it/s]\u001b[A\u001b[A\n",
            "\n",
            "  2%|▏         | 42/2556 [00:02<08:23,  5.00it/s]\u001b[A\u001b[A"
          ],
          "name": "stderr"
        },
        {
          "output_type": "stream",
          "text": [
            "AI Trader sold:  $ 31.278572  Profit: $ 2.221430\n"
          ],
          "name": "stdout"
        },
        {
          "output_type": "stream",
          "text": [
            "\n",
            "\n",
            "  2%|▏         | 43/2556 [00:02<08:45,  4.78it/s]\u001b[A\u001b[A\n",
            "\n",
            "  2%|▏         | 44/2556 [00:03<08:29,  4.93it/s]\u001b[A\u001b[A"
          ],
          "name": "stderr"
        },
        {
          "output_type": "stream",
          "text": [
            "AI Trader bought:  $ 31.297142\n",
            "AI Trader bought:  $ 31.860001\n"
          ],
          "name": "stdout"
        },
        {
          "output_type": "stream",
          "text": [
            "\n",
            "\n",
            "  2%|▏         | 45/2556 [00:03<08:15,  5.07it/s]\u001b[A\u001b[A\n",
            "\n",
            "  2%|▏         | 46/2556 [00:03<08:12,  5.09it/s]\u001b[A\u001b[A"
          ],
          "name": "stderr"
        },
        {
          "output_type": "stream",
          "text": [
            "AI Trader bought:  $ 32.119999\n",
            "AI Trader sold:  $ 32.214287  Profit: $ 3.404287\n"
          ],
          "name": "stdout"
        },
        {
          "output_type": "stream",
          "text": [
            "\n",
            "\n",
            "  2%|▏         | 47/2556 [00:03<08:07,  5.15it/s]\u001b[A\u001b[A\n",
            "\n",
            "  2%|▏         | 48/2556 [00:03<08:01,  5.21it/s]\u001b[A\u001b[A\n",
            "\n",
            "  2%|▏         | 49/2556 [00:03<07:57,  5.25it/s]\u001b[A\u001b[A"
          ],
          "name": "stderr"
        },
        {
          "output_type": "stream",
          "text": [
            "AI Trader bought:  $ 31.977142\n",
            "AI Trader sold:  $ 32.064285  Profit: $ 3.398571\n"
          ],
          "name": "stdout"
        },
        {
          "output_type": "stream",
          "text": [
            "\n",
            "\n",
            "  2%|▏         | 50/2556 [00:04<07:49,  5.34it/s]\u001b[A\u001b[A\n",
            "\n",
            "  2%|▏         | 51/2556 [00:04<07:52,  5.30it/s]\u001b[A\u001b[A\n",
            "\n",
            "  2%|▏         | 52/2556 [00:04<07:58,  5.23it/s]\u001b[A\u001b[A"
          ],
          "name": "stderr"
        },
        {
          "output_type": "stream",
          "text": [
            "AI Trader sold:  $ 32.092857  Profit: $ 2.861429\n"
          ],
          "name": "stdout"
        },
        {
          "output_type": "stream",
          "text": [
            "\n",
            "\n",
            "  2%|▏         | 53/2556 [00:04<08:09,  5.12it/s]\u001b[A\u001b[A"
          ],
          "name": "stderr"
        },
        {
          "output_type": "stream",
          "text": [
            "AI Trader bought:  $ 32.107143\n"
          ],
          "name": "stdout"
        },
        {
          "output_type": "stream",
          "text": [
            "\n",
            "\n",
            "  2%|▏         | 54/2556 [00:05<09:07,  4.57it/s]\u001b[A\u001b[A\n",
            "\n",
            "  2%|▏         | 55/2556 [00:05<08:40,  4.81it/s]\u001b[A\u001b[A"
          ],
          "name": "stderr"
        },
        {
          "output_type": "stream",
          "text": [
            "AI Trader bought:  $ 32.622856\n",
            "AI Trader sold:  $ 32.767143  Profit: $ 2.911428\n"
          ],
          "name": "stdout"
        },
        {
          "output_type": "stream",
          "text": [
            "\n",
            "\n",
            "  2%|▏         | 56/2556 [00:05<08:24,  4.95it/s]\u001b[A\u001b[A\n",
            "\n",
            "  2%|▏         | 57/2556 [00:05<08:15,  5.05it/s]\u001b[A\u001b[A"
          ],
          "name": "stderr"
        },
        {
          "output_type": "stream",
          "text": [
            "AI Trader bought:  $ 32.378571\n",
            "AI Trader sold:  $ 32.985714  Profit: $ 3.081429\n"
          ],
          "name": "stdout"
        },
        {
          "output_type": "stream",
          "text": [
            "\n",
            "\n",
            "  2%|▏         | 58/2556 [00:05<08:06,  5.14it/s]\u001b[A\u001b[A\n",
            "\n",
            "  2%|▏         | 59/2556 [00:05<08:13,  5.06it/s]\u001b[A\u001b[A\n",
            "\n",
            "  2%|▏         | 60/2556 [00:06<08:04,  5.15it/s]\u001b[A\u001b[A"
          ],
          "name": "stderr"
        },
        {
          "output_type": "stream",
          "text": [
            "AI Trader sold:  $ 33.692856  Profit: $ 2.395714\n"
          ],
          "name": "stdout"
        },
        {
          "output_type": "stream",
          "text": [
            "\n",
            "\n",
            "  2%|▏         | 61/2556 [00:06<07:57,  5.23it/s]\u001b[A\u001b[A\n",
            "\n",
            "  2%|▏         | 62/2556 [00:06<07:50,  5.30it/s]\u001b[A\u001b[A"
          ],
          "name": "stderr"
        },
        {
          "output_type": "stream",
          "text": [
            "AI Trader sold:  $ 33.709999  Profit: $ 1.849998\n"
          ],
          "name": "stdout"
        },
        {
          "output_type": "stream",
          "text": [
            "\n",
            "\n",
            "  2%|▏         | 63/2556 [00:06<07:50,  5.30it/s]\u001b[A\u001b[A\n",
            "\n",
            "  3%|▎         | 64/2556 [00:06<07:46,  5.34it/s]\u001b[A\u001b[A"
          ],
          "name": "stderr"
        },
        {
          "output_type": "stream",
          "text": [
            "AI Trader sold:  $ 34.220001  Profit: $ 2.100002\n"
          ],
          "name": "stdout"
        },
        {
          "output_type": "stream",
          "text": [
            "\n",
            "\n",
            "  3%|▎         | 65/2556 [00:07<08:05,  5.13it/s]\u001b[A\u001b[A\n",
            "\n",
            "  3%|▎         | 66/2556 [00:07<07:56,  5.22it/s]\u001b[A\u001b[A\n",
            "\n",
            "  3%|▎         | 67/2556 [00:07<07:45,  5.35it/s]\u001b[A\u001b[A"
          ],
          "name": "stderr"
        },
        {
          "output_type": "stream",
          "text": [
            "AI Trader sold:  $ 34.541428  Profit: $ 2.564285\n",
            "AI Trader sold:  $ 34.612858  Profit: $ 2.505714\n"
          ],
          "name": "stdout"
        },
        {
          "output_type": "stream",
          "text": [
            "\n",
            "\n",
            "  3%|▎         | 68/2556 [00:07<07:44,  5.36it/s]\u001b[A\u001b[A\n",
            "\n",
            "  3%|▎         | 69/2556 [00:07<07:46,  5.33it/s]\u001b[A\u001b[A\n",
            "\n",
            "  3%|▎         | 70/2556 [00:08<07:55,  5.23it/s]\u001b[A\u001b[A"
          ],
          "name": "stderr"
        },
        {
          "output_type": "stream",
          "text": [
            "AI Trader sold:  $ 35.098572  Profit: $ 2.475716\n",
            "AI Trader bought:  $ 35.560001\n"
          ],
          "name": "stdout"
        },
        {
          "output_type": "stream",
          "text": [
            "\n",
            "\n",
            "  3%|▎         | 71/2556 [00:08<07:57,  5.21it/s]\u001b[A\u001b[A\n",
            "\n",
            "  3%|▎         | 72/2556 [00:08<07:48,  5.30it/s]\u001b[A\u001b[A\n",
            "\n",
            "  3%|▎         | 73/2556 [00:08<07:51,  5.27it/s]\u001b[A\u001b[A\n",
            "\n",
            "  3%|▎         | 74/2556 [00:08<07:44,  5.35it/s]\u001b[A\u001b[A"
          ],
          "name": "stderr"
        },
        {
          "output_type": "stream",
          "text": [
            "AI Trader bought:  $ 34.941429\n",
            "AI Trader sold:  $ 37.031429  Profit: $ 4.652859\n"
          ],
          "name": "stdout"
        },
        {
          "output_type": "stream",
          "text": [
            "\n",
            "\n",
            "  3%|▎         | 75/2556 [00:08<07:38,  5.41it/s]\u001b[A\u001b[A\n",
            "\n",
            "  3%|▎         | 76/2556 [00:09<07:47,  5.30it/s]\u001b[A\u001b[A"
          ],
          "name": "stderr"
        },
        {
          "output_type": "stream",
          "text": [
            "AI Trader sold:  $ 38.067142  Profit: $ 2.507141\n",
            "AI Trader bought:  $ 38.689999\n"
          ],
          "name": "stdout"
        },
        {
          "output_type": "stream",
          "text": [
            "\n",
            "\n",
            "  3%|▎         | 77/2556 [00:09<07:48,  5.29it/s]\u001b[A\u001b[A\n",
            "\n",
            "  3%|▎         | 78/2556 [00:09<07:45,  5.33it/s]\u001b[A\u001b[A"
          ],
          "name": "stderr"
        },
        {
          "output_type": "stream",
          "text": [
            "AI Trader bought:  $ 38.500000\n"
          ],
          "name": "stdout"
        },
        {
          "output_type": "stream",
          "text": [
            "\n",
            "\n",
            "  3%|▎         | 79/2556 [00:09<07:45,  5.32it/s]\u001b[A\u001b[A\n",
            "\n",
            "  3%|▎         | 80/2556 [00:09<07:38,  5.40it/s]\u001b[A\u001b[A"
          ],
          "name": "stderr"
        },
        {
          "output_type": "stream",
          "text": [
            "AI Trader sold:  $ 37.371429  Profit: $ 2.430000\n",
            "AI Trader bought:  $ 38.377144\n"
          ],
          "name": "stdout"
        },
        {
          "output_type": "stream",
          "text": [
            "\n",
            "\n",
            "  3%|▎         | 81/2556 [00:10<07:55,  5.20it/s]\u001b[A\u001b[A\n",
            "\n",
            "  3%|▎         | 82/2556 [00:10<07:59,  5.16it/s]\u001b[A\u001b[A"
          ],
          "name": "stderr"
        },
        {
          "output_type": "stream",
          "text": [
            "AI Trader sold:  $ 37.298573  Profit: - $ 1.391426\n"
          ],
          "name": "stdout"
        },
        {
          "output_type": "stream",
          "text": [
            "\n",
            "\n",
            "  3%|▎         | 83/2556 [00:10<07:55,  5.21it/s]\u001b[A\u001b[A"
          ],
          "name": "stderr"
        },
        {
          "output_type": "stream",
          "text": [
            "AI Trader sold:  $ 36.954285  Profit: - $ 1.545715\n"
          ],
          "name": "stdout"
        },
        {
          "output_type": "stream",
          "text": [
            "\n",
            "\n",
            "  3%|▎         | 84/2556 [00:10<08:11,  5.03it/s]\u001b[A\u001b[A\n",
            "\n",
            "  3%|▎         | 85/2556 [00:10<07:59,  5.15it/s]\u001b[A\u001b[A"
          ],
          "name": "stderr"
        },
        {
          "output_type": "stream",
          "text": [
            "AI Trader bought:  $ 36.570000\n",
            "AI Trader sold:  $ 35.178570  Profit: - $ 3.198574\n"
          ],
          "name": "stdout"
        },
        {
          "output_type": "stream",
          "text": [
            "\n",
            "\n",
            "  3%|▎         | 86/2556 [00:11<08:09,  5.04it/s]\u001b[A\u001b[A\n",
            "\n",
            "  3%|▎         | 87/2556 [00:11<08:06,  5.08it/s]\u001b[A\u001b[A"
          ],
          "name": "stderr"
        },
        {
          "output_type": "stream",
          "text": [
            "AI Trader sold:  $ 33.694286  Profit: - $ 2.875713\n"
          ],
          "name": "stdout"
        },
        {
          "output_type": "stream",
          "text": [
            "\n",
            "\n",
            "  3%|▎         | 88/2556 [00:11<07:55,  5.19it/s]\u001b[A\u001b[A\n",
            "\n",
            "  3%|▎         | 89/2556 [00:11<07:46,  5.29it/s]\u001b[A\u001b[A\n",
            "\n",
            "  4%|▎         | 90/2556 [00:11<07:42,  5.33it/s]\u001b[A\u001b[A\n",
            "\n",
            "  4%|▎         | 91/2556 [00:12<07:41,  5.35it/s]\u001b[A\u001b[A"
          ],
          "name": "stderr"
        },
        {
          "output_type": "stream",
          "text": [
            "AI Trader bought:  $ 36.908573\n"
          ],
          "name": "stdout"
        },
        {
          "output_type": "stream",
          "text": [
            "\n",
            "\n",
            "  4%|▎         | 92/2556 [00:12<07:57,  5.16it/s]\u001b[A\u001b[A\n",
            "\n",
            "  4%|▎         | 93/2556 [00:12<07:51,  5.22it/s]\u001b[A\u001b[A"
          ],
          "name": "stderr"
        },
        {
          "output_type": "stream",
          "text": [
            "AI Trader sold:  $ 36.317142  Profit: - $ 0.591431\n"
          ],
          "name": "stdout"
        },
        {
          "output_type": "stream",
          "text": [
            "\n",
            "\n",
            "  4%|▎         | 94/2556 [00:12<08:03,  5.09it/s]\u001b[A\u001b[A\n",
            "\n",
            "  4%|▎         | 95/2556 [00:12<07:52,  5.21it/s]\u001b[A\u001b[A\n",
            "\n",
            "  4%|▍         | 96/2556 [00:13<07:59,  5.14it/s]\u001b[A\u001b[A\n",
            "\n",
            "  4%|▍         | 97/2556 [00:13<08:19,  4.92it/s]\u001b[A\u001b[A\n",
            "\n",
            "  4%|▍         | 98/2556 [00:13<08:10,  5.01it/s]\u001b[A\u001b[A"
          ],
          "name": "stderr"
        },
        {
          "output_type": "stream",
          "text": [
            "AI Trader bought:  $ 35.251427\n",
            "AI Trader bought:  $ 35.031429\n"
          ],
          "name": "stdout"
        },
        {
          "output_type": "stream",
          "text": [
            "\n",
            "\n",
            "  4%|▍         | 99/2556 [00:13<08:04,  5.07it/s]\u001b[A\u001b[A\n",
            "\n",
            "  4%|▍         | 100/2556 [00:13<07:54,  5.18it/s]\u001b[A\u001b[A"
          ],
          "name": "stderr"
        },
        {
          "output_type": "stream",
          "text": [
            "AI Trader sold:  $ 34.872856  Profit: - $ 0.378571\n",
            "AI Trader bought:  $ 36.192856\n"
          ],
          "name": "stdout"
        },
        {
          "output_type": "stream",
          "text": [
            "\n",
            "\n",
            "  4%|▍         | 101/2556 [00:13<07:48,  5.24it/s]\u001b[A\u001b[A\n",
            "\n",
            "  4%|▍         | 102/2556 [00:14<07:51,  5.20it/s]\u001b[A\u001b[A"
          ],
          "name": "stderr"
        },
        {
          "output_type": "stream",
          "text": [
            "AI Trader sold:  $ 36.697144  Profit: $ 1.665714\n",
            "AI Trader bought:  $ 37.261429\n"
          ],
          "name": "stdout"
        },
        {
          "output_type": "stream",
          "text": [
            "\n",
            "\n",
            "  4%|▍         | 103/2556 [00:14<08:03,  5.08it/s]\u001b[A\u001b[A\n",
            "\n",
            "  4%|▍         | 104/2556 [00:14<07:52,  5.19it/s]\u001b[A\u001b[A"
          ],
          "name": "stderr"
        },
        {
          "output_type": "stream",
          "text": [
            "AI Trader sold:  $ 37.707142  Profit: $ 1.514286\n",
            "AI Trader bought:  $ 37.588570\n"
          ],
          "name": "stdout"
        },
        {
          "output_type": "stream",
          "text": [
            "\n",
            "\n",
            "  4%|▍         | 105/2556 [00:14<07:51,  5.20it/s]\u001b[A\u001b[A\n",
            "\n",
            "  4%|▍         | 106/2556 [00:14<07:57,  5.13it/s]\u001b[A\u001b[A"
          ],
          "name": "stderr"
        },
        {
          "output_type": "stream",
          "text": [
            "AI Trader sold:  $ 36.565716  Profit: - $ 0.695713\n",
            "AI Trader sold:  $ 35.848572  Profit: - $ 1.739998\n"
          ],
          "name": "stdout"
        },
        {
          "output_type": "stream",
          "text": [
            "\n",
            "\n",
            "  4%|▍         | 107/2556 [00:15<08:02,  5.07it/s]\u001b[A\u001b[A\n",
            "\n",
            "  4%|▍         | 108/2556 [00:15<07:52,  5.18it/s]\u001b[A\u001b[A\n",
            "\n",
            "  4%|▍         | 109/2556 [00:15<08:00,  5.09it/s]\u001b[A\u001b[A\n",
            "\n",
            "  4%|▍         | 110/2556 [00:15<07:58,  5.11it/s]\u001b[A\u001b[A\n",
            "\n",
            "  4%|▍         | 111/2556 [00:15<07:45,  5.26it/s]\u001b[A\u001b[A"
          ],
          "name": "stderr"
        },
        {
          "output_type": "stream",
          "text": [
            "AI Trader bought:  $ 36.215714\n",
            "AI Trader sold:  $ 36.325714  Profit: $ 0.110001\n"
          ],
          "name": "stdout"
        },
        {
          "output_type": "stream",
          "text": [
            "\n",
            "\n",
            "  4%|▍         | 112/2556 [00:16<07:47,  5.23it/s]\u001b[A\u001b[A\n",
            "\n",
            "  4%|▍         | 113/2556 [00:16<07:45,  5.25it/s]\u001b[A\u001b[A"
          ],
          "name": "stderr"
        },
        {
          "output_type": "stream",
          "text": [
            "AI Trader bought:  $ 37.098572\n",
            "AI Trader sold:  $ 38.178570  Profit: $ 1.079998\n"
          ],
          "name": "stdout"
        },
        {
          "output_type": "stream",
          "text": [
            "\n",
            "\n",
            "  4%|▍         | 114/2556 [00:16<07:49,  5.20it/s]\u001b[A\u001b[A\n",
            "\n",
            "  4%|▍         | 115/2556 [00:16<08:00,  5.08it/s]\u001b[A\u001b[A\n",
            "\n",
            "  5%|▍         | 116/2556 [00:16<07:57,  5.11it/s]\u001b[A\u001b[A\n",
            "\n",
            "  5%|▍         | 117/2556 [00:17<07:49,  5.19it/s]\u001b[A\u001b[A\n",
            "\n",
            "  5%|▍         | 118/2556 [00:17<07:48,  5.21it/s]\u001b[A\u001b[A\n",
            "\n",
            "  5%|▍         | 119/2556 [00:17<07:44,  5.25it/s]\u001b[A\u001b[A\n",
            "\n",
            "  5%|▍         | 120/2556 [00:17<07:53,  5.15it/s]\u001b[A\u001b[A"
          ],
          "name": "stderr"
        },
        {
          "output_type": "stream",
          "text": [
            "AI Trader bought:  $ 38.428570\n"
          ],
          "name": "stdout"
        },
        {
          "output_type": "stream",
          "text": [
            "\n",
            "\n",
            "  5%|▍         | 121/2556 [00:17<07:49,  5.19it/s]\u001b[A\u001b[A\n",
            "\n"
          ],
          "name": "stderr"
        },
        {
          "output_type": "stream",
          "text": [
            "AI Trader sold:  $ 38.328571  Profit: - $ 0.099998\n"
          ],
          "name": "stdout"
        },
        {
          "output_type": "stream",
          "text": [
            "\r  5%|▍         | 122/2556 [00:18<07:59,  5.07it/s]\u001b[A\u001b[A\n",
            "\n",
            "  5%|▍         | 123/2556 [00:18<08:12,  4.94it/s]\u001b[A\u001b[A\n",
            "\n",
            "  5%|▍         | 124/2556 [00:18<08:10,  4.95it/s]\u001b[A\u001b[A"
          ],
          "name": "stderr"
        },
        {
          "output_type": "stream",
          "text": [
            "AI Trader bought:  $ 35.932858\n"
          ],
          "name": "stdout"
        },
        {
          "output_type": "stream",
          "text": [
            "\n",
            "\n",
            "  5%|▍         | 125/2556 [00:18<08:16,  4.90it/s]\u001b[A\u001b[A\n",
            "\n",
            "  5%|▍         | 126/2556 [00:18<08:01,  5.04it/s]\u001b[A\u001b[A\n",
            "\n",
            "  5%|▍         | 127/2556 [00:19<07:53,  5.13it/s]\u001b[A\u001b[A"
          ],
          "name": "stderr"
        },
        {
          "output_type": "stream",
          "text": [
            "AI Trader sold:  $ 35.518570  Profit: - $ 0.414288\n",
            "AI Trader bought:  $ 36.952858\n"
          ],
          "name": "stdout"
        },
        {
          "output_type": "stream",
          "text": [
            "\n",
            "\n",
            "  5%|▌         | 128/2556 [00:19<07:57,  5.09it/s]\u001b[A\u001b[A\n",
            "\n",
            "  5%|▌         | 129/2556 [00:19<07:43,  5.24it/s]\u001b[A\u001b[A"
          ],
          "name": "stderr"
        },
        {
          "output_type": "stream",
          "text": [
            "AI Trader sold:  $ 36.869999  Profit: - $ 0.082859\n"
          ],
          "name": "stdout"
        },
        {
          "output_type": "stream",
          "text": [
            "\n",
            "\n",
            "  5%|▌         | 130/2556 [00:19<07:41,  5.25it/s]\u001b[A\u001b[A\n",
            "\n",
            "  5%|▌         | 131/2556 [00:19<08:13,  4.91it/s]\u001b[A\u001b[A\n",
            "\n",
            "  5%|▌         | 132/2556 [00:20<08:07,  4.98it/s]\u001b[A\u001b[A"
          ],
          "name": "stderr"
        },
        {
          "output_type": "stream",
          "text": [
            "AI Trader bought:  $ 35.971428\n"
          ],
          "name": "stdout"
        },
        {
          "output_type": "stream",
          "text": [
            "\n",
            "\n",
            "  5%|▌         | 133/2556 [00:20<08:45,  4.61it/s]\u001b[A\u001b[A\n",
            "\n",
            "  5%|▌         | 134/2556 [00:20<09:13,  4.38it/s]\u001b[A\u001b[A"
          ],
          "name": "stderr"
        },
        {
          "output_type": "stream",
          "text": [
            "AI Trader bought:  $ 35.700001\n"
          ],
          "name": "stdout"
        },
        {
          "output_type": "stream",
          "text": [
            "\n",
            "\n",
            "  5%|▌         | 135/2556 [00:20<09:25,  4.28it/s]\u001b[A\u001b[A"
          ],
          "name": "stderr"
        },
        {
          "output_type": "stream",
          "text": [
            "AI Trader bought:  $ 35.082859\n"
          ],
          "name": "stdout"
        },
        {
          "output_type": "stream",
          "text": [
            "\n",
            "\n",
            "  5%|▌         | 136/2556 [00:21<09:30,  4.24it/s]\u001b[A\u001b[A\n",
            "\n",
            "  5%|▌         | 137/2556 [00:21<09:00,  4.47it/s]\u001b[A\u001b[A\n",
            "\n",
            "  5%|▌         | 138/2556 [00:21<08:33,  4.71it/s]\u001b[A\u001b[A\n",
            "\n",
            "  5%|▌         | 139/2556 [00:21<08:13,  4.90it/s]\u001b[A\u001b[A\n",
            "\n",
            "  5%|▌         | 140/2556 [00:21<08:09,  4.94it/s]\u001b[A\u001b[A\n",
            "\n",
            "  6%|▌         | 141/2556 [00:22<08:05,  4.97it/s]\u001b[A\u001b[A"
          ],
          "name": "stderr"
        },
        {
          "output_type": "stream",
          "text": [
            "AI Trader bought:  $ 37.040001\n"
          ],
          "name": "stdout"
        },
        {
          "output_type": "stream",
          "text": [
            "\n",
            "\n",
            "  6%|▌         | 142/2556 [00:22<07:51,  5.12it/s]\u001b[A\u001b[A"
          ],
          "name": "stderr"
        },
        {
          "output_type": "stream",
          "text": [
            "AI Trader bought:  $ 37.725716\n"
          ],
          "name": "stdout"
        },
        {
          "output_type": "stream",
          "text": [
            "\n",
            "\n",
            "  6%|▌         | 143/2556 [00:22<07:48,  5.15it/s]\u001b[A\u001b[A\n",
            "\n",
            "  6%|▌         | 144/2556 [00:22<07:42,  5.22it/s]\u001b[A\u001b[A"
          ],
          "name": "stderr"
        },
        {
          "output_type": "stream",
          "text": [
            "AI Trader bought:  $ 36.872856\n",
            "AI Trader sold:  $ 36.750000  Profit: $ 0.778572\n"
          ],
          "name": "stdout"
        },
        {
          "output_type": "stream",
          "text": [
            "\n",
            "\n",
            "  6%|▌         | 145/2556 [00:22<07:44,  5.19it/s]\u001b[A\u001b[A\n",
            "\n",
            "  6%|▌         | 146/2556 [00:22<07:46,  5.17it/s]\u001b[A\u001b[A"
          ],
          "name": "stderr"
        },
        {
          "output_type": "stream",
          "text": [
            "AI Trader bought:  $ 37.407143\n",
            "AI Trader bought:  $ 37.418571\n"
          ],
          "name": "stdout"
        },
        {
          "output_type": "stream",
          "text": [
            "\n",
            "\n",
            "  6%|▌         | 147/2556 [00:23<07:44,  5.18it/s]\u001b[A\u001b[A"
          ],
          "name": "stderr"
        },
        {
          "output_type": "stream",
          "text": [
            "AI Trader bought:  $ 37.568573\n"
          ],
          "name": "stdout"
        },
        {
          "output_type": "stream",
          "text": [
            "\n",
            "\n",
            "  6%|▌         | 148/2556 [00:23<08:04,  4.97it/s]\u001b[A\u001b[A\n",
            "\n",
            "  6%|▌         | 149/2556 [00:23<07:50,  5.12it/s]\u001b[A\u001b[A\n",
            "\n",
            "  6%|▌         | 150/2556 [00:23<07:58,  5.03it/s]"
          ],
          "name": "stderr"
        },
        {
          "output_type": "stream",
          "text": [
            "AI Trader bought:  $ 37.155716\n"
          ],
          "name": "stdout"
        },
        {
          "output_type": "stream",
          "text": [
            "\u001b[A\u001b[A\n",
            "\n",
            "  6%|▌         | 151/2556 [00:23<08:03,  4.98it/s]"
          ],
          "name": "stderr"
        },
        {
          "output_type": "stream",
          "text": [
            "AI Trader sold:  $ 37.392857  Profit: $ 1.692856\n"
          ],
          "name": "stdout"
        },
        {
          "output_type": "stream",
          "text": [
            "\u001b[A\u001b[A\n",
            "\n",
            "  6%|▌         | 152/2556 [00:24<08:07,  4.93it/s]"
          ],
          "name": "stderr"
        },
        {
          "output_type": "stream",
          "text": [
            "AI Trader sold:  $ 37.058571  Profit: $ 1.975712\n"
          ],
          "name": "stdout"
        },
        {
          "output_type": "stream",
          "text": [
            "\u001b[A\u001b[A\n",
            "\n",
            "  6%|▌         | 153/2556 [00:24<08:02,  4.98it/s]\u001b[A\u001b[A"
          ],
          "name": "stderr"
        },
        {
          "output_type": "stream",
          "text": [
            "AI Trader sold:  $ 35.741428  Profit: - $ 1.298573\n",
            "AI Trader sold:  $ 35.970001  Profit: - $ 1.755714\n"
          ],
          "name": "stdout"
        },
        {
          "output_type": "stream",
          "text": [
            "\n",
            "\n",
            "  6%|▌         | 154/2556 [00:24<07:54,  5.07it/s]\u001b[A\u001b[A\n",
            "\n",
            "  6%|▌         | 155/2556 [00:24<07:43,  5.18it/s]\u001b[A\u001b[A"
          ],
          "name": "stderr"
        },
        {
          "output_type": "stream",
          "text": [
            "AI Trader sold:  $ 35.585712  Profit: - $ 1.287144\n",
            "AI Trader sold:  $ 35.377144  Profit: - $ 2.029999\n"
          ],
          "name": "stdout"
        },
        {
          "output_type": "stream",
          "text": [
            "\n",
            "\n",
            "  6%|▌         | 156/2556 [00:24<07:41,  5.20it/s]\u001b[A\u001b[A\n",
            "\n",
            "  6%|▌         | 157/2556 [00:25<07:40,  5.21it/s]\u001b[A\u001b[A"
          ],
          "name": "stderr"
        },
        {
          "output_type": "stream",
          "text": [
            "AI Trader sold:  $ 35.995716  Profit: - $ 1.422855\n",
            "AI Trader sold:  $ 36.152859  Profit: - $ 1.415714\n"
          ],
          "name": "stdout"
        },
        {
          "output_type": "stream",
          "text": [
            "\n",
            "\n",
            "  6%|▌         | 158/2556 [00:25<07:39,  5.22it/s]\u001b[A\u001b[A\n",
            "\n",
            "  6%|▌         | 159/2556 [00:25<07:28,  5.34it/s]\u001b[A\u001b[A\n",
            "\n",
            "  6%|▋         | 160/2556 [00:25<07:40,  5.20it/s]"
          ],
          "name": "stderr"
        },
        {
          "output_type": "stream",
          "text": [
            "AI Trader sold:  $ 35.662857  Profit: - $ 1.492859\n"
          ],
          "name": "stdout"
        },
        {
          "output_type": "stream",
          "text": [
            "\u001b[A\u001b[A\n",
            "\n",
            "  6%|▋         | 161/2556 [00:25<07:38,  5.23it/s]\u001b[A\u001b[A\n",
            "\n",
            "  6%|▋         | 162/2556 [00:26<07:42,  5.17it/s]\u001b[A\u001b[A"
          ],
          "name": "stderr"
        },
        {
          "output_type": "stream",
          "text": [
            "AI Trader bought:  $ 34.275715\n",
            "AI Trader sold: "
          ],
          "name": "stdout"
        },
        {
          "output_type": "stream",
          "text": [
            "\n",
            "\n",
            "  6%|▋         | 163/2556 [00:26<07:35,  5.25it/s]\u001b[A\u001b[A"
          ],
          "name": "stderr"
        },
        {
          "output_type": "stream",
          "text": [
            " $ 34.698570  Profit: $ 0.422855\n"
          ],
          "name": "stdout"
        },
        {
          "output_type": "stream",
          "text": [
            "\n",
            "\n",
            "  6%|▋         | 164/2556 [00:26<07:35,  5.25it/s]\u001b[A\u001b[A\n",
            "\n",
            "  6%|▋         | 165/2556 [00:26<07:29,  5.32it/s]\u001b[A\u001b[A"
          ],
          "name": "stderr"
        },
        {
          "output_type": "stream",
          "text": [
            "AI Trader bought:  $ 34.517143\n",
            "AI Trader bought:  $ 34.642857\n"
          ],
          "name": "stdout"
        },
        {
          "output_type": "stream",
          "text": [
            "\n",
            "\n",
            "  6%|▋         | 166/2556 [00:26<07:35,  5.25it/s]\u001b[A\u001b[A\n",
            "\n",
            "  7%|▋         | 167/2556 [00:27<07:41,  5.17it/s]\u001b[A\u001b[A"
          ],
          "name": "stderr"
        },
        {
          "output_type": "stream",
          "text": [
            "AI Trader sold:  $ 34.728573  Profit: $ 0.211430\n",
            "AI Trader sold:  $ 35.761429  Profit: $ 1.118572\n"
          ],
          "name": "stdout"
        },
        {
          "output_type": "stream",
          "text": [
            "\n",
            "\n",
            "  7%|▋         | 168/2556 [00:27<07:48,  5.09it/s]\u001b[A\u001b[A\n",
            "\n",
            "  7%|▋         | 169/2556 [00:27<07:51,  5.06it/s]\u001b[A\u001b[A\n",
            "\n",
            "  7%|▋         | 170/2556 [00:27<07:43,  5.14it/s]\u001b[A\u001b[A\n",
            "\n",
            "  7%|▋         | 171/2556 [00:27<07:32,  5.27it/s]\u001b[A\u001b[A\n",
            "\n",
            "  7%|▋         | 172/2556 [00:28<07:33,  5.26it/s]\u001b[A\u001b[A\n",
            "\n",
            "  7%|▋         | 173/2556 [00:28<07:39,  5.19it/s]"
          ],
          "name": "stderr"
        },
        {
          "output_type": "stream",
          "text": [
            "AI Trader bought:  $ 37.581429\n"
          ],
          "name": "stdout"
        },
        {
          "output_type": "stream",
          "text": [
            "\u001b[A\u001b[A\n",
            "\n",
            "  7%|▋         | 174/2556 [00:28<07:35,  5.23it/s]\u001b[A\u001b[A\n",
            "\n",
            "  7%|▋         | 175/2556 [00:28<07:34,  5.23it/s]\u001b[A\u001b[A\n",
            "\n",
            "  7%|▋         | 176/2556 [00:28<07:29,  5.29it/s]\u001b[A\u001b[A\n",
            "\n",
            "  7%|▋         | 177/2556 [00:28<07:28,  5.30it/s]\u001b[A\u001b[A"
          ],
          "name": "stderr"
        },
        {
          "output_type": "stream",
          "text": [
            "AI Trader sold:  $ 38.602856  Profit: $ 1.021427\n"
          ],
          "name": "stdout"
        },
        {
          "output_type": "stream",
          "text": [
            "\n",
            "\n",
            "  7%|▋         | 178/2556 [00:29<07:41,  5.16it/s]\u001b[A\u001b[A\n",
            "\n",
            "  7%|▋         | 179/2556 [00:29<07:42,  5.14it/s]\u001b[A\u001b[A\n",
            "\n",
            "  7%|▋         | 180/2556 [00:29<07:36,  5.21it/s]\u001b[A\u001b[A"
          ],
          "name": "stderr"
        },
        {
          "output_type": "stream",
          "text": [
            "AI Trader bought:  $ 40.461430\n",
            "AI Trader sold:  $ 40.538570  Profit: $ 0.077141\n"
          ],
          "name": "stdout"
        },
        {
          "output_type": "stream",
          "text": [
            "\n",
            "\n",
            "  7%|▋         | 181/2556 [00:29<07:31,  5.26it/s]\u001b[A\u001b[A\n",
            "\n",
            "  7%|▋         | 182/2556 [00:29<07:22,  5.36it/s]\u001b[A\u001b[A\n",
            "\n",
            "  7%|▋         | 183/2556 [00:30<07:23,  5.35it/s]\u001b[A\u001b[A"
          ],
          "name": "stderr"
        },
        {
          "output_type": "stream",
          "text": [
            "AI Trader bought:  $ 41.274284\n",
            "AI Trader bought:  $ 41.759998\n"
          ],
          "name": "stdout"
        },
        {
          "output_type": "stream",
          "text": [
            "\n",
            "\n",
            "  7%|▋         | 184/2556 [00:30<07:44,  5.10it/s]\u001b[A\u001b[A\n",
            "\n",
            "  7%|▋         | 185/2556 [00:30<07:43,  5.12it/s]\u001b[A\u001b[A"
          ],
          "name": "stderr"
        },
        {
          "output_type": "stream",
          "text": [
            "AI Trader bought:  $ 41.594284\n",
            "AI Trader bought:  $ 40.980000\n"
          ],
          "name": "stdout"
        },
        {
          "output_type": "stream",
          "text": [
            "\n",
            "\n",
            "  7%|▋         | 186/2556 [00:30<07:34,  5.21it/s]\u001b[A\u001b[A\n",
            "\n",
            "  7%|▋         | 187/2556 [00:30<07:32,  5.24it/s]\u001b[A\u001b[A"
          ],
          "name": "stderr"
        },
        {
          "output_type": "stream",
          "text": [
            "AI Trader sold:  $ 41.052856  Profit: - $ 0.221428\n",
            "AI Trader sold:  $ 40.535713  Profit: - $ 1.224285\n"
          ],
          "name": "stdout"
        },
        {
          "output_type": "stream",
          "text": [
            "\n",
            "\n",
            "  7%|▋         | 188/2556 [00:31<07:44,  5.10it/s]\u001b[A\u001b[A\n",
            "\n",
            "  7%|▋         | 189/2556 [00:31<07:43,  5.11it/s]\u001b[A\u001b[A"
          ],
          "name": "stderr"
        },
        {
          "output_type": "stream",
          "text": [
            "AI Trader bought:  $ 40.360001\n",
            "AI Trader sold:  $ 39.805714  Profit: - $ 1.788570\n"
          ],
          "name": "stdout"
        },
        {
          "output_type": "stream",
          "text": [
            "\n",
            "\n",
            "  7%|▋         | 190/2556 [00:31<07:48,  5.05it/s]\u001b[A\u001b[A\n",
            "\n",
            "  7%|▋         | 191/2556 [00:31<07:37,  5.17it/s]\u001b[A\u001b[A"
          ],
          "name": "stderr"
        },
        {
          "output_type": "stream",
          "text": [
            "AI Trader sold:  $ 41.277142  Profit: $ 0.297142\n",
            "AI Trader bought:  $ 41.312859\n"
          ],
          "name": "stdout"
        },
        {
          "output_type": "stream",
          "text": [
            "\n",
            "\n",
            "  8%|▊         | 192/2556 [00:31<07:37,  5.16it/s]\u001b[A\u001b[A\n",
            "\n",
            "  8%|▊         | 193/2556 [00:32<07:32,  5.22it/s]\u001b[A\u001b[A"
          ],
          "name": "stderr"
        },
        {
          "output_type": "stream",
          "text": [
            "AI Trader bought:  $ 41.317142\n",
            "AI Trader sold:  $ 42.009998  Profit: $ 1.649998\n"
          ],
          "name": "stdout"
        },
        {
          "output_type": "stream",
          "text": [
            "\n",
            "\n",
            "  8%|▊         | 194/2556 [00:32<07:29,  5.26it/s]\u001b[A\u001b[A\n",
            "\n",
            "  8%|▊         | 195/2556 [00:32<07:35,  5.18it/s]\u001b[A\u001b[A"
          ],
          "name": "stderr"
        },
        {
          "output_type": "stream",
          "text": [
            "AI Trader sold:  $ 42.194286  Profit: $ 0.881428\n",
            "AI Trader bought: "
          ],
          "name": "stdout"
        },
        {
          "output_type": "stream",
          "text": [
            "\n",
            "\n",
            "  8%|▊         | 196/2556 [00:32<07:37,  5.15it/s]\u001b[A\u001b[A\n",
            "\n",
            "  8%|▊         | 197/2556 [00:32<07:26,  5.28it/s]\u001b[A\u001b[A"
          ],
          "name": "stderr"
        },
        {
          "output_type": "stream",
          "text": [
            " $ 42.648571\n",
            "AI Trader sold:  $ 42.877144  Profit: $ 1.560001\n"
          ],
          "name": "stdout"
        },
        {
          "output_type": "stream",
          "text": [
            "\n",
            "\n",
            "  8%|▊         | 198/2556 [00:33<07:24,  5.30it/s]\u001b[A\u001b[A"
          ],
          "name": "stderr"
        },
        {
          "output_type": "stream",
          "text": [
            "AI Trader sold:  $ 44.962856  Profit: $ 2.314285\n"
          ],
          "name": "stdout"
        },
        {
          "output_type": "stream",
          "text": [
            "\n",
            "\n",
            "  8%|▊         | 199/2556 [00:33<07:42,  5.09it/s]\u001b[A\u001b[A\n",
            "\n",
            "  8%|▊         | 200/2556 [00:33<07:52,  4.98it/s]\u001b[A\u001b[A\n",
            "\n",
            "  8%|▊         | 201/2556 [00:33<07:53,  4.97it/s]\u001b[A\u001b[A\n",
            "\n",
            "  8%|▊         | 202/2556 [00:33<07:37,  5.15it/s]\u001b[A\u001b[A\n",
            "\n",
            "  8%|▊         | 203/2556 [00:34<07:35,  5.17it/s]\u001b[A\u001b[A\n",
            "\n",
            "  8%|▊         | 204/2556 [00:34<07:29,  5.23it/s]\u001b[A\u001b[A\n",
            "\n",
            "  8%|▊         | 205/2556 [00:34<07:30,  5.21it/s]\u001b[A\u001b[A\n",
            "\n",
            "  8%|▊         | 206/2556 [00:34<08:09,  4.80it/s]\u001b[A\u001b[A\n",
            "\n",
            "  8%|▊         | 207/2556 [00:34<07:47,  5.02it/s]\u001b[A\u001b[A\n",
            "\n",
            "  8%|▊         | 208/2556 [00:34<07:39,  5.11it/s]\u001b[A\u001b[A\n",
            "\n",
            "  8%|▊         | 209/2556 [00:35<07:31,  5.20it/s]\u001b[A\u001b[A\n",
            "\n",
            "  8%|▊         | 210/2556 [00:35<07:29,  5.22it/s]\u001b[A\u001b[A\n",
            "\n",
            "  8%|▊         | 211/2556 [00:35<07:35,  5.15it/s]\u001b[A\u001b[A\n",
            "\n",
            "  8%|▊         | 212/2556 [00:35<07:25,  5.26it/s]\u001b[A\u001b[A\n",
            "\n",
            "  8%|▊         | 213/2556 [00:35<07:27,  5.24it/s]\u001b[A\u001b[A\n",
            "\n",
            "  8%|▊         | 214/2556 [00:36<07:16,  5.37it/s]\u001b[A\u001b[A\n",
            "\n",
            "  8%|▊         | 215/2556 [00:36<07:12,  5.42it/s]\u001b[A\u001b[A"
          ],
          "name": "stderr"
        },
        {
          "output_type": "stream",
          "text": [
            "AI Trader bought:  $ 45.517143\n"
          ],
          "name": "stdout"
        },
        {
          "output_type": "stream",
          "text": [
            "\n",
            "\n",
            "  8%|▊         | 216/2556 [00:36<07:08,  5.46it/s]\u001b[A\u001b[A\n",
            "\n",
            "  8%|▊         | 217/2556 [00:36<07:30,  5.19it/s]\u001b[A\u001b[A\n",
            "\n",
            "  9%|▊         | 218/2556 [00:36<07:22,  5.28it/s]\u001b[A\u001b[A\n",
            "\n",
            "  9%|▊         | 219/2556 [00:37<07:27,  5.23it/s]\u001b[A\u001b[A\n",
            "\n",
            "  9%|▊         | 220/2556 [00:37<07:24,  5.26it/s]\u001b[A\u001b[A"
          ],
          "name": "stderr"
        },
        {
          "output_type": "stream",
          "text": [
            "AI Trader sold:  $ 43.862858  Profit: - $ 1.654285\n",
            "AI Trader bought:  $ 43.084286\n"
          ],
          "name": "stdout"
        },
        {
          "output_type": "stream",
          "text": [
            "\n",
            "\n",
            "  9%|▊         | 221/2556 [00:37<07:24,  5.26it/s]\u001b[A\u001b[A"
          ],
          "name": "stderr"
        },
        {
          "output_type": "stream",
          "text": [
            "AI Trader sold:  $ 42.928570  Profit: - $ 0.155716\n"
          ],
          "name": "stdout"
        },
        {
          "output_type": "stream",
          "text": [
            "\n",
            "\n",
            "  9%|▊         | 222/2556 [00:37<07:38,  5.09it/s]\u001b[A\u001b[A"
          ],
          "name": "stderr"
        },
        {
          "output_type": "stream",
          "text": [
            "AI Trader bought:  $ 44.061428\n"
          ],
          "name": "stdout"
        },
        {
          "output_type": "stream",
          "text": [
            "\n",
            "\n",
            "  9%|▊         | 223/2556 [00:37<07:50,  4.96it/s]\u001b[A\u001b[A\n",
            "\n",
            "  9%|▉         | 224/2556 [00:38<07:46,  5.00it/s]\u001b[A\u001b[A"
          ],
          "name": "stderr"
        },
        {
          "output_type": "stream",
          "text": [
            "AI Trader sold:  $ 43.818573  Profit: - $ 0.242855\n"
          ],
          "name": "stdout"
        },
        {
          "output_type": "stream",
          "text": [
            "\n",
            "\n",
            "  9%|▉         | 225/2556 [00:38<07:38,  5.08it/s]\u001b[A\u001b[A\n",
            "\n",
            "  9%|▉         | 226/2556 [00:38<07:31,  5.16it/s]\u001b[A\u001b[A"
          ],
          "name": "stderr"
        },
        {
          "output_type": "stream",
          "text": [
            "AI Trader bought:  $ 44.104286\n",
            "AI Trader sold:  $ 44.971428  Profit: $ 0.867142\n"
          ],
          "name": "stdout"
        },
        {
          "output_type": "stream",
          "text": [
            "\n",
            "\n",
            "  9%|▉         | 227/2556 [00:38<07:43,  5.02it/s]\u001b[A\u001b[A\n",
            "\n",
            "  9%|▉         | 228/2556 [00:38<07:45,  5.00it/s]\u001b[A\u001b[A"
          ],
          "name": "stderr"
        },
        {
          "output_type": "stream",
          "text": [
            "AI Trader bought:  $ 45.267143\n"
          ],
          "name": "stdout"
        },
        {
          "output_type": "stream",
          "text": [
            "\n",
            "\n",
            "  9%|▉         | 229/2556 [00:39<07:52,  4.92it/s]\u001b[A\u001b[A\n",
            "\n",
            "  9%|▉         | 230/2556 [00:39<07:43,  5.02it/s]\u001b[A\u001b[A"
          ],
          "name": "stderr"
        },
        {
          "output_type": "stream",
          "text": [
            "AI Trader bought:  $ 44.450001\n",
            "AI Trader sold:  $ 45.200001  Profit: - $ 0.067142\n"
          ],
          "name": "stdout"
        },
        {
          "output_type": "stream",
          "text": [
            "\n",
            "\n",
            "  9%|▉         | 231/2556 [00:39<08:03,  4.81it/s]\u001b[A\u001b[A\n",
            "\n",
            "  9%|▉         | 232/2556 [00:39<07:49,  4.95it/s]\u001b[A\u001b[A"
          ],
          "name": "stderr"
        },
        {
          "output_type": "stream",
          "text": [
            "AI Trader bought:  $ 45.450001\n",
            "AI Trader bought:  $ 45.348572\n"
          ],
          "name": "stdout"
        },
        {
          "output_type": "stream",
          "text": [
            "\n",
            "\n",
            "  9%|▉         | 233/2556 [00:39<08:01,  4.83it/s]\u001b[A\u001b[A\n",
            "\n",
            "  9%|▉         | 234/2556 [00:40<07:51,  4.93it/s]\u001b[A\u001b[A"
          ],
          "name": "stderr"
        },
        {
          "output_type": "stream",
          "text": [
            "AI Trader sold:  $ 45.735714  Profit: $ 1.285713\n",
            "AI Trader sold:  $ 45.458572  Profit: $ 0.008572\n"
          ],
          "name": "stdout"
        },
        {
          "output_type": "stream",
          "text": [
            "\n",
            "\n",
            "  9%|▉         | 235/2556 [00:40<07:41,  5.03it/s]\u001b[A\u001b[A\n",
            "\n",
            "  9%|▉         | 236/2556 [00:40<07:32,  5.13it/s]\u001b[A\u001b[A"
          ],
          "name": "stderr"
        },
        {
          "output_type": "stream",
          "text": [
            "AI Trader sold:  $ 45.858570  Profit: $ 0.509998\n"
          ],
          "name": "stdout"
        },
        {
          "output_type": "stream",
          "text": [
            "\n",
            "\n",
            "  9%|▉         | 237/2556 [00:40<07:57,  4.86it/s]\u001b[A\u001b[A\n",
            "\n",
            "  9%|▉         | 238/2556 [00:40<07:58,  4.84it/s]\u001b[A\u001b[A\n",
            "\n",
            "  9%|▉         | 239/2556 [00:41<07:53,  4.90it/s]\u001b[A\u001b[A\n",
            "\n",
            "  9%|▉         | 240/2556 [00:41<07:42,  5.01it/s]\u001b[A\u001b[A"
          ],
          "name": "stderr"
        },
        {
          "output_type": "stream",
          "text": [
            "AI Trader bought:  $ 45.755714\n",
            "AI Trader sold:  $ 45.765713  Profit: $ 0.009998\n"
          ],
          "name": "stdout"
        },
        {
          "output_type": "stream",
          "text": [
            "\n",
            "\n",
            "  9%|▉         | 241/2556 [00:41<07:33,  5.10it/s]\u001b[A\u001b[A\n",
            "\n",
            "  9%|▉         | 242/2556 [00:41<07:25,  5.20it/s]\u001b[A\u001b[A\n",
            "\n",
            " 10%|▉         | 243/2556 [00:41<07:30,  5.13it/s]\u001b[A\u001b[A\n",
            "\n",
            " 10%|▉         | 244/2556 [00:42<07:39,  5.03it/s]\u001b[A\u001b[A\n",
            "\n",
            " 10%|▉         | 245/2556 [00:42<07:31,  5.12it/s]\u001b[A\u001b[A"
          ],
          "name": "stderr"
        },
        {
          "output_type": "stream",
          "text": [
            "AI Trader bought:  $ 46.314285\n",
            "AI Trader bought:  $ 46.451427\n"
          ],
          "name": "stdout"
        },
        {
          "output_type": "stream",
          "text": [
            "\n",
            "\n",
            " 10%|▉         | 246/2556 [00:42<07:26,  5.17it/s]\u001b[A\u001b[A\n",
            "\n",
            " 10%|▉         | 247/2556 [00:42<07:21,  5.23it/s]\u001b[A\u001b[A"
          ],
          "name": "stderr"
        },
        {
          "output_type": "stream",
          "text": [
            "AI Trader sold:  $ 46.228573  Profit: - $ 0.085712\n"
          ],
          "name": "stdout"
        },
        {
          "output_type": "stream",
          "text": [
            "\n",
            "\n",
            " 10%|▉         | 248/2556 [00:42<07:25,  5.18it/s]\u001b[A\u001b[A"
          ],
          "name": "stderr"
        },
        {
          "output_type": "stream",
          "text": [
            "AI Trader sold:  $ 46.495716  Profit: $ 0.044289\n"
          ],
          "name": "stdout"
        },
        {
          "output_type": "stream",
          "text": [
            "\n",
            "\n",
            " 10%|▉         | 249/2556 [00:43<07:36,  5.05it/s]\u001b[A\u001b[A\n",
            "\n",
            " 10%|▉         | 250/2556 [00:43<07:18,  5.26it/s]\u001b[A\u001b[A\n",
            "\n",
            " 10%|▉         | 251/2556 [00:43<07:10,  5.36it/s]\u001b[A\u001b[A\n",
            "\n",
            " 10%|▉         | 252/2556 [00:43<07:06,  5.40it/s]\u001b[A\u001b[A\n",
            "\n",
            " 10%|▉         | 253/2556 [00:43<07:10,  5.35it/s]\u001b[A\u001b[A\n",
            "\n",
            " 10%|▉         | 254/2556 [00:43<07:06,  5.40it/s]\u001b[A\u001b[A\n",
            "\n",
            " 10%|▉         | 255/2556 [00:44<07:26,  5.15it/s]\u001b[A\u001b[A\n",
            "\n",
            " 10%|█         | 256/2556 [00:44<07:39,  5.00it/s]\u001b[A\u001b[A\n",
            "\n",
            " 10%|█         | 257/2556 [00:44<07:28,  5.12it/s]\u001b[A\u001b[A\n",
            "\n",
            " 10%|█         | 258/2556 [00:44<07:25,  5.15it/s]\u001b[A\u001b[A\n",
            "\n",
            " 10%|█         | 259/2556 [00:44<07:36,  5.04it/s]\u001b[A\u001b[A"
          ],
          "name": "stderr"
        },
        {
          "output_type": "stream",
          "text": [
            "AI Trader bought:  $ 49.202858\n"
          ],
          "name": "stdout"
        },
        {
          "output_type": "stream",
          "text": [
            "\n",
            "\n",
            " 10%|█         | 260/2556 [00:45<07:45,  4.93it/s]\u001b[A\u001b[A\n",
            "\n",
            " 10%|█         | 261/2556 [00:45<07:36,  5.03it/s]\u001b[A\u001b[A"
          ],
          "name": "stderr"
        },
        {
          "output_type": "stream",
          "text": [
            "AI Trader bought:  $ 49.382858\n",
            "AI Trader sold:  $ 49.782856  Profit: $ 0.579998\n"
          ],
          "name": "stdout"
        },
        {
          "output_type": "stream",
          "text": [
            "\n",
            "\n",
            " 10%|█         | 262/2556 [00:45<07:30,  5.09it/s]\u001b[A\u001b[A\n",
            "\n",
            " 10%|█         | 263/2556 [00:45<07:30,  5.09it/s]\u001b[A\u001b[A"
          ],
          "name": "stderr"
        },
        {
          "output_type": "stream",
          "text": [
            "AI Trader bought:  $ 48.664288\n",
            "AI Trader sold:  $ 48.405716  Profit: - $ 0.977142\n"
          ],
          "name": "stdout"
        },
        {
          "output_type": "stream",
          "text": [
            "\n",
            "\n",
            " 10%|█         | 264/2556 [00:45<07:24,  5.16it/s]\u001b[A\u001b[A\n",
            "\n",
            " 10%|█         | 265/2556 [00:46<07:19,  5.21it/s]\u001b[A\u001b[A"
          ],
          "name": "stderr"
        },
        {
          "output_type": "stream",
          "text": [
            "AI Trader bought:  $ 47.525715\n",
            "AI Trader sold:  $ 46.674286  Profit: - $ 1.990002\n"
          ],
          "name": "stdout"
        },
        {
          "output_type": "stream",
          "text": [
            "\n",
            "\n",
            " 10%|█         | 266/2556 [00:46<07:22,  5.18it/s]\u001b[A\u001b[A"
          ],
          "name": "stderr"
        },
        {
          "output_type": "stream",
          "text": [
            "AI Trader sold:  $ 48.207142  Profit: $ 0.681427\n"
          ],
          "name": "stdout"
        },
        {
          "output_type": "stream",
          "text": [
            "\n",
            "\n",
            " 10%|█         | 267/2556 [00:46<07:42,  4.95it/s]\u001b[A\u001b[A\n",
            "\n",
            " 10%|█         | 268/2556 [00:46<08:19,  4.58it/s]\u001b[A\u001b[A\n",
            "\n",
            " 11%|█         | 269/2556 [00:47<08:48,  4.33it/s]\u001b[A\u001b[A"
          ],
          "name": "stderr"
        },
        {
          "output_type": "stream",
          "text": [
            "AI Trader bought:  $ 49.029999\n"
          ],
          "name": "stdout"
        },
        {
          "output_type": "stream",
          "text": [
            "\n",
            "\n",
            " 11%|█         | 270/2556 [00:47<08:58,  4.25it/s]\u001b[A\u001b[A\n",
            "\n",
            " 11%|█         | 271/2556 [00:47<08:34,  4.44it/s]\u001b[A\u001b[A"
          ],
          "name": "stderr"
        },
        {
          "output_type": "stream",
          "text": [
            "AI Trader bought:  $ 48.014286\n"
          ],
          "name": "stdout"
        },
        {
          "output_type": "stream",
          "text": [
            "\n",
            "\n",
            " 11%|█         | 272/2556 [00:47<08:08,  4.67it/s]\u001b[A\u001b[A"
          ],
          "name": "stderr"
        },
        {
          "output_type": "stream",
          "text": [
            "AI Trader sold:  $ 48.474285  Profit: - $ 0.555714\n",
            "AI Trader sold:  $ 49.290001  Profit: $ 1.275715\n"
          ],
          "name": "stdout"
        },
        {
          "output_type": "stream",
          "text": [
            "\n",
            "\n",
            " 11%|█         | 273/2556 [00:47<07:59,  4.77it/s]\u001b[A\u001b[A\n",
            "\n",
            " 11%|█         | 274/2556 [00:48<08:01,  4.74it/s]\u001b[A\u001b[A\n",
            "\n",
            " 11%|█         | 275/2556 [00:48<08:11,  4.64it/s]\u001b[A\u001b[A\n",
            "\n",
            " 11%|█         | 276/2556 [00:48<07:46,  4.88it/s]\u001b[A\u001b[A"
          ],
          "name": "stderr"
        },
        {
          "output_type": "stream",
          "text": [
            "AI Trader bought:  $ 49.500000\n"
          ],
          "name": "stdout"
        },
        {
          "output_type": "stream",
          "text": [
            "\n",
            "\n",
            " 11%|█         | 277/2556 [00:48<07:31,  5.05it/s]\u001b[A\u001b[A\n",
            "\n",
            " 11%|█         | 278/2556 [00:48<07:29,  5.07it/s]\u001b[A\u001b[A\n",
            "\n",
            " 11%|█         | 279/2556 [00:49<07:23,  5.13it/s]\u001b[A\u001b[A"
          ],
          "name": "stderr"
        },
        {
          "output_type": "stream",
          "text": [
            "AI Trader sold:  $ 51.165714  Profit: $ 1.665714\n"
          ],
          "name": "stdout"
        },
        {
          "output_type": "stream",
          "text": [
            "\n",
            "\n",
            " 11%|█         | 280/2556 [00:49<07:19,  5.18it/s]\u001b[A\u001b[A\n",
            "\n",
            " 11%|█         | 281/2556 [00:49<07:22,  5.14it/s]\u001b[A\u001b[A\n",
            "\n",
            " 11%|█         | 282/2556 [00:49<07:19,  5.18it/s]\u001b[A\u001b[A\n",
            "\n",
            " 11%|█         | 283/2556 [00:49<08:02,  4.71it/s]\u001b[A\u001b[A\n",
            "\n",
            " 11%|█         | 284/2556 [00:50<08:39,  4.37it/s]\u001b[A\u001b[A"
          ],
          "name": "stderr"
        },
        {
          "output_type": "stream",
          "text": [
            "AI Trader bought:  $ 51.185715\n"
          ],
          "name": "stdout"
        },
        {
          "output_type": "stream",
          "text": [
            "\n",
            "\n",
            " 11%|█         | 285/2556 [00:50<08:55,  4.24it/s]\u001b[A\u001b[A"
          ],
          "name": "stderr"
        },
        {
          "output_type": "stream",
          "text": [
            "AI Trader bought:  $ 50.080002\n"
          ],
          "name": "stdout"
        },
        {
          "output_type": "stream",
          "text": [
            "\n",
            "\n",
            " 11%|█         | 286/2556 [00:50<09:00,  4.20it/s]\u001b[A\u001b[A\n",
            "\n",
            " 11%|█         | 287/2556 [00:50<08:28,  4.47it/s]\u001b[A\u001b[A\n",
            "\n",
            " 11%|█▏        | 288/2556 [00:51<08:02,  4.70it/s]\u001b[A\u001b[A"
          ],
          "name": "stderr"
        },
        {
          "output_type": "stream",
          "text": [
            "AI Trader sold:  $ 48.945713  Profit: - $ 2.240002\n",
            "AI Trader sold:  $ 48.982857  Profit: - $ 1.097145\n"
          ],
          "name": "stdout"
        },
        {
          "output_type": "stream",
          "text": [
            "\n",
            "\n",
            " 11%|█▏        | 289/2556 [00:51<07:45,  4.87it/s]\u001b[A\u001b[A\n",
            "\n",
            " 11%|█▏        | 290/2556 [00:51<07:36,  4.96it/s]\u001b[A\u001b[A\n",
            "\n",
            " 11%|█▏        | 291/2556 [00:51<07:25,  5.08it/s]\u001b[A\u001b[A\n",
            "\n",
            " 11%|█▏        | 292/2556 [00:51<07:13,  5.23it/s]\u001b[A\u001b[A"
          ],
          "name": "stderr"
        },
        {
          "output_type": "stream",
          "text": [
            "AI Trader bought:  $ 49.901428\n"
          ],
          "name": "stdout"
        },
        {
          "output_type": "stream",
          "text": [
            "\n",
            "\n",
            " 11%|█▏        | 293/2556 [00:52<07:21,  5.13it/s]\u001b[A\u001b[A\n",
            "\n",
            " 12%|█▏        | 294/2556 [00:52<07:15,  5.20it/s]\u001b[A\u001b[A"
          ],
          "name": "stderr"
        },
        {
          "output_type": "stream",
          "text": [
            "AI Trader bought:  $ 51.365715\n"
          ],
          "name": "stdout"
        },
        {
          "output_type": "stream",
          "text": [
            "\n",
            "\n",
            " 12%|█▏        | 295/2556 [00:52<07:12,  5.22it/s]\u001b[A\u001b[A\n",
            "\n",
            " 12%|█▏        | 296/2556 [00:52<07:27,  5.06it/s]\u001b[A\u001b[A\n",
            "\n",
            " 12%|█▏        | 297/2556 [00:52<07:20,  5.12it/s]\u001b[A\u001b[A\n",
            "\n",
            " 12%|█▏        | 298/2556 [00:52<07:35,  4.96it/s]\u001b[A\u001b[A\n",
            "\n",
            " 12%|█▏        | 299/2556 [00:53<07:27,  5.05it/s]\u001b[A\u001b[A"
          ],
          "name": "stderr"
        },
        {
          "output_type": "stream",
          "text": [
            "AI Trader sold:  $ 49.524284  Profit: - $ 0.377144\n",
            "AI Trader sold:  $ 50.284286  Profit: - $ 1.081429\n"
          ],
          "name": "stdout"
        },
        {
          "output_type": "stream",
          "text": [
            "\n",
            "\n",
            " 12%|█▏        | 300/2556 [00:53<07:18,  5.14it/s]\u001b[A\u001b[A"
          ],
          "name": "stderr"
        },
        {
          "output_type": "stream",
          "text": [
            "AI Trader bought:  $ 50.508572\n"
          ],
          "name": "stdout"
        },
        {
          "output_type": "stream",
          "text": [
            "\n",
            "\n",
            " 12%|█▏        | 301/2556 [00:53<07:31,  4.99it/s]\u001b[A\u001b[A\n",
            "\n",
            " 12%|█▏        | 302/2556 [00:53<07:20,  5.12it/s]\u001b[A\u001b[A\n",
            "\n",
            " 12%|█▏        | 303/2556 [00:53<07:22,  5.09it/s]\u001b[A\u001b[A\n",
            "\n",
            " 12%|█▏        | 304/2556 [00:54<07:11,  5.21it/s]\u001b[A\u001b[A"
          ],
          "name": "stderr"
        },
        {
          "output_type": "stream",
          "text": [
            "AI Trader sold:  $ 47.805714  Profit: - $ 2.702858\n"
          ],
          "name": "stdout"
        },
        {
          "output_type": "stream",
          "text": [
            "\n",
            "\n",
            " 12%|█▏        | 305/2556 [00:54<07:10,  5.23it/s]\u001b[A\u001b[A\n",
            "\n",
            " 12%|█▏        | 306/2556 [00:54<07:04,  5.30it/s]\u001b[A\u001b[A\n",
            "\n",
            " 12%|█▏        | 307/2556 [00:54<07:09,  5.24it/s]\u001b[A\u001b[A\n",
            "\n",
            " 12%|█▏        | 308/2556 [00:54<07:08,  5.25it/s]\u001b[A\u001b[A"
          ],
          "name": "stderr"
        },
        {
          "output_type": "stream",
          "text": [
            "AI Trader bought:  $ 48.455715\n",
            "AI Trader sold:  $ 49.281429  Profit: $ 0.825714\n"
          ],
          "name": "stdout"
        },
        {
          "output_type": "stream",
          "text": [
            "\n",
            "\n",
            " 12%|█▏        | 309/2556 [00:55<07:17,  5.13it/s]\u001b[A\u001b[A\n",
            "\n",
            " 12%|█▏        | 310/2556 [00:55<07:11,  5.20it/s]\u001b[A\u001b[A\n",
            "\n",
            " 12%|█▏        | 311/2556 [00:55<07:13,  5.18it/s]\u001b[A\u001b[A\n",
            "\n",
            " 12%|█▏        | 312/2556 [00:55<07:18,  5.12it/s]\u001b[A\u001b[A\n",
            "\n",
            " 12%|█▏        | 313/2556 [00:55<07:13,  5.18it/s]\u001b[A\u001b[A\n",
            "\n",
            " 12%|█▏        | 314/2556 [00:56<07:16,  5.14it/s]\u001b[A\u001b[A\n",
            "\n",
            " 12%|█▏        | 315/2556 [00:56<07:06,  5.25it/s]\u001b[A\u001b[A\n",
            "\n",
            " 12%|█▏        | 316/2556 [00:56<07:08,  5.23it/s]\u001b[A\u001b[A\n",
            "\n",
            " 12%|█▏        | 317/2556 [00:56<07:01,  5.31it/s]\u001b[A\u001b[A\n",
            "\n",
            " 12%|█▏        | 318/2556 [00:56<07:04,  5.28it/s]\u001b[A\u001b[A"
          ],
          "name": "stderr"
        },
        {
          "output_type": "stream",
          "text": [
            "AI Trader bought:  $ 48.291428\n",
            "AI Trader sold:  $ 48.297142  Profit: $ 0.005714\n"
          ],
          "name": "stdout"
        },
        {
          "output_type": "stream",
          "text": [
            "\n",
            "\n",
            " 12%|█▏        | 319/2556 [00:57<07:17,  5.12it/s]\u001b[A\u001b[A\n",
            "\n",
            " 13%|█▎        | 320/2556 [00:57<07:07,  5.22it/s]\u001b[A\u001b[A\n",
            "\n",
            " 13%|█▎        | 321/2556 [00:57<07:08,  5.22it/s]\u001b[A\u001b[A\n",
            "\n",
            " 13%|█▎        | 322/2556 [00:57<07:17,  5.11it/s]\u001b[A\u001b[A\n",
            "\n",
            " 13%|█▎        | 323/2556 [00:57<07:21,  5.05it/s]"
          ],
          "name": "stderr"
        },
        {
          "output_type": "stream",
          "text": [
            "AI Trader bought:  $ 48.018570\n"
          ],
          "name": "stdout"
        },
        {
          "output_type": "stream",
          "text": [
            "\u001b[A\u001b[A\n",
            "\n",
            " 13%|█▎        | 324/2556 [00:58<07:24,  5.02it/s]\u001b[A\u001b[A"
          ],
          "name": "stderr"
        },
        {
          "output_type": "stream",
          "text": [
            "AI Trader sold:  $ 47.488571  Profit: - $ 0.529999\n",
            "AI Trader bought:  $ 46.779999\n"
          ],
          "name": "stdout"
        },
        {
          "output_type": "stream",
          "text": [
            "\n",
            "\n",
            " 13%|█▎        | 325/2556 [00:58<07:11,  5.18it/s]\u001b[A\u001b[A\n",
            "\n",
            " 13%|█▎        | 326/2556 [00:58<07:09,  5.20it/s]\u001b[A\u001b[A\n",
            "\n",
            " 13%|█▎        | 327/2556 [00:58<07:05,  5.24it/s]\u001b[A\u001b[A"
          ],
          "name": "stderr"
        },
        {
          "output_type": "stream",
          "text": [
            "AI Trader sold:  $ 48.265713  Profit: $ 1.485714\n"
          ],
          "name": "stdout"
        },
        {
          "output_type": "stream",
          "text": [
            "\n",
            "\n",
            " 13%|█▎        | 328/2556 [00:58<07:22,  5.03it/s]\u001b[A\u001b[A\n",
            "\n",
            " 13%|█▎        | 329/2556 [00:58<07:24,  5.01it/s]\u001b[A\u001b[A\n",
            "\n",
            " 13%|█▎        | 330/2556 [00:59<07:23,  5.02it/s]\u001b[A\u001b[A\n",
            "\n",
            " 13%|█▎        | 331/2556 [00:59<07:12,  5.14it/s]\u001b[A\u001b[A"
          ],
          "name": "stderr"
        },
        {
          "output_type": "stream",
          "text": [
            "AI Trader bought:  $ 50.060001\n",
            "AI Trader bought:  $ 50.021427\n"
          ],
          "name": "stdout"
        },
        {
          "output_type": "stream",
          "text": [
            "\n",
            "\n",
            " 13%|█▎        | 332/2556 [00:59<07:03,  5.25it/s]\u001b[A\u001b[A\n",
            "\n",
            " 13%|█▎        | 333/2556 [00:59<06:55,  5.35it/s]\u001b[A\u001b[A"
          ],
          "name": "stderr"
        },
        {
          "output_type": "stream",
          "text": [
            "AI Trader sold:  $ 50.018570  Profit: - $ 0.041431\n"
          ],
          "name": "stdout"
        },
        {
          "output_type": "stream",
          "text": [
            "\n",
            "\n",
            " 13%|█▎        | 334/2556 [00:59<07:09,  5.18it/s]\u001b[A\u001b[A\n",
            "\n",
            " 13%|█▎        | 335/2556 [01:00<07:11,  5.14it/s]\u001b[A\u001b[A\n",
            "\n",
            " 13%|█▎        | 336/2556 [01:00<07:03,  5.24it/s]\u001b[A\u001b[A"
          ],
          "name": "stderr"
        },
        {
          "output_type": "stream",
          "text": [
            "AI Trader sold:  $ 49.742859  Profit: - $ 0.278568\n"
          ],
          "name": "stdout"
        },
        {
          "output_type": "stream",
          "text": [
            "\n",
            "\n",
            " 13%|█▎        | 337/2556 [01:00<07:06,  5.20it/s]\u001b[A\u001b[A\n",
            "\n",
            " 13%|█▎        | 338/2556 [01:00<07:01,  5.26it/s]\u001b[A\u001b[A\n",
            "\n",
            " 13%|█▎        | 339/2556 [01:00<06:58,  5.29it/s]\u001b[A\u001b[A\n",
            "\n",
            " 13%|█▎        | 340/2556 [01:01<07:01,  5.26it/s]\u001b[A\u001b[A\n",
            "\n",
            " 13%|█▎        | 341/2556 [01:01<06:57,  5.31it/s]\u001b[A\u001b[A"
          ],
          "name": "stderr"
        },
        {
          "output_type": "stream",
          "text": [
            "AI Trader bought:  $ 49.921429\n"
          ],
          "name": "stdout"
        },
        {
          "output_type": "stream",
          "text": [
            "\n",
            "\n",
            " 13%|█▎        | 342/2556 [01:01<07:05,  5.20it/s]\u001b[A\u001b[A\n",
            "\n",
            " 13%|█▎        | 343/2556 [01:01<07:40,  4.80it/s]\u001b[A\u001b[A"
          ],
          "name": "stderr"
        },
        {
          "output_type": "stream",
          "text": [
            "AI Trader bought:  $ 48.642857\n"
          ],
          "name": "stdout"
        },
        {
          "output_type": "stream",
          "text": [
            "\n",
            "\n",
            " 13%|█▎        | 344/2556 [01:01<08:10,  4.51it/s]\u001b[A\u001b[A"
          ],
          "name": "stderr"
        },
        {
          "output_type": "stream",
          "text": [
            "AI Trader sold:  $ 47.614285  Profit: - $ 2.307144\n"
          ],
          "name": "stdout"
        },
        {
          "output_type": "stream",
          "text": [
            "\n",
            "\n",
            " 13%|█▎        | 345/2556 [01:02<08:35,  4.29it/s]\u001b[A\u001b[A\n",
            "\n",
            " 14%|█▎        | 346/2556 [01:02<08:25,  4.37it/s]\u001b[A\u001b[A\n",
            "\n",
            " 14%|█▎        | 347/2556 [01:02<08:07,  4.53it/s]\u001b[A\u001b[A"
          ],
          "name": "stderr"
        },
        {
          "output_type": "stream",
          "text": [
            "AI Trader sold:  $ 48.552856  Profit: - $ 0.090000\n",
            "AI Trader bought:  $ 48.647144\n"
          ],
          "name": "stdout"
        },
        {
          "output_type": "stream",
          "text": [
            "\n",
            "\n",
            " 14%|█▎        | 348/2556 [01:02<07:44,  4.76it/s]\u001b[A\u001b[A"
          ],
          "name": "stderr"
        },
        {
          "output_type": "stream",
          "text": [
            "AI Trader bought:  $ 47.888573\n"
          ],
          "name": "stdout"
        },
        {
          "output_type": "stream",
          "text": [
            "\n",
            "\n",
            " 14%|█▎        | 349/2556 [01:03<07:48,  4.71it/s]\u001b[A\u001b[A\n",
            "\n",
            " 14%|█▎        | 350/2556 [01:03<07:42,  4.77it/s]\u001b[A\u001b[A"
          ],
          "name": "stderr"
        },
        {
          "output_type": "stream",
          "text": [
            "AI Trader sold:  $ 47.771427  Profit: - $ 0.875717\n"
          ],
          "name": "stdout"
        },
        {
          "output_type": "stream",
          "text": [
            "\n",
            "\n",
            " 14%|█▎        | 351/2556 [01:03<07:42,  4.76it/s]\u001b[A\u001b[A\n",
            "\n",
            " 14%|█▍        | 352/2556 [01:03<07:24,  4.96it/s]\u001b[A\u001b[A"
          ],
          "name": "stderr"
        },
        {
          "output_type": "stream",
          "text": [
            "AI Trader sold:  $ 48.111427  Profit: $ 0.222855\n"
          ],
          "name": "stdout"
        },
        {
          "output_type": "stream",
          "text": [
            "\n",
            "\n",
            " 14%|█▍        | 353/2556 [01:03<07:15,  5.06it/s]\u001b[A\u001b[A\n",
            "\n",
            " 14%|█▍        | 354/2556 [01:04<07:06,  5.16it/s]\u001b[A\u001b[A\n",
            "\n",
            " 14%|█▍        | 355/2556 [01:04<07:17,  5.03it/s]\u001b[A\u001b[A\n",
            "\n",
            " 14%|█▍        | 356/2556 [01:04<07:07,  5.15it/s]\u001b[A\u001b[A\n",
            "\n",
            " 14%|█▍        | 357/2556 [01:04<07:05,  5.17it/s]\u001b[A\u001b[A\n",
            "\n",
            " 14%|█▍        | 358/2556 [01:04<07:01,  5.21it/s]\u001b[A\u001b[A\n",
            "\n",
            " 14%|█▍        | 359/2556 [01:05<07:10,  5.10it/s]\u001b[A\u001b[A"
          ],
          "name": "stderr"
        },
        {
          "output_type": "stream",
          "text": [
            "AI Trader bought:  $ 47.434284\n"
          ],
          "name": "stdout"
        },
        {
          "output_type": "stream",
          "text": [
            "\n",
            "\n",
            " 14%|█▍        | 360/2556 [01:05<07:20,  4.99it/s]\u001b[A\u001b[A\n",
            "\n",
            " 14%|█▍        | 361/2556 [01:05<07:21,  4.98it/s]\u001b[A\u001b[A\n",
            "\n",
            " 14%|█▍        | 362/2556 [01:05<07:10,  5.10it/s]\u001b[A\u001b[A"
          ],
          "name": "stderr"
        },
        {
          "output_type": "stream",
          "text": [
            "AI Trader sold:  $ 47.355713  Profit: - $ 0.078571\n",
            "AI Trader bought:  $ 46.557144\n"
          ],
          "name": "stdout"
        },
        {
          "output_type": "stream",
          "text": [
            "\n",
            "\n",
            " 14%|█▍        | 363/2556 [01:05<07:14,  5.04it/s]\u001b[A\u001b[A\n",
            "\n",
            " 14%|█▍        | 364/2556 [01:06<07:18,  4.99it/s]\u001b[A\u001b[A\n",
            "\n",
            " 14%|█▍        | 365/2556 [01:06<07:13,  5.06it/s]\u001b[A\u001b[A"
          ],
          "name": "stderr"
        },
        {
          "output_type": "stream",
          "text": [
            "AI Trader sold:  $ 47.491428  Profit: $ 0.934284\n",
            "AI Trader bought:  $ 46.678570\n"
          ],
          "name": "stdout"
        },
        {
          "output_type": "stream",
          "text": [
            "\n",
            "\n",
            " 14%|█▍        | 366/2556 [01:06<07:09,  5.10it/s]\u001b[A\u001b[A\n",
            "\n",
            " 14%|█▍        | 367/2556 [01:06<07:03,  5.17it/s]\u001b[A\u001b[A\n",
            "\n",
            " 14%|█▍        | 368/2556 [01:06<06:53,  5.29it/s]\u001b[A\u001b[A"
          ],
          "name": "stderr"
        },
        {
          "output_type": "stream",
          "text": [
            "AI Trader bought:  $ 45.751427\n",
            "AI Trader sold:  $ 45.045715  Profit: - $ 1.632854\n"
          ],
          "name": "stdout"
        },
        {
          "output_type": "stream",
          "text": [
            "\n",
            "\n",
            " 14%|█▍        | 369/2556 [01:06<06:54,  5.27it/s]\u001b[A\u001b[A\n",
            "\n",
            " 14%|█▍        | 370/2556 [01:07<06:58,  5.23it/s]\u001b[A\u001b[A"
          ],
          "name": "stderr"
        },
        {
          "output_type": "stream",
          "text": [
            "AI Trader sold:  $ 46.471428  Profit: $ 0.720001\n"
          ],
          "name": "stdout"
        },
        {
          "output_type": "stream",
          "text": [
            "\n",
            "\n",
            " 15%|█▍        | 371/2556 [01:07<07:14,  5.03it/s]\u001b[A\u001b[A"
          ],
          "name": "stderr"
        },
        {
          "output_type": "stream",
          "text": [
            "AI Trader bought:  $ 47.318573\n"
          ],
          "name": "stdout"
        },
        {
          "output_type": "stream",
          "text": [
            "\n",
            "\n",
            " 15%|█▍        | 372/2556 [01:07<07:18,  4.98it/s]\u001b[A\u001b[A\n",
            "\n",
            " 15%|█▍        | 373/2556 [01:07<07:09,  5.08it/s]\u001b[A\u001b[A"
          ],
          "name": "stderr"
        },
        {
          "output_type": "stream",
          "text": [
            "AI Trader bought:  $ 46.621429\n",
            "AI Trader sold:  $ 47.434284  Profit: $ 0.115711\n"
          ],
          "name": "stdout"
        },
        {
          "output_type": "stream",
          "text": [
            "\n",
            "\n",
            " 15%|█▍        | 374/2556 [01:07<07:12,  5.05it/s]\u001b[A\u001b[A\n",
            "\n",
            " 15%|█▍        | 375/2556 [01:08<07:03,  5.15it/s]\u001b[A\u001b[A"
          ],
          "name": "stderr"
        },
        {
          "output_type": "stream",
          "text": [
            "AI Trader sold:  $ 47.894287  Profit: $ 1.272858\n"
          ],
          "name": "stdout"
        },
        {
          "output_type": "stream",
          "text": [
            "\n",
            "\n",
            " 15%|█▍        | 376/2556 [01:08<07:12,  5.04it/s]\u001b[A\u001b[A\n",
            "\n",
            " 15%|█▍        | 377/2556 [01:08<07:20,  4.94it/s]\u001b[A\u001b[A\n",
            "\n",
            " 15%|█▍        | 378/2556 [01:08<07:11,  5.05it/s]\u001b[A\u001b[A"
          ],
          "name": "stderr"
        },
        {
          "output_type": "stream",
          "text": [
            "AI Trader bought:  $ 49.037144\n",
            "AI Trader sold:  $ 49.918571  Profit: $ 0.881428\n"
          ],
          "name": "stdout"
        },
        {
          "output_type": "stream",
          "text": [
            "\n",
            "\n",
            " 15%|█▍        | 379/2556 [01:08<07:16,  4.98it/s]\u001b[A\u001b[A\n",
            "\n",
            " 15%|█▍        | 380/2556 [01:09<07:08,  5.08it/s]\u001b[A\u001b[A\n",
            "\n",
            " 15%|█▍        | 381/2556 [01:09<07:10,  5.06it/s]\u001b[A\u001b[A\n",
            "\n",
            " 15%|█▍        | 382/2556 [01:09<07:14,  5.00it/s]\u001b[A\u001b[A\n",
            "\n",
            " 15%|█▍        | 383/2556 [01:09<07:14,  5.00it/s]\u001b[A\u001b[A\n",
            "\n",
            " 15%|█▌        | 384/2556 [01:09<07:12,  5.03it/s]\u001b[A\u001b[A"
          ],
          "name": "stderr"
        },
        {
          "output_type": "stream",
          "text": [
            "AI Trader bought:  $ 50.535713\n"
          ],
          "name": "stdout"
        },
        {
          "output_type": "stream",
          "text": [
            "\n",
            "\n",
            " 15%|█▌        | 385/2556 [01:10<07:17,  4.97it/s]\u001b[A\u001b[A\n",
            "\n",
            " 15%|█▌        | 386/2556 [01:10<07:14,  4.99it/s]\u001b[A\u001b[A"
          ],
          "name": "stderr"
        },
        {
          "output_type": "stream",
          "text": [
            "AI Trader sold:  $ 51.110001  Profit: $ 0.574287\n"
          ],
          "name": "stdout"
        },
        {
          "output_type": "stream",
          "text": [
            "\n",
            "\n",
            " 15%|█▌        | 387/2556 [01:10<07:32,  4.80it/s]\u001b[A\u001b[A\n",
            "\n",
            " 15%|█▌        | 388/2556 [01:10<07:16,  4.96it/s]\u001b[A\u001b[A"
          ],
          "name": "stderr"
        },
        {
          "output_type": "stream",
          "text": [
            "AI Trader bought:  $ 53.400002\n",
            "AI Trader sold:  $ 53.835712  Profit: $ 0.435711\n"
          ],
          "name": "stdout"
        },
        {
          "output_type": "stream",
          "text": [
            "\n",
            "\n",
            " 15%|█▌        | 389/2556 [01:10<07:16,  4.96it/s]\u001b[A\u001b[A\n",
            "\n",
            " 15%|█▌        | 390/2556 [01:11<07:08,  5.05it/s]\u001b[A\u001b[A\n",
            "\n",
            " 15%|█▌        | 391/2556 [01:11<07:04,  5.10it/s]\u001b[A\u001b[A"
          ],
          "name": "stderr"
        },
        {
          "output_type": "stream",
          "text": [
            "AI Trader bought:  $ 55.327145\n",
            "AI Trader sold:  $ 56.185715  Profit: $ 0.858570\n"
          ],
          "name": "stdout"
        },
        {
          "output_type": "stream",
          "text": [
            "\n",
            "\n",
            " 15%|█▌        | 392/2556 [01:11<07:14,  4.98it/s]\u001b[A\u001b[A\n",
            "\n",
            " 15%|█▌        | 393/2556 [01:11<07:07,  5.06it/s]\u001b[A\u001b[A\n",
            "\n",
            " 15%|█▌        | 394/2556 [01:11<07:01,  5.13it/s]\u001b[A\u001b[A\n",
            "\n",
            " 15%|█▌        | 395/2556 [01:12<06:58,  5.16it/s]\u001b[A\u001b[A"
          ],
          "name": "stderr"
        },
        {
          "output_type": "stream",
          "text": [
            "AI Trader bought:  $ 56.084286\n",
            "AI Trader bought:  $ 55.974285\n"
          ],
          "name": "stdout"
        },
        {
          "output_type": "stream",
          "text": [
            "\n",
            "\n",
            " 15%|█▌        | 396/2556 [01:12<06:54,  5.21it/s]\u001b[A\u001b[A\n",
            "\n",
            " 16%|█▌        | 397/2556 [01:12<06:50,  5.26it/s]\u001b[A\u001b[A"
          ],
          "name": "stderr"
        },
        {
          "output_type": "stream",
          "text": [
            "AI Trader bought:  $ 55.782856\n",
            "AI Trader sold:  $ 56.678570  Profit: $ 0.594284\n"
          ],
          "name": "stdout"
        },
        {
          "output_type": "stream",
          "text": [
            "\n",
            "\n",
            " 16%|█▌        | 398/2556 [01:12<07:20,  4.90it/s]\u001b[A\u001b[A\n",
            "\n",
            " 16%|█▌        | 399/2556 [01:12<07:13,  4.97it/s]\u001b[A\u001b[A"
          ],
          "name": "stderr"
        },
        {
          "output_type": "stream",
          "text": [
            "AI Trader bought:  $ 55.558571\n",
            "AI Trader bought:  $ 56.081429\n"
          ],
          "name": "stdout"
        },
        {
          "output_type": "stream",
          "text": [
            "\n",
            "\n",
            " 16%|█▌        | 400/2556 [01:13<07:10,  5.01it/s]\u001b[A\u001b[A\n",
            "\n",
            " 16%|█▌        | 401/2556 [01:13<07:06,  5.05it/s]\u001b[A\u001b[A"
          ],
          "name": "stderr"
        },
        {
          "output_type": "stream",
          "text": [
            "AI Trader bought:  $ 53.910000\n",
            "AI Trader bought:  $ 53.374287\n"
          ],
          "name": "stdout"
        },
        {
          "output_type": "stream",
          "text": [
            "\n",
            "\n",
            " 16%|█▌        | 402/2556 [01:13<07:05,  5.07it/s]\u001b[A\u001b[A\n",
            "\n",
            " 16%|█▌        | 403/2556 [01:13<07:11,  4.99it/s]"
          ],
          "name": "stderr"
        },
        {
          "output_type": "stream",
          "text": [
            "AI Trader bought:  $ 50.458572\n"
          ],
          "name": "stdout"
        },
        {
          "output_type": "stream",
          "text": [
            "\u001b[A\u001b[A\n",
            "\n",
            " 16%|█▌        | 404/2556 [01:13<07:10,  5.00it/s]\u001b[A\u001b[A"
          ],
          "name": "stderr"
        },
        {
          "output_type": "stream",
          "text": [
            "AI Trader sold:  $ 53.430000  Profit: - $ 2.544285\n",
            "AI Trader sold:  "
          ],
          "name": "stdout"
        },
        {
          "output_type": "stream",
          "text": [
            "\n",
            "\n",
            " 16%|█▌        | 405/2556 [01:14<07:10,  5.00it/s]\u001b[A\u001b[A"
          ],
          "name": "stderr"
        },
        {
          "output_type": "stream",
          "text": [
            "$ 51.955715  Profit: - $ 3.827141\n",
            "AI Trader sold:  $ 53.385715  Profit: - $ 2.172855\n"
          ],
          "name": "stdout"
        },
        {
          "output_type": "stream",
          "text": [
            "\n",
            "\n",
            " 16%|█▌        | 406/2556 [01:14<07:25,  4.82it/s]\u001b[A\u001b[A\n",
            "\n",
            " 16%|█▌        | 407/2556 [01:14<07:16,  4.93it/s]\u001b[A\u001b[A"
          ],
          "name": "stderr"
        },
        {
          "output_type": "stream",
          "text": [
            "AI Trader sold:  $ 53.855713  Profit: - $ 2.225716\n",
            "AI Trader sold:  $ 54.772858  Profit: $ 0.862858\n"
          ],
          "name": "stdout"
        },
        {
          "output_type": "stream",
          "text": [
            "\n",
            "\n",
            " 16%|█▌        | 408/2556 [01:14<07:13,  4.95it/s]\u001b[A\u001b[A\n",
            "\n",
            " 16%|█▌        | 409/2556 [01:14<07:03,  5.07it/s]\u001b[A\u001b[A"
          ],
          "name": "stderr"
        },
        {
          "output_type": "stream",
          "text": [
            "AI Trader sold:  $ 54.354286  Profit: $ 0.980000\n",
            "AI Trader bought:  $ 54.348572\n"
          ],
          "name": "stdout"
        },
        {
          "output_type": "stream",
          "text": [
            "\n",
            "\n",
            " 16%|█▌        | 410/2556 [01:15<06:59,  5.12it/s]\u001b[A\u001b[A\n",
            "\n",
            " 16%|█▌        | 411/2556 [01:15<06:59,  5.11it/s]\u001b[A\u001b[A"
          ],
          "name": "stderr"
        },
        {
          "output_type": "stream",
          "text": [
            "AI Trader bought:  $ 52.292858\n",
            "AI Trader sold:  $ 50.861427  Profit: $ 0.402855\n"
          ],
          "name": "stdout"
        },
        {
          "output_type": "stream",
          "text": [
            "\n",
            "\n",
            " 16%|█▌        | 412/2556 [01:15<07:02,  5.07it/s]\u001b[A\u001b[A\n",
            "\n",
            " 16%|█▌        | 413/2556 [01:15<07:06,  5.02it/s]\u001b[A\u001b[A\n",
            "\n",
            " 16%|█▌        | 414/2556 [01:15<07:08,  5.00it/s]\u001b[A\u001b[A\n",
            "\n",
            " 16%|█▌        | 415/2556 [01:16<06:59,  5.11it/s]\u001b[A\u001b[A"
          ],
          "name": "stderr"
        },
        {
          "output_type": "stream",
          "text": [
            "AI Trader sold:  $ 53.740002  Profit: - $ 0.608570\n"
          ],
          "name": "stdout"
        },
        {
          "output_type": "stream",
          "text": [
            "\n",
            "\n",
            " 16%|█▋        | 416/2556 [01:16<07:08,  4.99it/s]\u001b[A\u001b[A\n",
            "\n",
            " 16%|█▋        | 417/2556 [01:16<07:08,  4.99it/s]\u001b[A\u001b[A"
          ],
          "name": "stderr"
        },
        {
          "output_type": "stream",
          "text": [
            "AI Trader bought:  $ 54.797142\n",
            "AI Trader sold:  $ 55.709999  Profit: $ 3.417141\n"
          ],
          "name": "stdout"
        },
        {
          "output_type": "stream",
          "text": [
            "\n",
            "\n",
            " 16%|█▋        | 418/2556 [01:16<07:18,  4.87it/s]\u001b[A\u001b[A\n",
            "\n",
            " 16%|█▋        | 419/2556 [01:16<07:12,  4.94it/s]\u001b[A\u001b[A"
          ],
          "name": "stderr"
        },
        {
          "output_type": "stream",
          "text": [
            "AI Trader sold:  $ 55.712856  Profit: $ 0.915714\n",
            "AI Trader bought:  $ 54.975716\n"
          ],
          "name": "stdout"
        },
        {
          "output_type": "stream",
          "text": [
            "\n",
            "\n",
            " 16%|█▋        | 420/2556 [01:17<07:08,  4.99it/s]\u001b[A\u001b[A\n",
            "\n",
            " 16%|█▋        | 421/2556 [01:17<06:58,  5.10it/s]\u001b[A\u001b[A"
          ],
          "name": "stderr"
        },
        {
          "output_type": "stream",
          "text": [
            "AI Trader sold:  $ 54.432858  Profit: - $ 0.542858\n"
          ],
          "name": "stdout"
        },
        {
          "output_type": "stream",
          "text": [
            "\n",
            "\n",
            " 17%|█▋        | 422/2556 [01:17<06:55,  5.13it/s]\u001b[A\u001b[A\n",
            "\n",
            " 17%|█▋        | 423/2556 [01:17<06:49,  5.21it/s]\u001b[A\u001b[A\n",
            "\n",
            " 17%|█▋        | 424/2556 [01:17<06:57,  5.11it/s]\u001b[A\u001b[A\n",
            "\n",
            " 17%|█▋        | 425/2556 [01:18<07:08,  4.97it/s]\u001b[A\u001b[A\n",
            "\n",
            " 17%|█▋        | 426/2556 [01:18<07:19,  4.84it/s]\u001b[A\u001b[A\n",
            "\n",
            " 17%|█▋        | 427/2556 [01:18<07:10,  4.95it/s]\u001b[A\u001b[A\n",
            "\n",
            " 17%|█▋        | 428/2556 [01:18<07:01,  5.05it/s]\u001b[A\u001b[A\n",
            "\n",
            " 17%|█▋        | 429/2556 [01:18<06:58,  5.09it/s]\u001b[A\u001b[A\n",
            "\n",
            " 17%|█▋        | 430/2556 [01:19<06:59,  5.07it/s]\u001b[A\u001b[A\n",
            "\n",
            " 17%|█▋        | 431/2556 [01:19<06:55,  5.11it/s]\u001b[A\u001b[A\n",
            "\n",
            " 17%|█▋        | 432/2556 [01:19<06:53,  5.14it/s]\u001b[A\u001b[A\n",
            "\n",
            " 17%|█▋        | 433/2556 [01:19<06:51,  5.16it/s]\u001b[A\u001b[A\n",
            "\n",
            " 17%|█▋        | 434/2556 [01:19<07:18,  4.84it/s]\u001b[A\u001b[A\n",
            "\n",
            " 17%|█▋        | 435/2556 [01:20<07:11,  4.92it/s]\u001b[A\u001b[A\n",
            "\n",
            " 17%|█▋        | 436/2556 [01:20<07:44,  4.56it/s]\u001b[A\u001b[A\n",
            "\n",
            " 17%|█▋        | 437/2556 [01:20<08:12,  4.31it/s]\u001b[A\u001b[A\n",
            "\n",
            " 17%|█▋        | 438/2556 [01:20<08:21,  4.23it/s]\u001b[A\u001b[A"
          ],
          "name": "stderr"
        },
        {
          "output_type": "stream",
          "text": [
            "AI Trader bought:  $ 56.715714\n"
          ],
          "name": "stdout"
        },
        {
          "output_type": "stream",
          "text": [
            "\n",
            "\n",
            " 17%|█▋        | 439/2556 [01:21<08:19,  4.24it/s]\u001b[A\u001b[A\n",
            "\n"
          ],
          "name": "stderr"
        },
        {
          "output_type": "stream",
          "text": [
            "AI Trader bought:  $ 55.795715\n"
          ],
          "name": "stdout"
        },
        {
          "output_type": "stream",
          "text": [
            "\r 17%|█▋        | 440/2556 [01:21<08:01,  4.40it/s]\u001b[A\u001b[A\n",
            "\n",
            " 17%|█▋        | 441/2556 [01:21<07:40,  4.60it/s]\u001b[A\u001b[A"
          ],
          "name": "stderr"
        },
        {
          "output_type": "stream",
          "text": [
            "AI Trader sold:  $ 54.474285  Profit: - $ 2.241428\n"
          ],
          "name": "stdout"
        },
        {
          "output_type": "stream",
          "text": [
            "\n",
            "\n",
            " 17%|█▋        | 442/2556 [01:21<07:24,  4.76it/s]\u001b[A\u001b[A\n",
            "\n",
            " 17%|█▋        | 443/2556 [01:21<07:09,  4.92it/s]\u001b[A\u001b[A\n",
            "\n",
            " 17%|█▋        | 444/2556 [01:22<06:58,  5.04it/s]\u001b[A\u001b[A"
          ],
          "name": "stderr"
        },
        {
          "output_type": "stream",
          "text": [
            "AI Trader sold:  $ 54.035713  Profit: - $ 1.760002\n"
          ],
          "name": "stdout"
        },
        {
          "output_type": "stream",
          "text": [
            "\n",
            "\n",
            " 17%|█▋        | 445/2556 [01:22<06:57,  5.05it/s]\u001b[A\u001b[A\n",
            "\n",
            " 17%|█▋        | 446/2556 [01:22<06:51,  5.13it/s]\u001b[A\u001b[A"
          ],
          "name": "stderr"
        },
        {
          "output_type": "stream",
          "text": [
            "AI Trader bought:  $ 52.828571\n"
          ],
          "name": "stdout"
        },
        {
          "output_type": "stream",
          "text": [
            "\n",
            "\n",
            " 17%|█▋        | 447/2556 [01:22<06:54,  5.09it/s]\u001b[A\u001b[A\n",
            "\n",
            " 18%|█▊        | 448/2556 [01:22<06:53,  5.10it/s]\u001b[A\u001b[A"
          ],
          "name": "stderr"
        },
        {
          "output_type": "stream",
          "text": [
            "AI Trader sold:  $ 57.184284  Profit: $ 4.355713\n"
          ],
          "name": "stdout"
        },
        {
          "output_type": "stream",
          "text": [
            "\n",
            "\n",
            " 18%|█▊        | 449/2556 [01:23<06:50,  5.13it/s]\u001b[A\u001b[A\n",
            "\n",
            " 18%|█▊        | 450/2556 [01:23<06:54,  5.08it/s]\u001b[A\u001b[A\n",
            "\n",
            " 18%|█▊        | 451/2556 [01:23<07:00,  5.01it/s]\u001b[A\u001b[A\n",
            "\n",
            " 18%|█▊        | 452/2556 [01:23<06:51,  5.12it/s]\u001b[A\u001b[A\n",
            "\n",
            " 18%|█▊        | 453/2556 [01:23<06:49,  5.13it/s]\u001b[A\u001b[A"
          ],
          "name": "stderr"
        },
        {
          "output_type": "stream",
          "text": [
            "AI Trader bought:  $ 60.320000\n",
            "AI Trader bought:  $ 56.945713\n"
          ],
          "name": "stdout"
        },
        {
          "output_type": "stream",
          "text": [
            "\n",
            "\n",
            " 18%|█▊        | 454/2556 [01:24<07:05,  4.94it/s]\u001b[A\u001b[A\n",
            "\n",
            " 18%|█▊        | 455/2556 [01:24<07:03,  4.96it/s]\u001b[A\u001b[A"
          ],
          "name": "stderr"
        },
        {
          "output_type": "stream",
          "text": [
            "AI Trader sold:  $ 56.472858  Profit: - $ 3.847141\n"
          ],
          "name": "stdout"
        },
        {
          "output_type": "stream",
          "text": [
            "\n",
            "\n",
            " 18%|█▊        | 456/2556 [01:24<06:59,  5.01it/s]\u001b[A\u001b[A\n",
            "\n",
            " 18%|█▊        | 457/2556 [01:24<06:57,  5.03it/s]\u001b[A\u001b[A\n",
            "\n",
            " 18%|█▊        | 458/2556 [01:24<06:45,  5.17it/s]\u001b[A\u001b[A"
          ],
          "name": "stderr"
        },
        {
          "output_type": "stream",
          "text": [
            "AI Trader bought:  $ 56.824287\n",
            "AI Trader sold:  $ 57.228573  Profit: $ 0.282860\n"
          ],
          "name": "stdout"
        },
        {
          "output_type": "stream",
          "text": [
            "\n",
            "\n",
            " 18%|█▊        | 459/2556 [01:25<06:45,  5.18it/s]\u001b[A\u001b[A\n",
            "\n",
            " 18%|█▊        | 460/2556 [01:25<06:40,  5.23it/s]\u001b[A\u001b[A\n",
            "\n",
            " 18%|█▊        | 461/2556 [01:25<06:51,  5.09it/s]\u001b[A\u001b[A"
          ],
          "name": "stderr"
        },
        {
          "output_type": "stream",
          "text": [
            "AI Trader sold:  $ 57.849998  Profit: $ 1.025711\n"
          ],
          "name": "stdout"
        },
        {
          "output_type": "stream",
          "text": [
            "\n",
            "\n",
            " 18%|█▊        | 462/2556 [01:25<06:53,  5.07it/s]\u001b[A\u001b[A"
          ],
          "name": "stderr"
        },
        {
          "output_type": "stream",
          "text": [
            "AI Trader bought:  $ 57.825714\n",
            "AI Trader bought:  $ 56.644287\n"
          ],
          "name": "stdout"
        },
        {
          "output_type": "stream",
          "text": [
            "\n",
            "\n",
            " 18%|█▊        | 463/2556 [01:25<06:48,  5.12it/s]\u001b[A\u001b[A\n",
            "\n",
            " 18%|█▊        | 464/2556 [01:25<06:44,  5.17it/s]\u001b[A\u001b[A\n",
            "\n",
            " 18%|█▊        | 465/2556 [01:26<06:39,  5.23it/s]\u001b[A\u001b[A"
          ],
          "name": "stderr"
        },
        {
          "output_type": "stream",
          "text": [
            "AI Trader bought:  $ 57.581429\n",
            "AI Trader bought:  $ 57.177143\n"
          ],
          "name": "stdout"
        },
        {
          "output_type": "stream",
          "text": [
            "\n",
            "\n",
            " 18%|█▊        | 466/2556 [01:26<06:39,  5.24it/s]\u001b[A\u001b[A\n",
            "\n",
            " 18%|█▊        | 467/2556 [01:26<06:44,  5.17it/s]\u001b[A\u001b[A"
          ],
          "name": "stderr"
        },
        {
          "output_type": "stream",
          "text": [
            "AI Trader bought:  $ 57.104286\n",
            "AI Trader bought:  $ 58.032856\n"
          ],
          "name": "stdout"
        },
        {
          "output_type": "stream",
          "text": [
            "\n",
            "\n",
            " 18%|█▊        | 468/2556 [01:26<06:50,  5.09it/s]\u001b[A\u001b[A\n",
            "\n",
            " 18%|█▊        | 469/2556 [01:26<06:42,  5.19it/s]\u001b[A\u001b[A"
          ],
          "name": "stderr"
        },
        {
          "output_type": "stream",
          "text": [
            "AI Trader bought:  $ 56.468571\n",
            "AI Trader sold:  $ 55.031429  Profit: - $ 2.794285\n"
          ],
          "name": "stdout"
        },
        {
          "output_type": "stream",
          "text": [
            "\n",
            "\n",
            " 18%|█▊        | 470/2556 [01:27<06:46,  5.14it/s]\u001b[A\u001b[A\n",
            "\n",
            " 18%|█▊        | 471/2556 [01:27<06:38,  5.23it/s]\u001b[A\u001b[A"
          ],
          "name": "stderr"
        },
        {
          "output_type": "stream",
          "text": [
            "AI Trader bought:  $ 54.945713\n",
            "AI Trader sold:  $ 54.180000  Profit: - $ 2.464287\n"
          ],
          "name": "stdout"
        },
        {
          "output_type": "stream",
          "text": [
            "\n",
            "\n",
            " 18%|█▊        | 472/2556 [01:27<06:52,  5.05it/s]\u001b[A\u001b[A\n",
            "\n",
            " 19%|█▊        | 473/2556 [01:27<06:51,  5.07it/s]\u001b[A\u001b[A"
          ],
          "name": "stderr"
        },
        {
          "output_type": "stream",
          "text": [
            "AI Trader sold:  $ 55.547142  Profit: - $ 2.034286\n",
            "AI Trader bought:  $ 54.967144\n"
          ],
          "name": "stdout"
        },
        {
          "output_type": "stream",
          "text": [
            "\n",
            "\n",
            " 19%|█▊        | 474/2556 [01:27<06:42,  5.17it/s]\u001b[A\u001b[A\n",
            "\n",
            " 19%|█▊        | 475/2556 [01:28<06:40,  5.20it/s]\u001b[A\u001b[A\n",
            "\n",
            " 19%|█▊        | 476/2556 [01:28<06:32,  5.30it/s]\u001b[A\u001b[A\n",
            "\n",
            " 19%|█▊        | 477/2556 [01:28<06:28,  5.35it/s]\u001b[A\u001b[A"
          ],
          "name": "stderr"
        },
        {
          "output_type": "stream",
          "text": [
            "AI Trader sold:  $ 53.787144  Profit: - $ 3.389999\n"
          ],
          "name": "stdout"
        },
        {
          "output_type": "stream",
          "text": [
            "\n",
            "\n",
            " 19%|█▊        | 478/2556 [01:28<06:42,  5.16it/s]\u001b[A\u001b[A\n",
            "\n",
            " 19%|█▊        | 479/2556 [01:28<06:38,  5.21it/s]\u001b[A\u001b[A"
          ],
          "name": "stderr"
        },
        {
          "output_type": "stream",
          "text": [
            "AI Trader sold:  $ 52.427143  Profit: - $ 4.677143\n"
          ],
          "name": "stdout"
        },
        {
          "output_type": "stream",
          "text": [
            "\n",
            "\n",
            " 19%|█▉        | 480/2556 [01:29<06:35,  5.25it/s]\u001b[A\u001b[A\n",
            "\n",
            " 19%|█▉        | 481/2556 [01:29<06:28,  5.34it/s]\u001b[A\u001b[A\n",
            "\n",
            " 19%|█▉        | 482/2556 [01:29<06:29,  5.33it/s]\u001b[A\u001b[A"
          ],
          "name": "stderr"
        },
        {
          "output_type": "stream",
          "text": [
            "AI Trader sold:  $ 53.314285  Profit: - $ 4.718571\n",
            "AI Trader sold:  $ 54.599998  Profit: - $ 1.868572\n"
          ],
          "name": "stdout"
        },
        {
          "output_type": "stream",
          "text": [
            "\n",
            "\n",
            " 19%|█▉        | 483/2556 [01:29<06:41,  5.17it/s]\u001b[A\u001b[A\n",
            "\n",
            " 19%|█▉        | 484/2556 [01:29<06:45,  5.11it/s]\u001b[A\u001b[A\n",
            "\n",
            " 19%|█▉        | 485/2556 [01:30<06:40,  5.17it/s]\u001b[A\u001b[A"
          ],
          "name": "stderr"
        },
        {
          "output_type": "stream",
          "text": [
            "AI Trader sold:  $ 55.671429  Profit: $ 0.725716\n",
            "AI Trader sold:  $ 56.144287  Profit: $ 1.177143\n"
          ],
          "name": "stdout"
        },
        {
          "output_type": "stream",
          "text": [
            "\n",
            "\n",
            " 19%|█▉        | 486/2556 [01:30<06:37,  5.21it/s]\u001b[A\u001b[A\n",
            "\n",
            " 19%|█▉        | 487/2556 [01:30<06:31,  5.29it/s]\u001b[A\u001b[A"
          ],
          "name": "stderr"
        },
        {
          "output_type": "stream",
          "text": [
            "AI Trader bought:  $ 55.849998\n",
            "AI Trader sold:  $ 55.584286  Profit: - $ 0.265713\n"
          ],
          "name": "stdout"
        },
        {
          "output_type": "stream",
          "text": [
            "\n",
            "\n",
            " 19%|█▉        | 488/2556 [01:30<06:37,  5.20it/s]\u001b[A\u001b[A\n",
            "\n",
            " 19%|█▉        | 489/2556 [01:30<06:47,  5.07it/s]\u001b[A\u001b[A\n",
            "\n",
            " 19%|█▉        | 490/2556 [01:30<06:36,  5.21it/s]\u001b[A\u001b[A"
          ],
          "name": "stderr"
        },
        {
          "output_type": "stream",
          "text": [
            "AI Trader bought:  $ 56.231430\n",
            "AI Trader sold:  $ 55.977142  Profit: - $ 0.254288\n"
          ],
          "name": "stdout"
        },
        {
          "output_type": "stream",
          "text": [
            "\n",
            "\n",
            " 19%|█▉        | 491/2556 [01:31<06:37,  5.20it/s]\u001b[A\u001b[A\n",
            "\n",
            " 19%|█▉        | 492/2556 [01:31<06:31,  5.27it/s]\u001b[A\u001b[A"
          ],
          "name": "stderr"
        },
        {
          "output_type": "stream",
          "text": [
            "AI Trader bought:  $ 55.544285\n",
            "AI Trader bought:  $ 54.312859\n"
          ],
          "name": "stdout"
        },
        {
          "output_type": "stream",
          "text": [
            "\n",
            "\n",
            " 19%|█▉        | 493/2556 [01:31<06:37,  5.19it/s]\u001b[A\u001b[A\n",
            "\n"
          ],
          "name": "stderr"
        },
        {
          "output_type": "stream",
          "text": [
            "AI Trader sold:  $ 54.134285  Profit: - $ 1.410000\n"
          ],
          "name": "stdout"
        },
        {
          "output_type": "stream",
          "text": [
            "\r 19%|█▉        | 494/2556 [01:31<06:46,  5.07it/s]\u001b[A\u001b[A\n",
            "\n",
            " 19%|█▉        | 495/2556 [01:31<06:37,  5.18it/s]\u001b[A\u001b[A\n",
            "\n",
            " 19%|█▉        | 496/2556 [01:32<06:40,  5.15it/s]\u001b[A\u001b[A"
          ],
          "name": "stderr"
        },
        {
          "output_type": "stream",
          "text": [
            "AI Trader sold:  $ 54.601429  Profit: $ 0.288570\n",
            "AI Trader bought:  $ 56.564285\n"
          ],
          "name": "stdout"
        },
        {
          "output_type": "stream",
          "text": [
            "\n",
            "\n",
            " 19%|█▉        | 497/2556 [01:32<06:39,  5.15it/s]\u001b[A\u001b[A\n",
            "\n",
            " 19%|█▉        | 498/2556 [01:32<06:34,  5.22it/s]\u001b[A\u001b[A"
          ],
          "name": "stderr"
        },
        {
          "output_type": "stream",
          "text": [
            "AI Trader bought:  $ 56.635715\n",
            "AI Trader sold:  $ 56.935715  Profit: $ 0.371429\n"
          ],
          "name": "stdout"
        },
        {
          "output_type": "stream",
          "text": [
            "\n",
            "\n",
            " 20%|█▉        | 499/2556 [01:32<06:28,  5.29it/s]\u001b[A\u001b[A\n",
            "\n",
            " 20%|█▉        | 500/2556 [01:32<06:36,  5.18it/s]\u001b[A\u001b[A"
          ],
          "name": "stderr"
        },
        {
          "output_type": "stream",
          "text": [
            "AI Trader bought:  $ 57.618572\n",
            "AI Trader sold:  $ 58.075714  Profit: $ 1.439999\n"
          ],
          "name": "stdout"
        },
        {
          "output_type": "stream",
          "text": [
            "\n",
            "\n",
            " 20%|█▉        | 501/2556 [01:33<06:35,  5.20it/s]\u001b[A\u001b[A\n",
            "\n",
            " 20%|█▉        | 502/2556 [01:33<06:40,  5.13it/s]\u001b[A\u001b[A"
          ],
          "name": "stderr"
        },
        {
          "output_type": "stream",
          "text": [
            "AI Trader sold:  $ 57.520000  Profit: - $ 0.098572\n"
          ],
          "name": "stdout"
        },
        {
          "output_type": "stream",
          "text": [
            "\n",
            "\n",
            " 20%|█▉        | 503/2556 [01:33<06:42,  5.10it/s]\u001b[A\u001b[A\n",
            "\n",
            " 20%|█▉        | 504/2556 [01:33<06:40,  5.12it/s]\u001b[A\u001b[A"
          ],
          "name": "stderr"
        },
        {
          "output_type": "stream",
          "text": [
            "AI Trader bought:  $ 57.857143\n",
            "AI Trader sold:  $ 58.747143  Profit: $ 0.889999\n"
          ],
          "name": "stdout"
        },
        {
          "output_type": "stream",
          "text": [
            "\n",
            "\n",
            " 20%|█▉        | 505/2556 [01:33<06:48,  5.02it/s]\u001b[A\u001b[A\n",
            "\n",
            " 20%|█▉        | 506/2556 [01:34<06:44,  5.07it/s]\u001b[A\u001b[A"
          ],
          "name": "stderr"
        },
        {
          "output_type": "stream",
          "text": [
            "AI Trader bought:  $ 59.062859\n",
            "AI Trader sold:  $ 59.718571  Profit: $ 0.655712\n"
          ],
          "name": "stdout"
        },
        {
          "output_type": "stream",
          "text": [
            "\n",
            "\n",
            " 20%|█▉        | 507/2556 [01:34<06:43,  5.07it/s]\u001b[A\u001b[A"
          ],
          "name": "stderr"
        },
        {
          "output_type": "stream",
          "text": [
            "AI Trader bought:  $ 60.342857\n"
          ],
          "name": "stdout"
        },
        {
          "output_type": "stream",
          "text": [
            "\n",
            "\n",
            " 20%|█▉        | 508/2556 [01:34<06:51,  4.98it/s]\u001b[A\u001b[A\n",
            "\n",
            " 20%|█▉        | 509/2556 [01:34<06:50,  4.98it/s]\u001b[A\u001b[A"
          ],
          "name": "stderr"
        },
        {
          "output_type": "stream",
          "text": [
            "AI Trader sold:  $ 60.247143  Profit: - $ 0.095715\n"
          ],
          "name": "stdout"
        },
        {
          "output_type": "stream",
          "text": [
            "\n",
            "\n",
            " 20%|█▉        | 510/2556 [01:34<06:56,  4.91it/s]\u001b[A\u001b[A\n",
            "\n",
            " 20%|█▉        | 511/2556 [01:35<06:46,  5.04it/s]\u001b[A\u001b[A"
          ],
          "name": "stderr"
        },
        {
          "output_type": "stream",
          "text": [
            "AI Trader bought:  $ 60.364285\n",
            "AI Trader sold:  $ 60.198570  Profit: - $ 0.165714\n"
          ],
          "name": "stdout"
        },
        {
          "output_type": "stream",
          "text": [
            "\n",
            "\n",
            " 20%|██        | 512/2556 [01:35<06:40,  5.10it/s]\u001b[A\u001b[A\n",
            "\n",
            " 20%|██        | 513/2556 [01:35<06:34,  5.18it/s]\u001b[A\u001b[A\n",
            "\n",
            " 20%|██        | 514/2556 [01:35<06:27,  5.27it/s]\u001b[A\u001b[A\n",
            "\n",
            " 20%|██        | 515/2556 [01:35<06:33,  5.19it/s]\u001b[A\u001b[A\n",
            "\n",
            " 20%|██        | 516/2556 [01:36<06:33,  5.19it/s]\u001b[A\u001b[A\n",
            "\n",
            " 20%|██        | 517/2556 [01:36<06:33,  5.19it/s]\u001b[A\u001b[A\n",
            "\n",
            " 20%|██        | 518/2556 [01:36<06:25,  5.28it/s]\u001b[A\u001b[A\n",
            "\n",
            " 20%|██        | 519/2556 [01:36<06:24,  5.29it/s]\u001b[A\u001b[A\n",
            "\n",
            " 20%|██        | 520/2556 [01:36<06:22,  5.32it/s]\u001b[A\u001b[A\n",
            "\n",
            " 20%|██        | 521/2556 [01:37<06:38,  5.11it/s]\u001b[A\u001b[A\n",
            "\n",
            " 20%|██        | 522/2556 [01:37<06:31,  5.19it/s]\u001b[A\u001b[A\n",
            "\n",
            " 20%|██        | 523/2556 [01:37<06:28,  5.23it/s]\u001b[A\u001b[A"
          ],
          "name": "stderr"
        },
        {
          "output_type": "stream",
          "text": [
            "AI Trader bought:  $ 64.715714\n",
            "AI Trader bought:  $ 65.211426\n"
          ],
          "name": "stdout"
        },
        {
          "output_type": "stream",
          "text": [
            "\n",
            "\n",
            " 21%|██        | 524/2556 [01:37<06:24,  5.28it/s]\u001b[A\u001b[A\n",
            "\n",
            " 21%|██        | 525/2556 [01:37<06:16,  5.39it/s]\u001b[A\u001b[A"
          ],
          "name": "stderr"
        },
        {
          "output_type": "stream",
          "text": [
            "AI Trader sold:  $ 65.169998  Profit: $ 0.454285\n",
            "AI Trader sold:  $ 65.017143  Profit: - $ 0.194283\n"
          ],
          "name": "stdout"
        },
        {
          "output_type": "stream",
          "text": [
            "\n",
            "\n",
            " 21%|██        | 526/2556 [01:37<06:34,  5.14it/s]\u001b[A\u001b[A\n",
            "\n",
            " 21%|██        | 527/2556 [01:38<06:31,  5.18it/s]\u001b[A\u001b[A\n",
            "\n",
            " 21%|██        | 528/2556 [01:38<06:31,  5.18it/s]\u001b[A\u001b[A\n",
            "\n",
            " 21%|██        | 529/2556 [01:38<06:41,  5.05it/s]\u001b[A\u001b[A\n",
            "\n",
            " 21%|██        | 530/2556 [01:38<06:30,  5.18it/s]\u001b[A\u001b[A\n",
            "\n",
            " 21%|██        | 531/2556 [01:38<06:32,  5.16it/s]\u001b[A\u001b[A\n",
            "\n",
            " 21%|██        | 532/2556 [01:39<06:34,  5.13it/s]\u001b[A\u001b[A\n",
            "\n",
            " 21%|██        | 533/2556 [01:39<06:38,  5.08it/s]\u001b[A\u001b[A\n",
            "\n",
            " 21%|██        | 534/2556 [01:39<06:37,  5.09it/s]\u001b[A\u001b[A\n",
            "\n",
            " 21%|██        | 535/2556 [01:39<06:22,  5.28it/s]\u001b[A\u001b[A\n",
            "\n",
            " 21%|██        | 536/2556 [01:39<06:26,  5.22it/s]\u001b[A\u001b[A\n",
            "\n",
            " 21%|██        | 537/2556 [01:40<06:36,  5.09it/s]\u001b[A\u001b[A\n",
            "\n",
            " 21%|██        | 538/2556 [01:40<06:31,  5.16it/s]\u001b[A\u001b[A\n",
            "\n",
            " 21%|██        | 539/2556 [01:40<06:25,  5.23it/s]\u001b[A\u001b[A\n",
            "\n",
            " 21%|██        | 540/2556 [01:40<06:41,  5.02it/s]\u001b[A\u001b[A\n",
            "\n",
            " 21%|██        | 541/2556 [01:40<06:29,  5.18it/s]\u001b[A\u001b[A"
          ],
          "name": "stderr"
        },
        {
          "output_type": "stream",
          "text": [
            "AI Trader bought:  $ 74.629997\n",
            "AI Trader sold:  $ 75.108574  Profit: $ 0.478577\n"
          ],
          "name": "stdout"
        },
        {
          "output_type": "stream",
          "text": [
            "\n",
            "\n",
            " 21%|██        | 542/2556 [01:41<06:32,  5.13it/s]\u001b[A\u001b[A\n",
            "\n",
            " 21%|██        | 543/2556 [01:41<06:27,  5.19it/s]\u001b[A\u001b[A\n",
            "\n",
            " 21%|██▏       | 544/2556 [01:41<06:22,  5.26it/s]\u001b[A\u001b[A"
          ],
          "name": "stderr"
        },
        {
          "output_type": "stream",
          "text": [
            "AI Trader bought:  $ 77.491432\n",
            "AI Trader bought:  $ 77.781425\n"
          ],
          "name": "stdout"
        },
        {
          "output_type": "stream",
          "text": [
            "\n",
            "\n",
            " 21%|██▏       | 545/2556 [01:41<06:22,  5.25it/s]\u001b[A\u001b[A\n",
            "\n",
            " 21%|██▏       | 546/2556 [01:41<06:15,  5.35it/s]\u001b[A\u001b[A"
          ],
          "name": "stderr"
        },
        {
          "output_type": "stream",
          "text": [
            "AI Trader sold:  $ 77.882858  Profit: $ 0.391426\n",
            "AI Trader bought:  $ 76.165718\n"
          ],
          "name": "stdout"
        },
        {
          "output_type": "stream",
          "text": [
            "\n",
            "\n",
            " 21%|██▏       | 547/2556 [01:42<06:18,  5.30it/s]\u001b[A\u001b[A\n",
            "\n",
            " 21%|██▏       | 548/2556 [01:42<06:28,  5.17it/s]\u001b[A\u001b[A\n",
            "\n",
            " 21%|██▏       | 549/2556 [01:42<06:38,  5.04it/s]\u001b[A\u001b[A\n",
            "\n",
            " 22%|██▏       | 550/2556 [01:42<06:31,  5.12it/s]\u001b[A\u001b[A\n",
            "\n",
            " 22%|██▏       | 551/2556 [01:42<06:26,  5.19it/s]\u001b[A\u001b[A"
          ],
          "name": "stderr"
        },
        {
          "output_type": "stream",
          "text": [
            "AI Trader bought:  $ 77.881432\n"
          ],
          "name": "stdout"
        },
        {
          "output_type": "stream",
          "text": [
            "\n",
            "\n",
            " 22%|██▏       | 552/2556 [01:43<06:40,  5.01it/s]\u001b[A\u001b[A\n",
            "\n",
            " 22%|██▏       | 553/2556 [01:43<06:33,  5.09it/s]\u001b[A\u001b[A\n",
            "\n",
            " 22%|██▏       | 554/2556 [01:43<06:34,  5.07it/s]\u001b[A\u001b[A"
          ],
          "name": "stderr"
        },
        {
          "output_type": "stream",
          "text": [
            "AI Trader bought:  $ 84.225716\n"
          ],
          "name": "stdout"
        },
        {
          "output_type": "stream",
          "text": [
            "\n",
            "\n",
            " 22%|██▏       | 555/2556 [01:43<06:34,  5.07it/s]\u001b[A\u001b[A"
          ],
          "name": "stderr"
        },
        {
          "output_type": "stream",
          "text": [
            "AI Trader bought:  $ 83.651428\n"
          ],
          "name": "stdout"
        },
        {
          "output_type": "stream",
          "text": [
            "\n",
            "\n",
            " 22%|██▏       | 556/2556 [01:43<06:32,  5.09it/s]\u001b[A\u001b[A\n",
            "\n",
            " 22%|██▏       | 557/2556 [01:43<06:28,  5.15it/s]\u001b[A\u001b[A\n",
            "\n",
            " 22%|██▏       | 558/2556 [01:44<06:24,  5.20it/s]\u001b[A\u001b[A"
          ],
          "name": "stderr"
        },
        {
          "output_type": "stream",
          "text": [
            "AI Trader sold:  $ 86.565712  Profit: $ 8.784286\n",
            "AI Trader sold:  $ 86.071426  Profit: $ 9.905708\n"
          ],
          "name": "stdout"
        },
        {
          "output_type": "stream",
          "text": [
            "\n",
            "\n",
            " 22%|██▏       | 559/2556 [01:44<06:39,  5.00it/s]\u001b[A\u001b[A\n",
            "\n",
            " 22%|██▏       | 560/2556 [01:44<06:37,  5.02it/s]\u001b[A\u001b[A\n",
            "\n",
            " 22%|██▏       | 561/2556 [01:44<06:31,  5.10it/s]\u001b[A\u001b[A"
          ],
          "name": "stderr"
        },
        {
          "output_type": "stream",
          "text": [
            "AI Trader bought:  $ 85.150002\n",
            "AI Trader sold:  $ 86.711426  Profit: $ 8.829994\n"
          ],
          "name": "stdout"
        },
        {
          "output_type": "stream",
          "text": [
            "\n",
            "\n",
            " 22%|██▏       | 562/2556 [01:44<06:26,  5.17it/s]\u001b[A\u001b[A\n",
            "\n",
            " 22%|██▏       | 563/2556 [01:45<06:24,  5.19it/s]\u001b[A\u001b[A"
          ],
          "name": "stderr"
        },
        {
          "output_type": "stream",
          "text": [
            "AI Trader sold:  $ 87.782860  Profit: $ 3.557144\n",
            "AI Trader sold:  $ 88.231430  Profit: $ 4.580002\n"
          ],
          "name": "stdout"
        },
        {
          "output_type": "stream",
          "text": [
            "\n",
            "\n",
            " 22%|██▏       | 564/2556 [01:45<06:34,  5.05it/s]\u001b[A\u001b[A\n",
            "\n",
            " 22%|██▏       | 565/2556 [01:45<06:28,  5.13it/s]\u001b[A\u001b[A"
          ],
          "name": "stderr"
        },
        {
          "output_type": "stream",
          "text": [
            "AI Trader sold:  $ 87.122856  Profit: $ 1.972855\n"
          ],
          "name": "stdout"
        },
        {
          "output_type": "stream",
          "text": [
            "\n",
            "\n",
            " 22%|██▏       | 566/2556 [01:45<06:21,  5.22it/s]\u001b[A\u001b[A\n",
            "\n",
            " 22%|██▏       | 567/2556 [01:45<06:18,  5.26it/s]\u001b[A\u001b[A\n",
            "\n",
            " 22%|██▏       | 568/2556 [01:46<06:21,  5.22it/s]\u001b[A\u001b[A\n",
            "\n",
            " 22%|██▏       | 569/2556 [01:46<06:14,  5.30it/s]\u001b[A\u001b[A\n",
            "\n",
            " 22%|██▏       | 570/2556 [01:46<06:37,  5.00it/s]\u001b[A\u001b[A\n",
            "\n",
            " 22%|██▏       | 571/2556 [01:46<07:11,  4.60it/s]\u001b[A\u001b[A\n",
            "\n",
            " 22%|██▏       | 572/2556 [01:47<07:27,  4.43it/s]\u001b[A\u001b[A\n",
            "\n",
            " 22%|██▏       | 573/2556 [01:47<07:40,  4.31it/s]\u001b[A\u001b[A\n",
            "\n",
            " 22%|██▏       | 574/2556 [01:47<07:53,  4.19it/s]\u001b[A\u001b[A\n",
            "\n",
            " 22%|██▏       | 575/2556 [01:47<07:20,  4.50it/s]\u001b[A\u001b[A\n",
            "\n",
            " 23%|██▎       | 576/2556 [01:47<07:00,  4.71it/s]\u001b[A\u001b[A\n",
            "\n",
            " 23%|██▎       | 577/2556 [01:48<07:06,  4.64it/s]\u001b[A\u001b[A\n",
            "\n",
            " 23%|██▎       | 578/2556 [01:48<07:02,  4.68it/s]\u001b[A\u001b[A\n",
            "\n",
            " 23%|██▎       | 579/2556 [01:48<06:52,  4.79it/s]\u001b[A\u001b[A\n",
            "\n",
            " 23%|██▎       | 580/2556 [01:48<06:47,  4.85it/s]\u001b[A\u001b[A\n",
            "\n",
            " 23%|██▎       | 581/2556 [01:48<06:37,  4.97it/s]\u001b[A\u001b[A\n",
            "\n",
            " 23%|██▎       | 582/2556 [01:49<06:33,  5.02it/s]\u001b[A\u001b[A\n",
            "\n",
            " 23%|██▎       | 583/2556 [01:49<06:24,  5.13it/s]\u001b[A\u001b[A\n",
            "\n",
            " 23%|██▎       | 584/2556 [01:49<06:21,  5.17it/s]\u001b[A\u001b[A"
          ],
          "name": "stderr"
        },
        {
          "output_type": "stream",
          "text": [
            "AI Trader bought:  $ 86.814285\n",
            "AI Trader sold:  $ 86.142860  Profit: - $ 0.671425\n"
          ],
          "name": "stdout"
        },
        {
          "output_type": "stream",
          "text": [
            "\n",
            "\n",
            " 23%|██▎       | 585/2556 [01:49<06:29,  5.07it/s]\u001b[A\u001b[A\n",
            "\n",
            " 23%|██▎       | 586/2556 [01:49<07:06,  4.62it/s]\u001b[A\u001b[A\n",
            "\n",
            " 23%|██▎       | 587/2556 [01:50<07:29,  4.38it/s]\u001b[A\u001b[A\n",
            "\n",
            " 23%|██▎       | 588/2556 [01:50<07:46,  4.22it/s]\u001b[A\u001b[A\n",
            "\n",
            " 23%|██▎       | 589/2556 [01:50<07:41,  4.26it/s]\u001b[A\u001b[A\n",
            "\n",
            " 23%|██▎       | 590/2556 [01:50<07:19,  4.47it/s]\u001b[A\u001b[A"
          ],
          "name": "stderr"
        },
        {
          "output_type": "stream",
          "text": [
            "AI Trader bought:  $ 80.750000\n",
            "AI Trader bought:  $ 81.354286\n"
          ],
          "name": "stdout"
        },
        {
          "output_type": "stream",
          "text": [
            "\n",
            "\n",
            " 23%|██▎       | 591/2556 [01:51<06:54,  4.74it/s]\u001b[A\u001b[A\n",
            "\n",
            " 23%|██▎       | 592/2556 [01:51<06:41,  4.89it/s]\u001b[A\u001b[A"
          ],
          "name": "stderr"
        },
        {
          "output_type": "stream",
          "text": [
            "AI Trader bought:  $ 81.168571\n",
            "AI Trader sold:  $ 81.311432  Profit: $ 0.561432\n"
          ],
          "name": "stdout"
        },
        {
          "output_type": "stream",
          "text": [
            "\n",
            "\n",
            " 23%|██▎       | 593/2556 [01:51<06:34,  4.97it/s]\u001b[A\u001b[A\n",
            "\n",
            " 23%|██▎       | 594/2556 [01:51<06:25,  5.09it/s]\u001b[A\u001b[A"
          ],
          "name": "stderr"
        },
        {
          "output_type": "stream",
          "text": [
            "AI Trader bought:  $ 81.502853\n",
            "AI Trader bought:  $ 80.958572\n"
          ],
          "name": "stdout"
        },
        {
          "output_type": "stream",
          "text": [
            "\n",
            "\n",
            " 23%|██▎       | 595/2556 [01:51<06:22,  5.13it/s]\u001b[A\u001b[A\n",
            "\n",
            " 23%|██▎       | 596/2556 [01:52<06:21,  5.14it/s]\u001b[A\u001b[A"
          ],
          "name": "stderr"
        },
        {
          "output_type": "stream",
          "text": [
            "AI Trader bought:  $ 79.745712\n",
            "AI Trader bought:  $ 79.024284\n"
          ],
          "name": "stdout"
        },
        {
          "output_type": "stream",
          "text": [
            "\n",
            "\n",
            " 23%|██▎       | 597/2556 [01:52<06:20,  5.15it/s]\u001b[A\u001b[A\n",
            "\n",
            " 23%|██▎       | 598/2556 [01:52<06:17,  5.19it/s]\u001b[A\u001b[A\n",
            "\n",
            " 23%|██▎       | 599/2556 [01:52<06:13,  5.24it/s]\u001b[A\u001b[A"
          ],
          "name": "stderr"
        },
        {
          "output_type": "stream",
          "text": [
            "AI Trader sold:  $ 75.731430  Profit: - $ 5.622856\n"
          ],
          "name": "stdout"
        },
        {
          "output_type": "stream",
          "text": [
            "\n",
            "\n",
            " 23%|██▎       | 600/2556 [01:52<06:18,  5.17it/s]\u001b[A\u001b[A\n",
            "\n",
            " 24%|██▎       | 601/2556 [01:53<06:27,  5.05it/s]\u001b[A\u001b[A\n",
            "\n",
            " 24%|██▎       | 602/2556 [01:53<06:29,  5.01it/s]\u001b[A\u001b[A"
          ],
          "name": "stderr"
        },
        {
          "output_type": "stream",
          "text": [
            "AI Trader bought:  $ 79.567146\n"
          ],
          "name": "stdout"
        },
        {
          "output_type": "stream",
          "text": [
            "\n",
            "\n",
            " 24%|██▎       | 603/2556 [01:53<06:22,  5.11it/s]\u001b[A\u001b[A\n",
            "\n",
            " 24%|██▎       | 604/2556 [01:53<06:15,  5.19it/s]\u001b[A\u001b[A\n",
            "\n",
            " 24%|██▎       | 605/2556 [01:53<06:11,  5.25it/s]\u001b[A\u001b[A"
          ],
          "name": "stderr"
        },
        {
          "output_type": "stream",
          "text": [
            "AI Trader sold:  $ 80.327141  Profit: - $ 0.841431\n"
          ],
          "name": "stdout"
        },
        {
          "output_type": "stream",
          "text": [
            "\n",
            "\n",
            " 24%|██▎       | 606/2556 [01:53<06:23,  5.08it/s]\u001b[A\u001b[A\n",
            "\n",
            " 24%|██▎       | 607/2556 [01:54<06:20,  5.12it/s]\u001b[A\u001b[A\n",
            "\n",
            " 24%|██▍       | 608/2556 [01:54<06:13,  5.22it/s]\u001b[A\u001b[A"
          ],
          "name": "stderr"
        },
        {
          "output_type": "stream",
          "text": [
            "AI Trader sold:  $ 82.532860  Profit: $ 1.030006\n",
            "AI Trader bought:  $ 80.141426\n"
          ],
          "name": "stdout"
        },
        {
          "output_type": "stream",
          "text": [
            "\n",
            "\n",
            " 24%|██▍       | 609/2556 [01:54<06:10,  5.25it/s]\u001b[A\u001b[A\n",
            "\n",
            " 24%|██▍       | 610/2556 [01:54<06:07,  5.30it/s]\u001b[A\u001b[A\n",
            "\n",
            " 24%|██▍       | 611/2556 [01:54<06:05,  5.32it/s]\u001b[A\u001b[A\n",
            "\n",
            " 24%|██▍       | 612/2556 [01:55<06:12,  5.21it/s]\u001b[A\u001b[A\n",
            "\n",
            " 24%|██▍       | 613/2556 [01:55<06:13,  5.20it/s]\u001b[A\u001b[A"
          ],
          "name": "stderr"
        },
        {
          "output_type": "stream",
          "text": [
            "AI Trader bought:  $ 81.674286\n"
          ],
          "name": "stdout"
        },
        {
          "output_type": "stream",
          "text": [
            "\n",
            "\n",
            " 24%|██▍       | 614/2556 [01:55<06:13,  5.20it/s]\u001b[A\u001b[A\n",
            "\n",
            " 24%|██▍       | 615/2556 [01:55<06:07,  5.28it/s]\u001b[A\u001b[A"
          ],
          "name": "stderr"
        },
        {
          "output_type": "stream",
          "text": [
            "AI Trader bought:  $ 81.595711\n"
          ],
          "name": "stdout"
        },
        {
          "output_type": "stream",
          "text": [
            "\n",
            "\n",
            " 24%|██▍       | 616/2556 [01:55<06:08,  5.26it/s]\u001b[A\u001b[A\n",
            "\n",
            " 24%|██▍       | 617/2556 [01:56<06:20,  5.09it/s]\u001b[A\u001b[A\n",
            "\n",
            " 24%|██▍       | 618/2556 [01:56<06:22,  5.06it/s]\u001b[A\u001b[A\n",
            "\n",
            " 24%|██▍       | 619/2556 [01:56<06:20,  5.09it/s]\u001b[A\u001b[A\n",
            "\n",
            " 24%|██▍       | 620/2556 [01:56<06:11,  5.21it/s]\u001b[A\u001b[A\n",
            "\n",
            " 24%|██▍       | 621/2556 [01:56<06:09,  5.23it/s]\u001b[A\u001b[A"
          ],
          "name": "stderr"
        },
        {
          "output_type": "stream",
          "text": [
            "AI Trader bought:  $ 83.915718\n",
            "AI Trader bought:  $ 83.677139\n"
          ],
          "name": "stdout"
        },
        {
          "output_type": "stream",
          "text": [
            "\n",
            "\n",
            " 24%|██▍       | 622/2556 [01:57<06:19,  5.09it/s]\u001b[A\u001b[A\n",
            "\n",
            " 24%|██▍       | 623/2556 [01:57<06:25,  5.01it/s]\u001b[A\u001b[A\n",
            "\n",
            " 24%|██▍       | 624/2556 [01:57<06:20,  5.07it/s]\u001b[A\u001b[A\n",
            "\n",
            " 24%|██▍       | 625/2556 [01:57<06:18,  5.10it/s]\u001b[A\u001b[A\n",
            "\n",
            " 24%|██▍       | 626/2556 [01:57<06:19,  5.09it/s]\u001b[A\u001b[A\n",
            "\n",
            " 25%|██▍       | 627/2556 [01:58<06:20,  5.07it/s]\u001b[A\u001b[A\n",
            "\n",
            " 25%|██▍       | 628/2556 [01:58<06:24,  5.02it/s]\u001b[A\u001b[A"
          ],
          "name": "stderr"
        },
        {
          "output_type": "stream",
          "text": [
            "AI Trader sold:  $ 81.292854  Profit: $ 0.334282\n"
          ],
          "name": "stdout"
        },
        {
          "output_type": "stream",
          "text": [
            "\n",
            "\n",
            " 25%|██▍       | 629/2556 [01:58<06:24,  5.02it/s]\u001b[A\u001b[A\n",
            "\n",
            " 25%|██▍       | 630/2556 [01:58<06:16,  5.12it/s]\u001b[A\u001b[A\n",
            "\n",
            " 25%|██▍       | 631/2556 [01:58<06:25,  4.99it/s]\u001b[A\u001b[A\n",
            "\n",
            " 25%|██▍       | 632/2556 [01:59<06:21,  5.04it/s]\u001b[A\u001b[A"
          ],
          "name": "stderr"
        },
        {
          "output_type": "stream",
          "text": [
            "AI Trader sold:  $ 87.134285  Profit: $ 7.388573\n",
            "AI Trader sold:  $ 86.554283  Profit: $ 7.529999\n"
          ],
          "name": "stdout"
        },
        {
          "output_type": "stream",
          "text": [
            "\n",
            "\n",
            " 25%|██▍       | 633/2556 [01:59<06:30,  4.93it/s]\u001b[A\u001b[A\n",
            "\n",
            " 25%|██▍       | 634/2556 [01:59<06:28,  4.95it/s]\u001b[A\u001b[A"
          ],
          "name": "stderr"
        },
        {
          "output_type": "stream",
          "text": [
            "AI Trader sold:  $ 87.698570  Profit: $ 8.131424\n",
            "AI Trader sold:  $ 86.887146  Profit: $ 6.745720\n"
          ],
          "name": "stdout"
        },
        {
          "output_type": "stream",
          "text": [
            "\n",
            "\n",
            " 25%|██▍       | 635/2556 [01:59<06:14,  5.12it/s]\u001b[A\u001b[A\n",
            "\n",
            " 25%|██▍       | 636/2556 [01:59<06:13,  5.13it/s]\u001b[A\u001b[A"
          ],
          "name": "stderr"
        },
        {
          "output_type": "stream",
          "text": [
            "AI Trader sold:  $ 86.347145  Profit: $ 4.672859\n",
            "AI Trader sold:  $ 85.557144  Profit: $ 3.961433\n"
          ],
          "name": "stdout"
        },
        {
          "output_type": "stream",
          "text": [
            "\n",
            "\n",
            " 25%|██▍       | 637/2556 [02:00<06:10,  5.18it/s]\u001b[A\u001b[A\n",
            "\n",
            " 25%|██▍       | 638/2556 [02:00<06:10,  5.18it/s]\u001b[A\u001b[A"
          ],
          "name": "stderr"
        },
        {
          "output_type": "stream",
          "text": [
            "AI Trader sold:  $ 86.424286  Profit: $ 2.508568\n"
          ],
          "name": "stdout"
        },
        {
          "output_type": "stream",
          "text": [
            "\n",
            "\n",
            " 25%|██▌       | 639/2556 [02:00<06:23,  5.00it/s]\u001b[A\u001b[A\n",
            "\n",
            " 25%|██▌       | 640/2556 [02:00<06:12,  5.14it/s]\u001b[A\u001b[A"
          ],
          "name": "stderr"
        },
        {
          "output_type": "stream",
          "text": [
            "AI Trader sold:  $ 86.705711  Profit: $ 3.028572\n"
          ],
          "name": "stdout"
        },
        {
          "output_type": "stream",
          "text": [
            "\n",
            "\n",
            " 25%|██▌       | 641/2556 [02:00<06:08,  5.20it/s]\u001b[A\u001b[A\n",
            "\n",
            " 25%|██▌       | 642/2556 [02:01<06:10,  5.17it/s]\u001b[A\u001b[A\n",
            "\n",
            " 25%|██▌       | 643/2556 [02:01<06:04,  5.25it/s]\u001b[A\u001b[A\n",
            "\n",
            " 25%|██▌       | 644/2556 [02:01<06:17,  5.06it/s]\u001b[A\u001b[A\n",
            "\n",
            " 25%|██▌       | 645/2556 [02:01<06:46,  4.71it/s]\u001b[A\u001b[A\n",
            "\n",
            " 25%|██▌       | 646/2556 [02:01<07:08,  4.46it/s]\u001b[A\u001b[A\n",
            "\n",
            " 25%|██▌       | 647/2556 [02:02<07:20,  4.34it/s]\u001b[A\u001b[A\n",
            "\n",
            " 25%|██▌       | 648/2556 [02:02<07:23,  4.31it/s]\u001b[A\u001b[A\n",
            "\n",
            " 25%|██▌       | 649/2556 [02:02<07:06,  4.47it/s]\u001b[A\u001b[A\n",
            "\n",
            " 25%|██▌       | 650/2556 [02:02<06:39,  4.77it/s]\u001b[A\u001b[A\n",
            "\n",
            " 25%|██▌       | 651/2556 [02:02<06:30,  4.88it/s]\u001b[A\u001b[A\n",
            "\n",
            " 26%|██▌       | 652/2556 [02:03<06:25,  4.94it/s]\u001b[A\u001b[A\n",
            "\n",
            " 26%|██▌       | 653/2556 [02:03<06:18,  5.03it/s]\u001b[A\u001b[A\n",
            "\n",
            " 26%|██▌       | 654/2556 [02:03<06:14,  5.08it/s]\u001b[A\u001b[A\n",
            "\n",
            " 26%|██▌       | 655/2556 [02:03<06:12,  5.10it/s]\u001b[A\u001b[A\n",
            "\n",
            " 26%|██▌       | 656/2556 [02:03<06:04,  5.22it/s]\u001b[A\u001b[A\n",
            "\n",
            " 26%|██▌       | 657/2556 [02:04<06:03,  5.23it/s]\u001b[A\u001b[A\n",
            "\n",
            " 26%|██▌       | 658/2556 [02:04<05:58,  5.29it/s]\u001b[A\u001b[A\n",
            "\n",
            " 26%|██▌       | 659/2556 [02:04<06:01,  5.25it/s]\u001b[A\u001b[A\n",
            "\n",
            " 26%|██▌       | 660/2556 [02:04<06:12,  5.09it/s]\u001b[A\u001b[A\n",
            "\n",
            " 26%|██▌       | 661/2556 [02:04<06:03,  5.21it/s]\u001b[A\u001b[A\n",
            "\n",
            " 26%|██▌       | 662/2556 [02:05<06:02,  5.22it/s]\u001b[A\u001b[A"
          ],
          "name": "stderr"
        },
        {
          "output_type": "stream",
          "text": [
            "AI Trader bought:  $ 90.905716\n"
          ],
          "name": "stdout"
        },
        {
          "output_type": "stream",
          "text": [
            "\n",
            "\n",
            " 26%|██▌       | 663/2556 [02:05<05:54,  5.34it/s]\u001b[A\u001b[A\n",
            "\n",
            " 26%|██▌       | 664/2556 [02:05<06:07,  5.15it/s]\u001b[A\u001b[A\n",
            "\n",
            " 26%|██▌       | 665/2556 [02:05<06:10,  5.10it/s]\u001b[A\u001b[A"
          ],
          "name": "stderr"
        },
        {
          "output_type": "stream",
          "text": [
            "AI Trader bought:  $ 93.722855\n"
          ],
          "name": "stdout"
        },
        {
          "output_type": "stream",
          "text": [
            "\n",
            "\n",
            " 26%|██▌       | 666/2556 [02:05<06:10,  5.10it/s]\u001b[A\u001b[A"
          ],
          "name": "stderr"
        },
        {
          "output_type": "stream",
          "text": [
            "AI Trader bought:  $ 95.552856\n",
            "AI Trader bought:  $ 94.661430\n"
          ],
          "name": "stdout"
        },
        {
          "output_type": "stream",
          "text": [
            "\n",
            "\n",
            " 26%|██▌       | 667/2556 [02:06<06:24,  4.91it/s]\u001b[A\u001b[A\n",
            "\n",
            " 26%|██▌       | 668/2556 [02:06<06:13,  5.06it/s]\u001b[A\u001b[A"
          ],
          "name": "stderr"
        },
        {
          "output_type": "stream",
          "text": [
            "AI Trader sold:  $ 94.745712  Profit: $ 3.839996\n",
            "AI Trader bought:  $ 96.525711\n"
          ],
          "name": "stdout"
        },
        {
          "output_type": "stream",
          "text": [
            "\n",
            "\n",
            " 26%|██▌       | 669/2556 [02:06<06:14,  5.03it/s]\u001b[A\u001b[A\n",
            "\n",
            " 26%|██▌       | 670/2556 [02:06<06:13,  5.05it/s]\u001b[A\u001b[A"
          ],
          "name": "stderr"
        },
        {
          "output_type": "stream",
          "text": [
            "AI Trader bought:  $ 96.400002\n",
            "AI Trader bought:  $ 96.209999\n"
          ],
          "name": "stdout"
        },
        {
          "output_type": "stream",
          "text": [
            "\n",
            "\n",
            " 26%|██▋       | 671/2556 [02:06<06:12,  5.07it/s]\u001b[A\u001b[A\n",
            "\n",
            " 26%|██▋       | 672/2556 [02:07<06:09,  5.10it/s]\u001b[A\u001b[A"
          ],
          "name": "stderr"
        },
        {
          "output_type": "stream",
          "text": [
            "AI Trader bought:  $ 94.838570\n"
          ],
          "name": "stdout"
        },
        {
          "output_type": "stream",
          "text": [
            "\n",
            "\n",
            " 26%|██▋       | 673/2556 [02:07<06:04,  5.16it/s]\u001b[A\u001b[A\n",
            "\n",
            " 26%|██▋       | 674/2556 [02:07<05:58,  5.25it/s]\u001b[A\u001b[A"
          ],
          "name": "stderr"
        },
        {
          "output_type": "stream",
          "text": [
            "AI Trader sold:  $ 96.424286  Profit: $ 2.701431\n",
            "AI Trader sold:  $ 95.747147  Profit: $ 0.194290\n"
          ],
          "name": "stdout"
        },
        {
          "output_type": "stream",
          "text": [
            "\n",
            "\n",
            " 26%|██▋       | 675/2556 [02:07<06:07,  5.12it/s]\u001b[A\u001b[A\n",
            "\n",
            " 26%|██▋       | 676/2556 [02:07<06:06,  5.13it/s]\u001b[A\u001b[A"
          ],
          "name": "stderr"
        },
        {
          "output_type": "stream",
          "text": [
            "AI Trader sold:  $ 96.610001  Profit: $ 1.948570\n",
            "AI Trader bought:  $ 97.205711\n"
          ],
          "name": "stdout"
        },
        {
          "output_type": "stream",
          "text": [
            "\n",
            "\n",
            " 26%|██▋       | 677/2556 [02:07<06:00,  5.21it/s]\u001b[A\u001b[A\n",
            "\n",
            " 27%|██▋       | 678/2556 [02:08<06:01,  5.19it/s]\u001b[A\u001b[A"
          ],
          "name": "stderr"
        },
        {
          "output_type": "stream",
          "text": [
            "AI Trader sold:  $ 94.677139  Profit: - $ 1.848572\n",
            "AI Trader sold:  $ 94.370003  Profit: - $ 2.029999\n"
          ],
          "name": "stdout"
        },
        {
          "output_type": "stream",
          "text": [
            "\n",
            "\n",
            " 27%|██▋       | 679/2556 [02:08<06:07,  5.11it/s]\u001b[A\u001b[A\n",
            "\n",
            " 27%|██▋       | 680/2556 [02:08<06:19,  4.94it/s]\u001b[A\u001b[A\n",
            "\n",
            " 27%|██▋       | 681/2556 [02:08<06:20,  4.93it/s]\u001b[A\u001b[A"
          ],
          "name": "stderr"
        },
        {
          "output_type": "stream",
          "text": [
            "AI Trader sold:  $ 97.568573  Profit: $ 1.358574\n"
          ],
          "name": "stdout"
        },
        {
          "output_type": "stream",
          "text": [
            "\n",
            "\n",
            " 27%|██▋       | 682/2556 [02:08<06:09,  5.07it/s]\u001b[A\u001b[A"
          ],
          "name": "stderr"
        },
        {
          "output_type": "stream",
          "text": [
            "AI Trader sold:  $ 98.754288  Profit: $ 3.915718\n",
            "AI Trader bought:  $ 99.968575\n"
          ],
          "name": "stdout"
        },
        {
          "output_type": "stream",
          "text": [
            "\n",
            "\n",
            " 27%|██▋       | 683/2556 [02:09<06:06,  5.12it/s]\u001b[A\u001b[A\n",
            "\n",
            " 27%|██▋       | 684/2556 [02:09<05:57,  5.23it/s]\u001b[A\u001b[A"
          ],
          "name": "stderr"
        },
        {
          "output_type": "stream",
          "text": [
            "AI Trader sold:  $ 100.272858  Profit: $ 3.067146\n",
            "AI Trader sold:  $ 100.300003  Profit: $ 0.331429\n"
          ],
          "name": "stdout"
        },
        {
          "output_type": "stream",
          "text": [
            "\n",
            "\n",
            " 27%|██▋       | 685/2556 [02:09<06:02,  5.16it/s]\u001b[A\u001b[A\n",
            "\n",
            " 27%|██▋       | 686/2556 [02:09<06:02,  5.16it/s]\u001b[A\u001b[A\n",
            "\n",
            " 27%|██▋       | 687/2556 [02:09<06:00,  5.18it/s]\u001b[A\u001b[A\n",
            "\n",
            " 27%|██▋       | 688/2556 [02:10<05:59,  5.19it/s]\u001b[A\u001b[A\n",
            "\n",
            " 27%|██▋       | 689/2556 [02:10<05:54,  5.27it/s]\u001b[A\u001b[A\n",
            "\n",
            " 27%|██▋       | 690/2556 [02:10<05:56,  5.23it/s]\u001b[A\u001b[A\n",
            "\n",
            " 27%|██▋       | 691/2556 [02:10<05:57,  5.21it/s]\u001b[A\u001b[A\n",
            "\n",
            " 27%|██▋       | 692/2556 [02:10<05:53,  5.27it/s]\u001b[A\u001b[A\n",
            "\n",
            " 27%|██▋       | 693/2556 [02:11<05:55,  5.23it/s]\u001b[A\u001b[A\n",
            "\n",
            " 27%|██▋       | 694/2556 [02:11<05:51,  5.30it/s]\u001b[A\u001b[A\n",
            "\n",
            " 27%|██▋       | 695/2556 [02:11<05:49,  5.33it/s]\u001b[A\u001b[A\n",
            "\n",
            " 27%|██▋       | 696/2556 [02:11<05:56,  5.22it/s]\u001b[A\u001b[A\n",
            "\n",
            " 27%|██▋       | 697/2556 [02:11<05:52,  5.27it/s]\u001b[A\u001b[A\n",
            "\n",
            " 27%|██▋       | 698/2556 [02:12<05:57,  5.20it/s]\u001b[A\u001b[A\n",
            "\n",
            " 27%|██▋       | 699/2556 [02:12<05:53,  5.25it/s]\u001b[A\u001b[A\n",
            "\n",
            " 27%|██▋       | 700/2556 [02:12<05:49,  5.31it/s]\u001b[A\u001b[A\n",
            "\n",
            " 27%|██▋       | 701/2556 [02:12<06:03,  5.11it/s]\u001b[A\u001b[A\n",
            "\n",
            " 27%|██▋       | 702/2556 [02:12<05:59,  5.16it/s]\u001b[A\u001b[A\n",
            "\n",
            " 28%|██▊       | 703/2556 [02:13<06:11,  4.99it/s]\u001b[A\u001b[A\n",
            "\n",
            " 28%|██▊       | 704/2556 [02:13<06:16,  4.92it/s]\u001b[A\u001b[A\n",
            "\n",
            " 28%|██▊       | 705/2556 [02:13<06:04,  5.08it/s]\u001b[A\u001b[A\n",
            "\n",
            " 28%|██▊       | 706/2556 [02:13<06:03,  5.09it/s]\u001b[A\u001b[A\n",
            "\n",
            " 28%|██▊       | 707/2556 [02:13<06:02,  5.11it/s]\u001b[A\u001b[A\n",
            "\n",
            " 28%|██▊       | 708/2556 [02:14<05:59,  5.14it/s]\u001b[A\u001b[A\n",
            "\n",
            " 28%|██▊       | 709/2556 [02:14<06:00,  5.12it/s]\u001b[A\u001b[A\n",
            "\n",
            " 28%|██▊       | 710/2556 [02:14<06:17,  4.89it/s]\u001b[A\u001b[A\n",
            "\n",
            " 28%|██▊       | 711/2556 [02:14<06:09,  5.00it/s]\u001b[A\u001b[A\n",
            "\n",
            " 28%|██▊       | 712/2556 [02:14<06:05,  5.04it/s]\u001b[A\u001b[A\n",
            "\n",
            " 28%|██▊       | 713/2556 [02:15<05:57,  5.15it/s]\u001b[A\u001b[A\n",
            "\n",
            " 28%|██▊       | 714/2556 [02:15<06:00,  5.11it/s]\u001b[A\u001b[A\n",
            "\n",
            " 28%|██▊       | 715/2556 [02:15<05:54,  5.20it/s]\u001b[A\u001b[A\n",
            "\n",
            " 28%|██▊       | 716/2556 [02:15<05:56,  5.16it/s]\u001b[A\u001b[A\n",
            "\n",
            " 28%|██▊       | 717/2556 [02:15<05:58,  5.14it/s]\u001b[A\u001b[A\n",
            "\n",
            " 28%|██▊       | 718/2556 [02:15<05:58,  5.13it/s]\u001b[A\u001b[A\n",
            "\n",
            " 28%|██▊       | 719/2556 [02:16<06:00,  5.10it/s]\u001b[A\u001b[A\n",
            "\n",
            " 28%|██▊       | 720/2556 [02:16<05:54,  5.17it/s]\u001b[A\u001b[A\n",
            "\n",
            " 28%|██▊       | 721/2556 [02:16<05:49,  5.25it/s]\u001b[A\u001b[A\n",
            "\n",
            " 28%|██▊       | 722/2556 [02:16<05:59,  5.10it/s]\u001b[A\u001b[A\n",
            "\n",
            " 28%|██▊       | 723/2556 [02:16<05:56,  5.15it/s]\u001b[A\u001b[A\n",
            "\n",
            " 28%|██▊       | 724/2556 [02:17<05:55,  5.16it/s]\u001b[A\u001b[A\n",
            "\n",
            " 28%|██▊       | 725/2556 [02:17<05:58,  5.11it/s]\u001b[A\u001b[A\n",
            "\n",
            " 28%|██▊       | 726/2556 [02:17<05:55,  5.15it/s]\u001b[A\u001b[A\n",
            "\n",
            " 28%|██▊       | 727/2556 [02:17<05:52,  5.18it/s]\u001b[A\u001b[A\n",
            "\n",
            " 28%|██▊       | 728/2556 [02:17<05:47,  5.26it/s]\u001b[A\u001b[A\n",
            "\n",
            " 29%|██▊       | 729/2556 [02:18<05:54,  5.16it/s]\u001b[A\u001b[A\n",
            "\n",
            " 29%|██▊       | 730/2556 [02:18<06:12,  4.90it/s]\u001b[A\u001b[A\n",
            "\n",
            " 29%|██▊       | 731/2556 [02:18<05:58,  5.09it/s]\u001b[A\u001b[A\n",
            "\n",
            " 29%|██▊       | 732/2556 [02:18<05:48,  5.24it/s]\u001b[A\u001b[A\n",
            "\n",
            " 29%|██▊       | 733/2556 [02:18<05:51,  5.18it/s]\u001b[A\u001b[A\n",
            "\n",
            " 29%|██▊       | 734/2556 [02:19<05:54,  5.14it/s]\u001b[A\u001b[A\n",
            "\n",
            " 29%|██▉       | 735/2556 [02:19<05:54,  5.14it/s]\u001b[A\u001b[A\n",
            "\n",
            " 29%|██▉       | 736/2556 [02:19<05:57,  5.09it/s]\u001b[A\u001b[A\n",
            "\n",
            " 29%|██▉       | 737/2556 [02:19<05:58,  5.07it/s]\u001b[A\u001b[A\n",
            "\n",
            " 29%|██▉       | 738/2556 [02:19<06:21,  4.76it/s]\u001b[A\u001b[A\n",
            "\n",
            " 29%|██▉       | 739/2556 [02:20<06:05,  4.97it/s]\u001b[A\u001b[A\n",
            "\n",
            " 29%|██▉       | 740/2556 [02:20<06:35,  4.59it/s]\u001b[A\u001b[A\n",
            "\n",
            " 29%|██▉       | 741/2556 [02:20<06:44,  4.48it/s]\u001b[A\u001b[A\n",
            "\n",
            " 29%|██▉       | 742/2556 [02:20<07:06,  4.25it/s]\u001b[A\u001b[A\n",
            "\n",
            " 29%|██▉       | 743/2556 [02:21<07:05,  4.26it/s]\u001b[A\u001b[A\n",
            "\n",
            " 29%|██▉       | 744/2556 [02:21<06:38,  4.54it/s]\u001b[A\u001b[A"
          ],
          "name": "stderr"
        },
        {
          "output_type": "stream",
          "text": [
            "AI Trader bought:  $ 72.827141\n"
          ],
          "name": "stdout"
        },
        {
          "output_type": "stream",
          "text": [
            "\n",
            "\n",
            " 29%|██▉       | 745/2556 [02:21<06:26,  4.68it/s]\u001b[A\u001b[A\n",
            "\n",
            " 29%|██▉       | 746/2556 [02:21<06:19,  4.77it/s]\u001b[A\u001b[A"
          ],
          "name": "stderr"
        },
        {
          "output_type": "stream",
          "text": [
            "AI Trader sold:  $ 76.271431  Profit: $ 3.444290\n"
          ],
          "name": "stdout"
        },
        {
          "output_type": "stream",
          "text": [
            "\n",
            "\n",
            " 29%|██▉       | 747/2556 [02:21<06:10,  4.89it/s]\u001b[A\u001b[A"
          ],
          "name": "stderr"
        },
        {
          "output_type": "stream",
          "text": [
            "AI Trader bought:  $ 75.187141\n",
            "AI Trader bought:  $ 74.532860\n"
          ],
          "name": "stdout"
        },
        {
          "output_type": "stream",
          "text": [
            "\n",
            "\n",
            " 29%|██▉       | 748/2556 [02:22<06:02,  4.99it/s]\u001b[A\u001b[A\n",
            "\n",
            " 29%|██▉       | 749/2556 [02:22<05:52,  5.12it/s]\u001b[A\u001b[A\n",
            "\n",
            " 29%|██▉       | 750/2556 [02:22<05:52,  5.12it/s]\u001b[A\u001b[A"
          ],
          "name": "stderr"
        },
        {
          "output_type": "stream",
          "text": [
            "AI Trader sold:  $ 74.309998  Profit: - $ 0.877144\n",
            "AI Trader bought:  $ 73.285713\n"
          ],
          "name": "stdout"
        },
        {
          "output_type": "stream",
          "text": [
            "\n",
            "\n",
            " 29%|██▉       | 751/2556 [02:22<05:51,  5.14it/s]\u001b[A\u001b[A\n",
            "\n",
            " 29%|██▉       | 752/2556 [02:22<05:53,  5.10it/s]\u001b[A\u001b[A\n",
            "\n",
            " 29%|██▉       | 753/2556 [02:23<05:49,  5.16it/s]\u001b[A\u001b[A"
          ],
          "name": "stderr"
        },
        {
          "output_type": "stream",
          "text": [
            "AI Trader sold:  $ 72.798569  Profit: - $ 1.734291\n",
            "AI Trader sold:  $ 76.024284  Profit: $ 2.738571\n"
          ],
          "name": "stdout"
        },
        {
          "output_type": "stream",
          "text": [
            "\n",
            "\n",
            " 29%|██▉       | 754/2556 [02:23<05:49,  5.16it/s]\u001b[A\u001b[A\n",
            "\n",
            " 30%|██▉       | 755/2556 [02:23<05:47,  5.19it/s]\u001b[A\u001b[A\n",
            "\n",
            " 30%|██▉       | 756/2556 [02:23<05:52,  5.11it/s]\u001b[A\u001b[A\n",
            "\n",
            " 30%|██▉       | 757/2556 [02:23<05:55,  5.07it/s]\u001b[A\u001b[A\n",
            "\n",
            " 30%|██▉       | 758/2556 [02:24<05:54,  5.07it/s]\u001b[A\u001b[A"
          ],
          "name": "stderr"
        },
        {
          "output_type": "stream",
          "text": [
            "AI Trader bought:  $ 74.842857\n",
            "AI Trader bought:  $ 75.044289\n"
          ],
          "name": "stdout"
        },
        {
          "output_type": "stream",
          "text": [
            "\n",
            "\n",
            " 30%|██▉       | 759/2556 [02:24<06:00,  4.99it/s]\u001b[A\u001b[A"
          ],
          "name": "stderr"
        },
        {
          "output_type": "stream",
          "text": [
            "AI Trader bought:  $ 73.871429\n"
          ],
          "name": "stdout"
        },
        {
          "output_type": "stream",
          "text": [
            "\n",
            "\n",
            " 30%|██▉       | 760/2556 [02:24<06:12,  4.82it/s]\u001b[A\u001b[A\n",
            "\n",
            " 30%|██▉       | 761/2556 [02:24<06:04,  4.93it/s]\u001b[A\u001b[A\n",
            "\n",
            " 30%|██▉       | 762/2556 [02:24<06:00,  4.98it/s]\u001b[A\u001b[A\n",
            "\n",
            " 30%|██▉       | 763/2556 [02:25<05:58,  5.00it/s]\u001b[A\u001b[A"
          ],
          "name": "stderr"
        },
        {
          "output_type": "stream",
          "text": [
            "AI Trader sold:  $ 71.678574  Profit: - $ 3.164284\n",
            "AI Trader bought:  $ 69.417145\n"
          ],
          "name": "stdout"
        },
        {
          "output_type": "stream",
          "text": [
            "\n",
            "\n",
            " 30%|██▉       | 764/2556 [02:25<05:59,  4.98it/s]\u001b[A\u001b[A\n",
            "\n",
            " 30%|██▉       | 765/2556 [02:25<05:51,  5.10it/s]\u001b[A\u001b[A"
          ],
          "name": "stderr"
        },
        {
          "output_type": "stream",
          "text": [
            "AI Trader sold:  $ 71.811432  Profit: - $ 3.232857\n"
          ],
          "name": "stdout"
        },
        {
          "output_type": "stream",
          "text": [
            "\n",
            "\n",
            " 30%|██▉       | 766/2556 [02:25<06:03,  4.93it/s]\u001b[A\u001b[A\n",
            "\n",
            " 30%|███       | 767/2556 [02:25<05:54,  5.05it/s]\u001b[A\u001b[A"
          ],
          "name": "stderr"
        },
        {
          "output_type": "stream",
          "text": [
            "AI Trader sold:  $ 71.428574  Profit: - $ 2.442856\n"
          ],
          "name": "stdout"
        },
        {
          "output_type": "stream",
          "text": [
            "\n",
            "\n",
            " 30%|███       | 768/2556 [02:26<05:54,  5.04it/s]\u001b[A\u001b[A\n",
            "\n",
            " 30%|███       | 769/2556 [02:26<05:55,  5.02it/s]\u001b[A\u001b[A"
          ],
          "name": "stderr"
        },
        {
          "output_type": "stream",
          "text": [
            "AI Trader sold:  $ 73.430000  Profit: $ 4.012856\n"
          ],
          "name": "stdout"
        },
        {
          "output_type": "stream",
          "text": [
            "\n",
            "\n",
            " 30%|███       | 770/2556 [02:26<05:49,  5.11it/s]\u001b[A\u001b[A"
          ],
          "name": "stderr"
        },
        {
          "output_type": "stream",
          "text": [
            "AI Trader bought:  $ 64.357140\n",
            "AI Trader bought:  $ 62.840000\n"
          ],
          "name": "stdout"
        },
        {
          "output_type": "stream",
          "text": [
            "\n",
            "\n",
            " 30%|███       | 771/2556 [02:26<05:53,  5.05it/s]\u001b[A\u001b[A\n",
            "\n",
            " 30%|███       | 772/2556 [02:26<05:55,  5.02it/s]\u001b[A\u001b[A\n",
            "\n"
          ],
          "name": "stderr"
        },
        {
          "output_type": "stream",
          "text": [
            "AI Trader sold:  $ 65.467140  Profit: $ 1.110001\n"
          ],
          "name": "stdout"
        },
        {
          "output_type": "stream",
          "text": [
            "\r 30%|███       | 773/2556 [02:27<06:01,  4.93it/s]\u001b[A\u001b[A\n",
            "\n",
            " 30%|███       | 774/2556 [02:27<05:57,  4.98it/s]\u001b[A\u001b[A"
          ],
          "name": "stderr"
        },
        {
          "output_type": "stream",
          "text": [
            "AI Trader bought:  $ 65.261429\n"
          ],
          "name": "stdout"
        },
        {
          "output_type": "stream",
          "text": [
            "\n",
            "\n",
            " 30%|███       | 775/2556 [02:27<05:56,  5.00it/s]\u001b[A\u001b[A\n",
            "\n",
            " 30%|███       | 776/2556 [02:27<05:49,  5.09it/s]\u001b[A\u001b[A"
          ],
          "name": "stderr"
        },
        {
          "output_type": "stream",
          "text": [
            "AI Trader sold:  $ 64.802856  Profit: $ 1.962856\n",
            "AI Trader sold:  $ 63.188572  Profit: - $ 2.072857\n"
          ],
          "name": "stdout"
        },
        {
          "output_type": "stream",
          "text": [
            "\n",
            "\n",
            " 30%|███       | 777/2556 [02:27<05:54,  5.02it/s]\u001b[A\u001b[A\n",
            "\n",
            " 30%|███       | 778/2556 [02:28<05:56,  4.98it/s]\u001b[A\u001b[A"
          ],
          "name": "stderr"
        },
        {
          "output_type": "stream",
          "text": [
            "AI Trader bought:  $ 65.405716\n"
          ],
          "name": "stdout"
        },
        {
          "output_type": "stream",
          "text": [
            "\n",
            "\n",
            " 30%|███       | 779/2556 [02:28<05:49,  5.09it/s]\u001b[A\u001b[A\n",
            "\n",
            " 31%|███       | 780/2556 [02:28<05:45,  5.13it/s]\u001b[A\u001b[A"
          ],
          "name": "stderr"
        },
        {
          "output_type": "stream",
          "text": [
            "AI Trader sold:  $ 66.888573  Profit: $ 1.482857\n"
          ],
          "name": "stdout"
        },
        {
          "output_type": "stream",
          "text": [
            "\n",
            "\n",
            " 31%|███       | 781/2556 [02:28<05:46,  5.12it/s]\u001b[A\u001b[A\n",
            "\n",
            " 31%|███       | 782/2556 [02:28<05:52,  5.04it/s]\u001b[A\u001b[A"
          ],
          "name": "stderr"
        },
        {
          "output_type": "stream",
          "text": [
            "AI Trader bought:  $ 66.842857\n"
          ],
          "name": "stdout"
        },
        {
          "output_type": "stream",
          "text": [
            "\n",
            "\n",
            " 31%|███       | 783/2556 [02:29<06:03,  4.87it/s]\u001b[A\u001b[A\n",
            "\n",
            " 31%|███       | 784/2556 [02:29<05:53,  5.01it/s]\u001b[A\u001b[A"
          ],
          "name": "stderr"
        },
        {
          "output_type": "stream",
          "text": [
            "AI Trader bought:  $ 66.715714\n"
          ],
          "name": "stdout"
        },
        {
          "output_type": "stream",
          "text": [
            "\n",
            "\n",
            " 31%|███       | 785/2556 [02:29<05:51,  5.04it/s]\u001b[A\u001b[A\n",
            "\n",
            " 31%|███       | 786/2556 [02:29<05:49,  5.07it/s]\u001b[A\u001b[A"
          ],
          "name": "stderr"
        },
        {
          "output_type": "stream",
          "text": [
            "AI Trader bought:  $ 65.737144\n"
          ],
          "name": "stdout"
        },
        {
          "output_type": "stream",
          "text": [
            "\n",
            "\n",
            " 31%|███       | 787/2556 [02:29<05:42,  5.17it/s]\u001b[A\u001b[A\n",
            "\n",
            " 31%|███       | 788/2556 [02:29<05:50,  5.04it/s]\u001b[A\u001b[A\n",
            "\n",
            " 31%|███       | 789/2556 [02:30<05:46,  5.10it/s]\u001b[A\u001b[A"
          ],
          "name": "stderr"
        },
        {
          "output_type": "stream",
          "text": [
            "AI Trader sold:  $ 63.722858  Profit: - $ 3.119999\n",
            "AI Trader sold:  $ 64.401428  Profit: - $ 2.314285\n"
          ],
          "name": "stdout"
        },
        {
          "output_type": "stream",
          "text": [
            "\n",
            "\n",
            " 31%|███       | 790/2556 [02:30<05:42,  5.15it/s]\u001b[A\u001b[A\n",
            "\n",
            " 31%|███       | 791/2556 [02:30<05:37,  5.23it/s]\u001b[A\u001b[A\n",
            "\n",
            " 31%|███       | 792/2556 [02:30<05:40,  5.18it/s]\u001b[A\u001b[A"
          ],
          "name": "stderr"
        },
        {
          "output_type": "stream",
          "text": [
            "AI Trader sold:  $ 64.138573  Profit: - $ 1.598572\n"
          ],
          "name": "stdout"
        },
        {
          "output_type": "stream",
          "text": [
            "\n",
            "\n",
            " 31%|███       | 793/2556 [02:30<05:37,  5.22it/s]\u001b[A\u001b[A\n",
            "\n",
            " 31%|███       | 794/2556 [02:31<05:45,  5.10it/s]\u001b[A\u001b[A\n",
            "\n",
            " 31%|███       | 795/2556 [02:31<05:38,  5.20it/s]\u001b[A\u001b[A"
          ],
          "name": "stderr"
        },
        {
          "output_type": "stream",
          "text": [
            "AI Trader bought:  $ 61.495716\n",
            "AI Trader sold:  $ 60.007141  Profit: - $ 1.488575\n"
          ],
          "name": "stdout"
        },
        {
          "output_type": "stream",
          "text": [
            "\n",
            "\n",
            " 31%|███       | 796/2556 [02:31<05:35,  5.25it/s]\u001b[A\u001b[A\n",
            "\n",
            " 31%|███       | 797/2556 [02:31<05:33,  5.28it/s]\u001b[A\u001b[A\n",
            "\n",
            " 31%|███       | 798/2556 [02:31<05:30,  5.32it/s]\u001b[A\u001b[A\n",
            "\n",
            " 31%|███▏      | 799/2556 [02:32<05:42,  5.13it/s]\u001b[A\u001b[A\n",
            "\n",
            " 31%|███▏      | 800/2556 [02:32<05:39,  5.16it/s]\u001b[A\u001b[A\n",
            "\n",
            " 31%|███▏      | 801/2556 [02:32<05:36,  5.21it/s]\u001b[A\u001b[A\n",
            "\n",
            " 31%|███▏      | 802/2556 [02:32<05:31,  5.28it/s]\u001b[A\u001b[A"
          ],
          "name": "stderr"
        },
        {
          "output_type": "stream",
          "text": [
            "AI Trader bought:  $ 61.204285\n"
          ],
          "name": "stdout"
        },
        {
          "output_type": "stream",
          "text": [
            "\n",
            "\n",
            " 31%|███▏      | 803/2556 [02:32<05:29,  5.32it/s]\u001b[A\u001b[A\n",
            "\n",
            " 31%|███▏      | 804/2556 [02:33<05:40,  5.14it/s]\u001b[A\u001b[A"
          ],
          "name": "stderr"
        },
        {
          "output_type": "stream",
          "text": [
            "AI Trader sold:  $ 63.380001  Profit: $ 2.175716\n"
          ],
          "name": "stdout"
        },
        {
          "output_type": "stream",
          "text": [
            "\n",
            "\n",
            " 31%|███▏      | 805/2556 [02:33<05:54,  4.94it/s]\u001b[A\u001b[A\n",
            "\n",
            " 32%|███▏      | 806/2556 [02:33<05:47,  5.03it/s]\u001b[A\u001b[A"
          ],
          "name": "stderr"
        },
        {
          "output_type": "stream",
          "text": [
            "AI Trader bought:  $ 65.102859\n",
            "AI Trader sold:  $ 64.927139  Profit: - $ 0.175720\n"
          ],
          "name": "stdout"
        },
        {
          "output_type": "stream",
          "text": [
            "\n",
            "\n",
            " 32%|███▏      | 807/2556 [02:33<05:39,  5.14it/s]\u001b[A\u001b[A\n",
            "\n",
            " 32%|███▏      | 808/2556 [02:33<05:31,  5.27it/s]\u001b[A\u001b[A\n",
            "\n",
            " 32%|███▏      | 809/2556 [02:34<05:27,  5.34it/s]\u001b[A\u001b[A\n",
            "\n",
            " 32%|███▏      | 810/2556 [02:34<05:38,  5.16it/s]\u001b[A\u001b[A\n",
            "\n",
            " 32%|███▏      | 811/2556 [02:34<05:33,  5.24it/s]\u001b[A\u001b[A"
          ],
          "name": "stderr"
        },
        {
          "output_type": "stream",
          "text": [
            "AI Trader bought:  $ 66.225716\n",
            "AI Trader sold:  $ 65.877144  Profit: - $ 0.348572\n"
          ],
          "name": "stdout"
        },
        {
          "output_type": "stream",
          "text": [
            "\n",
            "\n",
            " 32%|███▏      | 812/2556 [02:34<05:52,  4.95it/s]\u001b[A\u001b[A\n",
            "\n",
            " 32%|███▏      | 813/2556 [02:34<05:42,  5.09it/s]\u001b[A\u001b[A\n",
            "\n",
            " 32%|███▏      | 814/2556 [02:34<05:39,  5.14it/s]\u001b[A\u001b[A\n",
            "\n",
            " 32%|███▏      | 815/2556 [02:35<05:41,  5.10it/s]\u001b[A\u001b[A"
          ],
          "name": "stderr"
        },
        {
          "output_type": "stream",
          "text": [
            "AI Trader bought:  $ 61.272858\n",
            "AI Trader sold:  $ 61.398571  Profit: $ 0.125713\n"
          ],
          "name": "stdout"
        },
        {
          "output_type": "stream",
          "text": [
            "\n",
            "\n",
            " 32%|███▏      | 816/2556 [02:35<05:43,  5.07it/s]\u001b[A\u001b[A\n",
            "\n",
            " 32%|███▏      | 817/2556 [02:35<05:37,  5.15it/s]\u001b[A\u001b[A\n",
            "\n",
            " 32%|███▏      | 818/2556 [02:35<05:34,  5.20it/s]\u001b[A\u001b[A\n",
            "\n",
            " 32%|███▏      | 819/2556 [02:35<05:31,  5.24it/s]\u001b[A\u001b[A\n",
            "\n",
            " 32%|███▏      | 820/2556 [02:36<05:39,  5.12it/s]\u001b[A\u001b[A\n",
            "\n",
            " 32%|███▏      | 821/2556 [02:36<05:45,  5.02it/s]\u001b[A\u001b[A\n",
            "\n",
            " 32%|███▏      | 822/2556 [02:36<05:45,  5.02it/s]\u001b[A\u001b[A\n",
            "\n",
            " 32%|███▏      | 823/2556 [02:36<05:40,  5.09it/s]\u001b[A\u001b[A\n",
            "\n",
            " 32%|███▏      | 824/2556 [02:36<05:38,  5.11it/s]\u001b[A\u001b[A\n",
            "\n",
            " 32%|███▏      | 825/2556 [02:37<05:37,  5.14it/s]\u001b[A\u001b[A\n",
            "\n",
            " 32%|███▏      | 826/2556 [02:37<05:41,  5.07it/s]\u001b[A\u001b[A\n",
            "\n",
            " 32%|███▏      | 827/2556 [02:37<05:39,  5.10it/s]\u001b[A\u001b[A"
          ],
          "name": "stderr"
        },
        {
          "output_type": "stream",
          "text": [
            "AI Trader bought:  $ 57.542858\n",
            "AI Trader sold:  $ 56.007141  Profit: - $ 1.535717\n"
          ],
          "name": "stdout"
        },
        {
          "output_type": "stream",
          "text": [
            "\n",
            "\n",
            " 32%|███▏      | 828/2556 [02:37<05:36,  5.14it/s]\u001b[A\u001b[A\n",
            "\n",
            " 32%|███▏      | 829/2556 [02:37<05:35,  5.14it/s]\u001b[A\u001b[A\n",
            "\n",
            " 32%|███▏      | 830/2556 [02:38<05:34,  5.16it/s]\u001b[A\u001b[A\n",
            "\n",
            " 33%|███▎      | 831/2556 [02:38<05:34,  5.16it/s]\u001b[A\u001b[A\n",
            "\n",
            " 33%|███▎      | 832/2556 [02:38<05:36,  5.12it/s]\u001b[A\u001b[A"
          ],
          "name": "stderr"
        },
        {
          "output_type": "stream",
          "text": [
            "AI Trader bought:  $ 57.922855\n"
          ],
          "name": "stdout"
        },
        {
          "output_type": "stream",
          "text": [
            "\n",
            "\n",
            " 33%|███▎      | 833/2556 [02:38<05:34,  5.16it/s]\u001b[A\u001b[A\n",
            "\n",
            " 33%|███▎      | 834/2556 [02:38<05:27,  5.25it/s]\u001b[A\u001b[A"
          ],
          "name": "stderr"
        },
        {
          "output_type": "stream",
          "text": [
            "AI Trader sold:  $ 59.599998  Profit: $ 1.677143\n",
            "AI Trader bought:  $ 61.445713\n"
          ],
          "name": "stdout"
        },
        {
          "output_type": "stream",
          "text": [
            "\n",
            "\n",
            " 33%|███▎      | 835/2556 [02:39<05:24,  5.31it/s]\u001b[A\u001b[A\n",
            "\n",
            " 33%|███▎      | 836/2556 [02:39<05:28,  5.23it/s]\u001b[A\u001b[A"
          ],
          "name": "stderr"
        },
        {
          "output_type": "stream",
          "text": [
            "AI Trader bought:  $ 63.254284\n",
            "AI Trader bought:  $ 62.755714\n"
          ],
          "name": "stdout"
        },
        {
          "output_type": "stream",
          "text": [
            "\n",
            "\n",
            " 33%|███▎      | 837/2556 [02:39<05:46,  4.95it/s]\u001b[A\u001b[A\n",
            "\n",
            " 33%|███▎      | 838/2556 [02:39<05:36,  5.10it/s]\u001b[A\u001b[A"
          ],
          "name": "stderr"
        },
        {
          "output_type": "stream",
          "text": [
            "AI Trader sold:  $ 63.645714  Profit: $ 2.200001\n",
            "AI Trader bought:  $ 64.282860\n"
          ],
          "name": "stdout"
        },
        {
          "output_type": "stream",
          "text": [
            "\n",
            "\n",
            " 33%|███▎      | 839/2556 [02:39<05:28,  5.22it/s]\u001b[A\u001b[A\n",
            "\n",
            " 33%|███▎      | 840/2556 [02:40<05:29,  5.21it/s]\u001b[A\u001b[A"
          ],
          "name": "stderr"
        },
        {
          "output_type": "stream",
          "text": [
            "AI Trader bought:  $ 65.815712\n",
            "AI Trader bought:  $ 65.522858\n"
          ],
          "name": "stdout"
        },
        {
          "output_type": "stream",
          "text": [
            "\n",
            "\n",
            " 33%|███▎      | 841/2556 [02:40<05:29,  5.20it/s]\u001b[A\u001b[A\n",
            "\n",
            " 33%|███▎      | 842/2556 [02:40<05:29,  5.20it/s]\u001b[A\u001b[A"
          ],
          "name": "stderr"
        },
        {
          "output_type": "stream",
          "text": [
            "AI Trader sold:  $ 66.262856  Profit: $ 3.008572\n",
            "AI Trader sold:  $ 65.252853  Profit: $ 2.497139\n"
          ],
          "name": "stdout"
        },
        {
          "output_type": "stream",
          "text": [
            "\n",
            "\n",
            " 33%|███▎      | 843/2556 [02:40<05:42,  5.00it/s]\u001b[A\u001b[A\n",
            "\n",
            " 33%|███▎      | 844/2556 [02:40<05:38,  5.06it/s]\u001b[A\u001b[A"
          ],
          "name": "stderr"
        },
        {
          "output_type": "stream",
          "text": [
            "AI Trader sold:  $ 64.709999  Profit: $ 0.427139\n",
            "AI Trader bought:  $ 64.962860\n"
          ],
          "name": "stdout"
        },
        {
          "output_type": "stream",
          "text": [
            "\n",
            "\n",
            " 33%|███▎      | 845/2556 [02:41<05:33,  5.13it/s]\u001b[A\u001b[A\n",
            "\n",
            " 33%|███▎      | 846/2556 [02:41<05:37,  5.07it/s]\u001b[A\u001b[A"
          ],
          "name": "stderr"
        },
        {
          "output_type": "stream",
          "text": [
            "AI Trader sold:  $ 63.408573  Profit: - $ 2.407139\n"
          ],
          "name": "stdout"
        },
        {
          "output_type": "stream",
          "text": [
            "\n",
            "\n",
            " 33%|███▎      | 847/2556 [02:41<05:32,  5.14it/s]\u001b[A\u001b[A\n",
            "\n",
            " 33%|███▎      | 848/2556 [02:41<05:34,  5.11it/s]\u001b[A\u001b[A"
          ],
          "name": "stderr"
        },
        {
          "output_type": "stream",
          "text": [
            "AI Trader bought:  $ 61.264286\n",
            "AI Trader sold:  $ 62.082859  Profit: - $ 3.439999\n",
            "AI Trader sold:  $ 61.894287  Profit: - $ 3.068573\n"
          ],
          "name": "stdout"
        },
        {
          "output_type": "stream",
          "text": [
            "\n",
            "\n",
            " 33%|███▎      | 849/2556 [02:41<05:34,  5.10it/s]\u001b[A\u001b[A\n",
            "\n",
            " 33%|███▎      | 850/2556 [02:42<05:26,  5.23it/s]\u001b[A\u001b[A"
          ],
          "name": "stderr"
        },
        {
          "output_type": "stream",
          "text": [
            "AI Trader sold:  $ 63.275715  Profit: $ 2.011429\n",
            "AI Trader bought:  $ 62.808571\n"
          ],
          "name": "stdout"
        },
        {
          "output_type": "stream",
          "text": [
            "\n",
            "\n",
            " 33%|███▎      | 851/2556 [02:42<05:21,  5.30it/s]\u001b[A\u001b[A\n",
            "\n",
            " 33%|███▎      | 852/2556 [02:42<05:23,  5.27it/s]\u001b[A\u001b[A"
          ],
          "name": "stderr"
        },
        {
          "output_type": "stream",
          "text": [
            "AI Trader sold:  $ 63.049999  Profit: $ 0.241428\n"
          ],
          "name": "stdout"
        },
        {
          "output_type": "stream",
          "text": [
            "\n",
            "\n",
            " 33%|███▎      | 853/2556 [02:42<05:25,  5.23it/s]\u001b[A\u001b[A\n",
            "\n",
            " 33%|███▎      | 854/2556 [02:42<05:23,  5.26it/s]\u001b[A\u001b[A"
          ],
          "name": "stderr"
        },
        {
          "output_type": "stream",
          "text": [
            "AI Trader bought:  $ 63.592857\n"
          ],
          "name": "stdout"
        },
        {
          "output_type": "stream",
          "text": [
            "\n",
            "\n",
            " 33%|███▎      | 855/2556 [02:42<05:24,  5.24it/s]\u001b[A\u001b[A\n",
            "\n",
            " 33%|███▎      | 856/2556 [02:43<05:30,  5.15it/s]"
          ],
          "name": "stderr"
        },
        {
          "output_type": "stream",
          "text": [
            "AI Trader sold:  $ 63.564285  Profit: - $ 0.028572\n"
          ],
          "name": "stdout"
        },
        {
          "output_type": "stream",
          "text": [
            "\u001b[A\u001b[A\n",
            "\n",
            " 34%|███▎      | 857/2556 [02:43<05:39,  5.01it/s]\u001b[A\u001b[A\n",
            "\n",
            " 34%|███▎      | 858/2556 [02:43<05:32,  5.10it/s]\u001b[A\u001b[A\n",
            "\n",
            " 34%|███▎      | 859/2556 [02:43<05:26,  5.19it/s]\u001b[A\u001b[A"
          ],
          "name": "stderr"
        },
        {
          "output_type": "stream",
          "text": [
            "AI Trader bought:  $ 64.388573\n"
          ],
          "name": "stdout"
        },
        {
          "output_type": "stream",
          "text": [
            "\n",
            "\n",
            " 34%|███▎      | 860/2556 [02:43<05:29,  5.15it/s]\u001b[A\u001b[A\n",
            "\n",
            " 34%|███▎      | 861/2556 [02:44<05:31,  5.11it/s]\u001b[A\u001b[A"
          ],
          "name": "stderr"
        },
        {
          "output_type": "stream",
          "text": [
            "AI Trader bought:  $ 62.637142\n"
          ],
          "name": "stdout"
        },
        {
          "output_type": "stream",
          "text": [
            "\n",
            "\n",
            " 34%|███▎      | 862/2556 [02:44<05:45,  4.90it/s]\u001b[A\u001b[A\n",
            "\n",
            " 34%|███▍      | 863/2556 [02:44<05:40,  4.97it/s]\u001b[A\u001b[A\n",
            "\n",
            " 34%|███▍      | 864/2556 [02:44<05:34,  5.05it/s]\u001b[A\u001b[A"
          ],
          "name": "stderr"
        },
        {
          "output_type": "stream",
          "text": [
            "AI Trader sold:  $ 62.698570  Profit: - $ 1.690002\n",
            "AI Trader sold:  $ 62.514286  Profit: - $ 0.122856\n"
          ],
          "name": "stdout"
        },
        {
          "output_type": "stream",
          "text": [
            "\n",
            "\n",
            " 34%|███▍      | 865/2556 [02:44<05:32,  5.08it/s]\u001b[A\u001b[A\n",
            "\n",
            " 34%|███▍      | 866/2556 [02:45<05:26,  5.17it/s]\u001b[A\u001b[A"
          ],
          "name": "stderr"
        },
        {
          "output_type": "stream",
          "text": [
            "AI Trader bought:  $ 61.741428\n",
            "AI Trader sold:  $ 62.279999  Profit: $ 0.538570\n"
          ],
          "name": "stdout"
        },
        {
          "output_type": "stream",
          "text": [
            "\n",
            "\n",
            " 34%|███▍      | 867/2556 [02:45<05:29,  5.13it/s]\u001b[A\u001b[A\n",
            "\n",
            " 34%|███▍      | 868/2556 [02:45<05:23,  5.21it/s]\u001b[A\u001b[A"
          ],
          "name": "stderr"
        },
        {
          "output_type": "stream",
          "text": [
            "AI Trader bought:  $ 61.435715\n",
            "AI Trader bought:  $ 61.714287\n"
          ],
          "name": "stdout"
        },
        {
          "output_type": "stream",
          "text": [
            "\n",
            "\n",
            " 34%|███▍      | 869/2556 [02:45<05:23,  5.21it/s]\u001b[A\u001b[A\n",
            "\n",
            " 34%|███▍      | 870/2556 [02:45<05:22,  5.22it/s]\u001b[A\u001b[A\n",
            "\n",
            " 34%|███▍      | 871/2556 [02:46<05:25,  5.18it/s]\u001b[A\u001b[A"
          ],
          "name": "stderr"
        },
        {
          "output_type": "stream",
          "text": [
            "AI Trader sold:  $ 60.428570  Profit: - $ 1.007145\n",
            "AI Trader bought:  $ 59.548573\n"
          ],
          "name": "stdout"
        },
        {
          "output_type": "stream",
          "text": [
            "\n",
            "\n",
            " 34%|███▍      | 872/2556 [02:46<05:21,  5.23it/s]\u001b[A\u001b[A\n",
            "\n",
            " 34%|███▍      | 873/2556 [02:46<05:31,  5.08it/s]\u001b[A\u001b[A\n",
            "\n",
            " 34%|███▍      | 874/2556 [02:46<05:59,  4.68it/s]\u001b[A\u001b[A"
          ],
          "name": "stderr"
        },
        {
          "output_type": "stream",
          "text": [
            "AI Trader sold:  $ 57.518570  Profit: - $ 4.195717\n"
          ],
          "name": "stdout"
        },
        {
          "output_type": "stream",
          "text": [
            "\n",
            "\n",
            " 34%|███▍      | 875/2556 [02:46<06:21,  4.40it/s]\u001b[A\u001b[A\n",
            "\n",
            " 34%|███▍      | 876/2556 [02:47<06:29,  4.31it/s]\u001b[A\u001b[A\n",
            "\n",
            " 34%|███▍      | 877/2556 [02:47<06:18,  4.43it/s]"
          ],
          "name": "stderr"
        },
        {
          "output_type": "stream",
          "text": [
            "AI Trader sold:  $ 56.254284  Profit: - $ 3.294289\n"
          ],
          "name": "stdout"
        },
        {
          "output_type": "stream",
          "text": [
            "\u001b[A\u001b[A\n",
            "\n",
            " 34%|███▍      | 878/2556 [02:47<06:02,  4.63it/s]\u001b[A\u001b[A\n",
            "\n",
            " 34%|███▍      | 879/2556 [02:47<05:51,  4.77it/s]\u001b[A\u001b[A\n",
            "\n",
            " 34%|███▍      | 880/2556 [02:48<05:49,  4.79it/s]\u001b[A\u001b[A"
          ],
          "name": "stderr"
        },
        {
          "output_type": "stream",
          "text": [
            "AI Trader bought:  $ 60.114285\n"
          ],
          "name": "stdout"
        },
        {
          "output_type": "stream",
          "text": [
            "\n",
            "\n",
            " 34%|███▍      | 881/2556 [02:48<05:55,  4.71it/s]\u001b[A\u001b[A\n",
            "\n",
            " 35%|███▍      | 882/2556 [02:48<05:46,  4.83it/s]\u001b[A\u001b[A"
          ],
          "name": "stderr"
        },
        {
          "output_type": "stream",
          "text": [
            "AI Trader bought:  $ 59.631428\n"
          ],
          "name": "stdout"
        },
        {
          "output_type": "stream",
          "text": [
            "\n",
            "\n",
            " 35%|███▍      | 883/2556 [02:48<05:35,  4.98it/s]\u001b[A\u001b[A\n",
            "\n",
            " 35%|███▍      | 884/2556 [02:48<05:33,  5.01it/s]\u001b[A\u001b[A\n",
            "\n",
            " 35%|███▍      | 885/2556 [02:49<05:26,  5.12it/s]\u001b[A\u001b[A"
          ],
          "name": "stderr"
        },
        {
          "output_type": "stream",
          "text": [
            "AI Trader bought:  $ 60.104286\n",
            "AI Trader sold:  $ 61.041428  Profit: $ 0.927143\n"
          ],
          "name": "stdout"
        },
        {
          "output_type": "stream",
          "text": [
            "\n",
            "\n",
            " 35%|███▍      | 886/2556 [02:49<05:26,  5.11it/s]\u001b[A\u001b[A\n",
            "\n",
            " 35%|███▍      | 887/2556 [02:49<05:23,  5.16it/s]\u001b[A\u001b[A"
          ],
          "name": "stderr"
        },
        {
          "output_type": "stream",
          "text": [
            "AI Trader sold:  $ 60.930000  Profit: $ 1.298573\n",
            "AI Trader sold:  $ 61.062859  Profit: $ 0.958572\n"
          ],
          "name": "stdout"
        },
        {
          "output_type": "stream",
          "text": [
            "\n",
            "\n",
            " 35%|███▍      | 888/2556 [02:49<05:26,  5.10it/s]\u001b[A\u001b[A\n",
            "\n",
            " 35%|███▍      | 889/2556 [02:49<05:44,  4.84it/s]\u001b[A\u001b[A\n",
            "\n",
            " 35%|███▍      | 890/2556 [02:50<06:05,  4.56it/s]\u001b[A\u001b[A\n",
            "\n",
            " 35%|███▍      | 891/2556 [02:50<06:35,  4.21it/s]\u001b[A\u001b[A\n",
            "\n",
            " 35%|███▍      | 892/2556 [02:50<06:44,  4.11it/s]\u001b[A\u001b[A\n",
            "\n",
            " 35%|███▍      | 893/2556 [02:50<06:21,  4.35it/s]\u001b[A\u001b[A\n",
            "\n",
            " 35%|███▍      | 894/2556 [02:51<06:05,  4.55it/s]\u001b[A\u001b[A\n",
            "\n",
            " 35%|███▌      | 895/2556 [02:51<05:50,  4.74it/s]\u001b[A\u001b[A\n",
            "\n",
            " 35%|███▌      | 896/2556 [02:51<05:39,  4.89it/s]\u001b[A\u001b[A"
          ],
          "name": "stderr"
        },
        {
          "output_type": "stream",
          "text": [
            "AI Trader bought:  $ 62.642857\n",
            "AI Trader sold:  $ 62.998573  Profit: $ 0.355717\n"
          ],
          "name": "stdout"
        },
        {
          "output_type": "stream",
          "text": [
            "\n",
            "\n",
            " 35%|███▌      | 897/2556 [02:51<05:30,  5.02it/s]\u001b[A\u001b[A\n",
            "\n",
            " 35%|███▌      | 898/2556 [02:51<05:22,  5.15it/s]\u001b[A\u001b[A\n",
            "\n",
            " 35%|███▌      | 899/2556 [02:51<05:18,  5.21it/s]\u001b[A\u001b[A"
          ],
          "name": "stderr"
        },
        {
          "output_type": "stream",
          "text": [
            "AI Trader bought:  $ 64.647141\n"
          ],
          "name": "stdout"
        },
        {
          "output_type": "stream",
          "text": [
            "\n",
            "\n",
            " 35%|███▌      | 900/2556 [02:52<05:27,  5.06it/s]\u001b[A\u001b[A\n",
            "\n",
            " 35%|███▌      | 901/2556 [02:52<05:28,  5.04it/s]\u001b[A\u001b[A"
          ],
          "name": "stderr"
        },
        {
          "output_type": "stream",
          "text": [
            "AI Trader sold:  $ 65.239998  Profit: $ 0.592857\n"
          ],
          "name": "stdout"
        },
        {
          "output_type": "stream",
          "text": [
            "\n",
            "\n",
            " 35%|███▌      | 902/2556 [02:52<05:30,  5.01it/s]\u001b[A\u001b[A\n",
            "\n",
            " 35%|███▌      | 903/2556 [02:52<05:20,  5.16it/s]\u001b[A\u001b[A\n",
            "\n",
            " 35%|███▌      | 904/2556 [02:52<05:24,  5.10it/s]\u001b[A\u001b[A"
          ],
          "name": "stderr"
        },
        {
          "output_type": "stream",
          "text": [
            "AI Trader bought:  $ 66.464287\n"
          ],
          "name": "stdout"
        },
        {
          "output_type": "stream",
          "text": [
            "\n",
            "\n",
            " 35%|███▌      | 905/2556 [02:53<05:17,  5.20it/s]\u001b[A\u001b[A"
          ],
          "name": "stderr"
        },
        {
          "output_type": "stream",
          "text": [
            "AI Trader sold:  $ 66.425713  Profit: - $ 0.038574\n"
          ],
          "name": "stdout"
        },
        {
          "output_type": "stream",
          "text": [
            "\n",
            "\n",
            " 35%|███▌      | 906/2556 [02:53<05:25,  5.07it/s]\u001b[A\u001b[A\n",
            "\n",
            " 35%|███▌      | 907/2556 [02:53<05:25,  5.06it/s]\u001b[A\u001b[A\n",
            "\n",
            " 36%|███▌      | 908/2556 [02:53<05:21,  5.13it/s]\u001b[A\u001b[A"
          ],
          "name": "stderr"
        },
        {
          "output_type": "stream",
          "text": [
            "AI Trader bought:  $ 66.765717\n",
            "AI Trader sold:  $ 69.938568  Profit: $ 3.172852\n"
          ],
          "name": "stdout"
        },
        {
          "output_type": "stream",
          "text": [
            "\n",
            "\n",
            " 36%|███▌      | 909/2556 [02:53<05:16,  5.20it/s]\u001b[A\u001b[A\n",
            "\n",
            " 36%|███▌      | 910/2556 [02:54<05:17,  5.18it/s]\u001b[A\u001b[A\n",
            "\n",
            " 36%|███▌      | 911/2556 [02:54<05:12,  5.26it/s]\u001b[A\u001b[A"
          ],
          "name": "stderr"
        },
        {
          "output_type": "stream",
          "text": [
            "AI Trader bought:  $ 71.129997\n"
          ],
          "name": "stdout"
        },
        {
          "output_type": "stream",
          "text": [
            "\n",
            "\n",
            " 36%|███▌      | 912/2556 [02:54<05:16,  5.19it/s]\u001b[A\u001b[A\n",
            "\n",
            " 36%|███▌      | 913/2556 [02:54<05:11,  5.28it/s]\u001b[A\u001b[A\n",
            "\n",
            " 36%|███▌      | 914/2556 [02:54<05:06,  5.36it/s]\u001b[A\u001b[A\n",
            "\n",
            " 36%|███▌      | 915/2556 [02:55<05:10,  5.28it/s]\u001b[A\u001b[A\n",
            "\n",
            " 36%|███▌      | 916/2556 [02:55<05:12,  5.26it/s]\u001b[A\u001b[A"
          ],
          "name": "stderr"
        },
        {
          "output_type": "stream",
          "text": [
            "AI Trader sold:  $ 71.851425  Profit: $ 0.721428\n",
            "AI Trader bought:  $ 71.574287\n"
          ],
          "name": "stdout"
        },
        {
          "output_type": "stream",
          "text": [
            "\n",
            "\n",
            " 36%|███▌      | 917/2556 [02:55<05:16,  5.18it/s]\u001b[A\u001b[A\n",
            "\n",
            " 36%|███▌      | 918/2556 [02:55<05:16,  5.18it/s]\u001b[A\u001b[A"
          ],
          "name": "stderr"
        },
        {
          "output_type": "stream",
          "text": [
            "AI Trader bought:  $ 71.852859\n"
          ],
          "name": "stdout"
        },
        {
          "output_type": "stream",
          "text": [
            "\n",
            "\n",
            " 36%|███▌      | 919/2556 [02:55<05:12,  5.24it/s]\u001b[A\u001b[A\n",
            "\n",
            " 36%|███▌      | 920/2556 [02:56<05:06,  5.34it/s]\u001b[A\u001b[A\n",
            "\n",
            " 36%|███▌      | 921/2556 [02:56<05:03,  5.38it/s]\u001b[A\u001b[A"
          ],
          "name": "stderr"
        },
        {
          "output_type": "stream",
          "text": [
            "AI Trader bought:  $ 70.242859\n",
            "AI Trader bought:  $ 69.602859\n"
          ],
          "name": "stdout"
        },
        {
          "output_type": "stream",
          "text": [
            "\n",
            "\n",
            " 36%|███▌      | 922/2556 [02:56<05:11,  5.25it/s]\u001b[A\u001b[A"
          ],
          "name": "stderr"
        },
        {
          "output_type": "stream",
          "text": [
            "AI Trader sold:  $ 69.797142  Profit: - $ 1.777145\n"
          ],
          "name": "stdout"
        },
        {
          "output_type": "stream",
          "text": [
            "\n",
            "\n",
            " 36%|███▌      | 923/2556 [02:56<05:21,  5.07it/s]\u001b[A\u001b[A\n",
            "\n",
            " 36%|███▌      | 924/2556 [02:56<05:13,  5.20it/s]\u001b[A\u001b[A"
          ],
          "name": "stderr"
        },
        {
          "output_type": "stream",
          "text": [
            "AI Trader sold:  $ 71.241432  Profit: - $ 0.611427\n",
            "AI Trader bought:  $ 70.752853\n"
          ],
          "name": "stdout"
        },
        {
          "output_type": "stream",
          "text": [
            "\n",
            "\n",
            " 36%|███▌      | 925/2556 [02:56<05:14,  5.19it/s]\u001b[A\u001b[A\n",
            "\n",
            " 36%|███▌      | 926/2556 [02:57<05:15,  5.16it/s]\u001b[A\u001b[A"
          ],
          "name": "stderr"
        },
        {
          "output_type": "stream",
          "text": [
            "AI Trader sold:  $ 71.174286  Profit: $ 0.931427\n",
            "AI Trader bought:  $ 72.309998\n"
          ],
          "name": "stdout"
        },
        {
          "output_type": "stream",
          "text": [
            "\n",
            "\n",
            " 36%|███▋      | 927/2556 [02:57<05:15,  5.16it/s]\u001b[A\u001b[A"
          ],
          "name": "stderr"
        },
        {
          "output_type": "stream",
          "text": [
            "AI Trader bought:  $ 70.662857\n"
          ],
          "name": "stdout"
        },
        {
          "output_type": "stream",
          "text": [
            "\n",
            "\n",
            " 36%|███▋      | 928/2556 [02:57<05:28,  4.96it/s]\u001b[A\u001b[A\n",
            "\n",
            " 36%|███▋      | 929/2556 [02:57<05:30,  4.93it/s]\u001b[A\u001b[A\n",
            "\n",
            " 36%|███▋      | 930/2556 [02:57<05:28,  4.95it/s]\u001b[A\u001b[A\n",
            "\n",
            " 36%|███▋      | 931/2556 [02:58<05:17,  5.11it/s]\u001b[A\u001b[A\n",
            "\n",
            " 36%|███▋      | 932/2556 [02:58<05:20,  5.07it/s]\u001b[A\u001b[A"
          ],
          "name": "stderr"
        },
        {
          "output_type": "stream",
          "text": [
            "AI Trader bought:  $ 64.302856\n"
          ],
          "name": "stdout"
        },
        {
          "output_type": "stream",
          "text": [
            "\n",
            "\n",
            " 37%|███▋      | 933/2556 [02:58<05:19,  5.08it/s]\u001b[A\u001b[A"
          ],
          "name": "stderr"
        },
        {
          "output_type": "stream",
          "text": [
            "AI Trader bought:  $ 65.045715\n",
            "AI Trader sold:  $ 66.382858  Profit: - $ 3.220001\n"
          ],
          "name": "stdout"
        },
        {
          "output_type": "stream",
          "text": [
            "\n",
            "\n",
            " 37%|███▋      | 934/2556 [02:58<05:22,  5.03it/s]\u001b[A\u001b[A\n",
            "\n",
            " 37%|███▋      | 935/2556 [02:58<05:18,  5.10it/s]\u001b[A\u001b[A"
          ],
          "name": "stderr"
        },
        {
          "output_type": "stream",
          "text": [
            "AI Trader sold:  $ 67.471428  Profit: - $ 3.281425\n",
            "AI Trader bought:  $ 66.772858\n"
          ],
          "name": "stdout"
        },
        {
          "output_type": "stream",
          "text": [
            "\n",
            "\n",
            " 37%|███▋      | 936/2556 [02:59<05:12,  5.18it/s]\u001b[A\u001b[A\n",
            "\n",
            " 37%|███▋      | 937/2556 [02:59<05:06,  5.29it/s]\u001b[A\u001b[A\n",
            "\n",
            " 37%|███▋      | 938/2556 [02:59<05:10,  5.22it/s]\u001b[A\u001b[A"
          ],
          "name": "stderr"
        },
        {
          "output_type": "stream",
          "text": [
            "AI Trader bought:  $ 69.871429\n",
            "AI Trader bought:  $ 68.790001\n"
          ],
          "name": "stdout"
        },
        {
          "output_type": "stream",
          "text": [
            "\n",
            "\n",
            " 37%|███▋      | 939/2556 [02:59<05:12,  5.17it/s]\u001b[A\u001b[A\n",
            "\n",
            " 37%|███▋      | 940/2556 [02:59<05:07,  5.26it/s]\u001b[A\u001b[A"
          ],
          "name": "stderr"
        },
        {
          "output_type": "stream",
          "text": [
            "AI Trader bought:  $ 69.459999\n"
          ],
          "name": "stdout"
        },
        {
          "output_type": "stream",
          "text": [
            "\n",
            "\n",
            " 37%|███▋      | 941/2556 [03:00<05:06,  5.26it/s]\u001b[A\u001b[A\n",
            "\n",
            " 37%|███▋      | 942/2556 [03:00<05:04,  5.31it/s]\u001b[A\u001b[A"
          ],
          "name": "stderr"
        },
        {
          "output_type": "stream",
          "text": [
            "AI Trader bought:  $ 68.107140\n",
            "AI Trader sold:  $ 69.708572  Profit: - $ 2.601425\n"
          ],
          "name": "stdout"
        },
        {
          "output_type": "stream",
          "text": [
            "\n",
            "\n",
            " 37%|███▋      | 943/2556 [03:00<05:10,  5.20it/s]\u001b[A\u001b[A\n",
            "\n",
            " 37%|███▋      | 944/2556 [03:00<05:12,  5.17it/s]\u001b[A\u001b[A"
          ],
          "name": "stderr"
        },
        {
          "output_type": "stream",
          "text": [
            "AI Trader bought:  $ 69.937141\n",
            "AI Trader bought:  $ 69.058571\n"
          ],
          "name": "stdout"
        },
        {
          "output_type": "stream",
          "text": [
            "\n",
            "\n",
            " 37%|███▋      | 945/2556 [03:00<05:09,  5.21it/s]\u001b[A\u001b[A\n",
            "\n",
            " 37%|███▋      | 946/2556 [03:01<05:07,  5.23it/s]\u001b[A\u001b[A"
          ],
          "name": "stderr"
        },
        {
          "output_type": "stream",
          "text": [
            "AI Trader sold:  $ 69.004288  Profit: - $ 1.658569\n"
          ],
          "name": "stdout"
        },
        {
          "output_type": "stream",
          "text": [
            "\n",
            "\n",
            " 37%|███▋      | 947/2556 [03:01<05:10,  5.18it/s]\u001b[A\u001b[A\n",
            "\n",
            " 37%|███▋      | 948/2556 [03:01<05:15,  5.09it/s]"
          ],
          "name": "stderr"
        },
        {
          "output_type": "stream",
          "text": [
            "AI Trader bought:  $ 68.705711\n"
          ],
          "name": "stdout"
        },
        {
          "output_type": "stream",
          "text": [
            "\u001b[A\u001b[A"
          ],
          "name": "stderr"
        },
        {
          "output_type": "stream",
          "text": [
            "AI Trader sold:  $ 69.512856  Profit: $ 5.209999\n"
          ],
          "name": "stdout"
        },
        {
          "output_type": "stream",
          "text": [
            "\n",
            "\n",
            " 37%|███▋      | 949/2556 [03:01<05:50,  4.59it/s]\u001b[A\u001b[A"
          ],
          "name": "stderr"
        },
        {
          "output_type": "stream",
          "text": [
            "AI Trader bought:  $ 69.948570\n"
          ],
          "name": "stdout"
        },
        {
          "output_type": "stream",
          "text": [
            "\n",
            "\n",
            " 37%|███▋      | 950/2556 [03:01<06:11,  4.32it/s]\u001b[A\u001b[A"
          ],
          "name": "stderr"
        },
        {
          "output_type": "stream",
          "text": [
            "AI Trader sold:  $ 70.401428  Profit: $ 5.355713\n"
          ],
          "name": "stdout"
        },
        {
          "output_type": "stream",
          "text": [
            "\n",
            "\n",
            " 37%|███▋      | 951/2556 [03:02<06:24,  4.18it/s]\u001b[A\u001b[A"
          ],
          "name": "stderr"
        },
        {
          "output_type": "stream",
          "text": [
            "AI Trader sold:  $ 70.862854  Profit: $ 4.089996\n"
          ],
          "name": "stdout"
        },
        {
          "output_type": "stream",
          "text": [
            "\n",
            "\n",
            " 37%|███▋      | 952/2556 [03:02<06:35,  4.06it/s]\u001b[A\u001b[A\n",
            "\n"
          ],
          "name": "stderr"
        },
        {
          "output_type": "stream",
          "text": [
            "AI Trader sold:  $ 71.239998  Profit: $ 1.368568\n"
          ],
          "name": "stdout"
        },
        {
          "output_type": "stream",
          "text": [
            "\r 37%|███▋      | 953/2556 [03:02<06:15,  4.26it/s]\u001b[A\u001b[A\n",
            "\n",
            " 37%|███▋      | 954/2556 [03:02<05:57,  4.48it/s]\u001b[A\u001b[A"
          ],
          "name": "stderr"
        },
        {
          "output_type": "stream",
          "text": [
            "AI Trader sold:  $ 71.587143  Profit: $ 2.797142\n",
            "AI Trader sold:  $ 72.071426  Profit: $ 2.611427\n"
          ],
          "name": "stdout"
        },
        {
          "output_type": "stream",
          "text": [
            "\n",
            "\n",
            " 37%|███▋      | 955/2556 [03:03<05:43,  4.66it/s]\u001b[A\u001b[A"
          ],
          "name": "stderr"
        },
        {
          "output_type": "stream",
          "text": [
            "AI Trader sold:  $ 72.698570  Profit: $ 4.591431\n"
          ],
          "name": "stdout"
        },
        {
          "output_type": "stream",
          "text": [
            "\n",
            "\n",
            " 37%|███▋      | 956/2556 [03:03<05:50,  4.56it/s]\u001b[A\u001b[A\n",
            "\n",
            " 37%|███▋      | 957/2556 [03:03<05:34,  4.78it/s]\u001b[A\u001b[A"
          ],
          "name": "stderr"
        },
        {
          "output_type": "stream",
          "text": [
            "AI Trader sold:  $ 74.480003  Profit: $ 4.542862\n",
            "AI Trader bought:  $ 74.267143\n"
          ],
          "name": "stdout"
        },
        {
          "output_type": "stream",
          "text": [
            "\n",
            "\n",
            " 37%|███▋      | 958/2556 [03:03<05:30,  4.83it/s]\u001b[A\u001b[A"
          ],
          "name": "stderr"
        },
        {
          "output_type": "stream",
          "text": [
            "AI Trader sold:  $ 74.994286  Profit: $ 5.935715\n"
          ],
          "name": "stdout"
        },
        {
          "output_type": "stream",
          "text": [
            "\n",
            "\n",
            " 38%|███▊      | 959/2556 [03:03<05:33,  4.78it/s]\u001b[A\u001b[A\n",
            "\n",
            " 38%|███▊      | 960/2556 [03:04<05:22,  4.95it/s]\u001b[A\u001b[A\n",
            "\n",
            " 38%|███▊      | 961/2556 [03:04<05:16,  5.05it/s]\u001b[A\u001b[A"
          ],
          "name": "stderr"
        },
        {
          "output_type": "stream",
          "text": [
            "AI Trader sold:  $ 75.137146  Profit: $ 6.431435\n",
            "AI Trader sold:  $ 75.697144  Profit: $ 5.748573\n"
          ],
          "name": "stdout"
        },
        {
          "output_type": "stream",
          "text": [
            "\n",
            "\n",
            " 38%|███▊      | 962/2556 [03:04<05:14,  5.06it/s]\u001b[A\u001b[A"
          ],
          "name": "stderr"
        },
        {
          "output_type": "stream",
          "text": [
            "AI Trader sold:  $ 73.811432  Profit: - $ 0.455711\n"
          ],
          "name": "stdout"
        },
        {
          "output_type": "stream",
          "text": [
            "\n",
            "\n",
            " 38%|███▊      | 963/2556 [03:04<05:29,  4.84it/s]\u001b[A\u001b[A\n",
            "\n",
            " 38%|███▊      | 964/2556 [03:04<05:27,  4.87it/s]\u001b[A\u001b[A\n",
            "\n",
            " 38%|███▊      | 965/2556 [03:05<05:31,  4.80it/s]\u001b[A\u001b[A\n",
            "\n",
            " 38%|███▊      | 966/2556 [03:05<05:23,  4.92it/s]\u001b[A\u001b[A\n",
            "\n",
            " 38%|███▊      | 967/2556 [03:05<05:20,  4.96it/s]\u001b[A\u001b[A\n",
            "\n",
            " 38%|███▊      | 968/2556 [03:05<05:18,  4.99it/s]\u001b[A\u001b[A\n",
            "\n",
            " 38%|███▊      | 969/2556 [03:05<05:28,  4.83it/s]\u001b[A\u001b[A\n",
            "\n",
            " 38%|███▊      | 970/2556 [03:06<05:30,  4.79it/s]\u001b[A\u001b[A\n",
            "\n",
            " 38%|███▊      | 971/2556 [03:06<05:26,  4.86it/s]\u001b[A\u001b[A\n",
            "\n",
            " 38%|███▊      | 972/2556 [03:06<05:19,  4.96it/s]\u001b[A\u001b[A\n",
            "\n",
            " 38%|███▊      | 973/2556 [03:06<05:18,  4.97it/s]\u001b[A\u001b[A\n",
            "\n",
            " 38%|███▊      | 974/2556 [03:06<05:21,  4.92it/s]\u001b[A\u001b[A\n",
            "\n",
            " 38%|███▊      | 975/2556 [03:07<05:16,  4.99it/s]\u001b[A\u001b[A\n",
            "\n",
            " 38%|███▊      | 976/2556 [03:07<05:12,  5.06it/s]\u001b[A\u001b[A\n",
            "\n",
            " 38%|███▊      | 977/2556 [03:07<05:12,  5.05it/s]\u001b[A\u001b[A\n",
            "\n",
            " 38%|███▊      | 978/2556 [03:07<05:14,  5.02it/s]\u001b[A\u001b[A\n",
            "\n",
            " 38%|███▊      | 979/2556 [03:07<05:22,  4.89it/s]\u001b[A\u001b[A\n",
            "\n",
            " 38%|███▊      | 980/2556 [03:08<05:18,  4.95it/s]\u001b[A\u001b[A"
          ],
          "name": "stderr"
        },
        {
          "output_type": "stream",
          "text": [
            "AI Trader bought:  $ 74.448570\n",
            "AI Trader bought:  $ 74.257141\n"
          ],
          "name": "stdout"
        },
        {
          "output_type": "stream",
          "text": [
            "\n",
            "\n",
            " 38%|███▊      | 981/2556 [03:08<05:16,  4.98it/s]\u001b[A\u001b[A"
          ],
          "name": "stderr"
        },
        {
          "output_type": "stream",
          "text": [
            "AI Trader sold:  $ 74.820000  Profit: $ 0.371429\n"
          ],
          "name": "stdout"
        },
        {
          "output_type": "stream",
          "text": [
            "\n",
            "\n",
            " 38%|███▊      | 982/2556 [03:08<05:23,  4.86it/s]\u001b[A\u001b[A\n",
            "\n",
            " 38%|███▊      | 983/2556 [03:08<05:20,  4.90it/s]"
          ],
          "name": "stderr"
        },
        {
          "output_type": "stream",
          "text": [
            "AI Trader sold:  $ 76.199997  Profit: $ 1.942856\n"
          ],
          "name": "stdout"
        },
        {
          "output_type": "stream",
          "text": [
            "\u001b[A\u001b[A\n",
            "\n",
            " 38%|███▊      | 984/2556 [03:09<05:36,  4.68it/s]\u001b[A\u001b[A\n",
            "\n",
            " 39%|███▊      | 985/2556 [03:09<05:27,  4.80it/s]\u001b[A\u001b[A\n",
            "\n",
            " 39%|███▊      | 986/2556 [03:09<05:17,  4.94it/s]\u001b[A\u001b[A\n",
            "\n",
            " 39%|███▊      | 987/2556 [03:09<05:11,  5.03it/s]\u001b[A\u001b[A\n",
            "\n",
            " 39%|███▊      | 988/2556 [03:09<05:08,  5.09it/s]\u001b[A\u001b[A"
          ],
          "name": "stderr"
        },
        {
          "output_type": "stream",
          "text": [
            "AI Trader bought:  $ 80.714287\n",
            "AI Trader bought:  $ 81.128571\n"
          ],
          "name": "stdout"
        },
        {
          "output_type": "stream",
          "text": [
            "\n",
            "\n",
            " 39%|███▊      | 989/2556 [03:10<05:14,  4.99it/s]\u001b[A\u001b[A\n",
            "\n",
            " 39%|███▊      | 990/2556 [03:10<05:10,  5.04it/s]\u001b[A\u001b[A"
          ],
          "name": "stderr"
        },
        {
          "output_type": "stream",
          "text": [
            "AI Trader bought:  $ 80.002853\n",
            "AI Trader bought:  $ 80.918571\n"
          ],
          "name": "stdout"
        },
        {
          "output_type": "stream",
          "text": [
            "\n",
            "\n",
            " 39%|███▉      | 991/2556 [03:10<05:18,  4.92it/s]\u001b[A\u001b[A"
          ],
          "name": "stderr"
        },
        {
          "output_type": "stream",
          "text": [
            "AI Trader sold:  $ 80.792854  Profit: $ 0.078568\n"
          ],
          "name": "stdout"
        },
        {
          "output_type": "stream",
          "text": [
            "\n",
            "\n",
            " 39%|███▉      | 992/2556 [03:10<05:25,  4.81it/s]\u001b[A\u001b[A\n",
            "\n",
            " 39%|███▉      | 993/2556 [03:10<05:21,  4.87it/s]\u001b[A\u001b[A"
          ],
          "name": "stderr"
        },
        {
          "output_type": "stream",
          "text": [
            "AI Trader bought:  $ 80.194283\n",
            "AI Trader sold:  $ 80.077141  Profit: - $ 1.051430\n"
          ],
          "name": "stdout"
        },
        {
          "output_type": "stream",
          "text": [
            "\n",
            "\n",
            " 39%|███▉      | 994/2556 [03:11<05:28,  4.75it/s]\u001b[A\u001b[A\n",
            "\n",
            " 39%|███▉      | 995/2556 [03:11<05:22,  4.84it/s]\u001b[A\u001b[A\n",
            "\n",
            " 39%|███▉      | 996/2556 [03:11<05:25,  4.80it/s]\u001b[A\u001b[A\n",
            "\n",
            " 39%|███▉      | 997/2556 [03:11<05:16,  4.92it/s]\u001b[A\u001b[A"
          ],
          "name": "stderr"
        },
        {
          "output_type": "stream",
          "text": [
            "AI Trader sold:  $ 79.284286  Profit: - $ 0.718567\n"
          ],
          "name": "stdout"
        },
        {
          "output_type": "stream",
          "text": [
            "\n",
            "\n",
            " 39%|███▉      | 998/2556 [03:11<05:16,  4.92it/s]\u001b[A\u001b[A\n",
            "\n",
            " 39%|███▉      | 999/2556 [03:12<05:12,  4.98it/s]\u001b[A\u001b[A\n",
            "\n",
            " 39%|███▉      | 1000/2556 [03:12<05:06,  5.08it/s]\u001b[A\u001b[A\n",
            "\n",
            " 39%|███▉      | 1001/2556 [03:12<05:08,  5.05it/s]\u001b[A\u001b[A"
          ],
          "name": "stderr"
        },
        {
          "output_type": "stream",
          "text": [
            "AI Trader sold:  $ 81.441429  Profit: $ 0.522858\n",
            "AI Trader sold:  $ 81.095711  Profit: $ 0.901428\n"
          ],
          "name": "stdout"
        },
        {
          "output_type": "stream",
          "text": [
            "\n",
            "\n",
            " 39%|███▉      | 1002/2556 [03:12<05:19,  4.86it/s]\u001b[A\u001b[A\n",
            "\n",
            " 39%|███▉      | 1003/2556 [03:12<05:12,  4.96it/s]\u001b[A\u001b[A\n",
            "\n",
            " 39%|███▉      | 1004/2556 [03:13<05:06,  5.06it/s]\u001b[A\u001b[A\n",
            "\n",
            " 39%|███▉      | 1005/2556 [03:13<05:00,  5.16it/s]\u001b[A\u001b[A\n",
            "\n",
            " 39%|███▉      | 1006/2556 [03:13<04:55,  5.25it/s]\u001b[A\u001b[A"
          ],
          "name": "stderr"
        },
        {
          "output_type": "stream",
          "text": [
            "AI Trader bought:  $ 80.145714\n",
            "AI Trader sold:  $ 79.018570  Profit: - $ 1.127144\n"
          ],
          "name": "stdout"
        },
        {
          "output_type": "stream",
          "text": [
            "\n",
            "\n",
            " 39%|███▉      | 1007/2556 [03:13<04:59,  5.17it/s]\u001b[A\u001b[A\n",
            "\n",
            " 39%|███▉      | 1008/2556 [03:13<04:56,  5.22it/s]\u001b[A\u001b[A\n",
            "\n",
            " 39%|███▉      | 1009/2556 [03:13<04:58,  5.18it/s]\u001b[A\u001b[A\n",
            "\n",
            " 40%|███▉      | 1010/2556 [03:14<04:54,  5.25it/s]\u001b[A\u001b[A\n",
            "\n",
            " 40%|███▉      | 1011/2556 [03:14<05:06,  5.05it/s]\u001b[A\u001b[A\n",
            "\n",
            " 40%|███▉      | 1012/2556 [03:14<05:05,  5.05it/s]\u001b[A\u001b[A"
          ],
          "name": "stderr"
        },
        {
          "output_type": "stream",
          "text": [
            "AI Trader bought:  $ 76.645714\n"
          ],
          "name": "stdout"
        },
        {
          "output_type": "stream",
          "text": [
            "\n",
            "\n",
            " 40%|███▉      | 1013/2556 [03:14<05:01,  5.12it/s]\u001b[A\u001b[A\n",
            "\n",
            " 40%|███▉      | 1014/2556 [03:14<04:59,  5.15it/s]\u001b[A\u001b[A"
          ],
          "name": "stderr"
        },
        {
          "output_type": "stream",
          "text": [
            "AI Trader sold:  $ 76.532860  Profit: - $ 0.112854\n"
          ],
          "name": "stdout"
        },
        {
          "output_type": "stream",
          "text": [
            "\n",
            "\n",
            " 40%|███▉      | 1015/2556 [03:15<05:00,  5.13it/s]\u001b[A\u001b[A\n",
            "\n",
            " 40%|███▉      | 1016/2556 [03:15<04:59,  5.15it/s]\u001b[A\u001b[A"
          ],
          "name": "stderr"
        },
        {
          "output_type": "stream",
          "text": [
            "AI Trader bought:  $ 79.622856\n",
            "AI Trader sold:  $ 79.178574  Profit: - $ 0.444283\n"
          ],
          "name": "stdout"
        },
        {
          "output_type": "stream",
          "text": [
            "\n",
            "\n",
            " 40%|███▉      | 1017/2556 [03:15<04:55,  5.21it/s]\u001b[A\u001b[A\n",
            "\n",
            " 40%|███▉      | 1018/2556 [03:15<04:59,  5.14it/s]\u001b[A\u001b[A\n",
            "\n",
            " 40%|███▉      | 1019/2556 [03:15<04:55,  5.19it/s]\u001b[A\u001b[A\n",
            "\n",
            " 40%|███▉      | 1020/2556 [03:16<04:50,  5.29it/s]\u001b[A\u001b[A\n",
            "\n",
            " 40%|███▉      | 1021/2556 [03:16<04:45,  5.37it/s]\u001b[A\u001b[A"
          ],
          "name": "stderr"
        },
        {
          "output_type": "stream",
          "text": [
            "AI Trader bought:  $ 79.454285\n",
            "AI Trader bought:  $ 78.010002\n"
          ],
          "name": "stdout"
        },
        {
          "output_type": "stream",
          "text": [
            "\n",
            "\n",
            " 40%|███▉      | 1022/2556 [03:16<04:51,  5.26it/s]\u001b[A\u001b[A\n",
            "\n",
            " 40%|████      | 1023/2556 [03:16<05:03,  5.05it/s]\u001b[A\u001b[A\n",
            "\n",
            " 40%|████      | 1024/2556 [03:16<04:54,  5.20it/s]\u001b[A\u001b[A\n",
            "\n",
            " 40%|████      | 1025/2556 [03:17<04:53,  5.22it/s]\u001b[A\u001b[A\n",
            "\n",
            " 40%|████      | 1026/2556 [03:17<04:49,  5.28it/s]\u001b[A\u001b[A"
          ],
          "name": "stderr"
        },
        {
          "output_type": "stream",
          "text": [
            "AI Trader bought:  $ 71.397141\n"
          ],
          "name": "stdout"
        },
        {
          "output_type": "stream",
          "text": [
            "\n",
            "\n",
            " 40%|████      | 1027/2556 [03:17<04:46,  5.33it/s]\u001b[A\u001b[A\n",
            "\n",
            " 40%|████      | 1028/2556 [03:17<04:47,  5.32it/s]\u001b[A\u001b[A"
          ],
          "name": "stderr"
        },
        {
          "output_type": "stream",
          "text": [
            "AI Trader sold:  $ 71.647141  Profit: - $ 7.807144\n",
            "AI Trader sold:  $ 72.684288  Profit: - $ 5.325714\n"
          ],
          "name": "stdout"
        },
        {
          "output_type": "stream",
          "text": [
            "\n",
            "\n",
            " 40%|████      | 1029/2556 [03:17<04:46,  5.33it/s]\u001b[A\u001b[A\n",
            "\n",
            " 40%|████      | 1030/2556 [03:18<04:50,  5.25it/s]\u001b[A\u001b[A"
          ],
          "name": "stderr"
        },
        {
          "output_type": "stream",
          "text": [
            "AI Trader sold:  $ 73.227142  Profit: $ 1.830002\n"
          ],
          "name": "stdout"
        },
        {
          "output_type": "stream",
          "text": [
            "\n",
            "\n",
            " 40%|████      | 1031/2556 [03:18<05:01,  5.06it/s]\u001b[A\u001b[A\n",
            "\n",
            " 40%|████      | 1032/2556 [03:18<05:07,  4.96it/s]\u001b[A\u001b[A\n",
            "\n",
            " 40%|████      | 1033/2556 [03:18<05:04,  5.00it/s]\u001b[A\u001b[A\n",
            "\n",
            " 40%|████      | 1034/2556 [03:18<05:05,  4.99it/s]\u001b[A\u001b[A\n",
            "\n",
            " 40%|████      | 1035/2556 [03:19<04:57,  5.11it/s]\u001b[A\u001b[A\n",
            "\n",
            " 41%|████      | 1036/2556 [03:19<04:54,  5.16it/s]\u001b[A\u001b[A\n",
            "\n",
            " 41%|████      | 1037/2556 [03:19<04:46,  5.31it/s]\u001b[A\u001b[A\n",
            "\n",
            " 41%|████      | 1038/2556 [03:19<04:46,  5.29it/s]\u001b[A\u001b[A\n",
            "\n",
            " 41%|████      | 1039/2556 [03:19<05:02,  5.01it/s]\u001b[A\u001b[A\n",
            "\n",
            " 41%|████      | 1040/2556 [03:20<05:00,  5.04it/s]\u001b[A\u001b[A\n",
            "\n",
            " 41%|████      | 1041/2556 [03:20<05:14,  4.81it/s]\u001b[A\u001b[A\n",
            "\n",
            " 41%|████      | 1042/2556 [03:20<05:31,  4.57it/s]\u001b[A\u001b[A\n",
            "\n",
            " 41%|████      | 1043/2556 [03:20<05:39,  4.46it/s]\u001b[A\u001b[A\n",
            "\n",
            " 41%|████      | 1044/2556 [03:20<05:46,  4.36it/s]\u001b[A\u001b[A\n",
            "\n",
            " 41%|████      | 1045/2556 [03:21<05:36,  4.49it/s]\u001b[A\u001b[A\n",
            "\n",
            " 41%|████      | 1046/2556 [03:21<05:33,  4.53it/s]\u001b[A\u001b[A\n",
            "\n",
            " 41%|████      | 1047/2556 [03:21<05:20,  4.70it/s]\u001b[A\u001b[A"
          ],
          "name": "stderr"
        },
        {
          "output_type": "stream",
          "text": [
            "AI Trader bought:  $ 75.394287\n",
            "AI Trader bought:  $ 75.891426\n"
          ],
          "name": "stdout"
        },
        {
          "output_type": "stream",
          "text": [
            "\n",
            "\n",
            " 41%|████      | 1048/2556 [03:21<05:12,  4.83it/s]\u001b[A\u001b[A\n",
            "\n",
            " 41%|████      | 1049/2556 [03:21<05:05,  4.93it/s]\u001b[A\u001b[A\n",
            "\n",
            " 41%|████      | 1050/2556 [03:22<05:03,  4.96it/s]\u001b[A\u001b[A"
          ],
          "name": "stderr"
        },
        {
          "output_type": "stream",
          "text": [
            "AI Trader bought:  $ 75.821426\n"
          ],
          "name": "stdout"
        },
        {
          "output_type": "stream",
          "text": [
            "\n",
            "\n",
            " 41%|████      | 1051/2556 [03:22<04:56,  5.08it/s]\u001b[A\u001b[A\n",
            "\n",
            " 41%|████      | 1052/2556 [03:22<04:53,  5.13it/s]\u001b[A\u001b[A\n",
            "\n",
            " 41%|████      | 1053/2556 [03:22<04:49,  5.19it/s]\u001b[A\u001b[A"
          ],
          "name": "stderr"
        },
        {
          "output_type": "stream",
          "text": [
            "AI Trader sold:  $ 76.584282  Profit: $ 1.189995\n",
            "AI Trader sold:  $ 76.658569  Profit: $ 0.767143\n"
          ],
          "name": "stdout"
        },
        {
          "output_type": "stream",
          "text": [
            "\n",
            "\n",
            " 41%|████      | 1054/2556 [03:22<04:51,  5.15it/s]\u001b[A\u001b[A\n",
            "\n",
            " 41%|████▏     | 1055/2556 [03:23<04:54,  5.10it/s]\u001b[A\u001b[A\n",
            "\n",
            " 41%|████▏     | 1056/2556 [03:23<04:54,  5.09it/s]\u001b[A\u001b[A"
          ],
          "name": "stderr"
        },
        {
          "output_type": "stream",
          "text": [
            "AI Trader sold:  $ 74.955711  Profit: - $ 0.865715\n"
          ],
          "name": "stdout"
        },
        {
          "output_type": "stream",
          "text": [
            "\n",
            "\n",
            " 41%|████▏     | 1057/2556 [03:23<04:49,  5.17it/s]\u001b[A\u001b[A\n",
            "\n",
            " 41%|████▏     | 1058/2556 [03:23<04:49,  5.17it/s]\u001b[A\u001b[A\n",
            "\n",
            " 41%|████▏     | 1059/2556 [03:23<04:50,  5.15it/s]\u001b[A\u001b[A\n",
            "\n",
            " 41%|████▏     | 1060/2556 [03:24<05:00,  4.98it/s]\u001b[A\u001b[A\n",
            "\n",
            " 42%|████▏     | 1061/2556 [03:24<04:55,  5.07it/s]\u001b[A\u001b[A\n",
            "\n",
            " 42%|████▏     | 1062/2556 [03:24<04:54,  5.07it/s]\u001b[A\u001b[A\n",
            "\n",
            " 42%|████▏     | 1063/2556 [03:24<04:47,  5.19it/s]\u001b[A\u001b[A\n",
            "\n",
            " 42%|████▏     | 1064/2556 [03:24<04:43,  5.26it/s]\u001b[A\u001b[A\n",
            "\n",
            " 42%|████▏     | 1065/2556 [03:25<04:42,  5.27it/s]\u001b[A\u001b[A\n",
            "\n",
            " 42%|████▏     | 1066/2556 [03:25<04:48,  5.17it/s]\u001b[A\u001b[A\n",
            "\n",
            " 42%|████▏     | 1067/2556 [03:25<04:41,  5.28it/s]\u001b[A\u001b[A\n",
            "\n",
            " 42%|████▏     | 1068/2556 [03:25<04:40,  5.30it/s]\u001b[A\u001b[A\n",
            "\n",
            " 42%|████▏     | 1069/2556 [03:25<04:35,  5.40it/s]\u001b[A\u001b[A\n",
            "\n",
            " 42%|████▏     | 1070/2556 [03:25<04:37,  5.35it/s]\u001b[A\u001b[A\n",
            "\n",
            " 42%|████▏     | 1071/2556 [03:26<04:39,  5.31it/s]\u001b[A\u001b[A\n",
            "\n",
            " 42%|████▏     | 1072/2556 [03:26<04:41,  5.28it/s]\u001b[A\u001b[A\n",
            "\n",
            " 42%|████▏     | 1073/2556 [03:26<04:37,  5.35it/s]\u001b[A\u001b[A\n",
            "\n",
            " 42%|████▏     | 1074/2556 [03:26<04:36,  5.37it/s]\u001b[A\u001b[A\n",
            "\n",
            " 42%|████▏     | 1075/2556 [03:26<04:37,  5.33it/s]\u001b[A\u001b[A\n",
            "\n",
            " 42%|████▏     | 1076/2556 [03:27<04:44,  5.21it/s]\u001b[A\u001b[A\n",
            "\n",
            " 42%|████▏     | 1077/2556 [03:27<04:51,  5.07it/s]\u001b[A\u001b[A\n",
            "\n",
            " 42%|████▏     | 1078/2556 [03:27<04:43,  5.21it/s]\u001b[A\u001b[A\n",
            "\n",
            " 42%|████▏     | 1079/2556 [03:27<04:40,  5.27it/s]\u001b[A\u001b[A"
          ],
          "name": "stderr"
        },
        {
          "output_type": "stream",
          "text": [
            "AI Trader bought:  $ 74.144287\n"
          ],
          "name": "stdout"
        },
        {
          "output_type": "stream",
          "text": [
            "\n",
            "\n",
            " 42%|████▏     | 1080/2556 [03:27<04:40,  5.27it/s]\u001b[A\u001b[A\n",
            "\n",
            " 42%|████▏     | 1081/2556 [03:28<04:43,  5.21it/s]\u001b[A\u001b[A\n",
            "\n",
            " 42%|████▏     | 1082/2556 [03:28<04:45,  5.17it/s]\u001b[A\u001b[A"
          ],
          "name": "stderr"
        },
        {
          "output_type": "stream",
          "text": [
            "AI Trader bought:  $ 75.957146\n"
          ],
          "name": "stdout"
        },
        {
          "output_type": "stream",
          "text": [
            "\n",
            "\n",
            " 42%|████▏     | 1083/2556 [03:28<04:42,  5.21it/s]\u001b[A\u001b[A\n",
            "\n",
            " 42%|████▏     | 1084/2556 [03:28<04:40,  5.26it/s]\u001b[A\u001b[A\n",
            "\n",
            " 42%|████▏     | 1085/2556 [03:28<04:39,  5.26it/s]\u001b[A\u001b[A"
          ],
          "name": "stderr"
        },
        {
          "output_type": "stream",
          "text": [
            "AI Trader bought:  $ 81.705711\n",
            "AI Trader bought:  $ 84.870003\n"
          ],
          "name": "stdout"
        },
        {
          "output_type": "stream",
          "text": [
            "\n",
            "\n",
            " 42%|████▏     | 1086/2556 [03:29<04:44,  5.17it/s]\u001b[A\u001b[A\n",
            "\n",
            " 43%|████▎     | 1087/2556 [03:29<04:44,  5.17it/s]\u001b[A\u001b[A"
          ],
          "name": "stderr"
        },
        {
          "output_type": "stream",
          "text": [
            "AI Trader bought:  $ 84.618568\n"
          ],
          "name": "stdout"
        },
        {
          "output_type": "stream",
          "text": [
            "\n",
            "\n",
            " 43%|████▎     | 1088/2556 [03:29<04:49,  5.07it/s]\u001b[A\u001b[A\n",
            "\n",
            " 43%|████▎     | 1089/2556 [03:29<04:45,  5.14it/s]\u001b[A\u001b[A"
          ],
          "name": "stderr"
        },
        {
          "output_type": "stream",
          "text": [
            "AI Trader sold:  $ 84.497147  Profit: $ 10.352859\n",
            "AI Trader sold:  $ 84.654289  Profit: $ 8.697144\n"
          ],
          "name": "stdout"
        },
        {
          "output_type": "stream",
          "text": [
            "\n",
            "\n",
            " 43%|████▎     | 1090/2556 [03:29<04:40,  5.22it/s]\u001b[A\u001b[A\n",
            "\n",
            " 43%|████▎     | 1091/2556 [03:30<04:37,  5.28it/s]\u001b[A\u001b[A"
          ],
          "name": "stderr"
        },
        {
          "output_type": "stream",
          "text": [
            "AI Trader sold:  $ 85.851425  Profit: $ 4.145714\n",
            "AI Trader sold:  $ 84.915718  Profit: $ 0.045715\n"
          ],
          "name": "stdout"
        },
        {
          "output_type": "stream",
          "text": [
            "\n",
            "\n",
            " 43%|████▎     | 1092/2556 [03:30<04:40,  5.21it/s]\u001b[A\u001b[A\n",
            "\n",
            " 43%|████▎     | 1093/2556 [03:30<04:38,  5.26it/s]\u001b[A\u001b[A"
          ],
          "name": "stderr"
        },
        {
          "output_type": "stream",
          "text": [
            "AI Trader sold:  $ 84.618568  Profit: $ 0.000000\n"
          ],
          "name": "stdout"
        },
        {
          "output_type": "stream",
          "text": [
            "\n",
            "\n",
            " 43%|████▎     | 1094/2556 [03:30<04:39,  5.23it/s]\u001b[A\u001b[A\n",
            "\n",
            " 43%|████▎     | 1095/2556 [03:30<05:31,  4.41it/s]\u001b[A\u001b[A\n",
            "\n",
            " 43%|████▎     | 1096/2556 [03:31<05:12,  4.67it/s]\u001b[A\u001b[A\n",
            "\n",
            " 43%|████▎     | 1097/2556 [03:31<05:07,  4.75it/s]\u001b[A\u001b[A\n",
            "\n",
            " 43%|████▎     | 1098/2556 [03:31<04:52,  4.98it/s]\u001b[A\u001b[A"
          ],
          "name": "stderr"
        },
        {
          "output_type": "stream",
          "text": [
            "AI Trader bought:  $ 84.838570\n"
          ],
          "name": "stdout"
        },
        {
          "output_type": "stream",
          "text": [
            "\n",
            "\n",
            " 43%|████▎     | 1099/2556 [03:31<04:55,  4.93it/s]\u001b[A\u001b[A\n",
            "\n",
            " 43%|████▎     | 1100/2556 [03:31<04:44,  5.11it/s]\u001b[A\u001b[A\n",
            "\n",
            " 43%|████▎     | 1101/2556 [03:32<04:39,  5.21it/s]\u001b[A\u001b[A\n",
            "\n",
            " 43%|████▎     | 1102/2556 [03:32<04:39,  5.20it/s]\u001b[A\u001b[A\n",
            "\n",
            " 43%|████▎     | 1103/2556 [03:32<04:41,  5.15it/s]\u001b[A\u001b[A\n",
            "\n",
            " 43%|████▎     | 1104/2556 [03:32<04:38,  5.22it/s]\u001b[A\u001b[A\n",
            "\n",
            " 43%|████▎     | 1105/2556 [03:32<04:35,  5.26it/s]\u001b[A\u001b[A"
          ],
          "name": "stderr"
        },
        {
          "output_type": "stream",
          "text": [
            "AI Trader sold:  $ 87.732857  Profit: $ 2.894287\n"
          ],
          "name": "stdout"
        },
        {
          "output_type": "stream",
          "text": [
            "\n",
            "\n",
            " 43%|████▎     | 1106/2556 [03:32<04:36,  5.23it/s]\u001b[A\u001b[A\n",
            "\n",
            " 43%|████▎     | 1107/2556 [03:33<04:31,  5.33it/s]\u001b[A\u001b[A\n",
            "\n",
            " 43%|████▎     | 1108/2556 [03:33<04:47,  5.04it/s]\u001b[A\u001b[A\n",
            "\n",
            " 43%|████▎     | 1109/2556 [03:33<04:41,  5.15it/s]\u001b[A\u001b[A\n",
            "\n",
            " 43%|████▎     | 1110/2556 [03:33<04:36,  5.23it/s]\u001b[A\u001b[A\n",
            "\n",
            " 43%|████▎     | 1111/2556 [03:33<04:33,  5.28it/s]\u001b[A\u001b[A\n",
            "\n",
            " 44%|████▎     | 1112/2556 [03:34<04:28,  5.37it/s]\u001b[A\u001b[A\n",
            "\n",
            " 44%|████▎     | 1113/2556 [03:34<04:27,  5.39it/s]\u001b[A\u001b[A\n",
            "\n",
            " 44%|████▎     | 1114/2556 [03:34<04:45,  5.04it/s]\u001b[A\u001b[A\n",
            "\n",
            " 44%|████▎     | 1115/2556 [03:34<04:57,  4.84it/s]\u001b[A\u001b[A\n",
            "\n",
            " 44%|████▎     | 1116/2556 [03:34<04:51,  4.94it/s]\u001b[A\u001b[A\n",
            "\n",
            " 44%|████▎     | 1117/2556 [03:35<04:42,  5.09it/s]\u001b[A\u001b[A"
          ],
          "name": "stderr"
        },
        {
          "output_type": "stream",
          "text": [
            "AI Trader bought:  $ 93.860001\n",
            "AI Trader bought:  $ 92.290001\n"
          ],
          "name": "stdout"
        },
        {
          "output_type": "stream",
          "text": [
            "\n",
            "\n",
            " 44%|████▎     | 1118/2556 [03:35<04:43,  5.07it/s]\u001b[A\u001b[A\n",
            "\n",
            " 44%|████▍     | 1119/2556 [03:35<04:39,  5.13it/s]\u001b[A\u001b[A\n",
            "\n",
            " 44%|████▍     | 1120/2556 [03:35<04:35,  5.22it/s]\u001b[A\u001b[A"
          ],
          "name": "stderr"
        },
        {
          "output_type": "stream",
          "text": [
            "AI Trader sold:  $ 92.199997  Profit: - $ 1.660004\n",
            "AI Trader bought:  $ 92.080002\n"
          ],
          "name": "stdout"
        },
        {
          "output_type": "stream",
          "text": [
            "\n",
            "\n",
            " 44%|████▍     | 1121/2556 [03:35<04:32,  5.26it/s]\u001b[A\u001b[A\n",
            "\n",
            " 44%|████▍     | 1122/2556 [03:36<04:35,  5.21it/s]\u001b[A\u001b[A\n",
            "\n",
            " 44%|████▍     | 1123/2556 [03:36<04:31,  5.28it/s]\u001b[A\u001b[A\n",
            "\n",
            " 44%|████▍     | 1124/2556 [03:36<04:34,  5.22it/s]\u001b[A\u001b[A\n",
            "\n",
            " 44%|████▍     | 1125/2556 [03:36<04:37,  5.16it/s]\u001b[A\u001b[A"
          ],
          "name": "stderr"
        },
        {
          "output_type": "stream",
          "text": [
            "AI Trader bought:  $ 90.830002\n",
            "AI Trader bought: "
          ],
          "name": "stdout"
        },
        {
          "output_type": "stream",
          "text": [
            "\n",
            "\n"
          ],
          "name": "stderr"
        },
        {
          "output_type": "stream",
          "text": [
            " $ 90.279999\n"
          ],
          "name": "stdout"
        },
        {
          "output_type": "stream",
          "text": [
            "\r 44%|████▍     | 1126/2556 [03:36<04:44,  5.03it/s]\u001b[A\u001b[A\n",
            "\n",
            " 44%|████▍     | 1127/2556 [03:37<04:39,  5.11it/s]\u001b[A\u001b[A\n",
            "\n",
            " 44%|████▍     | 1128/2556 [03:37<04:34,  5.21it/s]\u001b[A\u001b[A\n",
            "\n",
            " 44%|████▍     | 1129/2556 [03:37<04:36,  5.16it/s]\u001b[A\u001b[A\n",
            "\n",
            " 44%|████▍     | 1130/2556 [03:37<04:33,  5.22it/s]\u001b[A\u001b[A"
          ],
          "name": "stderr"
        },
        {
          "output_type": "stream",
          "text": [
            "AI Trader bought:  $ 92.930000\n"
          ],
          "name": "stdout"
        },
        {
          "output_type": "stream",
          "text": [
            "\n",
            "\n",
            " 44%|████▍     | 1131/2556 [03:37<04:41,  5.06it/s]\u001b[A\u001b[A\n",
            "\n",
            " 44%|████▍     | 1132/2556 [03:38<04:38,  5.11it/s]\u001b[A\u001b[A\n",
            "\n",
            " 44%|████▍     | 1133/2556 [03:38<04:36,  5.15it/s]\u001b[A\u001b[A\n",
            "\n",
            " 44%|████▍     | 1134/2556 [03:38<04:31,  5.23it/s]\u001b[A\u001b[A\n",
            "\n",
            " 44%|████▍     | 1135/2556 [03:38<04:38,  5.11it/s]\u001b[A\u001b[A\n",
            "\n",
            " 44%|████▍     | 1136/2556 [03:38<04:32,  5.21it/s]\u001b[A\u001b[A\n",
            "\n",
            " 44%|████▍     | 1137/2556 [03:38<04:30,  5.25it/s]\u001b[A\u001b[A\n",
            "\n",
            " 45%|████▍     | 1138/2556 [03:39<04:26,  5.33it/s]\u001b[A\u001b[A"
          ],
          "name": "stderr"
        },
        {
          "output_type": "stream",
          "text": [
            "AI Trader sold:  $ 96.449997  Profit: $ 4.159996\n"
          ],
          "name": "stdout"
        },
        {
          "output_type": "stream",
          "text": [
            "\n",
            "\n",
            " 45%|████▍     | 1139/2556 [03:39<04:41,  5.04it/s]\u001b[A\u001b[A\n",
            "\n",
            " 45%|████▍     | 1140/2556 [03:39<04:32,  5.20it/s]\u001b[A\u001b[A\n",
            "\n",
            " 45%|████▍     | 1141/2556 [03:39<04:34,  5.16it/s]\u001b[A\u001b[A\n",
            "\n",
            " 45%|████▍     | 1142/2556 [03:39<04:32,  5.19it/s]\u001b[A\u001b[A\n",
            "\n",
            " 45%|████▍     | 1143/2556 [03:40<04:34,  5.14it/s]\u001b[A\u001b[A\n",
            "\n",
            " 45%|████▍     | 1144/2556 [03:40<04:27,  5.27it/s]\u001b[A\u001b[A"
          ],
          "name": "stderr"
        },
        {
          "output_type": "stream",
          "text": [
            "AI Trader sold:  $ 93.940002  Profit: $ 1.860001\n"
          ],
          "name": "stdout"
        },
        {
          "output_type": "stream",
          "text": [
            "\n",
            "\n",
            " 45%|████▍     | 1145/2556 [03:40<04:35,  5.12it/s]\u001b[A\u001b[A\n",
            "\n",
            " 45%|████▍     | 1146/2556 [03:40<04:40,  5.03it/s]"
          ],
          "name": "stderr"
        },
        {
          "output_type": "stream",
          "text": [
            "AI Trader sold:  $ 97.190002  Profit: $ 6.360001\n"
          ],
          "name": "stdout"
        },
        {
          "output_type": "stream",
          "text": [
            "\u001b[A\u001b[A\n",
            "\n",
            " 45%|████▍     | 1147/2556 [03:40<04:39,  5.04it/s]\u001b[A\u001b[A\n",
            "\n",
            " 45%|████▍     | 1148/2556 [03:41<04:41,  5.00it/s]\u001b[A\u001b[A"
          ],
          "name": "stderr"
        },
        {
          "output_type": "stream",
          "text": [
            "AI Trader sold:  $ 97.669998  Profit: $ 7.389999\n"
          ],
          "name": "stdout"
        },
        {
          "output_type": "stream",
          "text": [
            "\n",
            "\n",
            " 45%|████▍     | 1149/2556 [03:41<04:39,  5.04it/s]\u001b[A\u001b[A\n",
            "\n",
            " 45%|████▍     | 1150/2556 [03:41<04:37,  5.07it/s]\u001b[A\u001b[A\n",
            "\n",
            " 45%|████▌     | 1151/2556 [03:41<04:32,  5.16it/s]\u001b[A\u001b[A\n",
            "\n",
            " 45%|████▌     | 1152/2556 [03:41<04:32,  5.16it/s]\u001b[A\u001b[A\n",
            "\n",
            " 45%|████▌     | 1153/2556 [03:42<04:45,  4.92it/s]\u001b[A\u001b[A\n",
            "\n",
            " 45%|████▌     | 1154/2556 [03:42<04:37,  5.06it/s]\u001b[A\u001b[A\n",
            "\n",
            " 45%|████▌     | 1155/2556 [03:42<04:34,  5.10it/s]\u001b[A\u001b[A\n",
            "\n",
            " 45%|████▌     | 1156/2556 [03:42<04:24,  5.29it/s]\u001b[A\u001b[A\n",
            "\n",
            " 45%|████▌     | 1157/2556 [03:42<04:29,  5.20it/s]\u001b[A\u001b[A\n",
            "\n",
            " 45%|████▌     | 1158/2556 [03:43<04:26,  5.25it/s]\u001b[A\u001b[A\n",
            "\n",
            " 45%|████▌     | 1159/2556 [03:43<04:25,  5.26it/s]\u001b[A\u001b[A\n",
            "\n",
            " 45%|████▌     | 1160/2556 [03:43<04:26,  5.23it/s]\u001b[A\u001b[A\n",
            "\n",
            " 45%|████▌     | 1161/2556 [03:43<04:23,  5.30it/s]\u001b[A\u001b[A\n",
            "\n",
            " 45%|████▌     | 1162/2556 [03:43<04:21,  5.34it/s]\u001b[A\u001b[A\n",
            "\n",
            " 46%|████▌     | 1163/2556 [03:44<04:25,  5.25it/s]\u001b[A\u001b[A\n",
            "\n",
            " 46%|████▌     | 1164/2556 [03:44<04:28,  5.18it/s]\u001b[A\u001b[A\n",
            "\n",
            " 46%|████▌     | 1165/2556 [03:44<04:37,  5.02it/s]\u001b[A\u001b[A\n",
            "\n",
            " 46%|████▌     | 1166/2556 [03:44<04:35,  5.05it/s]\u001b[A\u001b[A\n",
            "\n",
            " 46%|████▌     | 1167/2556 [03:44<04:33,  5.07it/s]\u001b[A\u001b[A\n",
            "\n",
            " 46%|████▌     | 1168/2556 [03:45<04:27,  5.19it/s]\u001b[A\u001b[A\n",
            "\n",
            " 46%|████▌     | 1169/2556 [03:45<04:23,  5.25it/s]\u001b[A\u001b[A\n",
            "\n",
            " 46%|████▌     | 1170/2556 [03:45<04:29,  5.14it/s]\u001b[A\u001b[A\n",
            "\n",
            " 46%|████▌     | 1171/2556 [03:45<04:28,  5.15it/s]\u001b[A\u001b[A\n",
            "\n",
            " 46%|████▌     | 1172/2556 [03:45<04:21,  5.29it/s]\u001b[A\u001b[A\n",
            "\n",
            " 46%|████▌     | 1173/2556 [03:45<04:20,  5.30it/s]\u001b[A\u001b[A\n",
            "\n",
            " 46%|████▌     | 1174/2556 [03:46<04:21,  5.28it/s]\u001b[A\u001b[A"
          ],
          "name": "stderr"
        },
        {
          "output_type": "stream",
          "text": [
            "AI Trader sold:  $ 99.019997  Profit: $ 6.089996\n",
            "AI Trader bought:  $ 103.300003\n"
          ],
          "name": "stdout"
        },
        {
          "output_type": "stream",
          "text": [
            "\n",
            "\n",
            " 46%|████▌     | 1175/2556 [03:46<04:22,  5.26it/s]\u001b[A\u001b[A\n",
            "\n",
            " 46%|████▌     | 1176/2556 [03:46<04:42,  4.89it/s]\u001b[A\u001b[A"
          ],
          "name": "stderr"
        },
        {
          "output_type": "stream",
          "text": [
            "AI Trader sold:  $ 98.970001  Profit: - $ 4.330002\n"
          ],
          "name": "stdout"
        },
        {
          "output_type": "stream",
          "text": [
            "\n",
            "\n",
            " 46%|████▌     | 1177/2556 [03:46<05:04,  4.53it/s]\u001b[A\u001b[A\n",
            "\n",
            " 46%|████▌     | 1178/2556 [03:47<05:19,  4.31it/s]\u001b[A\u001b[A\n",
            "\n",
            " 46%|████▌     | 1179/2556 [03:47<05:29,  4.18it/s]\u001b[A\u001b[A\n",
            "\n",
            " 46%|████▌     | 1180/2556 [03:47<05:19,  4.31it/s]\u001b[A\u001b[A\n",
            "\n",
            " 46%|████▌     | 1181/2556 [03:47<05:02,  4.54it/s]\u001b[A\u001b[A\n",
            "\n",
            " 46%|████▌     | 1182/2556 [03:47<04:54,  4.66it/s]\u001b[A\u001b[A\n",
            "\n",
            " 46%|████▋     | 1183/2556 [03:48<04:53,  4.68it/s]\u001b[A\u001b[A\n",
            "\n",
            " 46%|████▋     | 1184/2556 [03:48<04:55,  4.65it/s]\u001b[A\u001b[A\n",
            "\n",
            " 46%|████▋     | 1185/2556 [03:48<04:47,  4.76it/s]\u001b[A\u001b[A\n",
            "\n",
            " 46%|████▋     | 1186/2556 [03:48<04:37,  4.94it/s]\u001b[A\u001b[A\n",
            "\n",
            " 46%|████▋     | 1187/2556 [03:48<04:28,  5.09it/s]\u001b[A\u001b[A\n",
            "\n",
            " 46%|████▋     | 1188/2556 [03:49<04:28,  5.10it/s]\u001b[A\u001b[A\n",
            "\n",
            " 47%|████▋     | 1189/2556 [03:49<04:25,  5.15it/s]\u001b[A\u001b[A\n",
            "\n",
            " 47%|████▋     | 1190/2556 [03:49<04:30,  5.04it/s]\u001b[A\u001b[A\n",
            "\n",
            " 47%|████▋     | 1191/2556 [03:49<04:45,  4.77it/s]\u001b[A\u001b[A\n",
            "\n",
            " 47%|████▋     | 1192/2556 [03:50<05:03,  4.50it/s]\u001b[A\u001b[A\n",
            "\n",
            " 47%|████▋     | 1193/2556 [03:50<05:11,  4.38it/s]\u001b[A\u001b[A\n",
            "\n",
            " 47%|████▋     | 1194/2556 [03:50<05:19,  4.27it/s]\u001b[A\u001b[A\n",
            "\n",
            " 47%|████▋     | 1195/2556 [03:50<05:15,  4.32it/s]\u001b[A\u001b[A\n",
            "\n",
            " 47%|████▋     | 1196/2556 [03:50<04:56,  4.58it/s]\u001b[A\u001b[A\n",
            "\n",
            " 47%|████▋     | 1197/2556 [03:51<04:45,  4.77it/s]\u001b[A\u001b[A\n",
            "\n",
            " 47%|████▋     | 1198/2556 [03:51<04:41,  4.82it/s]\u001b[A\u001b[A\n",
            "\n",
            " 47%|████▋     | 1199/2556 [03:51<04:33,  4.97it/s]\u001b[A\u001b[A\n",
            "\n",
            " 47%|████▋     | 1200/2556 [03:51<04:36,  4.90it/s]\u001b[A\u001b[A\n",
            "\n",
            " 47%|████▋     | 1201/2556 [03:51<04:33,  4.96it/s]\u001b[A\u001b[A\n",
            "\n",
            " 47%|████▋     | 1202/2556 [03:52<04:29,  5.03it/s]\u001b[A\u001b[A\n",
            "\n",
            " 47%|████▋     | 1203/2556 [03:52<04:28,  5.03it/s]\u001b[A\u001b[A\n",
            "\n",
            " 47%|████▋     | 1204/2556 [03:52<04:27,  5.06it/s]\u001b[A\u001b[A\n",
            "\n",
            " 47%|████▋     | 1205/2556 [03:52<04:42,  4.78it/s]\u001b[A\u001b[A\n",
            "\n",
            " 47%|████▋     | 1206/2556 [03:52<04:36,  4.87it/s]\u001b[A\u001b[A\n",
            "\n",
            " 47%|████▋     | 1207/2556 [03:53<04:28,  5.02it/s]\u001b[A\u001b[A\n",
            "\n",
            " 47%|████▋     | 1208/2556 [03:53<04:27,  5.04it/s]\u001b[A\u001b[A\n",
            "\n",
            " 47%|████▋     | 1209/2556 [03:53<04:27,  5.03it/s]\u001b[A\u001b[A\n",
            "\n",
            " 47%|████▋     | 1210/2556 [03:53<04:34,  4.90it/s]\u001b[A\u001b[A\n",
            "\n",
            " 47%|████▋     | 1211/2556 [03:53<04:27,  5.03it/s]\u001b[A\u001b[A\n",
            "\n",
            " 47%|████▋     | 1212/2556 [03:54<04:26,  5.05it/s]\u001b[A\u001b[A\n",
            "\n",
            " 47%|████▋     | 1213/2556 [03:54<04:22,  5.12it/s]\u001b[A\u001b[A\n",
            "\n",
            " 47%|████▋     | 1214/2556 [03:54<04:18,  5.20it/s]\u001b[A\u001b[A\n",
            "\n",
            " 48%|████▊     | 1215/2556 [03:54<04:18,  5.19it/s]\u001b[A\u001b[A\n",
            "\n",
            " 48%|████▊     | 1216/2556 [03:54<04:18,  5.19it/s]\u001b[A\u001b[A\n",
            "\n",
            " 48%|████▊     | 1217/2556 [03:55<04:16,  5.22it/s]\u001b[A\u001b[A\n",
            "\n",
            " 48%|████▊     | 1218/2556 [03:55<04:17,  5.19it/s]\u001b[A\u001b[A\n",
            "\n",
            " 48%|████▊     | 1219/2556 [03:55<04:17,  5.20it/s]\u001b[A\u001b[A\n",
            "\n",
            " 48%|████▊     | 1220/2556 [03:55<04:16,  5.20it/s]\u001b[A\u001b[A\n",
            "\n",
            " 48%|████▊     | 1221/2556 [03:55<04:19,  5.14it/s]\u001b[A\u001b[A\n",
            "\n",
            " 48%|████▊     | 1222/2556 [03:56<04:14,  5.25it/s]\u001b[A\u001b[A\n",
            "\n",
            " 48%|████▊     | 1223/2556 [03:56<04:12,  5.27it/s]\u001b[A\u001b[A\n",
            "\n",
            " 48%|████▊     | 1224/2556 [03:56<04:10,  5.32it/s]\u001b[A\u001b[A\n",
            "\n",
            " 48%|████▊     | 1225/2556 [03:56<04:13,  5.24it/s]\u001b[A\u001b[A\n",
            "\n",
            " 48%|████▊     | 1226/2556 [03:56<04:18,  5.15it/s]\u001b[A\u001b[A\n",
            "\n",
            " 48%|████▊     | 1227/2556 [03:57<04:26,  4.98it/s]\u001b[A\u001b[A\n",
            "\n",
            " 48%|████▊     | 1228/2556 [03:57<04:22,  5.06it/s]\u001b[A\u001b[A\n",
            "\n",
            " 48%|████▊     | 1229/2556 [03:57<04:17,  5.15it/s]\u001b[A\u001b[A\n",
            "\n",
            " 48%|████▊     | 1230/2556 [03:57<04:28,  4.93it/s]\u001b[A\u001b[A\n",
            "\n",
            " 48%|████▊     | 1231/2556 [03:57<04:30,  4.89it/s]\u001b[A\u001b[A\n",
            "\n",
            " 48%|████▊     | 1232/2556 [03:58<04:27,  4.95it/s]\u001b[A\u001b[A\n",
            "\n",
            " 48%|████▊     | 1233/2556 [03:58<04:28,  4.93it/s]\u001b[A\u001b[A\n",
            "\n",
            " 48%|████▊     | 1234/2556 [03:58<04:19,  5.09it/s]\u001b[A\u001b[A\n",
            "\n",
            " 48%|████▊     | 1235/2556 [03:58<04:20,  5.07it/s]\u001b[A\u001b[A\n",
            "\n",
            " 48%|████▊     | 1236/2556 [03:58<04:26,  4.95it/s]\u001b[A\u001b[A\n",
            "\n",
            " 48%|████▊     | 1237/2556 [03:59<04:26,  4.96it/s]\u001b[A\u001b[A\n",
            "\n",
            " 48%|████▊     | 1238/2556 [03:59<04:17,  5.11it/s]\u001b[A\u001b[A\n",
            "\n",
            " 48%|████▊     | 1239/2556 [03:59<04:12,  5.21it/s]\u001b[A\u001b[A\n",
            "\n",
            " 49%|████▊     | 1240/2556 [03:59<04:14,  5.18it/s]\u001b[A\u001b[A\n",
            "\n",
            " 49%|████▊     | 1241/2556 [03:59<04:09,  5.27it/s]\u001b[A\u001b[A\n",
            "\n",
            " 49%|████▊     | 1242/2556 [03:59<04:05,  5.35it/s]\u001b[A\u001b[A\n",
            "\n",
            " 49%|████▊     | 1243/2556 [04:00<04:10,  5.24it/s]\u001b[A\u001b[A\n",
            "\n",
            " 49%|████▊     | 1244/2556 [04:00<04:05,  5.34it/s]\u001b[A\u001b[A\n",
            "\n",
            " 49%|████▊     | 1245/2556 [04:00<04:07,  5.29it/s]\u001b[A\u001b[A\n",
            "\n",
            " 49%|████▊     | 1246/2556 [04:00<04:07,  5.30it/s]\u001b[A\u001b[A\n",
            "\n",
            " 49%|████▉     | 1247/2556 [04:00<04:11,  5.20it/s]\u001b[A\u001b[A\n",
            "\n",
            " 49%|████▉     | 1248/2556 [04:01<04:12,  5.19it/s]\u001b[A\u001b[A\n",
            "\n",
            " 49%|████▉     | 1249/2556 [04:01<04:08,  5.26it/s]\u001b[A\u001b[A\n",
            "\n",
            " 49%|████▉     | 1250/2556 [04:01<04:15,  5.11it/s]\u001b[A\u001b[A\n",
            "\n",
            " 49%|████▉     | 1251/2556 [04:01<04:36,  4.73it/s]\u001b[A\u001b[A\n",
            "\n",
            " 49%|████▉     | 1252/2556 [04:02<04:57,  4.39it/s]\u001b[A\u001b[A\n",
            "\n",
            " 49%|████▉     | 1253/2556 [04:02<05:06,  4.25it/s]\u001b[A\u001b[A\n",
            "\n",
            " 49%|████▉     | 1254/2556 [04:02<04:49,  4.50it/s]\u001b[A\u001b[A\n",
            "\n",
            " 49%|████▉     | 1255/2556 [04:02<04:35,  4.73it/s]\u001b[A\u001b[A"
          ],
          "name": "stderr"
        },
        {
          "output_type": "stream",
          "text": [
            "AI Trader bought:  $ 113.989998\n"
          ],
          "name": "stdout"
        },
        {
          "output_type": "stream",
          "text": [
            "\n",
            "\n",
            " 49%|████▉     | 1256/2556 [04:02<04:28,  4.83it/s]\u001b[A\u001b[A\n",
            "\n",
            " 49%|████▉     | 1257/2556 [04:03<04:29,  4.81it/s]\u001b[A\u001b[A\n",
            "\n",
            " 49%|████▉     | 1258/2556 [04:03<04:24,  4.91it/s]\u001b[A\u001b[A"
          ],
          "name": "stderr"
        },
        {
          "output_type": "stream",
          "text": [
            "AI Trader sold:  $ 110.379997  Profit: - $ 3.610001\n"
          ],
          "name": "stdout"
        },
        {
          "output_type": "stream",
          "text": [
            "\n",
            "\n",
            " 49%|████▉     | 1259/2556 [04:03<04:26,  4.88it/s]\u001b[A\u001b[A\n",
            "\n",
            " 49%|████▉     | 1260/2556 [04:03<04:17,  5.02it/s]\u001b[A\u001b[A\n",
            "\n",
            " 49%|████▉     | 1261/2556 [04:03<04:15,  5.07it/s]\u001b[A\u001b[A"
          ],
          "name": "stderr"
        },
        {
          "output_type": "stream",
          "text": [
            "AI Trader bought:  $ 106.260002\n"
          ],
          "name": "stdout"
        },
        {
          "output_type": "stream",
          "text": [
            "\n",
            "\n",
            " 49%|████▉     | 1262/2556 [04:04<04:17,  5.02it/s]\u001b[A\u001b[A\n",
            "\n",
            " 49%|████▉     | 1263/2556 [04:04<04:15,  5.05it/s]\u001b[A\u001b[A\n",
            "\n",
            " 49%|████▉     | 1264/2556 [04:04<04:16,  5.04it/s]\u001b[A\u001b[A\n",
            "\n",
            " 49%|████▉     | 1265/2556 [04:04<04:14,  5.07it/s]\u001b[A\u001b[A\n",
            "\n",
            " 50%|████▉     | 1266/2556 [04:04<04:08,  5.19it/s]\u001b[A\u001b[A\n",
            "\n",
            " 50%|████▉     | 1267/2556 [04:05<04:08,  5.19it/s]\u001b[A\u001b[A\n",
            "\n",
            " 50%|████▉     | 1268/2556 [04:05<04:06,  5.22it/s]\u001b[A\u001b[A"
          ],
          "name": "stderr"
        },
        {
          "output_type": "stream",
          "text": [
            "AI Trader bought:  $ 106.820000\n"
          ],
          "name": "stdout"
        },
        {
          "output_type": "stream",
          "text": [
            "\n",
            "\n",
            " 50%|████▉     | 1269/2556 [04:05<04:09,  5.16it/s]\u001b[A\u001b[A\n",
            "\n",
            " 50%|████▉     | 1270/2556 [04:05<04:07,  5.19it/s]\u001b[A\u001b[A\n",
            "\n",
            " 50%|████▉     | 1271/2556 [04:05<04:05,  5.24it/s]\u001b[A\u001b[A"
          ],
          "name": "stderr"
        },
        {
          "output_type": "stream",
          "text": [
            "AI Trader sold:  $ 112.400002  Profit: $ 6.139999\n"
          ],
          "name": "stdout"
        },
        {
          "output_type": "stream",
          "text": [
            "\n",
            "\n",
            " 50%|████▉     | 1272/2556 [04:05<04:19,  4.95it/s]\u001b[A\u001b[A\n",
            "\n",
            " 50%|████▉     | 1273/2556 [04:06<04:20,  4.93it/s]\u001b[A\u001b[A\n",
            "\n",
            " 50%|████▉     | 1274/2556 [04:06<04:16,  4.99it/s]\u001b[A\u001b[A"
          ],
          "name": "stderr"
        },
        {
          "output_type": "stream",
          "text": [
            "AI Trader sold:  $ 113.099998  Profit: $ 6.279999\n"
          ],
          "name": "stdout"
        },
        {
          "output_type": "stream",
          "text": [
            "\n",
            "\n",
            " 50%|████▉     | 1275/2556 [04:06<04:12,  5.06it/s]\u001b[A\u001b[A\n",
            "\n",
            " 50%|████▉     | 1276/2556 [04:06<04:08,  5.16it/s]\u001b[A\u001b[A\n",
            "\n",
            " 50%|████▉     | 1277/2556 [04:06<04:06,  5.18it/s]\u001b[A\u001b[A\n",
            "\n",
            " 50%|█████     | 1278/2556 [04:07<04:07,  5.16it/s]\u001b[A\u001b[A\n",
            "\n",
            " 50%|█████     | 1279/2556 [04:07<04:03,  5.24it/s]\u001b[A\u001b[A\n",
            "\n",
            " 50%|█████     | 1280/2556 [04:07<04:07,  5.16it/s]\u001b[A\u001b[A\n",
            "\n",
            " 50%|█████     | 1281/2556 [04:07<04:02,  5.26it/s]\u001b[A\u001b[A\n",
            "\n",
            " 50%|█████     | 1282/2556 [04:07<04:04,  5.21it/s]\u001b[A\u001b[A\n",
            "\n",
            " 50%|█████     | 1283/2556 [04:08<04:06,  5.16it/s]\u001b[A\u001b[A\n",
            "\n",
            " 50%|█████     | 1284/2556 [04:08<04:05,  5.19it/s]\u001b[A\u001b[A\n",
            "\n",
            " 50%|█████     | 1285/2556 [04:08<04:02,  5.25it/s]\u001b[A\u001b[A\n",
            "\n",
            " 50%|█████     | 1286/2556 [04:08<04:08,  5.12it/s]\u001b[A\u001b[A\n",
            "\n",
            " 50%|█████     | 1287/2556 [04:08<04:05,  5.16it/s]\u001b[A\u001b[A\n",
            "\n",
            " 50%|█████     | 1288/2556 [04:09<04:07,  5.13it/s]\u001b[A\u001b[A\n",
            "\n",
            " 50%|█████     | 1289/2556 [04:09<04:04,  5.19it/s]\u001b[A\u001b[A\n",
            "\n",
            " 50%|█████     | 1290/2556 [04:09<04:03,  5.20it/s]\u001b[A\u001b[A\n",
            "\n",
            " 51%|█████     | 1291/2556 [04:09<04:06,  5.13it/s]\u001b[A\u001b[A\n",
            "\n",
            " 51%|█████     | 1292/2556 [04:09<04:03,  5.20it/s]\u001b[A\u001b[A\n",
            "\n",
            " 51%|█████     | 1293/2556 [04:10<04:08,  5.08it/s]\u001b[A\u001b[A\n",
            "\n",
            " 51%|█████     | 1294/2556 [04:10<04:06,  5.13it/s]\u001b[A\u001b[A"
          ],
          "name": "stderr"
        },
        {
          "output_type": "stream",
          "text": [
            "AI Trader bought:  $ 132.169998\n"
          ],
          "name": "stdout"
        },
        {
          "output_type": "stream",
          "text": [
            "\n",
            "\n",
            " 51%|█████     | 1295/2556 [04:10<04:05,  5.14it/s]\u001b[A\u001b[A\n",
            "\n",
            " 51%|█████     | 1296/2556 [04:10<04:11,  5.02it/s]\u001b[A\u001b[A\n",
            "\n",
            " 51%|█████     | 1297/2556 [04:10<04:12,  4.98it/s]\u001b[A\u001b[A\n",
            "\n",
            " 51%|█████     | 1298/2556 [04:11<04:13,  4.96it/s]\u001b[A\u001b[A\n",
            "\n",
            " 51%|█████     | 1299/2556 [04:11<04:09,  5.03it/s]\u001b[A\u001b[A\n",
            "\n",
            " 51%|█████     | 1300/2556 [04:11<04:07,  5.08it/s]\u001b[A\u001b[A\n",
            "\n",
            " 51%|█████     | 1301/2556 [04:11<04:00,  5.21it/s]\u001b[A\u001b[A\n",
            "\n",
            " 51%|█████     | 1302/2556 [04:11<04:01,  5.19it/s]\u001b[A\u001b[A\n",
            "\n",
            " 51%|█████     | 1303/2556 [04:12<03:58,  5.26it/s]\u001b[A\u001b[A\n",
            "\n",
            " 51%|█████     | 1304/2556 [04:12<03:58,  5.26it/s]\u001b[A\u001b[A\n",
            "\n",
            " 51%|█████     | 1305/2556 [04:12<03:56,  5.30it/s]\u001b[A\u001b[A\n",
            "\n",
            " 51%|█████     | 1306/2556 [04:12<04:05,  5.10it/s]\u001b[A\u001b[A\n",
            "\n",
            " 51%|█████     | 1307/2556 [04:12<04:02,  5.14it/s]\u001b[A\u001b[A\n",
            "\n",
            " 51%|█████     | 1308/2556 [04:12<04:05,  5.09it/s]\u001b[A\u001b[A"
          ],
          "name": "stderr"
        },
        {
          "output_type": "stream",
          "text": [
            "AI Trader bought:  $ 124.949997\n",
            "AI Trader sold: "
          ],
          "name": "stdout"
        },
        {
          "output_type": "stream",
          "text": [
            "\n",
            "\n",
            " 51%|█████     | 1309/2556 [04:13<04:07,  5.04it/s]\u001b[A\u001b[A"
          ],
          "name": "stderr"
        },
        {
          "output_type": "stream",
          "text": [
            " $ 127.040001  Profit: - $ 5.129997\n"
          ],
          "name": "stdout"
        },
        {
          "output_type": "stream",
          "text": [
            "\n",
            "\n",
            " 51%|█████▏    | 1310/2556 [04:13<04:14,  4.91it/s]\u001b[A\u001b[A\n",
            "\n",
            " 51%|█████▏    | 1311/2556 [04:13<04:10,  4.96it/s]\u001b[A\u001b[A"
          ],
          "name": "stderr"
        },
        {
          "output_type": "stream",
          "text": [
            "AI Trader sold:  $ 127.500000  Profit: $ 2.550003\n"
          ],
          "name": "stdout"
        },
        {
          "output_type": "stream",
          "text": [
            "\n",
            "\n",
            " 51%|█████▏    | 1312/2556 [04:13<04:04,  5.09it/s]\u001b[A\u001b[A\n",
            "\n",
            " 51%|█████▏    | 1313/2556 [04:13<04:05,  5.07it/s]\u001b[A\u001b[A\n",
            "\n",
            " 51%|█████▏    | 1314/2556 [04:14<04:03,  5.10it/s]\u001b[A\u001b[A\n",
            "\n",
            " 51%|█████▏    | 1315/2556 [04:14<04:09,  4.98it/s]\u001b[A\u001b[A\n",
            "\n",
            " 51%|█████▏    | 1316/2556 [04:14<04:07,  5.01it/s]\u001b[A\u001b[A\n",
            "\n",
            " 52%|█████▏    | 1317/2556 [04:14<04:03,  5.10it/s]\u001b[A\u001b[A\n",
            "\n",
            " 52%|█████▏    | 1318/2556 [04:14<04:03,  5.09it/s]\u001b[A\u001b[A\n",
            "\n",
            " 52%|█████▏    | 1319/2556 [04:15<03:59,  5.16it/s]\u001b[A\u001b[A\n",
            "\n",
            " 52%|█████▏    | 1320/2556 [04:15<03:55,  5.26it/s]\u001b[A\u001b[A\n",
            "\n",
            " 52%|█████▏    | 1321/2556 [04:15<03:53,  5.28it/s]\u001b[A\u001b[A\n",
            "\n",
            " 52%|█████▏    | 1322/2556 [04:15<03:58,  5.17it/s]\u001b[A\u001b[A\n",
            "\n",
            " 52%|█████▏    | 1323/2556 [04:15<03:56,  5.22it/s]\u001b[A\u001b[A\n",
            "\n",
            " 52%|█████▏    | 1324/2556 [04:16<04:04,  5.03it/s]\u001b[A\u001b[A\n",
            "\n",
            " 52%|█████▏    | 1325/2556 [04:16<03:56,  5.20it/s]\u001b[A\u001b[A\n",
            "\n",
            " 52%|█████▏    | 1326/2556 [04:16<03:54,  5.25it/s]\u001b[A\u001b[A\n",
            "\n",
            " 52%|█████▏    | 1327/2556 [04:16<03:59,  5.13it/s]\u001b[A\u001b[A\n",
            "\n",
            " 52%|█████▏    | 1328/2556 [04:16<03:56,  5.18it/s]\u001b[A\u001b[A\n",
            "\n",
            " 52%|█████▏    | 1329/2556 [04:17<04:03,  5.03it/s]\u001b[A\u001b[A\n",
            "\n",
            " 52%|█████▏    | 1330/2556 [04:17<04:02,  5.06it/s]\u001b[A\u001b[A\n",
            "\n",
            " 52%|█████▏    | 1331/2556 [04:17<03:59,  5.12it/s]\u001b[A\u001b[A"
          ],
          "name": "stderr"
        },
        {
          "output_type": "stream",
          "text": [
            "AI Trader bought:  $ 124.750000\n"
          ],
          "name": "stdout"
        },
        {
          "output_type": "stream",
          "text": [
            "\n",
            "\n",
            " 52%|█████▏    | 1332/2556 [04:17<03:55,  5.20it/s]\u001b[A\u001b[A\n",
            "\n",
            " 52%|█████▏    | 1333/2556 [04:17<03:56,  5.18it/s]\u001b[A\u001b[A\n",
            "\n",
            " 52%|█████▏    | 1334/2556 [04:18<03:59,  5.11it/s]\u001b[A\u001b[A"
          ],
          "name": "stderr"
        },
        {
          "output_type": "stream",
          "text": [
            "AI Trader sold:  $ 128.619995  Profit: $ 3.869995\n"
          ],
          "name": "stdout"
        },
        {
          "output_type": "stream",
          "text": [
            "\n",
            "\n",
            " 52%|█████▏    | 1335/2556 [04:18<04:08,  4.91it/s]\u001b[A\u001b[A\n",
            "\n",
            " 52%|█████▏    | 1336/2556 [04:18<04:02,  5.02it/s]\u001b[A\u001b[A\n",
            "\n",
            " 52%|█████▏    | 1337/2556 [04:18<03:58,  5.11it/s]\u001b[A\u001b[A\n",
            "\n",
            " 52%|█████▏    | 1338/2556 [04:18<04:00,  5.06it/s]\u001b[A\u001b[A\n",
            "\n",
            " 52%|█████▏    | 1339/2556 [04:19<03:55,  5.17it/s]\u001b[A\u001b[A\n",
            "\n",
            " 52%|█████▏    | 1340/2556 [04:19<03:53,  5.20it/s]\u001b[A\u001b[A\n",
            "\n",
            " 52%|█████▏    | 1341/2556 [04:19<03:51,  5.25it/s]\u001b[A\u001b[A\n",
            "\n",
            " 53%|█████▎    | 1342/2556 [04:19<03:50,  5.26it/s]\u001b[A\u001b[A\n",
            "\n",
            " 53%|█████▎    | 1343/2556 [04:19<04:04,  4.95it/s]\u001b[A\u001b[A\n",
            "\n",
            " 53%|█████▎    | 1344/2556 [04:20<03:59,  5.06it/s]\u001b[A\u001b[A\n",
            "\n",
            " 53%|█████▎    | 1345/2556 [04:20<04:18,  4.68it/s]\u001b[A\u001b[A\n",
            "\n",
            " 53%|█████▎    | 1346/2556 [04:20<04:32,  4.43it/s]\u001b[A\u001b[A"
          ],
          "name": "stderr"
        },
        {
          "output_type": "stream",
          "text": [
            "AI Trader bought:  $ 126.320000\n"
          ],
          "name": "stdout"
        },
        {
          "output_type": "stream",
          "text": [
            "\n",
            "\n",
            " 53%|█████▎    | 1347/2556 [04:20<04:45,  4.24it/s]\u001b[A\u001b[A"
          ],
          "name": "stderr"
        },
        {
          "output_type": "stream",
          "text": [
            "AI Trader sold:  $ 125.870003  Profit: - $ 0.449997\n"
          ],
          "name": "stdout"
        },
        {
          "output_type": "stream",
          "text": [
            "\n",
            "\n",
            " 53%|█████▎    | 1348/2556 [04:21<04:45,  4.23it/s]\u001b[A\u001b[A\n",
            "\n",
            " 53%|█████▎    | 1349/2556 [04:21<04:31,  4.44it/s]\u001b[A\u001b[A\n",
            "\n",
            " 53%|█████▎    | 1350/2556 [04:21<04:24,  4.55it/s]\u001b[A\u001b[A\n",
            "\n",
            " 53%|█████▎    | 1351/2556 [04:21<04:09,  4.83it/s]\u001b[A\u001b[A"
          ],
          "name": "stderr"
        },
        {
          "output_type": "stream",
          "text": [
            "AI Trader bought:  $ 128.770004\n",
            "AI Trader sold:  $ 130.190002  Profit: $ 1.419998\n"
          ],
          "name": "stdout"
        },
        {
          "output_type": "stream",
          "text": [
            "\n",
            "\n",
            " 53%|█████▎    | 1352/2556 [04:21<04:01,  4.99it/s]\u001b[A\u001b[A\n",
            "\n",
            " 53%|█████▎    | 1353/2556 [04:22<04:00,  5.00it/s]\u001b[A\u001b[A\n",
            "\n",
            " 53%|█████▎    | 1354/2556 [04:22<03:57,  5.07it/s]\u001b[A\u001b[A\n",
            "\n",
            " 53%|█████▎    | 1355/2556 [04:22<03:57,  5.07it/s]\u001b[A\u001b[A\n",
            "\n",
            " 53%|█████▎    | 1356/2556 [04:22<03:55,  5.09it/s]\u001b[A\u001b[A\n",
            "\n",
            " 53%|█████▎    | 1357/2556 [04:22<03:54,  5.12it/s]\u001b[A\u001b[A"
          ],
          "name": "stderr"
        },
        {
          "output_type": "stream",
          "text": [
            "AI Trader bought:  $ 129.619995\n",
            "AI Trader sold:  $ 132.039993  Profit: $ 2.419998\n"
          ],
          "name": "stdout"
        },
        {
          "output_type": "stream",
          "text": [
            "\n",
            "\n",
            " 53%|█████▎    | 1358/2556 [04:22<03:55,  5.09it/s]\u001b[A\u001b[A\n",
            "\n",
            " 53%|█████▎    | 1359/2556 [04:23<03:55,  5.07it/s]\u001b[A\u001b[A\n",
            "\n",
            " 53%|█████▎    | 1360/2556 [04:23<03:58,  5.01it/s]\u001b[A\u001b[A\n",
            "\n",
            " 53%|█████▎    | 1361/2556 [04:23<04:00,  4.97it/s]\u001b[A\u001b[A\n",
            "\n",
            " 53%|█████▎    | 1362/2556 [04:23<03:54,  5.09it/s]\u001b[A\u001b[A\n",
            "\n",
            " 53%|█████▎    | 1363/2556 [04:23<03:54,  5.10it/s]\u001b[A\u001b[A\n",
            "\n",
            " 53%|█████▎    | 1364/2556 [04:24<04:02,  4.92it/s]\u001b[A\u001b[A\n",
            "\n",
            " 53%|█████▎    | 1365/2556 [04:24<04:01,  4.92it/s]\u001b[A\u001b[A\n",
            "\n",
            " 53%|█████▎    | 1366/2556 [04:24<03:55,  5.05it/s]\u001b[A\u001b[A\n",
            "\n",
            " 53%|█████▎    | 1367/2556 [04:24<03:49,  5.18it/s]\u001b[A\u001b[A\n",
            "\n",
            " 54%|█████▎    | 1368/2556 [04:24<03:46,  5.24it/s]\u001b[A\u001b[A\n",
            "\n",
            " 54%|█████▎    | 1369/2556 [04:25<03:47,  5.22it/s]\u001b[A\u001b[A\n",
            "\n",
            " 54%|█████▎    | 1370/2556 [04:25<03:47,  5.21it/s]\u001b[A\u001b[A\n",
            "\n",
            " 54%|█████▎    | 1371/2556 [04:25<03:49,  5.17it/s]\u001b[A\u001b[A\n",
            "\n",
            " 54%|█████▎    | 1372/2556 [04:25<03:45,  5.25it/s]\u001b[A\u001b[A\n",
            "\n",
            " 54%|█████▎    | 1373/2556 [04:25<03:42,  5.31it/s]\u001b[A\u001b[A"
          ],
          "name": "stderr"
        },
        {
          "output_type": "stream",
          "text": [
            "AI Trader bought:  $ 127.300003\n",
            "AI Trader sold:  $ 127.879997  Profit: $ 0.579994\n"
          ],
          "name": "stdout"
        },
        {
          "output_type": "stream",
          "text": [
            "\n",
            "\n",
            " 54%|█████▍    | 1374/2556 [04:26<03:46,  5.23it/s]\u001b[A\u001b[A\n",
            "\n",
            " 54%|█████▍    | 1375/2556 [04:26<03:45,  5.24it/s]\u001b[A\u001b[A\n",
            "\n",
            " 54%|█████▍    | 1376/2556 [04:26<03:46,  5.21it/s]\u001b[A\u001b[A\n",
            "\n",
            " 54%|█████▍    | 1377/2556 [04:26<03:48,  5.15it/s]\u001b[A\u001b[A"
          ],
          "name": "stderr"
        },
        {
          "output_type": "stream",
          "text": [
            "AI Trader bought:  $ 127.029999\n"
          ],
          "name": "stdout"
        },
        {
          "output_type": "stream",
          "text": [
            "\n",
            "\n",
            " 54%|█████▍    | 1378/2556 [04:26<03:45,  5.21it/s]\u001b[A\u001b[A"
          ],
          "name": "stderr"
        },
        {
          "output_type": "stream",
          "text": [
            "AI Trader bought:  $ 128.110001\n",
            "AI Trader bought:  $ 127.500000\n"
          ],
          "name": "stdout"
        },
        {
          "output_type": "stream",
          "text": [
            "\n",
            "\n",
            " 54%|█████▍    | 1379/2556 [04:27<03:44,  5.25it/s]\u001b[A\u001b[A\n",
            "\n",
            " 54%|█████▍    | 1380/2556 [04:27<03:42,  5.28it/s]\u001b[A\u001b[A"
          ],
          "name": "stderr"
        },
        {
          "output_type": "stream",
          "text": [
            "AI Trader sold:  $ 126.750000  Profit: - $ 0.279999\n",
            "AI Trader bought:  $ 124.529999\n"
          ],
          "name": "stdout"
        },
        {
          "output_type": "stream",
          "text": [
            "\n",
            "\n",
            " 54%|█████▍    | 1381/2556 [04:27<03:44,  5.22it/s]\u001b[A\u001b[A\n",
            "\n",
            " 54%|█████▍    | 1382/2556 [04:27<03:45,  5.20it/s]\u001b[A\u001b[A\n",
            "\n",
            " 54%|█████▍    | 1383/2556 [04:27<03:43,  5.24it/s]\u001b[A\u001b[A"
          ],
          "name": "stderr"
        },
        {
          "output_type": "stream",
          "text": [
            "AI Trader bought:  $ 126.599998\n",
            "AI Trader sold:  $ 126.440002  Profit: - $ 1.669998\n"
          ],
          "name": "stdout"
        },
        {
          "output_type": "stream",
          "text": [
            "\n",
            "\n",
            " 54%|█████▍    | 1384/2556 [04:28<03:45,  5.20it/s]\u001b[A\u001b[A\n",
            "\n",
            " 54%|█████▍    | 1385/2556 [04:28<03:43,  5.25it/s]\u001b[A\u001b[A"
          ],
          "name": "stderr"
        },
        {
          "output_type": "stream",
          "text": [
            "AI Trader sold:  $ 126.000000  Profit: - $ 1.500000\n",
            "AI Trader sold:  $ 125.690002  Profit: $ 1.160004\n"
          ],
          "name": "stdout"
        },
        {
          "output_type": "stream",
          "text": [
            "\n",
            "\n",
            " 54%|█████▍    | 1386/2556 [04:28<03:48,  5.11it/s]\u001b[A\u001b[A\n",
            "\n",
            " 54%|█████▍    | 1387/2556 [04:28<03:44,  5.21it/s]\u001b[A\u001b[A"
          ],
          "name": "stderr"
        },
        {
          "output_type": "stream",
          "text": [
            "AI Trader bought:  $ 122.570000\n",
            "AI Trader bought:  $ 120.070000\n"
          ],
          "name": "stdout"
        },
        {
          "output_type": "stream",
          "text": [
            "\n",
            "\n",
            " 54%|█████▍    | 1388/2556 [04:28<03:46,  5.16it/s]\u001b[A\u001b[A\n",
            "\n",
            " 54%|█████▍    | 1389/2556 [04:28<03:48,  5.11it/s]\u001b[A\u001b[A\n",
            "\n",
            " 54%|█████▍    | 1390/2556 [04:29<03:44,  5.19it/s]\u001b[A\u001b[A"
          ],
          "name": "stderr"
        },
        {
          "output_type": "stream",
          "text": [
            "AI Trader sold:  $ 125.660004  Profit: - $ 0.939995\n",
            "AI Trader sold:  $ 125.610001  Profit: $ 3.040001\n"
          ],
          "name": "stdout"
        },
        {
          "output_type": "stream",
          "text": [
            "\n",
            "\n",
            " 54%|█████▍    | 1391/2556 [04:29<03:44,  5.18it/s]\u001b[A\u001b[A\n",
            "\n",
            " 54%|█████▍    | 1392/2556 [04:29<03:47,  5.12it/s]\u001b[A\u001b[A"
          ],
          "name": "stderr"
        },
        {
          "output_type": "stream",
          "text": [
            "AI Trader sold:  $ 126.820000  Profit: $ 6.750000\n"
          ],
          "name": "stdout"
        },
        {
          "output_type": "stream",
          "text": [
            "\n",
            "\n",
            " 54%|█████▍    | 1393/2556 [04:29<03:46,  5.14it/s]\u001b[A\u001b[A\n",
            "\n",
            " 55%|█████▍    | 1394/2556 [04:29<03:47,  5.11it/s]\u001b[A\u001b[A"
          ],
          "name": "stderr"
        },
        {
          "output_type": "stream",
          "text": [
            "AI Trader bought:  $ 129.619995\n",
            "AI Trader bought:  $ 132.070007\n"
          ],
          "name": "stdout"
        },
        {
          "output_type": "stream",
          "text": [
            "\n",
            "\n",
            " 55%|█████▍    | 1395/2556 [04:30<03:47,  5.11it/s]\u001b[A\u001b[A\n",
            "\n",
            " 55%|█████▍    | 1396/2556 [04:30<03:43,  5.19it/s]\u001b[A\u001b[A"
          ],
          "name": "stderr"
        },
        {
          "output_type": "stream",
          "text": [
            "AI Trader bought:  $ 130.750000\n"
          ],
          "name": "stdout"
        },
        {
          "output_type": "stream",
          "text": [
            "\n",
            "\n",
            " 55%|█████▍    | 1397/2556 [04:30<03:50,  5.03it/s]\u001b[A\u001b[A\n",
            "\n",
            " 55%|█████▍    | 1398/2556 [04:30<03:45,  5.13it/s]\u001b[A\u001b[A\n",
            "\n",
            " 55%|█████▍    | 1399/2556 [04:30<03:50,  5.01it/s]\u001b[A\u001b[A\n",
            "\n",
            " 55%|█████▍    | 1400/2556 [04:31<03:47,  5.07it/s]\u001b[A\u001b[A"
          ],
          "name": "stderr"
        },
        {
          "output_type": "stream",
          "text": [
            "AI Trader bought:  $ 122.769997\n",
            "AI Trader sold:  $ 123.379997  Profit: - $ 6.239998\n"
          ],
          "name": "stdout"
        },
        {
          "output_type": "stream",
          "text": [
            "\n",
            "\n",
            " 55%|█████▍    | 1401/2556 [04:31<03:42,  5.19it/s]\u001b[A\u001b[A\n",
            "\n",
            " 55%|█████▍    | 1402/2556 [04:31<03:45,  5.11it/s]\u001b[A\u001b[A"
          ],
          "name": "stderr"
        },
        {
          "output_type": "stream",
          "text": [
            "AI Trader bought:  $ 122.989998\n"
          ],
          "name": "stdout"
        },
        {
          "output_type": "stream",
          "text": [
            "\n",
            "\n",
            " 55%|█████▍    | 1403/2556 [04:31<03:41,  5.21it/s]\u001b[A\u001b[A"
          ],
          "name": "stderr"
        },
        {
          "output_type": "stream",
          "text": [
            "AI Trader bought:  $ 122.370003\n",
            "AI Trader bought:  $ 121.300003\n"
          ],
          "name": "stdout"
        },
        {
          "output_type": "stream",
          "text": [
            "\n",
            "\n",
            " 55%|█████▍    | 1404/2556 [04:31<03:42,  5.18it/s]\u001b[A\u001b[A\n",
            "\n",
            " 55%|█████▍    | 1405/2556 [04:32<03:41,  5.19it/s]\u001b[A\u001b[A\n",
            "\n",
            " 55%|█████▌    | 1406/2556 [04:32<03:42,  5.18it/s]\u001b[A\u001b[A\n",
            "\n",
            " 55%|█████▌    | 1407/2556 [04:32<03:43,  5.14it/s]\u001b[A\u001b[A\n",
            "\n",
            " 55%|█████▌    | 1408/2556 [04:32<03:42,  5.16it/s]\u001b[A\u001b[A\n",
            "\n",
            " 55%|█████▌    | 1409/2556 [04:32<03:37,  5.26it/s]\u001b[A\u001b[A"
          ],
          "name": "stderr"
        },
        {
          "output_type": "stream",
          "text": [
            "AI Trader sold:  $ 115.519997  Profit: - $ 16.550011\n",
            "AI Trader sold:  $ 119.720001  Profit: - $ 11.029999\n"
          ],
          "name": "stdout"
        },
        {
          "output_type": "stream",
          "text": [
            "\n",
            "\n",
            " 55%|█████▌    | 1410/2556 [04:33<03:39,  5.21it/s]\u001b[A\u001b[A\n",
            "\n",
            " 55%|█████▌    | 1411/2556 [04:33<03:37,  5.27it/s]\u001b[A\u001b[A"
          ],
          "name": "stderr"
        },
        {
          "output_type": "stream",
          "text": [
            "AI Trader sold:  $ 113.489998  Profit: - $ 9.279999\n"
          ],
          "name": "stdout"
        },
        {
          "output_type": "stream",
          "text": [
            "\n",
            "\n",
            " 55%|█████▌    | 1412/2556 [04:33<03:41,  5.16it/s]\u001b[A\u001b[A\n",
            "\n",
            " 55%|█████▌    | 1413/2556 [04:33<03:43,  5.12it/s]\u001b[A\u001b[A\n",
            "\n",
            " 55%|█████▌    | 1414/2556 [04:33<03:40,  5.18it/s]\u001b[A\u001b[A"
          ],
          "name": "stderr"
        },
        {
          "output_type": "stream",
          "text": [
            "AI Trader bought:  $ 115.959999\n",
            "AI Trader sold:  $ 117.160004  Profit: - $ 5.829994\n"
          ],
          "name": "stdout"
        },
        {
          "output_type": "stream",
          "text": [
            "\n",
            "\n",
            " 55%|█████▌    | 1415/2556 [04:34<03:45,  5.07it/s]\u001b[A\u001b[A\n",
            "\n",
            " 55%|█████▌    | 1416/2556 [04:34<03:38,  5.21it/s]\u001b[A\u001b[A"
          ],
          "name": "stderr"
        },
        {
          "output_type": "stream",
          "text": [
            "AI Trader sold:  $ 116.500000  Profit: - $ 5.870003\n",
            "AI Trader bought:  $ 115.010002\n"
          ],
          "name": "stdout"
        },
        {
          "output_type": "stream",
          "text": [
            "\n",
            "\n",
            " 55%|█████▌    | 1417/2556 [04:34<03:41,  5.14it/s]\u001b[A\u001b[A\n",
            "\n",
            " 55%|█████▌    | 1418/2556 [04:34<03:51,  4.92it/s]\u001b[A\u001b[A"
          ],
          "name": "stderr"
        },
        {
          "output_type": "stream",
          "text": [
            "AI Trader bought:  $ 105.760002\n"
          ],
          "name": "stdout"
        },
        {
          "output_type": "stream",
          "text": [
            "\n",
            "\n",
            " 56%|█████▌    | 1419/2556 [04:34<03:56,  4.81it/s]\u001b[A\u001b[A\n",
            "\n",
            " 56%|█████▌    | 1420/2556 [04:35<03:51,  4.91it/s]\u001b[A\u001b[A"
          ],
          "name": "stderr"
        },
        {
          "output_type": "stream",
          "text": [
            "AI Trader bought:  $ 103.120003\n",
            "AI Trader bought:  $ 103.739998\n"
          ],
          "name": "stdout"
        },
        {
          "output_type": "stream",
          "text": [
            "\n",
            "\n",
            " 56%|█████▌    | 1421/2556 [04:35<03:47,  4.99it/s]\u001b[A\u001b[A\n",
            "\n",
            " 56%|█████▌    | 1422/2556 [04:35<03:40,  5.15it/s]\u001b[A\u001b[A"
          ],
          "name": "stderr"
        },
        {
          "output_type": "stream",
          "text": [
            "AI Trader sold:  $ 109.690002  Profit: - $ 11.610001\n",
            "AI Trader sold:  $ 112.919998  Profit: - $ 3.040001\n"
          ],
          "name": "stdout"
        },
        {
          "output_type": "stream",
          "text": [
            "\n",
            "\n",
            " 56%|█████▌    | 1423/2556 [04:35<03:40,  5.13it/s]\u001b[A\u001b[A\n",
            "\n",
            " 56%|█████▌    | 1424/2556 [04:35<03:38,  5.19it/s]\u001b[A\u001b[A"
          ],
          "name": "stderr"
        },
        {
          "output_type": "stream",
          "text": [
            "AI Trader sold:  $ 113.290001  Profit: - $ 1.720001\n",
            "AI Trader sold:  $ 112.760002  Profit: $ 7.000000\n"
          ],
          "name": "stdout"
        },
        {
          "output_type": "stream",
          "text": [
            "\n",
            "\n",
            " 56%|█████▌    | 1425/2556 [04:36<03:37,  5.19it/s]\u001b[A\u001b[A\n",
            "\n",
            " 56%|█████▌    | 1426/2556 [04:36<03:39,  5.14it/s]\u001b[A\u001b[A"
          ],
          "name": "stderr"
        },
        {
          "output_type": "stream",
          "text": [
            "AI Trader sold:  $ 107.720001  Profit: $ 4.599998\n",
            "AI Trader bought:  $ 112.339996\n"
          ],
          "name": "stdout"
        },
        {
          "output_type": "stream",
          "text": [
            "\n",
            "\n",
            " 56%|█████▌    | 1427/2556 [04:36<03:36,  5.22it/s]\u001b[A\u001b[A\n",
            "\n",
            " 56%|█████▌    | 1428/2556 [04:36<03:35,  5.23it/s]\u001b[A\u001b[A"
          ],
          "name": "stderr"
        },
        {
          "output_type": "stream",
          "text": [
            "AI Trader sold:  $ 110.370003  Profit: $ 6.630005\n",
            "AI Trader sold:  $ 109.269997  Profit: - $ 3.070000\n"
          ],
          "name": "stdout"
        },
        {
          "output_type": "stream",
          "text": [
            "\n",
            "\n",
            " 56%|█████▌    | 1429/2556 [04:36<03:36,  5.22it/s]\u001b[A\u001b[A\n",
            "\n",
            " 56%|█████▌    | 1430/2556 [04:36<03:40,  5.11it/s]\u001b[A\u001b[A\n",
            "\n",
            " 56%|█████▌    | 1431/2556 [04:37<03:37,  5.17it/s]\u001b[A\u001b[A"
          ],
          "name": "stderr"
        },
        {
          "output_type": "stream",
          "text": [
            "AI Trader bought:  $ 110.150002\n",
            "AI Trader sold:  $ 112.570000  Profit: $ 2.419998\n"
          ],
          "name": "stdout"
        },
        {
          "output_type": "stream",
          "text": [
            "\n",
            "\n",
            " 56%|█████▌    | 1432/2556 [04:37<03:37,  5.18it/s]\u001b[A\u001b[A\n",
            "\n",
            " 56%|█████▌    | 1433/2556 [04:37<03:31,  5.32it/s]\u001b[A\u001b[A\n",
            "\n",
            " 56%|█████▌    | 1434/2556 [04:37<03:34,  5.23it/s]\u001b[A\u001b[A\n",
            "\n",
            " 56%|█████▌    | 1435/2556 [04:37<03:36,  5.17it/s]\u001b[A\u001b[A\n",
            "\n",
            " 56%|█████▌    | 1436/2556 [04:38<03:32,  5.28it/s]\u001b[A\u001b[A\n",
            "\n",
            " 56%|█████▌    | 1437/2556 [04:38<03:33,  5.25it/s]\u001b[A\u001b[A\n",
            "\n",
            " 56%|█████▋    | 1438/2556 [04:38<03:33,  5.24it/s]\u001b[A\u001b[A"
          ],
          "name": "stderr"
        },
        {
          "output_type": "stream",
          "text": [
            "AI Trader bought:  $ 113.449997\n"
          ],
          "name": "stdout"
        },
        {
          "output_type": "stream",
          "text": [
            "\n",
            "\n",
            " 56%|█████▋    | 1439/2556 [04:38<03:37,  5.14it/s]\u001b[A\u001b[A\n",
            "\n",
            " 56%|█████▋    | 1440/2556 [04:38<03:36,  5.16it/s]\u001b[A\u001b[A"
          ],
          "name": "stderr"
        },
        {
          "output_type": "stream",
          "text": [
            "AI Trader bought:  $ 113.400002\n",
            "AI Trader sold:  $ 114.320000  Profit: $ 0.870003\n"
          ],
          "name": "stdout"
        },
        {
          "output_type": "stream",
          "text": [
            "\n",
            "\n",
            " 56%|█████▋    | 1441/2556 [04:39<03:37,  5.13it/s]\u001b[A\u001b[A\n",
            "\n",
            " 56%|█████▋    | 1442/2556 [04:39<03:36,  5.15it/s]\u001b[A\u001b[A"
          ],
          "name": "stderr"
        },
        {
          "output_type": "stream",
          "text": [
            "AI Trader sold:  $ 115.000000  Profit: $ 1.599998\n"
          ],
          "name": "stdout"
        },
        {
          "output_type": "stream",
          "text": [
            "\n",
            "\n",
            " 56%|█████▋    | 1443/2556 [04:39<03:38,  5.10it/s]\u001b[A\u001b[A\n",
            "\n",
            " 56%|█████▋    | 1444/2556 [04:39<03:36,  5.14it/s]\u001b[A\u001b[A\n",
            "\n",
            " 57%|█████▋    | 1445/2556 [04:39<03:31,  5.25it/s]\u001b[A\u001b[A\n",
            "\n",
            " 57%|█████▋    | 1446/2556 [04:40<03:37,  5.11it/s]\u001b[A\u001b[A\n",
            "\n",
            " 57%|█████▋    | 1447/2556 [04:40<03:34,  5.18it/s]\u001b[A\u001b[A\n",
            "\n",
            " 57%|█████▋    | 1448/2556 [04:40<03:33,  5.18it/s]\u001b[A\u001b[A\n",
            "\n",
            " 57%|█████▋    | 1449/2556 [04:40<03:41,  5.00it/s]\u001b[A\u001b[A\n",
            "\n",
            " 57%|█████▋    | 1450/2556 [04:40<03:34,  5.16it/s]\u001b[A\u001b[A\n",
            "\n",
            " 57%|█████▋    | 1451/2556 [04:41<03:34,  5.16it/s]\u001b[A\u001b[A\n",
            "\n",
            " 57%|█████▋    | 1452/2556 [04:41<03:37,  5.08it/s]\u001b[A\u001b[A\n",
            "\n",
            " 57%|█████▋    | 1453/2556 [04:41<03:37,  5.08it/s]\u001b[A\u001b[A\n",
            "\n",
            " 57%|█████▋    | 1454/2556 [04:41<03:35,  5.10it/s]\u001b[A\u001b[A\n",
            "\n",
            " 57%|█████▋    | 1455/2556 [04:41<03:34,  5.14it/s]\u001b[A\u001b[A\n",
            "\n",
            " 57%|█████▋    | 1456/2556 [04:42<03:30,  5.23it/s]\u001b[A\u001b[A\n",
            "\n",
            " 57%|█████▋    | 1457/2556 [04:42<03:34,  5.13it/s]\u001b[A\u001b[A\n",
            "\n",
            " 57%|█████▋    | 1458/2556 [04:42<03:30,  5.23it/s]\u001b[A\u001b[A"
          ],
          "name": "stderr"
        },
        {
          "output_type": "stream",
          "text": [
            "AI Trader bought:  $ 111.040001\n",
            "AI Trader sold:  $ 111.730003  Profit: $ 0.690002\n"
          ],
          "name": "stdout"
        },
        {
          "output_type": "stream",
          "text": [
            "\n",
            "\n",
            " 57%|█████▋    | 1459/2556 [04:42<03:29,  5.23it/s]\u001b[A\u001b[A\n",
            "\n",
            " 57%|█████▋    | 1460/2556 [04:42<03:29,  5.23it/s]\u001b[A\u001b[A\n",
            "\n",
            " 57%|█████▋    | 1461/2556 [04:42<03:34,  5.12it/s]\u001b[A\u001b[A\n",
            "\n",
            " 57%|█████▋    | 1462/2556 [04:43<03:32,  5.14it/s]\u001b[A\u001b[A\n",
            "\n",
            " 57%|█████▋    | 1463/2556 [04:43<03:29,  5.22it/s]\u001b[A\u001b[A\n",
            "\n",
            " 57%|█████▋    | 1464/2556 [04:43<03:29,  5.21it/s]\u001b[A\u001b[A\n",
            "\n",
            " 57%|█████▋    | 1465/2556 [04:43<03:28,  5.23it/s]\u001b[A\u001b[A\n",
            "\n",
            " 57%|█████▋    | 1466/2556 [04:43<03:25,  5.32it/s]\u001b[A\u001b[A\n",
            "\n",
            " 57%|█████▋    | 1467/2556 [04:44<03:27,  5.26it/s]\u001b[A\u001b[A\n",
            "\n",
            " 57%|█████▋    | 1468/2556 [04:44<03:36,  5.04it/s]\u001b[A\u001b[A\n",
            "\n",
            " 57%|█████▋    | 1469/2556 [04:44<03:40,  4.93it/s]\u001b[A\u001b[A\n",
            "\n",
            " 58%|█████▊    | 1470/2556 [04:44<03:40,  4.92it/s]\u001b[A\u001b[A\n",
            "\n",
            " 58%|█████▊    | 1471/2556 [04:44<03:33,  5.09it/s]\u001b[A\u001b[A"
          ],
          "name": "stderr"
        },
        {
          "output_type": "stream",
          "text": [
            "AI Trader bought:  $ 122.000000\n",
            "AI Trader sold:  $ 120.919998  Profit: - $ 1.080002\n"
          ],
          "name": "stdout"
        },
        {
          "output_type": "stream",
          "text": [
            "\n",
            "\n",
            " 58%|█████▊    | 1472/2556 [04:45<03:31,  5.12it/s]\u001b[A\u001b[A\n",
            "\n",
            " 58%|█████▊    | 1473/2556 [04:45<03:29,  5.17it/s]\u001b[A\u001b[A\n",
            "\n",
            " 58%|█████▊    | 1474/2556 [04:45<03:25,  5.26it/s]\u001b[A\u001b[A"
          ],
          "name": "stderr"
        },
        {
          "output_type": "stream",
          "text": [
            "AI Trader bought:  $ 120.570000\n",
            "AI Trader bought:  $ 116.769997\n"
          ],
          "name": "stdout"
        },
        {
          "output_type": "stream",
          "text": [
            "\n",
            "\n",
            " 58%|█████▊    | 1475/2556 [04:45<03:28,  5.18it/s]\u001b[A\u001b[A\n",
            "\n",
            " 58%|█████▊    | 1476/2556 [04:45<03:29,  5.16it/s]\u001b[A\u001b[A"
          ],
          "name": "stderr"
        },
        {
          "output_type": "stream",
          "text": [
            "AI Trader bought:  $ 116.110001\n",
            "AI Trader bought:  $ 115.720001\n"
          ],
          "name": "stdout"
        },
        {
          "output_type": "stream",
          "text": [
            "\n",
            "\n",
            " 58%|█████▊    | 1477/2556 [04:46<03:27,  5.19it/s]\u001b[A\u001b[A\n",
            "\n",
            " 58%|█████▊    | 1478/2556 [04:46<03:25,  5.25it/s]\u001b[A\u001b[A"
          ],
          "name": "stderr"
        },
        {
          "output_type": "stream",
          "text": [
            "AI Trader bought:  $ 112.339996\n",
            "AI Trader bought:  $ 114.180000\n"
          ],
          "name": "stdout"
        },
        {
          "output_type": "stream",
          "text": [
            "\n",
            "\n",
            " 58%|█████▊    | 1479/2556 [04:46<03:33,  5.05it/s]\u001b[A\u001b[A"
          ],
          "name": "stderr"
        },
        {
          "output_type": "stream",
          "text": [
            "AI Trader sold:  $ 113.690002  Profit: - $ 6.879997\n"
          ],
          "name": "stdout"
        },
        {
          "output_type": "stream",
          "text": [
            "\n",
            "\n",
            " 58%|█████▊    | 1480/2556 [04:46<03:50,  4.66it/s]\u001b[A\u001b[A\n",
            "\n",
            " 58%|█████▊    | 1481/2556 [04:46<04:04,  4.40it/s]\u001b[A\u001b[A"
          ],
          "name": "stderr"
        },
        {
          "output_type": "stream",
          "text": [
            "AI Trader sold:  $ 118.779999  Profit: $ 2.010002\n"
          ],
          "name": "stdout"
        },
        {
          "output_type": "stream",
          "text": [
            "\n",
            "\n",
            " 58%|█████▊    | 1482/2556 [04:47<04:12,  4.25it/s]\u001b[A\u001b[A\n",
            "\n",
            " 58%|█████▊    | 1483/2556 [04:47<04:02,  4.43it/s]\u001b[A\u001b[A"
          ],
          "name": "stderr"
        },
        {
          "output_type": "stream",
          "text": [
            "AI Trader sold:  $ 119.300003  Profit: $ 3.190002\n"
          ],
          "name": "stdout"
        },
        {
          "output_type": "stream",
          "text": [
            "\n",
            "\n",
            " 58%|█████▊    | 1484/2556 [04:47<03:50,  4.65it/s]\u001b[A\u001b[A"
          ],
          "name": "stderr"
        },
        {
          "output_type": "stream",
          "text": [
            "AI Trader sold:  $ 117.750000  Profit: $ 2.029999\n",
            "AI Trader sold:  $ 118.879997  Profit: $ 6.540001\n"
          ],
          "name": "stdout"
        },
        {
          "output_type": "stream",
          "text": [
            "\n",
            "\n",
            " 58%|█████▊    | 1485/2556 [04:47<03:50,  4.64it/s]\u001b[A\u001b[A"
          ],
          "name": "stderr"
        },
        {
          "output_type": "stream",
          "text": [
            "AI Trader sold:  $ 118.029999  Profit: $ 3.849998\n"
          ],
          "name": "stdout"
        },
        {
          "output_type": "stream",
          "text": [
            "\n",
            "\n",
            " 58%|█████▊    | 1486/2556 [04:48<03:51,  4.63it/s]\u001b[A\u001b[A\n",
            "\n",
            " 58%|█████▊    | 1487/2556 [04:48<03:48,  4.69it/s]\u001b[A\u001b[A\n",
            "\n",
            " 58%|█████▊    | 1488/2556 [04:48<03:39,  4.87it/s]\u001b[A\u001b[A\n",
            "\n",
            " 58%|█████▊    | 1489/2556 [04:48<03:36,  4.93it/s]\u001b[A\u001b[A\n",
            "\n",
            " 58%|█████▊    | 1490/2556 [04:48<03:33,  4.99it/s]\u001b[A\u001b[A\n",
            "\n",
            " 58%|█████▊    | 1491/2556 [04:49<03:28,  5.10it/s]\u001b[A\u001b[A"
          ],
          "name": "stderr"
        },
        {
          "output_type": "stream",
          "text": [
            "AI Trader bought:  $ 115.199997\n"
          ],
          "name": "stdout"
        },
        {
          "output_type": "stream",
          "text": [
            "\n",
            "\n",
            " 58%|█████▊    | 1492/2556 [04:49<03:24,  5.20it/s]\u001b[A\u001b[A\n",
            "\n",
            " 58%|█████▊    | 1493/2556 [04:49<03:21,  5.29it/s]\u001b[A\u001b[A"
          ],
          "name": "stderr"
        },
        {
          "output_type": "stream",
          "text": [
            "AI Trader sold:  $ 118.279999  Profit: $ 3.080002\n"
          ],
          "name": "stdout"
        },
        {
          "output_type": "stream",
          "text": [
            "\n",
            "\n",
            " 58%|█████▊    | 1494/2556 [04:49<03:26,  5.15it/s]\u001b[A\u001b[A\n",
            "\n",
            " 58%|█████▊    | 1495/2556 [04:49<03:41,  4.79it/s]\u001b[A\u001b[A\n",
            "\n",
            " 59%|█████▊    | 1496/2556 [04:50<03:54,  4.52it/s]\u001b[A\u001b[A\n",
            "\n",
            " 59%|█████▊    | 1497/2556 [04:50<04:09,  4.24it/s]\u001b[A\u001b[A\n",
            "\n",
            " 59%|█████▊    | 1498/2556 [04:50<04:08,  4.25it/s]\u001b[A\u001b[A\n",
            "\n",
            " 59%|█████▊    | 1499/2556 [04:50<03:54,  4.51it/s]\u001b[A\u001b[A"
          ],
          "name": "stderr"
        },
        {
          "output_type": "stream",
          "text": [
            "AI Trader bought:  $ 110.489998\n",
            "AI Trader bought:  $ 111.339996\n"
          ],
          "name": "stdout"
        },
        {
          "output_type": "stream",
          "text": [
            "\n",
            "\n",
            " 59%|█████▊    | 1500/2556 [04:51<03:50,  4.58it/s]\u001b[A\u001b[A\n",
            "\n",
            " 59%|█████▊    | 1501/2556 [04:51<03:39,  4.81it/s]\u001b[A\u001b[A"
          ],
          "name": "stderr"
        },
        {
          "output_type": "stream",
          "text": [
            "AI Trader bought:  $ 108.980003\n",
            "AI Trader bought:  $ 106.029999\n"
          ],
          "name": "stdout"
        },
        {
          "output_type": "stream",
          "text": [
            "\n",
            "\n",
            " 59%|█████▉    | 1502/2556 [04:51<03:32,  4.97it/s]\u001b[A\u001b[A\n",
            "\n",
            " 59%|█████▉    | 1503/2556 [04:51<03:25,  5.13it/s]\u001b[A\u001b[A\n",
            "\n",
            " 59%|█████▉    | 1504/2556 [04:51<03:24,  5.14it/s]\u001b[A\u001b[A"
          ],
          "name": "stderr"
        },
        {
          "output_type": "stream",
          "text": [
            "AI Trader sold:  $ 107.230003  Profit: - $ 3.259995\n",
            "AI Trader sold:  $ 108.610001  Profit: - $ 2.729996\n"
          ],
          "name": "stdout"
        },
        {
          "output_type": "stream",
          "text": [
            "\n",
            "\n",
            " 59%|█████▉    | 1505/2556 [04:51<03:23,  5.16it/s]\u001b[A\u001b[A\n",
            "\n",
            " 59%|█████▉    | 1506/2556 [04:52<03:23,  5.16it/s]\u001b[A\u001b[A"
          ],
          "name": "stderr"
        },
        {
          "output_type": "stream",
          "text": [
            "AI Trader sold:  $ 108.029999  Profit: - $ 0.950005\n"
          ],
          "name": "stdout"
        },
        {
          "output_type": "stream",
          "text": [
            "\n",
            "\n",
            " 59%|█████▉    | 1507/2556 [04:52<03:19,  5.26it/s]\u001b[A\u001b[A\n",
            "\n",
            " 59%|█████▉    | 1508/2556 [04:52<03:16,  5.34it/s]\u001b[A\u001b[A\n",
            "\n",
            " 59%|█████▉    | 1509/2556 [04:52<03:17,  5.29it/s]\u001b[A\u001b[A"
          ],
          "name": "stderr"
        },
        {
          "output_type": "stream",
          "text": [
            "AI Trader sold:  $ 107.320000  Profit: $ 1.290001\n"
          ],
          "name": "stdout"
        },
        {
          "output_type": "stream",
          "text": [
            "\n",
            "\n",
            " 59%|█████▉    | 1510/2556 [04:52<03:24,  5.13it/s]\u001b[A\u001b[A\n",
            "\n",
            " 59%|█████▉    | 1511/2556 [04:53<03:24,  5.10it/s]\u001b[A\u001b[A\n",
            "\n",
            " 59%|█████▉    | 1512/2556 [04:53<03:23,  5.13it/s]\u001b[A\u001b[A"
          ],
          "name": "stderr"
        },
        {
          "output_type": "stream",
          "text": [
            "AI Trader bought:  $ 102.709999\n",
            "AI Trader bought:  $ 100.699997\n"
          ],
          "name": "stdout"
        },
        {
          "output_type": "stream",
          "text": [
            "\n",
            "\n",
            " 59%|█████▉    | 1513/2556 [04:53<03:17,  5.28it/s]\u001b[A\u001b[A\n",
            "\n",
            " 59%|█████▉    | 1514/2556 [04:53<03:17,  5.28it/s]\u001b[A\u001b[A"
          ],
          "name": "stderr"
        },
        {
          "output_type": "stream",
          "text": [
            "AI Trader bought:  $ 96.449997\n"
          ],
          "name": "stdout"
        },
        {
          "output_type": "stream",
          "text": [
            "\n",
            "\n",
            " 59%|█████▉    | 1515/2556 [04:53<03:17,  5.26it/s]\u001b[A\u001b[A\n",
            "\n",
            " 59%|█████▉    | 1516/2556 [04:54<03:17,  5.28it/s]\u001b[A\u001b[A"
          ],
          "name": "stderr"
        },
        {
          "output_type": "stream",
          "text": [
            "AI Trader sold:  $ 98.529999  Profit: - $ 4.180000\n",
            "AI Trader sold:  $ 99.959999  Profit: - $ 0.739998\n"
          ],
          "name": "stdout"
        },
        {
          "output_type": "stream",
          "text": [
            "\n",
            "\n",
            " 59%|█████▉    | 1517/2556 [04:54<03:22,  5.14it/s]\u001b[A\u001b[A\n",
            "\n",
            " 59%|█████▉    | 1518/2556 [04:54<03:19,  5.21it/s]\u001b[A\u001b[A"
          ],
          "name": "stderr"
        },
        {
          "output_type": "stream",
          "text": [
            "AI Trader sold:  $ 97.389999  Profit: $ 0.940002\n"
          ],
          "name": "stdout"
        },
        {
          "output_type": "stream",
          "text": [
            "\n",
            "\n",
            " 59%|█████▉    | 1519/2556 [04:54<03:20,  5.18it/s]\u001b[A\u001b[A\n",
            "\n",
            " 59%|█████▉    | 1520/2556 [04:54<03:18,  5.23it/s]\u001b[A\u001b[A\n",
            "\n",
            " 60%|█████▉    | 1521/2556 [04:55<03:25,  5.05it/s]\u001b[A\u001b[A\n",
            "\n",
            " 60%|█████▉    | 1522/2556 [04:55<03:22,  5.11it/s]\u001b[A\u001b[A\n",
            "\n",
            " 60%|█████▉    | 1523/2556 [04:55<03:20,  5.16it/s]\u001b[A\u001b[A\n",
            "\n",
            " 60%|█████▉    | 1524/2556 [04:55<03:16,  5.25it/s]\u001b[A\u001b[A\n",
            "\n",
            " 60%|█████▉    | 1525/2556 [04:55<03:17,  5.22it/s]\u001b[A\u001b[A\n",
            "\n",
            " 60%|█████▉    | 1526/2556 [04:55<03:20,  5.13it/s]\u001b[A\u001b[A\n",
            "\n",
            " 60%|█████▉    | 1527/2556 [04:56<03:22,  5.09it/s]\u001b[A\u001b[A\n",
            "\n",
            " 60%|█████▉    | 1528/2556 [04:56<03:19,  5.16it/s]\u001b[A\u001b[A\n",
            "\n",
            " 60%|█████▉    | 1529/2556 [04:56<03:15,  5.24it/s]\u001b[A\u001b[A\n",
            "\n",
            " 60%|█████▉    | 1530/2556 [04:56<03:12,  5.34it/s]\u001b[A\u001b[A\n",
            "\n",
            " 60%|█████▉    | 1531/2556 [04:56<03:16,  5.23it/s]\u001b[A\u001b[A\n",
            "\n",
            " 60%|█████▉    | 1532/2556 [04:57<03:16,  5.21it/s]\u001b[A\u001b[A\n",
            "\n",
            " 60%|█████▉    | 1533/2556 [04:57<03:19,  5.12it/s]\u001b[A\u001b[A\n",
            "\n",
            " 60%|██████    | 1534/2556 [04:57<03:25,  4.98it/s]\u001b[A\u001b[A\n",
            "\n",
            " 60%|██████    | 1535/2556 [04:57<03:19,  5.12it/s]\u001b[A\u001b[A\n",
            "\n",
            " 60%|██████    | 1536/2556 [04:57<03:23,  5.02it/s]\u001b[A\u001b[A\n",
            "\n",
            " 60%|██████    | 1537/2556 [04:58<03:21,  5.05it/s]\u001b[A\u001b[A\n",
            "\n",
            " 60%|██████    | 1538/2556 [04:58<03:20,  5.09it/s]\u001b[A\u001b[A\n",
            "\n",
            " 60%|██████    | 1539/2556 [04:58<03:14,  5.23it/s]\u001b[A\u001b[A\n",
            "\n",
            " 60%|██████    | 1540/2556 [04:58<03:23,  5.00it/s]\u001b[A\u001b[A\n",
            "\n",
            " 60%|██████    | 1541/2556 [04:58<03:19,  5.09it/s]\u001b[A\u001b[A\n",
            "\n",
            " 60%|██████    | 1542/2556 [04:59<03:22,  5.01it/s]\u001b[A\u001b[A\n",
            "\n",
            " 60%|██████    | 1543/2556 [04:59<03:17,  5.14it/s]\u001b[A\u001b[A\n",
            "\n",
            " 60%|██████    | 1544/2556 [04:59<03:16,  5.16it/s]\u001b[A\u001b[A\n",
            "\n",
            " 60%|██████    | 1545/2556 [04:59<03:13,  5.24it/s]\u001b[A\u001b[A"
          ],
          "name": "stderr"
        },
        {
          "output_type": "stream",
          "text": [
            "AI Trader bought:  $ 94.690002\n",
            "AI Trader bought:  $ 96.099998\n"
          ],
          "name": "stdout"
        },
        {
          "output_type": "stream",
          "text": [
            "\n",
            "\n",
            " 60%|██████    | 1546/2556 [04:59<03:13,  5.21it/s]\u001b[A\u001b[A\n",
            "\n",
            " 61%|██████    | 1547/2556 [05:00<03:16,  5.14it/s]\u001b[A\u001b[A"
          ],
          "name": "stderr"
        },
        {
          "output_type": "stream",
          "text": [
            "AI Trader sold:  $ 96.760002  Profit: $ 2.070000\n",
            "AI Trader sold:  $ 96.910004  Profit: $ 0.810005\n"
          ],
          "name": "stdout"
        },
        {
          "output_type": "stream",
          "text": [
            "\n",
            "\n",
            " 61%|██████    | 1548/2556 [05:00<03:12,  5.24it/s]\u001b[A\u001b[A\n",
            "\n",
            " 61%|██████    | 1549/2556 [05:00<03:12,  5.24it/s]\u001b[A\u001b[A"
          ],
          "name": "stderr"
        },
        {
          "output_type": "stream",
          "text": [
            "AI Trader bought:  $ 96.690002\n"
          ],
          "name": "stdout"
        },
        {
          "output_type": "stream",
          "text": [
            "\n",
            "\n",
            " 61%|██████    | 1550/2556 [05:00<03:13,  5.21it/s]\u001b[A\u001b[A\n",
            "\n",
            " 61%|██████    | 1551/2556 [05:00<03:08,  5.33it/s]\u001b[A\u001b[A"
          ],
          "name": "stderr"
        },
        {
          "output_type": "stream",
          "text": [
            "AI Trader bought:  $ 100.750000\n",
            "AI Trader sold:  $ 101.500000  Profit: $ 4.809998\n"
          ],
          "name": "stdout"
        },
        {
          "output_type": "stream",
          "text": [
            "\n",
            "\n",
            " 61%|██████    | 1552/2556 [05:01<03:10,  5.27it/s]\u001b[A\u001b[A\n",
            "\n",
            " 61%|██████    | 1553/2556 [05:01<03:14,  5.15it/s]\u001b[A\u001b[A"
          ],
          "name": "stderr"
        },
        {
          "output_type": "stream",
          "text": [
            "AI Trader bought:  $ 103.010002\n",
            "AI Trader bought: "
          ],
          "name": "stdout"
        },
        {
          "output_type": "stream",
          "text": [
            "\n",
            "\n",
            " 61%|██████    | 1554/2556 [05:01<03:11,  5.23it/s]\u001b[A\u001b[A"
          ],
          "name": "stderr"
        },
        {
          "output_type": "stream",
          "text": [
            " $ 101.870003\n",
            "AI Trader bought:  $ 101.029999\n"
          ],
          "name": "stdout"
        },
        {
          "output_type": "stream",
          "text": [
            "\n",
            "\n",
            " 61%|██████    | 1555/2556 [05:01<03:30,  4.75it/s]\u001b[A\u001b[A"
          ],
          "name": "stderr"
        },
        {
          "output_type": "stream",
          "text": [
            "AI Trader bought:  $ 101.120003\n"
          ],
          "name": "stdout"
        },
        {
          "output_type": "stream",
          "text": [
            "\n",
            "\n",
            " 61%|██████    | 1556/2556 [05:01<03:41,  4.51it/s]\u001b[A\u001b[A"
          ],
          "name": "stderr"
        },
        {
          "output_type": "stream",
          "text": [
            "AI Trader bought:  $ 101.169998\n"
          ],
          "name": "stdout"
        },
        {
          "output_type": "stream",
          "text": [
            "\n",
            "\n",
            " 61%|██████    | 1557/2556 [05:02<03:54,  4.26it/s]\u001b[A\u001b[A\n",
            "\n",
            " 61%|██████    | 1558/2556 [05:02<03:45,  4.42it/s]\u001b[A\u001b[A"
          ],
          "name": "stderr"
        },
        {
          "output_type": "stream",
          "text": [
            "AI Trader bought:  $ 102.260002\n"
          ],
          "name": "stdout"
        },
        {
          "output_type": "stream",
          "text": [
            "\n",
            "\n"
          ],
          "name": "stderr"
        },
        {
          "output_type": "stream",
          "text": [
            "AI Trader bought:  $ 102.519997\n"
          ],
          "name": "stdout"
        },
        {
          "output_type": "stream",
          "text": [
            "\r 61%|██████    | 1559/2556 [05:02<03:39,  4.54it/s]\u001b[A\u001b[A\n",
            "\n",
            " 61%|██████    | 1560/2556 [05:02<03:31,  4.72it/s]\u001b[A\u001b[A\n",
            "\n",
            " 61%|██████    | 1561/2556 [05:02<03:21,  4.93it/s]\u001b[A\u001b[A"
          ],
          "name": "stderr"
        },
        {
          "output_type": "stream",
          "text": [
            "AI Trader sold:  $ 105.970001  Profit: $ 5.220001\n",
            "AI Trader sold:  $ 105.800003  Profit: $ 2.790001\n"
          ],
          "name": "stdout"
        },
        {
          "output_type": "stream",
          "text": [
            "\n",
            "\n",
            " 61%|██████    | 1562/2556 [05:03<03:21,  4.94it/s]\u001b[A\u001b[A"
          ],
          "name": "stderr"
        },
        {
          "output_type": "stream",
          "text": [
            "AI Trader sold:  $ 105.919998  Profit: $ 4.049995\n"
          ],
          "name": "stdout"
        },
        {
          "output_type": "stream",
          "text": [
            "\n",
            "\n",
            " 61%|██████    | 1563/2556 [05:03<03:23,  4.89it/s]\u001b[A\u001b[A\n",
            "\n",
            " 61%|██████    | 1564/2556 [05:03<03:19,  4.96it/s]\u001b[A\u001b[A"
          ],
          "name": "stderr"
        },
        {
          "output_type": "stream",
          "text": [
            "AI Trader sold:  $ 105.910004  Profit: $ 4.880005\n",
            "AI Trader bought:  $ 106.720001\n"
          ],
          "name": "stdout"
        },
        {
          "output_type": "stream",
          "text": [
            "\n",
            "\n",
            " 61%|██████    | 1565/2556 [05:03<03:18,  4.99it/s]\u001b[A\u001b[A\n",
            "\n",
            " 61%|██████▏   | 1566/2556 [05:03<03:12,  5.15it/s]\u001b[A\u001b[A"
          ],
          "name": "stderr"
        },
        {
          "output_type": "stream",
          "text": [
            "AI Trader sold:  $ 106.129997  Profit: $ 5.009995\n",
            "AI Trader bought:  $ 105.669998\n"
          ],
          "name": "stdout"
        },
        {
          "output_type": "stream",
          "text": [
            "\n",
            "\n",
            " 61%|██████▏   | 1567/2556 [05:04<03:12,  5.13it/s]\u001b[A\u001b[A\n",
            "\n",
            " 61%|██████▏   | 1568/2556 [05:04<03:13,  5.10it/s]\u001b[A\u001b[A"
          ],
          "name": "stderr"
        },
        {
          "output_type": "stream",
          "text": [
            "AI Trader bought:  $ 105.190002\n",
            "AI Trader sold:  $ 107.680000"
          ],
          "name": "stdout"
        },
        {
          "output_type": "stream",
          "text": [
            "\n",
            "\n",
            " 61%|██████▏   | 1569/2556 [05:04<03:11,  5.17it/s]\u001b[A\u001b[A\n",
            "\n",
            " 61%|██████▏   | 1570/2556 [05:04<03:13,  5.09it/s]\u001b[A\u001b[A"
          ],
          "name": "stderr"
        },
        {
          "output_type": "stream",
          "text": [
            "  Profit: $ 6.510002\n",
            "AI Trader sold:  $ 109.559998  Profit: $ 7.299995\n"
          ],
          "name": "stdout"
        },
        {
          "output_type": "stream",
          "text": [
            "\n",
            "\n",
            " 61%|██████▏   | 1571/2556 [05:04<03:13,  5.09it/s]\u001b[A\u001b[A\n",
            "\n",
            " 62%|██████▏   | 1572/2556 [05:05<03:10,  5.15it/s]\u001b[A\u001b[A"
          ],
          "name": "stderr"
        },
        {
          "output_type": "stream",
          "text": [
            "AI Trader sold:  $ 109.989998  Profit: $ 7.470001\n",
            "AI Trader sold:  $ 111.120003  Profit: $ 4.400002\n"
          ],
          "name": "stdout"
        },
        {
          "output_type": "stream",
          "text": [
            "\n",
            "\n",
            " 62%|██████▏   | 1573/2556 [05:05<03:10,  5.16it/s]\u001b[A\u001b[A"
          ],
          "name": "stderr"
        },
        {
          "output_type": "stream",
          "text": [
            "AI Trader sold:  $ 109.809998  Profit: $ 4.139999\n"
          ],
          "name": "stdout"
        },
        {
          "output_type": "stream",
          "text": [
            "\n",
            "\n",
            " 62%|██████▏   | 1574/2556 [05:05<03:16,  5.00it/s]\u001b[A\u001b[A\n",
            "\n",
            " 62%|██████▏   | 1575/2556 [05:05<03:10,  5.15it/s]\u001b[A\u001b[A"
          ],
          "name": "stderr"
        },
        {
          "output_type": "stream",
          "text": [
            "AI Trader sold:  $ 110.959999  Profit: $ 5.769997\n"
          ],
          "name": "stdout"
        },
        {
          "output_type": "stream",
          "text": [
            "\n",
            "\n",
            " 62%|██████▏   | 1576/2556 [05:05<03:12,  5.08it/s]\u001b[A\u001b[A\n",
            "\n",
            " 62%|██████▏   | 1577/2556 [05:06<03:11,  5.12it/s]\u001b[A\u001b[A\n",
            "\n",
            " 62%|██████▏   | 1578/2556 [05:06<03:08,  5.20it/s]\u001b[A\u001b[A\n",
            "\n",
            " 62%|██████▏   | 1579/2556 [05:06<03:09,  5.15it/s]\u001b[A\u001b[A\n",
            "\n",
            " 62%|██████▏   | 1580/2556 [05:06<03:07,  5.21it/s]\u001b[A\u001b[A\n",
            "\n",
            " 62%|██████▏   | 1581/2556 [05:06<03:08,  5.18it/s]\u001b[A\u001b[A\n",
            "\n",
            " 62%|██████▏   | 1582/2556 [05:07<03:05,  5.24it/s]\u001b[A\u001b[A\n",
            "\n",
            " 62%|██████▏   | 1583/2556 [05:07<03:04,  5.28it/s]\u001b[A\u001b[A\n",
            "\n",
            " 62%|██████▏   | 1584/2556 [05:07<03:03,  5.31it/s]\u001b[A\u001b[A"
          ],
          "name": "stderr"
        },
        {
          "output_type": "stream",
          "text": [
            "AI Trader bought:  $ 106.910004\n",
            "AI Trader bought:  $ 107.129997\n"
          ],
          "name": "stdout"
        },
        {
          "output_type": "stream",
          "text": [
            "\n",
            "\n",
            " 62%|██████▏   | 1585/2556 [05:07<03:05,  5.24it/s]\u001b[A\u001b[A\n",
            "\n",
            " 62%|██████▏   | 1586/2556 [05:07<03:05,  5.23it/s]\u001b[A\u001b[A"
          ],
          "name": "stderr"
        },
        {
          "output_type": "stream",
          "text": [
            "AI Trader bought:  $ 105.970001\n",
            "AI Trader bought:  $ 105.680000\n"
          ],
          "name": "stdout"
        },
        {
          "output_type": "stream",
          "text": [
            "\n",
            "\n",
            " 62%|██████▏   | 1587/2556 [05:08<03:07,  5.18it/s]\u001b[A\u001b[A\n",
            "\n",
            " 62%|██████▏   | 1588/2556 [05:08<03:08,  5.13it/s]\u001b[A\u001b[A"
          ],
          "name": "stderr"
        },
        {
          "output_type": "stream",
          "text": [
            "AI Trader sold:  $ 105.080002  Profit: - $ 1.830002\n",
            "AI Trader sold:  $ 104.349998  Profit: - $ 2.779999\n"
          ],
          "name": "stdout"
        },
        {
          "output_type": "stream",
          "text": [
            "\n",
            "\n",
            " 62%|██████▏   | 1589/2556 [05:08<03:05,  5.21it/s]\u001b[A\u001b[A"
          ],
          "name": "stderr"
        },
        {
          "output_type": "stream",
          "text": [
            "AI Trader bought:  $ 97.820000\n"
          ],
          "name": "stdout"
        },
        {
          "output_type": "stream",
          "text": [
            "\n",
            "\n",
            " 62%|██████▏   | 1590/2556 [05:08<03:10,  5.06it/s]\u001b[A\u001b[A\n",
            "\n",
            " 62%|██████▏   | 1591/2556 [05:08<03:06,  5.17it/s]\u001b[A\u001b[A\n",
            "\n",
            " 62%|██████▏   | 1592/2556 [05:08<03:10,  5.07it/s]\u001b[A\u001b[A\n",
            "\n",
            " 62%|██████▏   | 1593/2556 [05:09<03:07,  5.15it/s]\u001b[A\u001b[A\n",
            "\n",
            " 62%|██████▏   | 1594/2556 [05:09<03:07,  5.14it/s]\u001b[A\u001b[A"
          ],
          "name": "stderr"
        },
        {
          "output_type": "stream",
          "text": [
            "AI Trader sold:  $ 95.180000  Profit: - $ 10.790001\n"
          ],
          "name": "stdout"
        },
        {
          "output_type": "stream",
          "text": [
            "\n",
            "\n",
            " 62%|██████▏   | 1595/2556 [05:09<03:11,  5.03it/s]\u001b[A\u001b[A\n",
            "\n",
            " 62%|██████▏   | 1596/2556 [05:09<03:07,  5.11it/s]\u001b[A\u001b[A\n",
            "\n",
            " 62%|██████▏   | 1597/2556 [05:09<03:07,  5.12it/s]\u001b[A\u001b[A"
          ],
          "name": "stderr"
        },
        {
          "output_type": "stream",
          "text": [
            "AI Trader sold:  $ 92.720001  Profit: - $ 12.959999\n",
            "AI Trader sold:  $ 92.790001  Profit: - $ 5.029999\n"
          ],
          "name": "stdout"
        },
        {
          "output_type": "stream",
          "text": [
            "\n",
            "\n",
            " 63%|██████▎   | 1598/2556 [05:10<03:09,  5.06it/s]\u001b[A\u001b[A\n",
            "\n",
            " 63%|██████▎   | 1599/2556 [05:10<03:07,  5.11it/s]\u001b[A\u001b[A\n",
            "\n",
            " 63%|██████▎   | 1600/2556 [05:10<03:10,  5.03it/s]\u001b[A\u001b[A\n",
            "\n",
            " 63%|██████▎   | 1601/2556 [05:10<03:08,  5.08it/s]\u001b[A\u001b[A\n",
            "\n",
            " 63%|██████▎   | 1602/2556 [05:10<03:06,  5.12it/s]\u001b[A\u001b[A\n",
            "\n",
            " 63%|██████▎   | 1603/2556 [05:11<03:11,  4.98it/s]\u001b[A\u001b[A\n",
            "\n",
            " 63%|██████▎   | 1604/2556 [05:11<03:08,  5.04it/s]\u001b[A\u001b[A"
          ],
          "name": "stderr"
        },
        {
          "output_type": "stream",
          "text": [
            "AI Trader bought:  $ 93.489998\n",
            "AI Trader sold:  $ 94.559998  Profit: $ 1.070000\n"
          ],
          "name": "stdout"
        },
        {
          "output_type": "stream",
          "text": [
            "\n",
            "\n",
            " 63%|██████▎   | 1605/2556 [05:11<03:05,  5.14it/s]\u001b[A\u001b[A\n",
            "\n",
            " 63%|██████▎   | 1606/2556 [05:11<03:05,  5.12it/s]\u001b[A\u001b[A"
          ],
          "name": "stderr"
        },
        {
          "output_type": "stream",
          "text": [
            "AI Trader bought:  $ 94.199997\n",
            "AI Trader bought:  $ 95.220001\n"
          ],
          "name": "stdout"
        },
        {
          "output_type": "stream",
          "text": [
            "\n",
            "\n",
            " 63%|██████▎   | 1607/2556 [05:11<03:02,  5.19it/s]\u001b[A\u001b[A\n",
            "\n",
            " 63%|██████▎   | 1608/2556 [05:12<03:04,  5.13it/s]\u001b[A\u001b[A"
          ],
          "name": "stderr"
        },
        {
          "output_type": "stream",
          "text": [
            "AI Trader bought:  $ 96.430000\n"
          ],
          "name": "stdout"
        },
        {
          "output_type": "stream",
          "text": [
            "\n",
            "\n",
            " 63%|██████▎   | 1609/2556 [05:12<03:06,  5.08it/s]\u001b[A\u001b[A"
          ],
          "name": "stderr"
        },
        {
          "output_type": "stream",
          "text": [
            "AI Trader bought:  $ 97.900002\n",
            "AI Trader bought:  $ 99.620003\n"
          ],
          "name": "stdout"
        },
        {
          "output_type": "stream",
          "text": [
            "\n",
            "\n",
            " 63%|██████▎   | 1610/2556 [05:12<03:04,  5.13it/s]\u001b[A\u001b[A\n",
            "\n",
            " 63%|██████▎   | 1611/2556 [05:12<03:05,  5.10it/s]\u001b[A\u001b[A"
          ],
          "name": "stderr"
        },
        {
          "output_type": "stream",
          "text": [
            "AI Trader sold:  $ 100.410004  Profit: $ 6.210007\n",
            "AI Trader bought:  $ 100.349998\n"
          ],
          "name": "stdout"
        },
        {
          "output_type": "stream",
          "text": [
            "\n",
            "\n",
            " 63%|██████▎   | 1612/2556 [05:12<03:05,  5.08it/s]\u001b[A\u001b[A\n",
            "\n",
            " 63%|██████▎   | 1613/2556 [05:13<03:03,  5.15it/s]\u001b[A\u001b[A"
          ],
          "name": "stderr"
        },
        {
          "output_type": "stream",
          "text": [
            "AI Trader bought:  $ 99.860001\n",
            "AI Trader bought:  $ 98.459999\n"
          ],
          "name": "stdout"
        },
        {
          "output_type": "stream",
          "text": [
            "\n",
            "\n",
            " 63%|██████▎   | 1614/2556 [05:13<03:02,  5.15it/s]\u001b[A\u001b[A\n",
            "\n",
            " 63%|██████▎   | 1615/2556 [05:13<02:59,  5.24it/s]\u001b[A\u001b[A\n",
            "\n",
            " 63%|██████▎   | 1616/2556 [05:13<02:58,  5.25it/s]\u001b[A\u001b[A"
          ],
          "name": "stderr"
        },
        {
          "output_type": "stream",
          "text": [
            "AI Trader sold:  $ 97.919998  Profit: $ 2.699997\n",
            "AI Trader sold:  $ 98.629997  Profit: $ 2.199997\n"
          ],
          "name": "stdout"
        },
        {
          "output_type": "stream",
          "text": [
            "\n",
            "\n",
            " 63%|██████▎   | 1617/2556 [05:13<03:01,  5.18it/s]\u001b[A\u001b[A\n",
            "\n",
            " 63%|██████▎   | 1618/2556 [05:14<03:00,  5.19it/s]\u001b[A\u001b[A"
          ],
          "name": "stderr"
        },
        {
          "output_type": "stream",
          "text": [
            "AI Trader sold:  $ 99.029999  Profit: $ 1.129997\n",
            "AI Trader sold:  $ 98.940002  Profit: - $ 0.680000\n"
          ],
          "name": "stdout"
        },
        {
          "output_type": "stream",
          "text": [
            "\n",
            "\n",
            " 63%|██████▎   | 1619/2556 [05:14<03:06,  5.02it/s]\u001b[A\u001b[A"
          ],
          "name": "stderr"
        },
        {
          "output_type": "stream",
          "text": [
            "AI Trader sold:  $ 99.650002  Profit: - $ 0.699997\n"
          ],
          "name": "stdout"
        },
        {
          "output_type": "stream",
          "text": [
            "\n",
            "\n",
            " 63%|██████▎   | 1620/2556 [05:14<03:09,  4.95it/s]\u001b[A\u001b[A\n",
            "\n",
            " 63%|██████▎   | 1621/2556 [05:14<03:06,  5.02it/s]\u001b[A\u001b[A"
          ],
          "name": "stderr"
        },
        {
          "output_type": "stream",
          "text": [
            "AI Trader sold:  $ 98.830002  Profit: - $ 1.029999\n",
            "AI Trader sold:  $ 97.339996  Profit: - $ 1.120003\n"
          ],
          "name": "stdout"
        },
        {
          "output_type": "stream",
          "text": [
            "\n",
            "\n",
            " 63%|██████▎   | 1622/2556 [05:14<03:05,  5.03it/s]\u001b[A\u001b[A\n",
            "\n",
            " 63%|██████▎   | 1623/2556 [05:15<03:06,  5.01it/s]\u001b[A\u001b[A\n",
            "\n",
            " 64%|██████▎   | 1624/2556 [05:15<03:00,  5.18it/s]\u001b[A\u001b[A"
          ],
          "name": "stderr"
        },
        {
          "output_type": "stream",
          "text": [
            "AI Trader bought:  $ 97.550003\n"
          ],
          "name": "stdout"
        },
        {
          "output_type": "stream",
          "text": [
            "\n",
            "\n",
            " 64%|██████▎   | 1625/2556 [05:15<03:03,  5.06it/s]\u001b[A\u001b[A\n",
            "\n",
            " 64%|██████▎   | 1626/2556 [05:15<02:59,  5.18it/s]\u001b[A\u001b[A"
          ],
          "name": "stderr"
        },
        {
          "output_type": "stream",
          "text": [
            "AI Trader sold:  $ 95.330002  Profit: - $ 2.220001\n"
          ],
          "name": "stdout"
        },
        {
          "output_type": "stream",
          "text": [
            "\n",
            "\n",
            " 64%|██████▎   | 1627/2556 [05:15<03:04,  5.04it/s]\u001b[A\u001b[A\n",
            "\n",
            " 64%|██████▎   | 1628/2556 [05:16<03:02,  5.09it/s]\u001b[A\u001b[A\n",
            "\n",
            " 64%|██████▎   | 1629/2556 [05:16<03:01,  5.12it/s]\u001b[A\u001b[A\n",
            "\n",
            " 64%|██████▍   | 1630/2556 [05:16<03:02,  5.07it/s]\u001b[A\u001b[A"
          ],
          "name": "stderr"
        },
        {
          "output_type": "stream",
          "text": [
            "AI Trader bought:  $ 96.099998\n"
          ],
          "name": "stdout"
        },
        {
          "output_type": "stream",
          "text": [
            "\n",
            "\n",
            " 64%|██████▍   | 1631/2556 [05:16<03:02,  5.08it/s]\u001b[A\u001b[A"
          ],
          "name": "stderr"
        },
        {
          "output_type": "stream",
          "text": [
            "AI Trader sold:  $ 93.400002  Profit: - $ 2.699997\n"
          ],
          "name": "stdout"
        },
        {
          "output_type": "stream",
          "text": [
            "\n",
            "\n",
            " 64%|██████▍   | 1632/2556 [05:16<03:03,  5.04it/s]\u001b[A\u001b[A\n",
            "\n",
            " 64%|██████▍   | 1633/2556 [05:17<03:05,  4.97it/s]\u001b[A\u001b[A\n",
            "\n",
            " 64%|██████▍   | 1634/2556 [05:17<03:02,  5.05it/s]\u001b[A\u001b[A"
          ],
          "name": "stderr"
        },
        {
          "output_type": "stream",
          "text": [
            "AI Trader bought:  $ 95.599998\n"
          ],
          "name": "stdout"
        },
        {
          "output_type": "stream",
          "text": [
            "\n",
            "\n",
            " 64%|██████▍   | 1635/2556 [05:17<03:06,  4.94it/s]\u001b[A\u001b[A\n",
            "\n",
            " 64%|██████▍   | 1636/2556 [05:17<03:02,  5.04it/s]\u001b[A\u001b[A"
          ],
          "name": "stderr"
        },
        {
          "output_type": "stream",
          "text": [
            "AI Trader sold:  $ 95.889999  Profit: $ 0.290001\n",
            "AI Trader bought:  $ 94.989998\n"
          ],
          "name": "stdout"
        },
        {
          "output_type": "stream",
          "text": [
            "\n",
            "\n",
            " 64%|██████▍   | 1637/2556 [05:17<03:05,  4.96it/s]\u001b[A\u001b[A\n",
            "\n",
            " 64%|██████▍   | 1638/2556 [05:18<03:02,  5.03it/s]\u001b[A\u001b[A"
          ],
          "name": "stderr"
        },
        {
          "output_type": "stream",
          "text": [
            "AI Trader bought:  $ 95.529999\n",
            "AI Trader sold:  $ 95.940002  Profit: $ 0.950005\n"
          ],
          "name": "stdout"
        },
        {
          "output_type": "stream",
          "text": [
            "\n",
            "\n",
            " 64%|██████▍   | 1639/2556 [05:18<03:06,  4.91it/s]\u001b[A\u001b[A\n",
            "\n",
            " 64%|██████▍   | 1640/2556 [05:18<03:03,  4.99it/s]\u001b[A\u001b[A"
          ],
          "name": "stderr"
        },
        {
          "output_type": "stream",
          "text": [
            "AI Trader bought:  $ 96.680000\n",
            "AI Trader sold:  $ 96.980003  Profit: $ 1.450005\n"
          ],
          "name": "stdout"
        },
        {
          "output_type": "stream",
          "text": [
            "\n",
            "\n",
            " 64%|██████▍   | 1641/2556 [05:18<02:58,  5.14it/s]\u001b[A\u001b[A\n",
            "\n",
            " 64%|██████▍   | 1642/2556 [05:18<02:52,  5.29it/s]\u001b[A\u001b[A\n",
            "\n",
            " 64%|██████▍   | 1643/2556 [05:19<02:52,  5.29it/s]\u001b[A\u001b[A\n",
            "\n",
            " 64%|██████▍   | 1644/2556 [05:19<02:51,  5.31it/s]\u001b[A\u001b[A"
          ],
          "name": "stderr"
        },
        {
          "output_type": "stream",
          "text": [
            "AI Trader sold:  $ 98.790001  Profit: $ 2.110001\n"
          ],
          "name": "stdout"
        },
        {
          "output_type": "stream",
          "text": [
            "\n",
            "\n",
            " 64%|██████▍   | 1645/2556 [05:19<02:52,  5.27it/s]\u001b[A\u001b[A\n",
            "\n",
            " 64%|██████▍   | 1646/2556 [05:19<02:53,  5.24it/s]\u001b[A\u001b[A\n",
            "\n",
            " 64%|██████▍   | 1647/2556 [05:19<03:02,  4.97it/s]\u001b[A\u001b[A\n",
            "\n",
            " 64%|██████▍   | 1648/2556 [05:19<03:00,  5.04it/s]\u001b[A\u001b[A\n",
            "\n",
            " 65%|██████▍   | 1649/2556 [05:20<03:08,  4.81it/s]\u001b[A\u001b[A\n",
            "\n",
            " 65%|██████▍   | 1650/2556 [05:20<03:24,  4.43it/s]\u001b[A\u001b[A\n",
            "\n",
            " 65%|██████▍   | 1651/2556 [05:20<03:29,  4.33it/s]\u001b[A\u001b[A\n",
            "\n",
            " 65%|██████▍   | 1652/2556 [05:20<03:32,  4.26it/s]\u001b[A\u001b[A\n",
            "\n",
            " 65%|██████▍   | 1653/2556 [05:21<03:22,  4.47it/s]\u001b[A\u001b[A"
          ],
          "name": "stderr"
        },
        {
          "output_type": "stream",
          "text": [
            "AI Trader bought:  $ 102.949997\n",
            "AI Trader sold:  $ 104.339996  Profit: $ 1.389999\n"
          ],
          "name": "stdout"
        },
        {
          "output_type": "stream",
          "text": [
            "\n",
            "\n",
            " 65%|██████▍   | 1654/2556 [05:21<03:16,  4.58it/s]\u001b[A\u001b[A\n",
            "\n",
            " 65%|██████▍   | 1655/2556 [05:21<03:11,  4.70it/s]\u001b[A\u001b[A"
          ],
          "name": "stderr"
        },
        {
          "output_type": "stream",
          "text": [
            "AI Trader bought:  $ 104.209999\n",
            "AI Trader sold:  "
          ],
          "name": "stdout"
        },
        {
          "output_type": "stream",
          "text": [
            "\n",
            "\n",
            " 65%|██████▍   | 1656/2556 [05:21<03:05,  4.85it/s]\u001b[A\u001b[A\n",
            "\n",
            " 65%|██████▍   | 1657/2556 [05:21<02:59,  5.00it/s]\u001b[A\u001b[A"
          ],
          "name": "stderr"
        },
        {
          "output_type": "stream",
          "text": [
            "$ 106.050003  Profit: $ 1.840004\n",
            "AI Trader bought:  $ 104.480003\n",
            "AI Trader bought:  $ 105.790001\n"
          ],
          "name": "stdout"
        },
        {
          "output_type": "stream",
          "text": [
            "\n",
            "\n",
            " 65%|██████▍   | 1658/2556 [05:22<02:56,  5.10it/s]\u001b[A\u001b[A\n",
            "\n",
            " 65%|██████▍   | 1659/2556 [05:22<02:51,  5.23it/s]\u001b[A\u001b[A"
          ],
          "name": "stderr"
        },
        {
          "output_type": "stream",
          "text": [
            "AI Trader sold:  $ 105.870003  Profit: $ 1.389999\n",
            "AI Trader bought:  $ 107.480003\n"
          ],
          "name": "stdout"
        },
        {
          "output_type": "stream",
          "text": [
            "\n",
            "\n",
            " 65%|██████▍   | 1660/2556 [05:22<02:50,  5.25it/s]\u001b[A\u001b[A\n",
            "\n",
            " 65%|██████▍   | 1661/2556 [05:22<02:52,  5.19it/s]\u001b[A\u001b[A"
          ],
          "name": "stderr"
        },
        {
          "output_type": "stream",
          "text": [
            "AI Trader bought:  $ 108.370003\n",
            "AI Trader sold:  $ 108.809998  Profit: $ 3.019997\n"
          ],
          "name": "stdout"
        },
        {
          "output_type": "stream",
          "text": [
            "\n",
            "\n",
            " 65%|██████▌   | 1662/2556 [05:22<02:54,  5.12it/s]\u001b[A\u001b[A\n",
            "\n",
            " 65%|██████▌   | 1663/2556 [05:23<02:51,  5.20it/s]\u001b[A\u001b[A"
          ],
          "name": "stderr"
        },
        {
          "output_type": "stream",
          "text": [
            "AI Trader bought:  $ 108.000000\n",
            "AI Trader sold:  $ 107.930000  Profit: $ 0.449997\n"
          ],
          "name": "stdout"
        },
        {
          "output_type": "stream",
          "text": [
            "\n",
            "\n",
            " 65%|██████▌   | 1664/2556 [05:23<02:51,  5.20it/s]\u001b[A\u001b[A\n",
            "\n",
            " 65%|██████▌   | 1665/2556 [05:23<02:55,  5.09it/s]\u001b[A\u001b[A"
          ],
          "name": "stderr"
        },
        {
          "output_type": "stream",
          "text": [
            "AI Trader bought:  $ 108.180000\n"
          ],
          "name": "stdout"
        },
        {
          "output_type": "stream",
          "text": [
            "\n",
            "\n",
            " 65%|██████▌   | 1666/2556 [05:23<02:54,  5.09it/s]\u001b[A\u001b[A"
          ],
          "name": "stderr"
        },
        {
          "output_type": "stream",
          "text": [
            "AI Trader sold:  $ 109.480003  Profit: $ 1.110001\n",
            "AI Trader sold:  $ 109.379997  Profit: $ 1.379997\n"
          ],
          "name": "stdout"
        },
        {
          "output_type": "stream",
          "text": [
            "\n",
            "\n",
            " 65%|██████▌   | 1667/2556 [05:23<02:52,  5.15it/s]\u001b[A\u001b[A\n",
            "\n",
            " 65%|██████▌   | 1668/2556 [05:24<02:54,  5.10it/s]\u001b[A\u001b[A"
          ],
          "name": "stderr"
        },
        {
          "output_type": "stream",
          "text": [
            "AI Trader bought:  $ 109.220001\n",
            "AI Trader bought:  $ 109.080002\n"
          ],
          "name": "stdout"
        },
        {
          "output_type": "stream",
          "text": [
            "\n",
            "\n",
            " 65%|██████▌   | 1669/2556 [05:24<02:50,  5.19it/s]\u001b[A\u001b[A"
          ],
          "name": "stderr"
        },
        {
          "output_type": "stream",
          "text": [
            "AI Trader bought:  $ 109.360001\n"
          ],
          "name": "stdout"
        },
        {
          "output_type": "stream",
          "text": [
            "\n",
            "\n",
            " 65%|██████▌   | 1670/2556 [05:24<02:56,  5.03it/s]\u001b[A\u001b[A\n",
            "\n",
            " 65%|██████▌   | 1671/2556 [05:24<02:53,  5.09it/s]\u001b[A\u001b[A"
          ],
          "name": "stderr"
        },
        {
          "output_type": "stream",
          "text": [
            "AI Trader sold:  $ 108.510002  Profit: $ 0.330002\n",
            "AI Trader sold:  $ 108.849998  Profit: - $ 0.370003\n"
          ],
          "name": "stdout"
        },
        {
          "output_type": "stream",
          "text": [
            "\n",
            "\n",
            " 65%|██████▌   | 1672/2556 [05:24<02:54,  5.08it/s]\u001b[A\u001b[A\n",
            "\n",
            " 65%|██████▌   | 1673/2556 [05:25<02:50,  5.18it/s]\u001b[A\u001b[A\n",
            "\n",
            " 65%|██████▌   | 1674/2556 [05:25<02:50,  5.18it/s]\u001b[A\u001b[A\n",
            "\n",
            " 66%|██████▌   | 1675/2556 [05:25<02:47,  5.27it/s]\u001b[A\u001b[A\n",
            "\n",
            " 66%|██████▌   | 1676/2556 [05:25<02:48,  5.21it/s]\u001b[A\u001b[A\n",
            "\n",
            " 66%|██████▌   | 1677/2556 [05:25<02:45,  5.31it/s]\u001b[A\u001b[A"
          ],
          "name": "stderr"
        },
        {
          "output_type": "stream",
          "text": [
            "AI Trader bought:  $ 106.000000\n",
            "AI Trader sold:  $ 106.099998  Profit: - $ 2.980003\n"
          ],
          "name": "stdout"
        },
        {
          "output_type": "stream",
          "text": [
            "\n",
            "\n",
            " 66%|██████▌   | 1678/2556 [05:25<02:46,  5.27it/s]\u001b[A\u001b[A\n",
            "\n",
            " 66%|██████▌   | 1679/2556 [05:26<02:46,  5.26it/s]\u001b[A\u001b[A"
          ],
          "name": "stderr"
        },
        {
          "output_type": "stream",
          "text": [
            "AI Trader bought:  $ 106.730003\n",
            "AI Trader bought:  $ 107.730003\n"
          ],
          "name": "stdout"
        },
        {
          "output_type": "stream",
          "text": [
            "\n",
            "\n",
            " 66%|██████▌   | 1680/2556 [05:26<02:47,  5.23it/s]\u001b[A\u001b[A"
          ],
          "name": "stderr"
        },
        {
          "output_type": "stream",
          "text": [
            "AI Trader bought:  $ 107.699997\n"
          ],
          "name": "stdout"
        },
        {
          "output_type": "stream",
          "text": [
            "\n",
            "\n",
            " 66%|██████▌   | 1681/2556 [05:26<02:53,  5.04it/s]\u001b[A\u001b[A\n",
            "\n",
            " 66%|██████▌   | 1682/2556 [05:26<02:47,  5.23it/s]\u001b[A\u001b[A"
          ],
          "name": "stderr"
        },
        {
          "output_type": "stream",
          "text": [
            "AI Trader bought:  $ 108.360001\n",
            "AI Trader bought:  $ 105.519997\n"
          ],
          "name": "stdout"
        },
        {
          "output_type": "stream",
          "text": [
            "\n",
            "\n",
            " 66%|██████▌   | 1683/2556 [05:26<02:48,  5.19it/s]\u001b[A\u001b[A\n",
            "\n",
            " 66%|██████▌   | 1684/2556 [05:27<02:43,  5.33it/s]\u001b[A\u001b[A"
          ],
          "name": "stderr"
        },
        {
          "output_type": "stream",
          "text": [
            "AI Trader bought:  $ 103.129997\n",
            "AI Trader sold:  $ 105.440002  Profit: - $ 3.919998\n"
          ],
          "name": "stdout"
        },
        {
          "output_type": "stream",
          "text": [
            "\n",
            "\n",
            " 66%|██████▌   | 1685/2556 [05:27<02:41,  5.40it/s]\u001b[A\u001b[A\n",
            "\n",
            " 66%|██████▌   | 1686/2556 [05:27<02:39,  5.44it/s]\u001b[A\u001b[A"
          ],
          "name": "stderr"
        },
        {
          "output_type": "stream",
          "text": [
            "AI Trader sold:  $ 107.949997  Profit: $ 1.949997\n",
            "AI Trader bought:  $ 111.769997\n"
          ],
          "name": "stdout"
        },
        {
          "output_type": "stream",
          "text": [
            "\n",
            "\n",
            " 66%|██████▌   | 1687/2556 [05:27<02:45,  5.25it/s]\u001b[A\u001b[A\n",
            "\n",
            " 66%|██████▌   | 1688/2556 [05:27<02:42,  5.34it/s]\u001b[A\u001b[A"
          ],
          "name": "stderr"
        },
        {
          "output_type": "stream",
          "text": [
            "AI Trader sold:  $ 115.570000  Profit: $ 8.839996\n",
            "AI Trader bought:  $ 114.919998\n"
          ],
          "name": "stdout"
        },
        {
          "output_type": "stream",
          "text": [
            "\n",
            "\n",
            " 66%|██████▌   | 1689/2556 [05:28<02:45,  5.22it/s]\u001b[A\u001b[A\n",
            "\n",
            " 66%|██████▌   | 1690/2556 [05:28<02:45,  5.25it/s]\u001b[A\u001b[A"
          ],
          "name": "stderr"
        },
        {
          "output_type": "stream",
          "text": [
            "AI Trader bought:  $ 113.580002\n",
            "AI Trader bought:  $ 113.570000\n"
          ],
          "name": "stdout"
        },
        {
          "output_type": "stream",
          "text": [
            "\n",
            "\n",
            " 66%|██████▌   | 1691/2556 [05:28<02:43,  5.28it/s]\u001b[A\u001b[A\n",
            "\n",
            " 66%|██████▌   | 1692/2556 [05:28<02:46,  5.19it/s]\u001b[A\u001b[A"
          ],
          "name": "stderr"
        },
        {
          "output_type": "stream",
          "text": [
            "AI Trader bought:  $ 113.550003\n",
            "AI Trader sold:  $ 114.620003  Profit: $ 6.889999\n"
          ],
          "name": "stdout"
        },
        {
          "output_type": "stream",
          "text": [
            "\n",
            "\n",
            " 66%|██████▌   | 1693/2556 [05:28<02:45,  5.21it/s]\u001b[A\u001b[A\n",
            "\n",
            " 66%|██████▋   | 1694/2556 [05:29<02:45,  5.21it/s]\u001b[A\u001b[A"
          ],
          "name": "stderr"
        },
        {
          "output_type": "stream",
          "text": [
            "AI Trader bought:  $ 112.709999\n",
            "AI Trader bought:  $ 112.879997\n"
          ],
          "name": "stdout"
        },
        {
          "output_type": "stream",
          "text": [
            "\n",
            "\n",
            " 66%|██████▋   | 1695/2556 [05:29<02:48,  5.12it/s]\u001b[A\u001b[A\n",
            "\n",
            " 66%|██████▋   | 1696/2556 [05:29<02:44,  5.23it/s]\u001b[A\u001b[A"
          ],
          "name": "stderr"
        },
        {
          "output_type": "stream",
          "text": [
            "AI Trader bought:  $ 113.089996\n",
            "AI Trader sold:  $ 113.949997  Profit: $ 6.250000\n"
          ],
          "name": "stdout"
        },
        {
          "output_type": "stream",
          "text": [
            "\n",
            "\n",
            " 66%|██████▋   | 1697/2556 [05:29<02:49,  5.08it/s]\u001b[A\u001b[A\n",
            "\n",
            " 66%|██████▋   | 1698/2556 [05:29<02:48,  5.10it/s]\u001b[A\u001b[A"
          ],
          "name": "stderr"
        },
        {
          "output_type": "stream",
          "text": [
            "AI Trader bought:  $ 112.180000\n",
            "AI Trader sold:  $ 113.050003  Profit: $ 4.690002\n"
          ],
          "name": "stdout"
        },
        {
          "output_type": "stream",
          "text": [
            "\n",
            "\n",
            " 66%|██████▋   | 1699/2556 [05:30<02:44,  5.19it/s]\u001b[A\u001b[A\n",
            "\n",
            " 67%|██████▋   | 1700/2556 [05:30<02:45,  5.16it/s]\u001b[A\u001b[A"
          ],
          "name": "stderr"
        },
        {
          "output_type": "stream",
          "text": [
            "AI Trader bought:  $ 112.519997\n",
            "AI Trader sold:  $ 113.000000  Profit: $ 7.480003\n"
          ],
          "name": "stdout"
        },
        {
          "output_type": "stream",
          "text": [
            "\n",
            "\n",
            " 67%|██████▋   | 1701/2556 [05:30<02:42,  5.25it/s]\u001b[A\u001b[A\n",
            "\n",
            " 67%|██████▋   | 1702/2556 [05:30<02:42,  5.27it/s]\u001b[A\u001b[A"
          ],
          "name": "stderr"
        },
        {
          "output_type": "stream",
          "text": [
            "AI Trader sold:  $ 113.050003  Profit: $ 9.920006\n",
            "AI Trader sold:  $ 113.889999  Profit: $ 2.120003\n"
          ],
          "name": "stdout"
        },
        {
          "output_type": "stream",
          "text": [
            "\n",
            "\n",
            " 67%|██████▋   | 1703/2556 [05:30<02:45,  5.17it/s]\u001b[A\u001b[A\n",
            "\n",
            " 67%|██████▋   | 1704/2556 [05:30<02:43,  5.21it/s]\u001b[A\u001b[A"
          ],
          "name": "stderr"
        },
        {
          "output_type": "stream",
          "text": [
            "AI Trader bought:  $ 114.059998\n",
            "AI Trader bought:  $ 116.050003\n"
          ],
          "name": "stdout"
        },
        {
          "output_type": "stream",
          "text": [
            "\n",
            "\n",
            " 67%|██████▋   | 1705/2556 [05:31<02:44,  5.17it/s]\u001b[A\u001b[A\n",
            "\n",
            " 67%|██████▋   | 1706/2556 [05:31<02:44,  5.18it/s]\u001b[A\u001b[A"
          ],
          "name": "stderr"
        },
        {
          "output_type": "stream",
          "text": [
            "AI Trader bought:  $ 116.300003\n",
            "AI Trader sold:  $ 117.339996  Profit: $ 2.419998\n"
          ],
          "name": "stdout"
        },
        {
          "output_type": "stream",
          "text": [
            "\n",
            "\n",
            " 67%|██████▋   | 1707/2556 [05:31<02:40,  5.28it/s]\u001b[A\u001b[A\n",
            "\n",
            " 67%|██████▋   | 1708/2556 [05:31<02:42,  5.23it/s]\u001b[A\u001b[A"
          ],
          "name": "stderr"
        },
        {
          "output_type": "stream",
          "text": [
            "AI Trader sold:  $ 116.980003  Profit: $ 3.400002\n",
            "AI Trader sold:  $ 117.629997  Profit: $ 4.059998\n"
          ],
          "name": "stdout"
        },
        {
          "output_type": "stream",
          "text": [
            "\n",
            "\n",
            " 67%|██████▋   | 1709/2556 [05:31<02:45,  5.12it/s]\u001b[A\u001b[A\n",
            "\n",
            " 67%|██████▋   | 1710/2556 [05:32<02:42,  5.20it/s]\u001b[A\u001b[A"
          ],
          "name": "stderr"
        },
        {
          "output_type": "stream",
          "text": [
            "AI Trader sold:  $ 117.550003  Profit: $ 4.000000\n"
          ],
          "name": "stdout"
        },
        {
          "output_type": "stream",
          "text": [
            "\n",
            "\n",
            " 67%|██████▋   | 1711/2556 [05:32<02:43,  5.18it/s]\u001b[A\u001b[A\n",
            "\n",
            " 67%|██████▋   | 1712/2556 [05:32<02:42,  5.19it/s]\u001b[A\u001b[A\n",
            "\n",
            " 67%|██████▋   | 1713/2556 [05:32<02:41,  5.21it/s]\u001b[A\u001b[A"
          ],
          "name": "stderr"
        },
        {
          "output_type": "stream",
          "text": [
            "AI Trader sold:  $ 117.059998  Profit: $ 4.349998\n",
            "AI Trader bought:  $ 116.599998\n"
          ],
          "name": "stdout"
        },
        {
          "output_type": "stream",
          "text": [
            "\n",
            "\n",
            " 67%|██████▋   | 1714/2556 [05:32<02:44,  5.13it/s]\u001b[A\u001b[A\n",
            "\n",
            " 67%|██████▋   | 1715/2556 [05:33<02:40,  5.24it/s]\u001b[A\u001b[A"
          ],
          "name": "stderr"
        },
        {
          "output_type": "stream",
          "text": [
            "AI Trader sold:  $ 117.650002  Profit: $ 4.770004\n",
            "AI Trader sold:  $ 118.250000  Profit: $ 5.160004\n"
          ],
          "name": "stdout"
        },
        {
          "output_type": "stream",
          "text": [
            "\n",
            "\n",
            " 67%|██████▋   | 1716/2556 [05:33<02:41,  5.21it/s]\u001b[A\u001b[A"
          ],
          "name": "stderr"
        },
        {
          "output_type": "stream",
          "text": [
            "AI Trader bought:  $ 115.589996\n"
          ],
          "name": "stdout"
        },
        {
          "output_type": "stream",
          "text": [
            "\n",
            "\n",
            " 67%|██████▋   | 1717/2556 [05:33<02:47,  5.02it/s]\u001b[A\u001b[A\n",
            "\n",
            " 67%|██████▋   | 1718/2556 [05:33<02:43,  5.12it/s]\u001b[A\u001b[A"
          ],
          "name": "stderr"
        },
        {
          "output_type": "stream",
          "text": [
            "AI Trader bought:  $ 114.480003\n",
            "AI Trader sold:  $ 113.720001  Profit: $ 1.540001\n"
          ],
          "name": "stdout"
        },
        {
          "output_type": "stream",
          "text": [
            "\n",
            "\n",
            " 67%|██████▋   | 1719/2556 [05:33<02:43,  5.12it/s]\u001b[A\u001b[A\n",
            "\n",
            " 67%|██████▋   | 1720/2556 [05:34<02:43,  5.11it/s]\u001b[A\u001b[A"
          ],
          "name": "stderr"
        },
        {
          "output_type": "stream",
          "text": [
            "AI Trader bought:  $ 113.540001\n",
            "AI Trader sold:  $ 111.489998  Profit: - $ 1.029999\n"
          ],
          "name": "stdout"
        },
        {
          "output_type": "stream",
          "text": [
            "\n",
            "\n",
            " 67%|██████▋   | 1721/2556 [05:34<02:40,  5.20it/s]\u001b[A\u001b[A"
          ],
          "name": "stderr"
        },
        {
          "output_type": "stream",
          "text": [
            "AI Trader sold:  $ 111.589996  Profit: - $ 2.470001\n"
          ],
          "name": "stdout"
        },
        {
          "output_type": "stream",
          "text": [
            "\n",
            "\n",
            " 67%|██████▋   | 1722/2556 [05:34<02:47,  4.97it/s]\u001b[A\u001b[A\n",
            "\n",
            " 67%|██████▋   | 1723/2556 [05:34<02:45,  5.04it/s]\u001b[A\u001b[A"
          ],
          "name": "stderr"
        },
        {
          "output_type": "stream",
          "text": [
            "AI Trader sold:  $ 109.830002  Profit: - $ 6.220001\n",
            "AI Trader sold:  $ 108.839996  Profit: - $ 7.460007\n"
          ],
          "name": "stdout"
        },
        {
          "output_type": "stream",
          "text": [
            "\n",
            "\n",
            " 67%|██████▋   | 1724/2556 [05:34<02:44,  5.04it/s]\u001b[A\u001b[A\n",
            "\n",
            " 67%|██████▋   | 1725/2556 [05:35<02:44,  5.06it/s]\u001b[A\u001b[A"
          ],
          "name": "stderr"
        },
        {
          "output_type": "stream",
          "text": [
            "AI Trader sold:  $ 110.410004  Profit: - $ 6.189995\n",
            "AI Trader sold:  $ 111.059998  Profit: - $ 4.529999\n"
          ],
          "name": "stdout"
        },
        {
          "output_type": "stream",
          "text": [
            "\n",
            "\n",
            " 68%|██████▊   | 1726/2556 [05:35<02:45,  5.02it/s]\u001b[A\u001b[A\n",
            "\n",
            " 68%|██████▊   | 1727/2556 [05:35<02:42,  5.10it/s]\u001b[A\u001b[A"
          ],
          "name": "stderr"
        },
        {
          "output_type": "stream",
          "text": [
            "AI Trader bought:  $ 110.879997\n",
            "AI Trader bought:  $ 107.790001\n"
          ],
          "name": "stdout"
        },
        {
          "output_type": "stream",
          "text": [
            "\n",
            "\n",
            " 68%|██████▊   | 1728/2556 [05:35<02:43,  5.05it/s]\u001b[A\u001b[A\n",
            "\n",
            " 68%|██████▊   | 1729/2556 [05:35<02:41,  5.13it/s]\u001b[A\u001b[A"
          ],
          "name": "stderr"
        },
        {
          "output_type": "stream",
          "text": [
            "AI Trader sold:  $ 108.430000  Profit: - $ 6.050003\n",
            "AI Trader sold:  $ 105.709999  Profit: - $ 7.830002\n"
          ],
          "name": "stdout"
        },
        {
          "output_type": "stream",
          "text": [
            "\n",
            "\n",
            " 68%|██████▊   | 1730/2556 [05:36<02:42,  5.10it/s]\u001b[A\u001b[A\n",
            "\n",
            " 68%|██████▊   | 1731/2556 [05:36<02:40,  5.16it/s]\u001b[A\u001b[A"
          ],
          "name": "stderr"
        },
        {
          "output_type": "stream",
          "text": [
            "AI Trader sold:  $ 107.110001  Profit: - $ 3.769997\n",
            "AI Trader sold:  $ 109.989998  Profit: $ 2.199997\n"
          ],
          "name": "stdout"
        },
        {
          "output_type": "stream",
          "text": [
            "\n",
            "\n",
            " 68%|██████▊   | 1732/2556 [05:36<02:36,  5.27it/s]\u001b[A\u001b[A\n",
            "\n",
            " 68%|██████▊   | 1733/2556 [05:36<02:36,  5.27it/s]\u001b[A\u001b[A\n",
            "\n",
            " 68%|██████▊   | 1734/2556 [05:36<02:37,  5.21it/s]\u001b[A\u001b[A\n",
            "\n",
            " 68%|██████▊   | 1735/2556 [05:36<02:36,  5.25it/s]\u001b[A\u001b[A\n",
            "\n",
            " 68%|██████▊   | 1736/2556 [05:37<02:38,  5.18it/s]\u001b[A\u001b[A"
          ],
          "name": "stderr"
        },
        {
          "output_type": "stream",
          "text": [
            "AI Trader bought:  $ 111.800003\n",
            "AI Trader sold: "
          ],
          "name": "stdout"
        },
        {
          "output_type": "stream",
          "text": [
            "\n",
            "\n",
            " 68%|██████▊   | 1737/2556 [05:37<02:36,  5.24it/s]\u001b[A\u001b[A"
          ],
          "name": "stderr"
        },
        {
          "output_type": "stream",
          "text": [
            " $ 111.230003  Profit: - $ 0.570000\n"
          ],
          "name": "stdout"
        },
        {
          "output_type": "stream",
          "text": [
            "\n",
            "\n",
            " 68%|██████▊   | 1738/2556 [05:37<02:37,  5.18it/s]\u001b[A\u001b[A\n",
            "\n",
            " 68%|██████▊   | 1739/2556 [05:37<02:36,  5.22it/s]\u001b[A\u001b[A\n",
            "\n",
            " 68%|██████▊   | 1740/2556 [05:37<02:38,  5.13it/s]\u001b[A\u001b[A\n",
            "\n",
            " 68%|██████▊   | 1741/2556 [05:38<02:40,  5.08it/s]\u001b[A\u001b[A\n",
            "\n",
            " 68%|██████▊   | 1742/2556 [05:38<02:36,  5.20it/s]\u001b[A\u001b[A\n",
            "\n",
            " 68%|██████▊   | 1743/2556 [05:38<02:39,  5.10it/s]\u001b[A\u001b[A\n",
            "\n",
            " 68%|██████▊   | 1744/2556 [05:38<02:42,  5.01it/s]\u001b[A\u001b[A\n",
            "\n",
            " 68%|██████▊   | 1745/2556 [05:38<02:42,  4.99it/s]\u001b[A\u001b[A"
          ],
          "name": "stderr"
        },
        {
          "output_type": "stream",
          "text": [
            "AI Trader bought:  $ 109.949997\n"
          ],
          "name": "stdout"
        },
        {
          "output_type": "stream",
          "text": [
            "\n",
            "\n",
            " 68%|██████▊   | 1746/2556 [05:39<02:42,  4.99it/s]\u001b[A\u001b[A"
          ],
          "name": "stderr"
        },
        {
          "output_type": "stream",
          "text": [
            "AI Trader sold:  $ 111.029999  Profit: $ 1.080002\n"
          ],
          "name": "stdout"
        },
        {
          "output_type": "stream",
          "text": [
            "\n",
            "\n",
            " 68%|██████▊   | 1747/2556 [05:39<02:44,  4.91it/s]\u001b[A\u001b[A\n",
            "\n",
            " 68%|██████▊   | 1748/2556 [05:39<02:39,  5.05it/s]\u001b[A\u001b[A\n",
            "\n",
            " 68%|██████▊   | 1749/2556 [05:39<02:39,  5.06it/s]\u001b[A\u001b[A\n",
            "\n",
            " 68%|██████▊   | 1750/2556 [05:39<02:38,  5.08it/s]\u001b[A\u001b[A"
          ],
          "name": "stderr"
        },
        {
          "output_type": "stream",
          "text": [
            "AI Trader bought:  $ 115.190002\n",
            "AI Trader sold:  $ 115.190002  Profit: $ 0.000000\n"
          ],
          "name": "stdout"
        },
        {
          "output_type": "stream",
          "text": [
            "\n",
            "\n",
            " 69%|██████▊   | 1751/2556 [05:40<02:40,  5.02it/s]\u001b[A\u001b[A\n",
            "\n",
            " 69%|██████▊   | 1752/2556 [05:40<02:38,  5.06it/s]\u001b[A\u001b[A"
          ],
          "name": "stderr"
        },
        {
          "output_type": "stream",
          "text": [
            "AI Trader bought:  $ 115.820000\n",
            "AI Trader sold:  $ 115.970001  Profit: $ 0.150002\n"
          ],
          "name": "stdout"
        },
        {
          "output_type": "stream",
          "text": [
            "\n",
            "\n",
            " 69%|██████▊   | 1753/2556 [05:40<02:38,  5.06it/s]\u001b[A\u001b[A\n",
            "\n",
            " 69%|██████▊   | 1754/2556 [05:40<02:38,  5.07it/s]\u001b[A\u001b[A\n",
            "\n",
            " 69%|██████▊   | 1755/2556 [05:40<02:37,  5.08it/s]\u001b[A\u001b[A"
          ],
          "name": "stderr"
        },
        {
          "output_type": "stream",
          "text": [
            "AI Trader bought:  $ 116.949997\n"
          ],
          "name": "stdout"
        },
        {
          "output_type": "stream",
          "text": [
            "\n",
            "\n",
            " 69%|██████▊   | 1756/2556 [05:41<02:36,  5.12it/s]\u001b[A\u001b[A\n",
            "\n",
            " 69%|██████▊   | 1757/2556 [05:41<02:35,  5.14it/s]\u001b[A\u001b[A\n",
            "\n",
            " 69%|██████▉   | 1758/2556 [05:41<02:32,  5.22it/s]\u001b[A\u001b[A"
          ],
          "name": "stderr"
        },
        {
          "output_type": "stream",
          "text": [
            "AI Trader sold:  $ 116.519997  Profit: - $ 0.430000\n",
            "AI Trader bought:  $ 117.260002\n"
          ],
          "name": "stdout"
        },
        {
          "output_type": "stream",
          "text": [
            "\n",
            "\n",
            " 69%|██████▉   | 1759/2556 [05:41<02:31,  5.26it/s]\u001b[A\u001b[A\n",
            "\n",
            " 69%|██████▉   | 1760/2556 [05:41<02:37,  5.04it/s]\u001b[A\u001b[A\n",
            "\n",
            " 69%|██████▉   | 1761/2556 [05:42<02:33,  5.17it/s]\u001b[A\u001b[A\n",
            "\n",
            " 69%|██████▉   | 1762/2556 [05:42<02:31,  5.26it/s]\u001b[A\u001b[A\n",
            "\n",
            " 69%|██████▉   | 1763/2556 [05:42<02:31,  5.24it/s]\u001b[A\u001b[A\n",
            "\n",
            " 69%|██████▉   | 1764/2556 [05:42<02:30,  5.25it/s]\u001b[A\u001b[A"
          ],
          "name": "stderr"
        },
        {
          "output_type": "stream",
          "text": [
            "AI Trader sold:  $ 116.019997  Profit: - $ 1.240005\n"
          ],
          "name": "stdout"
        },
        {
          "output_type": "stream",
          "text": [
            "\n",
            "\n",
            " 69%|██████▉   | 1765/2556 [05:42<02:29,  5.27it/s]\u001b[A\u001b[A"
          ],
          "name": "stderr"
        },
        {
          "output_type": "stream",
          "text": [
            "AI Trader bought:  $ 117.910004\n"
          ],
          "name": "stdout"
        },
        {
          "output_type": "stream",
          "text": [
            "\n",
            "\n",
            " 69%|██████▉   | 1766/2556 [05:43<02:34,  5.11it/s]\u001b[A\u001b[A\n",
            "\n",
            " 69%|██████▉   | 1767/2556 [05:43<02:31,  5.22it/s]\u001b[A\u001b[A"
          ],
          "name": "stderr"
        },
        {
          "output_type": "stream",
          "text": [
            "AI Trader sold:  $ 118.989998  Profit: $ 1.079994\n",
            "AI Trader bought:  $ 119.110001\n"
          ],
          "name": "stdout"
        },
        {
          "output_type": "stream",
          "text": [
            "\n",
            "\n",
            " 69%|██████▉   | 1768/2556 [05:43<02:32,  5.16it/s]\u001b[A\u001b[A\n",
            "\n",
            " 69%|██████▉   | 1769/2556 [05:43<02:31,  5.21it/s]\u001b[A\u001b[A\n",
            "\n",
            " 69%|██████▉   | 1770/2556 [05:43<02:30,  5.24it/s]\u001b[A\u001b[A\n",
            "\n",
            " 69%|██████▉   | 1771/2556 [05:44<02:29,  5.25it/s]\u001b[A\u001b[A"
          ],
          "name": "stderr"
        },
        {
          "output_type": "stream",
          "text": [
            "AI Trader sold:  $ 119.040001  Profit: - $ 0.070000\n"
          ],
          "name": "stdout"
        },
        {
          "output_type": "stream",
          "text": [
            "\n",
            "\n",
            " 69%|██████▉   | 1772/2556 [05:44<02:27,  5.31it/s]\u001b[A\u001b[A\n",
            "\n",
            " 69%|██████▉   | 1773/2556 [05:44<02:33,  5.10it/s]\u001b[A\u001b[A\n",
            "\n",
            " 69%|██████▉   | 1774/2556 [05:44<02:31,  5.15it/s]\u001b[A\u001b[A\n",
            "\n",
            " 69%|██████▉   | 1775/2556 [05:44<02:29,  5.22it/s]\u001b[A\u001b[A\n",
            "\n",
            " 69%|██████▉   | 1776/2556 [05:44<02:32,  5.13it/s]\u001b[A\u001b[A\n",
            "\n",
            " 70%|██████▉   | 1777/2556 [05:45<02:31,  5.14it/s]\u001b[A\u001b[A\n",
            "\n",
            " 70%|██████▉   | 1778/2556 [05:45<02:29,  5.22it/s]\u001b[A\u001b[A\n",
            "\n",
            " 70%|██████▉   | 1779/2556 [05:45<02:31,  5.12it/s]\u001b[A\u001b[A\n",
            "\n",
            " 70%|██████▉   | 1780/2556 [05:45<02:28,  5.24it/s]\u001b[A\u001b[A"
          ],
          "name": "stderr"
        },
        {
          "output_type": "stream",
          "text": [
            "AI Trader bought:  $ 121.949997\n"
          ],
          "name": "stdout"
        },
        {
          "output_type": "stream",
          "text": [
            "\n",
            "\n",
            " 70%|██████▉   | 1781/2556 [05:45<02:29,  5.19it/s]\u001b[A\u001b[A\n",
            "\n",
            " 70%|██████▉   | 1782/2556 [05:46<02:31,  5.12it/s]\u001b[A\u001b[A\n",
            "\n",
            " 70%|██████▉   | 1783/2556 [05:46<02:28,  5.20it/s]\u001b[A\u001b[A"
          ],
          "name": "stderr"
        },
        {
          "output_type": "stream",
          "text": [
            "AI Trader sold:  $ 128.750000  Profit: $ 6.800003\n"
          ],
          "name": "stdout"
        },
        {
          "output_type": "stream",
          "text": [
            "\n",
            "\n",
            " 70%|██████▉   | 1784/2556 [05:46<02:37,  4.90it/s]\u001b[A\u001b[A"
          ],
          "name": "stderr"
        },
        {
          "output_type": "stream",
          "text": [
            "AI Trader bought:  $ 129.080002\n"
          ],
          "name": "stdout"
        },
        {
          "output_type": "stream",
          "text": [
            "\n",
            "\n",
            " 70%|██████▉   | 1785/2556 [05:46<02:48,  4.57it/s]\u001b[A\u001b[A"
          ],
          "name": "stderr"
        },
        {
          "output_type": "stream",
          "text": [
            "AI Trader sold:  $ 130.289993  Profit: $ 1.209991\n"
          ],
          "name": "stdout"
        },
        {
          "output_type": "stream",
          "text": [
            "\n",
            "\n",
            " 70%|██████▉   | 1786/2556 [05:47<02:59,  4.30it/s]\u001b[A\u001b[A\n",
            "\n",
            " 70%|██████▉   | 1787/2556 [05:47<03:01,  4.24it/s]\u001b[A\u001b[A\n",
            "\n",
            " 70%|██████▉   | 1788/2556 [05:47<02:47,  4.57it/s]\u001b[A\u001b[A\n",
            "\n",
            " 70%|██████▉   | 1789/2556 [05:47<02:45,  4.65it/s]\u001b[A\u001b[A\n",
            "\n",
            " 70%|███████   | 1790/2556 [05:47<02:40,  4.78it/s]\u001b[A\u001b[A\n",
            "\n",
            " 70%|███████   | 1791/2556 [05:48<02:42,  4.70it/s]\u001b[A\u001b[A\n",
            "\n",
            " 70%|███████   | 1792/2556 [05:48<02:43,  4.68it/s]\u001b[A\u001b[A\n",
            "\n",
            " 70%|███████   | 1793/2556 [05:48<02:38,  4.80it/s]\u001b[A\u001b[A\n",
            "\n",
            " 70%|███████   | 1794/2556 [05:48<02:35,  4.89it/s]\u001b[A\u001b[A\n",
            "\n",
            " 70%|███████   | 1795/2556 [05:48<02:32,  4.99it/s]\u001b[A\u001b[A\n",
            "\n",
            " 70%|███████   | 1796/2556 [05:49<02:30,  5.05it/s]\u001b[A\u001b[A\n",
            "\n",
            " 70%|███████   | 1797/2556 [05:49<02:28,  5.10it/s]\u001b[A\u001b[A\n",
            "\n",
            " 70%|███████   | 1798/2556 [05:49<02:27,  5.16it/s]\u001b[A\u001b[A\n",
            "\n",
            " 70%|███████   | 1799/2556 [05:49<02:28,  5.09it/s]\u001b[A\u001b[A\n",
            "\n",
            " 70%|███████   | 1800/2556 [05:49<02:39,  4.73it/s]\u001b[A\u001b[A\n",
            "\n",
            " 70%|███████   | 1801/2556 [05:50<02:52,  4.39it/s]\u001b[A\u001b[A\n",
            "\n",
            " 71%|███████   | 1802/2556 [05:50<02:57,  4.25it/s]\u001b[A\u001b[A\n",
            "\n",
            " 71%|███████   | 1803/2556 [05:50<02:53,  4.35it/s]\u001b[A\u001b[A\n",
            "\n",
            " 71%|███████   | 1804/2556 [05:50<02:45,  4.53it/s]\u001b[A\u001b[A\n",
            "\n",
            " 71%|███████   | 1805/2556 [05:51<02:41,  4.66it/s]\u001b[A\u001b[A\n",
            "\n",
            " 71%|███████   | 1806/2556 [05:51<02:33,  4.89it/s]\u001b[A\u001b[A\n",
            "\n",
            " 71%|███████   | 1807/2556 [05:51<02:30,  4.97it/s]\u001b[A\u001b[A\n",
            "\n",
            " 71%|███████   | 1808/2556 [05:51<02:26,  5.09it/s]\u001b[A\u001b[A\n",
            "\n",
            " 71%|███████   | 1809/2556 [05:51<02:24,  5.17it/s]\u001b[A\u001b[A\n",
            "\n",
            " 71%|███████   | 1810/2556 [05:52<02:28,  5.03it/s]\u001b[A\u001b[A\n",
            "\n",
            " 71%|███████   | 1811/2556 [05:52<02:26,  5.07it/s]\u001b[A\u001b[A\n",
            "\n",
            " 71%|███████   | 1812/2556 [05:52<02:24,  5.15it/s]\u001b[A\u001b[A\n",
            "\n",
            " 71%|███████   | 1813/2556 [05:52<02:22,  5.22it/s]\u001b[A\u001b[A\n",
            "\n",
            " 71%|███████   | 1814/2556 [05:52<02:23,  5.17it/s]\u001b[A\u001b[A\n",
            "\n",
            " 71%|███████   | 1815/2556 [05:53<02:25,  5.08it/s]\u001b[A\u001b[A\n",
            "\n",
            " 71%|███████   | 1816/2556 [05:53<02:26,  5.06it/s]\u001b[A\u001b[A\n",
            "\n",
            " 71%|███████   | 1817/2556 [05:53<02:21,  5.21it/s]\u001b[A\u001b[A\n",
            "\n",
            " 71%|███████   | 1818/2556 [05:53<02:23,  5.15it/s]\u001b[A\u001b[A\n",
            "\n",
            " 71%|███████   | 1819/2556 [05:53<02:20,  5.24it/s]\u001b[A\u001b[A\n",
            "\n",
            " 71%|███████   | 1820/2556 [05:53<02:17,  5.35it/s]\u001b[A\u001b[A\n",
            "\n",
            " 71%|███████   | 1821/2556 [05:54<02:19,  5.26it/s]\u001b[A\u001b[A\n",
            "\n",
            " 71%|███████▏  | 1822/2556 [05:54<02:17,  5.33it/s]\u001b[A\u001b[A"
          ],
          "name": "stderr"
        },
        {
          "output_type": "stream",
          "text": [
            "AI Trader bought:  $ 144.119995\n",
            "AI Trader sold:  $ 143.929993  Profit: - $ 0.190002\n"
          ],
          "name": "stdout"
        },
        {
          "output_type": "stream",
          "text": [
            "\n",
            "\n",
            " 71%|███████▏  | 1823/2556 [05:54<02:18,  5.31it/s]\u001b[A\u001b[A\n",
            "\n",
            " 71%|███████▏  | 1824/2556 [05:54<02:17,  5.34it/s]\u001b[A\u001b[A\n",
            "\n",
            " 71%|███████▏  | 1825/2556 [05:54<02:15,  5.41it/s]\u001b[A\u001b[A\n",
            "\n",
            " 71%|███████▏  | 1826/2556 [05:55<02:16,  5.37it/s]\u001b[A\u001b[A\n",
            "\n",
            " 71%|███████▏  | 1827/2556 [05:55<02:17,  5.32it/s]\u001b[A\u001b[A\n",
            "\n",
            " 72%|███████▏  | 1828/2556 [05:55<02:16,  5.34it/s]\u001b[A\u001b[A\n",
            "\n",
            " 72%|███████▏  | 1829/2556 [05:55<02:17,  5.29it/s]\u001b[A\u001b[A\n",
            "\n",
            " 72%|███████▏  | 1830/2556 [05:55<02:16,  5.32it/s]\u001b[A\u001b[A\n",
            "\n",
            " 72%|███████▏  | 1831/2556 [05:56<02:17,  5.27it/s]\u001b[A\u001b[A\n",
            "\n",
            " 72%|███████▏  | 1832/2556 [05:56<02:21,  5.11it/s]\u001b[A\u001b[A\n",
            "\n",
            " 72%|███████▏  | 1833/2556 [05:56<02:18,  5.23it/s]\u001b[A\u001b[A\n",
            "\n",
            " 72%|███████▏  | 1834/2556 [05:56<02:17,  5.25it/s]\u001b[A\u001b[A\n",
            "\n",
            " 72%|███████▏  | 1835/2556 [05:56<02:18,  5.19it/s]\u001b[A\u001b[A\n",
            "\n",
            " 72%|███████▏  | 1836/2556 [05:56<02:20,  5.14it/s]\u001b[A\u001b[A\n",
            "\n",
            " 72%|███████▏  | 1837/2556 [05:57<02:20,  5.11it/s]\u001b[A\u001b[A\n",
            "\n",
            " 72%|███████▏  | 1838/2556 [05:57<02:22,  5.05it/s]\u001b[A\u001b[A\n",
            "\n",
            " 72%|███████▏  | 1839/2556 [05:57<02:28,  4.82it/s]\u001b[A\u001b[A\n",
            "\n",
            " 72%|███████▏  | 1840/2556 [05:57<02:27,  4.84it/s]\u001b[A\u001b[A\n",
            "\n",
            " 72%|███████▏  | 1841/2556 [05:58<02:21,  5.06it/s]\u001b[A\u001b[A\n",
            "\n",
            " 72%|███████▏  | 1842/2556 [05:58<02:17,  5.19it/s]\u001b[A\u001b[A\n",
            "\n",
            " 72%|███████▏  | 1843/2556 [05:58<02:21,  5.05it/s]\u001b[A\u001b[A\n",
            "\n",
            " 72%|███████▏  | 1844/2556 [05:58<02:18,  5.14it/s]\u001b[A\u001b[A\n",
            "\n",
            " 72%|███████▏  | 1845/2556 [05:58<02:20,  5.05it/s]\u001b[A\u001b[A\n",
            "\n",
            " 72%|███████▏  | 1846/2556 [05:58<02:21,  5.02it/s]\u001b[A\u001b[A\n",
            "\n",
            " 72%|███████▏  | 1847/2556 [05:59<02:19,  5.08it/s]\u001b[A\u001b[A\n",
            "\n",
            " 72%|███████▏  | 1848/2556 [05:59<02:22,  4.98it/s]\u001b[A\u001b[A\n",
            "\n",
            " 72%|███████▏  | 1849/2556 [05:59<02:17,  5.15it/s]\u001b[A\u001b[A\n",
            "\n",
            " 72%|███████▏  | 1850/2556 [05:59<02:15,  5.21it/s]\u001b[A\u001b[A\n",
            "\n",
            " 72%|███████▏  | 1851/2556 [05:59<02:14,  5.26it/s]\u001b[A\u001b[A\n",
            "\n",
            " 72%|███████▏  | 1852/2556 [06:00<02:11,  5.34it/s]\u001b[A\u001b[A\n",
            "\n",
            " 72%|███████▏  | 1853/2556 [06:00<02:18,  5.06it/s]\u001b[A\u001b[A\n",
            "\n",
            " 73%|███████▎  | 1854/2556 [06:00<02:16,  5.16it/s]\u001b[A\u001b[A\n",
            "\n",
            " 73%|███████▎  | 1855/2556 [06:00<02:12,  5.28it/s]\u001b[A\u001b[A\n",
            "\n",
            " 73%|███████▎  | 1856/2556 [06:00<02:13,  5.25it/s]\u001b[A\u001b[A\n",
            "\n",
            " 73%|███████▎  | 1857/2556 [06:01<02:11,  5.31it/s]\u001b[A\u001b[A\n",
            "\n",
            " 73%|███████▎  | 1858/2556 [06:01<02:10,  5.34it/s]\u001b[A\u001b[A\n",
            "\n",
            " 73%|███████▎  | 1859/2556 [06:01<02:17,  5.05it/s]\u001b[A\u001b[A\n",
            "\n",
            " 73%|███████▎  | 1860/2556 [06:01<02:29,  4.65it/s]\u001b[A\u001b[A\n",
            "\n",
            " 73%|███████▎  | 1861/2556 [06:01<02:36,  4.45it/s]\u001b[A\u001b[A\n",
            "\n",
            " 73%|███████▎  | 1862/2556 [06:02<02:39,  4.36it/s]\u001b[A\u001b[A\n",
            "\n",
            " 73%|███████▎  | 1863/2556 [06:02<02:32,  4.53it/s]\u001b[A\u001b[A\n",
            "\n",
            " 73%|███████▎  | 1864/2556 [06:02<02:30,  4.60it/s]\u001b[A\u001b[A\n",
            "\n",
            " 73%|███████▎  | 1865/2556 [06:02<02:22,  4.86it/s]\u001b[A\u001b[A\n",
            "\n",
            " 73%|███████▎  | 1866/2556 [06:03<02:18,  4.97it/s]\u001b[A\u001b[A\n",
            "\n",
            " 73%|███████▎  | 1867/2556 [06:03<02:14,  5.12it/s]\u001b[A\u001b[A\n",
            "\n",
            " 73%|███████▎  | 1868/2556 [06:03<02:17,  5.01it/s]\u001b[A\u001b[A\n",
            "\n",
            " 73%|███████▎  | 1869/2556 [06:03<02:20,  4.90it/s]\u001b[A\u001b[A\n",
            "\n",
            " 73%|███████▎  | 1870/2556 [06:03<02:14,  5.09it/s]\u001b[A\u001b[A\n",
            "\n",
            " 73%|███████▎  | 1871/2556 [06:04<02:15,  5.07it/s]\u001b[A\u001b[A\n",
            "\n",
            " 73%|███████▎  | 1872/2556 [06:04<02:12,  5.15it/s]\u001b[A\u001b[A\n",
            "\n",
            " 73%|███████▎  | 1873/2556 [06:04<02:12,  5.14it/s]\u001b[A\u001b[A\n",
            "\n",
            " 73%|███████▎  | 1874/2556 [06:04<02:13,  5.12it/s]\u001b[A\u001b[A\n",
            "\n",
            " 73%|███████▎  | 1875/2556 [06:04<02:12,  5.14it/s]\u001b[A\u001b[A\n",
            "\n",
            " 73%|███████▎  | 1876/2556 [06:04<02:10,  5.23it/s]\u001b[A\u001b[A\n",
            "\n",
            " 73%|███████▎  | 1877/2556 [06:05<02:09,  5.24it/s]\u001b[A\u001b[A\n",
            "\n",
            " 73%|███████▎  | 1878/2556 [06:05<02:07,  5.32it/s]\u001b[A\u001b[A\n",
            "\n",
            " 74%|███████▎  | 1879/2556 [06:05<02:08,  5.28it/s]\u001b[A\u001b[A\n",
            "\n",
            " 74%|███████▎  | 1880/2556 [06:05<02:11,  5.15it/s]\u001b[A\u001b[A\n",
            "\n",
            " 74%|███████▎  | 1881/2556 [06:05<02:13,  5.06it/s]\u001b[A\u001b[A"
          ],
          "name": "stderr"
        },
        {
          "output_type": "stream",
          "text": [
            "AI Trader bought:  $ 145.630005\n"
          ],
          "name": "stdout"
        },
        {
          "output_type": "stream",
          "text": [
            "\n",
            "\n",
            " 74%|███████▎  | 1882/2556 [06:06<02:14,  5.02it/s]\u001b[A\u001b[A"
          ],
          "name": "stderr"
        },
        {
          "output_type": "stream",
          "text": [
            "AI Trader sold:  $ 146.279999  Profit: $ 0.649994\n"
          ],
          "name": "stdout"
        },
        {
          "output_type": "stream",
          "text": [
            "\n",
            "\n",
            " 74%|███████▎  | 1883/2556 [06:06<02:11,  5.14it/s]\u001b[A\u001b[A\n",
            "\n",
            " 74%|███████▎  | 1884/2556 [06:06<02:10,  5.15it/s]\u001b[A\u001b[A\n",
            "\n",
            " 74%|███████▎  | 1885/2556 [06:06<02:10,  5.13it/s]\u001b[A\u001b[A\n",
            "\n",
            " 74%|███████▍  | 1886/2556 [06:06<02:10,  5.13it/s]\u001b[A\u001b[A\n",
            "\n",
            " 74%|███████▍  | 1887/2556 [06:07<02:08,  5.21it/s]\u001b[A\u001b[A\n",
            "\n",
            " 74%|███████▍  | 1888/2556 [06:07<02:09,  5.16it/s]\u001b[A\u001b[A\n",
            "\n",
            " 74%|███████▍  | 1889/2556 [06:07<02:08,  5.18it/s]\u001b[A\u001b[A\n",
            "\n",
            " 74%|███████▍  | 1890/2556 [06:07<02:09,  5.14it/s]\u001b[A\u001b[A\n",
            "\n",
            " 74%|███████▍  | 1891/2556 [06:07<02:14,  4.93it/s]\u001b[A\u001b[A\n",
            "\n",
            " 74%|███████▍  | 1892/2556 [06:08<02:12,  5.02it/s]\u001b[A\u001b[A\n",
            "\n",
            " 74%|███████▍  | 1893/2556 [06:08<02:10,  5.07it/s]\u001b[A\u001b[A\n",
            "\n",
            " 74%|███████▍  | 1894/2556 [06:08<02:10,  5.08it/s]\u001b[A\u001b[A\n",
            "\n",
            " 74%|███████▍  | 1895/2556 [06:08<02:09,  5.10it/s]\u001b[A\u001b[A\n",
            "\n",
            " 74%|███████▍  | 1896/2556 [06:08<02:10,  5.07it/s]\u001b[A\u001b[A\n",
            "\n",
            " 74%|███████▍  | 1897/2556 [06:09<02:10,  5.07it/s]\u001b[A\u001b[A\n",
            "\n",
            " 74%|███████▍  | 1898/2556 [06:09<02:07,  5.16it/s]\u001b[A\u001b[A\n",
            "\n",
            " 74%|███████▍  | 1899/2556 [06:09<02:10,  5.03it/s]\u001b[A\u001b[A\n",
            "\n",
            " 74%|███████▍  | 1900/2556 [06:09<02:07,  5.16it/s]\u001b[A\u001b[A\n",
            "\n",
            " 74%|███████▍  | 1901/2556 [06:09<02:06,  5.18it/s]\u001b[A\u001b[A\n",
            "\n",
            " 74%|███████▍  | 1902/2556 [06:10<02:12,  4.93it/s]\u001b[A\u001b[A\n",
            "\n",
            " 74%|███████▍  | 1903/2556 [06:10<02:07,  5.11it/s]\u001b[A\u001b[A\n",
            "\n",
            " 74%|███████▍  | 1904/2556 [06:10<02:06,  5.15it/s]\u001b[A\u001b[A\n",
            "\n",
            " 75%|███████▍  | 1905/2556 [06:10<02:09,  5.02it/s]\u001b[A\u001b[A\n",
            "\n",
            " 75%|███████▍  | 1906/2556 [06:10<02:06,  5.15it/s]\u001b[A\u001b[A\n",
            "\n",
            " 75%|███████▍  | 1907/2556 [06:11<02:06,  5.13it/s]\u001b[A\u001b[A\n",
            "\n",
            " 75%|███████▍  | 1908/2556 [06:11<02:05,  5.15it/s]\u001b[A\u001b[A\n",
            "\n",
            " 75%|███████▍  | 1909/2556 [06:11<02:02,  5.29it/s]\u001b[A\u001b[A\n",
            "\n",
            " 75%|███████▍  | 1910/2556 [06:11<02:06,  5.11it/s]\u001b[A\u001b[A\n",
            "\n",
            " 75%|███████▍  | 1911/2556 [06:11<02:02,  5.27it/s]\u001b[A\u001b[A\n",
            "\n",
            " 75%|███████▍  | 1912/2556 [06:11<02:03,  5.23it/s]\u001b[A\u001b[A\n",
            "\n",
            " 75%|███████▍  | 1913/2556 [06:12<02:03,  5.22it/s]\u001b[A\u001b[A\n",
            "\n",
            " 75%|███████▍  | 1914/2556 [06:12<02:03,  5.18it/s]\u001b[A\u001b[A\n",
            "\n",
            " 75%|███████▍  | 1915/2556 [06:12<02:08,  5.01it/s]\u001b[A\u001b[A\n",
            "\n",
            " 75%|███████▍  | 1916/2556 [06:12<02:07,  5.02it/s]\u001b[A\u001b[A\n",
            "\n",
            " 75%|███████▌  | 1917/2556 [06:12<02:09,  4.95it/s]\u001b[A\u001b[A\n",
            "\n",
            " 75%|███████▌  | 1918/2556 [06:13<02:09,  4.93it/s]\u001b[A\u001b[A\n",
            "\n",
            " 75%|███████▌  | 1919/2556 [06:13<02:04,  5.10it/s]\u001b[A\u001b[A\n",
            "\n",
            " 75%|███████▌  | 1920/2556 [06:13<02:06,  5.04it/s]\u001b[A\u001b[A\n",
            "\n",
            " 75%|███████▌  | 1921/2556 [06:13<02:03,  5.15it/s]\u001b[A\u001b[A\n",
            "\n",
            " 75%|███████▌  | 1922/2556 [06:13<02:01,  5.21it/s]\u001b[A\u001b[A\n",
            "\n",
            " 75%|███████▌  | 1923/2556 [06:14<02:00,  5.26it/s]\u001b[A\u001b[A\n",
            "\n",
            " 75%|███████▌  | 1924/2556 [06:14<02:05,  5.02it/s]\u001b[A\u001b[A\n",
            "\n",
            " 75%|███████▌  | 1925/2556 [06:14<02:04,  5.05it/s]\u001b[A\u001b[A\n",
            "\n",
            " 75%|███████▌  | 1926/2556 [06:14<02:04,  5.05it/s]\u001b[A\u001b[A\n",
            "\n",
            " 75%|███████▌  | 1927/2556 [06:14<02:03,  5.11it/s]\u001b[A\u001b[A\n",
            "\n",
            " 75%|███████▌  | 1928/2556 [06:15<02:03,  5.10it/s]\u001b[A\u001b[A\n",
            "\n",
            " 75%|███████▌  | 1929/2556 [06:15<02:04,  5.03it/s]\u001b[A\u001b[A\n",
            "\n",
            " 76%|███████▌  | 1930/2556 [06:15<02:01,  5.16it/s]\u001b[A\u001b[A\n",
            "\n",
            " 76%|███████▌  | 1931/2556 [06:15<02:02,  5.12it/s]\u001b[A\u001b[A\n",
            "\n",
            " 76%|███████▌  | 1932/2556 [06:15<02:00,  5.16it/s]\u001b[A\u001b[A\n",
            "\n",
            " 76%|███████▌  | 1933/2556 [06:16<01:58,  5.24it/s]\u001b[A\u001b[A\n",
            "\n",
            " 76%|███████▌  | 1934/2556 [06:16<01:59,  5.20it/s]\u001b[A\u001b[A\n",
            "\n",
            " 76%|███████▌  | 1935/2556 [06:16<01:57,  5.28it/s]\u001b[A\u001b[A\n",
            "\n",
            " 76%|███████▌  | 1936/2556 [06:16<02:00,  5.13it/s]\u001b[A\u001b[A\n",
            "\n",
            " 76%|███████▌  | 1937/2556 [06:16<02:00,  5.13it/s]\u001b[A\u001b[A\n",
            "\n",
            " 76%|███████▌  | 1938/2556 [06:17<01:57,  5.27it/s]\u001b[A\u001b[A\n",
            "\n",
            " 76%|███████▌  | 1939/2556 [06:17<01:57,  5.23it/s]\u001b[A\u001b[A\n",
            "\n",
            " 76%|███████▌  | 1940/2556 [06:17<01:58,  5.20it/s]\u001b[A\u001b[A\n",
            "\n",
            " 76%|███████▌  | 1941/2556 [06:17<02:00,  5.11it/s]\u001b[A\u001b[A\n",
            "\n",
            " 76%|███████▌  | 1942/2556 [06:17<02:02,  5.01it/s]\u001b[A\u001b[A\n",
            "\n",
            " 76%|███████▌  | 1943/2556 [06:18<02:04,  4.94it/s]\u001b[A\u001b[A\n",
            "\n",
            " 76%|███████▌  | 1944/2556 [06:18<02:05,  4.87it/s]\u001b[A\u001b[A\n",
            "\n",
            " 76%|███████▌  | 1945/2556 [06:18<02:09,  4.73it/s]\u001b[A\u001b[A\n",
            "\n",
            " 76%|███████▌  | 1946/2556 [06:18<02:06,  4.81it/s]\u001b[A\u001b[A\n",
            "\n",
            " 76%|███████▌  | 1947/2556 [06:18<02:04,  4.91it/s]\u001b[A\u001b[A"
          ],
          "name": "stderr"
        },
        {
          "output_type": "stream",
          "text": [
            "AI Trader bought:  $ 153.139999\n"
          ],
          "name": "stdout"
        },
        {
          "output_type": "stream",
          "text": [
            "\n",
            "\n",
            " 76%|███████▌  | 1948/2556 [06:19<01:59,  5.07it/s]\u001b[A\u001b[A\n",
            "\n",
            " 76%|███████▋  | 1949/2556 [06:19<01:56,  5.19it/s]\u001b[A\u001b[A\n",
            "\n",
            " 76%|███████▋  | 1950/2556 [06:19<01:58,  5.13it/s]\u001b[A\u001b[A"
          ],
          "name": "stderr"
        },
        {
          "output_type": "stream",
          "text": [
            "AI Trader sold:  $ 154.119995  Profit: $ 0.979996\n"
          ],
          "name": "stdout"
        },
        {
          "output_type": "stream",
          "text": [
            "\n",
            "\n",
            " 76%|███████▋  | 1951/2556 [06:19<02:00,  5.04it/s]\u001b[A\u001b[A\n",
            "\n",
            " 76%|███████▋  | 1952/2556 [06:19<02:03,  4.91it/s]\u001b[A\u001b[A\n",
            "\n",
            " 76%|███████▋  | 1953/2556 [06:20<02:03,  4.87it/s]\u001b[A\u001b[A\n",
            "\n",
            " 76%|███████▋  | 1954/2556 [06:20<02:14,  4.48it/s]\u001b[A\u001b[A\n",
            "\n",
            " 76%|███████▋  | 1955/2556 [06:20<02:18,  4.34it/s]\u001b[A\u001b[A\n",
            "\n",
            " 77%|███████▋  | 1956/2556 [06:20<02:23,  4.19it/s]\u001b[A\u001b[A\n",
            "\n",
            " 77%|███████▋  | 1957/2556 [06:21<02:21,  4.23it/s]\u001b[A\u001b[A\n",
            "\n",
            " 77%|███████▋  | 1958/2556 [06:21<02:11,  4.53it/s]\u001b[A\u001b[A\n",
            "\n",
            " 77%|███████▋  | 1959/2556 [06:21<02:07,  4.68it/s]\u001b[A\u001b[A\n",
            "\n",
            " 77%|███████▋  | 1960/2556 [06:21<02:02,  4.88it/s]\u001b[A\u001b[A\n",
            "\n",
            " 77%|███████▋  | 1961/2556 [06:21<02:01,  4.88it/s]\u001b[A\u001b[A\n",
            "\n",
            " 77%|███████▋  | 1962/2556 [06:22<01:58,  5.01it/s]\u001b[A\u001b[A\n",
            "\n",
            " 77%|███████▋  | 1963/2556 [06:22<01:55,  5.15it/s]\u001b[A\u001b[A\n",
            "\n",
            " 77%|███████▋  | 1964/2556 [06:22<01:52,  5.25it/s]\u001b[A\u001b[A\n",
            "\n",
            " 77%|███████▋  | 1965/2556 [06:22<01:52,  5.25it/s]\u001b[A\u001b[A\n",
            "\n",
            " 77%|███████▋  | 1966/2556 [06:22<01:56,  5.07it/s]\u001b[A\u001b[A\n",
            "\n",
            " 77%|███████▋  | 1967/2556 [06:23<01:53,  5.18it/s]\u001b[A\u001b[A\n",
            "\n",
            " 77%|███████▋  | 1968/2556 [06:23<01:53,  5.20it/s]\u001b[A\u001b[A\n",
            "\n",
            " 77%|███████▋  | 1969/2556 [06:23<01:51,  5.28it/s]\u001b[A\u001b[A\n",
            "\n",
            " 77%|███████▋  | 1970/2556 [06:23<01:49,  5.35it/s]\u001b[A\u001b[A\n",
            "\n",
            " 77%|███████▋  | 1971/2556 [06:23<01:54,  5.10it/s]\u001b[A\u001b[A\n",
            "\n",
            " 77%|███████▋  | 1972/2556 [06:23<01:52,  5.19it/s]\u001b[A\u001b[A\n",
            "\n",
            " 77%|███████▋  | 1973/2556 [06:24<01:53,  5.14it/s]\u001b[A\u001b[A\n",
            "\n",
            " 77%|███████▋  | 1974/2556 [06:24<01:53,  5.14it/s]\u001b[A\u001b[A\n",
            "\n",
            " 77%|███████▋  | 1975/2556 [06:24<01:52,  5.18it/s]\u001b[A\u001b[A\n",
            "\n",
            " 77%|███████▋  | 1976/2556 [06:24<01:51,  5.19it/s]\u001b[A\u001b[A\n",
            "\n",
            " 77%|███████▋  | 1977/2556 [06:24<01:53,  5.09it/s]\u001b[A\u001b[A\n",
            "\n",
            " 77%|███████▋  | 1978/2556 [06:25<01:51,  5.17it/s]\u001b[A\u001b[A\n",
            "\n",
            " 77%|███████▋  | 1979/2556 [06:25<01:51,  5.18it/s]\u001b[A\u001b[A\n",
            "\n",
            " 77%|███████▋  | 1980/2556 [06:25<01:50,  5.24it/s]\u001b[A\u001b[A\n",
            "\n",
            " 78%|███████▊  | 1981/2556 [06:25<01:49,  5.26it/s]\u001b[A\u001b[A\n",
            "\n",
            " 78%|███████▊  | 1982/2556 [06:25<01:51,  5.13it/s]\u001b[A\u001b[A\n",
            "\n",
            " 78%|███████▊  | 1983/2556 [06:26<01:52,  5.10it/s]\u001b[A\u001b[A\n",
            "\n",
            " 78%|███████▊  | 1984/2556 [06:26<01:50,  5.20it/s]\u001b[A\u001b[A\n",
            "\n",
            " 78%|███████▊  | 1985/2556 [06:26<01:48,  5.28it/s]\u001b[A\u001b[A\n",
            "\n",
            " 78%|███████▊  | 1986/2556 [06:26<01:47,  5.31it/s]\u001b[A\u001b[A\n",
            "\n",
            " 78%|███████▊  | 1987/2556 [06:26<01:49,  5.19it/s]\u001b[A\u001b[A\n",
            "\n",
            " 78%|███████▊  | 1988/2556 [06:27<01:47,  5.27it/s]\u001b[A\u001b[A\n",
            "\n",
            " 78%|███████▊  | 1989/2556 [06:27<01:45,  5.35it/s]\u001b[A\u001b[A\n",
            "\n",
            " 78%|███████▊  | 1990/2556 [06:27<01:46,  5.33it/s]\u001b[A\u001b[A\n",
            "\n",
            " 78%|███████▊  | 1991/2556 [06:27<01:45,  5.36it/s]\u001b[A\u001b[A\n",
            "\n",
            " 78%|███████▊  | 1992/2556 [06:27<01:45,  5.33it/s]\u001b[A\u001b[A\n",
            "\n",
            " 78%|███████▊  | 1993/2556 [06:27<01:50,  5.12it/s]\u001b[A\u001b[A\n",
            "\n",
            " 78%|███████▊  | 1994/2556 [06:28<01:50,  5.09it/s]\u001b[A\u001b[A\n",
            "\n",
            " 78%|███████▊  | 1995/2556 [06:28<01:47,  5.21it/s]\u001b[A\u001b[A\n",
            "\n",
            " 78%|███████▊  | 1996/2556 [06:28<01:46,  5.24it/s]\u001b[A\u001b[A\n",
            "\n",
            " 78%|███████▊  | 1997/2556 [06:28<01:46,  5.26it/s]\u001b[A\u001b[A\n",
            "\n",
            " 78%|███████▊  | 1998/2556 [06:28<01:51,  5.02it/s]\u001b[A\u001b[A\n",
            "\n",
            " 78%|███████▊  | 1999/2556 [06:29<01:48,  5.13it/s]\u001b[A\u001b[A\n",
            "\n",
            " 78%|███████▊  | 2000/2556 [06:29<01:47,  5.19it/s]\u001b[A\u001b[A"
          ],
          "name": "stderr"
        },
        {
          "output_type": "stream",
          "text": [
            "AI Trader bought:  $ 172.669998\n"
          ],
          "name": "stdout"
        },
        {
          "output_type": "stream",
          "text": [
            "\n",
            "\n",
            " 78%|███████▊  | 2001/2556 [06:29<01:48,  5.11it/s]\u001b[A\u001b[A\n",
            "\n",
            " 78%|███████▊  | 2002/2556 [06:29<01:47,  5.16it/s]\u001b[A\u001b[A\n",
            "\n",
            " 78%|███████▊  | 2003/2556 [06:29<01:48,  5.09it/s]\u001b[A\u001b[A\n",
            "\n",
            " 78%|███████▊  | 2004/2556 [06:30<01:49,  5.02it/s]\u001b[A\u001b[A\n",
            "\n",
            " 78%|███████▊  | 2005/2556 [06:30<01:49,  5.04it/s]\u001b[A\u001b[A\n",
            "\n",
            " 78%|███████▊  | 2006/2556 [06:30<01:47,  5.09it/s]\u001b[A\u001b[A\n",
            "\n",
            " 79%|███████▊  | 2007/2556 [06:30<01:47,  5.10it/s]\u001b[A\u001b[A\n",
            "\n",
            " 79%|███████▊  | 2008/2556 [06:30<01:47,  5.12it/s]\u001b[A\u001b[A\n",
            "\n",
            " 79%|███████▊  | 2009/2556 [06:31<01:46,  5.13it/s]\u001b[A\u001b[A\n",
            "\n",
            " 79%|███████▊  | 2010/2556 [06:31<01:45,  5.16it/s]\u001b[A\u001b[A\n",
            "\n",
            " 79%|███████▊  | 2011/2556 [06:31<01:43,  5.24it/s]\u001b[A\u001b[A\n",
            "\n",
            " 79%|███████▊  | 2012/2556 [06:31<01:44,  5.21it/s]\u001b[A\u001b[A\n",
            "\n",
            " 79%|███████▉  | 2013/2556 [06:31<01:42,  5.29it/s]\u001b[A\u001b[A\n",
            "\n",
            " 79%|███████▉  | 2014/2556 [06:32<01:45,  5.15it/s]\u001b[A\u001b[A\n",
            "\n",
            " 79%|███████▉  | 2015/2556 [06:32<01:44,  5.16it/s]\u001b[A\u001b[A\n",
            "\n",
            " 79%|███████▉  | 2016/2556 [06:32<01:44,  5.18it/s]\u001b[A\u001b[A"
          ],
          "name": "stderr"
        },
        {
          "output_type": "stream",
          "text": [
            "AI Trader sold:  $ 173.029999  Profit: $ 0.360001\n"
          ],
          "name": "stdout"
        },
        {
          "output_type": "stream",
          "text": [
            "\n",
            "\n",
            " 79%|███████▉  | 2017/2556 [06:32<01:47,  5.00it/s]\u001b[A\u001b[A\n",
            "\n",
            " 79%|███████▉  | 2018/2556 [06:32<01:44,  5.16it/s]\u001b[A\u001b[A\n",
            "\n",
            " 79%|███████▉  | 2019/2556 [06:33<01:43,  5.18it/s]\u001b[A\u001b[A\n",
            "\n",
            " 79%|███████▉  | 2020/2556 [06:33<01:45,  5.09it/s]\u001b[A\u001b[A\n",
            "\n",
            " 79%|███████▉  | 2021/2556 [06:33<01:44,  5.13it/s]\u001b[A\u001b[A\n",
            "\n",
            " 79%|███████▉  | 2022/2556 [06:33<01:46,  4.99it/s]\u001b[A\u001b[A\n",
            "\n",
            " 79%|███████▉  | 2023/2556 [06:33<01:45,  5.04it/s]\u001b[A\u001b[A\n",
            "\n",
            " 79%|███████▉  | 2024/2556 [06:34<01:46,  4.98it/s]\u001b[A\u001b[A\n",
            "\n",
            " 79%|███████▉  | 2025/2556 [06:34<01:45,  5.05it/s]\u001b[A\u001b[A\n",
            "\n",
            " 79%|███████▉  | 2026/2556 [06:34<01:49,  4.84it/s]\u001b[A\u001b[A\n",
            "\n",
            " 79%|███████▉  | 2027/2556 [06:34<01:49,  4.85it/s]\u001b[A\u001b[A\n",
            "\n",
            " 79%|███████▉  | 2028/2556 [06:34<01:47,  4.91it/s]\u001b[A\u001b[A\n",
            "\n",
            " 79%|███████▉  | 2029/2556 [06:35<01:47,  4.90it/s]\u001b[A\u001b[A\n",
            "\n",
            " 79%|███████▉  | 2030/2556 [06:35<01:47,  4.87it/s]\u001b[A\u001b[A\n",
            "\n",
            " 79%|███████▉  | 2031/2556 [06:35<01:45,  4.99it/s]\u001b[A\u001b[A\n",
            "\n",
            " 79%|███████▉  | 2032/2556 [06:35<01:43,  5.08it/s]\u001b[A\u001b[A\n",
            "\n",
            " 80%|███████▉  | 2033/2556 [06:35<01:44,  5.01it/s]\u001b[A\u001b[A\n",
            "\n",
            " 80%|███████▉  | 2034/2556 [06:36<01:42,  5.08it/s]\u001b[A\u001b[A\n",
            "\n",
            " 80%|███████▉  | 2035/2556 [06:36<01:42,  5.08it/s]\u001b[A\u001b[A\n",
            "\n",
            " 80%|███████▉  | 2036/2556 [06:36<01:42,  5.08it/s]\u001b[A\u001b[A\n",
            "\n",
            " 80%|███████▉  | 2037/2556 [06:36<01:42,  5.04it/s]\u001b[A\u001b[A\n",
            "\n"
          ],
          "name": "stderr"
        },
        {
          "output_type": "stream",
          "text": [
            "AI Trader bought:  $ 163.029999\n"
          ],
          "name": "stdout"
        },
        {
          "output_type": "stream",
          "text": [
            "\r 80%|███████▉  | 2038/2556 [06:36<01:44,  4.97it/s]\u001b[A\u001b[A\n",
            "\n",
            " 80%|███████▉  | 2039/2556 [06:37<01:45,  4.90it/s]\u001b[A\u001b[A\n",
            "\n",
            " 80%|███████▉  | 2040/2556 [06:37<01:42,  5.02it/s]\u001b[A\u001b[A\n",
            "\n",
            " 80%|███████▉  | 2041/2556 [06:37<01:42,  5.03it/s]\u001b[A\u001b[A\n",
            "\n",
            " 80%|███████▉  | 2042/2556 [06:37<01:41,  5.05it/s]\u001b[A\u001b[A\n",
            "\n",
            " 80%|███████▉  | 2043/2556 [06:37<01:40,  5.08it/s]\u001b[A\u001b[A"
          ],
          "name": "stderr"
        },
        {
          "output_type": "stream",
          "text": [
            "AI Trader sold:  $ 164.339996  Profit: $ 1.309998\n"
          ],
          "name": "stdout"
        },
        {
          "output_type": "stream",
          "text": [
            "\n",
            "\n",
            " 80%|███████▉  | 2044/2556 [06:38<01:42,  5.01it/s]\u001b[A\u001b[A\n",
            "\n",
            " 80%|████████  | 2045/2556 [06:38<01:40,  5.10it/s]\u001b[A\u001b[A\n",
            "\n",
            " 80%|████████  | 2046/2556 [06:38<01:38,  5.15it/s]\u001b[A\u001b[A\n",
            "\n",
            " 80%|████████  | 2047/2556 [06:38<01:41,  5.01it/s]\u001b[A\u001b[A\n",
            "\n",
            " 80%|████████  | 2048/2556 [06:38<01:39,  5.09it/s]\u001b[A\u001b[A\n",
            "\n",
            " 80%|████████  | 2049/2556 [06:39<01:38,  5.17it/s]\u001b[A\u001b[A\n",
            "\n",
            " 80%|████████  | 2050/2556 [06:39<01:37,  5.18it/s]\u001b[A\u001b[A\n",
            "\n",
            " 80%|████████  | 2051/2556 [06:39<01:43,  4.88it/s]\u001b[A\u001b[A\n",
            "\n",
            " 80%|████████  | 2052/2556 [06:39<01:42,  4.91it/s]\u001b[A\u001b[A\n",
            "\n",
            " 80%|████████  | 2053/2556 [06:39<01:40,  4.99it/s]\u001b[A\u001b[A\n",
            "\n",
            " 80%|████████  | 2054/2556 [06:40<01:40,  4.99it/s]\u001b[A\u001b[A\n",
            "\n",
            " 80%|████████  | 2055/2556 [06:40<01:39,  5.05it/s]\u001b[A\u001b[A\n",
            "\n",
            " 80%|████████  | 2056/2556 [06:40<01:37,  5.13it/s]\u001b[A\u001b[A\n",
            "\n",
            " 80%|████████  | 2057/2556 [06:40<01:38,  5.04it/s]\u001b[A\u001b[A\n",
            "\n",
            " 81%|████████  | 2058/2556 [06:40<01:39,  4.99it/s]\u001b[A\u001b[A\n",
            "\n",
            " 81%|████████  | 2059/2556 [06:41<01:36,  5.16it/s]\u001b[A\u001b[A\n",
            "\n",
            " 81%|████████  | 2060/2556 [06:41<01:40,  4.92it/s]\u001b[A\u001b[A\n",
            "\n",
            " 81%|████████  | 2061/2556 [06:41<01:37,  5.08it/s]\u001b[A\u001b[A\n",
            "\n",
            " 81%|████████  | 2062/2556 [06:41<01:35,  5.19it/s]\u001b[A\u001b[A\n",
            "\n",
            " 81%|████████  | 2063/2556 [06:41<01:36,  5.08it/s]\u001b[A\u001b[A\n",
            "\n",
            " 81%|████████  | 2064/2556 [06:41<01:35,  5.16it/s]\u001b[A\u001b[A\n",
            "\n",
            " 81%|████████  | 2065/2556 [06:42<01:35,  5.14it/s]\u001b[A\u001b[A\n",
            "\n",
            " 81%|████████  | 2066/2556 [06:42<01:33,  5.24it/s]\u001b[A\u001b[A\n",
            "\n",
            " 81%|████████  | 2067/2556 [06:42<01:33,  5.20it/s]\u001b[A\u001b[A"
          ],
          "name": "stderr"
        },
        {
          "output_type": "stream",
          "text": [
            "AI Trader bought:  $ 175.240005\n"
          ],
          "name": "stdout"
        },
        {
          "output_type": "stream",
          "text": [
            "\n",
            "\n",
            " 81%|████████  | 2068/2556 [06:42<01:37,  5.02it/s]\u001b[A\u001b[A\n",
            "\n",
            " 81%|████████  | 2069/2556 [06:42<01:35,  5.08it/s]\u001b[A\u001b[A\n",
            "\n",
            " 81%|████████  | 2070/2556 [06:43<01:35,  5.09it/s]\u001b[A\u001b[A\n",
            "\n",
            " 81%|████████  | 2071/2556 [06:43<01:35,  5.10it/s]\u001b[A\u001b[A\n",
            "\n",
            " 81%|████████  | 2072/2556 [06:43<01:33,  5.20it/s]\u001b[A\u001b[A\n",
            "\n",
            " 81%|████████  | 2073/2556 [06:43<01:32,  5.20it/s]\u001b[A\u001b[A\n",
            "\n",
            " 81%|████████  | 2074/2556 [06:43<01:32,  5.22it/s]\u001b[A\u001b[A\n",
            "\n",
            " 81%|████████  | 2075/2556 [06:44<01:30,  5.31it/s]\u001b[A\u001b[A\n",
            "\n",
            " 81%|████████  | 2076/2556 [06:44<01:35,  5.03it/s]\u001b[A\u001b[A\n",
            "\n",
            " 81%|████████▏ | 2077/2556 [06:44<01:34,  5.07it/s]\u001b[A\u001b[A\n",
            "\n",
            " 81%|████████▏ | 2078/2556 [06:44<01:32,  5.19it/s]\u001b[A\u001b[A"
          ],
          "name": "stderr"
        },
        {
          "output_type": "stream",
          "text": [
            "AI Trader bought:  $ 172.800003\n"
          ],
          "name": "stdout"
        },
        {
          "output_type": "stream",
          "text": [
            "\n",
            "\n",
            " 81%|████████▏ | 2079/2556 [06:44<01:32,  5.14it/s]\u001b[A\u001b[A\n",
            "\n",
            " 81%|████████▏ | 2080/2556 [06:45<01:32,  5.13it/s]\u001b[A\u001b[A\n",
            "\n",
            " 81%|████████▏ | 2081/2556 [06:45<01:33,  5.09it/s]\u001b[A\u001b[A"
          ],
          "name": "stderr"
        },
        {
          "output_type": "stream",
          "text": [
            "AI Trader sold:  $ 173.250000  Profit: - $ 1.990005\n",
            "AI Trader sold:  $ 172.440002  Profit: - $ 0.360001\n"
          ],
          "name": "stdout"
        },
        {
          "output_type": "stream",
          "text": [
            "\n",
            "\n",
            " 81%|████████▏ | 2082/2556 [06:45<01:33,  5.09it/s]\u001b[A\u001b[A\n",
            "\n",
            " 81%|████████▏ | 2083/2556 [06:45<01:31,  5.15it/s]\u001b[A\u001b[A\n",
            "\n",
            " 82%|████████▏ | 2084/2556 [06:45<01:30,  5.20it/s]\u001b[A\u001b[A\n",
            "\n",
            " 82%|████████▏ | 2085/2556 [06:46<01:31,  5.13it/s]\u001b[A\u001b[A\n",
            "\n",
            " 82%|████████▏ | 2086/2556 [06:46<01:31,  5.15it/s]\u001b[A\u001b[A\n",
            "\n",
            " 82%|████████▏ | 2087/2556 [06:46<01:33,  5.02it/s]\u001b[A\u001b[A\n",
            "\n",
            " 82%|████████▏ | 2088/2556 [06:46<01:39,  4.69it/s]\u001b[A\u001b[A\n",
            "\n",
            " 82%|████████▏ | 2089/2556 [06:46<01:45,  4.43it/s]\u001b[A\u001b[A\n",
            "\n",
            " 82%|████████▏ | 2090/2556 [06:47<01:48,  4.31it/s]\u001b[A\u001b[A\n",
            "\n",
            " 82%|████████▏ | 2091/2556 [06:47<01:46,  4.36it/s]\u001b[A\u001b[A\n",
            "\n",
            " 82%|████████▏ | 2092/2556 [06:47<01:40,  4.62it/s]\u001b[A\u001b[A\n",
            "\n",
            " 82%|████████▏ | 2093/2556 [06:47<01:37,  4.76it/s]\u001b[A\u001b[A\n",
            "\n",
            " 82%|████████▏ | 2094/2556 [06:48<01:35,  4.83it/s]\u001b[A\u001b[A"
          ],
          "name": "stderr"
        },
        {
          "output_type": "stream",
          "text": [
            "AI Trader bought:  $ 165.259995\n"
          ],
          "name": "stdout"
        },
        {
          "output_type": "stream",
          "text": [
            "\n",
            "\n",
            " 82%|████████▏ | 2095/2556 [06:48<01:37,  4.73it/s]\u001b[A\u001b[A\n",
            "\n",
            " 82%|████████▏ | 2096/2556 [06:48<01:35,  4.81it/s]\u001b[A\u001b[A\n",
            "\n",
            " 82%|████████▏ | 2097/2556 [06:48<01:33,  4.92it/s]\u001b[A\u001b[A"
          ],
          "name": "stderr"
        },
        {
          "output_type": "stream",
          "text": [
            "AI Trader bought:  $ 176.570007\n"
          ],
          "name": "stdout"
        },
        {
          "output_type": "stream",
          "text": [
            "\n",
            "\n",
            " 82%|████████▏ | 2098/2556 [06:48<01:31,  5.03it/s]\u001b[A\u001b[A\n",
            "\n",
            " 82%|████████▏ | 2099/2556 [06:49<01:30,  5.06it/s]\u001b[A\u001b[A\n",
            "\n",
            " 82%|████████▏ | 2100/2556 [06:49<01:30,  5.05it/s]\u001b[A\u001b[A\n",
            "\n",
            " 82%|████████▏ | 2101/2556 [06:49<01:30,  5.03it/s]\u001b[A\u001b[A\n",
            "\n",
            " 82%|████████▏ | 2102/2556 [06:49<01:30,  4.99it/s]\u001b[A\u001b[A\n",
            "\n",
            " 82%|████████▏ | 2103/2556 [06:49<01:42,  4.41it/s]\u001b[A\u001b[A\n",
            "\n",
            " 82%|████████▏ | 2104/2556 [06:50<01:46,  4.24it/s]\u001b[A\u001b[A\n",
            "\n",
            " 82%|████████▏ | 2105/2556 [06:50<01:49,  4.13it/s]\u001b[A\u001b[A\n",
            "\n",
            " 82%|████████▏ | 2106/2556 [06:50<01:50,  4.06it/s]\u001b[A\u001b[A\n",
            "\n",
            " 82%|████████▏ | 2107/2556 [06:50<01:51,  4.04it/s]\u001b[A\u001b[A\n",
            "\n",
            " 82%|████████▏ | 2108/2556 [06:51<01:47,  4.16it/s]\u001b[A\u001b[A\n",
            "\n",
            " 83%|████████▎ | 2109/2556 [06:51<01:43,  4.31it/s]\u001b[A\u001b[A\n",
            "\n",
            " 83%|████████▎ | 2110/2556 [06:51<01:40,  4.45it/s]\u001b[A\u001b[A\n",
            "\n",
            " 83%|████████▎ | 2111/2556 [06:51<01:39,  4.48it/s]\u001b[A\u001b[A\n",
            "\n",
            " 83%|████████▎ | 2112/2556 [06:51<01:34,  4.69it/s]\u001b[A\u001b[A\n",
            "\n",
            " 83%|████████▎ | 2113/2556 [06:52<01:36,  4.61it/s]\u001b[A\u001b[A"
          ],
          "name": "stderr"
        },
        {
          "output_type": "stream",
          "text": [
            "AI Trader bought:  $ 188.580002\n"
          ],
          "name": "stdout"
        },
        {
          "output_type": "stream",
          "text": [
            "\n",
            "\n",
            " 83%|████████▎ | 2114/2556 [06:52<01:36,  4.60it/s]\u001b[A\u001b[A\n",
            "\n",
            " 83%|████████▎ | 2115/2556 [06:52<01:32,  4.77it/s]\u001b[A\u001b[A\n",
            "\n",
            " 83%|████████▎ | 2116/2556 [06:52<01:31,  4.82it/s]\u001b[A\u001b[A\n",
            "\n",
            " 83%|████████▎ | 2117/2556 [06:53<01:31,  4.80it/s]\u001b[A\u001b[A\n",
            "\n",
            " 83%|████████▎ | 2118/2556 [06:53<01:31,  4.81it/s]\u001b[A\u001b[A"
          ],
          "name": "stderr"
        },
        {
          "output_type": "stream",
          "text": [
            "AI Trader sold:  $ 191.830002  Profit: $ 26.570007\n"
          ],
          "name": "stdout"
        },
        {
          "output_type": "stream",
          "text": [
            "\n",
            "\n",
            " 83%|████████▎ | 2119/2556 [06:53<01:31,  4.77it/s]\u001b[A\u001b[A\n",
            "\n",
            " 83%|████████▎ | 2120/2556 [06:53<01:30,  4.83it/s]\u001b[A\u001b[A"
          ],
          "name": "stderr"
        },
        {
          "output_type": "stream",
          "text": [
            "AI Trader sold:  $ 193.309998  Profit: $ 16.739990\n"
          ],
          "name": "stdout"
        },
        {
          "output_type": "stream",
          "text": [
            "\n",
            "\n",
            " 83%|████████▎ | 2121/2556 [06:53<01:29,  4.85it/s]"
          ],
          "name": "stderr"
        },
        {
          "output_type": "stream",
          "text": [
            "AI Trader sold:  $ 193.979996  Profit: $ 5.399994\n"
          ],
          "name": "stdout"
        },
        {
          "output_type": "stream",
          "text": [
            "\u001b[A\u001b[A\n",
            "\n",
            " 83%|████████▎ | 2122/2556 [06:54<01:28,  4.90it/s]\u001b[A\u001b[A\n",
            "\n",
            " 83%|████████▎ | 2123/2556 [06:54<01:27,  4.93it/s]\u001b[A\u001b[A"
          ],
          "name": "stderr"
        },
        {
          "output_type": "stream",
          "text": [
            "AI Trader bought:  $ 191.229996\n"
          ],
          "name": "stdout"
        },
        {
          "output_type": "stream",
          "text": [
            "\n",
            "\n",
            " 83%|████████▎ | 2124/2556 [06:54<01:31,  4.73it/s]\u001b[A\u001b[A\n",
            "\n",
            " 83%|████████▎ | 2125/2556 [06:54<01:29,  4.83it/s]\u001b[A\u001b[A"
          ],
          "name": "stderr"
        },
        {
          "output_type": "stream",
          "text": [
            "AI Trader sold:  $ 192.279999  Profit: $ 1.050003\n"
          ],
          "name": "stdout"
        },
        {
          "output_type": "stream",
          "text": [
            "\n",
            "\n",
            " 83%|████████▎ | 2126/2556 [06:54<01:27,  4.90it/s]\u001b[A\u001b[A\n",
            "\n",
            " 83%|████████▎ | 2127/2556 [06:55<01:27,  4.93it/s]\u001b[A\u001b[A\n",
            "\n",
            " 83%|████████▎ | 2128/2556 [06:55<01:26,  4.96it/s]\u001b[A\u001b[A\n",
            "\n",
            " 83%|████████▎ | 2129/2556 [06:55<01:30,  4.74it/s]\u001b[A\u001b[A\n",
            "\n",
            " 83%|████████▎ | 2130/2556 [06:55<01:28,  4.82it/s]\u001b[A\u001b[A\n",
            "\n",
            " 83%|████████▎ | 2131/2556 [06:55<01:26,  4.92it/s]\u001b[A\u001b[A\n",
            "\n",
            " 83%|████████▎ | 2132/2556 [06:56<01:26,  4.91it/s]\u001b[A\u001b[A\n",
            "\n",
            " 83%|████████▎ | 2133/2556 [06:56<01:24,  5.03it/s]\u001b[A\u001b[A\n",
            "\n",
            " 83%|████████▎ | 2134/2556 [06:56<01:27,  4.82it/s]\u001b[A\u001b[A\n",
            "\n",
            " 84%|████████▎ | 2135/2556 [06:56<01:26,  4.88it/s]\u001b[A\u001b[A\n",
            "\n"
          ],
          "name": "stderr"
        },
        {
          "output_type": "stream",
          "text": [
            "AI Trader bought:  $ 184.160004\n"
          ],
          "name": "stdout"
        },
        {
          "output_type": "stream",
          "text": [
            "\r 84%|████████▎ | 2136/2556 [06:56<01:26,  4.86it/s]\u001b[A\u001b[A\n",
            "\n"
          ],
          "name": "stderr"
        },
        {
          "output_type": "stream",
          "text": [
            "AI Trader sold:  $ 185.500000  Profit: $ 1.339996\n"
          ],
          "name": "stdout"
        },
        {
          "output_type": "stream",
          "text": [
            "\r 84%|████████▎ | 2137/2556 [06:57<01:26,  4.86it/s]\u001b[A\u001b[A\n",
            "\n",
            " 84%|████████▎ | 2138/2556 [06:57<01:25,  4.88it/s]\u001b[A\u001b[A\n",
            "\n",
            " 84%|████████▎ | 2139/2556 [06:57<01:29,  4.68it/s]\u001b[A\u001b[A"
          ],
          "name": "stderr"
        },
        {
          "output_type": "stream",
          "text": [
            "AI Trader bought:  $ 183.919998\n"
          ],
          "name": "stdout"
        },
        {
          "output_type": "stream",
          "text": [
            "\n",
            "\n",
            " 84%|████████▎ | 2140/2556 [06:57<01:29,  4.66it/s]\u001b[A\u001b[A\n",
            "\n",
            " 84%|████████▍ | 2141/2556 [06:58<01:27,  4.74it/s]\u001b[A\u001b[A"
          ],
          "name": "stderr"
        },
        {
          "output_type": "stream",
          "text": [
            "AI Trader bought:  $ 185.399994\n"
          ],
          "name": "stdout"
        },
        {
          "output_type": "stream",
          "text": [
            "\n",
            "\n",
            " 84%|████████▍ | 2142/2556 [06:58<01:27,  4.75it/s]\u001b[A\u001b[A\n",
            "\n",
            " 84%|████████▍ | 2143/2556 [06:58<01:25,  4.85it/s]\u001b[A\u001b[A"
          ],
          "name": "stderr"
        },
        {
          "output_type": "stream",
          "text": [
            "AI Trader bought:  $ 190.350006\n"
          ],
          "name": "stdout"
        },
        {
          "output_type": "stream",
          "text": [
            "\n",
            "\n",
            " 84%|████████▍ | 2144/2556 [06:58<01:26,  4.77it/s]\u001b[A\u001b[A\n",
            "\n",
            " 84%|████████▍ | 2145/2556 [06:58<01:27,  4.71it/s]\u001b[A\u001b[A\n",
            "\n",
            " 84%|████████▍ | 2146/2556 [06:59<01:23,  4.89it/s]\u001b[A\u001b[A\n",
            "\n",
            " 84%|████████▍ | 2147/2556 [06:59<01:25,  4.78it/s]\u001b[A\u001b[A\n",
            "\n",
            " 84%|████████▍ | 2148/2556 [06:59<01:23,  4.86it/s]\u001b[A\u001b[A"
          ],
          "name": "stderr"
        },
        {
          "output_type": "stream",
          "text": [
            "AI Trader sold:  $ 190.910004  Profit: $ 6.990005\n"
          ],
          "name": "stdout"
        },
        {
          "output_type": "stream",
          "text": [
            "\n",
            "\n",
            " 84%|████████▍ | 2149/2556 [06:59<01:23,  4.87it/s]\u001b[A\u001b[A\n",
            "\n",
            " 84%|████████▍ | 2150/2556 [06:59<01:23,  4.85it/s]\u001b[A\u001b[A\n",
            "\n",
            " 84%|████████▍ | 2151/2556 [07:00<01:21,  4.95it/s]\u001b[A\u001b[A"
          ],
          "name": "stderr"
        },
        {
          "output_type": "stream",
          "text": [
            "AI Trader sold:  $ 191.880005  Profit: $ 6.480011\n",
            "AI Trader sold:  $ 191.440002  Profit: $ 1.089996\n"
          ],
          "name": "stdout"
        },
        {
          "output_type": "stream",
          "text": [
            "\n",
            "\n",
            " 84%|████████▍ | 2152/2556 [07:00<01:24,  4.79it/s]\u001b[A\u001b[A\n",
            "\n",
            " 84%|████████▍ | 2153/2556 [07:00<01:21,  4.92it/s]\u001b[A\u001b[A\n",
            "\n",
            " 84%|████████▍ | 2154/2556 [07:00<01:23,  4.81it/s]\u001b[A\u001b[A\n",
            "\n",
            " 84%|████████▍ | 2155/2556 [07:00<01:24,  4.77it/s]\u001b[A\u001b[A\n",
            "\n",
            " 84%|████████▍ | 2156/2556 [07:01<01:21,  4.88it/s]\u001b[A\u001b[A\n",
            "\n",
            " 84%|████████▍ | 2157/2556 [07:01<01:21,  4.92it/s]\u001b[A\u001b[A\n",
            "\n",
            " 84%|████████▍ | 2158/2556 [07:01<01:22,  4.82it/s]\u001b[A\u001b[A"
          ],
          "name": "stderr"
        },
        {
          "output_type": "stream",
          "text": [
            "AI Trader bought:  $ 190.289993\n"
          ],
          "name": "stdout"
        },
        {
          "output_type": "stream",
          "text": [
            "\n",
            "\n",
            " 84%|████████▍ | 2159/2556 [07:01<01:30,  4.40it/s]\u001b[A\u001b[A"
          ],
          "name": "stderr"
        },
        {
          "output_type": "stream",
          "text": [
            "AI Trader sold:  $ 201.500000  Profit: $ 11.210007\n"
          ],
          "name": "stdout"
        },
        {
          "output_type": "stream",
          "text": [
            "\n",
            "\n",
            " 85%|████████▍ | 2160/2556 [07:02<01:34,  4.19it/s]\u001b[A\u001b[A\n",
            "\n",
            " 85%|████████▍ | 2161/2556 [07:02<01:36,  4.07it/s]\u001b[A\u001b[A\n",
            "\n",
            " 85%|████████▍ | 2162/2556 [07:02<01:38,  4.02it/s]\u001b[A\u001b[A"
          ],
          "name": "stderr"
        },
        {
          "output_type": "stream",
          "text": [
            "AI Trader bought:  $ 209.070007\n"
          ],
          "name": "stdout"
        },
        {
          "output_type": "stream",
          "text": [
            "\n",
            "\n",
            " 85%|████████▍ | 2163/2556 [07:02<01:35,  4.11it/s]\u001b[A\u001b[A\n",
            "\n",
            " 85%|████████▍ | 2164/2556 [07:03<01:30,  4.32it/s]"
          ],
          "name": "stderr"
        },
        {
          "output_type": "stream",
          "text": [
            "AI Trader bought:  $ 207.110001\n"
          ],
          "name": "stdout"
        },
        {
          "output_type": "stream",
          "text": [
            "\u001b[A\u001b[A\n",
            "\n",
            " 85%|████████▍ | 2165/2556 [07:03<01:27,  4.49it/s]\u001b[A\u001b[A"
          ],
          "name": "stderr"
        },
        {
          "output_type": "stream",
          "text": [
            "AI Trader bought:  $ 207.250000\n",
            "AI Trader bought:  $ 208.880005\n"
          ],
          "name": "stdout"
        },
        {
          "output_type": "stream",
          "text": [
            "\n",
            "\n",
            " 85%|████████▍ | 2166/2556 [07:03<01:24,  4.60it/s]\u001b[A\u001b[A\n",
            "\n",
            " 85%|████████▍ | 2167/2556 [07:03<01:22,  4.70it/s]\u001b[A\u001b[A"
          ],
          "name": "stderr"
        },
        {
          "output_type": "stream",
          "text": [
            "AI Trader sold:  $ 207.529999  Profit: - $ 1.540009\n",
            "AI Trader sold:  $ 208.869995  Profit: $ 1.759995\n"
          ],
          "name": "stdout"
        },
        {
          "output_type": "stream",
          "text": [
            "\n",
            "\n",
            " 85%|████████▍ | 2168/2556 [07:03<01:24,  4.57it/s]\u001b[A\u001b[A\n",
            "\n",
            " 85%|████████▍ | 2169/2556 [07:04<01:23,  4.62it/s]\u001b[A\u001b[A\n",
            "\n",
            " 85%|████████▍ | 2170/2556 [07:04<01:21,  4.76it/s]\u001b[A\u001b[A"
          ],
          "name": "stderr"
        },
        {
          "output_type": "stream",
          "text": [
            "AI Trader sold:  $ 210.240005  Profit: $ 2.990005\n",
            "AI Trader sold:  $ 213.320007  Profit: $ 4.440002\n"
          ],
          "name": "stdout"
        },
        {
          "output_type": "stream",
          "text": [
            "\n",
            "\n",
            " 85%|████████▍ | 2171/2556 [07:04<01:21,  4.74it/s]\u001b[A\u001b[A\n",
            "\n",
            " 85%|████████▍ | 2172/2556 [07:04<01:20,  4.78it/s]\u001b[A\u001b[A\n",
            "\n",
            " 85%|████████▌ | 2173/2556 [07:04<01:18,  4.86it/s]\u001b[A\u001b[A\n",
            "\n",
            " 85%|████████▌ | 2174/2556 [07:05<01:17,  4.90it/s]\u001b[A\u001b[A\n",
            "\n",
            " 85%|████████▌ | 2175/2556 [07:05<01:17,  4.92it/s]\u001b[A\u001b[A\n",
            "\n",
            " 85%|████████▌ | 2176/2556 [07:05<01:15,  5.01it/s]\u001b[A\u001b[A\n",
            "\n",
            " 85%|████████▌ | 2177/2556 [07:05<01:18,  4.84it/s]\u001b[A\u001b[A\n",
            "\n",
            " 85%|████████▌ | 2178/2556 [07:05<01:18,  4.79it/s]\u001b[A\u001b[A\n",
            "\n",
            " 85%|████████▌ | 2179/2556 [07:06<01:20,  4.69it/s]\u001b[A\u001b[A\n",
            "\n",
            " 85%|████████▌ | 2180/2556 [07:06<01:17,  4.84it/s]\u001b[A\u001b[A\n",
            "\n",
            " 85%|████████▌ | 2181/2556 [07:06<01:15,  5.00it/s]\u001b[A\u001b[A\n",
            "\n",
            " 85%|████████▌ | 2182/2556 [07:06<01:15,  4.98it/s]\u001b[A\u001b[A\n",
            "\n",
            " 85%|████████▌ | 2183/2556 [07:06<01:12,  5.14it/s]\u001b[A\u001b[A\n",
            "\n",
            " 85%|████████▌ | 2184/2556 [07:07<01:12,  5.13it/s]\u001b[A\u001b[A\n",
            "\n",
            " 85%|████████▌ | 2185/2556 [07:07<01:13,  5.08it/s]\u001b[A\u001b[A\n",
            "\n",
            " 86%|████████▌ | 2186/2556 [07:07<01:13,  5.05it/s]\u001b[A\u001b[A"
          ],
          "name": "stderr"
        },
        {
          "output_type": "stream",
          "text": [
            "AI Trader bought:  $ 221.300003\n",
            "AI Trader bought:  $ 218.330002\n"
          ],
          "name": "stdout"
        },
        {
          "output_type": "stream",
          "text": [
            "\n",
            "\n",
            " 86%|████████▌ | 2187/2556 [07:07<01:14,  4.95it/s]\u001b[A\u001b[A\n",
            "\n",
            " 86%|████████▌ | 2188/2556 [07:07<01:14,  4.95it/s]\u001b[A\u001b[A"
          ],
          "name": "stderr"
        },
        {
          "output_type": "stream",
          "text": [
            "AI Trader bought:  $ 223.850006\n"
          ],
          "name": "stdout"
        },
        {
          "output_type": "stream",
          "text": [
            "\n",
            "\n",
            " 86%|████████▌ | 2189/2556 [07:08<01:13,  4.99it/s]\u001b[A\u001b[A"
          ],
          "name": "stderr"
        },
        {
          "output_type": "stream",
          "text": [
            "AI Trader sold:  $ 221.070007  Profit: - $ 0.229996\n",
            "AI Trader bought:  $ 226.410004\n"
          ],
          "name": "stdout"
        },
        {
          "output_type": "stream",
          "text": [
            "\n",
            "\n",
            " 86%|████████▌ | 2190/2556 [07:08<01:12,  5.03it/s]\u001b[A\u001b[A\n",
            "\n",
            " 86%|████████▌ | 2191/2556 [07:08<01:13,  4.95it/s]\u001b[A\u001b[A\n",
            "\n",
            " 86%|████████▌ | 2192/2556 [07:08<01:13,  4.98it/s]\u001b[A\u001b[A"
          ],
          "name": "stderr"
        },
        {
          "output_type": "stream",
          "text": [
            "AI Trader bought:  $ 217.880005\n",
            "AI Trader bought:  $ 218.240005\n"
          ],
          "name": "stdout"
        },
        {
          "output_type": "stream",
          "text": [
            "\n",
            "\n",
            " 86%|████████▌ | 2193/2556 [07:08<01:14,  4.87it/s]\u001b[A\u001b[A"
          ],
          "name": "stderr"
        },
        {
          "output_type": "stream",
          "text": [
            "AI Trader sold:  $ 218.369995  Profit: $ 0.039993\n"
          ],
          "name": "stdout"
        },
        {
          "output_type": "stream",
          "text": [
            "\n",
            "\n",
            " 86%|████████▌ | 2194/2556 [07:09<01:15,  4.79it/s]\u001b[A\u001b[A\n",
            "\n",
            " 86%|████████▌ | 2195/2556 [07:09<01:14,  4.85it/s]\u001b[A\u001b[A"
          ],
          "name": "stderr"
        },
        {
          "output_type": "stream",
          "text": [
            "AI Trader sold:  $ 220.029999  Profit: - $ 3.820007\n",
            "AI Trader sold: "
          ],
          "name": "stdout"
        },
        {
          "output_type": "stream",
          "text": [
            "\n",
            "\n",
            " 86%|████████▌ | 2196/2556 [07:09<01:13,  4.93it/s]\u001b[A\u001b[A"
          ],
          "name": "stderr"
        },
        {
          "output_type": "stream",
          "text": [
            " $ 217.660004  Profit: - $ 8.750000\n",
            "AI Trader sold:  $ 220.789993  Profit: $ 2.909988\n"
          ],
          "name": "stdout"
        },
        {
          "output_type": "stream",
          "text": [
            "\n",
            "\n",
            " 86%|████████▌ | 2197/2556 [07:09<01:11,  5.02it/s]\u001b[A\u001b[A\n",
            "\n",
            " 86%|████████▌ | 2198/2556 [07:09<01:13,  4.89it/s]\u001b[A\u001b[A\n",
            "\n",
            " 86%|████████▌ | 2199/2556 [07:10<01:12,  4.93it/s]\u001b[A\u001b[A"
          ],
          "name": "stderr"
        },
        {
          "output_type": "stream",
          "text": [
            "AI Trader sold:  $ 220.419998  Profit: $ 2.179993\n"
          ],
          "name": "stdout"
        },
        {
          "output_type": "stream",
          "text": [
            "\n",
            "\n",
            " 86%|████████▌ | 2200/2556 [07:10<01:12,  4.91it/s]\u001b[A\u001b[A\n",
            "\n",
            " 86%|████████▌ | 2201/2556 [07:10<01:15,  4.71it/s]\u001b[A\u001b[A\n",
            "\n",
            " 86%|████████▌ | 2202/2556 [07:10<01:15,  4.68it/s]\u001b[A\u001b[A\n",
            "\n",
            " 86%|████████▌ | 2203/2556 [07:10<01:14,  4.72it/s]\u001b[A\u001b[A\n",
            "\n",
            " 86%|████████▌ | 2204/2556 [07:11<01:13,  4.78it/s]\u001b[A\u001b[A\n",
            "\n",
            " 86%|████████▋ | 2205/2556 [07:11<01:13,  4.80it/s]\u001b[A\u001b[A\n",
            "\n",
            " 86%|████████▋ | 2206/2556 [07:11<01:10,  4.93it/s]\u001b[A\u001b[A\n",
            "\n",
            " 86%|████████▋ | 2207/2556 [07:11<01:10,  4.94it/s]\u001b[A\u001b[A\n",
            "\n",
            " 86%|████████▋ | 2208/2556 [07:11<01:10,  4.97it/s]\u001b[A\u001b[A\n",
            "\n",
            " 86%|████████▋ | 2209/2556 [07:12<01:09,  4.97it/s]\u001b[A\u001b[A\n",
            "\n",
            " 86%|████████▋ | 2210/2556 [07:12<01:09,  5.00it/s]\u001b[A\u001b[A"
          ],
          "name": "stderr"
        },
        {
          "output_type": "stream",
          "text": [
            "AI Trader bought:  $ 214.449997\n"
          ],
          "name": "stdout"
        },
        {
          "output_type": "stream",
          "text": [
            "\n",
            "\n",
            " 87%|████████▋ | 2211/2556 [07:12<01:12,  4.76it/s]\u001b[A\u001b[A"
          ],
          "name": "stderr"
        },
        {
          "output_type": "stream",
          "text": [
            "AI Trader sold:  $ 217.360001  Profit: $ 2.910004\n"
          ],
          "name": "stdout"
        },
        {
          "output_type": "stream",
          "text": [
            "\n",
            "\n",
            " 87%|████████▋ | 2212/2556 [07:12<01:12,  4.73it/s]\u001b[A\u001b[A\n",
            "\n",
            " 87%|████████▋ | 2213/2556 [07:13<01:13,  4.69it/s]\u001b[A\u001b[A\n",
            "\n",
            " 87%|████████▋ | 2214/2556 [07:13<01:11,  4.78it/s]\u001b[A\u001b[A\n",
            "\n",
            " 87%|████████▋ | 2215/2556 [07:13<01:10,  4.81it/s]\u001b[A\u001b[A\n",
            "\n",
            " 87%|████████▋ | 2216/2556 [07:13<01:10,  4.85it/s]\u001b[A\u001b[A"
          ],
          "name": "stderr"
        },
        {
          "output_type": "stream",
          "text": [
            "AI Trader bought:  $ 219.309998\n"
          ],
          "name": "stdout"
        },
        {
          "output_type": "stream",
          "text": [
            "\n",
            "\n",
            " 87%|████████▋ | 2217/2556 [07:13<01:09,  4.91it/s]\u001b[A\u001b[A"
          ],
          "name": "stderr"
        },
        {
          "output_type": "stream",
          "text": [
            "AI Trader sold:  $ 220.649994  Profit: $ 1.339996\n"
          ],
          "name": "stdout"
        },
        {
          "output_type": "stream",
          "text": [
            "\n",
            "\n",
            " 87%|████████▋ | 2218/2556 [07:14<01:08,  4.94it/s]\u001b[A\u001b[A\n",
            "\n",
            " 87%|████████▋ | 2219/2556 [07:14<01:07,  4.98it/s]\u001b[A\u001b[A\n",
            "\n",
            " 87%|████████▋ | 2220/2556 [07:14<01:11,  4.70it/s]\u001b[A\u001b[A\n",
            "\n",
            " 87%|████████▋ | 2221/2556 [07:14<01:09,  4.79it/s]\u001b[A\u001b[A\n",
            "\n",
            " 87%|████████▋ | 2222/2556 [07:14<01:08,  4.86it/s]\u001b[A\u001b[A\n",
            "\n",
            " 87%|████████▋ | 2223/2556 [07:15<01:07,  4.93it/s]\u001b[A\u001b[A\n",
            "\n",
            " 87%|████████▋ | 2224/2556 [07:15<01:06,  4.96it/s]\u001b[A\u001b[A\n",
            "\n",
            " 87%|████████▋ | 2225/2556 [07:15<01:06,  4.96it/s]\u001b[A\u001b[A\n",
            "\n",
            " 87%|████████▋ | 2226/2556 [07:15<01:05,  5.03it/s]\u001b[A\u001b[A\n",
            "\n",
            " 87%|████████▋ | 2227/2556 [07:15<01:08,  4.82it/s]\u001b[A\u001b[A\n",
            "\n",
            " 87%|████████▋ | 2228/2556 [07:16<01:07,  4.85it/s]\u001b[A\u001b[A"
          ],
          "name": "stderr"
        },
        {
          "output_type": "stream",
          "text": [
            "AI Trader bought:  $ 203.770004\n",
            "AI Trader sold:  $ 209.949997  Profit: $ 6.179993\n"
          ],
          "name": "stdout"
        },
        {
          "output_type": "stream",
          "text": [
            "\n",
            "\n",
            " 87%|████████▋ | 2229/2556 [07:16<01:08,  4.77it/s]\u001b[A\u001b[A\n",
            "\n",
            " 87%|████████▋ | 2230/2556 [07:16<01:06,  4.87it/s]\u001b[A\u001b[A\n",
            "\n",
            " 87%|████████▋ | 2231/2556 [07:16<01:09,  4.66it/s]\u001b[A\u001b[A\n",
            "\n",
            " 87%|████████▋ | 2232/2556 [07:16<01:08,  4.73it/s]\u001b[A\u001b[A\n",
            "\n",
            " 87%|████████▋ | 2233/2556 [07:17<01:06,  4.87it/s]\u001b[A\u001b[A"
          ],
          "name": "stderr"
        },
        {
          "output_type": "stream",
          "text": [
            "AI Trader bought:  $ 192.229996\n",
            "AI Trader bought:  $ 186.800003\n"
          ],
          "name": "stdout"
        },
        {
          "output_type": "stream",
          "text": [
            "\n",
            "\n",
            " 87%|████████▋ | 2234/2556 [07:17<01:05,  4.91it/s]\u001b[A\u001b[A\n",
            "\n",
            " 87%|████████▋ | 2235/2556 [07:17<01:04,  5.01it/s]\u001b[A\u001b[A"
          ],
          "name": "stderr"
        },
        {
          "output_type": "stream",
          "text": [
            "AI Trader bought:  $ 191.410004\n"
          ],
          "name": "stdout"
        },
        {
          "output_type": "stream",
          "text": [
            "\n",
            "\n",
            " 87%|████████▋ | 2236/2556 [07:17<01:03,  5.02it/s]\u001b[A\u001b[A"
          ],
          "name": "stderr"
        },
        {
          "output_type": "stream",
          "text": [
            "AI Trader sold:  $ 185.860001  Profit: - $ 6.369995\n"
          ],
          "name": "stdout"
        },
        {
          "output_type": "stream",
          "text": [
            "\n",
            "\n",
            " 88%|████████▊ | 2237/2556 [07:17<01:04,  4.96it/s]\u001b[A\u001b[A"
          ],
          "name": "stderr"
        },
        {
          "output_type": "stream",
          "text": [
            "AI Trader bought:  $ 176.979996\n"
          ],
          "name": "stdout"
        },
        {
          "output_type": "stream",
          "text": [
            "\n",
            "\n",
            " 88%|████████▊ | 2238/2556 [07:18<01:07,  4.72it/s]\u001b[A\u001b[A"
          ],
          "name": "stderr"
        },
        {
          "output_type": "stream",
          "text": [
            "AI Trader bought:  $ 176.779999\n"
          ],
          "name": "stdout"
        },
        {
          "output_type": "stream",
          "text": [
            "\n",
            "\n",
            " 88%|████████▊ | 2239/2556 [07:18<01:08,  4.66it/s]\u001b[A\u001b[A\n",
            "\n",
            " 88%|████████▊ | 2240/2556 [07:18<01:04,  4.86it/s]\u001b[A\u001b[A"
          ],
          "name": "stderr"
        },
        {
          "output_type": "stream",
          "text": [
            "AI Trader sold:  $ 172.289993  Profit: - $ 14.510010\n",
            "AI Trader bought:  $ 174.619995\n"
          ],
          "name": "stdout"
        },
        {
          "output_type": "stream",
          "text": [
            "\n",
            "\n",
            " 88%|████████▊ | 2241/2556 [07:18<01:04,  4.87it/s]\u001b[A\u001b[A"
          ],
          "name": "stderr"
        },
        {
          "output_type": "stream",
          "text": [
            "AI Trader sold:  $ 174.240005  Profit: - $ 17.169998\n"
          ],
          "name": "stdout"
        },
        {
          "output_type": "stream",
          "text": [
            "\n",
            "\n",
            " 88%|████████▊ | 2242/2556 [07:19<01:06,  4.74it/s]\u001b[A\u001b[A\n",
            "\n",
            " 88%|████████▊ | 2243/2556 [07:19<01:03,  4.90it/s]\u001b[A\u001b[A"
          ],
          "name": "stderr"
        },
        {
          "output_type": "stream",
          "text": [
            "AI Trader bought:  $ 180.940002\n",
            "AI Trader sold:  $ 179.550003  Profit: $ 2.570007\n"
          ],
          "name": "stdout"
        },
        {
          "output_type": "stream",
          "text": [
            "\n",
            "\n",
            " 88%|████████▊ | 2244/2556 [07:19<01:04,  4.86it/s]\u001b[A\u001b[A\n",
            "\n",
            " 88%|████████▊ | 2245/2556 [07:19<01:02,  4.95it/s]\u001b[A\u001b[A"
          ],
          "name": "stderr"
        },
        {
          "output_type": "stream",
          "text": [
            "AI Trader bought:  $ 184.820007\n"
          ],
          "name": "stdout"
        },
        {
          "output_type": "stream",
          "text": [
            "\n",
            "\n",
            " 88%|████████▊ | 2246/2556 [07:19<01:07,  4.60it/s]\u001b[A\u001b[A"
          ],
          "name": "stderr"
        },
        {
          "output_type": "stream",
          "text": [
            "AI Trader sold:  $ 176.690002  Profit: - $ 0.089996\n"
          ],
          "name": "stdout"
        },
        {
          "output_type": "stream",
          "text": [
            "\n",
            "\n",
            " 88%|████████▊ | 2247/2556 [07:20<01:07,  4.56it/s]\u001b[A\u001b[A"
          ],
          "name": "stderr"
        },
        {
          "output_type": "stream",
          "text": [
            "AI Trader sold:  $ 174.720001  Profit: $ 0.100006\n"
          ],
          "name": "stdout"
        },
        {
          "output_type": "stream",
          "text": [
            "\n",
            "\n",
            " 88%|████████▊ | 2248/2556 [07:20<01:10,  4.37it/s]\u001b[A\u001b[A"
          ],
          "name": "stderr"
        },
        {
          "output_type": "stream",
          "text": [
            "AI Trader bought:  $ 168.490005\n"
          ],
          "name": "stdout"
        },
        {
          "output_type": "stream",
          "text": [
            "\n",
            "\n",
            " 88%|████████▊ | 2249/2556 [07:20<01:11,  4.27it/s]\u001b[A\u001b[A"
          ],
          "name": "stderr"
        },
        {
          "output_type": "stream",
          "text": [
            "AI Trader bought:  $ 169.600006\n"
          ],
          "name": "stdout"
        },
        {
          "output_type": "stream",
          "text": [
            "\n",
            "\n",
            " 88%|████████▊ | 2250/2556 [07:20<01:14,  4.11it/s]\u001b[A\u001b[A"
          ],
          "name": "stderr"
        },
        {
          "output_type": "stream",
          "text": [
            "AI Trader bought:  $ 168.630005\n"
          ],
          "name": "stdout"
        },
        {
          "output_type": "stream",
          "text": [
            "\n",
            "\n",
            " 88%|████████▊ | 2251/2556 [07:21<01:19,  3.85it/s]\u001b[A\u001b[A"
          ],
          "name": "stderr"
        },
        {
          "output_type": "stream",
          "text": [
            "AI Trader bought:  $ 169.100006\n"
          ],
          "name": "stdout"
        },
        {
          "output_type": "stream",
          "text": [
            "\n",
            "\n",
            " 88%|████████▊ | 2252/2556 [07:21<01:17,  3.90it/s]\u001b[A\u001b[A\n",
            "\n",
            " 88%|████████▊ | 2253/2556 [07:21<01:15,  4.03it/s]\u001b[A\u001b[A\n",
            "\n",
            " 88%|████████▊ | 2254/2556 [07:21<01:09,  4.34it/s]\u001b[A\u001b[A"
          ],
          "name": "stderr"
        },
        {
          "output_type": "stream",
          "text": [
            "AI Trader sold:  $ 165.479996  Profit: - $ 15.460007\n",
            "AI Trader sold:  $ 163.940002  Profit: - $ 20.880005\n"
          ],
          "name": "stdout"
        },
        {
          "output_type": "stream",
          "text": [
            "\n",
            "\n",
            " 88%|████████▊ | 2255/2556 [07:22<01:07,  4.43it/s]\u001b[A\u001b[A"
          ],
          "name": "stderr"
        },
        {
          "output_type": "stream",
          "text": [
            "AI Trader bought:  $ 166.070007\n"
          ],
          "name": "stdout"
        },
        {
          "output_type": "stream",
          "text": [
            "\n",
            "\n",
            " 88%|████████▊ | 2256/2556 [07:22<01:07,  4.46it/s]\u001b[A\u001b[A\n",
            "\n",
            " 88%|████████▊ | 2257/2556 [07:22<01:04,  4.66it/s]\u001b[A\u001b[A"
          ],
          "name": "stderr"
        },
        {
          "output_type": "stream",
          "text": [
            "AI Trader sold:  $ 160.889999  Profit: - $ 7.600006\n",
            "AI Trader bought:  $ 156.830002\n"
          ],
          "name": "stdout"
        },
        {
          "output_type": "stream",
          "text": [
            "\n",
            "\n",
            " 88%|████████▊ | 2258/2556 [07:22<01:02,  4.76it/s]\u001b[A\u001b[A\n",
            "\n",
            " 88%|████████▊ | 2259/2556 [07:22<01:01,  4.84it/s]\u001b[A\u001b[A\n",
            "\n",
            " 88%|████████▊ | 2260/2556 [07:23<01:01,  4.84it/s]"
          ],
          "name": "stderr"
        },
        {
          "output_type": "stream",
          "text": [
            "AI Trader bought:  $ 146.830002\n"
          ],
          "name": "stdout"
        },
        {
          "output_type": "stream",
          "text": [
            "\u001b[A\u001b[A"
          ],
          "name": "stderr"
        },
        {
          "output_type": "stream",
          "text": [
            "AI Trader bought:  $ 157.169998\n"
          ],
          "name": "stdout"
        },
        {
          "output_type": "stream",
          "text": [
            "\n",
            "\n",
            " 88%|████████▊ | 2261/2556 [07:23<01:01,  4.78it/s]\u001b[A\u001b[A\n",
            "\n",
            " 88%|████████▊ | 2262/2556 [07:23<01:01,  4.82it/s]\u001b[A\u001b[A"
          ],
          "name": "stderr"
        },
        {
          "output_type": "stream",
          "text": [
            "AI Trader sold:  $ 156.149994  Profit: - $ 13.450012\n"
          ],
          "name": "stdout"
        },
        {
          "output_type": "stream",
          "text": [
            "\n",
            "\n",
            " 89%|████████▊ | 2263/2556 [07:23<00:59,  4.90it/s]\u001b[A\u001b[A"
          ],
          "name": "stderr"
        },
        {
          "output_type": "stream",
          "text": [
            "AI Trader bought:  $ 156.229996\n",
            "AI Trader bought:  $ 157.740005\n"
          ],
          "name": "stdout"
        },
        {
          "output_type": "stream",
          "text": [
            "\n",
            "\n",
            " 89%|████████▊ | 2264/2556 [07:23<01:00,  4.85it/s]\u001b[A\u001b[A"
          ],
          "name": "stderr"
        },
        {
          "output_type": "stream",
          "text": [
            "AI Trader sold:  $ 157.919998  Profit: - $ 10.710007\n"
          ],
          "name": "stdout"
        },
        {
          "output_type": "stream",
          "text": [
            "\n",
            "\n",
            " 89%|████████▊ | 2265/2556 [07:24<01:01,  4.72it/s]\u001b[A\u001b[A\n",
            "\n",
            " 89%|████████▊ | 2266/2556 [07:24<01:00,  4.82it/s]\u001b[A\u001b[A"
          ],
          "name": "stderr"
        },
        {
          "output_type": "stream",
          "text": [
            "AI Trader sold:  $ 142.190002  Profit: - $ 26.910004\n"
          ],
          "name": "stdout"
        },
        {
          "output_type": "stream",
          "text": [
            "\n",
            "\n",
            " 89%|████████▊ | 2267/2556 [07:24<01:00,  4.78it/s]"
          ],
          "name": "stderr"
        },
        {
          "output_type": "stream",
          "text": [
            "AI Trader bought:  $ 148.259995\n"
          ],
          "name": "stdout"
        },
        {
          "output_type": "stream",
          "text": [
            "\u001b[A\u001b[A"
          ],
          "name": "stderr"
        },
        {
          "output_type": "stream",
          "text": [
            "AI Trader sold:  $ 147.929993  Profit: - $ 18.140015\n"
          ],
          "name": "stdout"
        },
        {
          "output_type": "stream",
          "text": [
            "\n",
            "\n",
            " 89%|████████▊ | 2268/2556 [07:24<01:00,  4.75it/s]\u001b[A\u001b[A\n",
            "\n",
            " 89%|████████▉ | 2269/2556 [07:24<00:58,  4.94it/s]\u001b[A\u001b[A"
          ],
          "name": "stderr"
        },
        {
          "output_type": "stream",
          "text": [
            "AI Trader bought:  $ 150.750000\n",
            "AI Trader sold:  $ 153.309998  Profit: - $ 3.520004\n"
          ],
          "name": "stdout"
        },
        {
          "output_type": "stream",
          "text": [
            "\n",
            "\n",
            " 89%|████████▉ | 2270/2556 [07:25<00:58,  4.90it/s]\u001b[A\u001b[A\n",
            "\n",
            " 89%|████████▉ | 2271/2556 [07:25<00:57,  4.97it/s]\u001b[A\u001b[A"
          ],
          "name": "stderr"
        },
        {
          "output_type": "stream",
          "text": [
            "AI Trader sold:  $ 153.800003  Profit: $ 6.970001\n",
            "AI Trader sold: "
          ],
          "name": "stdout"
        },
        {
          "output_type": "stream",
          "text": [
            "\n",
            "\n"
          ],
          "name": "stderr"
        },
        {
          "output_type": "stream",
          "text": [
            " $ 152.289993  Profit: - $ 4.880005\n"
          ],
          "name": "stdout"
        },
        {
          "output_type": "stream",
          "text": [
            "\r 89%|████████▉ | 2272/2556 [07:25<00:58,  4.89it/s]\u001b[A\u001b[A\n",
            "\n",
            " 89%|████████▉ | 2273/2556 [07:25<00:57,  4.92it/s]\u001b[A\u001b[A\n",
            "\n",
            " 89%|████████▉ | 2274/2556 [07:25<00:57,  4.90it/s]\u001b[A\u001b[A"
          ],
          "name": "stderr"
        },
        {
          "output_type": "stream",
          "text": [
            "AI Trader sold:  $ 153.070007  Profit: - $ 3.159988\n",
            "AI Trader sold:  $ 154.940002  Profit: - $ 2.800003\n"
          ],
          "name": "stdout"
        },
        {
          "output_type": "stream",
          "text": [
            "\n",
            "\n",
            " 89%|████████▉ | 2275/2556 [07:26<00:58,  4.81it/s]\u001b[A\u001b[A\n",
            "\n",
            " 89%|████████▉ | 2276/2556 [07:26<00:57,  4.90it/s]\u001b[A\u001b[A"
          ],
          "name": "stderr"
        },
        {
          "output_type": "stream",
          "text": [
            "AI Trader sold:  $ 155.860001  Profit: $ 7.600006\n",
            "AI Trader sold:  $ 156.820007  Profit: $ 6.070007\n"
          ],
          "name": "stdout"
        },
        {
          "output_type": "stream",
          "text": [
            "\n",
            "\n",
            " 89%|████████▉ | 2277/2556 [07:26<00:56,  4.90it/s]\u001b[A\u001b[A\n",
            "\n",
            " 89%|████████▉ | 2278/2556 [07:26<00:55,  5.01it/s]\u001b[A\u001b[A\n",
            "\n",
            " 89%|████████▉ | 2279/2556 [07:26<00:57,  4.82it/s]\u001b[A\u001b[A\n",
            "\n",
            " 89%|████████▉ | 2280/2556 [07:27<00:57,  4.82it/s]\u001b[A\u001b[A\n",
            "\n",
            " 89%|████████▉ | 2281/2556 [07:27<00:56,  4.89it/s]\u001b[A\u001b[A\n",
            "\n",
            " 89%|████████▉ | 2282/2556 [07:27<00:55,  4.95it/s]\u001b[A\u001b[A\n",
            "\n",
            " 89%|████████▉ | 2283/2556 [07:27<00:54,  4.99it/s]\u001b[A\u001b[A\n",
            "\n",
            " 89%|████████▉ | 2284/2556 [07:27<00:54,  5.02it/s]\u001b[A\u001b[A\n",
            "\n",
            " 89%|████████▉ | 2285/2556 [07:28<00:55,  4.91it/s]\u001b[A\u001b[A\n",
            "\n",
            " 89%|████████▉ | 2286/2556 [07:28<00:55,  4.87it/s]\u001b[A\u001b[A\n",
            "\n",
            " 89%|████████▉ | 2287/2556 [07:28<00:54,  4.96it/s]\u001b[A\u001b[A\n",
            "\n",
            " 90%|████████▉ | 2288/2556 [07:28<00:53,  5.02it/s]\u001b[A\u001b[A\n",
            "\n",
            " 90%|████████▉ | 2289/2556 [07:28<00:53,  4.98it/s]\u001b[A\u001b[A\n",
            "\n",
            " 90%|████████▉ | 2290/2556 [07:29<00:53,  4.94it/s]\u001b[A\u001b[A\n",
            "\n",
            " 90%|████████▉ | 2291/2556 [07:29<00:53,  4.92it/s]\u001b[A\u001b[A\n",
            "\n",
            " 90%|████████▉ | 2292/2556 [07:29<00:54,  4.85it/s]\u001b[A\u001b[A\n",
            "\n",
            " 90%|████████▉ | 2293/2556 [07:29<00:53,  4.91it/s]\u001b[A\u001b[A\n",
            "\n",
            " 90%|████████▉ | 2294/2556 [07:29<00:53,  4.90it/s]\u001b[A\u001b[A\n",
            "\n",
            " 90%|████████▉ | 2295/2556 [07:30<00:53,  4.90it/s]\u001b[A\u001b[A\n",
            "\n",
            " 90%|████████▉ | 2296/2556 [07:30<00:53,  4.83it/s]\u001b[A\u001b[A\n",
            "\n",
            " 90%|████████▉ | 2297/2556 [07:30<00:54,  4.76it/s]\u001b[A\u001b[A\n",
            "\n",
            " 90%|████████▉ | 2298/2556 [07:30<00:53,  4.78it/s]\u001b[A\u001b[A\n",
            "\n",
            " 90%|████████▉ | 2299/2556 [07:31<00:54,  4.70it/s]\u001b[A\u001b[A\n",
            "\n",
            " 90%|████████▉ | 2300/2556 [07:31<00:53,  4.75it/s]\u001b[A\u001b[A\n",
            "\n",
            " 90%|█████████ | 2301/2556 [07:31<00:54,  4.72it/s]\u001b[A\u001b[A\n",
            "\n",
            " 90%|█████████ | 2302/2556 [07:31<00:54,  4.66it/s]\u001b[A\u001b[A\n",
            "\n",
            " 90%|█████████ | 2303/2556 [07:31<00:52,  4.81it/s]\u001b[A\u001b[A\n",
            "\n",
            " 90%|█████████ | 2304/2556 [07:32<00:52,  4.85it/s]\u001b[A\u001b[A"
          ],
          "name": "stderr"
        },
        {
          "output_type": "stream",
          "text": [
            "AI Trader bought:  $ 174.970001\n"
          ],
          "name": "stdout"
        },
        {
          "output_type": "stream",
          "text": [
            "\n",
            "\n",
            " 90%|█████████ | 2305/2556 [07:32<00:52,  4.78it/s]\u001b[A\u001b[A\n",
            "\n",
            " 90%|█████████ | 2306/2556 [07:32<00:52,  4.81it/s]"
          ],
          "name": "stderr"
        },
        {
          "output_type": "stream",
          "text": [
            "AI Trader sold:  $ 175.850006  Profit: $ 0.880005\n"
          ],
          "name": "stdout"
        },
        {
          "output_type": "stream",
          "text": [
            "\u001b[A\u001b[A\n",
            "\n",
            " 90%|█████████ | 2307/2556 [07:32<00:52,  4.70it/s]\u001b[A\u001b[A\n",
            "\n",
            " 90%|█████████ | 2308/2556 [07:32<00:52,  4.77it/s]\u001b[A\u001b[A\n",
            "\n",
            " 90%|█████████ | 2309/2556 [07:33<00:51,  4.80it/s]\u001b[A\u001b[A"
          ],
          "name": "stderr"
        },
        {
          "output_type": "stream",
          "text": [
            "AI Trader bought:  $ 172.910004\n"
          ],
          "name": "stdout"
        },
        {
          "output_type": "stream",
          "text": [
            "\n",
            "\n",
            " 90%|█████████ | 2310/2556 [07:33<00:52,  4.68it/s]\u001b[A\u001b[A\n",
            "\n",
            " 90%|█████████ | 2311/2556 [07:33<00:51,  4.79it/s]\u001b[A\u001b[A"
          ],
          "name": "stderr"
        },
        {
          "output_type": "stream",
          "text": [
            "AI Trader bought:  $ 178.899994\n"
          ],
          "name": "stdout"
        },
        {
          "output_type": "stream",
          "text": [
            "\n",
            "\n",
            " 90%|█████████ | 2312/2556 [07:33<00:50,  4.79it/s]"
          ],
          "name": "stderr"
        },
        {
          "output_type": "stream",
          "text": [
            "AI Trader bought:  $ 180.910004\n"
          ],
          "name": "stdout"
        },
        {
          "output_type": "stream",
          "text": [
            "\u001b[A\u001b[A"
          ],
          "name": "stderr"
        },
        {
          "output_type": "stream",
          "text": [
            "AI Trader bought:  $ 181.710007\n"
          ],
          "name": "stdout"
        },
        {
          "output_type": "stream",
          "text": [
            "\n",
            "\n",
            " 90%|█████████ | 2313/2556 [07:34<00:51,  4.73it/s]\u001b[A\u001b[A"
          ],
          "name": "stderr"
        },
        {
          "output_type": "stream",
          "text": [
            "AI Trader bought:  $ 183.729996\n"
          ],
          "name": "stdout"
        },
        {
          "output_type": "stream",
          "text": [
            "\n",
            "\n",
            " 91%|█████████ | 2314/2556 [07:34<00:51,  4.74it/s]\u001b[A\u001b[A"
          ],
          "name": "stderr"
        },
        {
          "output_type": "stream",
          "text": [
            "AI Trader bought:  $ 186.119995\n"
          ],
          "name": "stdout"
        },
        {
          "output_type": "stream",
          "text": [
            "\n",
            "\n",
            " 91%|█████████ | 2315/2556 [07:34<00:53,  4.52it/s]\u001b[A\u001b[A"
          ],
          "name": "stderr"
        },
        {
          "output_type": "stream",
          "text": [
            "AI Trader sold:  $ 188.020004  Profit: $ 15.110001\n"
          ],
          "name": "stdout"
        },
        {
          "output_type": "stream",
          "text": [
            "\n",
            "\n",
            " 91%|█████████ | 2316/2556 [07:34<00:54,  4.42it/s]\u001b[A\u001b[A\n",
            "\n",
            " 91%|█████████ | 2317/2556 [07:34<00:52,  4.57it/s]\u001b[A\u001b[A"
          ],
          "name": "stderr"
        },
        {
          "output_type": "stream",
          "text": [
            "AI Trader sold:  $ 186.529999  Profit: $ 7.630005\n"
          ],
          "name": "stdout"
        },
        {
          "output_type": "stream",
          "text": [
            "\n",
            "\n",
            " 91%|█████████ | 2318/2556 [07:35<00:51,  4.63it/s]\u001b[A\u001b[A"
          ],
          "name": "stderr"
        },
        {
          "output_type": "stream",
          "text": [
            "AI Trader bought:  $ 188.160004\n",
            "AI Trader sold:  $ 195.089996  Profit: $ 14.179993\n"
          ],
          "name": "stdout"
        },
        {
          "output_type": "stream",
          "text": [
            "\n",
            "\n",
            " 91%|█████████ | 2319/2556 [07:35<00:51,  4.61it/s]\u001b[A\u001b[A\n",
            "\n",
            " 91%|█████████ | 2320/2556 [07:35<00:49,  4.77it/s]\u001b[A\u001b[A"
          ],
          "name": "stderr"
        },
        {
          "output_type": "stream",
          "text": [
            "AI Trader sold:  $ 191.050003  Profit: $ 9.339996\n",
            "AI Trader sold:  $ 188.740005  Profit: $ 5.010010\n"
          ],
          "name": "stdout"
        },
        {
          "output_type": "stream",
          "text": [
            "\n",
            "\n",
            " 91%|█████████ | 2321/2556 [07:35<00:48,  4.85it/s]\u001b[A\u001b[A\n",
            "\n",
            " 91%|█████████ | 2322/2556 [07:35<00:48,  4.87it/s]\u001b[A\u001b[A"
          ],
          "name": "stderr"
        },
        {
          "output_type": "stream",
          "text": [
            "AI Trader bought:  $ 186.789993\n",
            "AI Trader bought: "
          ],
          "name": "stdout"
        },
        {
          "output_type": "stream",
          "text": [
            "\n",
            "\n"
          ],
          "name": "stderr"
        },
        {
          "output_type": "stream",
          "text": [
            " $ 188.470001\n"
          ],
          "name": "stdout"
        },
        {
          "output_type": "stream",
          "text": [
            "\r 91%|█████████ | 2323/2556 [07:36<00:47,  4.86it/s]\u001b[A\u001b[A"
          ],
          "name": "stderr"
        },
        {
          "output_type": "stream",
          "text": [
            "AI Trader bought:  $ 188.720001\n"
          ],
          "name": "stdout"
        },
        {
          "output_type": "stream",
          "text": [
            "\n",
            "\n",
            " 91%|█████████ | 2324/2556 [07:36<00:48,  4.80it/s]\u001b[A\u001b[A\n",
            "\n",
            " 91%|█████████ | 2325/2556 [07:36<00:47,  4.85it/s]\u001b[A\u001b[A"
          ],
          "name": "stderr"
        },
        {
          "output_type": "stream",
          "text": [
            "AI Trader bought:  $ 189.949997\n"
          ],
          "name": "stdout"
        },
        {
          "output_type": "stream",
          "text": [
            "\n",
            "\n",
            " 91%|█████████ | 2326/2556 [07:36<00:46,  4.92it/s]\u001b[A\u001b[A"
          ],
          "name": "stderr"
        },
        {
          "output_type": "stream",
          "text": [
            "AI Trader bought:  $ 191.240005\n"
          ],
          "name": "stdout"
        },
        {
          "output_type": "stream",
          "text": [
            "\n",
            "\n",
            " 91%|█████████ | 2327/2556 [07:36<00:46,  4.92it/s]\u001b[A\u001b[A"
          ],
          "name": "stderr"
        },
        {
          "output_type": "stream",
          "text": [
            "AI Trader bought:  $ 194.020004\n",
            "AI Trader bought:  $ 195.350006\n"
          ],
          "name": "stdout"
        },
        {
          "output_type": "stream",
          "text": [
            "\n",
            "\n",
            " 91%|█████████ | 2328/2556 [07:37<00:47,  4.83it/s]\u001b[A\u001b[A"
          ],
          "name": "stderr"
        },
        {
          "output_type": "stream",
          "text": [
            "AI Trader bought:  $ 195.690002\n"
          ],
          "name": "stdout"
        },
        {
          "output_type": "stream",
          "text": [
            "\n",
            "\n",
            " 91%|█████████ | 2329/2556 [07:37<00:47,  4.79it/s]\u001b[A\u001b[A\n",
            "\n",
            " 91%|█████████ | 2330/2556 [07:37<00:46,  4.86it/s]\u001b[A\u001b[A"
          ],
          "name": "stderr"
        },
        {
          "output_type": "stream",
          "text": [
            "AI Trader bought:  $ 197.000000\n",
            "AI Trader bought:  $ 200.100006\n"
          ],
          "name": "stdout"
        },
        {
          "output_type": "stream",
          "text": [
            "\n",
            "\n",
            " 91%|█████████ | 2331/2556 [07:37<00:45,  4.92it/s]\u001b[A\u001b[A\n",
            "\n",
            " 91%|█████████ | 2332/2556 [07:37<00:45,  4.92it/s]\u001b[A\u001b[A"
          ],
          "name": "stderr"
        },
        {
          "output_type": "stream",
          "text": [
            "AI Trader bought:  $ 199.500000\n",
            "AI Trader bought:  $ 200.619995\n"
          ],
          "name": "stdout"
        },
        {
          "output_type": "stream",
          "text": [
            "\n",
            "\n",
            " 91%|█████████▏| 2333/2556 [07:38<00:46,  4.83it/s]\u001b[A\u001b[A"
          ],
          "name": "stderr"
        },
        {
          "output_type": "stream",
          "text": [
            "AI Trader sold:  $ 198.949997  Profit: $ 12.830002\n"
          ],
          "name": "stdout"
        },
        {
          "output_type": "stream",
          "text": [
            "\n",
            "\n",
            " 91%|█████████▏| 2334/2556 [07:38<00:46,  4.75it/s]\u001b[A\u001b[A\n",
            "\n",
            " 91%|█████████▏| 2335/2556 [07:38<00:46,  4.78it/s]"
          ],
          "name": "stderr"
        },
        {
          "output_type": "stream",
          "text": [
            "AI Trader bought:  $ 198.869995\n"
          ],
          "name": "stdout"
        },
        {
          "output_type": "stream",
          "text": [
            "\u001b[A\u001b[A\n",
            "\n",
            " 91%|█████████▏| 2336/2556 [07:38<00:45,  4.89it/s]\u001b[A\u001b[A"
          ],
          "name": "stderr"
        },
        {
          "output_type": "stream",
          "text": [
            "AI Trader bought:  $ 199.229996\n",
            "AI Trader sold:  $ 199.250000  Profit: $ 11.089996\n"
          ],
          "name": "stdout"
        },
        {
          "output_type": "stream",
          "text": [
            "\n",
            "\n",
            " 91%|█████████▏| 2337/2556 [07:39<00:46,  4.76it/s]\u001b[A\u001b[A\n",
            "\n",
            " 91%|█████████▏| 2338/2556 [07:39<00:45,  4.78it/s]\u001b[A\u001b[A"
          ],
          "name": "stderr"
        },
        {
          "output_type": "stream",
          "text": [
            "AI Trader sold:  $ 203.130005  Profit: $ 16.340012\n",
            "AI Trader sold:  $ 203.860001  Profit: $ 15.389999\n"
          ],
          "name": "stdout"
        },
        {
          "output_type": "stream",
          "text": [
            "\n",
            "\n",
            " 92%|█████████▏| 2339/2556 [07:39<00:47,  4.53it/s]\u001b[A\u001b[A\n",
            "\n",
            " 92%|█████████▏| 2340/2556 [07:39<00:46,  4.67it/s]\u001b[A\u001b[A"
          ],
          "name": "stderr"
        },
        {
          "output_type": "stream",
          "text": [
            "AI Trader sold:  $ 204.529999  Profit: $ 15.809998\n",
            "AI Trader sold:  $ 207.479996  Profit: $ 17.529999\n"
          ],
          "name": "stdout"
        },
        {
          "output_type": "stream",
          "text": [
            "\n",
            "\n",
            " 92%|█████████▏| 2341/2556 [07:39<00:44,  4.83it/s]\u001b[A\u001b[A\n",
            "\n",
            " 92%|█████████▏| 2342/2556 [07:40<00:44,  4.83it/s]"
          ],
          "name": "stderr"
        },
        {
          "output_type": "stream",
          "text": [
            "AI Trader sold:  $ 207.160004  Profit: $ 15.919998\n"
          ],
          "name": "stdout"
        },
        {
          "output_type": "stream",
          "text": [
            "\u001b[A\u001b[A\n",
            "\n",
            " 92%|█████████▏| 2343/2556 [07:40<00:43,  4.87it/s]\u001b[A\u001b[A"
          ],
          "name": "stderr"
        },
        {
          "output_type": "stream",
          "text": [
            "AI Trader sold:  $ 205.279999  Profit: $ 11.259995\n",
            "AI Trader sold:  $ 204.300003  Profit: $ 8.949997\n"
          ],
          "name": "stdout"
        },
        {
          "output_type": "stream",
          "text": [
            "\n",
            "\n",
            " 92%|█████████▏| 2344/2556 [07:40<00:43,  4.84it/s]\u001b[A\u001b[A"
          ],
          "name": "stderr"
        },
        {
          "output_type": "stream",
          "text": [
            "AI Trader sold:  $ 204.610001  Profit: $ 8.919998\n"
          ],
          "name": "stdout"
        },
        {
          "output_type": "stream",
          "text": [
            "\n",
            "\n",
            " 92%|█████████▏| 2345/2556 [07:40<00:44,  4.74it/s]\u001b[A\u001b[A\n",
            "\n",
            " 92%|█████████▏| 2346/2556 [07:40<00:43,  4.87it/s]\u001b[A\u001b[A"
          ],
          "name": "stderr"
        },
        {
          "output_type": "stream",
          "text": [
            "AI Trader sold:  $ 200.669998  Profit: $ 3.669998\n",
            "AI Trader sold:  $ 210.520004  Profit: $ 10.419998\n"
          ],
          "name": "stdout"
        },
        {
          "output_type": "stream",
          "text": [
            "\n",
            "\n",
            " 92%|█████████▏| 2347/2556 [07:41<00:44,  4.73it/s]\u001b[A\u001b[A"
          ],
          "name": "stderr"
        },
        {
          "output_type": "stream",
          "text": [
            "AI Trader sold:  $ 209.149994  Profit: $ 9.649994\n"
          ],
          "name": "stdout"
        },
        {
          "output_type": "stream",
          "text": [
            "\n",
            "\n",
            " 92%|█████████▏| 2348/2556 [07:41<00:44,  4.71it/s]\u001b[A\u001b[A\n",
            "\n",
            " 92%|█████████▏| 2349/2556 [07:41<00:43,  4.74it/s]\u001b[A\u001b[A"
          ],
          "name": "stderr"
        },
        {
          "output_type": "stream",
          "text": [
            "AI Trader sold:  $ 211.750000  Profit: $ 11.130005\n",
            "AI Trader sold:  $ 208.479996  Profit: $ 9.610001\n"
          ],
          "name": "stdout"
        },
        {
          "output_type": "stream",
          "text": [
            "\n",
            "\n",
            " 92%|█████████▏| 2350/2556 [07:41<00:43,  4.69it/s]\u001b[A\u001b[A\n",
            "\n",
            " 92%|█████████▏| 2351/2556 [07:41<00:43,  4.76it/s]"
          ],
          "name": "stderr"
        },
        {
          "output_type": "stream",
          "text": [
            "AI Trader sold:  $ 202.860001  Profit: $ 3.630005\n"
          ],
          "name": "stdout"
        },
        {
          "output_type": "stream",
          "text": [
            "\u001b[A\u001b[A\n",
            "\n",
            " 92%|█████████▏| 2352/2556 [07:42<00:43,  4.71it/s]\u001b[A\u001b[A\n",
            "\n",
            " 92%|█████████▏| 2353/2556 [07:42<00:43,  4.64it/s]\u001b[A\u001b[A\n",
            "\n",
            " 92%|█████████▏| 2354/2556 [07:42<00:42,  4.70it/s]\u001b[A\u001b[A\n",
            "\n",
            " 92%|█████████▏| 2355/2556 [07:42<00:41,  4.84it/s]\u001b[A\u001b[A"
          ],
          "name": "stderr"
        },
        {
          "output_type": "stream",
          "text": [
            "AI Trader bought:  $ 185.720001\n",
            "AI Trader bought:  $ 188.660004\n"
          ],
          "name": "stdout"
        },
        {
          "output_type": "stream",
          "text": [
            "\n",
            "\n",
            " 92%|█████████▏| 2356/2556 [07:43<00:41,  4.80it/s]\u001b[A\u001b[A\n",
            "\n",
            " 92%|█████████▏| 2357/2556 [07:43<00:40,  4.86it/s]\u001b[A\u001b[A"
          ],
          "name": "stderr"
        },
        {
          "output_type": "stream",
          "text": [
            "AI Trader sold:  $ 190.919998  Profit: $ 5.199997\n",
            "AI Trader sold:  $ 190.080002  Profit: $ 1.419998\n"
          ],
          "name": "stdout"
        },
        {
          "output_type": "stream",
          "text": [
            "\n",
            "\n",
            " 92%|█████████▏| 2358/2556 [07:43<00:40,  4.86it/s]\u001b[A\u001b[A\n",
            "\n",
            " 92%|█████████▏| 2359/2556 [07:43<00:40,  4.92it/s]\u001b[A\u001b[A"
          ],
          "name": "stderr"
        },
        {
          "output_type": "stream",
          "text": [
            "AI Trader bought:  $ 189.000000\n",
            "AI Trader bought:  $ 183.089996\n"
          ],
          "name": "stdout"
        },
        {
          "output_type": "stream",
          "text": [
            "\n",
            "\n",
            " 92%|█████████▏| 2360/2556 [07:43<00:40,  4.83it/s]\u001b[A\u001b[A\n",
            "\n",
            " 92%|█████████▏| 2361/2556 [07:44<00:39,  4.92it/s]\u001b[A\u001b[A"
          ],
          "name": "stderr"
        },
        {
          "output_type": "stream",
          "text": [
            "AI Trader sold:  $ 186.600006  Profit: - $ 2.399994\n",
            "AI Trader sold:  $ 182.779999  Profit: - $ 0.309998\n"
          ],
          "name": "stdout"
        },
        {
          "output_type": "stream",
          "text": [
            "\n",
            "\n",
            " 92%|█████████▏| 2362/2556 [07:44<00:39,  4.90it/s]\u001b[A\u001b[A"
          ],
          "name": "stderr"
        },
        {
          "output_type": "stream",
          "text": [
            "AI Trader bought:  $ 179.660004\n"
          ],
          "name": "stdout"
        },
        {
          "output_type": "stream",
          "text": [
            "\n",
            "\n",
            " 92%|█████████▏| 2363/2556 [07:44<00:41,  4.62it/s]\u001b[A\u001b[A\n",
            "\n",
            " 92%|█████████▏| 2364/2556 [07:44<00:40,  4.80it/s]\u001b[A\u001b[A"
          ],
          "name": "stderr"
        },
        {
          "output_type": "stream",
          "text": [
            "AI Trader bought:  $ 178.970001\n",
            "AI Trader bought:  $ 178.229996\n"
          ],
          "name": "stdout"
        },
        {
          "output_type": "stream",
          "text": [
            "\n",
            "\n",
            " 93%|█████████▎| 2365/2556 [07:44<00:39,  4.83it/s]\u001b[A\u001b[A\n",
            "\n",
            " 93%|█████████▎| 2366/2556 [07:45<00:38,  4.89it/s]\u001b[A\u001b[A"
          ],
          "name": "stderr"
        },
        {
          "output_type": "stream",
          "text": [
            "AI Trader sold:  $ 177.380005  Profit: - $ 2.279999\n",
            "AI Trader sold:  $ 178.300003  Profit: - $ 0.669998\n"
          ],
          "name": "stdout"
        },
        {
          "output_type": "stream",
          "text": [
            "\n",
            "\n",
            " 93%|█████████▎| 2367/2556 [07:45<00:38,  4.94it/s]\u001b[A\u001b[A\n",
            "\n",
            " 93%|█████████▎| 2368/2556 [07:45<00:37,  4.98it/s]\u001b[A\u001b[A"
          ],
          "name": "stderr"
        },
        {
          "output_type": "stream",
          "text": [
            "AI Trader sold:  $ 175.070007  Profit: - $ 3.159988\n"
          ],
          "name": "stdout"
        },
        {
          "output_type": "stream",
          "text": [
            "\n",
            "\n",
            " 93%|█████████▎| 2369/2556 [07:45<00:38,  4.85it/s]\u001b[A\u001b[A\n",
            "\n",
            " 93%|█████████▎| 2370/2556 [07:45<00:38,  4.88it/s]\u001b[A\u001b[A\n",
            "\n",
            " 93%|█████████▎| 2371/2556 [07:46<00:37,  5.00it/s]\u001b[A\u001b[A\n",
            "\n",
            " 93%|█████████▎| 2372/2556 [07:46<00:37,  4.91it/s]\u001b[A\u001b[A\n",
            "\n",
            " 93%|█████████▎| 2373/2556 [07:46<00:39,  4.68it/s]\u001b[A\u001b[A\n",
            "\n",
            " 93%|█████████▎| 2374/2556 [07:46<00:40,  4.45it/s]\u001b[A\u001b[A\n",
            "\n",
            " 93%|█████████▎| 2375/2556 [07:47<00:41,  4.31it/s]\u001b[A\u001b[A\n",
            "\n",
            " 93%|█████████▎| 2376/2556 [07:47<00:43,  4.17it/s]\u001b[A\u001b[A\n",
            "\n",
            " 93%|█████████▎| 2377/2556 [07:47<00:43,  4.10it/s]\u001b[A\u001b[A\n",
            "\n",
            " 93%|█████████▎| 2378/2556 [07:47<00:44,  4.01it/s]\u001b[A\u001b[A\n",
            "\n",
            " 93%|█████████▎| 2379/2556 [07:48<00:42,  4.20it/s]\u001b[A\u001b[A\n",
            "\n",
            " 93%|█████████▎| 2380/2556 [07:48<00:42,  4.13it/s]\u001b[A\u001b[A\n",
            "\n",
            " 93%|█████████▎| 2381/2556 [07:48<00:40,  4.32it/s]\u001b[A\u001b[A\n",
            "\n",
            " 93%|█████████▎| 2382/2556 [07:48<00:38,  4.47it/s]\u001b[A\u001b[A\n",
            "\n",
            " 93%|█████████▎| 2383/2556 [07:48<00:37,  4.60it/s]\u001b[A\u001b[A\n",
            "\n",
            " 93%|█████████▎| 2384/2556 [07:49<00:37,  4.64it/s]\u001b[A\u001b[A\n",
            "\n",
            " 93%|█████████▎| 2385/2556 [07:49<00:35,  4.80it/s]\u001b[A\u001b[A\n",
            "\n",
            " 93%|█████████▎| 2386/2556 [07:49<00:35,  4.74it/s]\u001b[A\u001b[A\n",
            "\n",
            " 93%|█████████▎| 2387/2556 [07:49<00:36,  4.67it/s]\u001b[A\u001b[A\n",
            "\n",
            " 93%|█████████▎| 2388/2556 [07:49<00:38,  4.42it/s]\u001b[A\u001b[A"
          ],
          "name": "stderr"
        },
        {
          "output_type": "stream",
          "text": [
            "AI Trader bought:  $ 201.550003\n"
          ],
          "name": "stdout"
        },
        {
          "output_type": "stream",
          "text": [
            "\n",
            "\n",
            " 93%|█████████▎| 2389/2556 [07:50<00:39,  4.25it/s]\u001b[A\u001b[A"
          ],
          "name": "stderr"
        },
        {
          "output_type": "stream",
          "text": [
            "AI Trader bought:  $ 202.729996\n"
          ],
          "name": "stdout"
        },
        {
          "output_type": "stream",
          "text": [
            "\n",
            "\n",
            " 94%|█████████▎| 2390/2556 [07:50<00:40,  4.14it/s]\u001b[A\u001b[A"
          ],
          "name": "stderr"
        },
        {
          "output_type": "stream",
          "text": [
            "AI Trader bought:  $ 204.410004\n"
          ],
          "name": "stdout"
        },
        {
          "output_type": "stream",
          "text": [
            "\n",
            "\n",
            " 94%|█████████▎| 2391/2556 [07:50<00:40,  4.03it/s]\u001b[A\u001b[A"
          ],
          "name": "stderr"
        },
        {
          "output_type": "stream",
          "text": [
            "AI Trader sold:  $ 204.229996  Profit: $ 2.679993\n"
          ],
          "name": "stdout"
        },
        {
          "output_type": "stream",
          "text": [
            "\n",
            "\n",
            " 94%|█████████▎| 2392/2556 [07:51<00:41,  3.96it/s]\u001b[A\u001b[A\n",
            "\n",
            " 94%|█████████▎| 2393/2556 [07:51<00:38,  4.24it/s]\u001b[A\u001b[A"
          ],
          "name": "stderr"
        },
        {
          "output_type": "stream",
          "text": [
            "AI Trader bought:  $ 200.020004\n",
            "AI Trader bought:  $ 201.240005\n"
          ],
          "name": "stdout"
        },
        {
          "output_type": "stream",
          "text": [
            "\n",
            "\n",
            " 94%|█████████▎| 2394/2556 [07:51<00:36,  4.39it/s]\u001b[A\u001b[A\n",
            "\n",
            " 94%|█████████▎| 2395/2556 [07:51<00:35,  4.54it/s]\u001b[A\u001b[A"
          ],
          "name": "stderr"
        },
        {
          "output_type": "stream",
          "text": [
            "AI Trader sold:  $ 203.229996  Profit: $ 0.500000\n"
          ],
          "name": "stdout"
        },
        {
          "output_type": "stream",
          "text": [
            "\n",
            "\n",
            " 94%|█████████▎| 2396/2556 [07:51<00:34,  4.66it/s]\u001b[A\u001b[A"
          ],
          "name": "stderr"
        },
        {
          "output_type": "stream",
          "text": [
            "AI Trader sold:  $ 201.750000  Profit: - $ 2.660004\n",
            "AI Trader bought:  $ 203.300003\n"
          ],
          "name": "stdout"
        },
        {
          "output_type": "stream",
          "text": [
            "\n",
            "\n",
            " 94%|█████████▍| 2397/2556 [07:52<00:34,  4.67it/s]\u001b[A\u001b[A\n",
            "\n",
            " 94%|█████████▍| 2398/2556 [07:52<00:32,  4.79it/s]\u001b[A\u001b[A"
          ],
          "name": "stderr"
        },
        {
          "output_type": "stream",
          "text": [
            "AI Trader bought:  $ 205.210007\n",
            "AI Trader sold:  $ 204.500000  Profit: $ 4.479996\n"
          ],
          "name": "stdout"
        },
        {
          "output_type": "stream",
          "text": [
            "\n",
            "\n",
            " 94%|█████████▍| 2399/2556 [07:52<00:33,  4.65it/s]\u001b[A\u001b[A"
          ],
          "name": "stderr"
        },
        {
          "output_type": "stream",
          "text": [
            "AI Trader sold:  $ 203.350006  Profit: $ 2.110001\n"
          ],
          "name": "stdout"
        },
        {
          "output_type": "stream",
          "text": [
            "\n",
            "\n",
            " 94%|█████████▍| 2400/2556 [07:52<00:34,  4.56it/s]\u001b[A\u001b[A"
          ],
          "name": "stderr"
        },
        {
          "output_type": "stream",
          "text": [
            "AI Trader bought:  $ 205.660004\n"
          ],
          "name": "stdout"
        },
        {
          "output_type": "stream",
          "text": [
            "\n",
            "\n",
            " 94%|█████████▍| 2401/2556 [07:52<00:33,  4.62it/s]\u001b[A\u001b[A"
          ],
          "name": "stderr"
        },
        {
          "output_type": "stream",
          "text": [
            "AI Trader sold:  $ 202.589996  Profit: - $ 0.710007\n"
          ],
          "name": "stdout"
        },
        {
          "output_type": "stream",
          "text": [
            "\n",
            "\n",
            " 94%|█████████▍| 2402/2556 [07:53<00:33,  4.55it/s]\u001b[A\u001b[A"
          ],
          "name": "stderr"
        },
        {
          "output_type": "stream",
          "text": [
            "AI Trader bought:  $ 207.220001\n"
          ],
          "name": "stdout"
        },
        {
          "output_type": "stream",
          "text": [
            "\n",
            "\n",
            " 94%|█████████▍| 2403/2556 [07:53<00:33,  4.56it/s]\u001b[A\u001b[A\n",
            "\n",
            " 94%|█████████▍| 2404/2556 [07:53<00:32,  4.74it/s]\u001b[A\u001b[A"
          ],
          "name": "stderr"
        },
        {
          "output_type": "stream",
          "text": [
            "AI Trader sold:  $ 208.839996  Profit: $ 3.629990\n",
            "AI Trader sold:  $ 208.669998  Profit: $ 3.009995\n"
          ],
          "name": "stdout"
        },
        {
          "output_type": "stream",
          "text": [
            "\n",
            "\n",
            " 94%|█████████▍| 2405/2556 [07:53<00:32,  4.63it/s]\u001b[A\u001b[A\n",
            "\n",
            " 94%|█████████▍| 2406/2556 [07:53<00:31,  4.77it/s]\u001b[A\u001b[A"
          ],
          "name": "stderr"
        },
        {
          "output_type": "stream",
          "text": [
            "AI Trader sold:  $ 207.020004  Profit: - $ 0.199997\n"
          ],
          "name": "stdout"
        },
        {
          "output_type": "stream",
          "text": [
            "\n",
            "\n",
            " 94%|█████████▍| 2407/2556 [07:54<00:30,  4.85it/s]\u001b[A\u001b[A\n",
            "\n",
            " 94%|█████████▍| 2408/2556 [07:54<00:31,  4.76it/s]\u001b[A\u001b[A\n",
            "\n",
            " 94%|█████████▍| 2409/2556 [07:54<00:30,  4.88it/s]\u001b[A\u001b[A\n",
            "\n",
            " 94%|█████████▍| 2410/2556 [07:54<00:29,  4.89it/s]\u001b[A\u001b[A\n",
            "\n",
            " 94%|█████████▍| 2411/2556 [07:54<00:29,  4.90it/s]\u001b[A\u001b[A\n",
            "\n",
            " 94%|█████████▍| 2412/2556 [07:55<00:29,  4.87it/s]\u001b[A\u001b[A\n",
            "\n",
            " 94%|█████████▍| 2413/2556 [07:55<00:29,  4.91it/s]\u001b[A\u001b[A\n",
            "\n",
            " 94%|█████████▍| 2414/2556 [07:55<00:28,  5.02it/s]\u001b[A\u001b[A"
          ],
          "name": "stderr"
        },
        {
          "output_type": "stream",
          "text": [
            "AI Trader bought:  $ 197.000000\n",
            "AI Trader sold:  $ 199.039993  Profit: $ 2.039993\n"
          ],
          "name": "stdout"
        },
        {
          "output_type": "stream",
          "text": [
            "\n",
            "\n",
            " 94%|█████████▍| 2415/2556 [07:55<00:29,  4.83it/s]\u001b[A\u001b[A\n",
            "\n",
            " 95%|█████████▍| 2416/2556 [07:55<00:28,  4.90it/s]\u001b[A\u001b[A"
          ],
          "name": "stderr"
        },
        {
          "output_type": "stream",
          "text": [
            "AI Trader bought:  $ 203.429993\n",
            "AI Trader sold:  $ 200.990005  Profit: - $ 2.439987\n"
          ],
          "name": "stdout"
        },
        {
          "output_type": "stream",
          "text": [
            "\n",
            "\n",
            " 95%|█████████▍| 2417/2556 [07:56<00:28,  4.90it/s]\u001b[A\u001b[A\n",
            "\n",
            " 95%|█████████▍| 2418/2556 [07:56<00:28,  4.86it/s]\u001b[A\u001b[A\n",
            "\n",
            " 95%|█████████▍| 2419/2556 [07:56<00:27,  4.92it/s]\u001b[A\u001b[A\n",
            "\n",
            " 95%|█████████▍| 2420/2556 [07:56<00:28,  4.84it/s]\u001b[A\u001b[A\n",
            "\n",
            " 95%|█████████▍| 2421/2556 [07:57<00:28,  4.68it/s]\u001b[A\u001b[A\n",
            "\n",
            " 95%|█████████▍| 2422/2556 [07:57<00:28,  4.78it/s]\u001b[A\u001b[A\n",
            "\n",
            " 95%|█████████▍| 2423/2556 [07:57<00:28,  4.72it/s]\u001b[A\u001b[A\n",
            "\n",
            " 95%|█████████▍| 2424/2556 [07:57<00:27,  4.73it/s]\u001b[A\u001b[A\n",
            "\n",
            " 95%|█████████▍| 2425/2556 [07:57<00:28,  4.64it/s]\u001b[A\u001b[A\n",
            "\n",
            " 95%|█████████▍| 2426/2556 [07:58<00:27,  4.77it/s]\u001b[A\u001b[A\n",
            "\n",
            " 95%|█████████▍| 2427/2556 [07:58<00:27,  4.75it/s]\u001b[A\u001b[A\n",
            "\n",
            " 95%|█████████▍| 2428/2556 [07:58<00:27,  4.71it/s]\u001b[A\u001b[A\n",
            "\n",
            " 95%|█████████▌| 2429/2556 [07:58<00:27,  4.64it/s]\u001b[A\u001b[A\n",
            "\n",
            " 95%|█████████▌| 2430/2556 [07:58<00:27,  4.62it/s]\u001b[A\u001b[A\n",
            "\n",
            " 95%|█████████▌| 2431/2556 [07:59<00:26,  4.72it/s]\u001b[A\u001b[A\n",
            "\n",
            " 95%|█████████▌| 2432/2556 [07:59<00:26,  4.71it/s]\u001b[A\u001b[A\n",
            "\n",
            " 95%|█████████▌| 2433/2556 [07:59<00:25,  4.79it/s]\u001b[A\u001b[A\n",
            "\n",
            " 95%|█████████▌| 2434/2556 [07:59<00:25,  4.82it/s]\u001b[A\u001b[A\n",
            "\n",
            " 95%|█████████▌| 2435/2556 [08:00<00:25,  4.83it/s]\u001b[A\u001b[A\n",
            "\n",
            " 95%|█████████▌| 2436/2556 [08:00<00:24,  4.94it/s]\u001b[A\u001b[A\n",
            "\n",
            " 95%|█████████▌| 2437/2556 [08:00<00:23,  4.97it/s]\u001b[A\u001b[A\n",
            "\n",
            " 95%|█████████▌| 2438/2556 [08:00<00:23,  4.97it/s]\u001b[A\u001b[A\n",
            "\n",
            " 95%|█████████▌| 2439/2556 [08:00<00:23,  4.95it/s]\u001b[A\u001b[A\n",
            "\n",
            " 95%|█████████▌| 2440/2556 [08:01<00:23,  4.87it/s]\u001b[A\u001b[A\n",
            "\n",
            " 96%|█████████▌| 2441/2556 [08:01<00:23,  4.96it/s]\u001b[A\u001b[A\n",
            "\n",
            " 96%|█████████▌| 2442/2556 [08:01<00:22,  5.01it/s]\u001b[A\u001b[A\n",
            "\n",
            " 96%|█████████▌| 2443/2556 [08:01<00:24,  4.68it/s]\u001b[A\u001b[A\n",
            "\n",
            " 96%|█████████▌| 2444/2556 [08:01<00:25,  4.34it/s]\u001b[A\u001b[A\n",
            "\n",
            " 96%|█████████▌| 2445/2556 [08:02<00:26,  4.19it/s]\u001b[A\u001b[A"
          ],
          "name": "stderr"
        },
        {
          "output_type": "stream",
          "text": [
            "AI Trader bought:  $ 217.729996\n"
          ],
          "name": "stdout"
        },
        {
          "output_type": "stream",
          "text": [
            "\n",
            "\n",
            " 96%|█████████▌| 2446/2556 [08:02<00:26,  4.12it/s]\u001b[A\u001b[A\n",
            "\n",
            " 96%|█████████▌| 2447/2556 [08:02<00:26,  4.04it/s]\u001b[A\u001b[A"
          ],
          "name": "stderr"
        },
        {
          "output_type": "stream",
          "text": [
            "AI Trader sold:  $ 217.679993  Profit: - $ 0.050003\n"
          ],
          "name": "stdout"
        },
        {
          "output_type": "stream",
          "text": [
            "\n",
            "\n",
            " 96%|█████████▌| 2448/2556 [08:02<00:26,  4.12it/s]\u001b[A\u001b[A\n",
            "\n",
            " 96%|█████████▌| 2449/2556 [08:03<00:24,  4.34it/s]"
          ],
          "name": "stderr"
        },
        {
          "output_type": "stream",
          "text": [
            "AI Trader bought:  $ 221.029999\n"
          ],
          "name": "stdout"
        },
        {
          "output_type": "stream",
          "text": [
            "\u001b[A\u001b[A"
          ],
          "name": "stderr"
        },
        {
          "output_type": "stream",
          "text": [
            "AI Trader sold:  $ 219.889999  Profit: - $ 1.139999\n"
          ],
          "name": "stdout"
        },
        {
          "output_type": "stream",
          "text": [
            "\n",
            "\n",
            " 96%|█████████▌| 2450/2556 [08:03<00:24,  4.38it/s]\u001b[A\u001b[A\n",
            "\n",
            " 96%|█████████▌| 2451/2556 [08:03<00:22,  4.58it/s]\u001b[A\u001b[A\n",
            "\n",
            " 96%|█████████▌| 2452/2556 [08:03<00:22,  4.69it/s]\u001b[A\u001b[A"
          ],
          "name": "stderr"
        },
        {
          "output_type": "stream",
          "text": [
            "AI Trader bought:  $ 223.970001\n",
            "AI Trader sold:  $ 224.589996  Profit: $ 0.619995\n"
          ],
          "name": "stdout"
        },
        {
          "output_type": "stream",
          "text": [
            "\n",
            "\n",
            " 96%|█████████▌| 2453/2556 [08:03<00:22,  4.53it/s]\u001b[A\u001b[A\n",
            "\n",
            " 96%|█████████▌| 2454/2556 [08:04<00:21,  4.73it/s]\u001b[A\u001b[A"
          ],
          "name": "stderr"
        },
        {
          "output_type": "stream",
          "text": [
            "AI Trader bought:  $ 220.820007\n"
          ],
          "name": "stdout"
        },
        {
          "output_type": "stream",
          "text": [
            "\n",
            "\n",
            " 96%|█████████▌| 2455/2556 [08:04<00:21,  4.71it/s]\u001b[A\u001b[A\n",
            "\n",
            " 96%|█████████▌| 2456/2556 [08:04<00:20,  4.79it/s]\u001b[A\u001b[A"
          ],
          "name": "stderr"
        },
        {
          "output_type": "stream",
          "text": [
            "AI Trader sold:  $ 227.059998  Profit: $ 6.239990\n"
          ],
          "name": "stdout"
        },
        {
          "output_type": "stream",
          "text": [
            "\n",
            "\n",
            " 96%|█████████▌| 2457/2556 [08:04<00:20,  4.73it/s]\u001b[A\u001b[A\n",
            "\n",
            " 96%|█████████▌| 2458/2556 [08:05<00:20,  4.75it/s]\u001b[A\u001b[A\n",
            "\n",
            " 96%|█████████▌| 2459/2556 [08:05<00:19,  4.88it/s]\u001b[A\u001b[A"
          ],
          "name": "stderr"
        },
        {
          "output_type": "stream",
          "text": [
            "AI Trader bought:  $ 227.029999\n"
          ],
          "name": "stdout"
        },
        {
          "output_type": "stream",
          "text": [
            "\n",
            "\n",
            " 96%|█████████▌| 2460/2556 [08:05<00:19,  4.96it/s]\u001b[A\u001b[A\n",
            "\n",
            " 96%|█████████▋| 2461/2556 [08:05<00:18,  5.01it/s]\u001b[A\u001b[A"
          ],
          "name": "stderr"
        },
        {
          "output_type": "stream",
          "text": [
            "AI Trader sold:  $ 236.210007  Profit: $ 9.180008\n"
          ],
          "name": "stdout"
        },
        {
          "output_type": "stream",
          "text": [
            "\n",
            "\n",
            " 96%|█████████▋| 2462/2556 [08:05<00:18,  5.07it/s]\u001b[A\u001b[A\n",
            "\n",
            " 96%|█████████▋| 2463/2556 [08:06<00:19,  4.72it/s]\u001b[A\u001b[A\n",
            "\n",
            " 96%|█████████▋| 2464/2556 [08:06<00:18,  4.85it/s]\u001b[A\u001b[A\n",
            "\n",
            " 96%|█████████▋| 2465/2556 [08:06<00:18,  4.90it/s]\u001b[A\u001b[A\n",
            "\n",
            " 96%|█████████▋| 2466/2556 [08:06<00:18,  4.96it/s]\u001b[A\u001b[A\n",
            "\n",
            " 97%|█████████▋| 2467/2556 [08:06<00:17,  5.02it/s]\u001b[A\u001b[A\n",
            "\n",
            " 97%|█████████▋| 2468/2556 [08:07<00:17,  4.98it/s]\u001b[A\u001b[A\n",
            "\n",
            " 97%|█████████▋| 2469/2556 [08:07<00:17,  5.03it/s]\u001b[A\u001b[A\n",
            "\n",
            " 97%|█████████▋| 2470/2556 [08:07<00:16,  5.08it/s]\u001b[A\u001b[A\n",
            "\n",
            " 97%|█████████▋| 2471/2556 [08:07<00:16,  5.04it/s]\u001b[A\u001b[A\n",
            "\n",
            " 97%|█████████▋| 2472/2556 [08:07<00:16,  4.95it/s]\u001b[A\u001b[A\n",
            "\n",
            " 97%|█████████▋| 2473/2556 [08:08<00:16,  4.92it/s]\u001b[A\u001b[A\n",
            "\n",
            " 97%|█████████▋| 2474/2556 [08:08<00:16,  4.92it/s]\u001b[A\u001b[A\n",
            "\n",
            " 97%|█████████▋| 2475/2556 [08:08<00:16,  4.94it/s]\u001b[A\u001b[A\n",
            "\n",
            " 97%|█████████▋| 2476/2556 [08:08<00:16,  4.83it/s]\u001b[A\u001b[A\n",
            "\n",
            " 97%|█████████▋| 2477/2556 [08:08<00:16,  4.91it/s]\u001b[A\u001b[A\n",
            "\n",
            " 97%|█████████▋| 2478/2556 [08:09<00:16,  4.84it/s]\u001b[A\u001b[A\n",
            "\n",
            " 97%|█████████▋| 2479/2556 [08:09<00:16,  4.77it/s]\u001b[A\u001b[A\n",
            "\n",
            " 97%|█████████▋| 2480/2556 [08:09<00:15,  4.92it/s]\u001b[A\u001b[A\n",
            "\n",
            " 97%|█████████▋| 2481/2556 [08:09<00:15,  4.92it/s]\u001b[A\u001b[A\n",
            "\n",
            " 97%|█████████▋| 2482/2556 [08:09<00:14,  5.01it/s]\u001b[A\u001b[A\n",
            "\n",
            " 97%|█████████▋| 2483/2556 [08:10<00:14,  4.97it/s]\u001b[A\u001b[A\n",
            "\n",
            " 97%|█████████▋| 2484/2556 [08:10<00:14,  5.03it/s]\u001b[A\u001b[A\n",
            "\n",
            " 97%|█████████▋| 2485/2556 [08:10<00:14,  4.92it/s]\u001b[A\u001b[A\n",
            "\n",
            " 97%|█████████▋| 2486/2556 [08:10<00:14,  4.82it/s]\u001b[A\u001b[A\n",
            "\n",
            " 97%|█████████▋| 2487/2556 [08:10<00:14,  4.84it/s]\u001b[A\u001b[A\n",
            "\n",
            " 97%|█████████▋| 2488/2556 [08:11<00:14,  4.71it/s]\u001b[A\u001b[A\n",
            "\n",
            " 97%|█████████▋| 2489/2556 [08:11<00:13,  4.85it/s]\u001b[A\u001b[A\n",
            "\n"
          ],
          "name": "stderr"
        },
        {
          "output_type": "stream",
          "text": [
            "AI Trader bought:  $ 262.010010\n"
          ],
          "name": "stdout"
        },
        {
          "output_type": "stream",
          "text": [
            "\r 97%|█████████▋| 2490/2556 [08:11<00:13,  4.83it/s]\u001b[A\u001b[A\n",
            "\n",
            " 97%|█████████▋| 2491/2556 [08:11<00:13,  4.86it/s]\u001b[A\u001b[A\n",
            "\n",
            " 97%|█████████▋| 2492/2556 [08:11<00:13,  4.91it/s]\u001b[A\u001b[A"
          ],
          "name": "stderr"
        },
        {
          "output_type": "stream",
          "text": [
            "AI Trader bought:  $ 266.369995\n"
          ],
          "name": "stdout"
        },
        {
          "output_type": "stream",
          "text": [
            "\n",
            "\n",
            " 98%|█████████▊| 2493/2556 [08:12<00:13,  4.85it/s]\u001b[A\u001b[A\n",
            "\n",
            " 98%|█████████▊| 2494/2556 [08:12<00:12,  4.94it/s]\u001b[A\u001b[A"
          ],
          "name": "stderr"
        },
        {
          "output_type": "stream",
          "text": [
            "AI Trader bought:  $ 267.839996\n"
          ],
          "name": "stdout"
        },
        {
          "output_type": "stream",
          "text": [
            "\n",
            "\n",
            " 98%|█████████▊| 2495/2556 [08:12<00:13,  4.65it/s]\u001b[A\u001b[A\n",
            "\n",
            " 98%|█████████▊| 2496/2556 [08:12<00:13,  4.56it/s]\u001b[A\u001b[A\n",
            "\n",
            " 98%|█████████▊| 2497/2556 [08:13<00:13,  4.54it/s]\u001b[A\u001b[A"
          ],
          "name": "stderr"
        },
        {
          "output_type": "stream",
          "text": [
            "AI Trader bought:  $ 261.739990\n"
          ],
          "name": "stdout"
        },
        {
          "output_type": "stream",
          "text": [
            "\n",
            "\n",
            " 98%|█████████▊| 2498/2556 [08:13<00:12,  4.47it/s]\u001b[A\u001b[A\n",
            "\n",
            " 98%|█████████▊| 2499/2556 [08:13<00:12,  4.47it/s]\u001b[A\u001b[A\n",
            "\n",
            " 98%|█████████▊| 2500/2556 [08:13<00:12,  4.47it/s]\u001b[A\u001b[A\n",
            "\n",
            " 98%|█████████▊| 2501/2556 [08:13<00:12,  4.46it/s]\u001b[A\u001b[A"
          ],
          "name": "stderr"
        },
        {
          "output_type": "stream",
          "text": [
            "AI Trader bought:  $ 268.480011\n"
          ],
          "name": "stdout"
        },
        {
          "output_type": "stream",
          "text": [
            "\n",
            "\n",
            " 98%|█████████▊| 2502/2556 [08:14<00:12,  4.45it/s]\u001b[A\u001b[A\n",
            "\n",
            " 98%|█████████▊| 2503/2556 [08:14<00:12,  4.36it/s]\u001b[A\u001b[A\n",
            "\n",
            " 98%|█████████▊| 2504/2556 [08:14<00:11,  4.48it/s]"
          ],
          "name": "stderr"
        },
        {
          "output_type": "stream",
          "text": [
            "AI Trader sold:  $ 271.459991  Profit: $ 9.449982\n"
          ],
          "name": "stdout"
        },
        {
          "output_type": "stream",
          "text": [
            "\u001b[A\u001b[A\n",
            "\n",
            " 98%|█████████▊| 2505/2556 [08:14<00:10,  4.64it/s]\u001b[A\u001b[A"
          ],
          "name": "stderr"
        },
        {
          "output_type": "stream",
          "text": [
            "AI Trader bought:  $ 275.149994\n"
          ],
          "name": "stdout"
        },
        {
          "output_type": "stream",
          "text": [
            "\n",
            "\n",
            " 98%|█████████▊| 2506/2556 [08:14<00:10,  4.66it/s]\u001b[A\u001b[A\n",
            "\n",
            " 98%|█████████▊| 2507/2556 [08:15<00:10,  4.57it/s]\u001b[A\u001b[A\n",
            "\n",
            " 98%|█████████▊| 2508/2556 [08:15<00:10,  4.67it/s]\u001b[A\u001b[A"
          ],
          "name": "stderr"
        },
        {
          "output_type": "stream",
          "text": [
            "AI Trader sold:  $ 279.739990  Profit: $ 13.369995\n",
            "AI Trader sold:  $ 280.019989  Profit: $ 12.179993\n"
          ],
          "name": "stdout"
        },
        {
          "output_type": "stream",
          "text": [
            "\n",
            "\n",
            " 98%|█████████▊| 2509/2556 [08:15<00:10,  4.64it/s]\u001b[A\u001b[A\n",
            "\n",
            " 98%|█████████▊| 2510/2556 [08:15<00:09,  4.71it/s]\u001b[A\u001b[A"
          ],
          "name": "stderr"
        },
        {
          "output_type": "stream",
          "text": [
            "AI Trader sold:  $ 284.000000  Profit: $ 22.260010\n"
          ],
          "name": "stdout"
        },
        {
          "output_type": "stream",
          "text": [
            "\n",
            "\n",
            " 98%|█████████▊| 2511/2556 [08:16<00:09,  4.63it/s]\u001b[A\u001b[A"
          ],
          "name": "stderr"
        },
        {
          "output_type": "stream",
          "text": [
            "AI Trader sold:  $ 284.269989  Profit: $ 15.789978\n"
          ],
          "name": "stdout"
        },
        {
          "output_type": "stream",
          "text": [
            "\n",
            "\n",
            " 98%|█████████▊| 2512/2556 [08:16<00:09,  4.59it/s]\u001b[A\u001b[A"
          ],
          "name": "stderr"
        },
        {
          "output_type": "stream",
          "text": [
            "AI Trader sold:  $ 289.910004  Profit: $ 14.760010\n"
          ],
          "name": "stdout"
        },
        {
          "output_type": "stream",
          "text": [
            "\n",
            "\n",
            " 98%|█████████▊| 2513/2556 [08:16<00:09,  4.56it/s]\u001b[A\u001b[A\n",
            "\n",
            " 98%|█████████▊| 2514/2556 [08:16<00:09,  4.40it/s]\u001b[A\u001b[A\n",
            "\n",
            " 98%|█████████▊| 2515/2556 [08:16<00:09,  4.49it/s]\u001b[A\u001b[A\n",
            "\n",
            " 98%|█████████▊| 2516/2556 [08:17<00:08,  4.51it/s]\u001b[A\u001b[A\n",
            "\n",
            " 98%|█████████▊| 2517/2556 [08:17<00:08,  4.63it/s]\u001b[A\u001b[A\n",
            "\n",
            " 99%|█████████▊| 2518/2556 [08:17<00:08,  4.53it/s]\u001b[A\u001b[A\n",
            "\n",
            " 99%|█████████▊| 2519/2556 [08:17<00:08,  4.52it/s]\u001b[A\u001b[A\n",
            "\n",
            " 99%|█████████▊| 2520/2556 [08:18<00:08,  4.44it/s]\u001b[A\u001b[A\n",
            "\n",
            " 99%|█████████▊| 2521/2556 [08:18<00:08,  4.20it/s]\u001b[A\u001b[A\n",
            "\n",
            " 99%|█████████▊| 2522/2556 [08:18<00:07,  4.28it/s]\u001b[A\u001b[A\n",
            "\n",
            " 99%|█████████▊| 2523/2556 [08:18<00:07,  4.38it/s]\u001b[A\u001b[A\n",
            "\n",
            " 99%|█████████▊| 2524/2556 [08:18<00:07,  4.55it/s]\u001b[A\u001b[A\n",
            "\n",
            " 99%|█████████▉| 2525/2556 [08:19<00:06,  4.65it/s]\u001b[A\u001b[A\n",
            "\n",
            " 99%|█████████▉| 2526/2556 [08:19<00:06,  4.62it/s]\u001b[A\u001b[A\n",
            "\n",
            " 99%|█████████▉| 2527/2556 [08:19<00:06,  4.65it/s]\u001b[A\u001b[A\n",
            "\n",
            " 99%|█████████▉| 2528/2556 [08:19<00:06,  4.35it/s]\u001b[A\u001b[A\n",
            "\n",
            " 99%|█████████▉| 2529/2556 [08:20<00:06,  4.27it/s]\u001b[A\u001b[A\n",
            "\n",
            " 99%|█████████▉| 2530/2556 [08:20<00:06,  4.10it/s]\u001b[A\u001b[A\n",
            "\n",
            " 99%|█████████▉| 2531/2556 [08:20<00:06,  4.01it/s]\u001b[A\u001b[A\n",
            "\n",
            " 99%|█████████▉| 2532/2556 [08:20<00:06,  3.93it/s]\u001b[A\u001b[A\n",
            "\n",
            " 99%|█████████▉| 2533/2556 [08:21<00:05,  3.89it/s]\u001b[A\u001b[A\n",
            "\n",
            " 99%|█████████▉| 2534/2556 [08:21<00:05,  3.84it/s]\u001b[A\u001b[A\n",
            "\n",
            " 99%|█████████▉| 2535/2556 [08:21<00:05,  3.86it/s]\u001b[A\u001b[A\n",
            "\n",
            " 99%|█████████▉| 2536/2556 [08:21<00:05,  3.82it/s]\u001b[A\u001b[A\n",
            "\n",
            " 99%|█████████▉| 2537/2556 [08:22<00:04,  4.07it/s]\u001b[A\u001b[A"
          ],
          "name": "stderr"
        },
        {
          "output_type": "stream",
          "text": [
            "AI Trader bought:  $ 308.660004\n"
          ],
          "name": "stdout"
        },
        {
          "output_type": "stream",
          "text": [
            "\n",
            "\n",
            " 99%|█████████▉| 2538/2556 [08:22<00:04,  4.17it/s]\u001b[A\u001b[A\n",
            "\n",
            " 99%|█████████▉| 2539/2556 [08:22<00:03,  4.38it/s]\u001b[A\u001b[A\n",
            "\n"
          ],
          "name": "stderr"
        },
        {
          "output_type": "stream",
          "text": [
            "AI Trader sold:  $ 321.450012  Profit: $ 12.790009\n"
          ],
          "name": "stdout"
        },
        {
          "output_type": "stream",
          "text": [
            "\r 99%|█████████▉| 2540/2556 [08:22<00:03,  4.50it/s]\u001b[A\u001b[A\n",
            "\n",
            " 99%|█████████▉| 2541/2556 [08:23<00:03,  4.62it/s]\u001b[A\u001b[A\n",
            "\n",
            " 99%|█████████▉| 2542/2556 [08:23<00:03,  4.67it/s]\u001b[A\u001b[A\n",
            "\n",
            " 99%|█████████▉| 2543/2556 [08:23<00:02,  4.73it/s]\u001b[A\u001b[A\n",
            "\n",
            "100%|█████████▉| 2544/2556 [08:23<00:02,  4.88it/s]\u001b[A\u001b[A\n",
            "\n",
            "100%|█████████▉| 2545/2556 [08:23<00:02,  4.74it/s]\u001b[A\u001b[A\n",
            "\n",
            "100%|█████████▉| 2546/2556 [08:24<00:02,  4.73it/s]\u001b[A\u001b[A\n",
            "\n",
            "100%|█████████▉| 2547/2556 [08:24<00:01,  4.75it/s]\u001b[A\u001b[A\n",
            "\n",
            "100%|█████████▉| 2548/2556 [08:24<00:01,  4.63it/s]\u001b[A\u001b[A\n",
            "\n",
            "100%|█████████▉| 2549/2556 [08:24<00:01,  4.76it/s]\u001b[A\u001b[A\n",
            "\n",
            "100%|█████████▉| 2550/2556 [08:24<00:01,  4.83it/s]\u001b[A\u001b[A\n",
            "\n",
            "100%|█████████▉| 2551/2556 [08:25<00:01,  4.92it/s]\u001b[A\u001b[A"
          ],
          "name": "stderr"
        },
        {
          "output_type": "stream",
          "text": [
            "AI Trader bought:  $ 298.179993\n"
          ],
          "name": "stdout"
        },
        {
          "output_type": "stream",
          "text": [
            "\n",
            "\n",
            "100%|█████████▉| 2552/2556 [08:25<00:00,  4.78it/s]\u001b[A\u001b[A"
          ],
          "name": "stderr"
        },
        {
          "output_type": "stream",
          "text": [
            "AI Trader bought:  $ 288.079987\n"
          ],
          "name": "stdout"
        },
        {
          "output_type": "stream",
          "text": [
            "\n",
            "\n",
            "100%|█████████▉| 2553/2556 [08:25<00:00,  4.76it/s]\u001b[A\u001b[A\n",
            "\n",
            "100%|█████████▉| 2554/2556 [08:25<00:00,  4.92it/s]\u001b[A\u001b[A"
          ],
          "name": "stderr"
        },
        {
          "output_type": "stream",
          "text": [
            "AI Trader bought:  $ 292.649994\n",
            "AI Trader sold:  $ 273.519989  Profit: - $ 24.660004\n"
          ],
          "name": "stdout"
        },
        {
          "output_type": "stream",
          "text": [
            "\n",
            "\n",
            "100%|█████████▉| 2555/2556 [08:25<00:00,  4.89it/s]\u001b[A\u001b[A"
          ],
          "name": "stderr"
        },
        {
          "output_type": "stream",
          "text": [
            "AI Trader bought:  $ 273.359985\n",
            "####################\n",
            " - Total profit: 497.25556564331055\n",
            "####################\n"
          ],
          "name": "stdout"
        },
        {
          "output_type": "stream",
          "text": [
            "\n",
            "\n",
            "100%|██████████| 2556/2556 [08:26<00:00,  4.85it/s]\u001b[A\u001b[A\n",
            "\n",
            "\u001b[A\u001b[A"
          ],
          "name": "stderr"
        }
      ]
    }
  ]
}