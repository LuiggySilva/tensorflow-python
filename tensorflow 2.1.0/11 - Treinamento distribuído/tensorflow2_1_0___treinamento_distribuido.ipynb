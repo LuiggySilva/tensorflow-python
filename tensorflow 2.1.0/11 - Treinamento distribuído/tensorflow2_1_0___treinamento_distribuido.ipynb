{
  "nbformat": 4,
  "nbformat_minor": 0,
  "metadata": {
    "colab": {
      "name": "tensorflow2.1.0___treinamento distribuido.ipynb",
      "provenance": [],
      "collapsed_sections": []
    },
    "kernelspec": {
      "name": "python3",
      "display_name": "Python 3"
    },
    "accelerator": "GPU"
  },
  "cells": [
    {
      "cell_type": "markdown",
      "metadata": {
        "id": "IENraTlrkc84",
        "colab_type": "text"
      },
      "source": [
        "> # **TensorFlow  2.1.0** - ***11*** - *Treinamento distribuido*"
      ]
    },
    {
      "cell_type": "code",
      "metadata": {
        "id": "CDbXpsDCi_Mh",
        "colab_type": "code",
        "colab": {
          "base_uri": "https://localhost:8080/",
          "height": 34
        },
        "outputId": "390a3e59-f67c-48d0-a310-9dc4cec0c8fd"
      },
      "source": [
        "try:\n",
        "  %tensorflow_version 2.x\n",
        "except:\n",
        "  pass\n",
        "import tensorflow as tf\n",
        "import numpy as np\n",
        "import time"
      ],
      "execution_count": 1,
      "outputs": [
        {
          "output_type": "stream",
          "text": [
            "TensorFlow 2.x selected.\n"
          ],
          "name": "stdout"
        }
      ]
    },
    {
      "cell_type": "code",
      "metadata": {
        "id": "Dx6tEGb9kvXG",
        "colab_type": "code",
        "colab": {}
      },
      "source": [
        "# carregando base de dados MNIST\n",
        "(x_training, y_training), (x_test, y_test) = tf.keras.datasets.mnist.load_data()"
      ],
      "execution_count": 0,
      "outputs": []
    },
    {
      "cell_type": "code",
      "metadata": {
        "id": "YSxFWWZYk7Z3",
        "colab_type": "code",
        "colab": {}
      },
      "source": [
        "# normalização da base de dados\n",
        "x_training = x_training / 255.\n",
        "x_test = x_test / 255.\n",
        "\n",
        "# mudança nas dimensões\n",
        "x_training = x_training.reshape(-1, 28 * 28)\n",
        "x_test = x_test.reshape(-1, 28 * 28)"
      ],
      "execution_count": 0,
      "outputs": []
    },
    {
      "cell_type": "code",
      "metadata": {
        "id": "BiRQmpiGls1r",
        "colab_type": "code",
        "colab": {
          "base_uri": "https://localhost:8080/",
          "height": 259
        },
        "outputId": "e43852cd-7507-4ea2-b85f-7814c61e7f70"
      },
      "source": [
        "# definindo modelo (não distribuido)\n",
        "model_normal = tf.keras.models.Sequential()\n",
        "model_normal.add(tf.keras.layers.Dense(units=128, activation='relu', input_shape=(784,)))\n",
        "model_normal.add(tf.keras.layers.Dropout(rate=0.2))\n",
        "model_normal.add(tf.keras.layers.Dense(units=10, activation='softmax'))\n",
        "# compilando modelo normal\n",
        "model_normal.compile(optimizer='adam', \n",
        "                     loss='sparse_categorical_crossentropy', \n",
        "                     metrics=['sparse_categorical_accuracy'])\n",
        "model_normal.summary()"
      ],
      "execution_count": 6,
      "outputs": [
        {
          "output_type": "stream",
          "text": [
            "Model: \"sequential_1\"\n",
            "_________________________________________________________________\n",
            "Layer (type)                 Output Shape              Param #   \n",
            "=================================================================\n",
            "dense_2 (Dense)              (None, 128)               100480    \n",
            "_________________________________________________________________\n",
            "dropout_1 (Dropout)          (None, 128)               0         \n",
            "_________________________________________________________________\n",
            "dense_3 (Dense)              (None, 10)                1290      \n",
            "=================================================================\n",
            "Total params: 101,770\n",
            "Trainable params: 101,770\n",
            "Non-trainable params: 0\n",
            "_________________________________________________________________\n"
          ],
          "name": "stdout"
        }
      ]
    },
    {
      "cell_type": "code",
      "metadata": {
        "id": "_20-Oe0VmJ9m",
        "colab_type": "code",
        "colab": {
          "base_uri": "https://localhost:8080/",
          "height": 331
        },
        "outputId": "efc24640-c7ed-4469-f9d0-5cf16a75ce09"
      },
      "source": [
        "# definindo modelo (distribuido)\n",
        "distribute = tf.distribute.MirroredStrategy()\n",
        "with distribute.scope():\n",
        "  model_distributed = tf.keras.models.Sequential()\n",
        "  model_distributed.add(tf.keras.layers.Dense(units=128, activation='relu', input_shape=(784,)))\n",
        "  model_distributed.add(tf.keras.layers.Dropout(rate=0.2))\n",
        "  model_distributed.add(tf.keras.layers.Dense(units=10, activation='softmax'))\n",
        "  # compilando modelo distribuido\n",
        "  model_distributed.compile(optimizer='adam', \n",
        "                            loss='sparse_categorical_crossentropy', \n",
        "                            metrics=['sparse_categorical_accuracy'])\n",
        "\n",
        "model_distributed.summary()"
      ],
      "execution_count": 7,
      "outputs": [
        {
          "output_type": "stream",
          "text": [
            "INFO:tensorflow:Using MirroredStrategy with devices ('/job:localhost/replica:0/task:0/device:GPU:0',)\n",
            "INFO:tensorflow:Reduce to /job:localhost/replica:0/task:0/device:CPU:0 then broadcast to ('/job:localhost/replica:0/task:0/device:CPU:0',).\n",
            "INFO:tensorflow:Reduce to /job:localhost/replica:0/task:0/device:CPU:0 then broadcast to ('/job:localhost/replica:0/task:0/device:CPU:0',).\n",
            "Model: \"sequential_2\"\n",
            "_________________________________________________________________\n",
            "Layer (type)                 Output Shape              Param #   \n",
            "=================================================================\n",
            "dense_4 (Dense)              (None, 128)               100480    \n",
            "_________________________________________________________________\n",
            "dropout_2 (Dropout)          (None, 128)               0         \n",
            "_________________________________________________________________\n",
            "dense_5 (Dense)              (None, 10)                1290      \n",
            "=================================================================\n",
            "Total params: 101,770\n",
            "Trainable params: 101,770\n",
            "Non-trainable params: 0\n",
            "_________________________________________________________________\n"
          ],
          "name": "stdout"
        }
      ]
    },
    {
      "cell_type": "code",
      "metadata": {
        "id": "t1y9ktUXmmm2",
        "colab_type": "code",
        "colab": {
          "base_uri": "https://localhost:8080/",
          "height": 850
        },
        "outputId": "eb420b31-77c5-49bc-de6f-f059c86062d6"
      },
      "source": [
        "# comparando a velocidade entre o treinamento normal e distribuido\n",
        "starting_time = time.time()\n",
        "model_distributed.fit(x_training, y_training, epochs= 20, batch_size= 128)\n",
        "print(f'\\nDistributed training: {time.time() - starting_time}')"
      ],
      "execution_count": 11,
      "outputs": [
        {
          "output_type": "stream",
          "text": [
            "Train on 60000 samples\n",
            "Epoch 1/20\n",
            "INFO:tensorflow:Reduce to /job:localhost/replica:0/task:0/device:CPU:0 then broadcast to ('/job:localhost/replica:0/task:0/device:CPU:0',).\n",
            "INFO:tensorflow:Reduce to /job:localhost/replica:0/task:0/device:CPU:0 then broadcast to ('/job:localhost/replica:0/task:0/device:CPU:0',).\n",
            "INFO:tensorflow:Reduce to /job:localhost/replica:0/task:0/device:CPU:0 then broadcast to ('/job:localhost/replica:0/task:0/device:CPU:0',).\n",
            "INFO:tensorflow:Reduce to /job:localhost/replica:0/task:0/device:CPU:0 then broadcast to ('/job:localhost/replica:0/task:0/device:CPU:0',).\n",
            "60000/60000 [==============================] - 6s 106us/sample - loss: 1.8351 - sparse_categorical_accuracy: 0.5331\n",
            "Epoch 2/20\n",
            "60000/60000 [==============================] - 2s 33us/sample - loss: 0.9763 - sparse_categorical_accuracy: 0.7578\n",
            "Epoch 3/20\n",
            "60000/60000 [==============================] - 2s 35us/sample - loss: 0.6803 - sparse_categorical_accuracy: 0.8192\n",
            "Epoch 4/20\n",
            "60000/60000 [==============================] - 2s 35us/sample - loss: 0.5461 - sparse_categorical_accuracy: 0.8507\n",
            "Epoch 5/20\n",
            "60000/60000 [==============================] - 2s 34us/sample - loss: 0.4750 - sparse_categorical_accuracy: 0.8677\n",
            "Epoch 6/20\n",
            "60000/60000 [==============================] - 2s 35us/sample - loss: 0.4290 - sparse_categorical_accuracy: 0.8803\n",
            "Epoch 7/20\n",
            "60000/60000 [==============================] - 2s 33us/sample - loss: 0.3971 - sparse_categorical_accuracy: 0.8885\n",
            "Epoch 8/20\n",
            "60000/60000 [==============================] - 2s 33us/sample - loss: 0.3745 - sparse_categorical_accuracy: 0.8928\n",
            "Epoch 9/20\n",
            "60000/60000 [==============================] - 2s 35us/sample - loss: 0.3555 - sparse_categorical_accuracy: 0.8982\n",
            "Epoch 10/20\n",
            "60000/60000 [==============================] - 2s 37us/sample - loss: 0.3408 - sparse_categorical_accuracy: 0.9015\n",
            "Epoch 11/20\n",
            "60000/60000 [==============================] - 2s 37us/sample - loss: 0.3303 - sparse_categorical_accuracy: 0.9044\n",
            "Epoch 12/20\n",
            "60000/60000 [==============================] - 2s 35us/sample - loss: 0.3174 - sparse_categorical_accuracy: 0.9076\n",
            "Epoch 13/20\n",
            "60000/60000 [==============================] - 2s 37us/sample - loss: 0.3082 - sparse_categorical_accuracy: 0.9095\n",
            "Epoch 14/20\n",
            "60000/60000 [==============================] - 2s 36us/sample - loss: 0.2983 - sparse_categorical_accuracy: 0.9132\n",
            "Epoch 15/20\n",
            "60000/60000 [==============================] - 2s 37us/sample - loss: 0.2898 - sparse_categorical_accuracy: 0.9165\n",
            "Epoch 16/20\n",
            "60000/60000 [==============================] - 2s 35us/sample - loss: 0.2828 - sparse_categorical_accuracy: 0.9175\n",
            "Epoch 17/20\n",
            "60000/60000 [==============================] - 2s 36us/sample - loss: 0.2754 - sparse_categorical_accuracy: 0.9193\n",
            "Epoch 18/20\n",
            "60000/60000 [==============================] - 2s 36us/sample - loss: 0.2684 - sparse_categorical_accuracy: 0.9210\n",
            "Epoch 19/20\n",
            "60000/60000 [==============================] - 2s 35us/sample - loss: 0.2620 - sparse_categorical_accuracy: 0.9240\n",
            "Epoch 20/20\n",
            "60000/60000 [==============================] - 2s 34us/sample - loss: 0.2554 - sparse_categorical_accuracy: 0.9255\n",
            "\n",
            "Distributed training: 46.91095948219299\n"
          ],
          "name": "stdout"
        }
      ]
    },
    {
      "cell_type": "code",
      "metadata": {
        "id": "drcIAj5zn9EJ",
        "colab_type": "code",
        "colab": {
          "base_uri": "https://localhost:8080/",
          "height": 761
        },
        "outputId": "fcc5442f-3b59-4585-cd1f-e40dd355249a"
      },
      "source": [
        "starting_time = time.time()\n",
        "model_normal.fit(x_training, y_training, epochs= 20, batch_size= 128)\n",
        "print(f'\\nDistributed training: {time.time() - starting_time}')"
      ],
      "execution_count": 12,
      "outputs": [
        {
          "output_type": "stream",
          "text": [
            "Train on 60000 samples\n",
            "Epoch 1/20\n",
            "60000/60000 [==============================] - 2s 37us/sample - loss: 1.8400 - sparse_categorical_accuracy: 0.5562\n",
            "Epoch 2/20\n",
            "60000/60000 [==============================] - 2s 32us/sample - loss: 0.9616 - sparse_categorical_accuracy: 0.7689\n",
            "Epoch 3/20\n",
            "60000/60000 [==============================] - 2s 33us/sample - loss: 0.6596 - sparse_categorical_accuracy: 0.8280\n",
            "Epoch 4/20\n",
            "60000/60000 [==============================] - 2s 33us/sample - loss: 0.5320 - sparse_categorical_accuracy: 0.8574\n",
            "Epoch 5/20\n",
            "60000/60000 [==============================] - 2s 32us/sample - loss: 0.4630 - sparse_categorical_accuracy: 0.8722\n",
            "Epoch 6/20\n",
            "60000/60000 [==============================] - 2s 31us/sample - loss: 0.4192 - sparse_categorical_accuracy: 0.8824\n",
            "Epoch 7/20\n",
            "60000/60000 [==============================] - 2s 32us/sample - loss: 0.3918 - sparse_categorical_accuracy: 0.8883\n",
            "Epoch 8/20\n",
            "60000/60000 [==============================] - 2s 32us/sample - loss: 0.3695 - sparse_categorical_accuracy: 0.8942\n",
            "Epoch 9/20\n",
            "60000/60000 [==============================] - 2s 33us/sample - loss: 0.3524 - sparse_categorical_accuracy: 0.8990\n",
            "Epoch 10/20\n",
            "60000/60000 [==============================] - 2s 34us/sample - loss: 0.3385 - sparse_categorical_accuracy: 0.9024\n",
            "Epoch 11/20\n",
            "60000/60000 [==============================] - 2s 33us/sample - loss: 0.3257 - sparse_categorical_accuracy: 0.9052\n",
            "Epoch 12/20\n",
            "60000/60000 [==============================] - 2s 35us/sample - loss: 0.3157 - sparse_categorical_accuracy: 0.9071\n",
            "Epoch 13/20\n",
            "60000/60000 [==============================] - 2s 34us/sample - loss: 0.3059 - sparse_categorical_accuracy: 0.9108\n",
            "Epoch 14/20\n",
            "60000/60000 [==============================] - 2s 33us/sample - loss: 0.2984 - sparse_categorical_accuracy: 0.9125\n",
            "Epoch 15/20\n",
            "60000/60000 [==============================] - 2s 34us/sample - loss: 0.2890 - sparse_categorical_accuracy: 0.9158\n",
            "Epoch 16/20\n",
            "60000/60000 [==============================] - 2s 32us/sample - loss: 0.2821 - sparse_categorical_accuracy: 0.9181\n",
            "Epoch 17/20\n",
            "60000/60000 [==============================] - 2s 32us/sample - loss: 0.2758 - sparse_categorical_accuracy: 0.9197\n",
            "Epoch 18/20\n",
            "60000/60000 [==============================] - 2s 33us/sample - loss: 0.2692 - sparse_categorical_accuracy: 0.9216\n",
            "Epoch 19/20\n",
            "60000/60000 [==============================] - 2s 34us/sample - loss: 0.2603 - sparse_categorical_accuracy: 0.9252\n",
            "Epoch 20/20\n",
            "60000/60000 [==============================] - 2s 33us/sample - loss: 0.2545 - sparse_categorical_accuracy: 0.9256\n",
            "\n",
            "Distributed training: 39.79348278045654\n"
          ],
          "name": "stdout"
        }
      ]
    }
  ]
}