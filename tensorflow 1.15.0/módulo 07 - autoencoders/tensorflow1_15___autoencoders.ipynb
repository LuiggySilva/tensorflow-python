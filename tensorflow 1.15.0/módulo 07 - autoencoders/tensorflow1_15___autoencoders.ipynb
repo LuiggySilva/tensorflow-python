{
  "nbformat": 4,
  "nbformat_minor": 0,
  "metadata": {
    "colab": {
      "name": "tensorflow1_15___autoencoders.ipynb",
      "provenance": [],
      "collapsed_sections": []
    },
    "kernelspec": {
      "name": "python3",
      "display_name": "Python 3"
    }
  },
  "cells": [
    {
      "cell_type": "code",
      "metadata": {
        "id": "vw2DmShB6y1T",
        "colab_type": "code",
        "colab": {}
      },
      "source": [
        "import pandas as pd\n",
        "import tensorflow as tf\n",
        "import matplotlib.pyplot as plt\n",
        "import numpy as np\n",
        "\n",
        "from sklearn.preprocessing import StandardScaler\n",
        "from sklearn.model_selection import train_test_split"
      ],
      "execution_count": 0,
      "outputs": []
    },
    {
      "cell_type": "markdown",
      "metadata": {
        "id": "lpBUqDoZ6_pR",
        "colab_type": "text"
      },
      "source": [
        "> # **Aula 023** - Redução de dimensionalidade - **Tensorflow: Autoencoders**\n",
        "> Exemplo: Prever se cliente vai pagar ou não um empréstimo"
      ]
    },
    {
      "cell_type": "code",
      "metadata": {
        "id": "IzzqzmDL7KMF",
        "colab_type": "code",
        "outputId": "79094340-f9e6-4123-ae94-c852f40014b9",
        "colab": {
          "base_uri": "https://localhost:8080/",
          "height": 205
        }
      },
      "source": [
        "base = pd.read_csv('credit-data.csv')\n",
        "base = base.drop('i#clientid', axis= 1)\n",
        "base = base.dropna()\n",
        "base.head()"
      ],
      "execution_count": 71,
      "outputs": [
        {
          "output_type": "execute_result",
          "data": {
            "text/html": [
              "<div>\n",
              "<style scoped>\n",
              "    .dataframe tbody tr th:only-of-type {\n",
              "        vertical-align: middle;\n",
              "    }\n",
              "\n",
              "    .dataframe tbody tr th {\n",
              "        vertical-align: top;\n",
              "    }\n",
              "\n",
              "    .dataframe thead th {\n",
              "        text-align: right;\n",
              "    }\n",
              "</style>\n",
              "<table border=\"1\" class=\"dataframe\">\n",
              "  <thead>\n",
              "    <tr style=\"text-align: right;\">\n",
              "      <th></th>\n",
              "      <th>income</th>\n",
              "      <th>age</th>\n",
              "      <th>loan</th>\n",
              "      <th>c#default</th>\n",
              "    </tr>\n",
              "  </thead>\n",
              "  <tbody>\n",
              "    <tr>\n",
              "      <th>0</th>\n",
              "      <td>66155.925095</td>\n",
              "      <td>59.017015</td>\n",
              "      <td>8106.532131</td>\n",
              "      <td>0</td>\n",
              "    </tr>\n",
              "    <tr>\n",
              "      <th>1</th>\n",
              "      <td>34415.153966</td>\n",
              "      <td>48.117153</td>\n",
              "      <td>6564.745018</td>\n",
              "      <td>0</td>\n",
              "    </tr>\n",
              "    <tr>\n",
              "      <th>2</th>\n",
              "      <td>57317.170063</td>\n",
              "      <td>63.108049</td>\n",
              "      <td>8020.953296</td>\n",
              "      <td>0</td>\n",
              "    </tr>\n",
              "    <tr>\n",
              "      <th>3</th>\n",
              "      <td>42709.534201</td>\n",
              "      <td>45.751972</td>\n",
              "      <td>6103.642260</td>\n",
              "      <td>0</td>\n",
              "    </tr>\n",
              "    <tr>\n",
              "      <th>4</th>\n",
              "      <td>66952.688845</td>\n",
              "      <td>18.584336</td>\n",
              "      <td>8770.099235</td>\n",
              "      <td>1</td>\n",
              "    </tr>\n",
              "  </tbody>\n",
              "</table>\n",
              "</div>"
            ],
            "text/plain": [
              "         income        age         loan  c#default\n",
              "0  66155.925095  59.017015  8106.532131          0\n",
              "1  34415.153966  48.117153  6564.745018          0\n",
              "2  57317.170063  63.108049  8020.953296          0\n",
              "3  42709.534201  45.751972  6103.642260          0\n",
              "4  66952.688845  18.584336  8770.099235          1"
            ]
          },
          "metadata": {
            "tags": []
          },
          "execution_count": 71
        }
      ]
    },
    {
      "cell_type": "code",
      "metadata": {
        "id": "XoYY6SO17bsA",
        "colab_type": "code",
        "outputId": "755002e7-e3c0-44d4-e3e3-e8b0b331d4f9",
        "colab": {
          "base_uri": "https://localhost:8080/",
          "height": 34
        }
      },
      "source": [
        "base.shape"
      ],
      "execution_count": 72,
      "outputs": [
        {
          "output_type": "execute_result",
          "data": {
            "text/plain": [
              "(1997, 4)"
            ]
          },
          "metadata": {
            "tags": []
          },
          "execution_count": 72
        }
      ]
    },
    {
      "cell_type": "code",
      "metadata": {
        "id": "J8gWs-oQUABs",
        "colab_type": "code",
        "colab": {
          "base_uri": "https://localhost:8080/",
          "height": 205
        },
        "outputId": "f2209b17-f9bb-4a5b-cb60-4699863e3c67"
      },
      "source": [
        "# preprocessing\n",
        "scaler_x = StandardScaler()\n",
        "base[['income',\t'age',\t'loan']] = scaler_x.fit_transform(base[['income',\t'age',\t'loan']])\n",
        "base.head()"
      ],
      "execution_count": 73,
      "outputs": [
        {
          "output_type": "execute_result",
          "data": {
            "text/html": [
              "<div>\n",
              "<style scoped>\n",
              "    .dataframe tbody tr th:only-of-type {\n",
              "        vertical-align: middle;\n",
              "    }\n",
              "\n",
              "    .dataframe tbody tr th {\n",
              "        vertical-align: top;\n",
              "    }\n",
              "\n",
              "    .dataframe thead th {\n",
              "        text-align: right;\n",
              "    }\n",
              "</style>\n",
              "<table border=\"1\" class=\"dataframe\">\n",
              "  <thead>\n",
              "    <tr style=\"text-align: right;\">\n",
              "      <th></th>\n",
              "      <th>income</th>\n",
              "      <th>age</th>\n",
              "      <th>loan</th>\n",
              "      <th>c#default</th>\n",
              "    </tr>\n",
              "  </thead>\n",
              "  <tbody>\n",
              "    <tr>\n",
              "      <th>0</th>\n",
              "      <td>1.453898</td>\n",
              "      <td>1.336861</td>\n",
              "      <td>1.201907</td>\n",
              "      <td>0</td>\n",
              "    </tr>\n",
              "    <tr>\n",
              "      <th>1</th>\n",
              "      <td>-0.762398</td>\n",
              "      <td>0.536639</td>\n",
              "      <td>0.695744</td>\n",
              "      <td>0</td>\n",
              "    </tr>\n",
              "    <tr>\n",
              "      <th>2</th>\n",
              "      <td>0.836733</td>\n",
              "      <td>1.637207</td>\n",
              "      <td>1.173812</td>\n",
              "      <td>0</td>\n",
              "    </tr>\n",
              "    <tr>\n",
              "      <th>3</th>\n",
              "      <td>-0.183244</td>\n",
              "      <td>0.362998</td>\n",
              "      <td>0.544366</td>\n",
              "      <td>0</td>\n",
              "    </tr>\n",
              "    <tr>\n",
              "      <th>4</th>\n",
              "      <td>1.509532</td>\n",
              "      <td>-1.631534</td>\n",
              "      <td>1.419754</td>\n",
              "      <td>1</td>\n",
              "    </tr>\n",
              "  </tbody>\n",
              "</table>\n",
              "</div>"
            ],
            "text/plain": [
              "     income       age      loan  c#default\n",
              "0  1.453898  1.336861  1.201907          0\n",
              "1 -0.762398  0.536639  0.695744          0\n",
              "2  0.836733  1.637207  1.173812          0\n",
              "3 -0.183244  0.362998  0.544366          0\n",
              "4  1.509532 -1.631534  1.419754          1"
            ]
          },
          "metadata": {
            "tags": []
          },
          "execution_count": 73
        }
      ]
    },
    {
      "cell_type": "code",
      "metadata": {
        "id": "Ke9N8ZWzVHBO",
        "colab_type": "code",
        "colab": {
          "base_uri": "https://localhost:8080/",
          "height": 69
        },
        "outputId": "d3571048-7e47-4ffe-c32d-86b6edfbe30e"
      },
      "source": [
        "X = base.drop('c#default', axis= 1)\n",
        "y = base['c#default']\n",
        "\n",
        "colunas = [tf.feature_column.numeric_column(key = c) for c in X.columns]\n",
        "colunas"
      ],
      "execution_count": 74,
      "outputs": [
        {
          "output_type": "execute_result",
          "data": {
            "text/plain": [
              "[NumericColumn(key='income', shape=(1,), default_value=None, dtype=tf.float32, normalizer_fn=None),\n",
              " NumericColumn(key='age', shape=(1,), default_value=None, dtype=tf.float32, normalizer_fn=None),\n",
              " NumericColumn(key='loan', shape=(1,), default_value=None, dtype=tf.float32, normalizer_fn=None)]"
            ]
          },
          "metadata": {
            "tags": []
          },
          "execution_count": 74
        }
      ]
    },
    {
      "cell_type": "code",
      "metadata": {
        "id": "Snk7ZCOEVfTT",
        "colab_type": "code",
        "colab": {
          "base_uri": "https://localhost:8080/",
          "height": 746
        },
        "outputId": "b488b39c-e393-412c-c0ea-84addc9ab131"
      },
      "source": [
        "x_training, x_test, y_training, y_test = train_test_split(X, y, test_size= 0.3)\n",
        "\n",
        "training_function = tf.estimator.inputs.pandas_input_fn(x= x_training, y= y_training,\n",
        "                                                        batch_size= 8, num_epochs= None,\n",
        "                                                        shuffle= True)\n",
        "\n",
        "classificator = tf.estimator.DNNClassifier(feature_columns= colunas, hidden_units= [4,4])\n",
        "classificator.train(input_fn= training_function, steps= 1000)"
      ],
      "execution_count": 75,
      "outputs": [
        {
          "output_type": "stream",
          "text": [
            "INFO:tensorflow:Using default config.\n",
            "WARNING:tensorflow:Using temporary folder as model directory: /tmp/tmp8x2p7t40\n",
            "INFO:tensorflow:Using config: {'_model_dir': '/tmp/tmp8x2p7t40', '_tf_random_seed': None, '_save_summary_steps': 100, '_save_checkpoints_steps': None, '_save_checkpoints_secs': 600, '_session_config': allow_soft_placement: true\n",
            "graph_options {\n",
            "  rewrite_options {\n",
            "    meta_optimizer_iterations: ONE\n",
            "  }\n",
            "}\n",
            ", '_keep_checkpoint_max': 5, '_keep_checkpoint_every_n_hours': 10000, '_log_step_count_steps': 100, '_train_distribute': None, '_device_fn': None, '_protocol': None, '_eval_distribute': None, '_experimental_distribute': None, '_experimental_max_worker_delay_secs': None, '_session_creation_timeout_secs': 7200, '_service': None, '_cluster_spec': <tensorflow.python.training.server_lib.ClusterSpec object at 0x7f50bd122748>, '_task_type': 'worker', '_task_id': 0, '_global_id_in_cluster': 0, '_master': '', '_evaluation_master': '', '_is_chief': True, '_num_ps_replicas': 0, '_num_worker_replicas': 1}\n",
            "INFO:tensorflow:Calling model_fn.\n",
            "INFO:tensorflow:Done calling model_fn.\n",
            "INFO:tensorflow:Create CheckpointSaverHook.\n",
            "INFO:tensorflow:Graph was finalized.\n",
            "INFO:tensorflow:Running local_init_op.\n",
            "INFO:tensorflow:Done running local_init_op.\n",
            "INFO:tensorflow:Saving checkpoints for 0 into /tmp/tmp8x2p7t40/model.ckpt.\n",
            "INFO:tensorflow:loss = 5.192916, step = 1\n",
            "INFO:tensorflow:global_step/sec: 350.818\n",
            "INFO:tensorflow:loss = 0.8515313, step = 101 (0.291 sec)\n",
            "WARNING:tensorflow:It seems that global step (tf.train.get_global_step) has not been increased. Current value (could be stable): 197 vs previous value: 197. You could increase the global step by passing tf.train.get_global_step() to Optimizer.apply_gradients or Optimizer.minimize.\n",
            "WARNING:tensorflow:It seems that global step (tf.train.get_global_step) has not been increased. Current value (could be stable): 199 vs previous value: 199. You could increase the global step by passing tf.train.get_global_step() to Optimizer.apply_gradients or Optimizer.minimize.\n",
            "INFO:tensorflow:global_step/sec: 276.44\n",
            "INFO:tensorflow:loss = 0.12311334, step = 201 (0.365 sec)\n",
            "INFO:tensorflow:global_step/sec: 429.927\n",
            "INFO:tensorflow:loss = 0.41984275, step = 301 (0.227 sec)\n",
            "INFO:tensorflow:global_step/sec: 417.923\n",
            "INFO:tensorflow:loss = 0.26981407, step = 401 (0.238 sec)\n",
            "INFO:tensorflow:global_step/sec: 518.875\n",
            "INFO:tensorflow:loss = 0.59385794, step = 501 (0.199 sec)\n",
            "INFO:tensorflow:global_step/sec: 441.884\n",
            "INFO:tensorflow:loss = 0.39485425, step = 601 (0.228 sec)\n",
            "WARNING:tensorflow:It seems that global step (tf.train.get_global_step) has not been increased. Current value (could be stable): 633 vs previous value: 633. You could increase the global step by passing tf.train.get_global_step() to Optimizer.apply_gradients or Optimizer.minimize.\n",
            "INFO:tensorflow:global_step/sec: 422.427\n",
            "INFO:tensorflow:loss = 0.8410751, step = 701 (0.239 sec)\n",
            "INFO:tensorflow:global_step/sec: 407.758\n",
            "INFO:tensorflow:loss = 1.2578416, step = 801 (0.235 sec)\n",
            "INFO:tensorflow:global_step/sec: 442.359\n",
            "INFO:tensorflow:loss = 0.0015564132, step = 901 (0.239 sec)\n",
            "INFO:tensorflow:Saving checkpoints for 1000 into /tmp/tmp8x2p7t40/model.ckpt.\n",
            "INFO:tensorflow:Loss for final step: 1.3399475.\n"
          ],
          "name": "stdout"
        },
        {
          "output_type": "execute_result",
          "data": {
            "text/plain": [
              "<tensorflow_estimator.python.estimator.canned.dnn.DNNClassifier at 0x7f50be597208>"
            ]
          },
          "metadata": {
            "tags": []
          },
          "execution_count": 75
        }
      ]
    },
    {
      "cell_type": "code",
      "metadata": {
        "id": "FnFG7IChXA5B",
        "colab_type": "code",
        "colab": {
          "base_uri": "https://localhost:8080/",
          "height": 418
        },
        "outputId": "7f89e63f-bee7-4562-c41c-6479a4fd0860"
      },
      "source": [
        "test_function = tf.estimator.inputs.pandas_input_fn(x= x_test, y= y_test,\n",
        "                                                    batch_size= 8, num_epochs= 1000,\n",
        "                                                    shuffle= False)\n",
        "\n",
        "test_metrics = classificator.evaluate(input_fn= test_function, steps= 1000)"
      ],
      "execution_count": 76,
      "outputs": [
        {
          "output_type": "stream",
          "text": [
            "INFO:tensorflow:Calling model_fn.\n",
            "WARNING:tensorflow:Trapezoidal rule is known to produce incorrect PR-AUCs; please switch to \"careful_interpolation\" instead.\n",
            "WARNING:tensorflow:Trapezoidal rule is known to produce incorrect PR-AUCs; please switch to \"careful_interpolation\" instead.\n",
            "INFO:tensorflow:Done calling model_fn.\n",
            "INFO:tensorflow:Starting evaluation at 2020-02-21T01:57:10Z\n",
            "INFO:tensorflow:Graph was finalized.\n",
            "INFO:tensorflow:Restoring parameters from /tmp/tmp8x2p7t40/model.ckpt-1000\n",
            "INFO:tensorflow:Running local_init_op.\n",
            "INFO:tensorflow:Done running local_init_op.\n",
            "INFO:tensorflow:Evaluation [100/1000]\n",
            "INFO:tensorflow:Evaluation [200/1000]\n",
            "INFO:tensorflow:Evaluation [300/1000]\n",
            "INFO:tensorflow:Evaluation [400/1000]\n",
            "INFO:tensorflow:Evaluation [500/1000]\n",
            "INFO:tensorflow:Evaluation [600/1000]\n",
            "INFO:tensorflow:Evaluation [700/1000]\n",
            "INFO:tensorflow:Evaluation [800/1000]\n",
            "INFO:tensorflow:Evaluation [900/1000]\n",
            "INFO:tensorflow:Evaluation [1000/1000]\n",
            "INFO:tensorflow:Finished evaluation at 2020-02-21-01:57:13\n",
            "INFO:tensorflow:Saving dict for global step 1000: accuracy = 0.973625, accuracy_baseline = 0.85375, auc = 0.9965698, auc_precision_recall = 0.9583384, average_loss = 0.06652077, global_step = 1000, label/mean = 0.14625, loss = 0.5321662, precision = 0.98680204, prediction/mean = 0.13266745, recall = 0.83076924\n",
            "INFO:tensorflow:Saving 'checkpoint_path' summary for global step 1000: /tmp/tmp8x2p7t40/model.ckpt-1000\n"
          ],
          "name": "stdout"
        }
      ]
    },
    {
      "cell_type": "markdown",
      "metadata": {
        "id": "sljywxWAZoFt",
        "colab_type": "text"
      },
      "source": [
        "> test_metrics without linear autoencoder results"
      ]
    },
    {
      "cell_type": "code",
      "metadata": {
        "id": "x75HqlUOXcpf",
        "colab_type": "code",
        "colab": {
          "base_uri": "https://localhost:8080/",
          "height": 207
        },
        "cellView": "both",
        "outputId": "e4b9564c-85bd-42fd-b547-655ebc76ca0e"
      },
      "source": [
        "test_metrics"
      ],
      "execution_count": 77,
      "outputs": [
        {
          "output_type": "execute_result",
          "data": {
            "text/plain": [
              "{'accuracy': 0.973625,\n",
              " 'accuracy_baseline': 0.85375,\n",
              " 'auc': 0.9965698,\n",
              " 'auc_precision_recall': 0.9583384,\n",
              " 'average_loss': 0.06652077,\n",
              " 'global_step': 1000,\n",
              " 'label/mean': 0.14625,\n",
              " 'loss': 0.5321662,\n",
              " 'precision': 0.98680204,\n",
              " 'prediction/mean': 0.13266745,\n",
              " 'recall': 0.83076924}"
            ]
          },
          "metadata": {
            "tags": []
          },
          "execution_count": 77
        }
      ]
    },
    {
      "cell_type": "code",
      "metadata": {
        "id": "4qvA5rOoYQgE",
        "colab_type": "code",
        "colab": {}
      },
      "source": [
        "from tensorflow.contrib.layers import fully_connected\n",
        "from sklearn.metrics import mean_absolute_error\n",
        "\n",
        "base = pd.read_csv('credit-data.csv')\n",
        "base = base.drop('i#clientid', axis= 1)\n",
        "base = base.dropna()\n",
        "\n",
        "scaler_x = StandardScaler()\n",
        "base[['income',\t'age',\t'loan']] = scaler_x.fit_transform(base[['income',\t'age',\t'loan']])\n",
        "\n",
        "X = base.drop('c#default', axis= 1)\n",
        "y = base['c#default']"
      ],
      "execution_count": 0,
      "outputs": []
    },
    {
      "cell_type": "code",
      "metadata": {
        "id": "KZFJaD66ad50",
        "colab_type": "code",
        "colab": {}
      },
      "source": [
        "neuronios_entrada = 3\n",
        "neuronios_oculta = 2\n",
        "neuronios_saida = neuronios_entrada\n",
        "\n",
        "xph = tf.placeholder(tf.float32, shape= [None, neuronios_entrada])\n",
        "\n",
        "camada_oculta = fully_connected(inputs = xph, num_outputs= neuronios_oculta, activation_fn= None)\n",
        "camada_saida = fully_connected(inputs= camada_oculta, num_outputs= neuronios_saida)\n",
        "\n",
        "erro = tf.losses.mean_squared_error(labels= xph, predictions= camada_saida)\n",
        "otimizador = tf.train.AdamOptimizer(learning_rate= 0.01)\n",
        "treinamento = otimizador.minimize(erro)"
      ],
      "execution_count": 0,
      "outputs": []
    },
    {
      "cell_type": "code",
      "metadata": {
        "id": "syv2C5c8b1NI",
        "colab_type": "code",
        "colab": {
          "base_uri": "https://localhost:8080/",
          "height": 190
        },
        "outputId": "3a48ba32-57ea-4273-f6ed-c0c37549a851"
      },
      "source": [
        "with tf.Session() as sess:\n",
        "  sess.run(tf.global_variables_initializer())\n",
        "  for epoch in range(1000):\n",
        "    custo, _ = sess.run([erro, treinamento], feed_dict={xph: X})\n",
        "    if(epoch % 100 == 0):\n",
        "      print(f'epoch {epoch} - erro: {custo}')\n",
        "  x2d_encode = sess.run(camada_oculta, feed_dict= {xph: X})\n",
        "  x3d_encode = sess.run(camada_saida, feed_dict= {xph: X})"
      ],
      "execution_count": 80,
      "outputs": [
        {
          "output_type": "stream",
          "text": [
            "epoch 0 - erro: 1.396873950958252\n",
            "epoch 100 - erro: 0.5998624563217163\n",
            "epoch 200 - erro: 0.564716637134552\n",
            "epoch 300 - erro: 0.5608240365982056\n",
            "epoch 400 - erro: 0.5604158043861389\n",
            "epoch 500 - erro: 0.5602777600288391\n",
            "epoch 600 - erro: 0.5602376461029053\n",
            "epoch 700 - erro: 0.5602375864982605\n",
            "epoch 800 - erro: 0.5602378249168396\n",
            "epoch 900 - erro: 0.5602372884750366\n"
          ],
          "name": "stdout"
        }
      ]
    },
    {
      "cell_type": "code",
      "metadata": {
        "id": "tkAJHz-IcdaR",
        "colab_type": "code",
        "colab": {
          "base_uri": "https://localhost:8080/",
          "height": 138
        },
        "outputId": "f30b95a0-b296-44f3-c844-57ed0aff50a0"
      },
      "source": [
        "x2d_encode"
      ],
      "execution_count": 81,
      "outputs": [
        {
          "output_type": "execute_result",
          "data": {
            "text/plain": [
              "array([[-2.8172908 ,  0.5368987 ],\n",
              "       [ 0.40109876, -0.16833588],\n",
              "       [-1.826854  ,  0.01793522],\n",
              "       ...,\n",
              "       [-0.76230407,  1.0640135 ],\n",
              "       [ 1.9474696 , -1.3236505 ],\n",
              "       [-2.9336824 ,  0.69904375]], dtype=float32)"
            ]
          },
          "metadata": {
            "tags": []
          },
          "execution_count": 81
        }
      ]
    },
    {
      "cell_type": "code",
      "metadata": {
        "id": "_pk5LcHJc3AZ",
        "colab_type": "code",
        "colab": {
          "base_uri": "https://localhost:8080/",
          "height": 138
        },
        "outputId": "6ba04bf6-4dbb-4dd2-c32a-63b75bd07964"
      },
      "source": [
        "x3d_encode"
      ],
      "execution_count": 82,
      "outputs": [
        {
          "output_type": "execute_result",
          "data": {
            "text/plain": [
              "array([[1.1654377 , 1.3303257 , 1.5704554 ],\n",
              "       [0.1609568 , 0.567338  , 0.        ],\n",
              "       [0.9132632 , 1.6427578 , 1.0679501 ],\n",
              "       ...,\n",
              "       [0.33971232, 0.        , 0.        ],\n",
              "       [0.        , 1.6805336 , 0.        ],\n",
              "       [1.1759927 , 1.1102654 , 1.5775894 ]], dtype=float32)"
            ]
          },
          "metadata": {
            "tags": []
          },
          "execution_count": 82
        }
      ]
    },
    {
      "cell_type": "code",
      "metadata": {
        "id": "8b8QyVZPdHT3",
        "colab_type": "code",
        "colab": {
          "base_uri": "https://localhost:8080/",
          "height": 138
        },
        "outputId": "edd51599-10c4-4e9a-f08e-816628f43078"
      },
      "source": [
        "x2 = scaler_x.inverse_transform(X)\n",
        "x2"
      ],
      "execution_count": 83,
      "outputs": [
        {
          "output_type": "execute_result",
          "data": {
            "text/plain": [
              "array([[6.61559251e+04, 5.90170151e+01, 8.10653213e+03],\n",
              "       [3.44151540e+04, 4.81171531e+01, 6.56474502e+03],\n",
              "       [5.73171701e+04, 6.31080495e+01, 8.02095330e+03],\n",
              "       ...,\n",
              "       [4.43114493e+04, 2.80171669e+01, 5.52278669e+03],\n",
              "       [4.37560566e+04, 6.39717958e+01, 1.62272260e+03],\n",
              "       [6.94365796e+04, 5.61526170e+01, 7.37883360e+03]])"
            ]
          },
          "metadata": {
            "tags": []
          },
          "execution_count": 83
        }
      ]
    },
    {
      "cell_type": "code",
      "metadata": {
        "id": "sOA0fn7UdXm3",
        "colab_type": "code",
        "colab": {
          "base_uri": "https://localhost:8080/",
          "height": 138
        },
        "outputId": "ed8a2e75-a567-451f-cad7-5c2670e84eab"
      },
      "source": [
        "x3d_decoder2 = scaler_x.inverse_transform(x3d_encode)\n",
        "x3d_decoder2"
      ],
      "execution_count": 84,
      "outputs": [
        {
          "output_type": "execute_result",
          "data": {
            "text/plain": [
              "array([[6.2024730e+04, 5.8928001e+01, 9.2291416e+03],\n",
              "       [4.7639016e+04, 4.8535301e+01, 4.4454878e+03],\n",
              "       [5.8413203e+04, 6.3183659e+01, 7.6984951e+03],\n",
              "       ...,\n",
              "       [5.0199070e+04, 4.0807560e+01, 4.4454878e+03],\n",
              "       [4.5333863e+04, 6.3698204e+01, 4.4454878e+03],\n",
              "       [6.2175895e+04, 5.5930550e+01, 9.2508711e+03]], dtype=float32)"
            ]
          },
          "metadata": {
            "tags": []
          },
          "execution_count": 84
        }
      ]
    },
    {
      "cell_type": "code",
      "metadata": {
        "id": "ORmNUJmDdaLe",
        "colab_type": "code",
        "colab": {
          "base_uri": "https://localhost:8080/",
          "height": 34
        },
        "outputId": "684ab453-af82-42f7-c5ae-64b980c1b934"
      },
      "source": [
        "mae_income = mean_absolute_error(x2[:,0], x3d_decoder2[:,0])\n",
        "mae_income"
      ],
      "execution_count": 86,
      "outputs": [
        {
          "output_type": "execute_result",
          "data": {
            "text/plain": [
              "9397.419762138075"
            ]
          },
          "metadata": {
            "tags": []
          },
          "execution_count": 86
        }
      ]
    },
    {
      "cell_type": "code",
      "metadata": {
        "id": "_Bbd_kwFd7et",
        "colab_type": "code",
        "colab": {
          "base_uri": "https://localhost:8080/",
          "height": 34
        },
        "outputId": "c315b95c-e678-4255-82b9-0c9b73438c02"
      },
      "source": [
        "mae_age = mean_absolute_error(x2[:,1], x3d_decoder2[:,1])\n",
        "mae_age"
      ],
      "execution_count": 87,
      "outputs": [
        {
          "output_type": "execute_result",
          "data": {
            "text/plain": [
              "5.956427900425148"
            ]
          },
          "metadata": {
            "tags": []
          },
          "execution_count": 87
        }
      ]
    },
    {
      "cell_type": "code",
      "metadata": {
        "id": "7hAMqJnJeArs",
        "colab_type": "code",
        "colab": {
          "base_uri": "https://localhost:8080/",
          "height": 34
        },
        "outputId": "ee0c67b4-414f-4f3f-f77a-423a71f240da"
      },
      "source": [
        "mae_loan = mean_absolute_error(x2[:,2], x3d_decoder2[:,2])\n",
        "mae_loan"
      ],
      "execution_count": 88,
      "outputs": [
        {
          "output_type": "execute_result",
          "data": {
            "text/plain": [
              "1802.8284297176474"
            ]
          },
          "metadata": {
            "tags": []
          },
          "execution_count": 88
        }
      ]
    },
    {
      "cell_type": "code",
      "metadata": {
        "id": "GV0fg-XbeKfK",
        "colab_type": "code",
        "colab": {
          "base_uri": "https://localhost:8080/",
          "height": 205
        },
        "outputId": "b3ae1388-58c9-481f-9c49-ac51396b72f9"
      },
      "source": [
        "x_encode = pd.DataFrame({'atributo1':x2d_encode[:,0], 'atributo2':x2d_encode[:,1], 'classe':y})\n",
        "x_encode.head()"
      ],
      "execution_count": 91,
      "outputs": [
        {
          "output_type": "execute_result",
          "data": {
            "text/html": [
              "<div>\n",
              "<style scoped>\n",
              "    .dataframe tbody tr th:only-of-type {\n",
              "        vertical-align: middle;\n",
              "    }\n",
              "\n",
              "    .dataframe tbody tr th {\n",
              "        vertical-align: top;\n",
              "    }\n",
              "\n",
              "    .dataframe thead th {\n",
              "        text-align: right;\n",
              "    }\n",
              "</style>\n",
              "<table border=\"1\" class=\"dataframe\">\n",
              "  <thead>\n",
              "    <tr style=\"text-align: right;\">\n",
              "      <th></th>\n",
              "      <th>atributo1</th>\n",
              "      <th>atributo2</th>\n",
              "      <th>classe</th>\n",
              "    </tr>\n",
              "  </thead>\n",
              "  <tbody>\n",
              "    <tr>\n",
              "      <th>0</th>\n",
              "      <td>-2.817291</td>\n",
              "      <td>0.536899</td>\n",
              "      <td>0</td>\n",
              "    </tr>\n",
              "    <tr>\n",
              "      <th>1</th>\n",
              "      <td>0.401099</td>\n",
              "      <td>-0.168336</td>\n",
              "      <td>0</td>\n",
              "    </tr>\n",
              "    <tr>\n",
              "      <th>2</th>\n",
              "      <td>-1.826854</td>\n",
              "      <td>0.017935</td>\n",
              "      <td>0</td>\n",
              "    </tr>\n",
              "    <tr>\n",
              "      <th>3</th>\n",
              "      <td>-0.271602</td>\n",
              "      <td>0.171340</td>\n",
              "      <td>0</td>\n",
              "    </tr>\n",
              "    <tr>\n",
              "      <th>4</th>\n",
              "      <td>-4.438897</td>\n",
              "      <td>2.737862</td>\n",
              "      <td>1</td>\n",
              "    </tr>\n",
              "  </tbody>\n",
              "</table>\n",
              "</div>"
            ],
            "text/plain": [
              "   atributo1  atributo2  classe\n",
              "0  -2.817291   0.536899       0\n",
              "1   0.401099  -0.168336       0\n",
              "2  -1.826854   0.017935       0\n",
              "3  -0.271602   0.171340       0\n",
              "4  -4.438897   2.737862       1"
            ]
          },
          "metadata": {
            "tags": []
          },
          "execution_count": 91
        }
      ]
    },
    {
      "cell_type": "code",
      "metadata": {
        "id": "kEIlvk0uettN",
        "colab_type": "code",
        "colab": {
          "base_uri": "https://localhost:8080/",
          "height": 1000
        },
        "outputId": "4c56350a-3f3e-4a78-dd16-d7aafc91cb63"
      },
      "source": [
        "colunas = [tf.feature_column.numeric_column(key = c) for c in x_encode.columns]\n",
        "x_training, x_test, y_training, y_test = train_test_split(x_encode, y, test_size= 0.3)\n",
        "\n",
        "training_function = tf.estimator.inputs.pandas_input_fn(x= x_training, y= y_training,\n",
        "                                                        batch_size= 8, num_epochs= None,\n",
        "                                                        shuffle= True)\n",
        "\n",
        "classificator = tf.estimator.DNNClassifier(feature_columns= colunas, hidden_units= [4,4])\n",
        "classificator.train(input_fn= training_function, steps= 1000)\n",
        "\n",
        "test_function = tf.estimator.inputs.pandas_input_fn(x= x_test, y= y_test,\n",
        "                                                    batch_size= 8, num_epochs= 1000,\n",
        "                                                    shuffle= False)\n",
        "\n",
        "test_metrics = classificator.evaluate(input_fn= test_function, steps= 1000)"
      ],
      "execution_count": 92,
      "outputs": [
        {
          "output_type": "stream",
          "text": [
            "INFO:tensorflow:Using default config.\n",
            "WARNING:tensorflow:Using temporary folder as model directory: /tmp/tmphx6e68ub\n",
            "INFO:tensorflow:Using config: {'_model_dir': '/tmp/tmphx6e68ub', '_tf_random_seed': None, '_save_summary_steps': 100, '_save_checkpoints_steps': None, '_save_checkpoints_secs': 600, '_session_config': allow_soft_placement: true\n",
            "graph_options {\n",
            "  rewrite_options {\n",
            "    meta_optimizer_iterations: ONE\n",
            "  }\n",
            "}\n",
            ", '_keep_checkpoint_max': 5, '_keep_checkpoint_every_n_hours': 10000, '_log_step_count_steps': 100, '_train_distribute': None, '_device_fn': None, '_protocol': None, '_eval_distribute': None, '_experimental_distribute': None, '_experimental_max_worker_delay_secs': None, '_session_creation_timeout_secs': 7200, '_service': None, '_cluster_spec': <tensorflow.python.training.server_lib.ClusterSpec object at 0x7f50b7449828>, '_task_type': 'worker', '_task_id': 0, '_global_id_in_cluster': 0, '_master': '', '_evaluation_master': '', '_is_chief': True, '_num_ps_replicas': 0, '_num_worker_replicas': 1}\n",
            "INFO:tensorflow:Calling model_fn.\n",
            "INFO:tensorflow:Done calling model_fn.\n",
            "INFO:tensorflow:Create CheckpointSaverHook.\n",
            "INFO:tensorflow:Graph was finalized.\n",
            "INFO:tensorflow:Running local_init_op.\n",
            "INFO:tensorflow:Done running local_init_op.\n",
            "INFO:tensorflow:Saving checkpoints for 0 into /tmp/tmphx6e68ub/model.ckpt.\n",
            "INFO:tensorflow:loss = 5.8434234, step = 1\n",
            "INFO:tensorflow:global_step/sec: 348.696\n",
            "INFO:tensorflow:loss = 1.5332345, step = 101 (0.293 sec)\n",
            "WARNING:tensorflow:It seems that global step (tf.train.get_global_step) has not been increased. Current value (could be stable): 101 vs previous value: 101. You could increase the global step by passing tf.train.get_global_step() to Optimizer.apply_gradients or Optimizer.minimize.\n",
            "INFO:tensorflow:global_step/sec: 461.851\n",
            "INFO:tensorflow:loss = 1.3794255, step = 201 (0.218 sec)\n",
            "INFO:tensorflow:global_step/sec: 461.535\n",
            "INFO:tensorflow:loss = 0.35560995, step = 301 (0.216 sec)\n",
            "INFO:tensorflow:global_step/sec: 447.166\n",
            "INFO:tensorflow:loss = 0.05269573, step = 401 (0.224 sec)\n",
            "INFO:tensorflow:global_step/sec: 438.721\n",
            "INFO:tensorflow:loss = 0.087981135, step = 501 (0.228 sec)\n",
            "INFO:tensorflow:global_step/sec: 441.345\n",
            "INFO:tensorflow:loss = 0.11478247, step = 601 (0.224 sec)\n",
            "INFO:tensorflow:global_step/sec: 448.955\n",
            "INFO:tensorflow:loss = 0.03749862, step = 701 (0.226 sec)\n",
            "INFO:tensorflow:global_step/sec: 428.264\n",
            "INFO:tensorflow:loss = 0.012266061, step = 801 (0.235 sec)\n",
            "INFO:tensorflow:global_step/sec: 412.866\n",
            "INFO:tensorflow:loss = 0.42564628, step = 901 (0.236 sec)\n",
            "INFO:tensorflow:Saving checkpoints for 1000 into /tmp/tmphx6e68ub/model.ckpt.\n",
            "INFO:tensorflow:Loss for final step: 0.007708669.\n",
            "INFO:tensorflow:Calling model_fn.\n",
            "WARNING:tensorflow:Trapezoidal rule is known to produce incorrect PR-AUCs; please switch to \"careful_interpolation\" instead.\n",
            "WARNING:tensorflow:Trapezoidal rule is known to produce incorrect PR-AUCs; please switch to \"careful_interpolation\" instead.\n",
            "INFO:tensorflow:Done calling model_fn.\n",
            "INFO:tensorflow:Starting evaluation at 2020-02-21T02:03:48Z\n",
            "INFO:tensorflow:Graph was finalized.\n",
            "INFO:tensorflow:Restoring parameters from /tmp/tmphx6e68ub/model.ckpt-1000\n",
            "INFO:tensorflow:Running local_init_op.\n",
            "INFO:tensorflow:Done running local_init_op.\n",
            "INFO:tensorflow:Evaluation [100/1000]\n",
            "INFO:tensorflow:Evaluation [200/1000]\n",
            "INFO:tensorflow:Evaluation [300/1000]\n",
            "INFO:tensorflow:Evaluation [400/1000]\n",
            "INFO:tensorflow:Evaluation [500/1000]\n",
            "INFO:tensorflow:Evaluation [600/1000]\n",
            "INFO:tensorflow:Evaluation [700/1000]\n",
            "INFO:tensorflow:Evaluation [800/1000]\n",
            "INFO:tensorflow:Evaluation [900/1000]\n",
            "INFO:tensorflow:Evaluation [1000/1000]\n",
            "INFO:tensorflow:Finished evaluation at 2020-02-21-02:03:50\n",
            "INFO:tensorflow:Saving dict for global step 1000: accuracy = 1.0, accuracy_baseline = 0.85025, auc = 1.0, auc_precision_recall = 1.0, average_loss = 0.0043824, global_step = 1000, label/mean = 0.14975, loss = 0.0350592, precision = 1.0, prediction/mean = 0.14796245, recall = 1.0\n",
            "INFO:tensorflow:Saving 'checkpoint_path' summary for global step 1000: /tmp/tmphx6e68ub/model.ckpt-1000\n"
          ],
          "name": "stdout"
        }
      ]
    },
    {
      "cell_type": "markdown",
      "metadata": {
        "id": "i17kpK9TfWfB",
        "colab_type": "text"
      },
      "source": [
        "> test_metrics with linear autoencoders results\n"
      ]
    },
    {
      "cell_type": "code",
      "metadata": {
        "id": "nE9Lb5iefLqU",
        "colab_type": "code",
        "colab": {
          "base_uri": "https://localhost:8080/",
          "height": 207
        },
        "outputId": "06190fd9-ef7d-4377-b5bf-9e95313db00c"
      },
      "source": [
        "test_metrics"
      ],
      "execution_count": 93,
      "outputs": [
        {
          "output_type": "execute_result",
          "data": {
            "text/plain": [
              "{'accuracy': 1.0,\n",
              " 'accuracy_baseline': 0.85025,\n",
              " 'auc': 1.0,\n",
              " 'auc_precision_recall': 1.0,\n",
              " 'average_loss': 0.0043824,\n",
              " 'global_step': 1000,\n",
              " 'label/mean': 0.14975,\n",
              " 'loss': 0.0350592,\n",
              " 'precision': 1.0,\n",
              " 'prediction/mean': 0.14796245,\n",
              " 'recall': 1.0}"
            ]
          },
          "metadata": {
            "tags": []
          },
          "execution_count": 93
        }
      ]
    },
    {
      "cell_type": "markdown",
      "metadata": {
        "id": "hJ7i-1mtfzVW",
        "colab_type": "text"
      },
      "source": [
        "> # Exemplo: Dataset MNIST (stacked autoencoder)"
      ]
    },
    {
      "cell_type": "code",
      "metadata": {
        "id": "VbsQ3E-WfZg0",
        "colab_type": "code",
        "colab": {
          "base_uri": "https://localhost:8080/",
          "height": 86
        },
        "outputId": "40da050a-5bf2-40da-8934-e31856b45132"
      },
      "source": [
        "from tensorflow.examples.tutorials.mnist import input_data\n",
        "mnist = input_data.read_data_sets('mnist/', one_hot= True)\n",
        "X = mnist.train.images"
      ],
      "execution_count": 119,
      "outputs": [
        {
          "output_type": "stream",
          "text": [
            "Extracting mnist/train-images-idx3-ubyte.gz\n",
            "Extracting mnist/train-labels-idx1-ubyte.gz\n",
            "Extracting mnist/t10k-images-idx3-ubyte.gz\n",
            "Extracting mnist/t10k-labels-idx1-ubyte.gz\n"
          ],
          "name": "stdout"
        }
      ]
    },
    {
      "cell_type": "code",
      "metadata": {
        "id": "zZtXGFYFg0f5",
        "colab_type": "code",
        "colab": {
          "base_uri": "https://localhost:8080/",
          "height": 282
        },
        "outputId": "95cf6ebb-6fa9-4a9e-c150-d76c9d4c300a"
      },
      "source": [
        "plt.imshow(X[5].reshape(28,28))"
      ],
      "execution_count": 160,
      "outputs": [
        {
          "output_type": "execute_result",
          "data": {
            "text/plain": [
              "<matplotlib.image.AxesImage at 0x7f50bbb45ac8>"
            ]
          },
          "metadata": {
            "tags": []
          },
          "execution_count": 160
        },
        {
          "output_type": "display_data",
          "data": {
            "image/png": "[encoded data removed]",
            "text/plain": [
              "<Figure size 432x288 with 1 Axes>"
            ]
          },
          "metadata": {
            "tags": []
          }
        }
      ]
    },
    {
      "cell_type": "code",
      "metadata": {
        "id": "yh4_gPX0hGy4",
        "colab_type": "code",
        "colab": {}
      },
      "source": [
        "# Estrutura da rede/autoenoder\n",
        "# entrada 784 -> oculta1 128 -> oculta2 64 -> oculta3 128 -> saida 784\n",
        "\n",
        "# encoder\n",
        "neuronios_entrada = 784\n",
        "neuronios_oculta1 = 128\n",
        "# encoded data/image\n",
        "neuronios_oculta2 = 64\n",
        "# decoder\n",
        "neuronios_oculta3 = neuronios_oculta1\n",
        "neuronios_saida = neuronios_entrada"
      ],
      "execution_count": 0,
      "outputs": []
    },
    {
      "cell_type": "code",
      "metadata": {
        "id": "p8x6BTkeiOtE",
        "colab_type": "code",
        "colab": {}
      },
      "source": [
        "tf.reset_default_graph()\n",
        "\n",
        "xph = tf.placeholder(tf.float32, shape= [None, neuronios_entrada])\n",
        "\n",
        "# Usar outros inicializadores de pesos em redes neurais complexas\n",
        "# Xavier: sigmoid\n",
        "# He: relu\n",
        "inicializador = tf.variance_scaling_initializer()\n",
        "\n",
        "# pesos\n",
        "W = {\n",
        "  'encoder_oculta1': tf.Variable(inicializador([neuronios_entrada, neuronios_oculta1])),\n",
        "  'encoder_oculta2': tf.Variable(inicializador([neuronios_oculta1, neuronios_oculta2])),\n",
        "  'decoder_oculta3': tf.Variable(inicializador([neuronios_oculta2, neuronios_oculta3])),\n",
        "  'decoder_saida':   tf.Variable(inicializador([neuronios_oculta3, neuronios_saida])),\n",
        "}\n",
        "\n",
        "bias = {\n",
        "  'encoder_oculta1': tf.Variable(inicializador([neuronios_oculta1])),\n",
        "  'encoder_oculta2': tf.Variable(inicializador([neuronios_oculta2])),\n",
        "  'decoder_oculta3': tf.Variable(inicializador([neuronios_oculta3])),\n",
        "  'decoder_saida':   tf.Variable(inicializador([neuronios_saida])),\n",
        "}"
      ],
      "execution_count": 0,
      "outputs": []
    },
    {
      "cell_type": "code",
      "metadata": {
        "id": "O2VKL1zdkSpk",
        "colab_type": "code",
        "colab": {}
      },
      "source": [
        "camada_oculta1 = tf.nn.relu( tf.add( bias['encoder_oculta1'], tf.matmul(xph, W['encoder_oculta1']) ) )\n",
        "camada_oculta2 = tf.nn.relu( tf.add( bias['encoder_oculta2'], tf.matmul(camada_oculta1, W['encoder_oculta2']) ) )\n",
        "camada_oculta3 = tf.nn.relu( tf.add( bias['decoder_oculta3'], tf.matmul(camada_oculta2, W['decoder_oculta3']) ) )\n",
        "camada_saida = tf.nn.relu( tf.add( bias['decoder_saida'], tf.matmul(camada_oculta3, W['decoder_saida']) ) )\n",
        "\n",
        "erro = tf.losses.mean_squared_error(xph, camada_saida)\n",
        "otimizador = tf.train.AdamOptimizer(learning_rate= 0.001)\n",
        "treinamento = otimizador.minimize(erro)\n",
        "batch_size = 128"
      ],
      "execution_count": 0,
      "outputs": []
    },
    {
      "cell_type": "code",
      "metadata": {
        "id": "jGNxv_r3lgui",
        "colab_type": "code",
        "colab": {
          "base_uri": "https://localhost:8080/",
          "height": 882
        },
        "outputId": "631d23c6-ff94-4ac0-aa6d-2b9195d4f569"
      },
      "source": [
        "with tf.Session() as sess:\n",
        "  sess.run(tf.global_variables_initializer())\n",
        "  for epoch in range(50):\n",
        "    num_bathes = mnist.train.num_examples // batch_size\n",
        "    for i  in range(num_bathes):\n",
        "      X_batch, _ = mnist.train.next_batch(batch_size)\n",
        "      custo, _ = sess.run([erro, treinamento], feed_dict= {xph: X_batch})\n",
        "    print(f'epoch {epoch} - erro {custo}')\n",
        "  imagens_codificadas = sess.run(camada_oculta2, feed_dict={xph: X})\n",
        "  imagens_decodificadas = sess.run(camada_saida, feed_dict={xph: X})"
      ],
      "execution_count": 125,
      "outputs": [
        {
          "output_type": "stream",
          "text": [
            "epoch 0 - erro 0.016848698258399963\n",
            "epoch 1 - erro 0.01497451588511467\n",
            "epoch 2 - erro 0.013797769322991371\n",
            "epoch 3 - erro 0.013323121704161167\n",
            "epoch 4 - erro 0.012330169789493084\n",
            "epoch 5 - erro 0.012109598144888878\n",
            "epoch 6 - erro 0.011388036422431469\n",
            "epoch 7 - erro 0.012297097593545914\n",
            "epoch 8 - erro 0.012040928937494755\n",
            "epoch 9 - erro 0.012678289785981178\n",
            "epoch 10 - erro 0.011785385198891163\n",
            "epoch 11 - erro 0.01257216464728117\n",
            "epoch 12 - erro 0.011090886779129505\n",
            "epoch 13 - erro 0.011887823231518269\n",
            "epoch 14 - erro 0.011675277724862099\n",
            "epoch 15 - erro 0.011374879628419876\n",
            "epoch 16 - erro 0.013514352962374687\n",
            "epoch 17 - erro 0.011400609277188778\n",
            "epoch 18 - erro 0.010735491290688515\n",
            "epoch 19 - erro 0.012076468206942081\n",
            "epoch 20 - erro 0.011124180629849434\n",
            "epoch 21 - erro 0.012208089232444763\n",
            "epoch 22 - erro 0.011351133696734905\n",
            "epoch 23 - erro 0.011030307970941067\n",
            "epoch 24 - erro 0.010754810646176338\n",
            "epoch 25 - erro 0.012227494269609451\n",
            "epoch 26 - erro 0.011301236227154732\n",
            "epoch 27 - erro 0.011132072657346725\n",
            "epoch 28 - erro 0.011606824584305286\n",
            "epoch 29 - erro 0.011219893582165241\n",
            "epoch 30 - erro 0.011462362483143806\n",
            "epoch 31 - erro 0.01075983326882124\n",
            "epoch 32 - erro 0.011031563393771648\n",
            "epoch 33 - erro 0.010828711092472076\n",
            "epoch 34 - erro 0.010851414874196053\n",
            "epoch 35 - erro 0.010722310282289982\n",
            "epoch 36 - erro 0.010994764976203442\n",
            "epoch 37 - erro 0.011548577807843685\n",
            "epoch 38 - erro 0.01186359766870737\n",
            "epoch 39 - erro 0.011539293453097343\n",
            "epoch 40 - erro 0.010998976416885853\n",
            "epoch 41 - erro 0.010739742778241634\n",
            "epoch 42 - erro 0.010549617931246758\n",
            "epoch 43 - erro 0.011229408904910088\n",
            "epoch 44 - erro 0.011180072091519833\n",
            "epoch 45 - erro 0.010862693190574646\n",
            "epoch 46 - erro 0.010427553206682205\n",
            "epoch 47 - erro 0.011496052145957947\n",
            "epoch 48 - erro 0.012448539957404137\n",
            "epoch 49 - erro 0.011155775748193264\n"
          ],
          "name": "stdout"
        }
      ]
    },
    {
      "cell_type": "code",
      "metadata": {
        "id": "cZWaNCFtpwmH",
        "colab_type": "code",
        "colab": {
          "base_uri": "https://localhost:8080/",
          "height": 34
        },
        "outputId": "e42829c2-b165-496d-f14f-48a4645caf58"
      },
      "source": [
        "imagens_codificadas.shape"
      ],
      "execution_count": 126,
      "outputs": [
        {
          "output_type": "execute_result",
          "data": {
            "text/plain": [
              "(55000, 64)"
            ]
          },
          "metadata": {
            "tags": []
          },
          "execution_count": 126
        }
      ]
    },
    {
      "cell_type": "code",
      "metadata": {
        "id": "xNS3SWTvmgwA",
        "colab_type": "code",
        "colab": {
          "base_uri": "https://localhost:8080/",
          "height": 242
        },
        "outputId": "278b86c1-5b5a-4398-9014-05d7b65c9ebd"
      },
      "source": [
        "imagens_codificadas[0]"
      ],
      "execution_count": 127,
      "outputs": [
        {
          "output_type": "execute_result",
          "data": {
            "text/plain": [
              "array([1.1739703 , 2.270173  , 1.2007741 , 1.0590857 , 1.6693711 ,\n",
              "       1.2740237 , 1.7318712 , 1.2760658 , 0.        , 1.2489411 ,\n",
              "       2.3368833 , 0.        , 1.142151  , 0.62111855, 1.3025328 ,\n",
              "       0.        , 0.        , 0.        , 1.9492395 , 2.6637537 ,\n",
              "       0.9557799 , 1.4412998 , 1.2195247 , 1.7906606 , 1.6203414 ,\n",
              "       2.1964216 , 1.075106  , 1.4873767 , 0.        , 1.0626483 ,\n",
              "       0.73134017, 1.5843878 , 0.        , 1.9947588 , 1.6877174 ,\n",
              "       0.        , 2.063252  , 0.74958634, 0.        , 2.2035284 ,\n",
              "       1.6610653 , 1.5554299 , 1.5785942 , 1.4224269 , 0.        ,\n",
              "       2.6625247 , 2.41333   , 1.4113619 , 0.        , 0.        ,\n",
              "       2.9166822 , 1.2374645 , 0.86098456, 0.7264178 , 2.3369436 ,\n",
              "       1.6550859 , 0.        , 2.9474587 , 2.157303  , 0.84666014,\n",
              "       2.5930245 , 0.        , 2.2923927 , 1.5219873 ], dtype=float32)"
            ]
          },
          "metadata": {
            "tags": []
          },
          "execution_count": 127
        }
      ]
    },
    {
      "cell_type": "code",
      "metadata": {
        "id": "k3iaMnJop2zu",
        "colab_type": "code",
        "colab": {
          "base_uri": "https://localhost:8080/",
          "height": 34
        },
        "outputId": "c7b2e0b6-63ee-450b-a726-71f6255d5af0"
      },
      "source": [
        "imagens_decodificadas.shape"
      ],
      "execution_count": 128,
      "outputs": [
        {
          "output_type": "execute_result",
          "data": {
            "text/plain": [
              "(55000, 784)"
            ]
          },
          "metadata": {
            "tags": []
          },
          "execution_count": 128
        }
      ]
    },
    {
      "cell_type": "code",
      "metadata": {
        "id": "r3ReVt5ip2tr",
        "colab_type": "code",
        "colab": {
          "base_uri": "https://localhost:8080/",
          "height": 1000
        },
        "outputId": "7764852b-d218-4060-9404-44347502858d"
      },
      "source": [
        "imagens_decodificadas[0]"
      ],
      "execution_count": 129,
      "outputs": [
        {
          "output_type": "execute_result",
          "data": {
            "text/plain": [
              "array([0.        , 0.        , 0.        , 0.        , 0.        ,\n",
              "       0.        , 0.        , 0.        , 0.        , 0.        ,\n",
              "       0.        , 0.        , 0.        , 0.        , 0.        ,\n",
              "       0.        , 0.        , 0.        , 0.        , 0.        ,\n",
              "       0.        , 0.        , 0.        , 0.        , 0.        ,\n",
              "       0.        , 0.        , 0.        , 0.        , 0.        ,\n",
              "       0.        , 0.        , 0.        , 0.        , 0.        ,\n",
              "       0.        , 0.        , 0.        , 0.        , 0.        ,\n",
              "       0.        , 0.        , 0.        , 0.        , 0.        ,\n",
              "       0.        , 0.        , 0.        , 0.        , 0.        ,\n",
              "       0.        , 0.        , 0.        , 0.        , 0.        ,\n",
              "       0.        , 0.        , 0.        , 0.        , 0.        ,\n",
              "       0.        , 0.        , 0.        , 0.        , 0.        ,\n",
              "       0.        , 0.        , 0.        , 0.        , 0.        ,\n",
              "       0.        , 0.        , 0.        , 0.        , 0.        ,\n",
              "       0.        , 0.        , 0.        , 0.        , 0.        ,\n",
              "       0.        , 0.        , 0.        , 0.        , 0.        ,\n",
              "       0.        , 0.        , 0.        , 0.        , 0.        ,\n",
              "       0.        , 0.        , 0.        , 0.        , 0.        ,\n",
              "       0.        , 0.        , 0.        , 0.        , 0.        ,\n",
              "       0.        , 0.        , 0.        , 0.        , 0.        ,\n",
              "       0.        , 0.        , 0.        , 0.        , 0.        ,\n",
              "       0.        , 0.        , 0.        , 0.        , 0.        ,\n",
              "       0.        , 0.        , 0.        , 0.        , 0.        ,\n",
              "       0.        , 0.        , 0.        , 0.        , 0.        ,\n",
              "       0.        , 0.        , 0.        , 0.        , 0.        ,\n",
              "       0.        , 0.        , 0.        , 0.        , 0.        ,\n",
              "       0.        , 0.        , 0.        , 0.        , 0.        ,\n",
              "       0.        , 0.        , 0.        , 0.        , 0.        ,\n",
              "       0.        , 0.        , 0.        , 0.        , 0.        ,\n",
              "       0.        , 0.        , 0.        , 0.        , 0.        ,\n",
              "       0.        , 0.        , 0.        , 0.        , 0.        ,\n",
              "       0.        , 0.        , 0.        , 0.        , 0.        ,\n",
              "       0.        , 0.        , 0.        , 0.        , 0.        ,\n",
              "       0.        , 0.        , 0.        , 0.        , 0.        ,\n",
              "       0.        , 0.        , 0.        , 0.        , 0.        ,\n",
              "       0.        , 0.        , 0.        , 0.        , 0.        ,\n",
              "       0.        , 0.        , 0.        , 0.        , 0.        ,\n",
              "       0.        , 0.        , 0.        , 0.        , 0.        ,\n",
              "       0.        , 0.        , 0.        , 0.        , 0.        ,\n",
              "       0.        , 0.        , 0.28671014, 0.15515763, 0.        ,\n",
              "       0.06419127, 0.28008497, 0.36176416, 0.35062745, 0.36093828,\n",
              "       0.30558503, 0.28275144, 0.14492646, 0.        , 0.        ,\n",
              "       0.        , 0.        , 0.        , 0.        , 0.        ,\n",
              "       0.        , 0.        , 0.        , 0.        , 0.        ,\n",
              "       0.        , 0.        , 0.        , 0.        , 0.9956334 ,\n",
              "       0.9440825 , 0.7973838 , 0.74804205, 0.8721356 , 0.9748475 ,\n",
              "       1.0830916 , 1.1689293 , 1.1042553 , 0.9847771 , 0.8150671 ,\n",
              "       0.78458774, 0.72439516, 0.40807796, 0.        , 0.        ,\n",
              "       0.        , 0.        , 0.        , 0.        , 0.        ,\n",
              "       0.        , 0.        , 0.        , 0.        , 0.        ,\n",
              "       0.        , 0.        , 0.8718323 , 1.1473386 , 1.1324983 ,\n",
              "       0.9778948 , 0.97825414, 0.91476   , 1.0218818 , 1.0698385 ,\n",
              "       1.135226  , 0.989652  , 0.9175327 , 1.0039377 , 1.015404  ,\n",
              "       0.83185846, 0.35435712, 0.        , 0.        , 0.        ,\n",
              "       0.        , 0.        , 0.        , 0.        , 0.        ,\n",
              "       0.        , 0.        , 0.        , 0.        , 0.        ,\n",
              "       0.24326012, 0.7407766 , 0.7781195 , 0.67780226, 0.47233176,\n",
              "       0.3115227 , 0.20543398, 0.2726148 , 0.35106328, 0.41894126,\n",
              "       0.504372  , 0.7602694 , 0.9642935 , 0.99919903, 0.7241195 ,\n",
              "       0.2129112 , 0.        , 0.        , 0.        , 0.        ,\n",
              "       0.        , 0.        , 0.        , 0.        , 0.        ,\n",
              "       0.        , 0.        , 0.        , 0.        , 0.17705582,\n",
              "       0.21284083, 0.0916781 , 0.        , 0.        , 0.        ,\n",
              "       0.        , 0.        , 0.        , 0.        , 0.23855369,\n",
              "       0.753886  , 1.0194967 , 0.9812477 , 0.5361203 , 0.        ,\n",
              "       0.        , 0.        , 0.        , 0.        , 0.        ,\n",
              "       0.        , 0.        , 0.        , 0.        , 0.        ,\n",
              "       0.        , 0.        , 0.        , 0.        , 0.        ,\n",
              "       0.        , 0.        , 0.        , 0.        , 0.        ,\n",
              "       0.        , 0.        , 0.        , 0.5481769 , 1.0136553 ,\n",
              "       1.1347315 , 0.82251126, 0.05433014, 0.        , 0.        ,\n",
              "       0.        , 0.        , 0.        , 0.        , 0.        ,\n",
              "       0.        , 0.        , 0.        , 0.        , 0.        ,\n",
              "       0.        , 0.        , 0.        , 0.        , 0.        ,\n",
              "       0.        , 0.        , 0.        , 0.        , 0.        ,\n",
              "       0.        , 0.49686918, 0.92177486, 1.0409765 , 0.8168756 ,\n",
              "       0.28751862, 0.        , 0.        , 0.        , 0.        ,\n",
              "       0.        , 0.        , 0.        , 0.        , 0.        ,\n",
              "       0.        , 0.        , 0.        , 0.        , 0.        ,\n",
              "       0.        , 0.        , 0.        , 0.        , 0.01213139,\n",
              "       0.        , 0.        , 0.12904736, 0.41169173, 0.6424309 ,\n",
              "       0.8951198 , 1.0734973 , 0.9909376 , 0.44679123, 0.        ,\n",
              "       0.        , 0.        , 0.        , 0.        , 0.        ,\n",
              "       0.        , 0.        , 0.        , 0.        , 0.        ,\n",
              "       0.        , 0.        , 0.        , 0.        , 0.        ,\n",
              "       0.        , 0.18951157, 0.5730162 , 0.5629367 , 0.70849323,\n",
              "       0.92798096, 0.88009137, 0.8656148 , 1.0523568 , 1.1808208 ,\n",
              "       1.0844392 , 0.52976555, 0.        , 0.        , 0.        ,\n",
              "       0.        , 0.        , 0.        , 0.        , 0.        ,\n",
              "       0.        , 0.        , 0.        , 0.        , 0.        ,\n",
              "       0.        , 0.        , 0.02052027, 0.35099885, 0.8517184 ,\n",
              "       0.9981877 , 1.0289452 , 1.163986  , 1.1569351 , 0.85162884,\n",
              "       0.6887225 , 1.0802917 , 0.        , 1.0716643 , 0.61301357,\n",
              "       0.        , 0.        , 0.        , 0.        , 0.        ,\n",
              "       0.        , 0.        , 0.        , 0.        , 0.        ,\n",
              "       0.        , 0.        , 0.        , 0.5654886 , 0.93844604,\n",
              "       0.        , 0.        , 1.0780646 , 0.9309472 , 0.81980413,\n",
              "       0.8812472 , 0.56282634, 0.18264152, 0.3895619 , 0.9052741 ,\n",
              "       1.1954111 , 1.001761  , 0.5736654 , 0.        , 0.        ,\n",
              "       0.        , 0.        , 0.        , 0.        , 0.        ,\n",
              "       0.        , 0.        , 0.        , 0.        , 0.        ,\n",
              "       0.69388   , 1.083894  , 1.3111517 , 1.2804675 , 0.8479758 ,\n",
              "       0.52551025, 0.29341117, 0.19803192, 0.05226477, 0.        ,\n",
              "       0.        , 0.13692515, 0.8525645 , 0.        , 0.9149644 ,\n",
              "       0.43461004, 0.        , 0.        , 0.        , 0.        ,\n",
              "       0.        , 0.        , 0.        , 0.        , 0.        ,\n",
              "       0.        , 0.        , 0.        , 0.63466007, 0.85413516,\n",
              "       0.6470788 , 0.22952606, 0.        , 0.        , 0.        ,\n",
              "       0.        , 0.        , 0.        , 0.        , 0.21004437,\n",
              "       0.8384578 , 0.99408513, 0.7404353 , 0.19593297, 0.        ,\n",
              "       0.        , 0.        , 0.        , 0.        , 0.        ,\n",
              "       0.        , 0.        , 0.        , 0.        , 0.        ,\n",
              "       0.        , 0.15411264, 0.12982072, 0.        , 0.        ,\n",
              "       0.        , 0.        , 0.        , 0.        , 0.        ,\n",
              "       0.        , 0.        , 0.5064005 , 0.86859703, 0.93032277,\n",
              "       0.4976238 , 0.        , 0.        , 0.        , 0.        ,\n",
              "       0.        , 0.        , 0.        , 0.        , 0.        ,\n",
              "       0.        , 0.        , 0.        , 0.        , 0.        ,\n",
              "       0.        , 0.        , 0.        , 0.        , 0.        ,\n",
              "       0.        , 0.        , 0.        , 0.        , 0.19476926,\n",
              "       0.82932425, 1.0479381 , 0.7969233 , 0.15951851, 0.        ,\n",
              "       0.        , 0.        , 0.        , 0.        , 0.        ,\n",
              "       0.        , 0.        , 0.        , 0.        , 0.        ,\n",
              "       0.        , 0.        , 0.        , 0.        , 0.        ,\n",
              "       0.        , 0.        , 0.        , 0.        , 0.        ,\n",
              "       0.        , 0.        , 0.6315444 , 1.0314908 , 0.9538211 ,\n",
              "       0.45761737, 0.        , 0.        , 0.        , 0.        ,\n",
              "       0.        , 0.        , 0.        , 0.        , 0.        ,\n",
              "       0.        , 0.        , 0.        , 0.        , 0.        ,\n",
              "       0.        , 0.        , 0.        , 0.        , 0.        ,\n",
              "       0.        , 0.        , 0.        , 0.        , 0.25397664,\n",
              "       0.80669343, 0.9852123 , 0.7601041 , 0.        , 0.        ,\n",
              "       0.        , 0.        , 0.        , 0.        , 0.        ,\n",
              "       0.        , 0.        , 0.        , 0.        , 0.        ,\n",
              "       0.        , 0.        , 0.        , 0.        , 0.        ,\n",
              "       0.        , 0.        , 0.        , 0.        , 0.        ,\n",
              "       0.        , 0.06485263, 0.72638917, 1.0486194 , 0.91141385,\n",
              "       0.5243988 , 0.        , 0.        , 0.        , 0.        ,\n",
              "       0.        , 0.        , 0.        , 0.        , 0.        ,\n",
              "       0.        , 0.        , 0.        , 0.        , 0.        ,\n",
              "       0.        , 0.        , 0.        , 0.        , 0.        ,\n",
              "       0.        , 0.        , 0.        , 0.        , 0.0050991 ,\n",
              "       0.4903122 , 0.6384314 , 0.        , 0.        , 0.        ,\n",
              "       0.        , 0.        , 0.        , 0.        , 0.        ,\n",
              "       0.        , 0.        , 0.        , 0.        , 0.        ,\n",
              "       0.        , 0.        , 0.        , 0.        , 0.        ,\n",
              "       0.        , 0.        , 0.        , 0.        , 0.        ,\n",
              "       0.        , 0.        , 0.        , 0.        , 0.3851139 ,\n",
              "       0.14743948, 0.        , 0.        , 0.        , 0.        ,\n",
              "       0.        , 0.        , 0.        , 0.        , 0.        ,\n",
              "       0.        , 0.        , 0.        , 0.        , 0.        ,\n",
              "       0.        , 0.        , 0.        , 0.        , 0.        ,\n",
              "       0.        , 0.        , 0.        , 0.        , 0.        ,\n",
              "       0.        , 0.        , 0.        , 0.        , 0.        ,\n",
              "       0.        , 0.        , 0.        , 0.        , 0.        ,\n",
              "       0.        , 0.        , 0.        , 0.        ], dtype=float32)"
            ]
          },
          "metadata": {
            "tags": []
          },
          "execution_count": 129
        }
      ]
    },
    {
      "cell_type": "code",
      "metadata": {
        "id": "WAsdzZaKp74g",
        "colab_type": "code",
        "colab": {
          "base_uri": "https://localhost:8080/",
          "height": 34
        },
        "outputId": "00a0bffd-8ba2-4c90-942b-20b71ec931bf"
      },
      "source": [
        "numero_imagens = 5\n",
        "imagens_teste = np.random.randint(X.shape[0], size= numero_imagens)\n",
        "imagens_teste"
      ],
      "execution_count": 143,
      "outputs": [
        {
          "output_type": "execute_result",
          "data": {
            "text/plain": [
              "array([18067, 31235,  9428, 22294, 21181])"
            ]
          },
          "metadata": {
            "tags": []
          },
          "execution_count": 143
        }
      ]
    },
    {
      "cell_type": "code",
      "metadata": {
        "id": "LB6pdVsHqcsx",
        "colab_type": "code",
        "colab": {
          "base_uri": "https://localhost:8080/",
          "height": 512
        },
        "outputId": "4d76d072-07e7-4390-ffa9-c961e3b86ccf"
      },
      "source": [
        "%matplotlib inline\n",
        "plt.figure(figsize=(15,15))\n",
        "for i, index_img in enumerate(imagens_teste):\n",
        "  eixo = plt.subplot(5,5,i+1)\n",
        "  plt.imshow(X[index_img].reshape(28,28))\n",
        "  plt.xticks(())\n",
        "  plt.yticks(())\n",
        "\n",
        "  eixo = plt.subplot(5,5,i+1+numero_imagens)\n",
        "  plt.imshow(imagens_codificadas[index_img].reshape(8,8))\n",
        "  plt.xticks(())\n",
        "  plt.yticks(())\n",
        "\n",
        "  eixo = plt.subplot(5,5,i+1+numero_imagens * 2)\n",
        "  plt.imshow(imagens_decodificadas[index_img].reshape(28,28))\n",
        "  plt.xticks(())\n",
        "  plt.yticks(())"
      ],
      "execution_count": 155,
      "outputs": [
        {
          "output_type": "display_data",
          "data": {
            "image/png": "[encoded data removed]",
            "text/plain": [
              "<Figure size 1080x1080 with 15 Axes>"
            ]
          },
          "metadata": {
            "tags": []
          }
        }
      ]
    }
  ]
}