{
  "nbformat": 4,
  "nbformat_minor": 0,
  "metadata": {
    "colab": {
      "name": "tensorflow1_15___redes_adversariais_generativas.ipynb",
      "provenance": [],
      "collapsed_sections": []
    },
    "kernelspec": {
      "name": "python3",
      "display_name": "Python 3"
    }
  },
  "cells": [
    {
      "cell_type": "code",
      "metadata": {
        "id": "dQRShQh8vC7i",
        "colab_type": "code",
        "colab": {}
      },
      "source": [
        "import tensorflow as tf\n",
        "import matplotlib.pyplot as plt\n",
        "import numpy as np\n",
        "\n",
        "tf.reset_default_graph()"
      ],
      "execution_count": 0,
      "outputs": []
    },
    {
      "cell_type": "markdown",
      "metadata": {
        "id": "jXV5VFoUvLHj",
        "colab_type": "text"
      },
      "source": [
        "> # **Aula 023** - Redes Adversariais Generativas - **Tensorflow: GANs**"
      ]
    },
    {
      "cell_type": "code",
      "metadata": {
        "id": "ptXSdsQjvUmA",
        "colab_type": "code",
        "colab": {
          "base_uri": "https://localhost:8080/",
          "height": 351
        },
        "outputId": "a05fdbcf-1d4f-487c-d418-93b39dbd4f36"
      },
      "source": [
        "from tensorflow.examples.tutorials.mnist import input_data\n",
        "mnist = input_data.read_data_sets('mnist/', one_hot= True)\n",
        "plt.imshow(mnist.train.images[5].reshape(28,28), cmap='Greys')"
      ],
      "execution_count": 202,
      "outputs": [
        {
          "output_type": "stream",
          "text": [
            "Extracting mnist/train-images-idx3-ubyte.gz\n",
            "Extracting mnist/train-labels-idx1-ubyte.gz\n",
            "Extracting mnist/t10k-images-idx3-ubyte.gz\n",
            "Extracting mnist/t10k-labels-idx1-ubyte.gz\n"
          ],
          "name": "stdout"
        },
        {
          "output_type": "execute_result",
          "data": {
            "text/plain": [
              "<matplotlib.image.AxesImage at 0x7f4198bb4828>"
            ]
          },
          "metadata": {
            "tags": []
          },
          "execution_count": 202
        },
        {
          "output_type": "display_data",
          "data": {
            "image/png": "[encoded data removed]",
            "text/plain": [
              "<Figure size 432x288 with 1 Axes>"
            ]
          },
          "metadata": {
            "tags": []
          }
        }
      ]
    },
    {
      "cell_type": "code",
      "metadata": {
        "id": "TFn_fjYlvrkP",
        "colab_type": "code",
        "colab": {
          "base_uri": "https://localhost:8080/",
          "height": 282
        },
        "outputId": "5ed5d5a1-aa95-4403-dd8e-20566e0f1dd2"
      },
      "source": [
        "img_01 = np.arange(0, 784).reshape(28,28)\n",
        "plt.imshow(img_01)"
      ],
      "execution_count": 203,
      "outputs": [
        {
          "output_type": "execute_result",
          "data": {
            "text/plain": [
              "<matplotlib.image.AxesImage at 0x7f4198b8e6a0>"
            ]
          },
          "metadata": {
            "tags": []
          },
          "execution_count": 203
        },
        {
          "output_type": "display_data",
          "data": {
            "image/png": "[encoded data removed]",
            "text/plain": [
              "<Figure size 432x288 with 1 Axes>"
            ]
          },
          "metadata": {
            "tags": []
          }
        }
      ]
    },
    {
      "cell_type": "code",
      "metadata": {
        "id": "ubSCPsW13MZT",
        "colab_type": "code",
        "colab": {
          "base_uri": "https://localhost:8080/",
          "height": 282
        },
        "outputId": "b0e63dc6-a8ec-4105-9f4d-a3f33bd30976"
      },
      "source": [
        "img_02 = np.random.normal(size= 784).reshape(28,28)\n",
        "plt.imshow(img_02)"
      ],
      "execution_count": 204,
      "outputs": [
        {
          "output_type": "execute_result",
          "data": {
            "text/plain": [
              "<matplotlib.image.AxesImage at 0x7f4198ae77f0>"
            ]
          },
          "metadata": {
            "tags": []
          },
          "execution_count": 204
        },
        {
          "output_type": "display_data",
          "data": {
            "image/png": "[encoded data removed]",
            "text/plain": [
              "<Figure size 432x288 with 1 Axes>"
            ]
          },
          "metadata": {
            "tags": []
          }
        }
      ]
    },
    {
      "cell_type": "code",
      "metadata": {
        "id": "qJeswV9d3tp2",
        "colab_type": "code",
        "colab": {}
      },
      "source": [
        "ruido_ph = tf.placeholder(tf.float32, shape= [None, 100])\n",
        "\n",
        "def gerador(ruido, _reuse= True):\n",
        "  with tf.variable_scope('gerador', reuse= _reuse):\n",
        "    # Estrutura da rede\n",
        "    # entrada 100 -> oculta1 128 -> oculta2 128 -> saida 784\n",
        "    camada_oculta1 = tf.nn.relu( tf.layers.dense(inputs= ruido, units= 128) )\n",
        "    camada_oculta2 = tf.nn.relu( tf.layers.dense(inputs= camada_oculta1, units= 128) )\n",
        "    camada_saida = tf.layers.dense(inputs= camada_oculta2, units= 784, activation= tf.nn.tanh)\n",
        "    return camada_saida"
      ],
      "execution_count": 0,
      "outputs": []
    },
    {
      "cell_type": "code",
      "metadata": {
        "id": "_1l-d4bo8FxL",
        "colab_type": "code",
        "colab": {}
      },
      "source": [
        "img_reais_ph = tf.placeholder(tf.float32, [None, 784])\n",
        "\n",
        "def discriminador(X, _reuse= True):\n",
        "  with tf.variable_scope('discriminador', reuse= _reuse):\n",
        "    # Estrutura da rede\n",
        "    # entrada 784 -> oculta1 128 -> oculta2 128 -> saida 1\n",
        "    camada_oculta1 = tf.nn.relu( tf.layers.dense(inputs= X, units= 128) )\n",
        "    camada_oculta2 = tf.nn.relu( tf.layers.dense(inputs= camada_oculta1, units= 128) )\n",
        "    logits = tf.layers.dense(inputs= camada_oculta2, units= 1)\n",
        "    return logits"
      ],
      "execution_count": 0,
      "outputs": []
    },
    {
      "cell_type": "code",
      "metadata": {
        "id": "Qz-RQDz3_dvA",
        "colab_type": "code",
        "colab": {}
      },
      "source": [
        "logits_img_reais = discriminador(img_reais_ph, None)\n",
        "logits_img_ruidos = discriminador(gerador(ruido_ph, None), True)\n",
        "\n",
        "erro_discriminador_real = tf.reduce_mean(tf.nn.sigmoid_cross_entropy_with_logits(\n",
        "    logits= logits_img_reais, labels= tf.ones_like(logits_img_reais) * 0.9)\n",
        ")\n",
        "erro_discriminador_ruido = tf.reduce_mean(tf.nn.sigmoid_cross_entropy_with_logits(\n",
        "    logits= logits_img_ruidos, labels= tf.zeros_like(logits_img_reais))\n",
        ")\n",
        "erro_discriminador = erro_discriminador_real + erro_discriminador_ruido\n",
        "\n",
        "erro_gerador = tf.reduce_mean(tf.nn.sigmoid_cross_entropy_with_logits(\n",
        "    logits= logits_img_ruidos, labels= tf.ones_like(logits_img_ruidos))\n",
        ")"
      ],
      "execution_count": 0,
      "outputs": []
    },
    {
      "cell_type": "code",
      "metadata": {
        "id": "o_IR6vF_C3bm",
        "colab_type": "code",
        "colab": {
          "base_uri": "https://localhost:8080/",
          "height": 225
        },
        "outputId": "1736d954-e37a-439b-a44d-992bd2a96f00"
      },
      "source": [
        "variaveis = tf.trainable_variables()\n",
        "variaveis"
      ],
      "execution_count": 208,
      "outputs": [
        {
          "output_type": "execute_result",
          "data": {
            "text/plain": [
              "[<tf.Variable 'discriminador/dense/kernel:0' shape=(784, 128) dtype=float32_ref>,\n",
              " <tf.Variable 'discriminador/dense/bias:0' shape=(128,) dtype=float32_ref>,\n",
              " <tf.Variable 'discriminador/dense_1/kernel:0' shape=(128, 128) dtype=float32_ref>,\n",
              " <tf.Variable 'discriminador/dense_1/bias:0' shape=(128,) dtype=float32_ref>,\n",
              " <tf.Variable 'discriminador/dense_2/kernel:0' shape=(128, 1) dtype=float32_ref>,\n",
              " <tf.Variable 'discriminador/dense_2/bias:0' shape=(1,) dtype=float32_ref>,\n",
              " <tf.Variable 'gerador/dense/kernel:0' shape=(100, 128) dtype=float32_ref>,\n",
              " <tf.Variable 'gerador/dense/bias:0' shape=(128,) dtype=float32_ref>,\n",
              " <tf.Variable 'gerador/dense_1/kernel:0' shape=(128, 128) dtype=float32_ref>,\n",
              " <tf.Variable 'gerador/dense_1/bias:0' shape=(128,) dtype=float32_ref>,\n",
              " <tf.Variable 'gerador/dense_2/kernel:0' shape=(128, 784) dtype=float32_ref>,\n",
              " <tf.Variable 'gerador/dense_2/bias:0' shape=(784,) dtype=float32_ref>]"
            ]
          },
          "metadata": {
            "tags": []
          },
          "execution_count": 208
        }
      ]
    },
    {
      "cell_type": "code",
      "metadata": {
        "id": "vYswl89zDDMt",
        "colab_type": "code",
        "colab": {
          "base_uri": "https://localhost:8080/",
          "height": 121
        },
        "outputId": "15d52215-32dd-47a6-8e0c-e2b93ff146c4"
      },
      "source": [
        "variaveis_discriminador = [v for v in variaveis if 'discriminador' in v.name]\n",
        "variaveis_discriminador"
      ],
      "execution_count": 209,
      "outputs": [
        {
          "output_type": "execute_result",
          "data": {
            "text/plain": [
              "[<tf.Variable 'discriminador/dense/kernel:0' shape=(784, 128) dtype=float32_ref>,\n",
              " <tf.Variable 'discriminador/dense/bias:0' shape=(128,) dtype=float32_ref>,\n",
              " <tf.Variable 'discriminador/dense_1/kernel:0' shape=(128, 128) dtype=float32_ref>,\n",
              " <tf.Variable 'discriminador/dense_1/bias:0' shape=(128,) dtype=float32_ref>,\n",
              " <tf.Variable 'discriminador/dense_2/kernel:0' shape=(128, 1) dtype=float32_ref>,\n",
              " <tf.Variable 'discriminador/dense_2/bias:0' shape=(1,) dtype=float32_ref>]"
            ]
          },
          "metadata": {
            "tags": []
          },
          "execution_count": 209
        }
      ]
    },
    {
      "cell_type": "code",
      "metadata": {
        "id": "CvYGggAwDnQp",
        "colab_type": "code",
        "colab": {
          "base_uri": "https://localhost:8080/",
          "height": 121
        },
        "outputId": "2b4af2ca-55a1-4ff8-f6c9-9d00224a0888"
      },
      "source": [
        "variaveis_gerador = [v for v in variaveis if 'gerador' in v.name]\n",
        "variaveis_gerador"
      ],
      "execution_count": 210,
      "outputs": [
        {
          "output_type": "execute_result",
          "data": {
            "text/plain": [
              "[<tf.Variable 'gerador/dense/kernel:0' shape=(100, 128) dtype=float32_ref>,\n",
              " <tf.Variable 'gerador/dense/bias:0' shape=(128,) dtype=float32_ref>,\n",
              " <tf.Variable 'gerador/dense_1/kernel:0' shape=(128, 128) dtype=float32_ref>,\n",
              " <tf.Variable 'gerador/dense_1/bias:0' shape=(128,) dtype=float32_ref>,\n",
              " <tf.Variable 'gerador/dense_2/kernel:0' shape=(128, 784) dtype=float32_ref>,\n",
              " <tf.Variable 'gerador/dense_2/bias:0' shape=(784,) dtype=float32_ref>]"
            ]
          },
          "metadata": {
            "tags": []
          },
          "execution_count": 210
        }
      ]
    },
    {
      "cell_type": "code",
      "metadata": {
        "id": "e4xZnRb1ECt-",
        "colab_type": "code",
        "colab": {}
      },
      "source": [
        "treinamento_discriminador = tf.train.AdamOptimizer(learning_rate= 0.001).minimize(erro_discriminador,\n",
        "                                                                                  var_list= variaveis_discriminador)\n",
        "treinamento_gerador = tf.train.AdamOptimizer(learning_rate= 0.001).minimize(erro_gerador,\n",
        "                                                                            var_list= variaveis_gerador)"
      ],
      "execution_count": 0,
      "outputs": []
    },
    {
      "cell_type": "code",
      "metadata": {
        "id": "HPaZJ4Tu42ji",
        "colab_type": "code",
        "colab": {
          "base_uri": "https://localhost:8080/",
          "height": 1000
        },
        "outputId": "1d19387d-d372-468d-f9cc-d7d8bfcefef4"
      },
      "source": [
        "batch_size = 100\n",
        "amostras_teste = []\n",
        "with tf.Session() as sess:\n",
        "  sess.run(tf.global_variables_initializer())\n",
        "  #(-1, 1, ... ) -> tf.nn.tanh | (0, 1, ...) tf.nn.sigmoid\n",
        "  #ruido_testes = np.random.uniform(-1, 1, size=(1, 100))\n",
        "  #amostra = sess.run(generador(ruido_ph), feed_dict= {ruido_ph: ruido_testes})\n",
        "\n",
        "  for epoch in range(500):\n",
        "    num_batches = mnist.train.num_examples // batch_size\n",
        "    for i in range(num_batches):\n",
        "      batch = mnist.train.next_batch(batch_size)\n",
        "      img_batch = batch[0].reshape((100,784))\n",
        "      img_batch = img_batch * 2 - 1\n",
        "      \n",
        "      batch_ruido = np.random.uniform(-1, 1, size=(batch_size, 100))\n",
        "      _, custod = sess.run([treinamento_discriminador, erro_discriminador], \n",
        "                          feed_dict= {img_reais_ph: img_batch, ruido_ph: batch_ruido})\n",
        "      _, custog = sess.run([treinamento_gerador, erro_gerador], \n",
        "                           feed_dict= {ruido_ph: batch_ruido})\n",
        "      \n",
        "    print(f'epoch {epoch} - erroD {custod} - erroG {custog}')\n",
        "    \n",
        "    ruido_teste = np.random.uniform(-1, 1, size=(1, 100))\n",
        "    img_gerada = sess.run(gerador(ruido_ph), feed_dict= {ruido_ph: ruido_teste})\n",
        "    amostras_teste.append(img_gerada)"
      ],
      "execution_count": 215,
      "outputs": [
        {
          "output_type": "stream",
          "text": [
            "epoch 0 - erroD 0.4688158631324768 - erroG 8.834744453430176\n",
            "epoch 1 - erroD 0.6118860244750977 - erroG 11.103764533996582\n",
            "epoch 2 - erroD 0.8723410367965698 - erroG 3.4442543983459473\n",
            "epoch 3 - erroD 1.0109837055206299 - erroG 6.25728702545166\n",
            "epoch 4 - erroD 0.5098627209663391 - erroG 4.003245830535889\n",
            "epoch 5 - erroD 0.9885093569755554 - erroG 2.154158115386963\n",
            "epoch 6 - erroD 0.7673231363296509 - erroG 3.098501205444336\n",
            "epoch 7 - erroD 0.6289919018745422 - erroG 6.0186309814453125\n",
            "epoch 8 - erroD 1.570361614227295 - erroG 1.6957168579101562\n",
            "epoch 9 - erroD 0.8898037672042847 - erroG 2.343797445297241\n",
            "epoch 10 - erroD 2.1561875343322754 - erroG 1.6339271068572998\n",
            "epoch 11 - erroD 0.6896554231643677 - erroG 3.25014591217041\n",
            "epoch 12 - erroD 1.0929865837097168 - erroG 1.5907416343688965\n",
            "epoch 13 - erroD 1.2001302242279053 - erroG 3.4699761867523193\n",
            "epoch 14 - erroD 0.7979689240455627 - erroG 2.7723846435546875\n",
            "epoch 15 - erroD 0.9683259725570679 - erroG 1.8154633045196533\n",
            "epoch 16 - erroD 0.9661515951156616 - erroG 4.638514995574951\n",
            "epoch 17 - erroD 1.0470842123031616 - erroG 1.7227075099945068\n",
            "epoch 18 - erroD 0.6210336685180664 - erroG 3.802767038345337\n",
            "epoch 19 - erroD 0.778541088104248 - erroG 4.829658508300781\n",
            "epoch 20 - erroD 1.3428454399108887 - erroG 3.0038111209869385\n",
            "epoch 21 - erroD 0.6167865991592407 - erroG 4.265591144561768\n",
            "epoch 22 - erroD 1.2670623064041138 - erroG 1.4939929246902466\n",
            "epoch 23 - erroD 1.4780094623565674 - erroG 1.7366366386413574\n",
            "epoch 24 - erroD 1.6414769887924194 - erroG 1.4490336179733276\n",
            "epoch 25 - erroD 0.5663230419158936 - erroG 3.611135482788086\n",
            "epoch 26 - erroD 0.9490412473678589 - erroG 2.5814926624298096\n",
            "epoch 27 - erroD 0.8530359268188477 - erroG 2.000223159790039\n",
            "epoch 28 - erroD 1.9488385915756226 - erroG 3.6940300464630127\n",
            "epoch 29 - erroD 1.1404914855957031 - erroG 2.238635301589966\n",
            "epoch 30 - erroD 0.681905210018158 - erroG 2.594611167907715\n",
            "epoch 31 - erroD 1.2473113536834717 - erroG 1.9112085103988647\n",
            "epoch 32 - erroD 1.0949636697769165 - erroG 2.6194686889648438\n",
            "epoch 33 - erroD 0.8379535675048828 - erroG 1.9766651391983032\n",
            "epoch 34 - erroD 1.2966728210449219 - erroG 2.1500167846679688\n",
            "epoch 35 - erroD 1.1354396343231201 - erroG 1.2873631715774536\n",
            "epoch 36 - erroD 1.1655067205429077 - erroG 2.3938651084899902\n",
            "epoch 37 - erroD 0.9373874068260193 - erroG 2.0415689945220947\n",
            "epoch 38 - erroD 0.8964474201202393 - erroG 2.511868476867676\n",
            "epoch 39 - erroD 0.9391783475875854 - erroG 1.6621694564819336\n",
            "epoch 40 - erroD 1.1081687211990356 - erroG 1.8569369316101074\n",
            "epoch 41 - erroD 0.7558752298355103 - erroG 2.5959978103637695\n",
            "epoch 42 - erroD 1.466980218887329 - erroG 1.9388504028320312\n",
            "epoch 43 - erroD 0.9496548175811768 - erroG 2.0008983612060547\n",
            "epoch 44 - erroD 1.1288543939590454 - erroG 1.7705354690551758\n",
            "epoch 45 - erroD 1.0359981060028076 - erroG 1.9019595384597778\n",
            "epoch 46 - erroD 1.2579374313354492 - erroG 1.4235016107559204\n",
            "epoch 47 - erroD 1.144627332687378 - erroG 2.4559061527252197\n",
            "epoch 48 - erroD 1.0361963510513306 - erroG 1.638878345489502\n",
            "epoch 49 - erroD 1.3151341676712036 - erroG 1.8445950746536255\n",
            "epoch 50 - erroD 1.4202860593795776 - erroG 2.874326705932617\n",
            "epoch 51 - erroD 1.104853868484497 - erroG 1.8342868089675903\n",
            "epoch 52 - erroD 1.1302803754806519 - erroG 2.203930377960205\n",
            "epoch 53 - erroD 1.0310178995132446 - erroG 2.661400079727173\n",
            "epoch 54 - erroD 0.9149588942527771 - erroG 2.494314193725586\n",
            "epoch 55 - erroD 0.9297974109649658 - erroG 1.7709003686904907\n",
            "epoch 56 - erroD 0.9382138848304749 - erroG 2.163309097290039\n",
            "epoch 57 - erroD 1.2281156778335571 - erroG 1.500929355621338\n",
            "epoch 58 - erroD 0.9331962466239929 - erroG 2.914918899536133\n",
            "epoch 59 - erroD 1.2332510948181152 - erroG 1.3500187397003174\n",
            "epoch 60 - erroD 1.2676644325256348 - erroG 1.9848171472549438\n",
            "epoch 61 - erroD 1.1790282726287842 - erroG 1.8356025218963623\n",
            "epoch 62 - erroD 0.8143816590309143 - erroG 2.8864612579345703\n",
            "epoch 63 - erroD 1.0279983282089233 - erroG 2.052306652069092\n",
            "epoch 64 - erroD 1.0517725944519043 - erroG 1.4876919984817505\n",
            "epoch 65 - erroD 1.1975890398025513 - erroG 1.7097926139831543\n",
            "epoch 66 - erroD 1.1912527084350586 - erroG 1.4285340309143066\n",
            "epoch 67 - erroD 0.867936372756958 - erroG 2.0039055347442627\n",
            "epoch 68 - erroD 1.0723549127578735 - erroG 1.3251848220825195\n",
            "epoch 69 - erroD 1.2047996520996094 - erroG 1.4575234651565552\n",
            "epoch 70 - erroD 1.0966405868530273 - erroG 1.720671534538269\n",
            "epoch 71 - erroD 1.2263879776000977 - erroG 1.4592413902282715\n",
            "epoch 72 - erroD 0.9955784678459167 - erroG 1.379471778869629\n",
            "epoch 73 - erroD 0.9576650857925415 - erroG 1.7787787914276123\n",
            "epoch 74 - erroD 0.8809810280799866 - erroG 1.8721188306808472\n",
            "epoch 75 - erroD 1.0163098573684692 - erroG 1.9370089769363403\n",
            "epoch 76 - erroD 0.9604318737983704 - erroG 1.764086127281189\n",
            "epoch 77 - erroD 1.1811418533325195 - erroG 1.4767234325408936\n",
            "epoch 78 - erroD 0.9346759915351868 - erroG 1.9660378694534302\n",
            "epoch 79 - erroD 1.1505694389343262 - erroG 1.4443974494934082\n",
            "epoch 80 - erroD 0.7727863788604736 - erroG 1.9796075820922852\n",
            "epoch 81 - erroD 1.534748911857605 - erroG 1.28908371925354\n",
            "epoch 82 - erroD 0.989266037940979 - erroG 1.7030390501022339\n",
            "epoch 83 - erroD 0.8171923160552979 - erroG 2.4443132877349854\n",
            "epoch 84 - erroD 1.0620676279067993 - erroG 1.9602081775665283\n",
            "epoch 85 - erroD 0.8179579973220825 - erroG 2.940561294555664\n",
            "epoch 86 - erroD 1.0565409660339355 - erroG 1.6187955141067505\n",
            "epoch 87 - erroD 0.9939968585968018 - erroG 1.7535429000854492\n",
            "epoch 88 - erroD 1.170210599899292 - erroG 1.6347848176956177\n",
            "epoch 89 - erroD 1.2730005979537964 - erroG 1.270918607711792\n",
            "epoch 90 - erroD 1.0145193338394165 - erroG 1.6212996244430542\n",
            "epoch 91 - erroD 1.1168652772903442 - erroG 1.8624544143676758\n",
            "epoch 92 - erroD 1.0437507629394531 - erroG 2.023275136947632\n",
            "epoch 93 - erroD 0.9244029521942139 - erroG 1.597760796546936\n",
            "epoch 94 - erroD 0.9856295585632324 - erroG 2.192864418029785\n",
            "epoch 95 - erroD 0.9261451363563538 - erroG 1.5750716924667358\n",
            "epoch 96 - erroD 0.8186635971069336 - erroG 2.5503830909729004\n",
            "epoch 97 - erroD 0.9242478609085083 - erroG 1.5949386358261108\n",
            "epoch 98 - erroD 0.9855172038078308 - erroG 1.6574474573135376\n",
            "epoch 99 - erroD 0.8993312120437622 - erroG 1.8081579208374023\n",
            "epoch 100 - erroD 1.1012094020843506 - erroG 1.5008952617645264\n",
            "epoch 101 - erroD 1.1055963039398193 - erroG 1.8791625499725342\n",
            "epoch 102 - erroD 1.2488949298858643 - erroG 1.4376062154769897\n",
            "epoch 103 - erroD 1.0336779356002808 - erroG 1.7709109783172607\n",
            "epoch 104 - erroD 0.9737269878387451 - erroG 1.6035971641540527\n",
            "epoch 105 - erroD 0.9976616501808167 - erroG 1.6207664012908936\n",
            "epoch 106 - erroD 0.9359903335571289 - erroG 2.297769784927368\n",
            "epoch 107 - erroD 1.1122863292694092 - erroG 1.548357367515564\n",
            "epoch 108 - erroD 1.051927089691162 - erroG 1.515640377998352\n",
            "epoch 109 - erroD 1.1459565162658691 - erroG 1.3240693807601929\n",
            "epoch 110 - erroD 1.1234886646270752 - erroG 1.187045931816101\n",
            "epoch 111 - erroD 0.9307401180267334 - erroG 1.9774147272109985\n",
            "epoch 112 - erroD 1.100013256072998 - erroG 2.4935333728790283\n",
            "epoch 113 - erroD 1.0423330068588257 - erroG 1.5312098264694214\n",
            "epoch 114 - erroD 1.122833013534546 - erroG 1.340518832206726\n",
            "epoch 115 - erroD 0.8807213306427002 - erroG 1.8579715490341187\n",
            "epoch 116 - erroD 1.2730157375335693 - erroG 1.6185721158981323\n",
            "epoch 117 - erroD 1.0305218696594238 - erroG 1.4833639860153198\n",
            "epoch 118 - erroD 1.117002010345459 - erroG 1.775576114654541\n",
            "epoch 119 - erroD 1.2021570205688477 - erroG 1.5728118419647217\n",
            "epoch 120 - erroD 1.0409008264541626 - erroG 1.6221307516098022\n",
            "epoch 121 - erroD 0.920818567276001 - erroG 2.0216829776763916\n",
            "epoch 122 - erroD 1.2534282207489014 - erroG 1.4080101251602173\n",
            "epoch 123 - erroD 1.1517575979232788 - erroG 1.879604697227478\n",
            "epoch 124 - erroD 1.136136531829834 - erroG 1.4807522296905518\n",
            "epoch 125 - erroD 1.058391809463501 - erroG 1.8871558904647827\n",
            "epoch 126 - erroD 1.0201163291931152 - erroG 1.7998902797698975\n",
            "epoch 127 - erroD 0.7778151035308838 - erroG 2.9704160690307617\n",
            "epoch 128 - erroD 1.065665364265442 - erroG 1.4127827882766724\n",
            "epoch 129 - erroD 1.0344995260238647 - erroG 1.7032033205032349\n",
            "epoch 130 - erroD 1.099141001701355 - erroG 1.5677112340927124\n",
            "epoch 131 - erroD 1.146559238433838 - erroG 1.430138349533081\n",
            "epoch 132 - erroD 0.9598381519317627 - erroG 1.6453604698181152\n",
            "epoch 133 - erroD 1.0950050354003906 - erroG 1.4786359071731567\n",
            "epoch 134 - erroD 1.1243515014648438 - erroG 1.6068001985549927\n",
            "epoch 135 - erroD 1.0965027809143066 - erroG 1.64400315284729\n",
            "epoch 136 - erroD 1.2402758598327637 - erroG 1.1560606956481934\n",
            "epoch 137 - erroD 1.2956573963165283 - erroG 1.418821096420288\n",
            "epoch 138 - erroD 1.0558040142059326 - erroG 1.7250231504440308\n",
            "epoch 139 - erroD 1.0501585006713867 - erroG 1.5558911561965942\n",
            "epoch 140 - erroD 1.0068550109863281 - erroG 1.5043127536773682\n",
            "epoch 141 - erroD 1.1568951606750488 - erroG 1.7126579284667969\n",
            "epoch 142 - erroD 0.8257789611816406 - erroG 2.0806055068969727\n",
            "epoch 143 - erroD 1.045041561126709 - erroG 1.402864933013916\n",
            "epoch 144 - erroD 1.1165242195129395 - erroG 2.064985990524292\n",
            "epoch 145 - erroD 0.9901571869850159 - erroG 1.3581554889678955\n",
            "epoch 146 - erroD 1.195352554321289 - erroG 1.5572307109832764\n",
            "epoch 147 - erroD 1.197640299797058 - erroG 1.5448634624481201\n",
            "epoch 148 - erroD 1.2190821170806885 - erroG 1.391298532485962\n",
            "epoch 149 - erroD 1.1693625450134277 - erroG 1.0200018882751465\n",
            "epoch 150 - erroD 1.0249040126800537 - erroG 1.7945551872253418\n",
            "epoch 151 - erroD 1.036887288093567 - erroG 1.6497291326522827\n",
            "epoch 152 - erroD 1.1314457654953003 - erroG 1.4158366918563843\n",
            "epoch 153 - erroD 1.006101369857788 - erroG 2.0756773948669434\n",
            "epoch 154 - erroD 0.9763829708099365 - erroG 2.182452917098999\n",
            "epoch 155 - erroD 1.0067671537399292 - erroG 1.5527671575546265\n",
            "epoch 156 - erroD 1.020734190940857 - erroG 1.638625144958496\n",
            "epoch 157 - erroD 1.1469860076904297 - erroG 1.2275594472885132\n",
            "epoch 158 - erroD 1.2133771181106567 - erroG 1.3505505323410034\n",
            "epoch 159 - erroD 1.2108454704284668 - erroG 1.5941691398620605\n",
            "epoch 160 - erroD 1.3371105194091797 - erroG 1.3742130994796753\n",
            "epoch 161 - erroD 1.0759985446929932 - erroG 1.715708613395691\n",
            "epoch 162 - erroD 1.3096649646759033 - erroG 1.0864648818969727\n",
            "epoch 163 - erroD 1.062484622001648 - erroG 1.9819244146347046\n",
            "epoch 164 - erroD 1.0982170104980469 - erroG 1.4732348918914795\n",
            "epoch 165 - erroD 1.0094645023345947 - erroG 1.4344031810760498\n",
            "epoch 166 - erroD 0.9678502082824707 - erroG 1.931135892868042\n",
            "epoch 167 - erroD 1.0902255773544312 - erroG 1.308254361152649\n",
            "epoch 168 - erroD 1.2390756607055664 - erroG 1.8918172121047974\n",
            "epoch 169 - erroD 1.2281047105789185 - erroG 1.223813533782959\n",
            "epoch 170 - erroD 1.200752854347229 - erroG 1.172309398651123\n",
            "epoch 171 - erroD 1.0547195672988892 - erroG 1.5511895418167114\n",
            "epoch 172 - erroD 1.0674333572387695 - erroG 1.609249234199524\n",
            "epoch 173 - erroD 1.2684277296066284 - erroG 1.0361266136169434\n",
            "epoch 174 - erroD 1.2682195901870728 - erroG 1.0769556760787964\n",
            "epoch 175 - erroD 1.2973666191101074 - erroG 1.237152338027954\n",
            "epoch 176 - erroD 1.2363765239715576 - erroG 1.364593505859375\n",
            "epoch 177 - erroD 1.1688786745071411 - erroG 2.0352792739868164\n",
            "epoch 178 - erroD 1.0598784685134888 - erroG 1.5622954368591309\n",
            "epoch 179 - erroD 1.1519739627838135 - erroG 1.1893188953399658\n",
            "epoch 180 - erroD 1.0140411853790283 - erroG 1.7438102960586548\n",
            "epoch 181 - erroD 1.0733108520507812 - erroG 1.161299705505371\n",
            "epoch 182 - erroD 1.318552017211914 - erroG 1.353837490081787\n",
            "epoch 183 - erroD 1.2129464149475098 - erroG 1.2602856159210205\n",
            "epoch 184 - erroD 1.2920317649841309 - erroG 1.097259283065796\n",
            "epoch 185 - erroD 1.0336819887161255 - erroG 1.2990658283233643\n",
            "epoch 186 - erroD 1.272707462310791 - erroG 1.4481695890426636\n",
            "epoch 187 - erroD 1.254753589630127 - erroG 1.484958291053772\n",
            "epoch 188 - erroD 1.160353422164917 - erroG 1.1772277355194092\n",
            "epoch 189 - erroD 1.049401879310608 - erroG 1.6689670085906982\n",
            "epoch 190 - erroD 1.3662867546081543 - erroG 0.9695079326629639\n",
            "epoch 191 - erroD 1.1864718198776245 - erroG 1.5954781770706177\n",
            "epoch 192 - erroD 1.3574897050857544 - erroG 1.2395660877227783\n",
            "epoch 193 - erroD 1.0556272268295288 - erroG 1.3818027973175049\n",
            "epoch 194 - erroD 1.1713258028030396 - erroG 1.2061493396759033\n",
            "epoch 195 - erroD 1.2814242839813232 - erroG 1.308042287826538\n",
            "epoch 196 - erroD 1.26839017868042 - erroG 1.2466927766799927\n",
            "epoch 197 - erroD 1.14540433883667 - erroG 1.2626320123672485\n",
            "epoch 198 - erroD 1.1775740385055542 - erroG 1.516669511795044\n",
            "epoch 199 - erroD 1.0852510929107666 - erroG 1.5233856439590454\n",
            "epoch 200 - erroD 1.0084670782089233 - erroG 1.5326122045516968\n",
            "epoch 201 - erroD 1.21550452709198 - erroG 1.3521462678909302\n",
            "epoch 202 - erroD 1.221832275390625 - erroG 1.3678163290023804\n",
            "epoch 203 - erroD 1.041278600692749 - erroG 1.3342567682266235\n",
            "epoch 204 - erroD 1.0934213399887085 - erroG 1.49202299118042\n",
            "epoch 205 - erroD 1.1612653732299805 - erroG 1.2752128839492798\n",
            "epoch 206 - erroD 1.0721235275268555 - erroG 1.3286840915679932\n",
            "epoch 207 - erroD 1.2494776248931885 - erroG 1.1548336744308472\n",
            "epoch 208 - erroD 1.2755602598190308 - erroG 1.208761215209961\n",
            "epoch 209 - erroD 1.1310323476791382 - erroG 1.6069588661193848\n",
            "epoch 210 - erroD 1.175109624862671 - erroG 1.1440472602844238\n",
            "epoch 211 - erroD 1.308916687965393 - erroG 1.7642959356307983\n",
            "epoch 212 - erroD 1.1799691915512085 - erroG 1.3899685144424438\n",
            "epoch 213 - erroD 1.2489280700683594 - erroG 1.175465703010559\n",
            "epoch 214 - erroD 1.1820577383041382 - erroG 1.268113613128662\n",
            "epoch 215 - erroD 1.1485650539398193 - erroG 1.2479283809661865\n",
            "epoch 216 - erroD 1.0010110139846802 - erroG 1.4100745916366577\n",
            "epoch 217 - erroD 1.0715869665145874 - erroG 1.3076586723327637\n",
            "epoch 218 - erroD 1.1899456977844238 - erroG 1.067959189414978\n",
            "epoch 219 - erroD 1.1841769218444824 - erroG 1.2521404027938843\n",
            "epoch 220 - erroD 1.1013755798339844 - erroG 1.3096745014190674\n",
            "epoch 221 - erroD 1.0960924625396729 - erroG 1.4926799535751343\n",
            "epoch 222 - erroD 1.1945490837097168 - erroG 1.29988431930542\n",
            "epoch 223 - erroD 1.1385120153427124 - erroG 1.9076781272888184\n",
            "epoch 224 - erroD 1.258201003074646 - erroG 1.1840401887893677\n",
            "epoch 225 - erroD 1.3592333793640137 - erroG 0.9591322541236877\n",
            "epoch 226 - erroD 1.1404025554656982 - erroG 1.332045555114746\n",
            "epoch 227 - erroD 1.1714274883270264 - erroG 1.1249064207077026\n",
            "epoch 228 - erroD 1.034703254699707 - erroG 1.3437162637710571\n",
            "epoch 229 - erroD 2.042428493499756 - erroG 1.2142795324325562\n",
            "epoch 230 - erroD 1.1975946426391602 - erroG 1.1853690147399902\n",
            "epoch 231 - erroD 1.0205543041229248 - erroG 1.5174719095230103\n",
            "epoch 232 - erroD 0.9843738079071045 - erroG 1.7213845252990723\n",
            "epoch 233 - erroD 0.8781818747520447 - erroG 1.896960735321045\n",
            "epoch 234 - erroD 1.1427143812179565 - erroG 1.1428771018981934\n",
            "epoch 235 - erroD 0.9957716464996338 - erroG 1.6725354194641113\n",
            "epoch 236 - erroD 1.2169640064239502 - erroG 1.239345908164978\n",
            "epoch 237 - erroD 1.4216070175170898 - erroG 1.1215885877609253\n",
            "epoch 238 - erroD 0.9320610761642456 - erroG 1.5550587177276611\n",
            "epoch 239 - erroD 1.125916838645935 - erroG 1.1801811456680298\n",
            "epoch 240 - erroD 1.2519893646240234 - erroG 1.0712332725524902\n",
            "epoch 241 - erroD 1.322221040725708 - erroG 1.0700312852859497\n",
            "epoch 242 - erroD 1.1437126398086548 - erroG 1.4522581100463867\n",
            "epoch 243 - erroD 1.1290274858474731 - erroG 1.5722962617874146\n",
            "epoch 244 - erroD 1.1549443006515503 - erroG 1.4009813070297241\n",
            "epoch 245 - erroD 1.1867274045944214 - erroG 1.157189130783081\n",
            "epoch 246 - erroD 1.1585935354232788 - erroG 1.1315871477127075\n",
            "epoch 247 - erroD 1.1387171745300293 - erroG 1.355369210243225\n",
            "epoch 248 - erroD 1.0241299867630005 - erroG 1.4528690576553345\n",
            "epoch 249 - erroD 1.2080050706863403 - erroG 1.113227367401123\n",
            "epoch 250 - erroD 1.120957851409912 - erroG 1.252760887145996\n",
            "epoch 251 - erroD 1.5620123147964478 - erroG 1.0774376392364502\n",
            "epoch 252 - erroD 1.197323203086853 - erroG 1.1391584873199463\n",
            "epoch 253 - erroD 1.4167917966842651 - erroG 1.1420295238494873\n",
            "epoch 254 - erroD 1.2188763618469238 - erroG 1.2352012395858765\n",
            "epoch 255 - erroD 1.2481663227081299 - erroG 1.0160703659057617\n",
            "epoch 256 - erroD 1.2364200353622437 - erroG 1.3924227952957153\n",
            "epoch 257 - erroD 1.2361220121383667 - erroG 1.1405415534973145\n",
            "epoch 258 - erroD 1.2128007411956787 - erroG 1.1270718574523926\n",
            "epoch 259 - erroD 1.1390769481658936 - erroG 1.1812056303024292\n",
            "epoch 260 - erroD 1.2049050331115723 - erroG 1.0760577917099\n",
            "epoch 261 - erroD 1.343949317932129 - erroG 1.0845447778701782\n",
            "epoch 262 - erroD 1.1794100999832153 - erroG 1.211072564125061\n",
            "epoch 263 - erroD 1.2230784893035889 - erroG 2.099475622177124\n",
            "epoch 264 - erroD 1.1473655700683594 - erroG 1.3073439598083496\n",
            "epoch 265 - erroD 1.1453579664230347 - erroG 1.195815086364746\n",
            "epoch 266 - erroD 1.0881702899932861 - erroG 1.7498337030410767\n",
            "epoch 267 - erroD 1.208013892173767 - erroG 1.2978614568710327\n",
            "epoch 268 - erroD 1.2595850229263306 - erroG 1.0865353345870972\n",
            "epoch 269 - erroD 1.199978232383728 - erroG 1.2238993644714355\n",
            "epoch 270 - erroD 1.3013076782226562 - erroG 1.214625597000122\n",
            "epoch 271 - erroD 1.221024990081787 - erroG 0.967390239238739\n",
            "epoch 272 - erroD 0.910693883895874 - erroG 1.6552047729492188\n",
            "epoch 273 - erroD 1.1981885433197021 - erroG 1.0313011407852173\n",
            "epoch 274 - erroD 1.2827823162078857 - erroG 1.006643533706665\n",
            "epoch 275 - erroD 1.1897034645080566 - erroG 1.168717384338379\n",
            "epoch 276 - erroD 1.1380096673965454 - erroG 1.179100513458252\n",
            "epoch 277 - erroD 0.8127415180206299 - erroG 1.8515825271606445\n",
            "epoch 278 - erroD 1.2910072803497314 - erroG 1.0357229709625244\n",
            "epoch 279 - erroD 1.0256576538085938 - erroG 1.3947299718856812\n",
            "epoch 280 - erroD 1.266787052154541 - erroG 1.1859837770462036\n",
            "epoch 281 - erroD 1.1815394163131714 - erroG 1.1574134826660156\n",
            "epoch 282 - erroD 1.030579924583435 - erroG 1.4255250692367554\n",
            "epoch 283 - erroD 1.1773459911346436 - erroG 1.2775126695632935\n",
            "epoch 284 - erroD 1.7247438430786133 - erroG 0.754129946231842\n",
            "epoch 285 - erroD 1.1506445407867432 - erroG 1.1287862062454224\n",
            "epoch 286 - erroD 1.2812614440917969 - erroG 1.0543185472488403\n",
            "epoch 287 - erroD 1.2723139524459839 - erroG 1.0567530393600464\n",
            "epoch 288 - erroD 1.127037763595581 - erroG 1.164044976234436\n",
            "epoch 289 - erroD 1.1774028539657593 - erroG 1.2954185009002686\n",
            "epoch 290 - erroD 1.3745497465133667 - erroG 1.154391884803772\n",
            "epoch 291 - erroD 1.3524363040924072 - erroG 0.9498147368431091\n",
            "epoch 292 - erroD 1.3591907024383545 - erroG 0.9632421731948853\n",
            "epoch 293 - erroD 1.2918981313705444 - erroG 0.9774160981178284\n",
            "epoch 294 - erroD 1.3031866550445557 - erroG 0.9927049875259399\n",
            "epoch 295 - erroD 1.3204174041748047 - erroG 1.0288994312286377\n",
            "epoch 296 - erroD 1.338592529296875 - erroG 0.9279672503471375\n",
            "epoch 297 - erroD 1.1445817947387695 - erroG 1.2401093244552612\n",
            "epoch 298 - erroD 1.0941684246063232 - erroG 1.1548707485198975\n",
            "epoch 299 - erroD 1.4327211380004883 - erroG 1.0022575855255127\n",
            "epoch 300 - erroD 1.1999059915542603 - erroG 1.3131071329116821\n",
            "epoch 301 - erroD 1.5127930641174316 - erroG 1.018895149230957\n",
            "epoch 302 - erroD 1.1169776916503906 - erroG 1.0692241191864014\n",
            "epoch 303 - erroD 1.2428572177886963 - erroG 1.1795554161071777\n",
            "epoch 304 - erroD 1.2586389780044556 - erroG 1.0065555572509766\n",
            "epoch 305 - erroD 1.055214524269104 - erroG 1.5495545864105225\n",
            "epoch 306 - erroD 0.9808295965194702 - erroG 1.5810104608535767\n",
            "epoch 307 - erroD 1.1879169940948486 - erroG 1.1509357690811157\n",
            "epoch 308 - erroD 1.26003098487854 - erroG 0.9897608160972595\n",
            "epoch 309 - erroD 1.2450755834579468 - erroG 1.1653112173080444\n",
            "epoch 310 - erroD 1.4392201900482178 - erroG 0.9042106866836548\n",
            "epoch 311 - erroD 1.3565411567687988 - erroG 0.9122695922851562\n",
            "epoch 312 - erroD 1.2005385160446167 - erroG 1.128828763961792\n",
            "epoch 313 - erroD 1.2870965003967285 - erroG 1.0184801816940308\n",
            "epoch 314 - erroD 1.4099690914154053 - erroG 0.9301279187202454\n",
            "epoch 315 - erroD 1.4147952795028687 - erroG 1.050733208656311\n",
            "epoch 316 - erroD 1.066558599472046 - erroG 1.2656553983688354\n",
            "epoch 317 - erroD 1.1857987642288208 - erroG 1.0654025077819824\n",
            "epoch 318 - erroD 1.288323163986206 - erroG 1.1989761590957642\n",
            "epoch 319 - erroD 1.1904778480529785 - erroG 1.166121006011963\n",
            "epoch 320 - erroD 1.3337781429290771 - erroG 0.9626728892326355\n",
            "epoch 321 - erroD 1.319692611694336 - erroG 1.1258333921432495\n",
            "epoch 322 - erroD 1.1830648183822632 - erroG 1.0435236692428589\n",
            "epoch 323 - erroD 1.4324045181274414 - erroG 0.9568263292312622\n",
            "epoch 324 - erroD 1.238572359085083 - erroG 0.9841640591621399\n",
            "epoch 325 - erroD 1.0844476222991943 - erroG 1.3717091083526611\n",
            "epoch 326 - erroD 1.2565429210662842 - erroG 1.0001041889190674\n",
            "epoch 327 - erroD 1.2929651737213135 - erroG 1.0941367149353027\n",
            "epoch 328 - erroD 1.2838666439056396 - erroG 0.97752845287323\n",
            "epoch 329 - erroD 1.3173322677612305 - erroG 0.946596086025238\n",
            "epoch 330 - erroD 1.3107830286026 - erroG 1.048234462738037\n",
            "epoch 331 - erroD 1.3301219940185547 - erroG 0.958086371421814\n",
            "epoch 332 - erroD 1.170259952545166 - erroG 1.2065917253494263\n",
            "epoch 333 - erroD 1.8567004203796387 - erroG 0.8094522953033447\n",
            "epoch 334 - erroD 1.3184624910354614 - erroG 1.1679264307022095\n",
            "epoch 335 - erroD 1.2594966888427734 - erroG 0.9960479736328125\n",
            "epoch 336 - erroD 1.2791855335235596 - erroG 0.9506897926330566\n",
            "epoch 337 - erroD 1.2946805953979492 - erroG 1.2793209552764893\n",
            "epoch 338 - erroD 1.3806443214416504 - erroG 0.9909775257110596\n",
            "epoch 339 - erroD 1.218207597732544 - erroG 1.0157084465026855\n",
            "epoch 340 - erroD 1.3907545804977417 - erroG 0.8563815951347351\n",
            "epoch 341 - erroD 1.282688856124878 - erroG 1.0928822755813599\n",
            "epoch 342 - erroD 1.3249202966690063 - erroG 1.0155818462371826\n",
            "epoch 343 - erroD 1.154638409614563 - erroG 1.1591548919677734\n",
            "epoch 344 - erroD 1.4663231372833252 - erroG 0.9039753675460815\n",
            "epoch 345 - erroD 1.2856903076171875 - erroG 1.3096002340316772\n",
            "epoch 346 - erroD 1.4849143028259277 - erroG 0.9593942761421204\n",
            "epoch 347 - erroD 1.1164394617080688 - erroG 1.3902924060821533\n",
            "epoch 348 - erroD 1.2837989330291748 - erroG 0.9875540733337402\n",
            "epoch 349 - erroD 1.2874467372894287 - erroG 0.9603078961372375\n",
            "epoch 350 - erroD 1.188469648361206 - erroG 1.0273088216781616\n",
            "epoch 351 - erroD 1.1297180652618408 - erroG 1.1963905096054077\n",
            "epoch 352 - erroD 1.4155229330062866 - erroG 0.9494825005531311\n",
            "epoch 353 - erroD 1.5346266031265259 - erroG 0.9357625842094421\n",
            "epoch 354 - erroD 1.0701870918273926 - erroG 1.205564260482788\n",
            "epoch 355 - erroD 1.3171544075012207 - erroG 0.9111417531967163\n",
            "epoch 356 - erroD 1.4830046892166138 - erroG 1.1197726726531982\n",
            "epoch 357 - erroD 1.221657633781433 - erroG 1.1340380907058716\n",
            "epoch 358 - erroD 1.6363017559051514 - erroG 0.9192692637443542\n",
            "epoch 359 - erroD 1.4547162055969238 - erroG 0.8802971839904785\n",
            "epoch 360 - erroD 1.2923011779785156 - erroG 0.9979556798934937\n",
            "epoch 361 - erroD 1.1578099727630615 - erroG 1.0788425207138062\n",
            "epoch 362 - erroD 1.3597817420959473 - erroG 1.050909399986267\n",
            "epoch 363 - erroD 1.182611107826233 - erroG 1.0760178565979004\n",
            "epoch 364 - erroD 1.3058829307556152 - erroG 0.8988315463066101\n",
            "epoch 365 - erroD 1.2177281379699707 - erroG 0.9183567762374878\n",
            "epoch 366 - erroD 1.4010751247406006 - erroG 1.1820253133773804\n",
            "epoch 367 - erroD 1.3333721160888672 - erroG 0.8987889885902405\n",
            "epoch 368 - erroD 1.4431110620498657 - erroG 0.9426501393318176\n",
            "epoch 369 - erroD 1.312084674835205 - erroG 1.0703870058059692\n",
            "epoch 370 - erroD 1.4041272401809692 - erroG 0.8796818256378174\n",
            "epoch 371 - erroD 1.403696060180664 - erroG 0.8959333896636963\n",
            "epoch 372 - erroD 1.3348426818847656 - erroG 1.2308870553970337\n",
            "epoch 373 - erroD 1.3351231813430786 - erroG 1.207876205444336\n",
            "epoch 374 - erroD 1.3800503015518188 - erroG 1.0316524505615234\n",
            "epoch 375 - erroD 1.2694027423858643 - erroG 1.0012996196746826\n",
            "epoch 376 - erroD 1.284516453742981 - erroG 1.086418867111206\n",
            "epoch 377 - erroD 1.01576828956604 - erroG 1.8059202432632446\n",
            "epoch 378 - erroD 1.4497380256652832 - erroG 0.8375195860862732\n",
            "epoch 379 - erroD 1.2571556568145752 - erroG 0.980978786945343\n",
            "epoch 380 - erroD 1.1943085193634033 - erroG 1.431342601776123\n",
            "epoch 381 - erroD 1.1614460945129395 - erroG 1.052443265914917\n",
            "epoch 382 - erroD 1.2283529043197632 - erroG 1.0112751722335815\n",
            "epoch 383 - erroD 1.1632181406021118 - erroG 1.200031042098999\n",
            "epoch 384 - erroD 1.3793809413909912 - erroG 1.1613103151321411\n",
            "epoch 385 - erroD 1.330916166305542 - erroG 0.995015561580658\n",
            "epoch 386 - erroD 1.3237717151641846 - erroG 1.093820333480835\n",
            "epoch 387 - erroD 1.203390121459961 - erroG 1.2878161668777466\n",
            "epoch 388 - erroD 1.4253830909729004 - erroG 1.0572998523712158\n",
            "epoch 389 - erroD 1.2961512804031372 - erroG 1.002662181854248\n",
            "epoch 390 - erroD 1.2166430950164795 - erroG 1.0502171516418457\n",
            "epoch 391 - erroD 1.1471292972564697 - erroG 1.1695778369903564\n",
            "epoch 392 - erroD 1.3939090967178345 - erroG 0.9600882530212402\n",
            "epoch 393 - erroD 1.2418278455734253 - erroG 0.9504968523979187\n",
            "epoch 394 - erroD 1.390176773071289 - erroG 0.880402147769928\n",
            "epoch 395 - erroD 1.2968332767486572 - erroG 1.0661027431488037\n",
            "epoch 396 - erroD 1.2415685653686523 - erroG 1.3481292724609375\n",
            "epoch 397 - erroD 1.1872308254241943 - erroG 1.0563961267471313\n",
            "epoch 398 - erroD 1.3822240829467773 - erroG 0.8929389715194702\n",
            "epoch 399 - erroD 1.1350212097167969 - erroG 1.203861951828003\n",
            "epoch 400 - erroD 1.210494875907898 - erroG 1.1232374906539917\n",
            "epoch 401 - erroD 1.3009976148605347 - erroG 1.1385550498962402\n",
            "epoch 402 - erroD 1.2535563707351685 - erroG 1.057234764099121\n",
            "epoch 403 - erroD 1.2914189100265503 - erroG 0.9652501940727234\n",
            "epoch 404 - erroD 1.5527690649032593 - erroG 0.9819017648696899\n",
            "epoch 405 - erroD 1.114060878753662 - erroG 1.3534846305847168\n",
            "epoch 406 - erroD 1.2830564975738525 - erroG 0.9829535484313965\n",
            "epoch 407 - erroD 1.356675624847412 - erroG 0.9369191527366638\n",
            "epoch 408 - erroD 1.2706372737884521 - erroG 1.021914005279541\n",
            "epoch 409 - erroD 1.412473440170288 - erroG 0.9393421411514282\n",
            "epoch 410 - erroD 1.1243966817855835 - erroG 1.0686249732971191\n",
            "epoch 411 - erroD 1.2194569110870361 - erroG 1.1036267280578613\n",
            "epoch 412 - erroD 1.2623109817504883 - erroG 0.9554407000541687\n",
            "epoch 413 - erroD 1.3319990634918213 - erroG 0.9443686008453369\n",
            "epoch 414 - erroD 1.1642541885375977 - erroG 1.3543227910995483\n",
            "epoch 415 - erroD 1.3941926956176758 - erroG 1.2508524656295776\n",
            "epoch 416 - erroD 1.1399266719818115 - erroG 1.256933331489563\n",
            "epoch 417 - erroD 1.3791587352752686 - erroG 0.9828458428382874\n",
            "epoch 418 - erroD 1.2414408922195435 - erroG 1.2236902713775635\n",
            "epoch 419 - erroD 1.2312721014022827 - erroG 1.1457552909851074\n",
            "epoch 420 - erroD 1.2702560424804688 - erroG 0.9666225910186768\n",
            "epoch 421 - erroD 1.2893967628479004 - erroG 1.005580186843872\n",
            "epoch 422 - erroD 1.3114323616027832 - erroG 1.0423065423965454\n",
            "epoch 423 - erroD 1.2322875261306763 - erroG 1.1432257890701294\n",
            "epoch 424 - erroD 1.2335898876190186 - erroG 0.978759229183197\n",
            "epoch 425 - erroD 1.3235191106796265 - erroG 1.0744414329528809\n",
            "epoch 426 - erroD 1.1722164154052734 - erroG 1.0690550804138184\n",
            "epoch 427 - erroD 1.345423698425293 - erroG 0.9542639255523682\n",
            "epoch 428 - erroD 1.4544837474822998 - erroG 0.9842292666435242\n",
            "epoch 429 - erroD 1.2384350299835205 - erroG 1.1329293251037598\n",
            "epoch 430 - erroD 0.995660662651062 - erroG 1.600535273551941\n",
            "epoch 431 - erroD 1.199051856994629 - erroG 1.0414708852767944\n",
            "epoch 432 - erroD 1.379075050354004 - erroG 0.9300373792648315\n",
            "epoch 433 - erroD 1.3153071403503418 - erroG 1.1183860301971436\n",
            "epoch 434 - erroD 1.318070888519287 - erroG 1.0192126035690308\n",
            "epoch 435 - erroD 1.0845528841018677 - erroG 1.3636698722839355\n",
            "epoch 436 - erroD 1.2557063102722168 - erroG 1.0753289461135864\n",
            "epoch 437 - erroD 1.1881310939788818 - erroG 1.1461460590362549\n",
            "epoch 438 - erroD 1.321225881576538 - erroG 1.1838467121124268\n",
            "epoch 439 - erroD 1.0891354084014893 - erroG 1.3330515623092651\n",
            "epoch 440 - erroD 1.364569067955017 - erroG 1.0027837753295898\n",
            "epoch 441 - erroD 1.3813414573669434 - erroG 0.9392970204353333\n",
            "epoch 442 - erroD 1.1353973150253296 - erroG 1.3443467617034912\n",
            "epoch 443 - erroD 1.326326608657837 - erroG 1.0271493196487427\n",
            "epoch 444 - erroD 1.3486695289611816 - erroG 0.9512969851493835\n",
            "epoch 445 - erroD 1.1962039470672607 - erroG 1.1145825386047363\n",
            "epoch 446 - erroD 1.1841135025024414 - erroG 1.1830010414123535\n",
            "epoch 447 - erroD 1.2338335514068604 - erroG 1.1673476696014404\n",
            "epoch 448 - erroD 1.28932523727417 - erroG 1.0963466167449951\n",
            "epoch 449 - erroD 1.201246738433838 - erroG 1.0286773443222046\n",
            "epoch 450 - erroD 1.219087839126587 - erroG 1.0538405179977417\n",
            "epoch 451 - erroD 1.4221540689468384 - erroG 1.0416444540023804\n",
            "epoch 452 - erroD 1.382014513015747 - erroG 0.9058058261871338\n",
            "epoch 453 - erroD 1.4421814680099487 - erroG 0.9265229105949402\n",
            "epoch 454 - erroD 1.4193944931030273 - erroG 0.9274827837944031\n",
            "epoch 455 - erroD 1.5488882064819336 - erroG 0.8985588550567627\n",
            "epoch 456 - erroD 1.323742389678955 - erroG 0.9753501415252686\n",
            "epoch 457 - erroD 1.0857042074203491 - erroG 1.336434006690979\n",
            "epoch 458 - erroD 1.15360689163208 - erroG 1.2642022371292114\n",
            "epoch 459 - erroD 1.2652829885482788 - erroG 1.037031650543213\n",
            "epoch 460 - erroD 1.4455857276916504 - erroG 0.9213646054267883\n",
            "epoch 461 - erroD 1.2833213806152344 - erroG 0.9300620555877686\n",
            "epoch 462 - erroD 1.4901201725006104 - erroG 1.1935703754425049\n",
            "epoch 463 - erroD 1.2287230491638184 - erroG 0.954581081867218\n",
            "epoch 464 - erroD 1.2589555978775024 - erroG 1.004945993423462\n",
            "epoch 465 - erroD 1.312036395072937 - erroG 0.9441511034965515\n",
            "epoch 466 - erroD 1.292133092880249 - erroG 1.0054224729537964\n",
            "epoch 467 - erroD 1.4331010580062866 - erroG 0.8554649949073792\n",
            "epoch 468 - erroD 1.2644076347351074 - erroG 1.2437629699707031\n",
            "epoch 469 - erroD 1.2141327857971191 - erroG 1.0731629133224487\n",
            "epoch 470 - erroD 1.4028587341308594 - erroG 0.9313188195228577\n",
            "epoch 471 - erroD 1.3203821182250977 - erroG 0.9686988592147827\n",
            "epoch 472 - erroD 1.2925560474395752 - erroG 0.9734973311424255\n",
            "epoch 473 - erroD 1.2174623012542725 - erroG 1.1699327230453491\n",
            "epoch 474 - erroD 1.865922212600708 - erroG 0.9621502757072449\n",
            "epoch 475 - erroD 1.2218005657196045 - erroG 1.0573670864105225\n",
            "epoch 476 - erroD 1.160884141921997 - erroG 1.1059637069702148\n",
            "epoch 477 - erroD 1.2232773303985596 - erroG 1.1316065788269043\n",
            "epoch 478 - erroD 1.0423599481582642 - erroG 1.5051923990249634\n",
            "epoch 479 - erroD 1.3013076782226562 - erroG 0.958713173866272\n",
            "epoch 480 - erroD 1.1748989820480347 - erroG 1.0984917879104614\n",
            "epoch 481 - erroD 1.5170650482177734 - erroG 0.8099124431610107\n",
            "epoch 482 - erroD 1.4104139804840088 - erroG 0.8875593543052673\n",
            "epoch 483 - erroD 1.4201593399047852 - erroG 1.0091700553894043\n",
            "epoch 484 - erroD 1.3964788913726807 - erroG 0.8966425061225891\n",
            "epoch 485 - erroD 1.1682355403900146 - erroG 1.0384103059768677\n",
            "epoch 486 - erroD 1.379223108291626 - erroG 1.0273114442825317\n",
            "epoch 487 - erroD 1.1641724109649658 - erroG 1.1716669797897339\n",
            "epoch 488 - erroD 1.2446321249008179 - erroG 1.0535420179367065\n",
            "epoch 489 - erroD 1.2355631589889526 - erroG 1.1063514947891235\n",
            "epoch 490 - erroD 1.5589344501495361 - erroG 1.8563449382781982\n",
            "epoch 491 - erroD 1.2540338039398193 - erroG 1.012397050857544\n",
            "epoch 492 - erroD 1.338714838027954 - erroG 0.9300968647003174\n",
            "epoch 493 - erroD 1.1088528633117676 - erroG 1.1119577884674072\n",
            "epoch 494 - erroD 1.116607904434204 - erroG 1.2854759693145752\n",
            "epoch 495 - erroD 1.2121342420578003 - erroG 1.1219542026519775\n",
            "epoch 496 - erroD 1.2598251104354858 - erroG 1.2520352602005005\n",
            "epoch 497 - erroD 1.275132656097412 - erroG 0.971922755241394\n",
            "epoch 498 - erroD 1.2281354665756226 - erroG 1.0976207256317139\n",
            "epoch 499 - erroD 1.219140887260437 - erroG 0.9879932999610901\n"
          ],
          "name": "stdout"
        }
      ]
    },
    {
      "cell_type": "code",
      "metadata": {
        "id": "rQSCF-Ih7kQD",
        "colab_type": "code",
        "colab": {
          "base_uri": "https://localhost:8080/",
          "height": 282
        },
        "outputId": "c09a4f25-556c-4e6b-f6d7-0f67bf0c97a4"
      },
      "source": [
        "plt.imshow(amostras_teste[0].reshape(28,28))"
      ],
      "execution_count": 216,
      "outputs": [
        {
          "output_type": "execute_result",
          "data": {
            "text/plain": [
              "<matplotlib.image.AxesImage at 0x7f4197cbc278>"
            ]
          },
          "metadata": {
            "tags": []
          },
          "execution_count": 216
        },
        {
          "output_type": "display_data",
          "data": {
            "image/png": "[encoded data removed]",
            "text/plain": [
              "<Figure size 432x288 with 1 Axes>"
            ]
          },
          "metadata": {
            "tags": []
          }
        }
      ]
    },
    {
      "cell_type": "code",
      "metadata": {
        "id": "1IV3GotxVF1E",
        "colab_type": "code",
        "colab": {
          "base_uri": "https://localhost:8080/",
          "height": 282
        },
        "outputId": "ffbb192f-9e10-401a-ccff-1423e7673ad9"
      },
      "source": [
        "plt.imshow(amostras_teste[99].reshape(28,28))"
      ],
      "execution_count": 217,
      "outputs": [
        {
          "output_type": "execute_result",
          "data": {
            "text/plain": [
              "<matplotlib.image.AxesImage at 0x7f4197c8ec50>"
            ]
          },
          "metadata": {
            "tags": []
          },
          "execution_count": 217
        },
        {
          "output_type": "display_data",
          "data": {
            "image/png": "[encoded data removed]",
            "text/plain": [
              "<Figure size 432x288 with 1 Axes>"
            ]
          },
          "metadata": {
            "tags": []
          }
        }
      ]
    },
    {
      "cell_type": "code",
      "metadata": {
        "id": "_3ZM9pF0VIKn",
        "colab_type": "code",
        "colab": {
          "base_uri": "https://localhost:8080/",
          "height": 282
        },
        "outputId": "c03661b7-bc25-410c-c6b0-35c0c02333af"
      },
      "source": [
        "plt.imshow(amostras_teste[199].reshape(28,28))"
      ],
      "execution_count": 218,
      "outputs": [
        {
          "output_type": "execute_result",
          "data": {
            "text/plain": [
              "<matplotlib.image.AxesImage at 0x7f4197be5cf8>"
            ]
          },
          "metadata": {
            "tags": []
          },
          "execution_count": 218
        },
        {
          "output_type": "display_data",
          "data": {
            "image/png": "[encoded data removed]",
            "text/plain": [
              "<Figure size 432x288 with 1 Axes>"
            ]
          },
          "metadata": {
            "tags": []
          }
        }
      ]
    },
    {
      "cell_type": "code",
      "metadata": {
        "id": "cTs2uYeaVLYQ",
        "colab_type": "code",
        "colab": {
          "base_uri": "https://localhost:8080/",
          "height": 282
        },
        "outputId": "ea231840-48f3-42f3-a908-7c0fe69a79a6"
      },
      "source": [
        "plt.imshow(amostras_teste[299].reshape(28,28))"
      ],
      "execution_count": 219,
      "outputs": [
        {
          "output_type": "execute_result",
          "data": {
            "text/plain": [
              "<matplotlib.image.AxesImage at 0x7f4197bc0da0>"
            ]
          },
          "metadata": {
            "tags": []
          },
          "execution_count": 219
        },
        {
          "output_type": "display_data",
          "data": {
            "image/png": "[encoded data removed]",
            "text/plain": [
              "<Figure size 432x288 with 1 Axes>"
            ]
          },
          "metadata": {
            "tags": []
          }
        }
      ]
    },
    {
      "cell_type": "code",
      "metadata": {
        "id": "kze-bfDnVQU4",
        "colab_type": "code",
        "colab": {
          "base_uri": "https://localhost:8080/",
          "height": 282
        },
        "outputId": "c84851e5-a437-4bb1-8783-b04a0fb82ac4"
      },
      "source": [
        "plt.imshow(amostras_teste[399].reshape(28,28))"
      ],
      "execution_count": 220,
      "outputs": [
        {
          "output_type": "execute_result",
          "data": {
            "text/plain": [
              "<matplotlib.image.AxesImage at 0x7f4197b17e48>"
            ]
          },
          "metadata": {
            "tags": []
          },
          "execution_count": 220
        },
        {
          "output_type": "display_data",
          "data": {
            "image/png": "[encoded data removed]",
            "text/plain": [
              "<Figure size 432x288 with 1 Axes>"
            ]
          },
          "metadata": {
            "tags": []
          }
        }
      ]
    },
    {
      "cell_type": "code",
      "metadata": {
        "id": "1bgnP3tgVTaf",
        "colab_type": "code",
        "colab": {
          "base_uri": "https://localhost:8080/",
          "height": 282
        },
        "outputId": "601a6fb8-c844-4348-8026-5a130414de85"
      },
      "source": [
        "plt.imshow(amostras_teste[499].reshape(28,28))"
      ],
      "execution_count": 228,
      "outputs": [
        {
          "output_type": "execute_result",
          "data": {
            "text/plain": [
              "<matplotlib.image.AxesImage at 0x7f419787b400>"
            ]
          },
          "metadata": {
            "tags": []
          },
          "execution_count": 228
        },
        {
          "output_type": "display_data",
          "data": {
            "image/png": "[encoded data removed]",
            "text/plain": [
              "<Figure size 432x288 with 1 Axes>"
            ]
          },
          "metadata": {
            "tags": []
          }
        }
      ]
    }
  ]
}