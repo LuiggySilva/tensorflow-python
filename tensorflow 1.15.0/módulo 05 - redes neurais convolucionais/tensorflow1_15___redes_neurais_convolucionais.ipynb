{
  "nbformat": 4,
  "nbformat_minor": 0,
  "metadata": {
    "colab": {
      "name": "tensorflow1_15___redes_neurais_convolucionais.ipynb",
      "provenance": []
    },
    "kernelspec": {
      "name": "python3",
      "display_name": "Python 3"
    }
  },
  "cells": [
    {
      "cell_type": "code",
      "metadata": {
        "id": "Y3XLZizAp1NU",
        "colab_type": "code",
        "colab": {}
      },
      "source": [
        "from tensorflow.examples.tutorials.mnist import input_data\n",
        "import tensorflow as tf\n",
        "import matplotlib.pyplot as plt\n",
        "import numpy as np\n",
        "from random import randint"
      ],
      "execution_count": 0,
      "outputs": []
    },
    {
      "cell_type": "markdown",
      "metadata": {
        "id": "LELPQL5jqJ1g",
        "colab_type": "text"
      },
      "source": [
        "> # **Aula 022** - Redes convolucionais com estimators - **Tensorflow: Redes Neurais Convolucionais**"
      ]
    },
    {
      "cell_type": "code",
      "metadata": {
        "id": "KhXYjeYuqd_m",
        "colab_type": "code",
        "colab": {
          "base_uri": "https://localhost:8080/",
          "height": 86
        },
        "outputId": "44a53648-cd1a-4212-f032-abb044cd1751"
      },
      "source": [
        "mnist = input_data.read_data_sets('mnist/', one_hot=False)\n",
        "\n",
        "x_training = mnist.train.images\n",
        "y_training = mnist.train.labels\n",
        "x_test = mnist.test.images\n",
        "y_test = mnist.test.labels"
      ],
      "execution_count": 128,
      "outputs": [
        {
          "output_type": "stream",
          "text": [
            "Extracting mnist/train-images-idx3-ubyte.gz\n",
            "Extracting mnist/train-labels-idx1-ubyte.gz\n",
            "Extracting mnist/t10k-images-idx3-ubyte.gz\n",
            "Extracting mnist/t10k-labels-idx1-ubyte.gz\n"
          ],
          "name": "stdout"
        }
      ]
    },
    {
      "cell_type": "code",
      "metadata": {
        "id": "bBCI8fSNwNPw",
        "colab_type": "code",
        "colab": {}
      },
      "source": [
        "y_training = np.asanyarray(y_training, dtype= np.int32)\n",
        "y_test = np.asanyarray(y_test, dtype= np.int32)"
      ],
      "execution_count": 0,
      "outputs": []
    },
    {
      "cell_type": "code",
      "metadata": {
        "id": "tjSom3oZm7GY",
        "colab_type": "code",
        "outputId": "be0a17fa-941b-4ea9-feb3-c151e9663d23",
        "colab": {
          "base_uri": "https://localhost:8080/",
          "height": 306
        }
      },
      "source": [
        "img_index = randint(0, 50000)\n",
        "plt.imshow(x_training[img_index].reshape(28,28), cmap='gray')\n",
        "plt.title(f'Classe: {y_training[img_index]}', fontdict={'size':25})"
      ],
      "execution_count": 130,
      "outputs": [
        {
          "output_type": "execute_result",
          "data": {
            "text/plain": [
              "Text(0.5, 1.0, 'Classe: 2')"
            ]
          },
          "metadata": {
            "tags": []
          },
          "execution_count": 130
        },
        {
          "output_type": "display_data",
          "data": {
            "image/png": "[encoded data removed]",
            "text/plain": [
              "<Figure size 432x288 with 1 Axes>"
            ]
          },
          "metadata": {
            "tags": []
          }
        }
      ]
    },
    {
      "cell_type": "code",
      "metadata": {
        "id": "Opijmk9oj8xO",
        "colab_type": "code",
        "colab": {}
      },
      "source": [
        "# features = x_training | labels = y_training | variáveis obrigatórias (escritas dessa mesma forma)\n",
        "def create_network(features, labels, mode):\n",
        "  # features['X'] = nome em formato de dicionario para poder referenciar as caracteristicas depois.\n",
        "  # o segundo parametro = [batch_size, altura_img, largura_img, canais] # batch_size = -1 -> variavel | canais = 1 -> imagens em preto e branco\n",
        "  entrada = tf.reshape(features['X'], [-1, 28, 28, 1])\n",
        "\n",
        "  # ----- feature maps -----\n",
        "  # filters = quantidade de mapas de caracteristicas (feature maps)\n",
        "  # kernel_size = tamanho do detector de caracteristicas (feature detector)\n",
        "  # activation = funçao de ativação\n",
        "  # padding = 'same' | preserva a altura e largura da imagem durante as transformações\n",
        "  # recebe [batch_size, 28, 28, 1] | retorna [batch_size, 28, 28, 32] 32 imagens com diferentes filtros (32 FILTROS NÂO CANAIS)\n",
        "  convolucao_1 = tf.layers.conv2d(inputs= entrada, filters= 32, kernel_size=[5,5], activation= tf.nn.relu,\n",
        "                                  padding= 'same')\n",
        "  \n",
        "  # ----- max pooling -----\n",
        "  # pool_size = tamanho do pooling\n",
        "  # strides = quantidade de pixels incrementados em cada iteração do pooling\n",
        "  # recebe [batch_size, 28, 28, 32] | retorna [batch_size, 14, 14, 32]\n",
        "  pooling_1 = tf.layers.max_pooling2d(inputs= convolucao_1, pool_size= [2,2], strides= 2)\n",
        "\n",
        "  # recebe [batch_size, 14, 14, 32] | retorna [batch_size, 14, 14, 64]\n",
        "  convolucao_2 = tf.layers.conv2d(inputs= pooling_1, filters= 64, kernel_size= [5,5], activation= tf.nn.relu,\n",
        "                                  padding= 'same')\n",
        "  \n",
        "  # recebe [batch_size, 14, 14, 64] | retorna [batch_size, 7, 7, 64]\n",
        "  pooling_2 = tf.layers.max_pooling2d(inputs= convolucao_2, pool_size= [2,2], strides= 2)\n",
        "\n",
        "  # ----- flatterning -----\n",
        "  # entrada = [batch_size, 7, 7, 64] | retorna [batch_size, 3136]\n",
        "  flatteining = tf.reshape(pooling_2, [-1, 7*7*64])\n",
        "\n",
        "  # ----- dense neural network -----77\n",
        "  # entrada -> 3136\n",
        "  # camada oculta -> uma com 1024 neuronios\n",
        "  # saida -> 10 neuronios (probabilidade para cada uma das dez classes)\n",
        "  densa = tf.layers.dense(inputs= flatteining, units= 1024, activation= tf.nn.relu)\n",
        "  # dropout (zera uma parte das entradas para evitar overfitting)\n",
        "  dropout = tf.layers.dropout(inputs= densa, rate= 0.2, training= mode == tf.estimator.ModeKeys.TRAIN)\n",
        "\n",
        "  # ----- output -----\n",
        "  # recebe [batch_size, 1024]\n",
        "  # retorna [batch_size, 10]\n",
        "  output = tf.layers.dense(inputs= dropout, units= 10)\n",
        "  previsoes = tf.argmax(output, axis= 1)\n",
        "\n",
        "  if(mode == tf.estimator.ModeKeys.PREDICT):\n",
        "    return tf.estimator.EstimatorSpec(mode= mode, predictions= previsoes)\n",
        "\n",
        "  # one_hot = True -> tf.nn.softmax_cross_entropy_with_logits_v2\n",
        "  # one_hot = False -> tf.losses.sparse_softmax_cross_entropy | melhor para grandes quantidades de classes \n",
        "  erro = tf.losses.sparse_softmax_cross_entropy(labels= labels, logits= output)\n",
        "\n",
        "\n",
        "\n",
        "  if(mode == tf.estimator.ModeKeys.TRAIN):\n",
        "    otimizador = tf.train.AdamOptimizer(learning_rate= 0.001)\n",
        "    treinamento = otimizador.minimize(erro, global_step= tf.train.get_global_step())\n",
        "    return tf.estimator.EstimatorSpec(mode= mode, loss= erro, train_op = treinamento)\n",
        "  \n",
        "  if(mode == tf.estimator.ModeKeys.EVAL):\n",
        "    eval_metric = {'accurary': tf.metrics.accuracy(labels= labels, predictions= previsoes)}\n",
        "    return tf.estimator.EstimatorSpec(mode= mode, loss= erro, eval_metric_ops= eval_metric)"
      ],
      "execution_count": 0,
      "outputs": []
    },
    {
      "cell_type": "code",
      "metadata": {
        "id": "SACE8J-KYfgA",
        "colab_type": "code",
        "colab": {
          "base_uri": "https://localhost:8080/",
          "height": 193
        },
        "outputId": "ec2617fe-8567-4157-8cbe-8d8ef8450bb4"
      },
      "source": [
        "classificator = tf.estimator.Estimator(model_fn= create_network)"
      ],
      "execution_count": 132,
      "outputs": [
        {
          "output_type": "stream",
          "text": [
            "INFO:tensorflow:Using default config.\n",
            "WARNING:tensorflow:Using temporary folder as model directory: /tmp/tmpygcsno7g\n",
            "INFO:tensorflow:Using config: {'_model_dir': '/tmp/tmpygcsno7g', '_tf_random_seed': None, '_save_summary_steps': 100, '_save_checkpoints_steps': None, '_save_checkpoints_secs': 600, '_session_config': allow_soft_placement: true\n",
            "graph_options {\n",
            "  rewrite_options {\n",
            "    meta_optimizer_iterations: ONE\n",
            "  }\n",
            "}\n",
            ", '_keep_checkpoint_max': 5, '_keep_checkpoint_every_n_hours': 10000, '_log_step_count_steps': 100, '_train_distribute': None, '_device_fn': None, '_protocol': None, '_eval_distribute': None, '_experimental_distribute': None, '_experimental_max_worker_delay_secs': None, '_session_creation_timeout_secs': 7200, '_service': None, '_cluster_spec': <tensorflow.python.training.server_lib.ClusterSpec object at 0x7ff329d9d8d0>, '_task_type': 'worker', '_task_id': 0, '_global_id_in_cluster': 0, '_master': '', '_evaluation_master': '', '_is_chief': True, '_num_ps_replicas': 0, '_num_worker_replicas': 1}\n"
          ],
          "name": "stdout"
        }
      ]
    },
    {
      "cell_type": "code",
      "metadata": {
        "id": "vmqtHm5Ul6eG",
        "colab_type": "code",
        "colab": {
          "base_uri": "https://localhost:8080/",
          "height": 242
        },
        "outputId": "25d6c9dc-188e-42ae-a635-a2a938350752"
      },
      "source": [
        "training_function = tf.estimator.inputs.numpy_input_fn(x= {'X': x_training}, y= y_training,\n",
        "                                                       batch_size = 128, num_epochs= None, shuffle= True)\n",
        "\n",
        "classificator.train(input_fn= training_function, steps= 200)"
      ],
      "execution_count": 133,
      "outputs": [
        {
          "output_type": "stream",
          "text": [
            "INFO:tensorflow:Calling model_fn.\n",
            "INFO:tensorflow:Done calling model_fn.\n",
            "INFO:tensorflow:Create CheckpointSaverHook.\n",
            "INFO:tensorflow:Graph was finalized.\n",
            "INFO:tensorflow:Running local_init_op.\n",
            "INFO:tensorflow:Done running local_init_op.\n",
            "INFO:tensorflow:Saving checkpoints for 0 into /tmp/tmpygcsno7g/model.ckpt.\n",
            "INFO:tensorflow:loss = 2.3172708, step = 1\n",
            "INFO:tensorflow:global_step/sec: 2.70654\n",
            "INFO:tensorflow:loss = 0.13478446, step = 101 (36.949 sec)\n",
            "INFO:tensorflow:Saving checkpoints for 200 into /tmp/tmpygcsno7g/model.ckpt.\n",
            "INFO:tensorflow:Loss for final step: 0.06325874.\n"
          ],
          "name": "stdout"
        },
        {
          "output_type": "execute_result",
          "data": {
            "text/plain": [
              "<tensorflow_estimator.python.estimator.estimator.Estimator at 0x7ff329d9d6d8>"
            ]
          },
          "metadata": {
            "tags": []
          },
          "execution_count": 133
        }
      ]
    },
    {
      "cell_type": "code",
      "metadata": {
        "id": "SmFFdsKExje2",
        "colab_type": "code",
        "colab": {
          "base_uri": "https://localhost:8080/",
          "height": 207
        },
        "outputId": "27d4f456-97ab-415a-8ea9-d8d4a704d18b"
      },
      "source": [
        "# tests\n",
        "test_function = tf.estimator.inputs.numpy_input_fn(x= {'X': x_test}, y= y_test, num_epochs= 1, shuffle= False)\n",
        "results = classificator.evaluate(input_fn= test_function)\n",
        "results"
      ],
      "execution_count": 134,
      "outputs": [
        {
          "output_type": "stream",
          "text": [
            "INFO:tensorflow:Calling model_fn.\n",
            "INFO:tensorflow:Done calling model_fn.\n",
            "INFO:tensorflow:Starting evaluation at 2020-02-19T20:35:19Z\n",
            "INFO:tensorflow:Graph was finalized.\n",
            "INFO:tensorflow:Restoring parameters from /tmp/tmpygcsno7g/model.ckpt-200\n",
            "INFO:tensorflow:Running local_init_op.\n",
            "INFO:tensorflow:Done running local_init_op.\n",
            "INFO:tensorflow:Finished evaluation at 2020-02-19-20:35:26\n",
            "INFO:tensorflow:Saving dict for global step 200: accurary = 0.9791, global_step = 200, loss = 0.061276715\n",
            "INFO:tensorflow:Saving 'checkpoint_path' summary for global step 200: /tmp/tmpygcsno7g/model.ckpt-200\n"
          ],
          "name": "stdout"
        },
        {
          "output_type": "execute_result",
          "data": {
            "text/plain": [
              "{'accurary': 0.9791, 'global_step': 200, 'loss': 0.061276715}"
            ]
          },
          "metadata": {
            "tags": []
          },
          "execution_count": 134
        }
      ]
    },
    {
      "cell_type": "code",
      "metadata": {
        "id": "PGnNSdOZ_jpJ",
        "colab_type": "code",
        "colab": {
          "base_uri": "https://localhost:8080/",
          "height": 410
        },
        "outputId": "9af0a346-e811-4bca-f750-1c24ad5957c6"
      },
      "source": [
        "# predicts\n",
        "x_img_test = x_test[randint(0, x_test.shape[0])]\n",
        "x_img_test = x_img_test.reshape(1,-1)\n",
        "\n",
        "predict_function = tf.estimator.inputs.numpy_input_fn(x= {'X': x_img_test}, shuffle= False)\n",
        "predict = list(classificator.predict(input_fn= predict_function))\n",
        "\n",
        "plt.imshow(x_img_test.reshape(28,28), cmap='gray')\n",
        "plt.title(f'Classe prevista: {predict[0]}', fontdict={'fontsize':25})"
      ],
      "execution_count": 153,
      "outputs": [
        {
          "output_type": "stream",
          "text": [
            "INFO:tensorflow:Calling model_fn.\n",
            "INFO:tensorflow:Done calling model_fn.\n",
            "INFO:tensorflow:Graph was finalized.\n",
            "INFO:tensorflow:Restoring parameters from /tmp/tmpygcsno7g/model.ckpt-200\n",
            "INFO:tensorflow:Running local_init_op.\n",
            "INFO:tensorflow:Done running local_init_op.\n"
          ],
          "name": "stdout"
        },
        {
          "output_type": "execute_result",
          "data": {
            "text/plain": [
              "Text(0.5, 1.0, 'Classe prevista: 4')"
            ]
          },
          "metadata": {
            "tags": []
          },
          "execution_count": 153
        },
        {
          "output_type": "display_data",
          "data": {
            "image/png": "[encoded data removed]",
            "text/plain": [
              "<Figure size 432x288 with 1 Axes>"
            ]
          },
          "metadata": {
            "tags": []
          }
        }
      ]
    }
  ]
}