{
  "nbformat": 4,
  "nbformat_minor": 0,
  "metadata": {
    "colab": {
      "name": "tensorflow1.15___sintaxe_básica.ipynb",
      "provenance": [],
      "collapsed_sections": []
    },
    "kernelspec": {
      "name": "python3",
      "display_name": "Python 3"
    }
  },
  "cells": [
    {
      "cell_type": "code",
      "metadata": {
        "id": "gcuVwPsEYAE9",
        "colab_type": "code",
        "outputId": "2c78e6d7-9d58-4740-c7ff-ce2b226e6475",
        "colab": {
          "base_uri": "https://localhost:8080/",
          "height": 34
        }
      },
      "source": [
        "import tensorflow as tf"
      ],
      "execution_count": 0,
      "outputs": [
        {
          "output_type": "stream",
          "text": [
            "1.15.0\n"
          ],
          "name": "stdout"
        }
      ]
    },
    {
      "cell_type": "markdown",
      "metadata": {
        "id": "P8rO7V5ovKY0",
        "colab_type": "text"
      },
      "source": [
        "> # **Aula 001** - Constantes - **Tensorflow: Sintaxe Básica**"
      ]
    },
    {
      "cell_type": "code",
      "metadata": {
        "id": "i_ATCN2Iaqhu",
        "colab_type": "code",
        "outputId": "c132258c-0a39-4ab7-83a4-9a7923891830",
        "colab": {
          "base_uri": "https://localhost:8080/",
          "height": 155
        }
      },
      "source": [
        "valor1 = tf.constant(1)\n",
        "valor2 = tf.constant(2)\n",
        "print(f'valor1 - {valor1}')\n",
        "print(f'type(valor1) - {type(valor1)}')\n",
        "\n",
        "soma = valor1 + valor2 # Apenas define uma fórmula\n",
        "print(f'soma - {soma}')\n",
        "\n",
        "# Para ver o cálculo dessa fórmula deve-se criar uma sessão\n",
        "# with serve para que após todos comandos do bloco forem realizados ele feche a sessão\n",
        "with tf.Session() as sess: \n",
        "  s = sess.run(soma)\n",
        "  print(f's - {s}', end='\\n\\n')\n",
        "\n",
        "texto1 = tf.constant(' texto 1 ')\n",
        "texto2 = tf.constant(' texto 2 ')\n",
        "print(f'texto1 - {texto1}')\n",
        "print(f'type(texto1) - {type(texto1)}')\n",
        "\n",
        "concatenado = texto1 + texto2\n",
        "\n",
        "with tf.Session() as sess:\n",
        "  c = sess.run(concatenado)\n",
        "  print(f'c - {c}') # b ' texto 1 texto 2 ' o b é de bytes literal "
      ],
      "execution_count": 0,
      "outputs": [
        {
          "output_type": "stream",
          "text": [
            "valor1 - Tensor(\"Const:0\", shape=(), dtype=int32)\n",
            "type(valor1) - <class 'tensorflow.python.framework.ops.Tensor'>\n",
            "soma - Tensor(\"add:0\", shape=(), dtype=int32)\n",
            "s - 3\n",
            "\n",
            "texto1 - Tensor(\"Const_2:0\", shape=(), dtype=string)\n",
            "type(texto1) - <class 'tensorflow.python.framework.ops.Tensor'>\n",
            "c - b' texto 1  texto 2 '\n"
          ],
          "name": "stdout"
        }
      ]
    },
    {
      "cell_type": "markdown",
      "metadata": {
        "id": "jvie-9FBvYOq",
        "colab_type": "text"
      },
      "source": [
        "> # **Aula 002** - Variáveis 01 - **Tensorflow: Sintaxe Básica**"
      ]
    },
    {
      "cell_type": "code",
      "metadata": {
        "id": "1aubhFpIelgc",
        "colab_type": "code",
        "outputId": "e24361f4-ebac-403e-8e62-28e52c79090f",
        "colab": {
          "base_uri": "https://localhost:8080/",
          "height": 103
        }
      },
      "source": [
        "num1 = tf.constant(15, name='num1')\n",
        "num2 = tf.constant(35, name='num2')\n",
        "print(f'num1 - {num1}')\n",
        "print(f'type(num1) - {type(num1)}')\n",
        "\n",
        "soma = tf.Variable(num1 + num2, name='soma')\n",
        "print(f'soma - {soma}')\n",
        "print(f'type(soma) - {type(soma)}')\n",
        "\n",
        "# Temos que iniciar as váriaveis do tensorflow para poder realizar operações \n",
        "init = tf.global_variables_initializer()\n",
        "\n",
        "with tf.Session() as sess:\n",
        "  sess.run(init) # Iniciando as váriaveis do tensorflow\n",
        "  print(f'soma - {sess.run(soma)}')"
      ],
      "execution_count": 0,
      "outputs": [
        {
          "output_type": "stream",
          "text": [
            "num1 - Tensor(\"num1_1:0\", shape=(), dtype=int32)\n",
            "type(num1) - <class 'tensorflow.python.framework.ops.Tensor'>\n",
            "soma - <tf.Variable 'soma:0' shape=() dtype=int32_ref>\n",
            "type(soma) - <class 'tensorflow.python.ops.variables.RefVariable'>\n",
            "soma - 50\n"
          ],
          "name": "stdout"
        }
      ]
    },
    {
      "cell_type": "markdown",
      "metadata": {
        "id": "skcB8nT3vrl1",
        "colab_type": "text"
      },
      "source": [
        "> # **Aula 003** - Variáveis 02 - **Tensorflow: Sintaxe Básica**"
      ]
    },
    {
      "cell_type": "code",
      "metadata": {
        "id": "YUAuwcX3krjH",
        "colab_type": "code",
        "outputId": "721bc039-c4d1-49fd-d10c-2960eade43a2",
        "colab": {
          "base_uri": "https://localhost:8080/",
          "height": 138
        }
      },
      "source": [
        "vetor = tf.constant([5, 10, 15], name='vetor')\n",
        "print(f'vetor - {vetor}')\n",
        "\n",
        "soma = tf.Variable(vetor + 5, name='soma')\n",
        "init1 = tf.global_variables_initializer()\n",
        "\n",
        "with tf.Session() as sess:\n",
        "  sess.run(init1)\n",
        "  print(f'soma - {sess.run(soma)}')\n",
        "\n",
        "valor = tf.Variable(0, name='valor')\n",
        "init2 = tf.global_variables_initializer()\n",
        "\n",
        "with tf.Session() as sess:\n",
        "  sess.run(init2)\n",
        "  for i in range(5):\n",
        "    valor = valor + 1\n",
        "    print(sess.run(valor))"
      ],
      "execution_count": 0,
      "outputs": [
        {
          "output_type": "stream",
          "text": [
            "vetor - Tensor(\"vetor:0\", shape=(3,), dtype=int32)\n",
            "soma - [10 15 20]\n",
            "1\n",
            "2\n",
            "3\n",
            "4\n",
            "5\n"
          ],
          "name": "stdout"
        }
      ]
    },
    {
      "cell_type": "markdown",
      "metadata": {
        "id": "F0uWSTShvy0B",
        "colab_type": "text"
      },
      "source": [
        "> # **Aula 004** - Adição de vetores e matrizes - **Tensorflow: Sintaxe Básica**"
      ]
    },
    {
      "cell_type": "code",
      "metadata": {
        "id": "pYP3c-slmzgr",
        "colab_type": "code",
        "outputId": "00d7a419-5b4d-4ac4-cd4a-7b943a055de6",
        "colab": {
          "base_uri": "https://localhost:8080/",
          "height": 207
        }
      },
      "source": [
        "vetor1 = tf.constant([9, 8, 7], name='vetor1')\n",
        "vetor2 = tf.constant([1, 2, 3], name='vetor2')\n",
        "\n",
        "# As dimensões dos vetores devem ser iguais (quantidade de elementos)\n",
        "soma1 = vetor1 + vetor2\n",
        "\n",
        "with tf.Session() as sess:\n",
        "  print(f'soma1 - {sess.run(soma1)}')\n",
        "\n",
        "# Com matrizes ...\n",
        "mat1 = tf.constant([[1, 2, 3], [4, 5, 6]], name='mat1')\n",
        "mat2 = tf.constant([[1, 2, 3], [4, 5, 6]], name='mat2')\n",
        "print(f'mat1 - {mat1}')\n",
        "print(f'mat1.shape - {mat1.shape}', end='\\n\\n')\n",
        "\n",
        "soma2 = tf.add(mat1, mat2)\n",
        "\n",
        "with tf.Session() as sess:\n",
        "  print('soma2')\n",
        "  print(sess.run(soma2))\n",
        "\n",
        "# Mesmo se tiver o número de colunas diferentes, se tiver a mesma quantidade de linhas\n",
        "# a operação ainda é possivel\n",
        "mat3 = tf.constant([[1, 3, 5], [2, 4, 6]], name='mat3')\n",
        "mat4 = tf.constant([[1],[2]], name='mat4')\n",
        "\n",
        "soma3 = tf.add(mat3, mat4)\n",
        "\n",
        "with tf.Session() as sess:\n",
        "  print('\\n' + 'soma3')\n",
        "  print(sess.run(soma3))"
      ],
      "execution_count": 0,
      "outputs": [
        {
          "output_type": "stream",
          "text": [
            "soma1 - [10 10 10]\n",
            "mat1 - Tensor(\"mat1:0\", shape=(2, 3), dtype=int32)\n",
            "mat1.shape - (2, 3)\n",
            "\n",
            "soma2\n",
            "[[ 2  4  6]\n",
            " [ 8 10 12]]\n",
            "\n",
            "soma3\n",
            "[[2 4 6]\n",
            " [4 6 8]]\n"
          ],
          "name": "stdout"
        }
      ]
    },
    {
      "cell_type": "markdown",
      "metadata": {
        "id": "IkwBOcmmwBMT",
        "colab_type": "text"
      },
      "source": [
        "> # **Aula 005** - Multiplicação de matrizes - **Tensorflow: Sintaxe Básica**"
      ]
    },
    {
      "cell_type": "code",
      "metadata": {
        "id": "gyISJIm3rGHU",
        "colab_type": "code",
        "outputId": "165ca859-fb44-4fd5-e7a4-9d18984ef147",
        "colab": {
          "base_uri": "https://localhost:8080/",
          "height": 242
        }
      },
      "source": [
        "mat1 = tf.constant([[1, 2], [3, 4]], name='mat1')\n",
        "mat2 = tf.constant([[-1, 3],[4, 2]], name='mat2')\n",
        "mat3 = tf.constant([[1, 2, 3], [4, 5, 6]], name='mat3')\n",
        "\n",
        "# multi1 = mat1 * mat2 não realiza a multiplicação de matrizes da álgebra linear\n",
        "mult1 = tf.matmul(mat1, mat2)\n",
        "mult2 = tf.matmul(mat2, mat1)\n",
        "mult3= tf.matmul(mat1, mat3)\n",
        "\n",
        "with tf.Session() as sess:\n",
        "  print('mult1')\n",
        "  print(sess.run(mult1))\n",
        "  print('\\n')\n",
        "  print('mult2')\n",
        "  print(sess.run(mult2))\n",
        "  print('\\n')\n",
        "  print('mult3')\n",
        "  print(sess.run(mult3))"
      ],
      "execution_count": 0,
      "outputs": [
        {
          "output_type": "stream",
          "text": [
            "mult1\n",
            "[[ 7  7]\n",
            " [13 17]]\n",
            "\n",
            "\n",
            "mult2\n",
            "[[ 8 10]\n",
            " [10 16]]\n",
            "\n",
            "\n",
            "mult3\n",
            "[[ 9 12 15]\n",
            " [19 26 33]]\n"
          ],
          "name": "stdout"
        }
      ]
    },
    {
      "cell_type": "markdown",
      "metadata": {
        "id": "OSJ9hsfIwPxW",
        "colab_type": "text"
      },
      "source": [
        "> # **Aula 006** - Produto escalar - **Tensorflow: Sintaxe Básica**"
      ]
    },
    {
      "cell_type": "code",
      "metadata": {
        "id": "Lf_FWeiCt7n_",
        "colab_type": "code",
        "outputId": "93869fe1-0bd7-454b-b4ba-73270cc93bba",
        "colab": {
          "base_uri": "https://localhost:8080/",
          "height": 121
        }
      },
      "source": [
        "# -- simulando a estrutura do exemplo 1 --\n",
        "\n",
        "vetor1 = tf.constant([-1.0, 7.0, 5.0], name='entrada')\n",
        "vetor2 = tf.constant([0.8, 0.1, 0.0], name='pesos')\n",
        "\n",
        "multiplicacao = tf.multiply(vetor1, vetor2)\n",
        "\n",
        "soma = tf.reduce_sum(multiplicacao)\n",
        "\n",
        "with tf.Session() as sess:\n",
        "  print('multiplicacao')\n",
        "  print(sess.run(multiplicacao))\n",
        "  print('\\n')\n",
        "  print('soma')\n",
        "  print(sess.run(soma))"
      ],
      "execution_count": 0,
      "outputs": [
        {
          "output_type": "stream",
          "text": [
            "multiplicacao\n",
            "[-0.8  0.7  0. ]\n",
            "\n",
            "\n",
            "soma\n",
            "-0.100000024\n"
          ],
          "name": "stdout"
        }
      ]
    },
    {
      "cell_type": "markdown",
      "metadata": {
        "id": "vF86wi-OwdF8",
        "colab_type": "text"
      },
      "source": [
        "> # **Aula 007** - Place holders - **Tensorflow: Sintaxe** Básica\n"
      ]
    },
    {
      "cell_type": "code",
      "metadata": {
        "id": "4l8JlASFw889",
        "colab_type": "code",
        "outputId": "797cbd1b-2dd8-4df2-8f74-8bd2b297dc60",
        "colab": {
          "base_uri": "https://localhost:8080/",
          "height": 207
        }
      },
      "source": [
        "# primeiro parametro é o tipo de dado que ele vai receber e o segundo a dimenção do dado\n",
        "ph1 = tf.placeholder('float', None)\n",
        "# dimenção de matriz com número de linhas variável e com 5 colunas\n",
        "ph2 = tf.placeholder('float', [None, 5])\n",
        "ph3 = tf.placeholder('float', 1)\n",
        "\n",
        "operacao1 = ph1 + 2\n",
        "operacao2 = ph2 * 5\n",
        "operacao3 = ph3 - 4\n",
        "\n",
        "with tf.Session() as sess:\n",
        "  # feed_dict é um dicionario com os dados para alimentar o placeholder\n",
        "  resultado1 = sess.run(operacao1, feed_dict={ph1: [1, 2, 3]}) \n",
        "  print('resultado1')\n",
        "  print(resultado1)\n",
        "  print('\\n')\n",
        "  print('resultado2')\n",
        "  dados = [[1,2,3,4,5],[1,2,3,4,5]]\n",
        "  resultado2 = sess.run(operacao2, feed_dict={ph2: dados})\n",
        "  print(resultado2)\n",
        "  print('\\n')\n",
        "  print('resultado3')\n",
        "  resultado3 = sess.run(operacao3, feed_dict={ph3: [8]})\n",
        "  print(resultado3)"
      ],
      "execution_count": 0,
      "outputs": [
        {
          "output_type": "stream",
          "text": [
            "resultado1\n",
            "[3. 4. 5.]\n",
            "\n",
            "\n",
            "resultado2\n",
            "[[ 5. 10. 15. 20. 25.]\n",
            " [ 5. 10. 15. 20. 25.]]\n",
            "\n",
            "\n",
            "resultado3\n",
            "[4.]\n"
          ],
          "name": "stdout"
        }
      ]
    },
    {
      "cell_type": "markdown",
      "metadata": {
        "id": "JvQggu-Zwn8Z",
        "colab_type": "text"
      },
      "source": [
        "> # **Aula 008** - Grafos e visualização com TensorBoard - **Tensorflow: Sintaxe Básica**\n"
      ]
    },
    {
      "cell_type": "code",
      "metadata": {
        "id": "alYzGYvQ1hLs",
        "colab_type": "code",
        "outputId": "9b3d0fa5-465b-48ea-b534-7ce592e52df8",
        "colab": {
          "base_uri": "https://localhost:8080/",
          "height": 34
        }
      },
      "source": [
        "# Removendo ultimos grafos gerados\n",
        "tf.reset_default_graph()\n",
        "\n",
        "num1 = tf.constant(5, name='num1')\n",
        "num2 = tf.constant(5, name='num2')\n",
        "num3 = tf.constant(3, name='num3')\n",
        "\n",
        "with tf.name_scope('Operacoes'):\n",
        "  with tf.name_scope('Escopo_A'):\n",
        "    a = tf.add(num1, num2, name = 'add')\n",
        "  with tf.name_scope('Escopo_B'):\n",
        "    b = tf.multiply(a, num3, name = 'mult1')\n",
        "    c = tf.multiply(b, a, name = 'mult2')\n",
        "\n",
        "with tf.Session() as sess:\n",
        "  writer = tf.summary.FileWriter('output', sess.graph)\n",
        "  print(sess.run(c))\n",
        "  writer.close()\n",
        "\n",
        "# Para visualizar o grafo basta rodar o comando no terminal -> tensorboard --logdir=PATH\n",
        "# onde o PATH é o caminho do arquivo gerado na pasta 'output' (events.output...)"
      ],
      "execution_count": 0,
      "outputs": [
        {
          "output_type": "stream",
          "text": [
            "300\n"
          ],
          "name": "stdout"
        }
      ]
    }
  ]
}