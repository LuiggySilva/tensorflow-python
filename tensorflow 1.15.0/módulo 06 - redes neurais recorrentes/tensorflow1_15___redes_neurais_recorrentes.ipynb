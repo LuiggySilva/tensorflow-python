{
  "nbformat": 4,
  "nbformat_minor": 0,
  "metadata": {
    "colab": {
      "name": "tensorflow1_15___redes_neurais_recorrentes.ipynb",
      "provenance": [],
      "collapsed_sections": []
    },
    "kernelspec": {
      "name": "python3",
      "display_name": "Python 3"
    }
  },
  "cells": [
    {
      "cell_type": "code",
      "metadata": {
        "id": "5ncC9gUY7IdW",
        "colab_type": "code",
        "colab": {}
      },
      "source": [
        "import tensorflow as tf\n",
        "import matplotlib.pyplot as plt\n",
        "import numpy as np\n",
        "import pandas as pd\n",
        "from sklearn.metrics import mean_absolute_error"
      ],
      "execution_count": 0,
      "outputs": []
    },
    {
      "cell_type": "markdown",
      "metadata": {
        "id": "mtuKkEyxBNeD",
        "colab_type": "text"
      },
      "source": [
        "> # **Aula 022** - Série temporal - **Tensorflow: Redes Neurais Recorrentes**\n",
        ">> Exemplo: Preços da bolsa de valores"
      ]
    },
    {
      "cell_type": "code",
      "metadata": {
        "id": "W9z3dFDC7Ru6",
        "colab_type": "code",
        "colab": {
          "base_uri": "https://localhost:8080/",
          "height": 190
        },
        "outputId": "b863230d-4cf8-49ad-9b86-ffc1b8e77768"
      },
      "source": [
        "base = pd.read_csv('petr4.csv')\n",
        "base.head()"
      ],
      "execution_count": 174,
      "outputs": [
        {
          "output_type": "execute_result",
          "data": {
            "text/html": [
              "<div>\n",
              "<style scoped>\n",
              "    .dataframe tbody tr th:only-of-type {\n",
              "        vertical-align: middle;\n",
              "    }\n",
              "\n",
              "    .dataframe tbody tr th {\n",
              "        vertical-align: top;\n",
              "    }\n",
              "\n",
              "    .dataframe thead th {\n",
              "        text-align: right;\n",
              "    }\n",
              "</style>\n",
              "<table border=\"1\" class=\"dataframe\">\n",
              "  <thead>\n",
              "    <tr style=\"text-align: right;\">\n",
              "      <th></th>\n",
              "      <th>Date</th>\n",
              "      <th>Open</th>\n",
              "      <th>High</th>\n",
              "      <th>Low</th>\n",
              "      <th>Close</th>\n",
              "      <th>Adj Close</th>\n",
              "      <th>Volume</th>\n",
              "    </tr>\n",
              "  </thead>\n",
              "  <tbody>\n",
              "    <tr>\n",
              "      <th>0</th>\n",
              "      <td>2013-01-02</td>\n",
              "      <td>19.990000</td>\n",
              "      <td>20.209999</td>\n",
              "      <td>19.690001</td>\n",
              "      <td>19.690001</td>\n",
              "      <td>18.086271</td>\n",
              "      <td>30182600.0</td>\n",
              "    </tr>\n",
              "    <tr>\n",
              "      <th>1</th>\n",
              "      <td>2013-01-03</td>\n",
              "      <td>19.809999</td>\n",
              "      <td>20.400000</td>\n",
              "      <td>19.700001</td>\n",
              "      <td>20.400000</td>\n",
              "      <td>18.738441</td>\n",
              "      <td>30552600.0</td>\n",
              "    </tr>\n",
              "    <tr>\n",
              "      <th>2</th>\n",
              "      <td>2013-01-04</td>\n",
              "      <td>20.330000</td>\n",
              "      <td>20.620001</td>\n",
              "      <td>20.170000</td>\n",
              "      <td>20.430000</td>\n",
              "      <td>18.766001</td>\n",
              "      <td>36141000.0</td>\n",
              "    </tr>\n",
              "    <tr>\n",
              "      <th>3</th>\n",
              "      <td>2013-01-07</td>\n",
              "      <td>20.480000</td>\n",
              "      <td>20.670000</td>\n",
              "      <td>19.950001</td>\n",
              "      <td>20.080000</td>\n",
              "      <td>18.444506</td>\n",
              "      <td>28069600.0</td>\n",
              "    </tr>\n",
              "    <tr>\n",
              "      <th>4</th>\n",
              "      <td>2013-01-08</td>\n",
              "      <td>20.110001</td>\n",
              "      <td>20.230000</td>\n",
              "      <td>19.459999</td>\n",
              "      <td>19.500000</td>\n",
              "      <td>17.911745</td>\n",
              "      <td>29091300.0</td>\n",
              "    </tr>\n",
              "  </tbody>\n",
              "</table>\n",
              "</div>"
            ],
            "text/plain": [
              "         Date       Open       High  ...      Close  Adj Close      Volume\n",
              "0  2013-01-02  19.990000  20.209999  ...  19.690001  18.086271  30182600.0\n",
              "1  2013-01-03  19.809999  20.400000  ...  20.400000  18.738441  30552600.0\n",
              "2  2013-01-04  20.330000  20.620001  ...  20.430000  18.766001  36141000.0\n",
              "3  2013-01-07  20.480000  20.670000  ...  20.080000  18.444506  28069600.0\n",
              "4  2013-01-08  20.110001  20.230000  ...  19.500000  17.911745  29091300.0\n",
              "\n",
              "[5 rows x 7 columns]"
            ]
          },
          "metadata": {
            "tags": []
          },
          "execution_count": 174
        }
      ]
    },
    {
      "cell_type": "code",
      "metadata": {
        "id": "quPnX7CACHca",
        "colab_type": "code",
        "colab": {
          "base_uri": "https://localhost:8080/",
          "height": 33
        },
        "outputId": "dfb27b09-60ac-496a-cb3a-a62b87d0273b"
      },
      "source": [
        "base.shape"
      ],
      "execution_count": 175,
      "outputs": [
        {
          "output_type": "execute_result",
          "data": {
            "text/plain": [
              "(1262, 7)"
            ]
          },
          "metadata": {
            "tags": []
          },
          "execution_count": 175
        }
      ]
    },
    {
      "cell_type": "code",
      "metadata": {
        "id": "QDW0kG7GCLT1",
        "colab_type": "code",
        "colab": {
          "base_uri": "https://localhost:8080/",
          "height": 33
        },
        "outputId": "ea32adcb-9808-467e-e6ce-56d078b802ab"
      },
      "source": [
        "base = base.dropna()\n",
        "base.shape"
      ],
      "execution_count": 176,
      "outputs": [
        {
          "output_type": "execute_result",
          "data": {
            "text/plain": [
              "(1259, 7)"
            ]
          },
          "metadata": {
            "tags": []
          },
          "execution_count": 176
        }
      ]
    },
    {
      "cell_type": "code",
      "metadata": {
        "id": "U4H5qv8NoTJp",
        "colab_type": "code",
        "colab": {
          "base_uri": "https://localhost:8080/",
          "height": 50
        },
        "outputId": "5eff3d42-77b8-4734-9e15-1eb1c24e7f53"
      },
      "source": [
        "base = base.iloc[:, 1].values\n",
        "base"
      ],
      "execution_count": 177,
      "outputs": [
        {
          "output_type": "execute_result",
          "data": {
            "text/plain": [
              "array([19.99    , 19.809999, 20.33    , ..., 18.26    , 18.4     ,\n",
              "       18.42    ])"
            ]
          },
          "metadata": {
            "tags": []
          },
          "execution_count": 177
        }
      ]
    },
    {
      "cell_type": "code",
      "metadata": {
        "id": "LhjG3H_uoit2",
        "colab_type": "code",
        "colab": {
          "base_uri": "https://localhost:8080/",
          "height": 281
        },
        "outputId": "8d7aee30-a8da-4a3f-c49f-bbb26f00f00f"
      },
      "source": [
        "plt.plot(base)"
      ],
      "execution_count": 178,
      "outputs": [
        {
          "output_type": "execute_result",
          "data": {
            "text/plain": [
              "[<matplotlib.lines.Line2D at 0x7ff0e203ba20>]"
            ]
          },
          "metadata": {
            "tags": []
          },
          "execution_count": 178
        },
        {
          "output_type": "display_data",
          "data": {
            "image/png": "[encoded data removed]",
            "text/plain": [
              "<Figure size 432x288 with 1 Axes>"
            ]
          },
          "metadata": {
            "tags": []
          }
        }
      ]
    },
    {
      "cell_type": "code",
      "metadata": {
        "id": "Omk5dZK5ovt2",
        "colab_type": "code",
        "colab": {
          "base_uri": "https://localhost:8080/",
          "height": 50
        },
        "outputId": "d71ba8e9-0ffa-4511-90c0-6d01d1bc6819"
      },
      "source": [
        "periodos = 30\n",
        "previsao_futura = 1\n",
        "\n",
        "X = base[0:(len(base)- len(base) % periodos)]\n",
        "X"
      ],
      "execution_count": 179,
      "outputs": [
        {
          "output_type": "execute_result",
          "data": {
            "text/plain": [
              "array([19.99    , 19.809999, 20.33    , ..., 15.48    , 15.36    ,\n",
              "       15.65    ])"
            ]
          },
          "metadata": {
            "tags": []
          },
          "execution_count": 179
        }
      ]
    },
    {
      "cell_type": "code",
      "metadata": {
        "id": "33SbI_iKprv3",
        "colab_type": "code",
        "colab": {
          "base_uri": "https://localhost:8080/",
          "height": 821
        },
        "outputId": "567ca42d-583a-41b9-e814-308b8f569235"
      },
      "source": [
        "X_batches = X.reshape(-1, periodos, 1)\n",
        "X_batches"
      ],
      "execution_count": 180,
      "outputs": [
        {
          "output_type": "execute_result",
          "data": {
            "text/plain": [
              "array([[[19.99    ],\n",
              "        [19.809999],\n",
              "        [20.33    ],\n",
              "        ...,\n",
              "        [17.950001],\n",
              "        [17.790001],\n",
              "        [17.610001]],\n",
              "\n",
              "       [[17.639999],\n",
              "        [17.91    ],\n",
              "        [18.1     ],\n",
              "        ...,\n",
              "        [18.6     ],\n",
              "        [18.27    ],\n",
              "        [18.27    ]],\n",
              "\n",
              "       [[17.68    ],\n",
              "        [17.950001],\n",
              "        [17.58    ],\n",
              "        ...,\n",
              "        [19.530001],\n",
              "        [19.5     ],\n",
              "        [19.52    ]],\n",
              "\n",
              "       ...,\n",
              "\n",
              "       [[13.6     ],\n",
              "        [13.14    ],\n",
              "        [12.98    ],\n",
              "        ...,\n",
              "        [15.02    ],\n",
              "        [15.1     ],\n",
              "        [15.25    ]],\n",
              "\n",
              "       [[15.85    ],\n",
              "        [15.6     ],\n",
              "        [15.79    ],\n",
              "        ...,\n",
              "        [16.969999],\n",
              "        [16.9     ],\n",
              "        [16.99    ]],\n",
              "\n",
              "       [[16.9     ],\n",
              "        [16.959999],\n",
              "        [17.049999],\n",
              "        ...,\n",
              "        [15.48    ],\n",
              "        [15.36    ],\n",
              "        [15.65    ]]])"
            ]
          },
          "metadata": {
            "tags": []
          },
          "execution_count": 180
        }
      ]
    },
    {
      "cell_type": "code",
      "metadata": {
        "id": "R6MRcZ2IrENi",
        "colab_type": "code",
        "colab": {
          "base_uri": "https://localhost:8080/",
          "height": 50
        },
        "outputId": "12595c25-6e36-4fd6-e222-fd884666d213"
      },
      "source": [
        "y = base[1:((len(base) - len(base) % periodos) + previsao_futura)]\n",
        "y"
      ],
      "execution_count": 181,
      "outputs": [
        {
          "output_type": "execute_result",
          "data": {
            "text/plain": [
              "array([19.809999, 20.33    , 20.48    , ..., 15.36    , 15.65    ,\n",
              "       15.1     ])"
            ]
          },
          "metadata": {
            "tags": []
          },
          "execution_count": 181
        }
      ]
    },
    {
      "cell_type": "code",
      "metadata": {
        "id": "g080N0nssAFx",
        "colab_type": "code",
        "colab": {
          "base_uri": "https://localhost:8080/",
          "height": 821
        },
        "outputId": "c33b1dc1-7af3-4712-8b83-e9b97bdc469c"
      },
      "source": [
        "y_batches = y.reshape(-1, periodos, 1)\n",
        "y_batches"
      ],
      "execution_count": 182,
      "outputs": [
        {
          "output_type": "execute_result",
          "data": {
            "text/plain": [
              "array([[[19.809999],\n",
              "        [20.33    ],\n",
              "        [20.48    ],\n",
              "        ...,\n",
              "        [17.790001],\n",
              "        [17.610001],\n",
              "        [17.639999]],\n",
              "\n",
              "       [[17.91    ],\n",
              "        [18.1     ],\n",
              "        [17.469999],\n",
              "        ...,\n",
              "        [18.27    ],\n",
              "        [18.27    ],\n",
              "        [17.68    ]],\n",
              "\n",
              "       [[17.950001],\n",
              "        [17.58    ],\n",
              "        [17.860001],\n",
              "        ...,\n",
              "        [19.5     ],\n",
              "        [19.52    ],\n",
              "        [19.91    ]],\n",
              "\n",
              "       ...,\n",
              "\n",
              "       [[13.14    ],\n",
              "        [12.98    ],\n",
              "        [13.08    ],\n",
              "        ...,\n",
              "        [15.1     ],\n",
              "        [15.25    ],\n",
              "        [15.85    ]],\n",
              "\n",
              "       [[15.6     ],\n",
              "        [15.79    ],\n",
              "        [15.86    ],\n",
              "        ...,\n",
              "        [16.9     ],\n",
              "        [16.99    ],\n",
              "        [16.9     ]],\n",
              "\n",
              "       [[16.959999],\n",
              "        [17.049999],\n",
              "        [17.309999],\n",
              "        ...,\n",
              "        [15.36    ],\n",
              "        [15.65    ],\n",
              "        [15.1     ]]])"
            ]
          },
          "metadata": {
            "tags": []
          },
          "execution_count": 182
        }
      ]
    },
    {
      "cell_type": "code",
      "metadata": {
        "id": "erkQo1OqsVUq",
        "colab_type": "code",
        "colab": {
          "base_uri": "https://localhost:8080/",
          "height": 99
        },
        "outputId": "e58099ad-0515-4d31-e89d-250275efa291"
      },
      "source": [
        "X_teste = base[-(periodos + previsao_futura):]\n",
        "X_teste = X_teste[:periodos]\n",
        "X_teste"
      ],
      "execution_count": 183,
      "outputs": [
        {
          "output_type": "execute_result",
          "data": {
            "text/plain": [
              "array([15.36    , 15.65    , 15.1     , 15.05    , 15.16    , 15.18    ,\n",
              "       15.21    , 15.31    , 15.75    , 15.75    , 15.75    , 15.99    ,\n",
              "       16.1     , 16.1     , 16.190001, 16.49    , 16.780001, 16.700001,\n",
              "       16.74    , 17.030001, 16.92    , 16.879999, 17.040001, 17.32    ,\n",
              "       17.35    , 17.92    , 18.35    , 18.309999, 18.26    , 18.4     ])"
            ]
          },
          "metadata": {
            "tags": []
          },
          "execution_count": 183
        }
      ]
    },
    {
      "cell_type": "code",
      "metadata": {
        "id": "4Yi4x526sxc_",
        "colab_type": "code",
        "colab": {
          "base_uri": "https://localhost:8080/",
          "height": 526
        },
        "outputId": "01b50ca4-752f-490b-c280-08113ef1912a"
      },
      "source": [
        "X_teste = X_teste.reshape(-1, periodos, 1)\n",
        "print(X_teste.shape)\n",
        "X_teste"
      ],
      "execution_count": 184,
      "outputs": [
        {
          "output_type": "stream",
          "text": [
            "(1, 30, 1)\n"
          ],
          "name": "stdout"
        },
        {
          "output_type": "execute_result",
          "data": {
            "text/plain": [
              "array([[[15.36    ],\n",
              "        [15.65    ],\n",
              "        [15.1     ],\n",
              "        [15.05    ],\n",
              "        [15.16    ],\n",
              "        [15.18    ],\n",
              "        [15.21    ],\n",
              "        [15.31    ],\n",
              "        [15.75    ],\n",
              "        [15.75    ],\n",
              "        [15.75    ],\n",
              "        [15.99    ],\n",
              "        [16.1     ],\n",
              "        [16.1     ],\n",
              "        [16.190001],\n",
              "        [16.49    ],\n",
              "        [16.780001],\n",
              "        [16.700001],\n",
              "        [16.74    ],\n",
              "        [17.030001],\n",
              "        [16.92    ],\n",
              "        [16.879999],\n",
              "        [17.040001],\n",
              "        [17.32    ],\n",
              "        [17.35    ],\n",
              "        [17.92    ],\n",
              "        [18.35    ],\n",
              "        [18.309999],\n",
              "        [18.26    ],\n",
              "        [18.4     ]]])"
            ]
          },
          "metadata": {
            "tags": []
          },
          "execution_count": 184
        }
      ]
    },
    {
      "cell_type": "code",
      "metadata": {
        "id": "6UC3aVNBtF2E",
        "colab_type": "code",
        "colab": {
          "base_uri": "https://localhost:8080/",
          "height": 99
        },
        "outputId": "38a50c1a-b720-4a7a-a118-64395aadf4bb"
      },
      "source": [
        "y_teste = base[-(periodos):]\n",
        "y_teste"
      ],
      "execution_count": 185,
      "outputs": [
        {
          "output_type": "execute_result",
          "data": {
            "text/plain": [
              "array([15.65    , 15.1     , 15.05    , 15.16    , 15.18    , 15.21    ,\n",
              "       15.31    , 15.75    , 15.75    , 15.75    , 15.99    , 16.1     ,\n",
              "       16.1     , 16.190001, 16.49    , 16.780001, 16.700001, 16.74    ,\n",
              "       17.030001, 16.92    , 16.879999, 17.040001, 17.32    , 17.35    ,\n",
              "       17.92    , 18.35    , 18.309999, 18.26    , 18.4     , 18.42    ])"
            ]
          },
          "metadata": {
            "tags": []
          },
          "execution_count": 185
        }
      ]
    },
    {
      "cell_type": "code",
      "metadata": {
        "id": "F_ANdJY4tM7i",
        "colab_type": "code",
        "colab": {
          "base_uri": "https://localhost:8080/",
          "height": 526
        },
        "outputId": "7660fc27-1446-42b0-baee-4394551a1d65"
      },
      "source": [
        "y_teste = y_teste.reshape(-1, periodos, 1)\n",
        "print(y_teste.shape)\n",
        "y_teste"
      ],
      "execution_count": 186,
      "outputs": [
        {
          "output_type": "stream",
          "text": [
            "(1, 30, 1)\n"
          ],
          "name": "stdout"
        },
        {
          "output_type": "execute_result",
          "data": {
            "text/plain": [
              "array([[[15.65    ],\n",
              "        [15.1     ],\n",
              "        [15.05    ],\n",
              "        [15.16    ],\n",
              "        [15.18    ],\n",
              "        [15.21    ],\n",
              "        [15.31    ],\n",
              "        [15.75    ],\n",
              "        [15.75    ],\n",
              "        [15.75    ],\n",
              "        [15.99    ],\n",
              "        [16.1     ],\n",
              "        [16.1     ],\n",
              "        [16.190001],\n",
              "        [16.49    ],\n",
              "        [16.780001],\n",
              "        [16.700001],\n",
              "        [16.74    ],\n",
              "        [17.030001],\n",
              "        [16.92    ],\n",
              "        [16.879999],\n",
              "        [17.040001],\n",
              "        [17.32    ],\n",
              "        [17.35    ],\n",
              "        [17.92    ],\n",
              "        [18.35    ],\n",
              "        [18.309999],\n",
              "        [18.26    ],\n",
              "        [18.4     ],\n",
              "        [18.42    ]]])"
            ]
          },
          "metadata": {
            "tags": []
          },
          "execution_count": 186
        }
      ]
    },
    {
      "cell_type": "code",
      "metadata": {
        "id": "lKTIFyanuCDT",
        "colab_type": "code",
        "colab": {
          "base_uri": "https://localhost:8080/",
          "height": 181
        },
        "outputId": "d799b293-243f-483c-8ad8-a1697662e597"
      },
      "source": [
        "tf.reset_default_graph()\n",
        "\n",
        "entradas = 1\n",
        "neuronios_camada_oculta = 100\n",
        "neuronios_saida = 1\n",
        "\n",
        "xph = tf.placeholder(tf.float32, [None, periodos, entradas])\n",
        "yph = tf.placeholder(tf.float32, [None, periodos, neuronios_saida])\n",
        "\n",
        "def create_cell():\n",
        "  return tf.contrib.rnn.LSTMCell(num_units= neuronios_camada_oculta, activation= tf.nn.relu)\n",
        "\n",
        "def create_multiple_cells(num_cells):\n",
        "  celulas = tf.nn.rnn_cell.MultiRNNCell([create_cell() for i in range(num_cells)])\n",
        "  #return tf.contrib.rnn.DropoutWrapper(celulas, output_keep_prob= 0.1)\n",
        "  return celulas\n",
        "\n",
        "#celula = tf.contrib.rnn.BasicRNNCell(num_units= neuronios_camada_oculta, activation= tf.nn.relu)\n",
        "#celula = tf.contrib.rnn.LSTMCell(num_units= neuronios_camada_oculta, activation= tf.nn.relu)\n",
        "\n",
        "celula = create_multiple_cells(4)\n",
        "# mapeamento para camada de saida\n",
        "celula = tf.contrib.rnn.OutputProjectionWrapper(celula, output_size= 1)\n",
        "\n",
        "saida_rnn, _ = tf.nn.dynamic_rnn(celula, xph, dtype=tf.float32)\n",
        "erro = tf.losses.mean_squared_error(labels= yph, predictions= saida_rnn)\n",
        "\n",
        "otimizador = tf.train.AdamOptimizer(learning_rate= 0.001)\n",
        "treinamento = otimizador.minimize(erro)\n",
        "\n",
        "with tf.Session() as sess:\n",
        "  sess.run(tf.global_variables_initializer())\n",
        "\n",
        "  for epoch in range(1000):\n",
        "    _, custo = sess.run([treinamento, erro], feed_dict={xph:X_batches, yph:y_batches})\n",
        "    if(epoch % 100 == 0):\n",
        "      print(f'epoch {epoch} - erro {custo}')\n",
        "  \n",
        "  previsoes = sess.run(saida_rnn, feed_dict={xph: X_teste})"
      ],
      "execution_count": 187,
      "outputs": [
        {
          "output_type": "stream",
          "text": [
            "epoch 0 - erro 221.32774353027344\n",
            "epoch 100 - erro 12.117117881774902\n",
            "epoch 200 - erro 1.6334248781204224\n",
            "epoch 300 - erro 0.765105664730072\n",
            "epoch 400 - erro 0.3546765446662903\n",
            "epoch 500 - erro 0.23331931233406067\n",
            "epoch 600 - erro 0.21488022804260254\n",
            "epoch 700 - erro 0.16010060906410217\n",
            "epoch 800 - erro 0.15508656203746796\n",
            "epoch 900 - erro 0.12979952991008759\n"
          ],
          "name": "stdout"
        }
      ]
    },
    {
      "cell_type": "code",
      "metadata": {
        "id": "hzzGVMfDxu8W",
        "colab_type": "code",
        "colab": {
          "base_uri": "https://localhost:8080/",
          "height": 33
        },
        "outputId": "48db57fd-1f74-42fb-aa20-bf8611e7e4b6"
      },
      "source": [
        "y_teste2 = np.ravel(y_teste)\n",
        "previsoes2 = np.ravel(previsoes)\n",
        "\n",
        "mae = mean_absolute_error(y_teste2, previsoes2)\n",
        "mae"
      ],
      "execution_count": 188,
      "outputs": [
        {
          "output_type": "execute_result",
          "data": {
            "text/plain": [
              "0.2588044790547694"
            ]
          },
          "metadata": {
            "tags": []
          },
          "execution_count": 188
        }
      ]
    },
    {
      "cell_type": "code",
      "metadata": {
        "id": "8mbsoqCYycbB",
        "colab_type": "code",
        "colab": {
          "base_uri": "https://localhost:8080/",
          "height": 281
        },
        "outputId": "354c18b8-7e42-4913-ce36-c24db8e53fea"
      },
      "source": [
        "plt.plot(y_teste2, color='b', label= 'Valor real')\n",
        "plt.plot(y_teste2, 'o', color='b', markersize=4)\n",
        "plt.plot(previsoes2, color='r', label= 'Valor previsto')\n",
        "plt.plot(previsoes2, 'o', color='r', markersize=4)\n",
        "plt.legend()"
      ],
      "execution_count": 189,
      "outputs": [
        {
          "output_type": "execute_result",
          "data": {
            "text/plain": [
              "<matplotlib.legend.Legend at 0x7ff0e1bcada0>"
            ]
          },
          "metadata": {
            "tags": []
          },
          "execution_count": 189
        },
        {
          "output_type": "display_data",
          "data": {
            "image/png": "[encoded data removed]",
            "text/plain": [
              "<Figure size 432x288 with 1 Axes>"
            ]
          },
          "metadata": {
            "tags": []
          }
        }
      ]
    }
  ]
}