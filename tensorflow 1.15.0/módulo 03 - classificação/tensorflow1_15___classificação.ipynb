{
  "nbformat": 4,
  "nbformat_minor": 0,
  "metadata": {
    "colab": {
      "name": "tensorflow1_15___classificação.ipynb",
      "provenance": [],
      "collapsed_sections": []
    },
    "kernelspec": {
      "name": "python3",
      "display_name": "Python 3"
    }
  },
  "cells": [
    {
      "cell_type": "code",
      "metadata": {
        "id": "9rXTKMKHzYK3",
        "colab_type": "code",
        "colab": {
          "base_uri": "https://localhost:8080/",
          "height": 502
        },
        "outputId": "b256512e-2963-4bb5-d385-1dcc860a5038"
      },
      "source": [
        "import pandas as pd\n",
        "import matplotlib.pyplot as plt\n",
        "import tensorflow as tf\n",
        "\n",
        "from sklearn.preprocessing import StandardScaler\n",
        "from sklearn.metrics import mean_absolute_error, mean_squared_error, accuracy_score\n",
        "from sklearn.model_selection import train_test_split\n",
        "from sklearn.preprocessing import LabelEncoder\n",
        "from sklearn.linear_model import LogisticRegression\n",
        "\n",
        "# Próxima linha necessária apenas no jupyternotebook ou google colab\n",
        "%matplotlib inline\n",
        "\n",
        "base = pd.read_csv('census.csv')\n",
        "print(f'base[\"income\"].unique() -> {base[\"income\"].unique()}')\n",
        "print(f'base.shape -> {base.shape}')\n",
        "print(f'base.columns \\n{base.columns}', end='\\n'*2)\n",
        "\n",
        "base.head()"
      ],
      "execution_count": 94,
      "outputs": [
        {
          "output_type": "stream",
          "text": [
            "base[\"income\"].unique() -> [' <=50K' ' >50K']\n",
            "base.shape -> (32561, 15)\n",
            "base.columns \n",
            "Index(['age', 'workclass', 'final-weight', 'education', 'education-num',\n",
            "       'marital-status', 'occupation', 'relationship', 'race', 'sex',\n",
            "       'capital-gain', 'capital-loos', 'hour-per-week', 'native-country',\n",
            "       'income'],\n",
            "      dtype='object')\n",
            "\n"
          ],
          "name": "stdout"
        },
        {
          "output_type": "execute_result",
          "data": {
            "text/html": [
              "<div>\n",
              "<style scoped>\n",
              "    .dataframe tbody tr th:only-of-type {\n",
              "        vertical-align: middle;\n",
              "    }\n",
              "\n",
              "    .dataframe tbody tr th {\n",
              "        vertical-align: top;\n",
              "    }\n",
              "\n",
              "    .dataframe thead th {\n",
              "        text-align: right;\n",
              "    }\n",
              "</style>\n",
              "<table border=\"1\" class=\"dataframe\">\n",
              "  <thead>\n",
              "    <tr style=\"text-align: right;\">\n",
              "      <th></th>\n",
              "      <th>age</th>\n",
              "      <th>workclass</th>\n",
              "      <th>final-weight</th>\n",
              "      <th>education</th>\n",
              "      <th>education-num</th>\n",
              "      <th>marital-status</th>\n",
              "      <th>occupation</th>\n",
              "      <th>relationship</th>\n",
              "      <th>race</th>\n",
              "      <th>sex</th>\n",
              "      <th>capital-gain</th>\n",
              "      <th>capital-loos</th>\n",
              "      <th>hour-per-week</th>\n",
              "      <th>native-country</th>\n",
              "      <th>income</th>\n",
              "    </tr>\n",
              "  </thead>\n",
              "  <tbody>\n",
              "    <tr>\n",
              "      <th>0</th>\n",
              "      <td>39</td>\n",
              "      <td>State-gov</td>\n",
              "      <td>77516</td>\n",
              "      <td>Bachelors</td>\n",
              "      <td>13</td>\n",
              "      <td>Never-married</td>\n",
              "      <td>Adm-clerical</td>\n",
              "      <td>Not-in-family</td>\n",
              "      <td>White</td>\n",
              "      <td>Male</td>\n",
              "      <td>2174</td>\n",
              "      <td>0</td>\n",
              "      <td>40</td>\n",
              "      <td>United-States</td>\n",
              "      <td>&lt;=50K</td>\n",
              "    </tr>\n",
              "    <tr>\n",
              "      <th>1</th>\n",
              "      <td>50</td>\n",
              "      <td>Self-emp-not-inc</td>\n",
              "      <td>83311</td>\n",
              "      <td>Bachelors</td>\n",
              "      <td>13</td>\n",
              "      <td>Married-civ-spouse</td>\n",
              "      <td>Exec-managerial</td>\n",
              "      <td>Husband</td>\n",
              "      <td>White</td>\n",
              "      <td>Male</td>\n",
              "      <td>0</td>\n",
              "      <td>0</td>\n",
              "      <td>13</td>\n",
              "      <td>United-States</td>\n",
              "      <td>&lt;=50K</td>\n",
              "    </tr>\n",
              "    <tr>\n",
              "      <th>2</th>\n",
              "      <td>38</td>\n",
              "      <td>Private</td>\n",
              "      <td>215646</td>\n",
              "      <td>HS-grad</td>\n",
              "      <td>9</td>\n",
              "      <td>Divorced</td>\n",
              "      <td>Handlers-cleaners</td>\n",
              "      <td>Not-in-family</td>\n",
              "      <td>White</td>\n",
              "      <td>Male</td>\n",
              "      <td>0</td>\n",
              "      <td>0</td>\n",
              "      <td>40</td>\n",
              "      <td>United-States</td>\n",
              "      <td>&lt;=50K</td>\n",
              "    </tr>\n",
              "    <tr>\n",
              "      <th>3</th>\n",
              "      <td>53</td>\n",
              "      <td>Private</td>\n",
              "      <td>234721</td>\n",
              "      <td>11th</td>\n",
              "      <td>7</td>\n",
              "      <td>Married-civ-spouse</td>\n",
              "      <td>Handlers-cleaners</td>\n",
              "      <td>Husband</td>\n",
              "      <td>Black</td>\n",
              "      <td>Male</td>\n",
              "      <td>0</td>\n",
              "      <td>0</td>\n",
              "      <td>40</td>\n",
              "      <td>United-States</td>\n",
              "      <td>&lt;=50K</td>\n",
              "    </tr>\n",
              "    <tr>\n",
              "      <th>4</th>\n",
              "      <td>28</td>\n",
              "      <td>Private</td>\n",
              "      <td>338409</td>\n",
              "      <td>Bachelors</td>\n",
              "      <td>13</td>\n",
              "      <td>Married-civ-spouse</td>\n",
              "      <td>Prof-specialty</td>\n",
              "      <td>Wife</td>\n",
              "      <td>Black</td>\n",
              "      <td>Female</td>\n",
              "      <td>0</td>\n",
              "      <td>0</td>\n",
              "      <td>40</td>\n",
              "      <td>Cuba</td>\n",
              "      <td>&lt;=50K</td>\n",
              "    </tr>\n",
              "  </tbody>\n",
              "</table>\n",
              "</div>"
            ],
            "text/plain": [
              "   age          workclass  final-weight  ... hour-per-week  native-country  income\n",
              "0   39          State-gov         77516  ...            40   United-States   <=50K\n",
              "1   50   Self-emp-not-inc         83311  ...            13   United-States   <=50K\n",
              "2   38            Private        215646  ...            40   United-States   <=50K\n",
              "3   53            Private        234721  ...            40   United-States   <=50K\n",
              "4   28            Private        338409  ...            40            Cuba   <=50K\n",
              "\n",
              "[5 rows x 15 columns]"
            ]
          },
          "metadata": {
            "tags": []
          },
          "execution_count": 94
        }
      ]
    },
    {
      "cell_type": "markdown",
      "metadata": {
        "id": "jfltfgFXuIaT",
        "colab_type": "text"
      },
      "source": [
        "\n",
        "> # **Aula 014** - Regressão logística  com Sklearn - **Tensorflow: Classificação**\n",
        "\n",
        "\n"
      ]
    },
    {
      "cell_type": "code",
      "metadata": {
        "id": "jgO-nOzu_EpU",
        "colab_type": "code",
        "colab": {}
      },
      "source": [
        "# -- exemplo: prever com base no atributos de uma pessoa qual será seu salário <=50K ou >50K --\n",
        "\n",
        "pessoa_attrs = base.iloc[:, 0:14].values\n",
        "classes = base.iloc[:, 14].values"
      ],
      "execution_count": 0,
      "outputs": []
    },
    {
      "cell_type": "code",
      "metadata": {
        "id": "X31FRbVbAINu",
        "colab_type": "code",
        "colab": {
          "base_uri": "https://localhost:8080/",
          "height": 173
        },
        "outputId": "cd956a1d-f750-4a34-865a-fd6be8a0b57b"
      },
      "source": [
        "print(f'type(pessoa_attrs) - {type(pessoa_attrs)}')\n",
        "pessoa_attrs"
      ],
      "execution_count": 77,
      "outputs": [
        {
          "output_type": "stream",
          "text": [
            "type(pessoa_attrs) - <class 'numpy.ndarray'>\n"
          ],
          "name": "stdout"
        },
        {
          "output_type": "execute_result",
          "data": {
            "text/plain": [
              "array([[39, ' State-gov', 77516, ..., 0, 40, ' United-States'],\n",
              "       [50, ' Self-emp-not-inc', 83311, ..., 0, 13, ' United-States'],\n",
              "       [38, ' Private', 215646, ..., 0, 40, ' United-States'],\n",
              "       ...,\n",
              "       [58, ' Private', 151910, ..., 0, 40, ' United-States'],\n",
              "       [22, ' Private', 201490, ..., 0, 20, ' United-States'],\n",
              "       [52, ' Self-emp-inc', 287927, ..., 0, 40, ' United-States']],\n",
              "      dtype=object)"
            ]
          },
          "metadata": {
            "tags": []
          },
          "execution_count": 77
        }
      ]
    },
    {
      "cell_type": "code",
      "metadata": {
        "id": "q_9maNKZAKIQ",
        "colab_type": "code",
        "colab": {
          "base_uri": "https://localhost:8080/",
          "height": 69
        },
        "outputId": "e1984885-bb6c-45bd-df9d-910bbe15223e"
      },
      "source": [
        "print(f'type(classes) - {type(classes)}')\n",
        "classes"
      ],
      "execution_count": 78,
      "outputs": [
        {
          "output_type": "stream",
          "text": [
            "type(classes) - <class 'numpy.ndarray'>\n"
          ],
          "name": "stdout"
        },
        {
          "output_type": "execute_result",
          "data": {
            "text/plain": [
              "array([' <=50K', ' <=50K', ' <=50K', ..., ' <=50K', ' <=50K', ' >50K'],\n",
              "      dtype=object)"
            ]
          },
          "metadata": {
            "tags": []
          },
          "execution_count": 78
        }
      ]
    },
    {
      "cell_type": "code",
      "metadata": {
        "id": "XbDKpMBCAxLP",
        "colab_type": "code",
        "colab": {
          "base_uri": "https://localhost:8080/",
          "height": 69
        },
        "outputId": "10e11190-23b8-4551-8e52-46b303203a37"
      },
      "source": [
        "pessoa_attrs[0]"
      ],
      "execution_count": 79,
      "outputs": [
        {
          "output_type": "execute_result",
          "data": {
            "text/plain": [
              "array([39, ' State-gov', 77516, ' Bachelors', 13, ' Never-married',\n",
              "       ' Adm-clerical', ' Not-in-family', ' White', ' Male', 2174, 0, 40,\n",
              "       ' United-States'], dtype=object)"
            ]
          },
          "metadata": {
            "tags": []
          },
          "execution_count": 79
        }
      ]
    },
    {
      "cell_type": "code",
      "metadata": {
        "id": "b-2Sa3ugAWH0",
        "colab_type": "code",
        "colab": {
          "base_uri": "https://localhost:8080/",
          "height": 34
        },
        "outputId": "3752997b-4055-416b-8dc8-920c1c350d02"
      },
      "source": [
        "# normalizando os dados (transformando strings em números)\n",
        "\n",
        "label_encoder = LabelEncoder()\n",
        "\n",
        "pessoa_attrs[:, 1] = label_encoder.fit_transform(pessoa_attrs[:, 1])\n",
        "pessoa_attrs[:, 3] = label_encoder.fit_transform(pessoa_attrs[:, 3])\n",
        "pessoa_attrs[:, 5] = label_encoder.fit_transform(pessoa_attrs[:, 5])\n",
        "pessoa_attrs[:, 6] = label_encoder.fit_transform(pessoa_attrs[:, 6])\n",
        "pessoa_attrs[:, 7] = label_encoder.fit_transform(pessoa_attrs[:, 7])\n",
        "pessoa_attrs[:, 8] = label_encoder.fit_transform(pessoa_attrs[:, 8])\n",
        "pessoa_attrs[:, 9] = label_encoder.fit_transform(pessoa_attrs[:, 9])\n",
        "pessoa_attrs[:, 13] = label_encoder.fit_transform(pessoa_attrs[:, 13])\n",
        "\n",
        "pessoa_attrs[0]"
      ],
      "execution_count": 80,
      "outputs": [
        {
          "output_type": "execute_result",
          "data": {
            "text/plain": [
              "array([39, 7, 77516, 9, 13, 4, 1, 1, 4, 1, 2174, 0, 40, 39], dtype=object)"
            ]
          },
          "metadata": {
            "tags": []
          },
          "execution_count": 80
        }
      ]
    },
    {
      "cell_type": "code",
      "metadata": {
        "id": "Zg_wC6u6DFdz",
        "colab_type": "code",
        "colab": {
          "base_uri": "https://localhost:8080/",
          "height": 34
        },
        "outputId": "7841494a-f4d0-4df7-c55a-048144b80107"
      },
      "source": [
        "# escalonando os dados\n",
        "\n",
        "scaler_pessoa_attrs = StandardScaler()\n",
        "pessoa_attrs = scaler_pessoa_attrs.fit_transform(pessoa_attrs)\n",
        "\n",
        "# divisao de base de treinamento e base de teste\n",
        "\n",
        "pessoa_attrs_treinamento, pessoa_attrs_teste, classes_treinamento, classes_teste = train_test_split(pessoa_attrs, classes, test_size = 0.3)\n",
        "\n",
        "# max_iter = quantidade maxima de iterações\n",
        "classificador = LogisticRegression(max_iter = 10000)\n",
        "classificador.fit(pessoa_attrs_treinamento, classes_treinamento)\n",
        "\n",
        "previsoes = classificador.predict(pessoa_attrs_teste)\n",
        "\n",
        "# comparando as previsoes com os testes\n",
        "taxa_acerto = accuracy_score(classes_teste, previsoes)\n",
        "print(f'taxa de acerto - {taxa_acerto}')"
      ],
      "execution_count": 81,
      "outputs": [
        {
          "output_type": "stream",
          "text": [
            "taxa de acerto - 0.8246494011669567\n"
          ],
          "name": "stdout"
        }
      ]
    },
    {
      "cell_type": "markdown",
      "metadata": {
        "id": "tTizToOFF4aP",
        "colab_type": "text"
      },
      "source": [
        "\n",
        "> # **Aula 015** - Regressão logística com Estimators (Tensorflow) - **Tensorflow: Classificação**\n",
        "\n",
        "\n"
      ]
    },
    {
      "cell_type": "code",
      "metadata": {
        "id": "ymWai0u-Fw7v",
        "colab_type": "code",
        "colab": {
          "base_uri": "https://localhost:8080/",
          "height": 51
        },
        "outputId": "3da4065d-b1c0-4f4d-9ad9-47ef358085c2"
      },
      "source": [
        "# -- exemplo: prever com base no atributos de uma pessoa qual será seu salário <=50K ou >50K --\n",
        "\n",
        "def converte_classe(rotulo):\n",
        "  if rotulo == ' >50K':\n",
        "    return 1\n",
        "  else:\n",
        "    return 0\n",
        "  \n",
        "# convertendo as classes para números\n",
        "base['income'] = base['income'].apply(converte_classe)\n",
        "\n",
        "pessoa_attrs = base.drop('income', axis = 1)\n",
        "classes = base['income']\n",
        "\n",
        "print(f'type(pessoa_attrs) - {type(pessoa_attrs)}')\n",
        "print(f'type(classes) - {type(classes)}')"
      ],
      "execution_count": 82,
      "outputs": [
        {
          "output_type": "stream",
          "text": [
            "type(pessoa_attrs) - <class 'pandas.core.frame.DataFrame'>\n",
            "type(classes) - <class 'pandas.core.series.Series'>\n"
          ],
          "name": "stdout"
        }
      ]
    },
    {
      "cell_type": "code",
      "metadata": {
        "id": "eQU7c9NdJXfU",
        "colab_type": "code",
        "colab": {
          "base_uri": "https://localhost:8080/",
          "height": 282
        },
        "outputId": "c8244015-16bf-4c2e-a08a-0a81102a6aef"
      },
      "source": [
        "# Faixa de idade das pessoas\n",
        "base.age.hist()"
      ],
      "execution_count": 83,
      "outputs": [
        {
          "output_type": "execute_result",
          "data": {
            "text/plain": [
              "<matplotlib.axes._subplots.AxesSubplot at 0x7f0a7dbf8128>"
            ]
          },
          "metadata": {
            "tags": []
          },
          "execution_count": 83
        },
        {
          "output_type": "display_data",
          "data": {
            "image/png": "[encoded data removed]",
            "text/plain": [
              "<Figure size 432x288 with 1 Axes>"
            ]
          },
          "metadata": {
            "tags": []
          }
        }
      ]
    },
    {
      "cell_type": "code",
      "metadata": {
        "id": "QccrLA0YJ5mE",
        "colab_type": "code",
        "colab": {
          "base_uri": "https://localhost:8080/",
          "height": 54
        },
        "outputId": "b63b6f94-c985-4857-889d-b81d98dba7c6"
      },
      "source": [
        "idade = tf.feature_column.numeric_column('age')\n",
        "\n",
        "# Separando a faixa de idades com base no gráfico anterior\n",
        "idade_categorica = [tf.feature_column.bucketized_column(idade, boundaries = [20,30,40,50,60,70,80,90])]\n",
        "idade_categorica"
      ],
      "execution_count": 85,
      "outputs": [
        {
          "output_type": "execute_result",
          "data": {
            "text/plain": [
              "[BucketizedColumn(source_column=NumericColumn(key='age', shape=(1,), default_value=None, dtype=tf.float32, normalizer_fn=None), boundaries=(20, 30, 40, 50, 60, 70, 80, 90))]"
            ]
          },
          "metadata": {
            "tags": []
          },
          "execution_count": 85
        }
      ]
    },
    {
      "cell_type": "code",
      "metadata": {
        "id": "kXk8WREZKrFH",
        "colab_type": "code",
        "colab": {
          "base_uri": "https://localhost:8080/",
          "height": 86
        },
        "outputId": "44ed34ab-4d77-4e45-a01e-310640bd4279"
      },
      "source": [
        "pessoa_attrs.columns"
      ],
      "execution_count": 86,
      "outputs": [
        {
          "output_type": "execute_result",
          "data": {
            "text/plain": [
              "Index(['age', 'workclass', 'final-weight', 'education', 'education-num',\n",
              "       'marital-status', 'occupation', 'relationship', 'race', 'sex',\n",
              "       'capital-gain', 'capital-loos', 'hour-per-week', 'native-country'],\n",
              "      dtype='object')"
            ]
          },
          "metadata": {
            "tags": []
          },
          "execution_count": 86
        }
      ]
    },
    {
      "cell_type": "code",
      "metadata": {
        "id": "imJM4USbLx-S",
        "colab_type": "code",
        "colab": {
          "base_uri": "https://localhost:8080/",
          "height": 173
        },
        "outputId": "404f1958-b820-4b98-a353-7fcdd5b5a3da"
      },
      "source": [
        "pessoa_attrs['native-country'].unique()"
      ],
      "execution_count": 90,
      "outputs": [
        {
          "output_type": "execute_result",
          "data": {
            "text/plain": [
              "array([' United-States', ' Cuba', ' Jamaica', ' India', ' ?', ' Mexico',\n",
              "       ' South', ' Puerto-Rico', ' Honduras', ' England', ' Canada',\n",
              "       ' Germany', ' Iran', ' Philippines', ' Italy', ' Poland',\n",
              "       ' Columbia', ' Cambodia', ' Thailand', ' Ecuador', ' Laos',\n",
              "       ' Taiwan', ' Haiti', ' Portugal', ' Dominican-Republic',\n",
              "       ' El-Salvador', ' France', ' Guatemala', ' China', ' Japan',\n",
              "       ' Yugoslavia', ' Peru', ' Outlying-US(Guam-USVI-etc)', ' Scotland',\n",
              "       ' Trinadad&Tobago', ' Greece', ' Nicaragua', ' Vietnam', ' Hong',\n",
              "       ' Ireland', ' Hungary', ' Holand-Netherlands'], dtype=object)"
            ]
          },
          "metadata": {
            "tags": []
          },
          "execution_count": 90
        }
      ]
    },
    {
      "cell_type": "code",
      "metadata": {
        "id": "XkviS3IBL7jk",
        "colab_type": "code",
        "colab": {
          "base_uri": "https://localhost:8080/",
          "height": 86
        },
        "outputId": "5b70c1d0-3955-4ec5-cd9a-f31567e9f1a3"
      },
      "source": [
        "pessoa_attrs['education'].unique()"
      ],
      "execution_count": 91,
      "outputs": [
        {
          "output_type": "execute_result",
          "data": {
            "text/plain": [
              "array([' Bachelors', ' HS-grad', ' 11th', ' Masters', ' 9th',\n",
              "       ' Some-college', ' Assoc-acdm', ' Assoc-voc', ' 7th-8th',\n",
              "       ' Doctorate', ' Prof-school', ' 5th-6th', ' 10th', ' 1st-4th',\n",
              "       ' Preschool', ' 12th'], dtype=object)"
            ]
          },
          "metadata": {
            "tags": []
          },
          "execution_count": 91
        }
      ]
    },
    {
      "cell_type": "code",
      "metadata": {
        "id": "OwxMZZHBK2Pv",
        "colab_type": "code",
        "colab": {
          "base_uri": "https://localhost:8080/",
          "height": 158
        },
        "outputId": "6e7d880c-3d79-4499-f39c-20b7e2155ce7"
      },
      "source": [
        "# separando atributos categóricos (tem uma categoria)\n",
        "\n",
        "nome_colunas_categoricas = ['education', 'marital-status', 'occupation', 'relationship',\n",
        "                            'race', 'sex', 'native-country']\n",
        "\n",
        "colunas_categoricas = [tf.feature_column.categorical_column_with_vocabulary_list(key = c, \n",
        "                                                                                 vocabulary_list = pessoa_attrs[c].unique()) \n",
        "                                                                                 for c in nome_colunas_categoricas]\n",
        "\n",
        "colunas_categoricas"
      ],
      "execution_count": 93,
      "outputs": [
        {
          "output_type": "execute_result",
          "data": {
            "text/plain": [
              "[VocabularyListCategoricalColumn(key='education', vocabulary_list=(' Bachelors', ' HS-grad', ' 11th', ' Masters', ' 9th', ' Some-college', ' Assoc-acdm', ' Assoc-voc', ' 7th-8th', ' Doctorate', ' Prof-school', ' 5th-6th', ' 10th', ' 1st-4th', ' Preschool', ' 12th'), dtype=tf.string, default_value=-1, num_oov_buckets=0),\n",
              " VocabularyListCategoricalColumn(key='marital-status', vocabulary_list=(' Never-married', ' Married-civ-spouse', ' Divorced', ' Married-spouse-absent', ' Separated', ' Married-AF-spouse', ' Widowed'), dtype=tf.string, default_value=-1, num_oov_buckets=0),\n",
              " VocabularyListCategoricalColumn(key='occupation', vocabulary_list=(' Adm-clerical', ' Exec-managerial', ' Handlers-cleaners', ' Prof-specialty', ' Other-service', ' Sales', ' Craft-repair', ' Transport-moving', ' Farming-fishing', ' Machine-op-inspct', ' Tech-support', ' ?', ' Protective-serv', ' Armed-Forces', ' Priv-house-serv'), dtype=tf.string, default_value=-1, num_oov_buckets=0),\n",
              " VocabularyListCategoricalColumn(key='relationship', vocabulary_list=(' Not-in-family', ' Husband', ' Wife', ' Own-child', ' Unmarried', ' Other-relative'), dtype=tf.string, default_value=-1, num_oov_buckets=0),\n",
              " VocabularyListCategoricalColumn(key='race', vocabulary_list=(' White', ' Black', ' Asian-Pac-Islander', ' Amer-Indian-Eskimo', ' Other'), dtype=tf.string, default_value=-1, num_oov_buckets=0),\n",
              " VocabularyListCategoricalColumn(key='sex', vocabulary_list=(' Male', ' Female'), dtype=tf.string, default_value=-1, num_oov_buckets=0),\n",
              " VocabularyListCategoricalColumn(key='native-country', vocabulary_list=(' United-States', ' Cuba', ' Jamaica', ' India', ' ?', ' Mexico', ' South', ' Puerto-Rico', ' Honduras', ' England', ' Canada', ' Germany', ' Iran', ' Philippines', ' Italy', ' Poland', ' Columbia', ' Cambodia', ' Thailand', ' Ecuador', ' Laos', ' Taiwan', ' Haiti', ' Portugal', ' Dominican-Republic', ' El-Salvador', ' France', ' Guatemala', ' China', ' Japan', ' Yugoslavia', ' Peru', ' Outlying-US(Guam-USVI-etc)', ' Scotland', ' Trinadad&Tobago', ' Greece', ' Nicaragua', ' Vietnam', ' Hong', ' Ireland', ' Hungary', ' Holand-Netherlands'), dtype=tf.string, default_value=-1, num_oov_buckets=0)]"
            ]
          },
          "metadata": {
            "tags": []
          },
          "execution_count": 93
        }
      ]
    },
    {
      "cell_type": "code",
      "metadata": {
        "id": "ItOJgadOM00K",
        "colab_type": "code",
        "colab": {
          "base_uri": "https://localhost:8080/",
          "height": 103
        },
        "outputId": "b440142c-ffe1-41c5-81f2-6ac085341fee"
      },
      "source": [
        "nome_colunas_numericas = ['final-weight', 'education-num', 'capital-gain', 'capital-loos', 'hour-per-week']\n",
        "\n",
        "colunas_numericas = [tf.feature_column.numeric_column(key = c) for c in nome_colunas_numericas]\n",
        "colunas_numericas"
      ],
      "execution_count": 98,
      "outputs": [
        {
          "output_type": "execute_result",
          "data": {
            "text/plain": [
              "[NumericColumn(key='final-weight', shape=(1,), default_value=None, dtype=tf.float32, normalizer_fn=None),\n",
              " NumericColumn(key='education-num', shape=(1,), default_value=None, dtype=tf.float32, normalizer_fn=None),\n",
              " NumericColumn(key='capital-gain', shape=(1,), default_value=None, dtype=tf.float32, normalizer_fn=None),\n",
              " NumericColumn(key='capital-loos', shape=(1,), default_value=None, dtype=tf.float32, normalizer_fn=None),\n",
              " NumericColumn(key='hour-per-week', shape=(1,), default_value=None, dtype=tf.float32, normalizer_fn=None)]"
            ]
          },
          "metadata": {
            "tags": []
          },
          "execution_count": 98
        }
      ]
    },
    {
      "cell_type": "code",
      "metadata": {
        "id": "yZP1eYVnOAIC",
        "colab_type": "code",
        "colab": {
          "base_uri": "https://localhost:8080/",
          "height": 262
        },
        "outputId": "2a9251e3-e03e-47c6-c096-ecf8e60bbfd6"
      },
      "source": [
        "colunas = idade_categorica + colunas_categoricas + colunas_numericas\n",
        "colunas"
      ],
      "execution_count": 100,
      "outputs": [
        {
          "output_type": "execute_result",
          "data": {
            "text/plain": [
              "[BucketizedColumn(source_column=NumericColumn(key='age', shape=(1,), default_value=None, dtype=tf.float32, normalizer_fn=None), boundaries=(20, 30, 40, 50, 60, 70, 80, 90)),\n",
              " VocabularyListCategoricalColumn(key='education', vocabulary_list=(' Bachelors', ' HS-grad', ' 11th', ' Masters', ' 9th', ' Some-college', ' Assoc-acdm', ' Assoc-voc', ' 7th-8th', ' Doctorate', ' Prof-school', ' 5th-6th', ' 10th', ' 1st-4th', ' Preschool', ' 12th'), dtype=tf.string, default_value=-1, num_oov_buckets=0),\n",
              " VocabularyListCategoricalColumn(key='marital-status', vocabulary_list=(' Never-married', ' Married-civ-spouse', ' Divorced', ' Married-spouse-absent', ' Separated', ' Married-AF-spouse', ' Widowed'), dtype=tf.string, default_value=-1, num_oov_buckets=0),\n",
              " VocabularyListCategoricalColumn(key='occupation', vocabulary_list=(' Adm-clerical', ' Exec-managerial', ' Handlers-cleaners', ' Prof-specialty', ' Other-service', ' Sales', ' Craft-repair', ' Transport-moving', ' Farming-fishing', ' Machine-op-inspct', ' Tech-support', ' ?', ' Protective-serv', ' Armed-Forces', ' Priv-house-serv'), dtype=tf.string, default_value=-1, num_oov_buckets=0),\n",
              " VocabularyListCategoricalColumn(key='relationship', vocabulary_list=(' Not-in-family', ' Husband', ' Wife', ' Own-child', ' Unmarried', ' Other-relative'), dtype=tf.string, default_value=-1, num_oov_buckets=0),\n",
              " VocabularyListCategoricalColumn(key='race', vocabulary_list=(' White', ' Black', ' Asian-Pac-Islander', ' Amer-Indian-Eskimo', ' Other'), dtype=tf.string, default_value=-1, num_oov_buckets=0),\n",
              " VocabularyListCategoricalColumn(key='sex', vocabulary_list=(' Male', ' Female'), dtype=tf.string, default_value=-1, num_oov_buckets=0),\n",
              " VocabularyListCategoricalColumn(key='native-country', vocabulary_list=(' United-States', ' Cuba', ' Jamaica', ' India', ' ?', ' Mexico', ' South', ' Puerto-Rico', ' Honduras', ' England', ' Canada', ' Germany', ' Iran', ' Philippines', ' Italy', ' Poland', ' Columbia', ' Cambodia', ' Thailand', ' Ecuador', ' Laos', ' Taiwan', ' Haiti', ' Portugal', ' Dominican-Republic', ' El-Salvador', ' France', ' Guatemala', ' China', ' Japan', ' Yugoslavia', ' Peru', ' Outlying-US(Guam-USVI-etc)', ' Scotland', ' Trinadad&Tobago', ' Greece', ' Nicaragua', ' Vietnam', ' Hong', ' Ireland', ' Hungary', ' Holand-Netherlands'), dtype=tf.string, default_value=-1, num_oov_buckets=0),\n",
              " NumericColumn(key='final-weight', shape=(1,), default_value=None, dtype=tf.float32, normalizer_fn=None),\n",
              " NumericColumn(key='education-num', shape=(1,), default_value=None, dtype=tf.float32, normalizer_fn=None),\n",
              " NumericColumn(key='capital-gain', shape=(1,), default_value=None, dtype=tf.float32, normalizer_fn=None),\n",
              " NumericColumn(key='capital-loos', shape=(1,), default_value=None, dtype=tf.float32, normalizer_fn=None),\n",
              " NumericColumn(key='hour-per-week', shape=(1,), default_value=None, dtype=tf.float32, normalizer_fn=None)]"
            ]
          },
          "metadata": {
            "tags": []
          },
          "execution_count": 100
        }
      ]
    },
    {
      "cell_type": "code",
      "metadata": {
        "id": "tPq10XrkOQg1",
        "colab_type": "code",
        "colab": {
          "base_uri": "https://localhost:8080/",
          "height": 1000
        },
        "outputId": "3bb4c6ec-cb41-4e83-df4b-f8f7bd51a9cb"
      },
      "source": [
        "pessoa_attrs_treinamento, pessoa_attrs_teste, classes_treinamento, classes_teste = train_test_split(pessoa_attrs, classes, test_size = 0.3)\n",
        "\n",
        "funcao_treinamento = tf.estimator.inputs.pandas_input_fn(x = pessoa_attrs_treinamento, y = classes_treinamento,\n",
        "                                                         batch_size = 32, num_epochs = None, shuffle = True)\n",
        "\n",
        "classificador = tf.estimator.LinearClassifier(feature_columns = colunas)\n",
        "\n",
        "classificador.train(input_fn = funcao_treinamento, steps = 10000)"
      ],
      "execution_count": 105,
      "outputs": [
        {
          "output_type": "stream",
          "text": [
            "INFO:tensorflow:Using default config.\n",
            "WARNING:tensorflow:Using temporary folder as model directory: /tmp/tmpdoawqqu0\n",
            "INFO:tensorflow:Using config: {'_model_dir': '/tmp/tmpdoawqqu0', '_tf_random_seed': None, '_save_summary_steps': 100, '_save_checkpoints_steps': None, '_save_checkpoints_secs': 600, '_session_config': allow_soft_placement: true\n",
            "graph_options {\n",
            "  rewrite_options {\n",
            "    meta_optimizer_iterations: ONE\n",
            "  }\n",
            "}\n",
            ", '_keep_checkpoint_max': 5, '_keep_checkpoint_every_n_hours': 10000, '_log_step_count_steps': 100, '_train_distribute': None, '_device_fn': None, '_protocol': None, '_eval_distribute': None, '_experimental_distribute': None, '_experimental_max_worker_delay_secs': None, '_session_creation_timeout_secs': 7200, '_service': None, '_cluster_spec': <tensorflow.python.training.server_lib.ClusterSpec object at 0x7f0a76a94c50>, '_task_type': 'worker', '_task_id': 0, '_global_id_in_cluster': 0, '_master': '', '_evaluation_master': '', '_is_chief': True, '_num_ps_replicas': 0, '_num_worker_replicas': 1}\n",
            "WARNING:tensorflow:From /usr/local/lib/python3.6/dist-packages/tensorflow_core/python/training/training_util.py:236: Variable.initialized_value (from tensorflow.python.ops.variables) is deprecated and will be removed in a future version.\n",
            "Instructions for updating:\n",
            "Use Variable.read_value. Variables in 2.X are initialized automatically both in eager and graph (inside tf.defun) contexts.\n",
            "WARNING:tensorflow:From /usr/local/lib/python3.6/dist-packages/tensorflow_estimator/python/estimator/inputs/queues/feeding_queue_runner.py:62: QueueRunner.__init__ (from tensorflow.python.training.queue_runner_impl) is deprecated and will be removed in a future version.\n",
            "Instructions for updating:\n",
            "To construct input pipelines, use the `tf.data` module.\n",
            "WARNING:tensorflow:From /usr/local/lib/python3.6/dist-packages/tensorflow_estimator/python/estimator/inputs/queues/feeding_functions.py:500: add_queue_runner (from tensorflow.python.training.queue_runner_impl) is deprecated and will be removed in a future version.\n",
            "Instructions for updating:\n",
            "To construct input pipelines, use the `tf.data` module.\n",
            "INFO:tensorflow:Calling model_fn.\n",
            "WARNING:tensorflow:From /usr/local/lib/python3.6/dist-packages/tensorflow_core/python/feature_column/feature_column_v2.py:305: Layer.add_variable (from tensorflow.python.keras.engine.base_layer) is deprecated and will be removed in a future version.\n",
            "Instructions for updating:\n",
            "Please use `layer.add_weight` method instead.\n",
            "WARNING:tensorflow:From /usr/local/lib/python3.6/dist-packages/tensorflow_core/python/ops/resource_variable_ops.py:1630: calling BaseResourceVariable.__init__ (from tensorflow.python.ops.resource_variable_ops) with constraint is deprecated and will be removed in a future version.\n",
            "Instructions for updating:\n",
            "If using Keras pass *_constraint arguments to layers.\n",
            "WARNING:tensorflow:From /usr/local/lib/python3.6/dist-packages/tensorflow_core/python/ops/embedding_ops.py:802: where (from tensorflow.python.ops.array_ops) is deprecated and will be removed in a future version.\n",
            "Instructions for updating:\n",
            "Use tf.where in 2.0, which has the same broadcast rule as np.where\n",
            "WARNING:tensorflow:From /usr/local/lib/python3.6/dist-packages/tensorflow_estimator/python/estimator/canned/linear.py:308: to_float (from tensorflow.python.ops.math_ops) is deprecated and will be removed in a future version.\n",
            "Instructions for updating:\n",
            "Use `tf.cast` instead.\n",
            "INFO:tensorflow:Done calling model_fn.\n",
            "INFO:tensorflow:Create CheckpointSaverHook.\n",
            "INFO:tensorflow:Graph was finalized.\n",
            "INFO:tensorflow:Running local_init_op.\n",
            "INFO:tensorflow:Done running local_init_op.\n",
            "WARNING:tensorflow:From /usr/local/lib/python3.6/dist-packages/tensorflow_core/python/training/monitored_session.py:882: start_queue_runners (from tensorflow.python.training.queue_runner_impl) is deprecated and will be removed in a future version.\n",
            "Instructions for updating:\n",
            "To construct input pipelines, use the `tf.data` module.\n",
            "INFO:tensorflow:Saving checkpoints for 0 into /tmp/tmpdoawqqu0/model.ckpt.\n",
            "INFO:tensorflow:loss = 22.18071, step = 1\n",
            "INFO:tensorflow:global_step/sec: 150.258\n",
            "INFO:tensorflow:loss = 15906.404, step = 101 (0.668 sec)\n",
            "INFO:tensorflow:global_step/sec: 227.153\n",
            "INFO:tensorflow:loss = 19874.74, step = 201 (0.446 sec)\n",
            "INFO:tensorflow:global_step/sec: 226.911\n",
            "INFO:tensorflow:loss = 4671.5347, step = 301 (0.434 sec)\n",
            "INFO:tensorflow:global_step/sec: 225.847\n",
            "INFO:tensorflow:loss = 9890.249, step = 401 (0.442 sec)\n",
            "INFO:tensorflow:global_step/sec: 235.149\n",
            "INFO:tensorflow:loss = 4536.9907, step = 501 (0.427 sec)\n",
            "INFO:tensorflow:global_step/sec: 234.092\n",
            "INFO:tensorflow:loss = 6251.1514, step = 601 (0.426 sec)\n",
            "INFO:tensorflow:global_step/sec: 237.81\n",
            "INFO:tensorflow:loss = 5831.09, step = 701 (0.426 sec)\n",
            "INFO:tensorflow:global_step/sec: 236.832\n",
            "INFO:tensorflow:loss = 23542.617, step = 801 (0.423 sec)\n",
            "INFO:tensorflow:global_step/sec: 225.864\n",
            "INFO:tensorflow:loss = 10704.652, step = 901 (0.437 sec)\n",
            "INFO:tensorflow:global_step/sec: 235.84\n",
            "INFO:tensorflow:loss = 5221.091, step = 1001 (0.423 sec)\n",
            "INFO:tensorflow:global_step/sec: 226.828\n",
            "INFO:tensorflow:loss = 2738.6567, step = 1101 (0.440 sec)\n",
            "INFO:tensorflow:global_step/sec: 228.002\n",
            "INFO:tensorflow:loss = 15804.057, step = 1201 (0.439 sec)\n",
            "INFO:tensorflow:global_step/sec: 214.834\n",
            "INFO:tensorflow:loss = 4587.775, step = 1301 (0.468 sec)\n",
            "INFO:tensorflow:global_step/sec: 218.269\n",
            "INFO:tensorflow:loss = 2932.9807, step = 1401 (0.458 sec)\n",
            "INFO:tensorflow:global_step/sec: 213.058\n",
            "INFO:tensorflow:loss = 3379.2085, step = 1501 (0.467 sec)\n",
            "INFO:tensorflow:global_step/sec: 210.853\n",
            "INFO:tensorflow:loss = 1806.468, step = 1601 (0.482 sec)\n",
            "INFO:tensorflow:global_step/sec: 203.431\n",
            "INFO:tensorflow:loss = 4901.2036, step = 1701 (0.486 sec)\n",
            "INFO:tensorflow:global_step/sec: 215.883\n",
            "INFO:tensorflow:loss = 3794.2236, step = 1801 (0.467 sec)\n",
            "INFO:tensorflow:global_step/sec: 200.169\n",
            "INFO:tensorflow:loss = 9844.798, step = 1901 (0.498 sec)\n",
            "INFO:tensorflow:global_step/sec: 199.651\n",
            "INFO:tensorflow:loss = 11591.236, step = 2001 (0.497 sec)\n",
            "INFO:tensorflow:global_step/sec: 198.148\n",
            "INFO:tensorflow:loss = 6276.951, step = 2101 (0.507 sec)\n",
            "INFO:tensorflow:global_step/sec: 205.739\n",
            "INFO:tensorflow:loss = 4602.2183, step = 2201 (0.489 sec)\n",
            "INFO:tensorflow:global_step/sec: 216.553\n",
            "INFO:tensorflow:loss = 6022.43, step = 2301 (0.462 sec)\n",
            "INFO:tensorflow:global_step/sec: 208.631\n",
            "INFO:tensorflow:loss = 2128.2295, step = 2401 (0.484 sec)\n",
            "INFO:tensorflow:global_step/sec: 210.292\n",
            "INFO:tensorflow:loss = 1451.8428, step = 2501 (0.470 sec)\n",
            "INFO:tensorflow:global_step/sec: 205.238\n",
            "INFO:tensorflow:loss = 2544.6392, step = 2601 (0.486 sec)\n",
            "INFO:tensorflow:global_step/sec: 215.134\n",
            "INFO:tensorflow:loss = 762.1319, step = 2701 (0.467 sec)\n",
            "INFO:tensorflow:global_step/sec: 219.644\n",
            "INFO:tensorflow:loss = 12996.166, step = 2801 (0.452 sec)\n",
            "INFO:tensorflow:global_step/sec: 210.589\n",
            "INFO:tensorflow:loss = 991.87085, step = 2901 (0.483 sec)\n",
            "INFO:tensorflow:global_step/sec: 203.884\n",
            "INFO:tensorflow:loss = 696.6598, step = 3001 (0.486 sec)\n",
            "INFO:tensorflow:global_step/sec: 185.935\n",
            "INFO:tensorflow:loss = 5632.5225, step = 3101 (0.540 sec)\n",
            "INFO:tensorflow:global_step/sec: 213.97\n",
            "INFO:tensorflow:loss = 1047.343, step = 3201 (0.464 sec)\n",
            "INFO:tensorflow:global_step/sec: 214.429\n",
            "INFO:tensorflow:loss = 894.345, step = 3301 (0.461 sec)\n",
            "INFO:tensorflow:global_step/sec: 211.013\n",
            "INFO:tensorflow:loss = 776.02545, step = 3401 (0.479 sec)\n",
            "INFO:tensorflow:global_step/sec: 220.937\n",
            "INFO:tensorflow:loss = 8950.039, step = 3501 (0.451 sec)\n",
            "INFO:tensorflow:global_step/sec: 218.172\n",
            "INFO:tensorflow:loss = 1867.9154, step = 3601 (0.465 sec)\n",
            "INFO:tensorflow:global_step/sec: 209.444\n",
            "INFO:tensorflow:loss = 779.4767, step = 3701 (0.476 sec)\n",
            "INFO:tensorflow:global_step/sec: 206.44\n",
            "INFO:tensorflow:loss = 2984.6636, step = 3801 (0.477 sec)\n",
            "INFO:tensorflow:global_step/sec: 207.352\n",
            "INFO:tensorflow:loss = 3789.077, step = 3901 (0.489 sec)\n",
            "INFO:tensorflow:global_step/sec: 216.863\n",
            "INFO:tensorflow:loss = 840.11536, step = 4001 (0.461 sec)\n",
            "INFO:tensorflow:global_step/sec: 214.727\n",
            "INFO:tensorflow:loss = 8577.055, step = 4101 (0.467 sec)\n",
            "INFO:tensorflow:global_step/sec: 223.001\n",
            "INFO:tensorflow:loss = 1811.9858, step = 4201 (0.441 sec)\n",
            "INFO:tensorflow:global_step/sec: 210.929\n",
            "INFO:tensorflow:loss = 6633.7705, step = 4301 (0.474 sec)\n",
            "INFO:tensorflow:global_step/sec: 227.643\n",
            "INFO:tensorflow:loss = 938.53906, step = 4401 (0.441 sec)\n",
            "WARNING:tensorflow:It seems that global step (tf.train.get_global_step) has not been increased. Current value (could be stable): 4401 vs previous value: 4401. You could increase the global step by passing tf.train.get_global_step() to Optimizer.apply_gradients or Optimizer.minimize.\n",
            "INFO:tensorflow:global_step/sec: 220.836\n",
            "INFO:tensorflow:loss = 2673.708, step = 4501 (0.451 sec)\n",
            "INFO:tensorflow:global_step/sec: 225.184\n",
            "INFO:tensorflow:loss = 10731.781, step = 4601 (0.444 sec)\n",
            "INFO:tensorflow:global_step/sec: 220.172\n",
            "INFO:tensorflow:loss = 280.9986, step = 4701 (0.454 sec)\n",
            "INFO:tensorflow:global_step/sec: 234.418\n",
            "INFO:tensorflow:loss = 288.9363, step = 4801 (0.430 sec)\n",
            "INFO:tensorflow:global_step/sec: 235.775\n",
            "INFO:tensorflow:loss = 2770.418, step = 4901 (0.419 sec)\n",
            "INFO:tensorflow:global_step/sec: 223.774\n",
            "INFO:tensorflow:loss = 525.33386, step = 5001 (0.450 sec)\n",
            "INFO:tensorflow:global_step/sec: 222.319\n",
            "INFO:tensorflow:loss = 768.0786, step = 5101 (0.447 sec)\n",
            "INFO:tensorflow:global_step/sec: 222.717\n",
            "INFO:tensorflow:loss = 1568.394, step = 5201 (0.449 sec)\n",
            "INFO:tensorflow:global_step/sec: 221.175\n",
            "INFO:tensorflow:loss = 1650.9039, step = 5301 (0.460 sec)\n",
            "INFO:tensorflow:global_step/sec: 226.482\n",
            "INFO:tensorflow:loss = 195.57065, step = 5401 (0.434 sec)\n",
            "INFO:tensorflow:global_step/sec: 226.218\n",
            "INFO:tensorflow:loss = 323.297, step = 5501 (0.444 sec)\n",
            "INFO:tensorflow:global_step/sec: 222.304\n",
            "INFO:tensorflow:loss = 2485.4248, step = 5601 (0.457 sec)\n",
            "INFO:tensorflow:global_step/sec: 226.45\n",
            "INFO:tensorflow:loss = 902.7772, step = 5701 (0.433 sec)\n",
            "INFO:tensorflow:global_step/sec: 228.287\n",
            "INFO:tensorflow:loss = 3297.28, step = 5801 (0.440 sec)\n",
            "INFO:tensorflow:global_step/sec: 224.678\n",
            "INFO:tensorflow:loss = 680.13116, step = 5901 (0.444 sec)\n",
            "INFO:tensorflow:global_step/sec: 230.724\n",
            "INFO:tensorflow:loss = 2751.399, step = 6001 (0.434 sec)\n",
            "INFO:tensorflow:global_step/sec: 229.687\n",
            "INFO:tensorflow:loss = 3127.0005, step = 6101 (0.438 sec)\n",
            "INFO:tensorflow:global_step/sec: 225.385\n",
            "INFO:tensorflow:loss = 2208.0151, step = 6201 (0.440 sec)\n",
            "INFO:tensorflow:global_step/sec: 221.524\n",
            "INFO:tensorflow:loss = 6225.869, step = 6301 (0.455 sec)\n",
            "INFO:tensorflow:global_step/sec: 227.652\n",
            "INFO:tensorflow:loss = 999.89417, step = 6401 (0.443 sec)\n",
            "INFO:tensorflow:global_step/sec: 221.216\n",
            "INFO:tensorflow:loss = 3095.8882, step = 6501 (0.447 sec)\n",
            "INFO:tensorflow:global_step/sec: 210.425\n",
            "INFO:tensorflow:loss = 1007.6903, step = 6601 (0.475 sec)\n",
            "INFO:tensorflow:global_step/sec: 218.646\n",
            "INFO:tensorflow:loss = 2908.8716, step = 6701 (0.457 sec)\n",
            "INFO:tensorflow:global_step/sec: 228.191\n",
            "INFO:tensorflow:loss = 788.9626, step = 6801 (0.441 sec)\n",
            "INFO:tensorflow:global_step/sec: 218.428\n",
            "INFO:tensorflow:loss = 4083.4692, step = 6901 (0.458 sec)\n",
            "INFO:tensorflow:global_step/sec: 204.079\n",
            "INFO:tensorflow:loss = 4308.763, step = 7001 (0.485 sec)\n",
            "INFO:tensorflow:global_step/sec: 207.929\n",
            "INFO:tensorflow:loss = 4749.36, step = 7101 (0.487 sec)\n",
            "INFO:tensorflow:global_step/sec: 208.658\n",
            "INFO:tensorflow:loss = 1112.5018, step = 7201 (0.473 sec)\n",
            "INFO:tensorflow:global_step/sec: 212.182\n",
            "INFO:tensorflow:loss = 1762.7598, step = 7301 (0.476 sec)\n",
            "INFO:tensorflow:global_step/sec: 200.744\n",
            "INFO:tensorflow:loss = 1386.3147, step = 7401 (0.497 sec)\n",
            "INFO:tensorflow:global_step/sec: 220.809\n",
            "INFO:tensorflow:loss = 1374.9249, step = 7501 (0.450 sec)\n",
            "INFO:tensorflow:global_step/sec: 226.523\n",
            "INFO:tensorflow:loss = 1637.2411, step = 7601 (0.445 sec)\n",
            "INFO:tensorflow:global_step/sec: 223.487\n",
            "INFO:tensorflow:loss = 2240.6873, step = 7701 (0.447 sec)\n",
            "INFO:tensorflow:global_step/sec: 218.426\n",
            "INFO:tensorflow:loss = 528.60126, step = 7801 (0.461 sec)\n",
            "INFO:tensorflow:global_step/sec: 222.602\n",
            "INFO:tensorflow:loss = 3276.6082, step = 7901 (0.443 sec)\n",
            "INFO:tensorflow:global_step/sec: 219.654\n",
            "INFO:tensorflow:loss = 1388.0992, step = 8001 (0.463 sec)\n",
            "INFO:tensorflow:global_step/sec: 220.045\n",
            "INFO:tensorflow:loss = 1689.1727, step = 8101 (0.450 sec)\n",
            "INFO:tensorflow:global_step/sec: 223.425\n",
            "INFO:tensorflow:loss = 5240.9746, step = 8201 (0.454 sec)\n",
            "INFO:tensorflow:global_step/sec: 229.134\n",
            "INFO:tensorflow:loss = 2950.458, step = 8301 (0.430 sec)\n",
            "INFO:tensorflow:global_step/sec: 224.701\n",
            "INFO:tensorflow:loss = 3443.029, step = 8401 (0.445 sec)\n",
            "INFO:tensorflow:global_step/sec: 225.452\n",
            "INFO:tensorflow:loss = 619.61487, step = 8501 (0.449 sec)\n",
            "INFO:tensorflow:global_step/sec: 220.391\n",
            "INFO:tensorflow:loss = 88.864105, step = 8601 (0.446 sec)\n",
            "INFO:tensorflow:global_step/sec: 224.048\n",
            "INFO:tensorflow:loss = 1915.7203, step = 8701 (0.455 sec)\n",
            "INFO:tensorflow:global_step/sec: 229.136\n",
            "INFO:tensorflow:loss = 1821.717, step = 8801 (0.428 sec)\n",
            "INFO:tensorflow:global_step/sec: 215.937\n",
            "INFO:tensorflow:loss = 4850.1797, step = 8901 (0.471 sec)\n",
            "INFO:tensorflow:global_step/sec: 233.131\n",
            "INFO:tensorflow:loss = 2304.5286, step = 9001 (0.426 sec)\n",
            "INFO:tensorflow:global_step/sec: 228.765\n",
            "INFO:tensorflow:loss = 2826.7583, step = 9101 (0.434 sec)\n",
            "INFO:tensorflow:global_step/sec: 230.789\n",
            "INFO:tensorflow:loss = 954.82465, step = 9201 (0.431 sec)\n",
            "INFO:tensorflow:global_step/sec: 213.228\n",
            "INFO:tensorflow:loss = 490.22586, step = 9301 (0.471 sec)\n",
            "INFO:tensorflow:global_step/sec: 214.487\n",
            "INFO:tensorflow:loss = 359.14203, step = 9401 (0.464 sec)\n",
            "INFO:tensorflow:global_step/sec: 207.661\n",
            "INFO:tensorflow:loss = 810.2899, step = 9501 (0.489 sec)\n",
            "INFO:tensorflow:global_step/sec: 213.521\n",
            "INFO:tensorflow:loss = 1481.5906, step = 9601 (0.461 sec)\n",
            "INFO:tensorflow:global_step/sec: 231.982\n",
            "INFO:tensorflow:loss = 33.539726, step = 9701 (0.431 sec)\n",
            "INFO:tensorflow:global_step/sec: 219.987\n",
            "INFO:tensorflow:loss = 824.0298, step = 9801 (0.457 sec)\n",
            "INFO:tensorflow:global_step/sec: 226.203\n",
            "INFO:tensorflow:loss = 2528.7563, step = 9901 (0.440 sec)\n",
            "INFO:tensorflow:Saving checkpoints for 10000 into /tmp/tmpdoawqqu0/model.ckpt.\n",
            "INFO:tensorflow:Loss for final step: 2299.0657.\n"
          ],
          "name": "stdout"
        },
        {
          "output_type": "execute_result",
          "data": {
            "text/plain": [
              "<tensorflow_estimator.python.estimator.canned.linear.LinearClassifier at 0x7f0a76b9d8d0>"
            ]
          },
          "metadata": {
            "tags": []
          },
          "execution_count": 105
        }
      ]
    },
    {
      "cell_type": "code",
      "metadata": {
        "id": "oMj_1AX1P-o4",
        "colab_type": "code",
        "colab": {
          "base_uri": "https://localhost:8080/",
          "height": 138
        },
        "outputId": "6f65d11f-d568-4cae-fa1f-d39eaf38482d"
      },
      "source": [
        "funcao_previsao = tf.estimator.inputs.pandas_input_fn(x = pessoa_attrs_teste, batch_size = 32, shuffle = False)\n",
        "\n",
        "previsoes = classificador.predict(input_fn = funcao_previsao)\n",
        "\n",
        "previsoes_final = []\n",
        "for p in previsoes:\n",
        "  previsoes_final.append(p['class_ids'])\n",
        "\n",
        "taxa_acerto = accuracy_score(classes_teste, previsoes_final)\n",
        "print(f'taxa de acerto - {taxa_acerto}')"
      ],
      "execution_count": 112,
      "outputs": [
        {
          "output_type": "stream",
          "text": [
            "INFO:tensorflow:Calling model_fn.\n",
            "INFO:tensorflow:Done calling model_fn.\n",
            "INFO:tensorflow:Graph was finalized.\n",
            "INFO:tensorflow:Restoring parameters from /tmp/tmpdoawqqu0/model.ckpt-10000\n",
            "INFO:tensorflow:Running local_init_op.\n",
            "INFO:tensorflow:Done running local_init_op.\n",
            "taxa de acerto - 0.795577848295629\n"
          ],
          "name": "stdout"
        }
      ]
    }
  ]
}